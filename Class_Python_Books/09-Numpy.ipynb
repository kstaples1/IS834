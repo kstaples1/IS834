{
 "cells": [
  {
   "cell_type": "markdown",
   "metadata": {
    "id": "vBGcH1z3_ych",
    "colab_type": "text"
   },
   "source": [
    "# Numpy\n",
    "\n",
    "Numpy is the workhorse underneath a number of our tools that we will be using"
   ]
  },
  {
   "cell_type": "code",
   "execution_count": 0,
   "metadata": {
    "id": "wVNedwwI_3Dd",
    "colab_type": "code",
    "colab": {}
   },
   "outputs": [],
   "source": [
    "## we need to import it\n",
    "import numpy as np\n",
    "import matplotlib.pyplot as plt\n"
   ]
  },
  {
   "cell_type": "code",
   "execution_count": 0,
   "metadata": {
    "id": "SbPyHBnUAAbt",
    "colab_type": "code",
    "colab": {}
   },
   "outputs": [],
   "source": [
    "# generate an array of numbers\n",
    "x = np.arange(2, 10, 2)"
   ]
  },
  {
   "cell_type": "code",
   "execution_count": 0,
   "metadata": {
    "id": "R8bHq99FAEMo",
    "colab_type": "code",
    "colab": {}
   },
   "outputs": [],
   "source": [
    "x"
   ]
  },
  {
   "cell_type": "code",
   "execution_count": 0,
   "metadata": {
    "id": "lAB2TKCvAEjn",
    "colab_type": "code",
    "colab": {}
   },
   "outputs": [],
   "source": [
    "# lets compare it to our list\n",
    "y = [2,4,6,8]\n",
    "print(x)\n",
    "print(y)"
   ]
  },
  {
   "cell_type": "markdown",
   "metadata": {
    "id": "MAKh7_SPAOg4",
    "colab_type": "text"
   },
   "source": [
    "You can think of many of the features that we learned about lists as transferrable, to the most extent, to numpy arrays."
   ]
  },
  {
   "cell_type": "code",
   "execution_count": 0,
   "metadata": {
    "id": "VEKDWMGwAwEC",
    "colab_type": "code",
    "colab": {}
   },
   "outputs": [],
   "source": [
    "# define a np array\n",
    "mylist = [2,4,6,8]\n",
    "print(type(mylist))\n",
    "\n",
    "## easily converible to an np array\n",
    "x = np.array([2,4,6,8])\n",
    "print(type(x))"
   ]
  },
  {
   "cell_type": "code",
   "execution_count": 0,
   "metadata": {
    "id": "TBSp6dEBA7kd",
    "colab_type": "code",
    "colab": {}
   },
   "outputs": [],
   "source": [
    "# numpy arrays can be index\n",
    "print(x)\n",
    "x[0]"
   ]
  },
  {
   "cell_type": "code",
   "execution_count": 0,
   "metadata": {
    "id": "vRAIRSMMBF-y",
    "colab_type": "code",
    "colab": {}
   },
   "outputs": [],
   "source": [
    "# and sliced\n",
    "x[::-1]"
   ]
  },
  {
   "cell_type": "code",
   "execution_count": 0,
   "metadata": {
    "id": "DYDN6ACyBLGr",
    "colab_type": "code",
    "colab": {}
   },
   "outputs": [],
   "source": [
    "x[0:2]"
   ]
  },
  {
   "cell_type": "code",
   "execution_count": 0,
   "metadata": {
    "id": "Atepxs3aBOJ7",
    "colab_type": "code",
    "colab": {}
   },
   "outputs": [],
   "source": [
    "# we can also do some math\n",
    "x.mean()"
   ]
  },
  {
   "cell_type": "code",
   "execution_count": 0,
   "metadata": {
    "id": "rfoKCUxuBTEd",
    "colab_type": "code",
    "colab": {}
   },
   "outputs": [],
   "source": [
    "# lets introduce the shape\n",
    "x.shape"
   ]
  },
  {
   "cell_type": "markdown",
   "metadata": {
    "id": "z8MNbsZrBYqm",
    "colab_type": "text"
   },
   "source": [
    "This is a 1 dimensional array in python terms.  Somewhat like a singular column in Excel.  However, unlike lists, there is a very big difference"
   ]
  },
  {
   "cell_type": "code",
   "execution_count": 0,
   "metadata": {
    "id": "EqOkdzdVBjZF",
    "colab_type": "code",
    "colab": {}
   },
   "outputs": [],
   "source": [
    "x = [1,2,4,\"A\"]\n",
    "type(x)"
   ]
  },
  {
   "cell_type": "code",
   "execution_count": 0,
   "metadata": {
    "id": "S55Ay2OVBoyz",
    "colab_type": "code",
    "colab": {}
   },
   "outputs": [],
   "source": [
    "y = np.array([1,2,4,\"A\"])\n",
    "y.dtype"
   ]
  },
  {
   "cell_type": "code",
   "execution_count": 0,
   "metadata": {
    "id": "TH7hFgJUBrJC",
    "colab_type": "code",
    "colab": {}
   },
   "outputs": [],
   "source": [
    "y = np.array([1,2,3])\n",
    "y.dtype"
   ]
  },
  {
   "cell_type": "code",
   "execution_count": 0,
   "metadata": {
    "id": "XZRaQ4aCB26V",
    "colab_type": "code",
    "colab": {}
   },
   "outputs": [],
   "source": [
    ""
   ]
  },
  {
   "cell_type": "code",
   "execution_count": 0,
   "metadata": {
    "id": "jJXTiHhlB6cR",
    "colab_type": "code",
    "colab": {}
   },
   "outputs": [],
   "source": [
    ""
   ]
  }
 ],
 "metadata": {
  "colab": {
   "name": "09-Numpy.ipynb",
   "version": "0.3.2",
   "provenance": [],
   "collapsed_sections": []
  },
  "kernelspec": {
   "name": "python3",
   "display_name": "Python 3"
  }
 },
 "nbformat": 4,
 "nbformat_minor": 0
}
