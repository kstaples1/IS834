{
 "cells": [
  {
   "cell_type": "markdown",
   "metadata": {
    "id": "mSVf3l5LJwlw",
    "colab_type": "text"
   },
   "source": [
    "# About this notebook\n",
    "\n",
    "\n"
   ]
  },
  {
   "cell_type": "markdown",
   "metadata": {
    "id": "hs9Wc2uVRFPd",
    "colab_type": "text"
   },
   "source": [
    "This notebook is a very-very fast-paced example of a brief analytics project in python.  \n",
    "\n",
    "## Goals for this module\n",
    "\n",
    "\n",
    "1.  Get used to working through a python notebook and start to bulid muscle memory in executing the cells\n",
    "2.  Increase your comfort navigating around Google Colab and the notebook interface for data analysis\n",
    "3.  By the end of this module (notebook), you will executed python code to import, inspect, visualize, and analyze a dataset.\n",
    "\n"
   ]
  },
  {
   "cell_type": "markdown",
   "metadata": {
    "id": "bFBw0--FRhsu",
    "colab_type": "text"
   },
   "source": [
    "## The Exercise"
   ]
  },
  {
   "cell_type": "markdown",
   "metadata": {
    "id": "NWpl9JAORkFq",
    "colab_type": "text"
   },
   "source": [
    "The 2018-19 NHL All Star Weekend is occuring this weekend, so this analysis will explore NHL play-by-play data and predict the probability that a given shot on net will be a goal.\n",
    "\n",
    "https://www.kaggle.com/kemical/kickstarter-projects\n",
    "\n"
   ]
  },
  {
   "cell_type": "markdown",
   "metadata": {
    "id": "FqpVosU_WiVK",
    "colab_type": "text"
   },
   "source": [
    "# Get the Data Final"
   ]
  },
  {
   "cell_type": "markdown",
   "metadata": {
    "id": "Mz0_eI4CWmcA",
    "colab_type": "text"
   },
   "source": [
    "First, lets upload the file by using a script within the Colab notebook to allow the ability to upload files from our local machine to our **temporary** cloud server doing the analytics work for us.\n",
    "\n",
    "This takes a few minutes and is dependent on the bandwidth we have available to us.  It's just easy to think about how to share data for a project.\n",
    "\n"
   ]
  },
  {
   "cell_type": "markdown",
   "metadata": {
    "id": "IdRC2iOuWl8c",
    "colab_type": "text"
   },
   "source": [
    "I am going to assume that we link the folder we need.  I shared the file within QTools, and that you have brought the file"
   ]
  },
  {
   "cell_type": "markdown",
   "metadata": {
    "id": "jwB52X7aXOWS",
    "colab_type": "text"
   },
   "source": [
    "# Get the data"
   ]
  },
  {
   "cell_type": "markdown",
   "metadata": {
    "id": "lDYOgD3JXQHg",
    "colab_type": "text"
   },
   "source": [
    "First, we get the dataset.  To spare the providers servers, I have already downloaded the dataset and placed it at an alternative location for the class."
   ]
  },
  {
   "cell_type": "code",
   "execution_count": 1,
   "metadata": {
    "id": "4v1pRVlxM8aL",
    "colab_type": "code",
    "outputId": "9e8e905d-a05e-45d3-a79d-4857d712cd2e",
    "executionInfo": {
     "status": "ok",
     "timestamp": 1.54825113966E12,
     "user_tz": 300.0,
     "elapsed": 6518.0,
     "user": {
      "displayName": "Brock Tibert",
      "photoUrl": "https://lh3.googleusercontent.com/-s3QAsX4GRNQ/AAAAAAAAAAI/AAAAAAAAAIs/JgHTawG2l40/s64/photo.jpg",
      "userId": "14394532531997762262"
     }
    },
    "colab": {
     "base_uri": "https://localhost:8080/",
     "height": 204.0
    }
   },
   "outputs": [
    {
     "name": "stdout",
     "output_type": "stream",
     "text": [
      "--2019-01-23 13:45:33--  http://peter-tanner.com/moneypuck/downloads/shots_2018.zip\n",
      "Resolving peter-tanner.com (peter-tanner.com)... 52.216.131.10\n",
      "Connecting to peter-tanner.com (peter-tanner.com)|52.216.131.10|:80... connected.\n",
      "HTTP request sent, awaiting response... 200 OK\n",
      "Length: 10586879 (10M) [application/zip]\n",
      "Saving to: ‘shots.zip’\n",
      "\n",
      "shots.zip           100%[===================>]  10.10M  66.9MB/s    in 0.2s    \n",
      "\n",
      "2019-01-23 13:45:39 (66.9 MB/s) - ‘shots.zip’ saved [10586879/10586879]\n",
      "\n"
     ]
    }
   ],
   "source": [
    "!wget -O shots.zip http://peter-tanner.com/moneypuck/downloads/shots_2018.zip"
   ]
  },
  {
   "cell_type": "markdown",
   "metadata": {
    "id": "O-cr3ZUhaHgg",
    "colab_type": "text"
   },
   "source": [
    "> **NOTE**:  *Above, the use of `!` is a \"magics\" command and will be referenced later.  This command tells the interpreter to execute a command on the system and that it is not a valid python command. This will make sense later*"
   ]
  },
  {
   "cell_type": "code",
   "execution_count": 2,
   "metadata": {
    "id": "cWDGqyJLefD2",
    "colab_type": "code",
    "outputId": "8e840fc8-aa11-474e-e4be-103832bdfede",
    "executionInfo": {
     "status": "ok",
     "timestamp": 1.54825115104E12,
     "user_tz": 300.0,
     "elapsed": 959.0,
     "user": {
      "displayName": "Brock Tibert",
      "photoUrl": "https://lh3.googleusercontent.com/-s3QAsX4GRNQ/AAAAAAAAAAI/AAAAAAAAAIs/JgHTawG2l40/s64/photo.jpg",
      "userId": "14394532531997762262"
     }
    },
    "colab": {
     "base_uri": "https://localhost:8080/",
     "height": 34.0
    }
   },
   "outputs": [
    {
     "name": "stdout",
     "output_type": "stream",
     "text": [
      "sample_data  shots.zip\n"
     ]
    }
   ],
   "source": [
    "!ls"
   ]
  },
  {
   "cell_type": "markdown",
   "metadata": {
    "id": "ou_SFACuPaCW",
    "colab_type": "text"
   },
   "source": [
    "**The** workhorse of analyzing data in python is `pandas`, a library built specifically for analytics.  I am going to load that package below and read in the csv file in 1 simple line of code.\n",
    "\n"
   ]
  },
  {
   "cell_type": "code",
   "execution_count": 0,
   "metadata": {
    "id": "asQx9XVLejm5",
    "colab_type": "code",
    "colab": {}
   },
   "outputs": [],
   "source": [
    "# import pandas and read in the csv into a dataframe called shots\n",
    "import pandas as pd\n",
    "shots = pd.read_csv('shots.zip')"
   ]
  },
  {
   "cell_type": "code",
   "execution_count": 0,
   "metadata": {
    "id": "ntsHm5cdfEkz",
    "colab_type": "code",
    "outputId": "fdf134eb-1ceb-4de1-9e97-f569e29b5c09",
    "executionInfo": {
     "status": "ok",
     "timestamp": 1.548182407665E12,
     "user_tz": 300.0,
     "elapsed": 315.0,
     "user": {
      "displayName": "Brock Tibert",
      "photoUrl": "",
      "userId": "13148801170360632626"
     }
    },
    "colab": {
     "base_uri": "https://localhost:8080/",
     "height": 35.0
    }
   },
   "outputs": [
    {
     "data": {
      "text/plain": [
       "(65497, 124)"
      ]
     },
     "execution_count": 4,
     "metadata": {
      "tags": []
     },
     "output_type": "execute_result"
    }
   ],
   "source": [
    "# what is the shape of the data?\n",
    "shots.shape"
   ]
  },
  {
   "cell_type": "markdown",
   "metadata": {
    "id": "ZEftUGWx5BUn",
    "colab_type": "text"
   },
   "source": [
    "## About the data\n",
    "\n",
    "The data are all the shots (towards the net) for the 2018/19 season, as of 1/21/2019.  We can see there are more than 65K shots, and 124 columns of data describing those shots.\n",
    "\n",
    "There is also a data dictionary, we will get that below."
   ]
  },
  {
   "cell_type": "code",
   "execution_count": 0,
   "metadata": {
    "id": "wuY_4Y-FPQGv",
    "colab_type": "code",
    "outputId": "8968e8cb-7f97-4744-9da1-d21293d30bc3",
    "executionInfo": {
     "status": "ok",
     "timestamp": 1.548182412263E12,
     "user_tz": 300.0,
     "elapsed": 595.0,
     "user": {
      "displayName": "Brock Tibert",
      "photoUrl": "",
      "userId": "13148801170360632626"
     }
    },
    "colab": {
     "base_uri": "https://localhost:8080/",
     "height": 35.0
    }
   },
   "outputs": [
    {
     "data": {
      "text/plain": [
       "(160, 3)"
      ]
     },
     "execution_count": 5,
     "metadata": {
      "tags": []
     },
     "output_type": "execute_result"
    }
   ],
   "source": [
    "# get the data dictionary for the dataset\n",
    "ddurl = \"http://peter-tanner.com/moneypuck/downloads/MoneyPuck_Shot_Data_Dictionary.csv\"\n",
    "dd = pd.read_csv(ddurl)\n",
    "dd.shape"
   ]
  },
  {
   "cell_type": "code",
   "execution_count": 0,
   "metadata": {
    "id": "jGDuunxodQj9",
    "colab_type": "code",
    "outputId": "bdcb39a4-e048-4dde-fce2-792d0d006672",
    "executionInfo": {
     "status": "ok",
     "timestamp": 1.548182413074E12,
     "user_tz": 300.0,
     "elapsed": 313.0,
     "user": {
      "displayName": "Brock Tibert",
      "photoUrl": "",
      "userId": "13148801170360632626"
     }
    },
    "colab": {
     "base_uri": "https://localhost:8080/",
     "height": 198.0
    }
   },
   "outputs": [
    {
     "data": {
      "text/html": [
       "<div>\n",
       "<style scoped>\n",
       "    .dataframe tbody tr th:only-of-type {\n",
       "        vertical-align: middle;\n",
       "    }\n",
       "\n",
       "    .dataframe tbody tr th {\n",
       "        vertical-align: top;\n",
       "    }\n",
       "\n",
       "    .dataframe thead th {\n",
       "        text-align: right;\n",
       "    }\n",
       "</style>\n",
       "<table border=\"1\" class=\"dataframe\">\n",
       "  <thead>\n",
       "    <tr style=\"text-align: right;\">\n",
       "      <th></th>\n",
       "      <th>Variable</th>\n",
       "      <th>Definition</th>\n",
       "      <th>Unnamed: 2</th>\n",
       "    </tr>\n",
       "  </thead>\n",
       "  <tbody>\n",
       "    <tr>\n",
       "      <th>0</th>\n",
       "      <td>shotID</td>\n",
       "      <td>Unique id for each shot</td>\n",
       "      <td>NaN</td>\n",
       "    </tr>\n",
       "    <tr>\n",
       "      <th>1</th>\n",
       "      <td>homeTeamCode</td>\n",
       "      <td>The home team in the game. For example: TOR, M...</td>\n",
       "      <td>NaN</td>\n",
       "    </tr>\n",
       "    <tr>\n",
       "      <th>2</th>\n",
       "      <td>awayTeamCode</td>\n",
       "      <td>The away team in the game</td>\n",
       "      <td>NaN</td>\n",
       "    </tr>\n",
       "    <tr>\n",
       "      <th>3</th>\n",
       "      <td>season</td>\n",
       "      <td>Season the shot took place in. Example: 2009 f...</td>\n",
       "      <td>NaN</td>\n",
       "    </tr>\n",
       "    <tr>\n",
       "      <th>4</th>\n",
       "      <td>isPlayoffGame</td>\n",
       "      <td>Set to 1 if a playoff game, otherwise 0</td>\n",
       "      <td>NaN</td>\n",
       "    </tr>\n",
       "  </tbody>\n",
       "</table>\n",
       "</div>"
      ],
      "text/plain": [
       "        Variable                                         Definition Unnamed: 2\n",
       "0         shotID                            Unique id for each shot        NaN\n",
       "1   homeTeamCode  The home team in the game. For example: TOR, M...        NaN\n",
       "2   awayTeamCode                          The away team in the game        NaN\n",
       "3         season  Season the shot took place in. Example: 2009 f...        NaN\n",
       "4  isPlayoffGame            Set to 1 if a playoff game, otherwise 0        NaN"
      ]
     },
     "execution_count": 6,
     "metadata": {
      "tags": []
     },
     "output_type": "execute_result"
    }
   ],
   "source": [
    "# what does the data dictionary look like?\n",
    "dd.head()"
   ]
  },
  {
   "cell_type": "code",
   "execution_count": 0,
   "metadata": {
    "id": "NgOgLBdY1cin",
    "colab_type": "code",
    "colab": {}
   },
   "outputs": [],
   "source": [
    "## only keep the first two columns, looks like a rogue entry in the csv\n",
    "dd_clean = dd[['Variable', 'Definition']]"
   ]
  },
  {
   "cell_type": "code",
   "execution_count": 0,
   "metadata": {
    "id": "ORz8h6cM2RcQ",
    "colab_type": "code",
    "outputId": "a4c77dd1-6fd5-48b7-edc5-9ac7dc1fd907",
    "executionInfo": {
     "status": "ok",
     "timestamp": 1.548182418059E12,
     "user_tz": 300.0,
     "elapsed": 436.0,
     "user": {
      "displayName": "Brock Tibert",
      "photoUrl": "",
      "userId": "13148801170360632626"
     }
    },
    "colab": {
     "base_uri": "https://localhost:8080/",
     "height": 198.0
    }
   },
   "outputs": [
    {
     "data": {
      "text/html": [
       "<div>\n",
       "<style scoped>\n",
       "    .dataframe tbody tr th:only-of-type {\n",
       "        vertical-align: middle;\n",
       "    }\n",
       "\n",
       "    .dataframe tbody tr th {\n",
       "        vertical-align: top;\n",
       "    }\n",
       "\n",
       "    .dataframe thead th {\n",
       "        text-align: right;\n",
       "    }\n",
       "</style>\n",
       "<table border=\"1\" class=\"dataframe\">\n",
       "  <thead>\n",
       "    <tr style=\"text-align: right;\">\n",
       "      <th></th>\n",
       "      <th>Variable</th>\n",
       "      <th>Definition</th>\n",
       "    </tr>\n",
       "  </thead>\n",
       "  <tbody>\n",
       "    <tr>\n",
       "      <th>0</th>\n",
       "      <td>shotID</td>\n",
       "      <td>Unique id for each shot</td>\n",
       "    </tr>\n",
       "    <tr>\n",
       "      <th>1</th>\n",
       "      <td>homeTeamCode</td>\n",
       "      <td>The home team in the game. For example: TOR, M...</td>\n",
       "    </tr>\n",
       "    <tr>\n",
       "      <th>2</th>\n",
       "      <td>awayTeamCode</td>\n",
       "      <td>The away team in the game</td>\n",
       "    </tr>\n",
       "    <tr>\n",
       "      <th>3</th>\n",
       "      <td>season</td>\n",
       "      <td>Season the shot took place in. Example: 2009 f...</td>\n",
       "    </tr>\n",
       "    <tr>\n",
       "      <th>4</th>\n",
       "      <td>isPlayoffGame</td>\n",
       "      <td>Set to 1 if a playoff game, otherwise 0</td>\n",
       "    </tr>\n",
       "  </tbody>\n",
       "</table>\n",
       "</div>"
      ],
      "text/plain": [
       "        Variable                                         Definition\n",
       "0         shotID                            Unique id for each shot\n",
       "1   homeTeamCode  The home team in the game. For example: TOR, M...\n",
       "2   awayTeamCode                          The away team in the game\n",
       "3         season  Season the shot took place in. Example: 2009 f...\n",
       "4  isPlayoffGame            Set to 1 if a playoff game, otherwise 0"
      ]
     },
     "execution_count": 8,
     "metadata": {
      "tags": []
     },
     "output_type": "execute_result"
    }
   ],
   "source": [
    "## quick peak to make sure its what we expected\n",
    "dd_clean.head()"
   ]
  },
  {
   "cell_type": "markdown",
   "metadata": {
    "id": "SnSzqgLg4Msn",
    "colab_type": "text"
   },
   "source": [
    "# Explore the dataset"
   ]
  },
  {
   "cell_type": "markdown",
   "metadata": {
    "id": "F6uHYKXbcLib",
    "colab_type": "text"
   },
   "source": [
    "## Cleanup the data"
   ]
  },
  {
   "cell_type": "code",
   "execution_count": 0,
   "metadata": {
    "id": "mHrKir0l5cb3",
    "colab_type": "code",
    "outputId": "5040a144-74b3-41c1-ffa9-99392d4d9d32",
    "executionInfo": {
     "status": "ok",
     "timestamp": 1.548180968643E12,
     "user_tz": 300.0,
     "elapsed": 320.0,
     "user": {
      "displayName": "Brock Tibert",
      "photoUrl": "",
      "userId": "13148801170360632626"
     }
    },
    "colab": {
     "base_uri": "https://localhost:8080/",
     "height": 247.0
    }
   },
   "outputs": [
    {
     "data": {
      "text/html": [
       "<div>\n",
       "<style scoped>\n",
       "    .dataframe tbody tr th:only-of-type {\n",
       "        vertical-align: middle;\n",
       "    }\n",
       "\n",
       "    .dataframe tbody tr th {\n",
       "        vertical-align: top;\n",
       "    }\n",
       "\n",
       "    .dataframe thead th {\n",
       "        text-align: right;\n",
       "    }\n",
       "</style>\n",
       "<table border=\"1\" class=\"dataframe\">\n",
       "  <thead>\n",
       "    <tr style=\"text-align: right;\">\n",
       "      <th></th>\n",
       "      <th>shotID</th>\n",
       "      <th>arenaAdjustedShotDistance</th>\n",
       "      <th>arenaAdjustedXCord</th>\n",
       "      <th>arenaAdjustedXCordABS</th>\n",
       "      <th>arenaAdjustedYCord</th>\n",
       "      <th>arenaAdjustedYCordAbs</th>\n",
       "      <th>averageRestDifference</th>\n",
       "      <th>awayEmptyNet</th>\n",
       "      <th>awayPenalty1Length</th>\n",
       "      <th>awayPenalty1TimeLeft</th>\n",
       "      <th>...</th>\n",
       "      <th>xCordAdjusted</th>\n",
       "      <th>xFroze</th>\n",
       "      <th>xGoal</th>\n",
       "      <th>xPlayContinuedInZone</th>\n",
       "      <th>xPlayContinuedOutsideZone</th>\n",
       "      <th>xPlayStopped</th>\n",
       "      <th>xRebound</th>\n",
       "      <th>xShotWasOnGoal</th>\n",
       "      <th>yCord</th>\n",
       "      <th>yCordAdjusted</th>\n",
       "    </tr>\n",
       "  </thead>\n",
       "  <tbody>\n",
       "    <tr>\n",
       "      <th>0</th>\n",
       "      <td>0</td>\n",
       "      <td>23.0</td>\n",
       "      <td>77.0</td>\n",
       "      <td>77.0</td>\n",
       "      <td>-20.0</td>\n",
       "      <td>20.0</td>\n",
       "      <td>0.0</td>\n",
       "      <td>0</td>\n",
       "      <td>0</td>\n",
       "      <td>0</td>\n",
       "      <td>...</td>\n",
       "      <td>78</td>\n",
       "      <td>0.135886</td>\n",
       "      <td>0.012940</td>\n",
       "      <td>0.444788</td>\n",
       "      <td>0.348042</td>\n",
       "      <td>0.017268</td>\n",
       "      <td>0.041077</td>\n",
       "      <td>0.685858</td>\n",
       "      <td>-19</td>\n",
       "      <td>-19</td>\n",
       "    </tr>\n",
       "    <tr>\n",
       "      <th>1</th>\n",
       "      <td>1</td>\n",
       "      <td>52.0</td>\n",
       "      <td>-38.0</td>\n",
       "      <td>38.0</td>\n",
       "      <td>-10.0</td>\n",
       "      <td>10.0</td>\n",
       "      <td>-18.4</td>\n",
       "      <td>0</td>\n",
       "      <td>0</td>\n",
       "      <td>0</td>\n",
       "      <td>...</td>\n",
       "      <td>37</td>\n",
       "      <td>0.192110</td>\n",
       "      <td>0.017118</td>\n",
       "      <td>0.437222</td>\n",
       "      <td>0.297996</td>\n",
       "      <td>0.018838</td>\n",
       "      <td>0.036716</td>\n",
       "      <td>0.656512</td>\n",
       "      <td>-10</td>\n",
       "      <td>10</td>\n",
       "    </tr>\n",
       "    <tr>\n",
       "      <th>2</th>\n",
       "      <td>2</td>\n",
       "      <td>49.0</td>\n",
       "      <td>46.0</td>\n",
       "      <td>46.0</td>\n",
       "      <td>-24.0</td>\n",
       "      <td>24.0</td>\n",
       "      <td>-3.4</td>\n",
       "      <td>0</td>\n",
       "      <td>0</td>\n",
       "      <td>0</td>\n",
       "      <td>...</td>\n",
       "      <td>47</td>\n",
       "      <td>0.214515</td>\n",
       "      <td>0.011393</td>\n",
       "      <td>0.420332</td>\n",
       "      <td>0.298987</td>\n",
       "      <td>0.022210</td>\n",
       "      <td>0.032564</td>\n",
       "      <td>0.719909</td>\n",
       "      <td>-23</td>\n",
       "      <td>-23</td>\n",
       "    </tr>\n",
       "    <tr>\n",
       "      <th>3</th>\n",
       "      <td>3</td>\n",
       "      <td>29.0</td>\n",
       "      <td>72.0</td>\n",
       "      <td>72.0</td>\n",
       "      <td>23.0</td>\n",
       "      <td>23.0</td>\n",
       "      <td>1.0</td>\n",
       "      <td>0</td>\n",
       "      <td>0</td>\n",
       "      <td>0</td>\n",
       "      <td>...</td>\n",
       "      <td>73</td>\n",
       "      <td>0.180232</td>\n",
       "      <td>0.035586</td>\n",
       "      <td>0.419079</td>\n",
       "      <td>0.308328</td>\n",
       "      <td>0.020442</td>\n",
       "      <td>0.036333</td>\n",
       "      <td>0.782247</td>\n",
       "      <td>22</td>\n",
       "      <td>22</td>\n",
       "    </tr>\n",
       "    <tr>\n",
       "      <th>4</th>\n",
       "      <td>4</td>\n",
       "      <td>42.0</td>\n",
       "      <td>50.0</td>\n",
       "      <td>50.0</td>\n",
       "      <td>15.0</td>\n",
       "      <td>15.0</td>\n",
       "      <td>1.0</td>\n",
       "      <td>0</td>\n",
       "      <td>0</td>\n",
       "      <td>0</td>\n",
       "      <td>...</td>\n",
       "      <td>53</td>\n",
       "      <td>0.188735</td>\n",
       "      <td>0.037394</td>\n",
       "      <td>0.415880</td>\n",
       "      <td>0.293482</td>\n",
       "      <td>0.024237</td>\n",
       "      <td>0.040272</td>\n",
       "      <td>0.685284</td>\n",
       "      <td>14</td>\n",
       "      <td>14</td>\n",
       "    </tr>\n",
       "  </tbody>\n",
       "</table>\n",
       "<p>5 rows × 124 columns</p>\n",
       "</div>"
      ],
      "text/plain": [
       "   shotID  arenaAdjustedShotDistance  arenaAdjustedXCord  \\\n",
       "0       0                       23.0                77.0   \n",
       "1       1                       52.0               -38.0   \n",
       "2       2                       49.0                46.0   \n",
       "3       3                       29.0                72.0   \n",
       "4       4                       42.0                50.0   \n",
       "\n",
       "   arenaAdjustedXCordABS  arenaAdjustedYCord  arenaAdjustedYCordAbs  \\\n",
       "0                   77.0               -20.0                   20.0   \n",
       "1                   38.0               -10.0                   10.0   \n",
       "2                   46.0               -24.0                   24.0   \n",
       "3                   72.0                23.0                   23.0   \n",
       "4                   50.0                15.0                   15.0   \n",
       "\n",
       "   averageRestDifference  awayEmptyNet  awayPenalty1Length  \\\n",
       "0                    0.0             0                   0   \n",
       "1                  -18.4             0                   0   \n",
       "2                   -3.4             0                   0   \n",
       "3                    1.0             0                   0   \n",
       "4                    1.0             0                   0   \n",
       "\n",
       "   awayPenalty1TimeLeft      ...        xCordAdjusted    xFroze     xGoal  \\\n",
       "0                     0      ...                   78  0.135886  0.012940   \n",
       "1                     0      ...                   37  0.192110  0.017118   \n",
       "2                     0      ...                   47  0.214515  0.011393   \n",
       "3                     0      ...                   73  0.180232  0.035586   \n",
       "4                     0      ...                   53  0.188735  0.037394   \n",
       "\n",
       "   xPlayContinuedInZone  xPlayContinuedOutsideZone  xPlayStopped  xRebound  \\\n",
       "0              0.444788                   0.348042      0.017268  0.041077   \n",
       "1              0.437222                   0.297996      0.018838  0.036716   \n",
       "2              0.420332                   0.298987      0.022210  0.032564   \n",
       "3              0.419079                   0.308328      0.020442  0.036333   \n",
       "4              0.415880                   0.293482      0.024237  0.040272   \n",
       "\n",
       "   xShotWasOnGoal  yCord  yCordAdjusted  \n",
       "0        0.685858    -19            -19  \n",
       "1        0.656512    -10             10  \n",
       "2        0.719909    -23            -23  \n",
       "3        0.782247     22             22  \n",
       "4        0.685284     14             14  \n",
       "\n",
       "[5 rows x 124 columns]"
      ]
     },
     "execution_count": 6,
     "metadata": {
      "tags": []
     },
     "output_type": "execute_result"
    }
   ],
   "source": [
    "# print out the head and tail of the data\n",
    "shots.head()"
   ]
  },
  {
   "cell_type": "code",
   "execution_count": 0,
   "metadata": {
    "id": "oOq0no8hQeF5",
    "colab_type": "code",
    "outputId": "9eaab9d2-ad62-4630-b643-66aae94bfb1a",
    "executionInfo": {
     "status": "ok",
     "timestamp": 1.548180969531E12,
     "user_tz": 300.0,
     "elapsed": 317.0,
     "user": {
      "displayName": "Brock Tibert",
      "photoUrl": "",
      "userId": "13148801170360632626"
     }
    },
    "colab": {
     "base_uri": "https://localhost:8080/",
     "height": 247.0
    }
   },
   "outputs": [
    {
     "data": {
      "text/html": [
       "<div>\n",
       "<style scoped>\n",
       "    .dataframe tbody tr th:only-of-type {\n",
       "        vertical-align: middle;\n",
       "    }\n",
       "\n",
       "    .dataframe tbody tr th {\n",
       "        vertical-align: top;\n",
       "    }\n",
       "\n",
       "    .dataframe thead th {\n",
       "        text-align: right;\n",
       "    }\n",
       "</style>\n",
       "<table border=\"1\" class=\"dataframe\">\n",
       "  <thead>\n",
       "    <tr style=\"text-align: right;\">\n",
       "      <th></th>\n",
       "      <th>shotID</th>\n",
       "      <th>arenaAdjustedShotDistance</th>\n",
       "      <th>arenaAdjustedXCord</th>\n",
       "      <th>arenaAdjustedXCordABS</th>\n",
       "      <th>arenaAdjustedYCord</th>\n",
       "      <th>arenaAdjustedYCordAbs</th>\n",
       "      <th>averageRestDifference</th>\n",
       "      <th>awayEmptyNet</th>\n",
       "      <th>awayPenalty1Length</th>\n",
       "      <th>awayPenalty1TimeLeft</th>\n",
       "      <th>...</th>\n",
       "      <th>xCordAdjusted</th>\n",
       "      <th>xFroze</th>\n",
       "      <th>xGoal</th>\n",
       "      <th>xPlayContinuedInZone</th>\n",
       "      <th>xPlayContinuedOutsideZone</th>\n",
       "      <th>xPlayStopped</th>\n",
       "      <th>xRebound</th>\n",
       "      <th>xShotWasOnGoal</th>\n",
       "      <th>yCord</th>\n",
       "      <th>yCordAdjusted</th>\n",
       "    </tr>\n",
       "  </thead>\n",
       "  <tbody>\n",
       "    <tr>\n",
       "      <th>65492</th>\n",
       "      <td>325</td>\n",
       "      <td>62.0</td>\n",
       "      <td>41.0</td>\n",
       "      <td>41.0</td>\n",
       "      <td>-39.0</td>\n",
       "      <td>39.0</td>\n",
       "      <td>0.0</td>\n",
       "      <td>0</td>\n",
       "      <td>0</td>\n",
       "      <td>0</td>\n",
       "      <td>...</td>\n",
       "      <td>43</td>\n",
       "      <td>0.121661</td>\n",
       "      <td>0.009361</td>\n",
       "      <td>0.475700</td>\n",
       "      <td>0.339754</td>\n",
       "      <td>0.022325</td>\n",
       "      <td>0.031199</td>\n",
       "      <td>0.570096</td>\n",
       "      <td>-38</td>\n",
       "      <td>-38</td>\n",
       "    </tr>\n",
       "    <tr>\n",
       "      <th>65493</th>\n",
       "      <td>326</td>\n",
       "      <td>16.0</td>\n",
       "      <td>-81.0</td>\n",
       "      <td>81.0</td>\n",
       "      <td>-14.0</td>\n",
       "      <td>14.0</td>\n",
       "      <td>-18.0</td>\n",
       "      <td>0</td>\n",
       "      <td>0</td>\n",
       "      <td>0</td>\n",
       "      <td>...</td>\n",
       "      <td>81</td>\n",
       "      <td>0.193698</td>\n",
       "      <td>0.131337</td>\n",
       "      <td>0.351657</td>\n",
       "      <td>0.221890</td>\n",
       "      <td>0.029867</td>\n",
       "      <td>0.071551</td>\n",
       "      <td>0.761605</td>\n",
       "      <td>-14</td>\n",
       "      <td>14</td>\n",
       "    </tr>\n",
       "    <tr>\n",
       "      <th>65494</th>\n",
       "      <td>327</td>\n",
       "      <td>55.0</td>\n",
       "      <td>39.0</td>\n",
       "      <td>39.0</td>\n",
       "      <td>24.0</td>\n",
       "      <td>24.0</td>\n",
       "      <td>-33.6</td>\n",
       "      <td>0</td>\n",
       "      <td>0</td>\n",
       "      <td>0</td>\n",
       "      <td>...</td>\n",
       "      <td>41</td>\n",
       "      <td>0.195099</td>\n",
       "      <td>0.011838</td>\n",
       "      <td>0.432085</td>\n",
       "      <td>0.306366</td>\n",
       "      <td>0.018286</td>\n",
       "      <td>0.036327</td>\n",
       "      <td>0.690574</td>\n",
       "      <td>23</td>\n",
       "      <td>23</td>\n",
       "    </tr>\n",
       "    <tr>\n",
       "      <th>65495</th>\n",
       "      <td>328</td>\n",
       "      <td>57.0</td>\n",
       "      <td>32.0</td>\n",
       "      <td>32.0</td>\n",
       "      <td>2.0</td>\n",
       "      <td>2.0</td>\n",
       "      <td>7.0</td>\n",
       "      <td>0</td>\n",
       "      <td>0</td>\n",
       "      <td>0</td>\n",
       "      <td>...</td>\n",
       "      <td>34</td>\n",
       "      <td>0.177848</td>\n",
       "      <td>0.019509</td>\n",
       "      <td>0.415977</td>\n",
       "      <td>0.323225</td>\n",
       "      <td>0.024759</td>\n",
       "      <td>0.038682</td>\n",
       "      <td>0.662401</td>\n",
       "      <td>2</td>\n",
       "      <td>2</td>\n",
       "    </tr>\n",
       "    <tr>\n",
       "      <th>65496</th>\n",
       "      <td>329</td>\n",
       "      <td>18.0</td>\n",
       "      <td>-74.0</td>\n",
       "      <td>74.0</td>\n",
       "      <td>9.0</td>\n",
       "      <td>9.0</td>\n",
       "      <td>4.8</td>\n",
       "      <td>0</td>\n",
       "      <td>120</td>\n",
       "      <td>112</td>\n",
       "      <td>...</td>\n",
       "      <td>74</td>\n",
       "      <td>0.245139</td>\n",
       "      <td>0.056891</td>\n",
       "      <td>0.330003</td>\n",
       "      <td>0.245698</td>\n",
       "      <td>0.063091</td>\n",
       "      <td>0.059177</td>\n",
       "      <td>0.859872</td>\n",
       "      <td>9</td>\n",
       "      <td>-9</td>\n",
       "    </tr>\n",
       "  </tbody>\n",
       "</table>\n",
       "<p>5 rows × 124 columns</p>\n",
       "</div>"
      ],
      "text/plain": [
       "       shotID  arenaAdjustedShotDistance  arenaAdjustedXCord  \\\n",
       "65492     325                       62.0                41.0   \n",
       "65493     326                       16.0               -81.0   \n",
       "65494     327                       55.0                39.0   \n",
       "65495     328                       57.0                32.0   \n",
       "65496     329                       18.0               -74.0   \n",
       "\n",
       "       arenaAdjustedXCordABS  arenaAdjustedYCord  arenaAdjustedYCordAbs  \\\n",
       "65492                   41.0               -39.0                   39.0   \n",
       "65493                   81.0               -14.0                   14.0   \n",
       "65494                   39.0                24.0                   24.0   \n",
       "65495                   32.0                 2.0                    2.0   \n",
       "65496                   74.0                 9.0                    9.0   \n",
       "\n",
       "       averageRestDifference  awayEmptyNet  awayPenalty1Length  \\\n",
       "65492                    0.0             0                   0   \n",
       "65493                  -18.0             0                   0   \n",
       "65494                  -33.6             0                   0   \n",
       "65495                    7.0             0                   0   \n",
       "65496                    4.8             0                 120   \n",
       "\n",
       "       awayPenalty1TimeLeft      ...        xCordAdjusted    xFroze     xGoal  \\\n",
       "65492                     0      ...                   43  0.121661  0.009361   \n",
       "65493                     0      ...                   81  0.193698  0.131337   \n",
       "65494                     0      ...                   41  0.195099  0.011838   \n",
       "65495                     0      ...                   34  0.177848  0.019509   \n",
       "65496                   112      ...                   74  0.245139  0.056891   \n",
       "\n",
       "       xPlayContinuedInZone  xPlayContinuedOutsideZone  xPlayStopped  \\\n",
       "65492              0.475700                   0.339754      0.022325   \n",
       "65493              0.351657                   0.221890      0.029867   \n",
       "65494              0.432085                   0.306366      0.018286   \n",
       "65495              0.415977                   0.323225      0.024759   \n",
       "65496              0.330003                   0.245698      0.063091   \n",
       "\n",
       "       xRebound  xShotWasOnGoal  yCord  yCordAdjusted  \n",
       "65492  0.031199        0.570096    -38            -38  \n",
       "65493  0.071551        0.761605    -14             14  \n",
       "65494  0.036327        0.690574     23             23  \n",
       "65495  0.038682        0.662401      2              2  \n",
       "65496  0.059177        0.859872      9             -9  \n",
       "\n",
       "[5 rows x 124 columns]"
      ]
     },
     "execution_count": 7,
     "metadata": {
      "tags": []
     },
     "output_type": "execute_result"
    }
   ],
   "source": [
    "shots.tail()"
   ]
  },
  {
   "cell_type": "code",
   "execution_count": 0,
   "metadata": {
    "id": "MprQzA9oQfcH",
    "colab_type": "code",
    "outputId": "1cb81e3b-2ded-4a4a-c778-36e1635304ea",
    "executionInfo": {
     "status": "ok",
     "timestamp": 1.548180971193E12,
     "user_tz": 300.0,
     "elapsed": 486.0,
     "user": {
      "displayName": "Brock Tibert",
      "photoUrl": "",
      "userId": "13148801170360632626"
     }
    },
    "colab": {
     "base_uri": "https://localhost:8080/",
     "height": 985.0
    }
   },
   "outputs": [
    {
     "name": "stdout",
     "output_type": "stream",
     "text": [
      "['shotID' 'arenaAdjustedShotDistance' 'arenaAdjustedXCord'\n",
      " 'arenaAdjustedXCordABS' 'arenaAdjustedYCord' 'arenaAdjustedYCordAbs'\n",
      " 'averageRestDifference' 'awayEmptyNet' 'awayPenalty1Length'\n",
      " 'awayPenalty1TimeLeft' 'awaySkatersOnIce' 'awayTeamCode' 'awayTeamGoals'\n",
      " 'defendingTeamAverageTimeOnIce'\n",
      " 'defendingTeamAverageTimeOnIceOfDefencemen'\n",
      " 'defendingTeamAverageTimeOnIceOfDefencemenSinceFaceoff'\n",
      " 'defendingTeamAverageTimeOnIceOfForwards'\n",
      " 'defendingTeamAverageTimeOnIceOfForwardsSinceFaceoff'\n",
      " 'defendingTeamAverageTimeOnIceSinceFaceoff'\n",
      " 'defendingTeamDefencemenOnIce' 'defendingTeamForwardsOnIce'\n",
      " 'defendingTeamMaxTimeOnIce' 'defendingTeamMaxTimeOnIceOfDefencemen'\n",
      " 'defendingTeamMaxTimeOnIceOfDefencemenSinceFaceoff'\n",
      " 'defendingTeamMaxTimeOnIceOfForwards'\n",
      " 'defendingTeamMaxTimeOnIceOfForwardsSinceFaceoff'\n",
      " 'defendingTeamMaxTimeOnIceSinceFaceoff' 'defendingTeamMinTimeOnIce'\n",
      " 'defendingTeamMinTimeOnIceOfDefencemen'\n",
      " 'defendingTeamMinTimeOnIceOfDefencemenSinceFaceoff'\n",
      " 'defendingTeamMinTimeOnIceOfForwards'\n",
      " 'defendingTeamMinTimeOnIceOfForwardsSinceFaceoff'\n",
      " 'defendingTeamMinTimeOnIceSinceFaceoff' 'distanceFromLastEvent' 'event'\n",
      " 'game_id' 'goal' 'goalieIdForShot' 'goalieNameForShot' 'homeEmptyNet'\n",
      " 'homePenalty1Length' 'homePenalty1TimeLeft' 'homeSkatersOnIce'\n",
      " 'homeTeamCode' 'homeTeamGoals' 'homeTeamWon' 'id' 'isHomeTeam'\n",
      " 'isPlayoffGame' 'lastEventCategory' 'lastEventShotAngle'\n",
      " 'lastEventShotDistance' 'lastEventTeam' 'lastEventxCord'\n",
      " 'lastEventxCord_adjusted' 'lastEventyCord' 'lastEventyCord_adjusted'\n",
      " 'location' 'offWing' 'period' 'playerNumThatDidEvent'\n",
      " 'playerNumThatDidLastEvent' 'playerPositionThatDidEvent' 'season'\n",
      " 'shooterLeftRight' 'shooterName' 'shooterPlayerId' 'shooterTimeOnIce'\n",
      " 'shooterTimeOnIceSinceFaceoff' 'shootingTeamAverageTimeOnIce'\n",
      " 'shootingTeamAverageTimeOnIceOfDefencemen'\n",
      " 'shootingTeamAverageTimeOnIceOfDefencemenSinceFaceoff'\n",
      " 'shootingTeamAverageTimeOnIceOfForwards'\n",
      " 'shootingTeamAverageTimeOnIceOfForwardsSinceFaceoff'\n",
      " 'shootingTeamAverageTimeOnIceSinceFaceoff' 'shootingTeamDefencemenOnIce'\n",
      " 'shootingTeamForwardsOnIce' 'shootingTeamMaxTimeOnIce'\n",
      " 'shootingTeamMaxTimeOnIceOfDefencemen'\n",
      " 'shootingTeamMaxTimeOnIceOfDefencemenSinceFaceoff'\n",
      " 'shootingTeamMaxTimeOnIceOfForwards'\n",
      " 'shootingTeamMaxTimeOnIceOfForwardsSinceFaceoff'\n",
      " 'shootingTeamMaxTimeOnIceSinceFaceoff' 'shootingTeamMinTimeOnIce'\n",
      " 'shootingTeamMinTimeOnIceOfDefencemen'\n",
      " 'shootingTeamMinTimeOnIceOfDefencemenSinceFaceoff'\n",
      " 'shootingTeamMinTimeOnIceOfForwards'\n",
      " 'shootingTeamMinTimeOnIceOfForwardsSinceFaceoff'\n",
      " 'shootingTeamMinTimeOnIceSinceFaceoff' 'shotAngle' 'shotAngleAdjusted'\n",
      " 'shotAnglePlusRebound' 'shotAnglePlusReboundSpeed'\n",
      " 'shotAngleReboundRoyalRoad' 'shotDistance' 'shotGeneratedRebound'\n",
      " 'shotGoalieFroze' 'shotOnEmptyNet' 'shotPlayContinuedInZone'\n",
      " 'shotPlayContinuedOutsideZone' 'shotPlayStopped' 'shotRebound' 'shotRush'\n",
      " 'shotType' 'shotWasOnGoal' 'speedFromLastEvent' 'team' 'teamCode' 'time'\n",
      " 'timeDifferenceSinceChange' 'timeSinceFaceoff' 'timeSinceLastEvent'\n",
      " 'timeUntilNextEvent' 'xCord' 'xCordAdjusted' 'xFroze' 'xGoal'\n",
      " 'xPlayContinuedInZone' 'xPlayContinuedOutsideZone' 'xPlayStopped'\n",
      " 'xRebound' 'xShotWasOnGoal' 'yCord' 'yCordAdjusted']\n"
     ]
    }
   ],
   "source": [
    "# what are the column names\n",
    "import numpy as np\n",
    "cols = shots.columns\n",
    "print(np.array(cols))"
   ]
  },
  {
   "cell_type": "markdown",
   "metadata": {
    "id": "qkb7wzPfU1XZ",
    "colab_type": "text"
   },
   "source": [
    "Ok, there is a lot to take in there, but you may have noticed that I imported `numpy`.  We will be starting with numpy shortly, but the main reason I did so was because I wanted to print **every** column name.  By default, if there print statements are large, pandas will truncate the output for printing to the screen.  I got around that by printing the columns as a numpy array.  More to come.\n",
    "\n",
    "I don't want all of the columns, so I am going to hand pick a few of the main variables of interest,  but before I make my decision, let's look at a random record's worth of data."
   ]
  },
  {
   "cell_type": "code",
   "execution_count": 0,
   "metadata": {
    "id": "S4yUva8QVeIu",
    "colab_type": "code",
    "outputId": "c5bf4d2d-c2db-49d5-beba-1dfc62d37718",
    "executionInfo": {
     "status": "error",
     "timestamp": 1.548182426526E12,
     "user_tz": 300.0,
     "elapsed": 557.0,
     "user": {
      "displayName": "Brock Tibert",
      "photoUrl": "",
      "userId": "13148801170360632626"
     }
    },
    "colab": {
     "base_uri": "https://localhost:8080/",
     "height": 183.0
    }
   },
   "outputs": [
    {
     "ename": "NameError",
     "evalue": "ignored",
     "traceback": [
      "\u001b[0;31m---------------------------------------------------------------------------\u001b[0m",
      "\u001b[0;31mNameError\u001b[0m                                 Traceback (most recent call last)",
      "\u001b[0;32m<ipython-input-9-310b805fbff8>\u001b[0m in \u001b[0;36m<module>\u001b[0;34m()\u001b[0m\n\u001b[0;32m----> 1\u001b[0;31m \u001b[0mx\u001b[0m \u001b[0;34m=\u001b[0m \u001b[0mnp\u001b[0m\u001b[0;34m.\u001b[0m\u001b[0mrandom\u001b[0m\u001b[0;34m.\u001b[0m\u001b[0mrandint\u001b[0m\u001b[0;34m(\u001b[0m\u001b[0;36m0\u001b[0m\u001b[0;34m,\u001b[0m \u001b[0mlen\u001b[0m\u001b[0;34m(\u001b[0m\u001b[0mshots\u001b[0m\u001b[0;34m)\u001b[0m\u001b[0;34m-\u001b[0m\u001b[0;36m1\u001b[0m\u001b[0;34m,\u001b[0m \u001b[0;36m1\u001b[0m\u001b[0;34m)\u001b[0m\u001b[0;34m\u001b[0m\u001b[0;34m\u001b[0m\u001b[0m\n\u001b[0m\u001b[1;32m      2\u001b[0m \u001b[0mprint\u001b[0m\u001b[0;34m(\u001b[0m\u001b[0mx\u001b[0m\u001b[0;34m)\u001b[0m\u001b[0;34m\u001b[0m\u001b[0;34m\u001b[0m\u001b[0m\n",
      "\u001b[0;31mNameError\u001b[0m: name 'np' is not defined"
     ],
     "output_type": "error"
    }
   ],
   "source": [
    "# random number\n",
    "x = np.random.randint(0, len(shots)-1, 1)\n",
    "print(x)"
   ]
  },
  {
   "cell_type": "code",
   "execution_count": 0,
   "metadata": {
    "id": "Yyo2fRWRV_95",
    "colab_type": "code",
    "outputId": "1b3f673f-e84e-40b2-9152-922705327eed",
    "executionInfo": {
     "status": "ok",
     "timestamp": 1.54818097713E12,
     "user_tz": 300.0,
     "elapsed": 829.0,
     "user": {
      "displayName": "Brock Tibert",
      "photoUrl": "",
      "userId": "13148801170360632626"
     }
    },
    "cellView": "both",
    "colab": {
     "base_uri": "https://localhost:8080/",
     "height": 3768.0
    }
   },
   "outputs": [
    {
     "data": {
      "text/html": [
       "<div>\n",
       "<style scoped>\n",
       "    .dataframe tbody tr th:only-of-type {\n",
       "        vertical-align: middle;\n",
       "    }\n",
       "\n",
       "    .dataframe tbody tr th {\n",
       "        vertical-align: top;\n",
       "    }\n",
       "\n",
       "    .dataframe thead th {\n",
       "        text-align: right;\n",
       "    }\n",
       "</style>\n",
       "<table border=\"1\" class=\"dataframe\">\n",
       "  <thead>\n",
       "    <tr style=\"text-align: right;\">\n",
       "      <th></th>\n",
       "      <th>26983</th>\n",
       "    </tr>\n",
       "  </thead>\n",
       "  <tbody>\n",
       "    <tr>\n",
       "      <th>shotID</th>\n",
       "      <td>26983</td>\n",
       "    </tr>\n",
       "    <tr>\n",
       "      <th>arenaAdjustedShotDistance</th>\n",
       "      <td>48</td>\n",
       "    </tr>\n",
       "    <tr>\n",
       "      <th>arenaAdjustedXCord</th>\n",
       "      <td>44</td>\n",
       "    </tr>\n",
       "    <tr>\n",
       "      <th>arenaAdjustedXCordABS</th>\n",
       "      <td>44</td>\n",
       "    </tr>\n",
       "    <tr>\n",
       "      <th>arenaAdjustedYCord</th>\n",
       "      <td>-17</td>\n",
       "    </tr>\n",
       "    <tr>\n",
       "      <th>arenaAdjustedYCordAbs</th>\n",
       "      <td>17</td>\n",
       "    </tr>\n",
       "    <tr>\n",
       "      <th>averageRestDifference</th>\n",
       "      <td>25.5</td>\n",
       "    </tr>\n",
       "    <tr>\n",
       "      <th>awayEmptyNet</th>\n",
       "      <td>0</td>\n",
       "    </tr>\n",
       "    <tr>\n",
       "      <th>awayPenalty1Length</th>\n",
       "      <td>120</td>\n",
       "    </tr>\n",
       "    <tr>\n",
       "      <th>awayPenalty1TimeLeft</th>\n",
       "      <td>59</td>\n",
       "    </tr>\n",
       "    <tr>\n",
       "      <th>awaySkatersOnIce</th>\n",
       "      <td>4</td>\n",
       "    </tr>\n",
       "    <tr>\n",
       "      <th>awayTeamCode</th>\n",
       "      <td>BUF</td>\n",
       "    </tr>\n",
       "    <tr>\n",
       "      <th>awayTeamGoals</th>\n",
       "      <td>1</td>\n",
       "    </tr>\n",
       "    <tr>\n",
       "      <th>defendingTeamAverageTimeOnIce</th>\n",
       "      <td>35.5</td>\n",
       "    </tr>\n",
       "    <tr>\n",
       "      <th>defendingTeamAverageTimeOnIceOfDefencemen</th>\n",
       "      <td>44</td>\n",
       "    </tr>\n",
       "    <tr>\n",
       "      <th>defendingTeamAverageTimeOnIceOfDefencemenSinceFaceoff</th>\n",
       "      <td>44</td>\n",
       "    </tr>\n",
       "    <tr>\n",
       "      <th>defendingTeamAverageTimeOnIceOfForwards</th>\n",
       "      <td>27</td>\n",
       "    </tr>\n",
       "    <tr>\n",
       "      <th>defendingTeamAverageTimeOnIceOfForwardsSinceFaceoff</th>\n",
       "      <td>27</td>\n",
       "    </tr>\n",
       "    <tr>\n",
       "      <th>defendingTeamAverageTimeOnIceSinceFaceoff</th>\n",
       "      <td>35.5</td>\n",
       "    </tr>\n",
       "    <tr>\n",
       "      <th>defendingTeamDefencemenOnIce</th>\n",
       "      <td>2</td>\n",
       "    </tr>\n",
       "    <tr>\n",
       "      <th>defendingTeamForwardsOnIce</th>\n",
       "      <td>2</td>\n",
       "    </tr>\n",
       "    <tr>\n",
       "      <th>defendingTeamMaxTimeOnIce</th>\n",
       "      <td>61</td>\n",
       "    </tr>\n",
       "    <tr>\n",
       "      <th>defendingTeamMaxTimeOnIceOfDefencemen</th>\n",
       "      <td>61</td>\n",
       "    </tr>\n",
       "    <tr>\n",
       "      <th>defendingTeamMaxTimeOnIceOfDefencemenSinceFaceoff</th>\n",
       "      <td>61</td>\n",
       "    </tr>\n",
       "    <tr>\n",
       "      <th>defendingTeamMaxTimeOnIceOfForwards</th>\n",
       "      <td>27</td>\n",
       "    </tr>\n",
       "    <tr>\n",
       "      <th>defendingTeamMaxTimeOnIceOfForwardsSinceFaceoff</th>\n",
       "      <td>27</td>\n",
       "    </tr>\n",
       "    <tr>\n",
       "      <th>defendingTeamMaxTimeOnIceSinceFaceoff</th>\n",
       "      <td>61</td>\n",
       "    </tr>\n",
       "    <tr>\n",
       "      <th>defendingTeamMinTimeOnIce</th>\n",
       "      <td>27</td>\n",
       "    </tr>\n",
       "    <tr>\n",
       "      <th>defendingTeamMinTimeOnIceOfDefencemen</th>\n",
       "      <td>27</td>\n",
       "    </tr>\n",
       "    <tr>\n",
       "      <th>defendingTeamMinTimeOnIceOfDefencemenSinceFaceoff</th>\n",
       "      <td>27</td>\n",
       "    </tr>\n",
       "    <tr>\n",
       "      <th>defendingTeamMinTimeOnIceOfForwards</th>\n",
       "      <td>27</td>\n",
       "    </tr>\n",
       "    <tr>\n",
       "      <th>defendingTeamMinTimeOnIceOfForwardsSinceFaceoff</th>\n",
       "      <td>27</td>\n",
       "    </tr>\n",
       "    <tr>\n",
       "      <th>defendingTeamMinTimeOnIceSinceFaceoff</th>\n",
       "      <td>27</td>\n",
       "    </tr>\n",
       "    <tr>\n",
       "      <th>distanceFromLastEvent</th>\n",
       "      <td>23.7697</td>\n",
       "    </tr>\n",
       "    <tr>\n",
       "      <th>event</th>\n",
       "      <td>MISS</td>\n",
       "    </tr>\n",
       "    <tr>\n",
       "      <th>game_id</th>\n",
       "      <td>20310</td>\n",
       "    </tr>\n",
       "    <tr>\n",
       "      <th>goal</th>\n",
       "      <td>0</td>\n",
       "    </tr>\n",
       "    <tr>\n",
       "      <th>goalieIdForShot</th>\n",
       "      <td>8475622</td>\n",
       "    </tr>\n",
       "    <tr>\n",
       "      <th>goalieNameForShot</th>\n",
       "      <td>Carter Hutton</td>\n",
       "    </tr>\n",
       "    <tr>\n",
       "      <th>homeEmptyNet</th>\n",
       "      <td>0</td>\n",
       "    </tr>\n",
       "    <tr>\n",
       "      <th>homePenalty1Length</th>\n",
       "      <td>0</td>\n",
       "    </tr>\n",
       "    <tr>\n",
       "      <th>homePenalty1TimeLeft</th>\n",
       "      <td>0</td>\n",
       "    </tr>\n",
       "    <tr>\n",
       "      <th>homeSkatersOnIce</th>\n",
       "      <td>5</td>\n",
       "    </tr>\n",
       "    <tr>\n",
       "      <th>homeTeamCode</th>\n",
       "      <td>PIT</td>\n",
       "    </tr>\n",
       "    <tr>\n",
       "      <th>homeTeamGoals</th>\n",
       "      <td>2</td>\n",
       "    </tr>\n",
       "    <tr>\n",
       "      <th>homeTeamWon</th>\n",
       "      <td>0</td>\n",
       "    </tr>\n",
       "    <tr>\n",
       "      <th>id</th>\n",
       "      <td>109</td>\n",
       "    </tr>\n",
       "    <tr>\n",
       "      <th>isHomeTeam</th>\n",
       "      <td>1</td>\n",
       "    </tr>\n",
       "    <tr>\n",
       "      <th>isPlayoffGame</th>\n",
       "      <td>0</td>\n",
       "    </tr>\n",
       "    <tr>\n",
       "      <th>lastEventCategory</th>\n",
       "      <td>FAC</td>\n",
       "    </tr>\n",
       "    <tr>\n",
       "      <th>lastEventShotAngle</th>\n",
       "      <td>0</td>\n",
       "    </tr>\n",
       "    <tr>\n",
       "      <th>lastEventShotDistance</th>\n",
       "      <td>0</td>\n",
       "    </tr>\n",
       "    <tr>\n",
       "      <th>lastEventTeam</th>\n",
       "      <td>AWAY</td>\n",
       "    </tr>\n",
       "    <tr>\n",
       "      <th>lastEventxCord</th>\n",
       "      <td>69</td>\n",
       "    </tr>\n",
       "    <tr>\n",
       "      <th>lastEventxCord_adjusted</th>\n",
       "      <td>69</td>\n",
       "    </tr>\n",
       "    <tr>\n",
       "      <th>lastEventyCord</th>\n",
       "      <td>-22</td>\n",
       "    </tr>\n",
       "    <tr>\n",
       "      <th>lastEventyCord_adjusted</th>\n",
       "      <td>-22</td>\n",
       "    </tr>\n",
       "    <tr>\n",
       "      <th>location</th>\n",
       "      <td>AWAYZONE</td>\n",
       "    </tr>\n",
       "    <tr>\n",
       "      <th>offWing</th>\n",
       "      <td>1</td>\n",
       "    </tr>\n",
       "    <tr>\n",
       "      <th>period</th>\n",
       "      <td>1</td>\n",
       "    </tr>\n",
       "    <tr>\n",
       "      <th>playerNumThatDidEvent</th>\n",
       "      <td>71</td>\n",
       "    </tr>\n",
       "    <tr>\n",
       "      <th>playerNumThatDidLastEvent</th>\n",
       "      <td>0</td>\n",
       "    </tr>\n",
       "    <tr>\n",
       "      <th>playerPositionThatDidEvent</th>\n",
       "      <td>C</td>\n",
       "    </tr>\n",
       "    <tr>\n",
       "      <th>season</th>\n",
       "      <td>2018</td>\n",
       "    </tr>\n",
       "    <tr>\n",
       "      <th>shooterLeftRight</th>\n",
       "      <td>L</td>\n",
       "    </tr>\n",
       "    <tr>\n",
       "      <th>shooterName</th>\n",
       "      <td>Evgeni Malkin</td>\n",
       "    </tr>\n",
       "    <tr>\n",
       "      <th>shooterPlayerId</th>\n",
       "      <td>8471215</td>\n",
       "    </tr>\n",
       "    <tr>\n",
       "      <th>shooterTimeOnIce</th>\n",
       "      <td>61</td>\n",
       "    </tr>\n",
       "    <tr>\n",
       "      <th>shooterTimeOnIceSinceFaceoff</th>\n",
       "      <td>61</td>\n",
       "    </tr>\n",
       "    <tr>\n",
       "      <th>shootingTeamAverageTimeOnIce</th>\n",
       "      <td>61</td>\n",
       "    </tr>\n",
       "    <tr>\n",
       "      <th>shootingTeamAverageTimeOnIceOfDefencemen</th>\n",
       "      <td>61</td>\n",
       "    </tr>\n",
       "    <tr>\n",
       "      <th>shootingTeamAverageTimeOnIceOfDefencemenSinceFaceoff</th>\n",
       "      <td>61</td>\n",
       "    </tr>\n",
       "    <tr>\n",
       "      <th>shootingTeamAverageTimeOnIceOfForwards</th>\n",
       "      <td>61</td>\n",
       "    </tr>\n",
       "    <tr>\n",
       "      <th>shootingTeamAverageTimeOnIceOfForwardsSinceFaceoff</th>\n",
       "      <td>61</td>\n",
       "    </tr>\n",
       "    <tr>\n",
       "      <th>shootingTeamAverageTimeOnIceSinceFaceoff</th>\n",
       "      <td>61</td>\n",
       "    </tr>\n",
       "    <tr>\n",
       "      <th>shootingTeamDefencemenOnIce</th>\n",
       "      <td>1</td>\n",
       "    </tr>\n",
       "    <tr>\n",
       "      <th>shootingTeamForwardsOnIce</th>\n",
       "      <td>4</td>\n",
       "    </tr>\n",
       "    <tr>\n",
       "      <th>shootingTeamMaxTimeOnIce</th>\n",
       "      <td>61</td>\n",
       "    </tr>\n",
       "    <tr>\n",
       "      <th>shootingTeamMaxTimeOnIceOfDefencemen</th>\n",
       "      <td>61</td>\n",
       "    </tr>\n",
       "    <tr>\n",
       "      <th>shootingTeamMaxTimeOnIceOfDefencemenSinceFaceoff</th>\n",
       "      <td>61</td>\n",
       "    </tr>\n",
       "    <tr>\n",
       "      <th>shootingTeamMaxTimeOnIceOfForwards</th>\n",
       "      <td>61</td>\n",
       "    </tr>\n",
       "    <tr>\n",
       "      <th>shootingTeamMaxTimeOnIceOfForwardsSinceFaceoff</th>\n",
       "      <td>61</td>\n",
       "    </tr>\n",
       "    <tr>\n",
       "      <th>shootingTeamMaxTimeOnIceSinceFaceoff</th>\n",
       "      <td>61</td>\n",
       "    </tr>\n",
       "    <tr>\n",
       "      <th>shootingTeamMinTimeOnIce</th>\n",
       "      <td>61</td>\n",
       "    </tr>\n",
       "    <tr>\n",
       "      <th>shootingTeamMinTimeOnIceOfDefencemen</th>\n",
       "      <td>61</td>\n",
       "    </tr>\n",
       "    <tr>\n",
       "      <th>shootingTeamMinTimeOnIceOfDefencemenSinceFaceoff</th>\n",
       "      <td>61</td>\n",
       "    </tr>\n",
       "    <tr>\n",
       "      <th>shootingTeamMinTimeOnIceOfForwards</th>\n",
       "      <td>61</td>\n",
       "    </tr>\n",
       "    <tr>\n",
       "      <th>shootingTeamMinTimeOnIceOfForwardsSinceFaceoff</th>\n",
       "      <td>61</td>\n",
       "    </tr>\n",
       "    <tr>\n",
       "      <th>shootingTeamMinTimeOnIceSinceFaceoff</th>\n",
       "      <td>61</td>\n",
       "    </tr>\n",
       "    <tr>\n",
       "      <th>shotAngle</th>\n",
       "      <td>-20.4099</td>\n",
       "    </tr>\n",
       "    <tr>\n",
       "      <th>shotAngleAdjusted</th>\n",
       "      <td>20.4099</td>\n",
       "    </tr>\n",
       "    <tr>\n",
       "      <th>shotAnglePlusRebound</th>\n",
       "      <td>0</td>\n",
       "    </tr>\n",
       "    <tr>\n",
       "      <th>shotAnglePlusReboundSpeed</th>\n",
       "      <td>0</td>\n",
       "    </tr>\n",
       "    <tr>\n",
       "      <th>shotAngleReboundRoyalRoad</th>\n",
       "      <td>0</td>\n",
       "    </tr>\n",
       "    <tr>\n",
       "      <th>shotDistance</th>\n",
       "      <td>45.8803</td>\n",
       "    </tr>\n",
       "    <tr>\n",
       "      <th>shotGeneratedRebound</th>\n",
       "      <td>0</td>\n",
       "    </tr>\n",
       "    <tr>\n",
       "      <th>shotGoalieFroze</th>\n",
       "      <td>0</td>\n",
       "    </tr>\n",
       "    <tr>\n",
       "      <th>shotOnEmptyNet</th>\n",
       "      <td>0</td>\n",
       "    </tr>\n",
       "    <tr>\n",
       "      <th>shotPlayContinuedInZone</th>\n",
       "      <td>1</td>\n",
       "    </tr>\n",
       "    <tr>\n",
       "      <th>shotPlayContinuedOutsideZone</th>\n",
       "      <td>0</td>\n",
       "    </tr>\n",
       "    <tr>\n",
       "      <th>shotPlayStopped</th>\n",
       "      <td>0</td>\n",
       "    </tr>\n",
       "    <tr>\n",
       "      <th>shotRebound</th>\n",
       "      <td>0</td>\n",
       "    </tr>\n",
       "    <tr>\n",
       "      <th>shotRush</th>\n",
       "      <td>0</td>\n",
       "    </tr>\n",
       "    <tr>\n",
       "      <th>shotType</th>\n",
       "      <td>SLAP</td>\n",
       "    </tr>\n",
       "    <tr>\n",
       "      <th>shotWasOnGoal</th>\n",
       "      <td>0</td>\n",
       "    </tr>\n",
       "    <tr>\n",
       "      <th>speedFromLastEvent</th>\n",
       "      <td>0.389668</td>\n",
       "    </tr>\n",
       "    <tr>\n",
       "      <th>team</th>\n",
       "      <td>HOME</td>\n",
       "    </tr>\n",
       "    <tr>\n",
       "      <th>teamCode</th>\n",
       "      <td>PIT</td>\n",
       "    </tr>\n",
       "    <tr>\n",
       "      <th>time</th>\n",
       "      <td>1071</td>\n",
       "    </tr>\n",
       "    <tr>\n",
       "      <th>timeDifferenceSinceChange</th>\n",
       "      <td>34</td>\n",
       "    </tr>\n",
       "    <tr>\n",
       "      <th>timeSinceFaceoff</th>\n",
       "      <td>61</td>\n",
       "    </tr>\n",
       "    <tr>\n",
       "      <th>timeSinceLastEvent</th>\n",
       "      <td>61</td>\n",
       "    </tr>\n",
       "    <tr>\n",
       "      <th>timeUntilNextEvent</th>\n",
       "      <td>23</td>\n",
       "    </tr>\n",
       "    <tr>\n",
       "      <th>xCord</th>\n",
       "      <td>46</td>\n",
       "    </tr>\n",
       "    <tr>\n",
       "      <th>xCordAdjusted</th>\n",
       "      <td>46</td>\n",
       "    </tr>\n",
       "    <tr>\n",
       "      <th>xFroze</th>\n",
       "      <td>0.129449</td>\n",
       "    </tr>\n",
       "    <tr>\n",
       "      <th>xGoal</th>\n",
       "      <td>0.0490433</td>\n",
       "    </tr>\n",
       "    <tr>\n",
       "      <th>xPlayContinuedInZone</th>\n",
       "      <td>0.45857</td>\n",
       "    </tr>\n",
       "    <tr>\n",
       "      <th>xPlayContinuedOutsideZone</th>\n",
       "      <td>0.285844</td>\n",
       "    </tr>\n",
       "    <tr>\n",
       "      <th>xPlayStopped</th>\n",
       "      <td>0.0204532</td>\n",
       "    </tr>\n",
       "    <tr>\n",
       "      <th>xRebound</th>\n",
       "      <td>0.0566406</td>\n",
       "    </tr>\n",
       "    <tr>\n",
       "      <th>xShotWasOnGoal</th>\n",
       "      <td>0.64151</td>\n",
       "    </tr>\n",
       "    <tr>\n",
       "      <th>yCord</th>\n",
       "      <td>-16</td>\n",
       "    </tr>\n",
       "    <tr>\n",
       "      <th>yCordAdjusted</th>\n",
       "      <td>-16</td>\n",
       "    </tr>\n",
       "  </tbody>\n",
       "</table>\n",
       "</div>"
      ],
      "text/plain": [
       "                                                            26983\n",
       "shotID                                                      26983\n",
       "arenaAdjustedShotDistance                                      48\n",
       "arenaAdjustedXCord                                             44\n",
       "arenaAdjustedXCordABS                                          44\n",
       "arenaAdjustedYCord                                            -17\n",
       "arenaAdjustedYCordAbs                                          17\n",
       "averageRestDifference                                        25.5\n",
       "awayEmptyNet                                                    0\n",
       "awayPenalty1Length                                            120\n",
       "awayPenalty1TimeLeft                                           59\n",
       "awaySkatersOnIce                                                4\n",
       "awayTeamCode                                                  BUF\n",
       "awayTeamGoals                                                   1\n",
       "defendingTeamAverageTimeOnIce                                35.5\n",
       "defendingTeamAverageTimeOnIceOfDefencemen                      44\n",
       "defendingTeamAverageTimeOnIceOfDefencemenSinceF...             44\n",
       "defendingTeamAverageTimeOnIceOfForwards                        27\n",
       "defendingTeamAverageTimeOnIceOfForwardsSinceFac...             27\n",
       "defendingTeamAverageTimeOnIceSinceFaceoff                    35.5\n",
       "defendingTeamDefencemenOnIce                                    2\n",
       "defendingTeamForwardsOnIce                                      2\n",
       "defendingTeamMaxTimeOnIce                                      61\n",
       "defendingTeamMaxTimeOnIceOfDefencemen                          61\n",
       "defendingTeamMaxTimeOnIceOfDefencemenSinceFaceoff              61\n",
       "defendingTeamMaxTimeOnIceOfForwards                            27\n",
       "defendingTeamMaxTimeOnIceOfForwardsSinceFaceoff                27\n",
       "defendingTeamMaxTimeOnIceSinceFaceoff                          61\n",
       "defendingTeamMinTimeOnIce                                      27\n",
       "defendingTeamMinTimeOnIceOfDefencemen                          27\n",
       "defendingTeamMinTimeOnIceOfDefencemenSinceFaceoff              27\n",
       "defendingTeamMinTimeOnIceOfForwards                            27\n",
       "defendingTeamMinTimeOnIceOfForwardsSinceFaceoff                27\n",
       "defendingTeamMinTimeOnIceSinceFaceoff                          27\n",
       "distanceFromLastEvent                                     23.7697\n",
       "event                                                        MISS\n",
       "game_id                                                     20310\n",
       "goal                                                            0\n",
       "goalieIdForShot                                           8475622\n",
       "goalieNameForShot                                   Carter Hutton\n",
       "homeEmptyNet                                                    0\n",
       "homePenalty1Length                                              0\n",
       "homePenalty1TimeLeft                                            0\n",
       "homeSkatersOnIce                                                5\n",
       "homeTeamCode                                                  PIT\n",
       "homeTeamGoals                                                   2\n",
       "homeTeamWon                                                     0\n",
       "id                                                            109\n",
       "isHomeTeam                                                      1\n",
       "isPlayoffGame                                                   0\n",
       "lastEventCategory                                             FAC\n",
       "lastEventShotAngle                                              0\n",
       "lastEventShotDistance                                           0\n",
       "lastEventTeam                                                AWAY\n",
       "lastEventxCord                                                 69\n",
       "lastEventxCord_adjusted                                        69\n",
       "lastEventyCord                                                -22\n",
       "lastEventyCord_adjusted                                       -22\n",
       "location                                                 AWAYZONE\n",
       "offWing                                                         1\n",
       "period                                                          1\n",
       "playerNumThatDidEvent                                          71\n",
       "playerNumThatDidLastEvent                                       0\n",
       "playerPositionThatDidEvent                                      C\n",
       "season                                                       2018\n",
       "shooterLeftRight                                                L\n",
       "shooterName                                         Evgeni Malkin\n",
       "shooterPlayerId                                           8471215\n",
       "shooterTimeOnIce                                               61\n",
       "shooterTimeOnIceSinceFaceoff                                   61\n",
       "shootingTeamAverageTimeOnIce                                   61\n",
       "shootingTeamAverageTimeOnIceOfDefencemen                       61\n",
       "shootingTeamAverageTimeOnIceOfDefencemenSinceFa...             61\n",
       "shootingTeamAverageTimeOnIceOfForwards                         61\n",
       "shootingTeamAverageTimeOnIceOfForwardsSinceFaceoff             61\n",
       "shootingTeamAverageTimeOnIceSinceFaceoff                       61\n",
       "shootingTeamDefencemenOnIce                                     1\n",
       "shootingTeamForwardsOnIce                                       4\n",
       "shootingTeamMaxTimeOnIce                                       61\n",
       "shootingTeamMaxTimeOnIceOfDefencemen                           61\n",
       "shootingTeamMaxTimeOnIceOfDefencemenSinceFaceoff               61\n",
       "shootingTeamMaxTimeOnIceOfForwards                             61\n",
       "shootingTeamMaxTimeOnIceOfForwardsSinceFaceoff                 61\n",
       "shootingTeamMaxTimeOnIceSinceFaceoff                           61\n",
       "shootingTeamMinTimeOnIce                                       61\n",
       "shootingTeamMinTimeOnIceOfDefencemen                           61\n",
       "shootingTeamMinTimeOnIceOfDefencemenSinceFaceoff               61\n",
       "shootingTeamMinTimeOnIceOfForwards                             61\n",
       "shootingTeamMinTimeOnIceOfForwardsSinceFaceoff                 61\n",
       "shootingTeamMinTimeOnIceSinceFaceoff                           61\n",
       "shotAngle                                                -20.4099\n",
       "shotAngleAdjusted                                         20.4099\n",
       "shotAnglePlusRebound                                            0\n",
       "shotAnglePlusReboundSpeed                                       0\n",
       "shotAngleReboundRoyalRoad                                       0\n",
       "shotDistance                                              45.8803\n",
       "shotGeneratedRebound                                            0\n",
       "shotGoalieFroze                                                 0\n",
       "shotOnEmptyNet                                                  0\n",
       "shotPlayContinuedInZone                                         1\n",
       "shotPlayContinuedOutsideZone                                    0\n",
       "shotPlayStopped                                                 0\n",
       "shotRebound                                                     0\n",
       "shotRush                                                        0\n",
       "shotType                                                     SLAP\n",
       "shotWasOnGoal                                                   0\n",
       "speedFromLastEvent                                       0.389668\n",
       "team                                                         HOME\n",
       "teamCode                                                      PIT\n",
       "time                                                         1071\n",
       "timeDifferenceSinceChange                                      34\n",
       "timeSinceFaceoff                                               61\n",
       "timeSinceLastEvent                                             61\n",
       "timeUntilNextEvent                                             23\n",
       "xCord                                                          46\n",
       "xCordAdjusted                                                  46\n",
       "xFroze                                                   0.129449\n",
       "xGoal                                                   0.0490433\n",
       "xPlayContinuedInZone                                      0.45857\n",
       "xPlayContinuedOutsideZone                                0.285844\n",
       "xPlayStopped                                            0.0204532\n",
       "xRebound                                                0.0566406\n",
       "xShotWasOnGoal                                            0.64151\n",
       "yCord                                                         -16\n",
       "yCordAdjusted                                                 -16"
      ]
     },
     "execution_count": 10,
     "metadata": {
      "tags": []
     },
     "output_type": "execute_result"
    }
   ],
   "source": [
    "#@title\n",
    "# set the printing to show all rows, select a record and transpose it\n",
    "pd.options.display.max_rows = 999 \n",
    "shots.iloc[x, :].transpose()\n"
   ]
  },
  {
   "cell_type": "code",
   "execution_count": 0,
   "metadata": {
    "id": "x4_Y9H50WYgQ",
    "colab_type": "code",
    "colab": {}
   },
   "outputs": [],
   "source": [
    "# columns to keep\n",
    "keep_cols = ['shotID', 'game_id', 'event', 'goal', 'team', 'teamCode','awaySkatersOnIce', 'awayTeamCode', \n",
    "             'awayTeamGoals','homeSkatersOnIce', 'homeTeamCode', 'homeTeamGoals', \n",
    "             'homeEmptyNet','awayEmptyNet', 'shotAngle', 'shotAngleAdjusted', 'shotType', \n",
    "             'shotRush','shotRebound','xCordAdjusted','yCordAdjusted']\n",
    "\n",
    "# select only those columns into a new dataframe called shot_data\n",
    "shot_data = shots[keep_cols]"
   ]
  },
  {
   "cell_type": "code",
   "execution_count": 0,
   "metadata": {
    "id": "8NmyjkFYa2uV",
    "colab_type": "code",
    "outputId": "6dadbb6d-ed6e-4207-f5b4-1979e1412e6a",
    "executionInfo": {
     "status": "ok",
     "timestamp": 1.548184175256E12,
     "user_tz": 300.0,
     "elapsed": 281.0,
     "user": {
      "displayName": "Brock Tibert",
      "photoUrl": "",
      "userId": "13148801170360632626"
     }
    },
    "colab": {
     "base_uri": "https://localhost:8080/",
     "height": 35.0
    }
   },
   "outputs": [
    {
     "data": {
      "text/plain": [
       "(65497, 21)"
      ]
     },
     "execution_count": 38,
     "metadata": {
      "tags": []
     },
     "output_type": "execute_result"
    }
   ],
   "source": [
    "shot_data.shape"
   ]
  },
  {
   "cell_type": "code",
   "execution_count": 0,
   "metadata": {
    "id": "xJ1pFaR0a4LW",
    "colab_type": "code",
    "outputId": "556f971b-422b-4dff-d9ec-79c92c9b8c7d",
    "executionInfo": {
     "status": "ok",
     "timestamp": 1.548184176146E12,
     "user_tz": 300.0,
     "elapsed": 364.0,
     "user": {
      "displayName": "Brock Tibert",
      "photoUrl": "",
      "userId": "13148801170360632626"
     }
    },
    "colab": {
     "base_uri": "https://localhost:8080/",
     "height": 247.0
    }
   },
   "outputs": [
    {
     "data": {
      "text/html": [
       "<div>\n",
       "<style scoped>\n",
       "    .dataframe tbody tr th:only-of-type {\n",
       "        vertical-align: middle;\n",
       "    }\n",
       "\n",
       "    .dataframe tbody tr th {\n",
       "        vertical-align: top;\n",
       "    }\n",
       "\n",
       "    .dataframe thead th {\n",
       "        text-align: right;\n",
       "    }\n",
       "</style>\n",
       "<table border=\"1\" class=\"dataframe\">\n",
       "  <thead>\n",
       "    <tr style=\"text-align: right;\">\n",
       "      <th></th>\n",
       "      <th>shotID</th>\n",
       "      <th>game_id</th>\n",
       "      <th>event</th>\n",
       "      <th>goal</th>\n",
       "      <th>team</th>\n",
       "      <th>teamCode</th>\n",
       "      <th>awaySkatersOnIce</th>\n",
       "      <th>awayTeamCode</th>\n",
       "      <th>awayTeamGoals</th>\n",
       "      <th>homeSkatersOnIce</th>\n",
       "      <th>...</th>\n",
       "      <th>homeTeamGoals</th>\n",
       "      <th>homeEmptyNet</th>\n",
       "      <th>awayEmptyNet</th>\n",
       "      <th>shotAngle</th>\n",
       "      <th>shotAngleAdjusted</th>\n",
       "      <th>shotType</th>\n",
       "      <th>shotRush</th>\n",
       "      <th>shotRebound</th>\n",
       "      <th>xCordAdjusted</th>\n",
       "      <th>yCordAdjusted</th>\n",
       "    </tr>\n",
       "  </thead>\n",
       "  <tbody>\n",
       "    <tr>\n",
       "      <th>0</th>\n",
       "      <td>0</td>\n",
       "      <td>20001</td>\n",
       "      <td>SHOT</td>\n",
       "      <td>0</td>\n",
       "      <td>AWAY</td>\n",
       "      <td>MTL</td>\n",
       "      <td>5</td>\n",
       "      <td>MTL</td>\n",
       "      <td>0</td>\n",
       "      <td>5</td>\n",
       "      <td>...</td>\n",
       "      <td>0</td>\n",
       "      <td>0</td>\n",
       "      <td>0</td>\n",
       "      <td>-59.931417</td>\n",
       "      <td>59.931417</td>\n",
       "      <td>BACK</td>\n",
       "      <td>0</td>\n",
       "      <td>0</td>\n",
       "      <td>78</td>\n",
       "      <td>-19</td>\n",
       "    </tr>\n",
       "    <tr>\n",
       "      <th>1</th>\n",
       "      <td>1</td>\n",
       "      <td>20001</td>\n",
       "      <td>SHOT</td>\n",
       "      <td>0</td>\n",
       "      <td>HOME</td>\n",
       "      <td>TOR</td>\n",
       "      <td>5</td>\n",
       "      <td>MTL</td>\n",
       "      <td>0</td>\n",
       "      <td>5</td>\n",
       "      <td>...</td>\n",
       "      <td>0</td>\n",
       "      <td>0</td>\n",
       "      <td>0</td>\n",
       "      <td>10.885527</td>\n",
       "      <td>10.885527</td>\n",
       "      <td>SNAP</td>\n",
       "      <td>0</td>\n",
       "      <td>0</td>\n",
       "      <td>37</td>\n",
       "      <td>10</td>\n",
       "    </tr>\n",
       "    <tr>\n",
       "      <th>2</th>\n",
       "      <td>2</td>\n",
       "      <td>20001</td>\n",
       "      <td>SHOT</td>\n",
       "      <td>0</td>\n",
       "      <td>AWAY</td>\n",
       "      <td>MTL</td>\n",
       "      <td>5</td>\n",
       "      <td>MTL</td>\n",
       "      <td>0</td>\n",
       "      <td>5</td>\n",
       "      <td>...</td>\n",
       "      <td>0</td>\n",
       "      <td>0</td>\n",
       "      <td>0</td>\n",
       "      <td>-28.705953</td>\n",
       "      <td>28.705953</td>\n",
       "      <td>WRIST</td>\n",
       "      <td>0</td>\n",
       "      <td>0</td>\n",
       "      <td>47</td>\n",
       "      <td>-23</td>\n",
       "    </tr>\n",
       "    <tr>\n",
       "      <th>3</th>\n",
       "      <td>3</td>\n",
       "      <td>20001</td>\n",
       "      <td>MISS</td>\n",
       "      <td>0</td>\n",
       "      <td>AWAY</td>\n",
       "      <td>MTL</td>\n",
       "      <td>5</td>\n",
       "      <td>MTL</td>\n",
       "      <td>0</td>\n",
       "      <td>5</td>\n",
       "      <td>...</td>\n",
       "      <td>0</td>\n",
       "      <td>0</td>\n",
       "      <td>0</td>\n",
       "      <td>53.972627</td>\n",
       "      <td>53.972627</td>\n",
       "      <td>SNAP</td>\n",
       "      <td>0</td>\n",
       "      <td>0</td>\n",
       "      <td>73</td>\n",
       "      <td>22</td>\n",
       "    </tr>\n",
       "    <tr>\n",
       "      <th>4</th>\n",
       "      <td>4</td>\n",
       "      <td>20001</td>\n",
       "      <td>SHOT</td>\n",
       "      <td>0</td>\n",
       "      <td>AWAY</td>\n",
       "      <td>MTL</td>\n",
       "      <td>5</td>\n",
       "      <td>MTL</td>\n",
       "      <td>0</td>\n",
       "      <td>5</td>\n",
       "      <td>...</td>\n",
       "      <td>0</td>\n",
       "      <td>0</td>\n",
       "      <td>0</td>\n",
       "      <td>21.250506</td>\n",
       "      <td>21.250506</td>\n",
       "      <td>SNAP</td>\n",
       "      <td>0</td>\n",
       "      <td>0</td>\n",
       "      <td>53</td>\n",
       "      <td>14</td>\n",
       "    </tr>\n",
       "  </tbody>\n",
       "</table>\n",
       "<p>5 rows × 21 columns</p>\n",
       "</div>"
      ],
      "text/plain": [
       "   shotID  game_id event  goal  team teamCode  awaySkatersOnIce awayTeamCode  \\\n",
       "0       0    20001  SHOT     0  AWAY      MTL                 5          MTL   \n",
       "1       1    20001  SHOT     0  HOME      TOR                 5          MTL   \n",
       "2       2    20001  SHOT     0  AWAY      MTL                 5          MTL   \n",
       "3       3    20001  MISS     0  AWAY      MTL                 5          MTL   \n",
       "4       4    20001  SHOT     0  AWAY      MTL                 5          MTL   \n",
       "\n",
       "   awayTeamGoals  homeSkatersOnIce      ...       homeTeamGoals  homeEmptyNet  \\\n",
       "0              0                 5      ...                   0             0   \n",
       "1              0                 5      ...                   0             0   \n",
       "2              0                 5      ...                   0             0   \n",
       "3              0                 5      ...                   0             0   \n",
       "4              0                 5      ...                   0             0   \n",
       "\n",
       "   awayEmptyNet  shotAngle  shotAngleAdjusted  shotType shotRush  shotRebound  \\\n",
       "0             0 -59.931417          59.931417      BACK        0            0   \n",
       "1             0  10.885527          10.885527      SNAP        0            0   \n",
       "2             0 -28.705953          28.705953     WRIST        0            0   \n",
       "3             0  53.972627          53.972627      SNAP        0            0   \n",
       "4             0  21.250506          21.250506      SNAP        0            0   \n",
       "\n",
       "   xCordAdjusted  yCordAdjusted  \n",
       "0             78            -19  \n",
       "1             37             10  \n",
       "2             47            -23  \n",
       "3             73             22  \n",
       "4             53             14  \n",
       "\n",
       "[5 rows x 21 columns]"
      ]
     },
     "execution_count": 39,
     "metadata": {
      "tags": []
     },
     "output_type": "execute_result"
    }
   ],
   "source": [
    "shot_data.head()"
   ]
  },
  {
   "cell_type": "markdown",
   "metadata": {
    "id": "VroJ3RAQa5XT",
    "colab_type": "text"
   },
   "source": [
    "Ok, the data are much more manageable.  Let's start to really look into the data more closely."
   ]
  },
  {
   "cell_type": "markdown",
   "metadata": {
    "id": "lT--AcJbcIIF",
    "colab_type": "text"
   },
   "source": [
    "## Look into the data"
   ]
  },
  {
   "cell_type": "code",
   "execution_count": 0,
   "metadata": {
    "id": "6Y1CdJXPcRir",
    "colab_type": "code",
    "outputId": "dda90009-f22a-486e-92ea-f9208b55e87a",
    "executionInfo": {
     "status": "ok",
     "timestamp": 1.548184178416E12,
     "user_tz": 300.0,
     "elapsed": 435.0,
     "user": {
      "displayName": "Brock Tibert",
      "photoUrl": "",
      "userId": "13148801170360632626"
     }
    },
    "colab": {
     "base_uri": "https://localhost:8080/",
     "height": 86.0
    }
   },
   "outputs": [
    {
     "data": {
      "text/plain": [
       "SHOT    42790\n",
       "MISS    18117\n",
       "GOAL     4590\n",
       "Name: event, dtype: int64"
      ]
     },
     "execution_count": 40,
     "metadata": {
      "tags": []
     },
     "output_type": "execute_result"
    }
   ],
   "source": [
    "# what type of events exist, and how many of each - ensure missing data are INCLUDED\n",
    "shot_data.event.value_counts(dropna=False)"
   ]
  },
  {
   "cell_type": "code",
   "execution_count": 0,
   "metadata": {
    "id": "k81y91BfcZGb",
    "colab_type": "code",
    "outputId": "62422122-2aec-4f50-db4d-25664ba75b47",
    "executionInfo": {
     "status": "ok",
     "timestamp": 1.548184178952E12,
     "user_tz": 300.0,
     "elapsed": 339.0,
     "user": {
      "displayName": "Brock Tibert",
      "photoUrl": "",
      "userId": "13148801170360632626"
     }
    },
    "colab": {
     "base_uri": "https://localhost:8080/",
     "height": 173.0
    }
   },
   "outputs": [
    {
     "data": {
      "text/plain": [
       "NaN         39\n",
       "DEFL      1552\n",
       "BACK      4946\n",
       "SNAP      8968\n",
       "WRAP       604\n",
       "SLAP     10156\n",
       "WRIST    34831\n",
       "TIP       4401\n",
       "Name: shotType, dtype: int64"
      ]
     },
     "execution_count": 41,
     "metadata": {
      "tags": []
     },
     "output_type": "execute_result"
    }
   ],
   "source": [
    "# what type of shots exist\n",
    "shot_data['shotType'].value_counts(dropna=False, sort=False)"
   ]
  },
  {
   "cell_type": "markdown",
   "metadata": {
    "id": "9fZTeRvvdUW6",
    "colab_type": "text"
   },
   "source": [
    "Ok, we can see from above that the events all have valid values, but when looking into the shot types, there are nearly 40 records where the type is unknown.  "
   ]
  },
  {
   "cell_type": "code",
   "execution_count": 0,
   "metadata": {
    "id": "qAyVOCEBdyjF",
    "colab_type": "code",
    "outputId": "2955e3d0-6591-468e-b65c-c8c48c261992",
    "executionInfo": {
     "status": "ok",
     "timestamp": 1.548184180398E12,
     "user_tz": 300.0,
     "elapsed": 394.0,
     "user": {
      "displayName": "Brock Tibert",
      "photoUrl": "",
      "userId": "13148801170360632626"
     }
    },
    "colab": {
     "base_uri": "https://localhost:8080/",
     "height": 35.0
    }
   },
   "outputs": [
    {
     "data": {
      "text/plain": [
       "0.0005954471197154068"
      ]
     },
     "execution_count": 42,
     "metadata": {
      "tags": []
     },
     "output_type": "execute_result"
    }
   ],
   "source": [
    "# calc the % of records with shot type unknown\n",
    "sum(pd.isnull(shot_data['shotType'])) / len(shot_data)"
   ]
  },
  {
   "cell_type": "markdown",
   "metadata": {
    "id": "LXwNuw20eCnx",
    "colab_type": "text"
   },
   "source": [
    "Since this is such a tiny fraction of our data, remove these rows."
   ]
  },
  {
   "cell_type": "code",
   "execution_count": 0,
   "metadata": {
    "id": "TQbucNc4ezFF",
    "colab_type": "code",
    "outputId": "cb2fb512-5146-489c-f31f-2f241060de0f",
    "executionInfo": {
     "status": "ok",
     "timestamp": 1.548184181766E12,
     "user_tz": 300.0,
     "elapsed": 333.0,
     "user": {
      "displayName": "Brock Tibert",
      "photoUrl": "",
      "userId": "13148801170360632626"
     }
    },
    "colab": {
     "base_uri": "https://localhost:8080/",
     "height": 121.0
    }
   },
   "outputs": [
    {
     "data": {
      "text/plain": [
       "0    True\n",
       "1    True\n",
       "2    True\n",
       "3    True\n",
       "4    True\n",
       "Name: shotType, dtype: bool"
      ]
     },
     "execution_count": 43,
     "metadata": {
      "tags": []
     },
     "output_type": "execute_result"
    }
   ],
   "source": [
    "# evaluate each record to see if it is missing\n",
    "type_missing = shot_data.shotType.notna()\n",
    "type_missing[:5]"
   ]
  },
  {
   "cell_type": "code",
   "execution_count": 0,
   "metadata": {
    "id": "Xokcv6QDfAwv",
    "colab_type": "code",
    "outputId": "712ed54f-a432-48d0-b01c-8339d73c38ee",
    "executionInfo": {
     "status": "ok",
     "timestamp": 1.548184182364E12,
     "user_tz": 300.0,
     "elapsed": 158.0,
     "user": {
      "displayName": "Brock Tibert",
      "photoUrl": "",
      "userId": "13148801170360632626"
     }
    },
    "colab": {
     "base_uri": "https://localhost:8080/",
     "height": 35.0
    }
   },
   "outputs": [
    {
     "data": {
      "text/plain": [
       "(65458, 21)"
      ]
     },
     "execution_count": 44,
     "metadata": {
      "tags": []
     },
     "output_type": "execute_result"
    }
   ],
   "source": [
    "# keep just the records where the shotType is not missing (True)\n",
    "shot_data = shot_data[type_missing]\n",
    "shot_data.shape"
   ]
  },
  {
   "cell_type": "code",
   "execution_count": 0,
   "metadata": {
    "id": "xJHqXlr0fByn",
    "colab_type": "code",
    "outputId": "a91ae5c3-2b7e-422f-a7cd-06376a58aaab",
    "executionInfo": {
     "status": "ok",
     "timestamp": 1.548184183277E12,
     "user_tz": 300.0,
     "elapsed": 494.0,
     "user": {
      "displayName": "Brock Tibert",
      "photoUrl": "",
      "userId": "13148801170360632626"
     }
    },
    "colab": {
     "base_uri": "https://localhost:8080/",
     "height": 35.0
    }
   },
   "outputs": [
    {
     "data": {
      "text/plain": [
       "-39"
      ]
     },
     "execution_count": 45,
     "metadata": {
      "tags": []
     },
     "output_type": "execute_result"
    }
   ],
   "source": [
    "# confirm that we removed the rows of interest\n",
    "len(shot_data) - len(shots)"
   ]
  },
  {
   "cell_type": "code",
   "execution_count": 0,
   "metadata": {
    "id": "Li6p2IsmfEtK",
    "colab_type": "code",
    "outputId": "30294cd3-6a40-4b2b-d98b-8a2843edfa56",
    "executionInfo": {
     "status": "ok",
     "timestamp": 1.548184183987E12,
     "user_tz": 300.0,
     "elapsed": 457.0,
     "user": {
      "displayName": "Brock Tibert",
      "photoUrl": "",
      "userId": "13148801170360632626"
     }
    },
    "colab": {
     "base_uri": "https://localhost:8080/",
     "height": 498.0
    }
   },
   "outputs": [
    {
     "data": {
      "text/html": [
       "<div>\n",
       "<style scoped>\n",
       "    .dataframe tbody tr th:only-of-type {\n",
       "        vertical-align: middle;\n",
       "    }\n",
       "\n",
       "    .dataframe tbody tr th {\n",
       "        vertical-align: top;\n",
       "    }\n",
       "\n",
       "    .dataframe thead th {\n",
       "        text-align: right;\n",
       "    }\n",
       "</style>\n",
       "<table border=\"1\" class=\"dataframe\">\n",
       "  <thead>\n",
       "    <tr style=\"text-align: right;\">\n",
       "      <th></th>\n",
       "      <th>count</th>\n",
       "      <th>mean</th>\n",
       "      <th>std</th>\n",
       "      <th>min</th>\n",
       "      <th>25%</th>\n",
       "      <th>50%</th>\n",
       "      <th>75%</th>\n",
       "      <th>max</th>\n",
       "    </tr>\n",
       "  </thead>\n",
       "  <tbody>\n",
       "    <tr>\n",
       "      <th>shotID</th>\n",
       "      <td>65458.0</td>\n",
       "      <td>32421.161921</td>\n",
       "      <td>18904.179606</td>\n",
       "      <td>0.000000</td>\n",
       "      <td>16046.250000</td>\n",
       "      <td>32422.500000</td>\n",
       "      <td>48790.750000</td>\n",
       "      <td>65166.000000</td>\n",
       "    </tr>\n",
       "    <tr>\n",
       "      <th>game_id</th>\n",
       "      <td>65458.0</td>\n",
       "      <td>20377.107199</td>\n",
       "      <td>218.629243</td>\n",
       "      <td>20001.000000</td>\n",
       "      <td>20188.000000</td>\n",
       "      <td>20374.000000</td>\n",
       "      <td>20567.000000</td>\n",
       "      <td>20759.000000</td>\n",
       "    </tr>\n",
       "    <tr>\n",
       "      <th>goal</th>\n",
       "      <td>65458.0</td>\n",
       "      <td>0.069938</td>\n",
       "      <td>0.255044</td>\n",
       "      <td>0.000000</td>\n",
       "      <td>0.000000</td>\n",
       "      <td>0.000000</td>\n",
       "      <td>0.000000</td>\n",
       "      <td>1.000000</td>\n",
       "    </tr>\n",
       "    <tr>\n",
       "      <th>awaySkatersOnIce</th>\n",
       "      <td>65458.0</td>\n",
       "      <td>4.890525</td>\n",
       "      <td>0.389245</td>\n",
       "      <td>3.000000</td>\n",
       "      <td>5.000000</td>\n",
       "      <td>5.000000</td>\n",
       "      <td>5.000000</td>\n",
       "      <td>6.000000</td>\n",
       "    </tr>\n",
       "    <tr>\n",
       "      <th>awayTeamGoals</th>\n",
       "      <td>65458.0</td>\n",
       "      <td>1.295701</td>\n",
       "      <td>1.347718</td>\n",
       "      <td>0.000000</td>\n",
       "      <td>0.000000</td>\n",
       "      <td>1.000000</td>\n",
       "      <td>2.000000</td>\n",
       "      <td>9.000000</td>\n",
       "    </tr>\n",
       "    <tr>\n",
       "      <th>homeSkatersOnIce</th>\n",
       "      <td>65458.0</td>\n",
       "      <td>4.895811</td>\n",
       "      <td>0.375052</td>\n",
       "      <td>2.000000</td>\n",
       "      <td>5.000000</td>\n",
       "      <td>5.000000</td>\n",
       "      <td>5.000000</td>\n",
       "      <td>7.000000</td>\n",
       "    </tr>\n",
       "    <tr>\n",
       "      <th>homeTeamGoals</th>\n",
       "      <td>65458.0</td>\n",
       "      <td>1.496654</td>\n",
       "      <td>1.491121</td>\n",
       "      <td>0.000000</td>\n",
       "      <td>0.000000</td>\n",
       "      <td>1.000000</td>\n",
       "      <td>2.000000</td>\n",
       "      <td>9.000000</td>\n",
       "    </tr>\n",
       "    <tr>\n",
       "      <th>homeEmptyNet</th>\n",
       "      <td>65458.0</td>\n",
       "      <td>0.011779</td>\n",
       "      <td>0.107889</td>\n",
       "      <td>0.000000</td>\n",
       "      <td>0.000000</td>\n",
       "      <td>0.000000</td>\n",
       "      <td>0.000000</td>\n",
       "      <td>1.000000</td>\n",
       "    </tr>\n",
       "    <tr>\n",
       "      <th>awayEmptyNet</th>\n",
       "      <td>65458.0</td>\n",
       "      <td>0.014223</td>\n",
       "      <td>0.118409</td>\n",
       "      <td>0.000000</td>\n",
       "      <td>0.000000</td>\n",
       "      <td>0.000000</td>\n",
       "      <td>0.000000</td>\n",
       "      <td>1.000000</td>\n",
       "    </tr>\n",
       "    <tr>\n",
       "      <th>shotAngle</th>\n",
       "      <td>65458.0</td>\n",
       "      <td>-0.768746</td>\n",
       "      <td>36.216121</td>\n",
       "      <td>-88.567904</td>\n",
       "      <td>-28.369046</td>\n",
       "      <td>0.000000</td>\n",
       "      <td>27.149682</td>\n",
       "      <td>88.567904</td>\n",
       "    </tr>\n",
       "    <tr>\n",
       "      <th>shotAngleAdjusted</th>\n",
       "      <td>65458.0</td>\n",
       "      <td>30.060975</td>\n",
       "      <td>20.211937</td>\n",
       "      <td>0.000000</td>\n",
       "      <td>14.534455</td>\n",
       "      <td>27.801459</td>\n",
       "      <td>41.633539</td>\n",
       "      <td>88.567904</td>\n",
       "    </tr>\n",
       "    <tr>\n",
       "      <th>shotRush</th>\n",
       "      <td>65458.0</td>\n",
       "      <td>0.002521</td>\n",
       "      <td>0.050144</td>\n",
       "      <td>0.000000</td>\n",
       "      <td>0.000000</td>\n",
       "      <td>0.000000</td>\n",
       "      <td>0.000000</td>\n",
       "      <td>1.000000</td>\n",
       "    </tr>\n",
       "    <tr>\n",
       "      <th>shotRebound</th>\n",
       "      <td>65458.0</td>\n",
       "      <td>0.053424</td>\n",
       "      <td>0.224878</td>\n",
       "      <td>0.000000</td>\n",
       "      <td>0.000000</td>\n",
       "      <td>0.000000</td>\n",
       "      <td>0.000000</td>\n",
       "      <td>1.000000</td>\n",
       "    </tr>\n",
       "    <tr>\n",
       "      <th>xCordAdjusted</th>\n",
       "      <td>65458.0</td>\n",
       "      <td>59.708760</td>\n",
       "      <td>18.960359</td>\n",
       "      <td>0.000000</td>\n",
       "      <td>45.000000</td>\n",
       "      <td>63.000000</td>\n",
       "      <td>76.000000</td>\n",
       "      <td>99.000000</td>\n",
       "    </tr>\n",
       "    <tr>\n",
       "      <th>yCordAdjusted</th>\n",
       "      <td>65458.0</td>\n",
       "      <td>-0.079425</td>\n",
       "      <td>18.868273</td>\n",
       "      <td>-42.000000</td>\n",
       "      <td>-14.000000</td>\n",
       "      <td>0.000000</td>\n",
       "      <td>14.000000</td>\n",
       "      <td>42.000000</td>\n",
       "    </tr>\n",
       "  </tbody>\n",
       "</table>\n",
       "</div>"
      ],
      "text/plain": [
       "                     count          mean           std           min  \\\n",
       "shotID             65458.0  32421.161921  18904.179606      0.000000   \n",
       "game_id            65458.0  20377.107199    218.629243  20001.000000   \n",
       "goal               65458.0      0.069938      0.255044      0.000000   \n",
       "awaySkatersOnIce   65458.0      4.890525      0.389245      3.000000   \n",
       "awayTeamGoals      65458.0      1.295701      1.347718      0.000000   \n",
       "homeSkatersOnIce   65458.0      4.895811      0.375052      2.000000   \n",
       "homeTeamGoals      65458.0      1.496654      1.491121      0.000000   \n",
       "homeEmptyNet       65458.0      0.011779      0.107889      0.000000   \n",
       "awayEmptyNet       65458.0      0.014223      0.118409      0.000000   \n",
       "shotAngle          65458.0     -0.768746     36.216121    -88.567904   \n",
       "shotAngleAdjusted  65458.0     30.060975     20.211937      0.000000   \n",
       "shotRush           65458.0      0.002521      0.050144      0.000000   \n",
       "shotRebound        65458.0      0.053424      0.224878      0.000000   \n",
       "xCordAdjusted      65458.0     59.708760     18.960359      0.000000   \n",
       "yCordAdjusted      65458.0     -0.079425     18.868273    -42.000000   \n",
       "\n",
       "                            25%           50%           75%           max  \n",
       "shotID             16046.250000  32422.500000  48790.750000  65166.000000  \n",
       "game_id            20188.000000  20374.000000  20567.000000  20759.000000  \n",
       "goal                   0.000000      0.000000      0.000000      1.000000  \n",
       "awaySkatersOnIce       5.000000      5.000000      5.000000      6.000000  \n",
       "awayTeamGoals          0.000000      1.000000      2.000000      9.000000  \n",
       "homeSkatersOnIce       5.000000      5.000000      5.000000      7.000000  \n",
       "homeTeamGoals          0.000000      1.000000      2.000000      9.000000  \n",
       "homeEmptyNet           0.000000      0.000000      0.000000      1.000000  \n",
       "awayEmptyNet           0.000000      0.000000      0.000000      1.000000  \n",
       "shotAngle            -28.369046      0.000000     27.149682     88.567904  \n",
       "shotAngleAdjusted     14.534455     27.801459     41.633539     88.567904  \n",
       "shotRush               0.000000      0.000000      0.000000      1.000000  \n",
       "shotRebound            0.000000      0.000000      0.000000      1.000000  \n",
       "xCordAdjusted         45.000000     63.000000     76.000000     99.000000  \n",
       "yCordAdjusted        -14.000000      0.000000     14.000000     42.000000  "
      ]
     },
     "execution_count": 46,
     "metadata": {
      "tags": []
     },
     "output_type": "execute_result"
    }
   ],
   "source": [
    "# describe what we have (transposed for easier printing)\n",
    "shot_data.describe().transpose()"
   ]
  },
  {
   "cell_type": "code",
   "execution_count": 0,
   "metadata": {
    "id": "HvNWaEWmyXy8",
    "colab_type": "code",
    "outputId": "af889ed5-66e4-4092-bafe-a592d88ee525",
    "executionInfo": {
     "status": "ok",
     "timestamp": 1.548184184927E12,
     "user_tz": 300.0,
     "elapsed": 320.0,
     "user": {
      "displayName": "Brock Tibert",
      "photoUrl": "",
      "userId": "13148801170360632626"
     }
    },
    "colab": {
     "base_uri": "https://localhost:8080/",
     "height": 397.0
    }
   },
   "outputs": [
    {
     "data": {
      "text/plain": [
       "shotID               0\n",
       "game_id              0\n",
       "event                0\n",
       "goal                 0\n",
       "team                 0\n",
       "teamCode             0\n",
       "awaySkatersOnIce     0\n",
       "awayTeamCode         0\n",
       "awayTeamGoals        0\n",
       "homeSkatersOnIce     0\n",
       "homeTeamCode         0\n",
       "homeTeamGoals        0\n",
       "homeEmptyNet         0\n",
       "awayEmptyNet         0\n",
       "shotAngle            0\n",
       "shotAngleAdjusted    0\n",
       "shotType             0\n",
       "shotRush             0\n",
       "shotRebound          0\n",
       "xCordAdjusted        0\n",
       "yCordAdjusted        0\n",
       "dtype: int64"
      ]
     },
     "execution_count": 47,
     "metadata": {
      "tags": []
     },
     "output_type": "execute_result"
    }
   ],
   "source": [
    "# confirm there are no other missing data\n",
    "shot_data.isnull().sum()"
   ]
  },
  {
   "cell_type": "markdown",
   "metadata": {
    "id": "D50IsU5k0AgI",
    "colab_type": "text"
   },
   "source": [
    "Ok, things are starting to take shape and it seems like we are in a good spot.  Let's look at some of the distributions and let the pictures tell a story."
   ]
  },
  {
   "cell_type": "code",
   "execution_count": 0,
   "metadata": {
    "id": "8Y7Epzh40oir",
    "colab_type": "code",
    "outputId": "1f8183b7-0d0c-4c43-b268-1ec9f1ecd6c3",
    "executionInfo": {
     "status": "ok",
     "timestamp": 1.548184186462E12,
     "user_tz": 300.0,
     "elapsed": 451.0,
     "user": {
      "displayName": "Brock Tibert",
      "photoUrl": "",
      "userId": "13148801170360632626"
     }
    },
    "colab": {
     "base_uri": "https://localhost:8080/",
     "height": 363.0
    }
   },
   "outputs": [
    {
     "data": {
      "image/png": "[encoded data removed]",
      "text/plain": [
       "<Figure size 576x396 with 1 Axes>"
      ]
     },
     "metadata": {
      "tags": []
     },
     "output_type": "display_data"
    }
   ],
   "source": [
    "# plot the distribution of adjusted shot angles\n",
    "import matplotlib.pyplot as plt\n",
    "import numpy as np\n",
    "shot_angle = np.array(shot_data.shotAngleAdjusted)\n",
    "plt.hist(shot_angle)\n",
    "plt.title('Shot Angle Distribution')\n",
    "plt.show()"
   ]
  },
  {
   "cell_type": "markdown",
   "metadata": {
    "id": "-2wQEc_h5loU",
    "colab_type": "text"
   },
   "source": [
    "To help explain what is going on here, and why this matters, take a look at a random shot chart."
   ]
  },
  {
   "cell_type": "markdown",
   "metadata": {
    "id": "jIXZ6B4R5VsU",
    "colab_type": "text"
   },
   "source": [
    "\n",
    "![angle](https://pbs.twimg.com/media/DvyhxeGXcAELopb.jpg)\n",
    "\n"
   ]
  },
  {
   "cell_type": "code",
   "execution_count": 0,
   "metadata": {
    "id": "2wEaXAnw3qbe",
    "colab_type": "code",
    "outputId": "ceec3a62-8949-480d-9468-56ad88bac68e",
    "executionInfo": {
     "status": "ok",
     "timestamp": 1.548184189881E12,
     "user_tz": 300.0,
     "elapsed": 1313.0,
     "user": {
      "displayName": "Brock Tibert",
      "photoUrl": "",
      "userId": "13148801170360632626"
     }
    },
    "colab": {
     "base_uri": "https://localhost:8080/",
     "height": 415.0
    }
   },
   "outputs": [
    {
     "name": "stderr",
     "output_type": "stream",
     "text": [
      "'c' argument looks like a single numeric RGB or RGBA sequence, which should be avoided as value-mapping will have precedence in case its length matches with 'x' & 'y'.  Please use a 2-D array with a single row if you really want to specify the same RGB or RGBA value for all points.\n"
     ]
    },
    {
     "data": {
      "text/plain": [
       "<matplotlib.axes._subplots.AxesSubplot at 0x7f820bd078d0>"
      ]
     },
     "execution_count": 49,
     "metadata": {
      "tags": []
     },
     "output_type": "execute_result"
    },
    {
     "data": {
      "image/png": "[encoded data removed]",
      "text/plain": [
       "<Figure size 576x396 with 1 Axes>"
      ]
     },
     "metadata": {
      "tags": []
     },
     "output_type": "display_data"
    }
   ],
   "source": [
    "# how does our dataset compare\n",
    "shot_data.plot.scatter(x='xCordAdjusted', y='yCordAdjusted')\n"
   ]
  },
  {
   "cell_type": "markdown",
   "metadata": {
    "id": "JIBeaCxx59ln",
    "colab_type": "text"
   },
   "source": [
    "This looks like half of a rink, with the goal outlined on the right."
   ]
  },
  {
   "cell_type": "markdown",
   "metadata": {
    "id": "z7pvso_Z6zqd",
    "colab_type": "text"
   },
   "source": [
    "# Fit a model to calculate goal probability\n",
    "\n",
    "Now that we have some sense for our data, and it appears to be clean, let's fit a model to predict if a shot results in a goal.  The calculated probability of the shot becoming a goal can then become a proxy for **shot quality**.\n",
    "\n",
    "To fit predictive models, we will be using the scikit learn package in python, the standard package for machine learning and data science modeling."
   ]
  },
  {
   "cell_type": "markdown",
   "metadata": {
    "id": "yAHXn-evCKL7",
    "colab_type": "text"
   },
   "source": [
    "## Build the dataset for the model"
   ]
  },
  {
   "cell_type": "code",
   "execution_count": 0,
   "metadata": {
    "id": "a5isDQg07H-X",
    "colab_type": "code",
    "colab": {}
   },
   "outputs": [],
   "source": [
    "## import the tools that we need\n",
    "from sklearn.model_selection import train_test_split\n",
    "from sklearn.linear_model import LogisticRegression"
   ]
  },
  {
   "cell_type": "code",
   "execution_count": 0,
   "metadata": {
    "id": "JJFQA2Ty7oVD",
    "colab_type": "code",
    "outputId": "9c1b9500-f311-451b-ef16-5ffce68c3192",
    "executionInfo": {
     "status": "ok",
     "timestamp": 1.548184767406E12,
     "user_tz": 300.0,
     "elapsed": 322.0,
     "user": {
      "displayName": "Brock Tibert",
      "photoUrl": "",
      "userId": "13148801170360632626"
     }
    },
    "colab": {
     "base_uri": "https://localhost:8080/",
     "height": 198.0
    }
   },
   "outputs": [
    {
     "data": {
      "text/html": [
       "<div>\n",
       "<style scoped>\n",
       "    .dataframe tbody tr th:only-of-type {\n",
       "        vertical-align: middle;\n",
       "    }\n",
       "\n",
       "    .dataframe tbody tr th {\n",
       "        vertical-align: top;\n",
       "    }\n",
       "\n",
       "    .dataframe thead th {\n",
       "        text-align: right;\n",
       "    }\n",
       "</style>\n",
       "<table border=\"1\" class=\"dataframe\">\n",
       "  <thead>\n",
       "    <tr style=\"text-align: right;\">\n",
       "      <th></th>\n",
       "      <th>shotType</th>\n",
       "      <th>shotRush</th>\n",
       "      <th>shotRebound</th>\n",
       "      <th>xCordAdjusted</th>\n",
       "      <th>yCordAdjusted</th>\n",
       "    </tr>\n",
       "  </thead>\n",
       "  <tbody>\n",
       "    <tr>\n",
       "      <th>0</th>\n",
       "      <td>BACK</td>\n",
       "      <td>0</td>\n",
       "      <td>0</td>\n",
       "      <td>78</td>\n",
       "      <td>-19</td>\n",
       "    </tr>\n",
       "    <tr>\n",
       "      <th>1</th>\n",
       "      <td>SNAP</td>\n",
       "      <td>0</td>\n",
       "      <td>0</td>\n",
       "      <td>37</td>\n",
       "      <td>10</td>\n",
       "    </tr>\n",
       "    <tr>\n",
       "      <th>2</th>\n",
       "      <td>WRIST</td>\n",
       "      <td>0</td>\n",
       "      <td>0</td>\n",
       "      <td>47</td>\n",
       "      <td>-23</td>\n",
       "    </tr>\n",
       "    <tr>\n",
       "      <th>3</th>\n",
       "      <td>SNAP</td>\n",
       "      <td>0</td>\n",
       "      <td>0</td>\n",
       "      <td>73</td>\n",
       "      <td>22</td>\n",
       "    </tr>\n",
       "    <tr>\n",
       "      <th>4</th>\n",
       "      <td>SNAP</td>\n",
       "      <td>0</td>\n",
       "      <td>0</td>\n",
       "      <td>53</td>\n",
       "      <td>14</td>\n",
       "    </tr>\n",
       "  </tbody>\n",
       "</table>\n",
       "</div>"
      ],
      "text/plain": [
       "  shotType  shotRush  shotRebound  xCordAdjusted  yCordAdjusted\n",
       "0     BACK         0            0             78            -19\n",
       "1     SNAP         0            0             37             10\n",
       "2    WRIST         0            0             47            -23\n",
       "3     SNAP         0            0             73             22\n",
       "4     SNAP         0            0             53             14"
      ]
     },
     "execution_count": 63,
     "metadata": {
      "tags": []
     },
     "output_type": "execute_result"
    }
   ],
   "source": [
    "## define the feature columns (predictors)\n",
    "## this selects all of the columns from the 16th index to the end of the dataset\n",
    "X = shot_data.iloc[:, 16:]\n",
    "X.head()"
   ]
  },
  {
   "cell_type": "code",
   "execution_count": 0,
   "metadata": {
    "id": "aV3y5Z80_g-N",
    "colab_type": "code",
    "outputId": "8d4b02d0-ec25-4156-f86f-83e5a6b396e9",
    "executionInfo": {
     "status": "ok",
     "timestamp": 1.548184775606E12,
     "user_tz": 300.0,
     "elapsed": 869.0,
     "user": {
      "displayName": "Brock Tibert",
      "photoUrl": "",
      "userId": "13148801170360632626"
     }
    },
    "colab": {
     "base_uri": "https://localhost:8080/",
     "height": 198.0
    }
   },
   "outputs": [
    {
     "data": {
      "text/html": [
       "<div>\n",
       "<style scoped>\n",
       "    .dataframe tbody tr th:only-of-type {\n",
       "        vertical-align: middle;\n",
       "    }\n",
       "\n",
       "    .dataframe tbody tr th {\n",
       "        vertical-align: top;\n",
       "    }\n",
       "\n",
       "    .dataframe thead th {\n",
       "        text-align: right;\n",
       "    }\n",
       "</style>\n",
       "<table border=\"1\" class=\"dataframe\">\n",
       "  <thead>\n",
       "    <tr style=\"text-align: right;\">\n",
       "      <th></th>\n",
       "      <th>DEFL</th>\n",
       "      <th>SLAP</th>\n",
       "      <th>SNAP</th>\n",
       "      <th>TIP</th>\n",
       "      <th>WRAP</th>\n",
       "      <th>WRIST</th>\n",
       "    </tr>\n",
       "  </thead>\n",
       "  <tbody>\n",
       "    <tr>\n",
       "      <th>0</th>\n",
       "      <td>0</td>\n",
       "      <td>0</td>\n",
       "      <td>0</td>\n",
       "      <td>0</td>\n",
       "      <td>0</td>\n",
       "      <td>0</td>\n",
       "    </tr>\n",
       "    <tr>\n",
       "      <th>1</th>\n",
       "      <td>0</td>\n",
       "      <td>0</td>\n",
       "      <td>1</td>\n",
       "      <td>0</td>\n",
       "      <td>0</td>\n",
       "      <td>0</td>\n",
       "    </tr>\n",
       "    <tr>\n",
       "      <th>2</th>\n",
       "      <td>0</td>\n",
       "      <td>0</td>\n",
       "      <td>0</td>\n",
       "      <td>0</td>\n",
       "      <td>0</td>\n",
       "      <td>1</td>\n",
       "    </tr>\n",
       "    <tr>\n",
       "      <th>3</th>\n",
       "      <td>0</td>\n",
       "      <td>0</td>\n",
       "      <td>1</td>\n",
       "      <td>0</td>\n",
       "      <td>0</td>\n",
       "      <td>0</td>\n",
       "    </tr>\n",
       "    <tr>\n",
       "      <th>4</th>\n",
       "      <td>0</td>\n",
       "      <td>0</td>\n",
       "      <td>1</td>\n",
       "      <td>0</td>\n",
       "      <td>0</td>\n",
       "      <td>0</td>\n",
       "    </tr>\n",
       "  </tbody>\n",
       "</table>\n",
       "</div>"
      ],
      "text/plain": [
       "   DEFL  SLAP  SNAP  TIP  WRAP  WRIST\n",
       "0     0     0     0    0     0      0\n",
       "1     0     0     1    0     0      0\n",
       "2     0     0     0    0     0      1\n",
       "3     0     0     1    0     0      0\n",
       "4     0     0     1    0     0      0"
      ]
     },
     "execution_count": 64,
     "metadata": {
      "tags": []
     },
     "output_type": "execute_result"
    }
   ],
   "source": [
    "# but we need to handle the categorical data shotTYpe\n",
    "shot_type_dummies = pd.get_dummies(X.shotType, drop_first=True)\n",
    "shot_type_dummies.head()"
   ]
  },
  {
   "cell_type": "markdown",
   "metadata": {
    "id": "oyaSiJ-h_9Tw",
    "colab_type": "text"
   },
   "source": [
    "Ok, we dropped the first category, backhand, and will use that as our reference column, but we need to append the data back to our feature dataset, and remove the original column."
   ]
  },
  {
   "cell_type": "code",
   "execution_count": 0,
   "metadata": {
    "id": "IVRxttYRAS0S",
    "colab_type": "code",
    "outputId": "1a1a9eb9-5ee6-4f8d-d3d4-7b6a6a9f43b0",
    "executionInfo": {
     "status": "ok",
     "timestamp": 1.548184964695E12,
     "user_tz": 300.0,
     "elapsed": 302.0,
     "user": {
      "displayName": "Brock Tibert",
      "photoUrl": "",
      "userId": "13148801170360632626"
     }
    },
    "colab": {
     "base_uri": "https://localhost:8080/",
     "height": 198.0
    }
   },
   "outputs": [
    {
     "data": {
      "text/html": [
       "<div>\n",
       "<style scoped>\n",
       "    .dataframe tbody tr th:only-of-type {\n",
       "        vertical-align: middle;\n",
       "    }\n",
       "\n",
       "    .dataframe tbody tr th {\n",
       "        vertical-align: top;\n",
       "    }\n",
       "\n",
       "    .dataframe thead th {\n",
       "        text-align: right;\n",
       "    }\n",
       "</style>\n",
       "<table border=\"1\" class=\"dataframe\">\n",
       "  <thead>\n",
       "    <tr style=\"text-align: right;\">\n",
       "      <th></th>\n",
       "      <th>shotType</th>\n",
       "      <th>shotRush</th>\n",
       "      <th>shotRebound</th>\n",
       "      <th>xCordAdjusted</th>\n",
       "      <th>yCordAdjusted</th>\n",
       "      <th>DEFL</th>\n",
       "      <th>SLAP</th>\n",
       "      <th>SNAP</th>\n",
       "      <th>TIP</th>\n",
       "      <th>WRAP</th>\n",
       "      <th>WRIST</th>\n",
       "      <th>DEFL</th>\n",
       "      <th>SLAP</th>\n",
       "      <th>SNAP</th>\n",
       "      <th>TIP</th>\n",
       "      <th>WRAP</th>\n",
       "      <th>WRIST</th>\n",
       "    </tr>\n",
       "  </thead>\n",
       "  <tbody>\n",
       "    <tr>\n",
       "      <th>0</th>\n",
       "      <td>BACK</td>\n",
       "      <td>0</td>\n",
       "      <td>0</td>\n",
       "      <td>78</td>\n",
       "      <td>-19</td>\n",
       "      <td>0</td>\n",
       "      <td>0</td>\n",
       "      <td>0</td>\n",
       "      <td>0</td>\n",
       "      <td>0</td>\n",
       "      <td>0</td>\n",
       "      <td>0</td>\n",
       "      <td>0</td>\n",
       "      <td>0</td>\n",
       "      <td>0</td>\n",
       "      <td>0</td>\n",
       "      <td>0</td>\n",
       "    </tr>\n",
       "    <tr>\n",
       "      <th>1</th>\n",
       "      <td>SNAP</td>\n",
       "      <td>0</td>\n",
       "      <td>0</td>\n",
       "      <td>37</td>\n",
       "      <td>10</td>\n",
       "      <td>0</td>\n",
       "      <td>0</td>\n",
       "      <td>1</td>\n",
       "      <td>0</td>\n",
       "      <td>0</td>\n",
       "      <td>0</td>\n",
       "      <td>0</td>\n",
       "      <td>0</td>\n",
       "      <td>1</td>\n",
       "      <td>0</td>\n",
       "      <td>0</td>\n",
       "      <td>0</td>\n",
       "    </tr>\n",
       "    <tr>\n",
       "      <th>2</th>\n",
       "      <td>WRIST</td>\n",
       "      <td>0</td>\n",
       "      <td>0</td>\n",
       "      <td>47</td>\n",
       "      <td>-23</td>\n",
       "      <td>0</td>\n",
       "      <td>0</td>\n",
       "      <td>0</td>\n",
       "      <td>0</td>\n",
       "      <td>0</td>\n",
       "      <td>1</td>\n",
       "      <td>0</td>\n",
       "      <td>0</td>\n",
       "      <td>0</td>\n",
       "      <td>0</td>\n",
       "      <td>0</td>\n",
       "      <td>1</td>\n",
       "    </tr>\n",
       "    <tr>\n",
       "      <th>3</th>\n",
       "      <td>SNAP</td>\n",
       "      <td>0</td>\n",
       "      <td>0</td>\n",
       "      <td>73</td>\n",
       "      <td>22</td>\n",
       "      <td>0</td>\n",
       "      <td>0</td>\n",
       "      <td>1</td>\n",
       "      <td>0</td>\n",
       "      <td>0</td>\n",
       "      <td>0</td>\n",
       "      <td>0</td>\n",
       "      <td>0</td>\n",
       "      <td>1</td>\n",
       "      <td>0</td>\n",
       "      <td>0</td>\n",
       "      <td>0</td>\n",
       "    </tr>\n",
       "    <tr>\n",
       "      <th>4</th>\n",
       "      <td>SNAP</td>\n",
       "      <td>0</td>\n",
       "      <td>0</td>\n",
       "      <td>53</td>\n",
       "      <td>14</td>\n",
       "      <td>0</td>\n",
       "      <td>0</td>\n",
       "      <td>1</td>\n",
       "      <td>0</td>\n",
       "      <td>0</td>\n",
       "      <td>0</td>\n",
       "      <td>0</td>\n",
       "      <td>0</td>\n",
       "      <td>1</td>\n",
       "      <td>0</td>\n",
       "      <td>0</td>\n",
       "      <td>0</td>\n",
       "    </tr>\n",
       "  </tbody>\n",
       "</table>\n",
       "</div>"
      ],
      "text/plain": [
       "  shotType  shotRush  shotRebound  xCordAdjusted  yCordAdjusted  DEFL  SLAP  \\\n",
       "0     BACK         0            0             78            -19     0     0   \n",
       "1     SNAP         0            0             37             10     0     0   \n",
       "2    WRIST         0            0             47            -23     0     0   \n",
       "3     SNAP         0            0             73             22     0     0   \n",
       "4     SNAP         0            0             53             14     0     0   \n",
       "\n",
       "   SNAP  TIP  WRAP  WRIST  DEFL  SLAP  SNAP  TIP  WRAP  WRIST  \n",
       "0     0    0     0      0     0     0     0    0     0      0  \n",
       "1     1    0     0      0     0     0     1    0     0      0  \n",
       "2     0    0     0      1     0     0     0    0     0      1  \n",
       "3     1    0     0      0     0     0     1    0     0      0  \n",
       "4     1    0     0      0     0     0     1    0     0      0  "
      ]
     },
     "execution_count": 67,
     "metadata": {
      "tags": []
     },
     "output_type": "execute_result"
    }
   ],
   "source": [
    "# append the data back onto the dataframe\n",
    "X = pd.concat([X, shot_type_dummies], axis=1)\n",
    "X.head()"
   ]
  },
  {
   "cell_type": "code",
   "execution_count": 0,
   "metadata": {
    "id": "qVHnghIUA-bO",
    "colab_type": "code",
    "outputId": "9f05edac-4044-4fb1-e063-190e481add3d",
    "executionInfo": {
     "status": "ok",
     "timestamp": 1.548185035959E12,
     "user_tz": 300.0,
     "elapsed": 329.0,
     "user": {
      "displayName": "Brock Tibert",
      "photoUrl": "",
      "userId": "13148801170360632626"
     }
    },
    "colab": {
     "base_uri": "https://localhost:8080/",
     "height": 198.0
    }
   },
   "outputs": [
    {
     "data": {
      "text/html": [
       "<div>\n",
       "<style scoped>\n",
       "    .dataframe tbody tr th:only-of-type {\n",
       "        vertical-align: middle;\n",
       "    }\n",
       "\n",
       "    .dataframe tbody tr th {\n",
       "        vertical-align: top;\n",
       "    }\n",
       "\n",
       "    .dataframe thead th {\n",
       "        text-align: right;\n",
       "    }\n",
       "</style>\n",
       "<table border=\"1\" class=\"dataframe\">\n",
       "  <thead>\n",
       "    <tr style=\"text-align: right;\">\n",
       "      <th></th>\n",
       "      <th>shotRush</th>\n",
       "      <th>shotRebound</th>\n",
       "      <th>xCordAdjusted</th>\n",
       "      <th>yCordAdjusted</th>\n",
       "      <th>DEFL</th>\n",
       "      <th>SLAP</th>\n",
       "      <th>SNAP</th>\n",
       "      <th>TIP</th>\n",
       "      <th>WRAP</th>\n",
       "      <th>WRIST</th>\n",
       "      <th>DEFL</th>\n",
       "      <th>SLAP</th>\n",
       "      <th>SNAP</th>\n",
       "      <th>TIP</th>\n",
       "      <th>WRAP</th>\n",
       "      <th>WRIST</th>\n",
       "    </tr>\n",
       "  </thead>\n",
       "  <tbody>\n",
       "    <tr>\n",
       "      <th>0</th>\n",
       "      <td>0</td>\n",
       "      <td>0</td>\n",
       "      <td>78</td>\n",
       "      <td>-19</td>\n",
       "      <td>0</td>\n",
       "      <td>0</td>\n",
       "      <td>0</td>\n",
       "      <td>0</td>\n",
       "      <td>0</td>\n",
       "      <td>0</td>\n",
       "      <td>0</td>\n",
       "      <td>0</td>\n",
       "      <td>0</td>\n",
       "      <td>0</td>\n",
       "      <td>0</td>\n",
       "      <td>0</td>\n",
       "    </tr>\n",
       "    <tr>\n",
       "      <th>1</th>\n",
       "      <td>0</td>\n",
       "      <td>0</td>\n",
       "      <td>37</td>\n",
       "      <td>10</td>\n",
       "      <td>0</td>\n",
       "      <td>0</td>\n",
       "      <td>1</td>\n",
       "      <td>0</td>\n",
       "      <td>0</td>\n",
       "      <td>0</td>\n",
       "      <td>0</td>\n",
       "      <td>0</td>\n",
       "      <td>1</td>\n",
       "      <td>0</td>\n",
       "      <td>0</td>\n",
       "      <td>0</td>\n",
       "    </tr>\n",
       "    <tr>\n",
       "      <th>2</th>\n",
       "      <td>0</td>\n",
       "      <td>0</td>\n",
       "      <td>47</td>\n",
       "      <td>-23</td>\n",
       "      <td>0</td>\n",
       "      <td>0</td>\n",
       "      <td>0</td>\n",
       "      <td>0</td>\n",
       "      <td>0</td>\n",
       "      <td>1</td>\n",
       "      <td>0</td>\n",
       "      <td>0</td>\n",
       "      <td>0</td>\n",
       "      <td>0</td>\n",
       "      <td>0</td>\n",
       "      <td>1</td>\n",
       "    </tr>\n",
       "    <tr>\n",
       "      <th>3</th>\n",
       "      <td>0</td>\n",
       "      <td>0</td>\n",
       "      <td>73</td>\n",
       "      <td>22</td>\n",
       "      <td>0</td>\n",
       "      <td>0</td>\n",
       "      <td>1</td>\n",
       "      <td>0</td>\n",
       "      <td>0</td>\n",
       "      <td>0</td>\n",
       "      <td>0</td>\n",
       "      <td>0</td>\n",
       "      <td>1</td>\n",
       "      <td>0</td>\n",
       "      <td>0</td>\n",
       "      <td>0</td>\n",
       "    </tr>\n",
       "    <tr>\n",
       "      <th>4</th>\n",
       "      <td>0</td>\n",
       "      <td>0</td>\n",
       "      <td>53</td>\n",
       "      <td>14</td>\n",
       "      <td>0</td>\n",
       "      <td>0</td>\n",
       "      <td>1</td>\n",
       "      <td>0</td>\n",
       "      <td>0</td>\n",
       "      <td>0</td>\n",
       "      <td>0</td>\n",
       "      <td>0</td>\n",
       "      <td>1</td>\n",
       "      <td>0</td>\n",
       "      <td>0</td>\n",
       "      <td>0</td>\n",
       "    </tr>\n",
       "  </tbody>\n",
       "</table>\n",
       "</div>"
      ],
      "text/plain": [
       "   shotRush  shotRebound  xCordAdjusted  yCordAdjusted  DEFL  SLAP  SNAP  TIP  \\\n",
       "0         0            0             78            -19     0     0     0    0   \n",
       "1         0            0             37             10     0     0     1    0   \n",
       "2         0            0             47            -23     0     0     0    0   \n",
       "3         0            0             73             22     0     0     1    0   \n",
       "4         0            0             53             14     0     0     1    0   \n",
       "\n",
       "   WRAP  WRIST  DEFL  SLAP  SNAP  TIP  WRAP  WRIST  \n",
       "0     0      0     0     0     0    0     0      0  \n",
       "1     0      0     0     0     1    0     0      0  \n",
       "2     0      1     0     0     0    0     0      1  \n",
       "3     0      0     0     0     1    0     0      0  \n",
       "4     0      0     0     0     1    0     0      0  "
      ]
     },
     "execution_count": 70,
     "metadata": {
      "tags": []
     },
     "output_type": "execute_result"
    }
   ],
   "source": [
    "# finally, drop the original column which is conviently the first in our dataset\n",
    "X = X.iloc[:, 1:]\n",
    "X.head()"
   ]
  },
  {
   "cell_type": "code",
   "execution_count": 0,
   "metadata": {
    "id": "2s2Ydpvf9enG",
    "colab_type": "code",
    "outputId": "31fe7c7b-4bc9-4162-9987-260e4725d255",
    "executionInfo": {
     "status": "ok",
     "timestamp": 1.548184210538E12,
     "user_tz": 300.0,
     "elapsed": 373.0,
     "user": {
      "displayName": "Brock Tibert",
      "photoUrl": "",
      "userId": "13148801170360632626"
     }
    },
    "colab": {
     "base_uri": "https://localhost:8080/",
     "height": 121.0
    }
   },
   "outputs": [
    {
     "data": {
      "text/plain": [
       "0    0\n",
       "1    0\n",
       "2    0\n",
       "3    0\n",
       "4    0\n",
       "Name: goal, dtype: int64"
      ]
     },
     "execution_count": 54,
     "metadata": {
      "tags": []
     },
     "output_type": "execute_result"
    }
   ],
   "source": [
    "## define the outcome\n",
    "y = shot_data.goal\n",
    "y.head()"
   ]
  },
  {
   "cell_type": "markdown",
   "metadata": {
    "id": "mK_EoGmmCQGi",
    "colab_type": "text"
   },
   "source": [
    "## Split and Train the model"
   ]
  },
  {
   "cell_type": "code",
   "execution_count": 0,
   "metadata": {
    "id": "IOFY2EGq9ytT",
    "colab_type": "code",
    "colab": {}
   },
   "outputs": [],
   "source": [
    "# split the data randomly - 25% for the test\n",
    "X_train,X_test,y_train,y_test=train_test_split(X,y,test_size=0.25,random_state=0)"
   ]
  },
  {
   "cell_type": "code",
   "execution_count": 0,
   "metadata": {
    "id": "Jov7oJRj9zsZ",
    "colab_type": "code",
    "colab": {}
   },
   "outputs": [],
   "source": [
    "# instantiate the model (using the default parameters)\n",
    "logreg = LogisticRegression()"
   ]
  },
  {
   "cell_type": "code",
   "execution_count": 0,
   "metadata": {
    "id": "eSXGu7E0-XRe",
    "colab_type": "code",
    "outputId": "4ec7189a-0c1d-4e68-ecf3-5e8ccd89103c",
    "executionInfo": {
     "status": "ok",
     "timestamp": 1.548185061828E12,
     "user_tz": 300.0,
     "elapsed": 519.0,
     "user": {
      "displayName": "Brock Tibert",
      "photoUrl": "",
      "userId": "13148801170360632626"
     }
    },
    "colab": {
     "base_uri": "https://localhost:8080/",
     "height": 141.0
    }
   },
   "outputs": [
    {
     "name": "stderr",
     "output_type": "stream",
     "text": [
      "/usr/local/lib/python3.6/dist-packages/sklearn/linear_model/logistic.py:433: FutureWarning: Default solver will be changed to 'lbfgs' in 0.22. Specify a solver to silence this warning.\n",
      "  FutureWarning)\n"
     ]
    },
    {
     "data": {
      "text/plain": [
       "LogisticRegression(C=1.0, class_weight=None, dual=False, fit_intercept=True,\n",
       "          intercept_scaling=1, max_iter=100, multi_class='warn',\n",
       "          n_jobs=None, penalty='l2', random_state=None, solver='warn',\n",
       "          tol=0.0001, verbose=0, warm_start=False)"
      ]
     },
     "execution_count": 73,
     "metadata": {
      "tags": []
     },
     "output_type": "execute_result"
    }
   ],
   "source": [
    "# fit the model with data\n",
    "logreg.fit(X_train,y_train)"
   ]
  },
  {
   "cell_type": "markdown",
   "metadata": {
    "id": "cHBEw5nj-Zro",
    "colab_type": "text"
   },
   "source": [
    "> Above you see that there is a message, but it's not an error.  This is supposed to help us, and tells us the mechanics behind the algorithm will be changing in future versions of scikit learn.  It's natural to think that we did something wrong, but messages like this can happen from time to time.  The model was fit just fine."
   ]
  },
  {
   "cell_type": "code",
   "execution_count": 0,
   "metadata": {
    "id": "fkHkL_BtBoHH",
    "colab_type": "code",
    "colab": {}
   },
   "outputs": [],
   "source": [
    "# predict on the new data\n",
    "y_pred=logreg.predict(X_test)"
   ]
  },
  {
   "cell_type": "markdown",
   "metadata": {
    "id": "UNrNebJ6BvG1",
    "colab_type": "text"
   },
   "source": [
    "## Assess our model\n",
    "\n",
    "Now that we have fit a model, how well did we do?"
   ]
  },
  {
   "cell_type": "code",
   "execution_count": 0,
   "metadata": {
    "id": "_hgkn41pCUlM",
    "colab_type": "code",
    "colab": {}
   },
   "outputs": [],
   "source": [
    "## import the metrics class\n",
    "from sklearn import metrics"
   ]
  },
  {
   "cell_type": "code",
   "execution_count": 0,
   "metadata": {
    "id": "aRknyHdRCWt0",
    "colab_type": "code",
    "outputId": "c61050f4-875a-4159-b3ad-6b29cd983299",
    "executionInfo": {
     "status": "ok",
     "timestamp": 1.548185373918E12,
     "user_tz": 300.0,
     "elapsed": 307.0,
     "user": {
      "displayName": "Brock Tibert",
      "photoUrl": "",
      "userId": "13148801170360632626"
     }
    },
    "colab": {
     "base_uri": "https://localhost:8080/",
     "height": 35.0
    }
   },
   "outputs": [
    {
     "name": "stdout",
     "output_type": "stream",
     "text": [
      "Accuracy: 0.9307668805377329\n"
     ]
    }
   ],
   "source": [
    "## print out our stats\n",
    "print(\"Accuracy:\",metrics.accuracy_score(y_test, y_pred))"
   ]
  },
  {
   "cell_type": "code",
   "execution_count": 0,
   "metadata": {
    "id": "O8W3_olxCboH",
    "colab_type": "code",
    "outputId": "88e35ef3-0cb1-468b-ff34-ed0c3b2d8f09",
    "executionInfo": {
     "status": "ok",
     "timestamp": 1.548185398919E12,
     "user_tz": 300.0,
     "elapsed": 507.0,
     "user": {
      "displayName": "Brock Tibert",
      "photoUrl": "",
      "userId": "13148801170360632626"
     }
    },
    "colab": {
     "base_uri": "https://localhost:8080/",
     "height": 347.0
    }
   },
   "outputs": [
    {
     "data": {
      "image/png": "[encoded data removed]",
      "text/plain": [
       "<Figure size 576x396 with 1 Axes>"
      ]
     },
     "metadata": {
      "tags": []
     },
     "output_type": "display_data"
    }
   ],
   "source": [
    "## create an ROC curve\n",
    "y_pred_proba = logreg.predict_proba(X_test)[::,1]\n",
    "fpr, tpr, _ = metrics.roc_curve(y_test,  y_pred_proba)\n",
    "auc = metrics.roc_auc_score(y_test, y_pred_proba)\n",
    "plt.plot(fpr,tpr,label=\"data 1, auc=\"+str(auc))\n",
    "plt.legend(loc=4)\n",
    "plt.show()"
   ]
  },
  {
   "cell_type": "code",
   "execution_count": 0,
   "metadata": {
    "id": "HTurqrPqCmwv",
    "colab_type": "code",
    "outputId": "dd7c8368-238c-4988-fdab-96bddd2f7603",
    "executionInfo": {
     "status": "ok",
     "timestamp": 1.548185442935E12,
     "user_tz": 300.0,
     "elapsed": 338.0,
     "user": {
      "displayName": "Brock Tibert",
      "photoUrl": "",
      "userId": "13148801170360632626"
     }
    },
    "colab": {
     "base_uri": "https://localhost:8080/",
     "height": 35.0
    }
   },
   "outputs": [
    {
     "name": "stdout",
     "output_type": "stream",
     "text": [
      "The AUC for our model was 0.6823763044494056\n"
     ]
    }
   ],
   "source": [
    "## print out the auc\n",
    "auc_string = \"The AUC for our model was \" + str(auc)\n",
    "print(auc_string)"
   ]
  },
  {
   "cell_type": "markdown",
   "metadata": {
    "id": "bq2Qh_NtCxjC",
    "colab_type": "text"
   },
   "source": [
    "This isn't the best model\n",
    "\n",
    "![auc](https://github.com/Btibert3/public-figs/blob/master/is834/auc-ranges.png?raw=true)"
   ]
  },
  {
   "cell_type": "markdown",
   "metadata": {
    "id": "qA0-aI9KD16n",
    "colab_type": "text"
   },
   "source": [
    "# Summary\n",
    "\n",
    "Ok, there is a lot to unpack here, but we just ran through a lot of what we will be covering this semestser.  We will be building your skills to complete a comparable exercise by the end of the semester."
   ]
  },
  {
   "cell_type": "code",
   "execution_count": 0,
   "metadata": {
    "id": "Je5gpYjYEDKP",
    "colab_type": "code",
    "colab": {}
   },
   "outputs": [],
   "source": [
    ""
   ]
  }
 ],
 "metadata": {
  "colab": {
   "name": "2-example-analysis-project.ipynb",
   "version": "0.3.2",
   "provenance": [],
   "collapsed_sections": [],
   "toc_visible": true
  },
  "kernelspec": {
   "name": "python3",
   "display_name": "Python 3"
  }
 },
 "nbformat": 4,
 "nbformat_minor": 0
}
