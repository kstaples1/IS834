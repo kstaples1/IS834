{
 "cells": [
  {
   "cell_type": "markdown",
   "metadata": {
    "colab_type": "text",
    "id": "dBNpfLliNDBa"
   },
   "source": [
    "# Value Counts and Missing Data\n",
    "\n",
    "In this section, we are going to explore looking at the values in columns and identify missing data.  From there, we will learn how to handle missing data."
   ]
  },
  {
   "cell_type": "markdown",
   "metadata": {
    "colab_type": "text",
    "id": "NpEdLwzRFOY3"
   },
   "source": [
    "# Setup\n"
   ]
  },
  {
   "cell_type": "markdown",
   "metadata": {
    "colab_type": "text",
    "id": "ZYzDfJVzFPSj"
   },
   "source": [
    "First we need to setup our python session with numpy and pandas"
   ]
  },
  {
   "cell_type": "code",
   "execution_count": 1,
   "metadata": {
    "colab": {},
    "colab_type": "code",
    "id": "9w_GgWcHFWBu"
   },
   "outputs": [],
   "source": [
    "## import numpy and pandas\n",
    "import pandas as pd\n",
    "import numpy as np"
   ]
  },
  {
   "cell_type": "markdown",
   "metadata": {
    "colab_type": "text",
    "id": "jtTUa0ZDFXcF"
   },
   "source": [
    "# Bring in the dataset"
   ]
  },
  {
   "cell_type": "markdown",
   "metadata": {
    "colab_type": "text",
    "id": "zeLRExBRFZcO"
   },
   "source": [
    "The dataset we will load is available via the web or on QTools."
   ]
  },
  {
   "cell_type": "code",
   "execution_count": 3,
   "metadata": {
    "colab": {},
    "colab_type": "code",
    "id": "MjMzmGtcHR4N"
   },
   "outputs": [],
   "source": [
    "## read in the dataset\n",
    "## https://raw.githubusercontent.com/Btibert3/is834/master/datasets/pandas-missing-data.csv\n",
    "users = pd.read_csv(\"https://raw.githubusercontent.com/Btibert3/is834/master/datasets/pandas-missing-data.csv\")"
   ]
  },
  {
   "cell_type": "code",
   "execution_count": 4,
   "metadata": {
    "colab": {},
    "colab_type": "code",
    "id": "mNwH3M5_Hb-9"
   },
   "outputs": [
    {
     "data": {
      "text/plain": [
       "(500, 5)"
      ]
     },
     "execution_count": 4,
     "metadata": {},
     "output_type": "execute_result"
    }
   ],
   "source": [
    "## explore the data - shape\n",
    "users.shape"
   ]
  },
  {
   "cell_type": "code",
   "execution_count": 6,
   "metadata": {
    "colab": {},
    "colab_type": "code",
    "id": "Kb6ItcZTHfEM"
   },
   "outputs": [
    {
     "name": "stdout",
     "output_type": "stream",
     "text": [
      "<class 'pandas.core.frame.DataFrame'>\n",
      "RangeIndex: 500 entries, 0 to 499\n",
      "Data columns (total 5 columns):\n",
      "ID       500 non-null int64\n",
      "State    450 non-null object\n",
      "Dice     450 non-null float64\n",
      "Zip      450 non-null float64\n",
      "GPA      450 non-null float64\n",
      "dtypes: float64(3), int64(1), object(1)\n",
      "memory usage: 19.6+ KB\n"
     ]
    }
   ],
   "source": [
    "## explore the data - info\n",
    "users.info()"
   ]
  },
  {
   "cell_type": "code",
   "execution_count": 8,
   "metadata": {
    "colab": {},
    "colab_type": "code",
    "id": "agv-3WsQHgL6"
   },
   "outputs": [
    {
     "data": {
      "text/html": [
       "<div>\n",
       "<style scoped>\n",
       "    .dataframe tbody tr th:only-of-type {\n",
       "        vertical-align: middle;\n",
       "    }\n",
       "\n",
       "    .dataframe tbody tr th {\n",
       "        vertical-align: top;\n",
       "    }\n",
       "\n",
       "    .dataframe thead th {\n",
       "        text-align: right;\n",
       "    }\n",
       "</style>\n",
       "<table border=\"1\" class=\"dataframe\">\n",
       "  <thead>\n",
       "    <tr style=\"text-align: right;\">\n",
       "      <th></th>\n",
       "      <th>ID</th>\n",
       "      <th>State</th>\n",
       "      <th>Dice</th>\n",
       "      <th>Zip</th>\n",
       "      <th>GPA</th>\n",
       "    </tr>\n",
       "  </thead>\n",
       "  <tbody>\n",
       "    <tr>\n",
       "      <th>495</th>\n",
       "      <td>496</td>\n",
       "      <td>Rhode Island</td>\n",
       "      <td>1.0</td>\n",
       "      <td>21147.0</td>\n",
       "      <td>3.00</td>\n",
       "    </tr>\n",
       "    <tr>\n",
       "      <th>496</th>\n",
       "      <td>497</td>\n",
       "      <td>Illinois</td>\n",
       "      <td>5.0</td>\n",
       "      <td>61113.0</td>\n",
       "      <td>4.00</td>\n",
       "    </tr>\n",
       "    <tr>\n",
       "      <th>497</th>\n",
       "      <td>498</td>\n",
       "      <td>South Carolina</td>\n",
       "      <td>3.0</td>\n",
       "      <td>NaN</td>\n",
       "      <td>4.00</td>\n",
       "    </tr>\n",
       "    <tr>\n",
       "      <th>498</th>\n",
       "      <td>499</td>\n",
       "      <td>Michigan</td>\n",
       "      <td>4.0</td>\n",
       "      <td>27724.0</td>\n",
       "      <td>3.33</td>\n",
       "    </tr>\n",
       "    <tr>\n",
       "      <th>499</th>\n",
       "      <td>500</td>\n",
       "      <td>Florida</td>\n",
       "      <td>5.0</td>\n",
       "      <td>61113.0</td>\n",
       "      <td>3.33</td>\n",
       "    </tr>\n",
       "  </tbody>\n",
       "</table>\n",
       "</div>"
      ],
      "text/plain": [
       "      ID           State  Dice      Zip   GPA\n",
       "495  496    Rhode Island   1.0  21147.0  3.00\n",
       "496  497        Illinois   5.0  61113.0  4.00\n",
       "497  498  South Carolina   3.0      NaN  4.00\n",
       "498  499        Michigan   4.0  27724.0  3.33\n",
       "499  500         Florida   5.0  61113.0  3.33"
      ]
     },
     "execution_count": 8,
     "metadata": {},
     "output_type": "execute_result"
    }
   ],
   "source": [
    "## look at some rows - head/tail\n",
    "users.head()\n",
    "users.tail()"
   ]
  },
  {
   "cell_type": "markdown",
   "metadata": {
    "colab_type": "text",
    "id": "JF2Dq5dpHiPu"
   },
   "source": [
    "# Describe the dataset"
   ]
  },
  {
   "cell_type": "code",
   "execution_count": 9,
   "metadata": {
    "colab": {},
    "colab_type": "code",
    "id": "20S7IKE-HnDi"
   },
   "outputs": [
    {
     "data": {
      "text/html": [
       "<div>\n",
       "<style scoped>\n",
       "    .dataframe tbody tr th:only-of-type {\n",
       "        vertical-align: middle;\n",
       "    }\n",
       "\n",
       "    .dataframe tbody tr th {\n",
       "        vertical-align: top;\n",
       "    }\n",
       "\n",
       "    .dataframe thead th {\n",
       "        text-align: right;\n",
       "    }\n",
       "</style>\n",
       "<table border=\"1\" class=\"dataframe\">\n",
       "  <thead>\n",
       "    <tr style=\"text-align: right;\">\n",
       "      <th></th>\n",
       "      <th>ID</th>\n",
       "      <th>Dice</th>\n",
       "      <th>Zip</th>\n",
       "      <th>GPA</th>\n",
       "    </tr>\n",
       "  </thead>\n",
       "  <tbody>\n",
       "    <tr>\n",
       "      <th>count</th>\n",
       "      <td>500.000000</td>\n",
       "      <td>450.000000</td>\n",
       "      <td>450.000000</td>\n",
       "      <td>450.000000</td>\n",
       "    </tr>\n",
       "    <tr>\n",
       "      <th>mean</th>\n",
       "      <td>250.500000</td>\n",
       "      <td>3.397778</td>\n",
       "      <td>46732.935556</td>\n",
       "      <td>3.389356</td>\n",
       "    </tr>\n",
       "    <tr>\n",
       "      <th>std</th>\n",
       "      <td>144.481833</td>\n",
       "      <td>1.656329</td>\n",
       "      <td>20240.649098</td>\n",
       "      <td>0.386859</td>\n",
       "    </tr>\n",
       "    <tr>\n",
       "      <th>min</th>\n",
       "      <td>1.000000</td>\n",
       "      <td>1.000000</td>\n",
       "      <td>21147.000000</td>\n",
       "      <td>2.330000</td>\n",
       "    </tr>\n",
       "    <tr>\n",
       "      <th>25%</th>\n",
       "      <td>125.750000</td>\n",
       "      <td>2.000000</td>\n",
       "      <td>28321.000000</td>\n",
       "      <td>3.000000</td>\n",
       "    </tr>\n",
       "    <tr>\n",
       "      <th>50%</th>\n",
       "      <td>250.500000</td>\n",
       "      <td>3.000000</td>\n",
       "      <td>41142.000000</td>\n",
       "      <td>3.330000</td>\n",
       "    </tr>\n",
       "    <tr>\n",
       "      <th>75%</th>\n",
       "      <td>375.250000</td>\n",
       "      <td>5.000000</td>\n",
       "      <td>61113.000000</td>\n",
       "      <td>3.670000</td>\n",
       "    </tr>\n",
       "    <tr>\n",
       "      <th>max</th>\n",
       "      <td>500.000000</td>\n",
       "      <td>6.000000</td>\n",
       "      <td>90794.000000</td>\n",
       "      <td>4.000000</td>\n",
       "    </tr>\n",
       "  </tbody>\n",
       "</table>\n",
       "</div>"
      ],
      "text/plain": [
       "               ID        Dice           Zip         GPA\n",
       "count  500.000000  450.000000    450.000000  450.000000\n",
       "mean   250.500000    3.397778  46732.935556    3.389356\n",
       "std    144.481833    1.656329  20240.649098    0.386859\n",
       "min      1.000000    1.000000  21147.000000    2.330000\n",
       "25%    125.750000    2.000000  28321.000000    3.000000\n",
       "50%    250.500000    3.000000  41142.000000    3.330000\n",
       "75%    375.250000    5.000000  61113.000000    3.670000\n",
       "max    500.000000    6.000000  90794.000000    4.000000"
      ]
     },
     "execution_count": 9,
     "metadata": {},
     "output_type": "execute_result"
    }
   ],
   "source": [
    "# describe the dataset\n",
    "users.describe()"
   ]
  },
  {
   "cell_type": "code",
   "execution_count": 10,
   "metadata": {
    "colab": {},
    "colab_type": "code",
    "id": "__vyUI_sHoC0"
   },
   "outputs": [
    {
     "data": {
      "text/plain": [
       "ID        0\n",
       "State    50\n",
       "Dice     50\n",
       "Zip      50\n",
       "GPA      50\n",
       "dtype: int64"
      ]
     },
     "execution_count": 10,
     "metadata": {},
     "output_type": "execute_result"
    }
   ],
   "source": [
    "# numeric variables, but not all -- text and missing zip codes\n",
    "users.isnull().sum()"
   ]
  },
  {
   "cell_type": "code",
   "execution_count": 0,
   "metadata": {
    "colab": {},
    "colab_type": "code",
    "id": "fARRQ-CCHsIC"
   },
   "outputs": [],
   "source": [
    "# isnull().sum()\n"
   ]
  },
  {
   "cell_type": "markdown",
   "metadata": {
    "colab_type": "text",
    "id": "3vRAfKfMHvSi"
   },
   "source": [
    "## dropna() - if any row missing, remove"
   ]
  },
  {
   "cell_type": "code",
   "execution_count": 18,
   "metadata": {
    "colab": {},
    "colab_type": "code",
    "id": "iWQEFWuHH5jZ"
   },
   "outputs": [],
   "source": [
    "## make a copy of our original dataset users2 with .copy()\n",
    "users2 = users.copy()"
   ]
  },
  {
   "cell_type": "code",
   "execution_count": 19,
   "metadata": {
    "colab": {},
    "colab_type": "code",
    "id": "zHQpZb9CH8Gs"
   },
   "outputs": [],
   "source": [
    "## we can use the drop method - all rows - dropna\n",
    "users2.dropna(inplace = True)"
   ]
  },
  {
   "cell_type": "code",
   "execution_count": 20,
   "metadata": {
    "colab": {},
    "colab_type": "code",
    "id": "WBCZ9b-vIDqy"
   },
   "outputs": [
    {
     "data": {
      "text/plain": [
       "165"
      ]
     },
     "execution_count": 20,
     "metadata": {},
     "output_type": "execute_result"
    }
   ],
   "source": [
    "## how many rows were removed between users and users2?\n",
    "len(users)-len(users2)"
   ]
  },
  {
   "cell_type": "markdown",
   "metadata": {
    "colab_type": "text",
    "id": "ypMYvceyIN0s"
   },
   "source": [
    "# Value Counts"
   ]
  },
  {
   "cell_type": "code",
   "execution_count": 21,
   "metadata": {
    "colab": {},
    "colab_type": "code",
    "id": "q1XnyEjcISJM"
   },
   "outputs": [],
   "source": [
    "## lets make another copy, users 3 - use copy()\n",
    "users3 = users.copy()"
   ]
  },
  {
   "cell_type": "code",
   "execution_count": 24,
   "metadata": {
    "colab": {},
    "colab_type": "code",
    "id": "jmxnDTZdIy8C"
   },
   "outputs": [
    {
     "data": {
      "text/plain": [
       "Index(['ID', 'State', 'Dice', 'Zip', 'GPA'], dtype='object')"
      ]
     },
     "execution_count": 24,
     "metadata": {},
     "output_type": "execute_result"
    }
   ],
   "source": [
    "## print columns again\n",
    "users3.columns"
   ]
  },
  {
   "cell_type": "code",
   "execution_count": 25,
   "metadata": {
    "colab": {},
    "colab_type": "code",
    "id": "x9xBXRtJI238"
   },
   "outputs": [
    {
     "data": {
      "text/plain": [
       "3.0    84\n",
       "2.0    79\n",
       "4.0    78\n",
       "1.0    75\n",
       "5.0    72\n",
       "6.0    62\n",
       "Name: Dice, dtype: int64"
      ]
     },
     "execution_count": 25,
     "metadata": {},
     "output_type": "execute_result"
    }
   ],
   "source": [
    "## lets look at the values for the Dice column\n",
    "## note that pandas is looking for a series, so .column_name helps with the help options with <tab>\n",
    "users.Dice.value_counts()"
   ]
  },
  {
   "cell_type": "code",
   "execution_count": 0,
   "metadata": {
    "colab": {},
    "colab_type": "code",
    "id": "UhKNyE1fJKI3"
   },
   "outputs": [],
   "source": [
    "## lets look at the options, remmeber that each column had 50 values randomly missing?  \n",
    "## value counts removes NAs by default\n"
   ]
  },
  {
   "cell_type": "code",
   "execution_count": 26,
   "metadata": {
    "colab": {},
    "colab_type": "code",
    "id": "kswFzthsJS89"
   },
   "outputs": [
    {
     "data": {
      "text/plain": [
       " 3.33    147\n",
       " 3.00    111\n",
       " 3.67     96\n",
       " 4.00     72\n",
       "NaN       50\n",
       " 2.67     19\n",
       " 2.33      5\n",
       "Name: GPA, dtype: int64"
      ]
     },
     "execution_count": 26,
     "metadata": {},
     "output_type": "execute_result"
    }
   ],
   "source": [
    "# lets do this for the GPA columns\n",
    "users3.GPA.value_counts(dropna = False)"
   ]
  },
  {
   "cell_type": "markdown",
   "metadata": {
    "colab_type": "text",
    "id": "-8cyqsRpKH_q"
   },
   "source": [
    "# Handling of missing values"
   ]
  },
  {
   "cell_type": "markdown",
   "metadata": {
    "colab_type": "text",
    "id": "Hduk-oE2KMEJ"
   },
   "source": [
    "At the simplest level, we can handle missing values in one of two ways:\n",
    "\n",
    "- Drop the rows where the value is missing\n",
    "- Replace the missing values with another value\n",
    "\n",
    "\n",
    "**We will continue to use the dataset `users3`**"
   ]
  },
  {
   "cell_type": "markdown",
   "metadata": {
    "colab_type": "text",
    "id": "tHt_FfniKchp"
   },
   "source": [
    "## Drop Rows"
   ]
  },
  {
   "cell_type": "code",
   "execution_count": 34,
   "metadata": {
    "colab": {},
    "colab_type": "code",
    "id": "baSzEckHKVo8"
   },
   "outputs": [],
   "source": [
    "## Drop the rows where zip code is missing\n",
    "z = users3.Zip.isna()"
   ]
  },
  {
   "cell_type": "code",
   "execution_count": 0,
   "metadata": {
    "colab": {},
    "colab_type": "code",
    "id": "prAqFiA7KZmE"
   },
   "outputs": [],
   "source": [
    "## Drop the rows where state is missing "
   ]
  },
  {
   "cell_type": "markdown",
   "metadata": {
    "colab_type": "text",
    "id": "vZKEUIDbKn4R"
   },
   "source": [
    "## Replace values\n",
    "\n",
    "Replacing values is a tad more complex, but to keep things simple, let's start by replacing with the average or the most frequent value (the mode)"
   ]
  },
  {
   "cell_type": "markdown",
   "metadata": {
    "colab_type": "text",
    "id": "cIZ-ZwMSKwtd"
   },
   "source": [
    "### Mean value replacement"
   ]
  },
  {
   "cell_type": "code",
   "execution_count": 0,
   "metadata": {
    "colab": {},
    "colab_type": "code",
    "id": "UhLu6zfsKzLR"
   },
   "outputs": [],
   "source": [
    "## isolate the average for the GPA column\n",
    "\n"
   ]
  },
  {
   "cell_type": "code",
   "execution_count": 0,
   "metadata": {
    "colab": {},
    "colab_type": "code",
    "id": "gHJF8qz1K2kZ"
   },
   "outputs": [],
   "source": [
    "## find the rows where gpa is missing  - .isna() and notna()\n"
   ]
  },
  {
   "cell_type": "code",
   "execution_count": 0,
   "metadata": {
    "colab": {},
    "colab_type": "code",
    "id": "9rlL6_tWLlWv"
   },
   "outputs": [],
   "source": [
    "## look at missing_gpa - head\n"
   ]
  },
  {
   "cell_type": "code",
   "execution_count": 0,
   "metadata": {
    "colab": {},
    "colab_type": "code",
    "id": "OAynHXefLn6B"
   },
   "outputs": [],
   "source": [
    "## value counts for missing gpa\n"
   ]
  },
  {
   "cell_type": "code",
   "execution_count": 35,
   "metadata": {
    "colab": {},
    "colab_type": "code",
    "id": "f1TWhkpiLtiN"
   },
   "outputs": [
    {
     "ename": "NameError",
     "evalue": "name 'gpa_average' is not defined",
     "output_type": "error",
     "traceback": [
      "\u001b[0;31m---------------------------------------------------------------------------\u001b[0m",
      "\u001b[0;31mNameError\u001b[0m                                 Traceback (most recent call last)",
      "\u001b[0;32m<ipython-input-35-5d6883a623f3>\u001b[0m in \u001b[0;36m<module>\u001b[0;34m\u001b[0m\n\u001b[1;32m      1\u001b[0m \u001b[0;31m## for those rows, replace with .loc\u001b[0m\u001b[0;34m\u001b[0m\u001b[0;34m\u001b[0m\u001b[0;34m\u001b[0m\u001b[0m\n\u001b[1;32m      2\u001b[0m \u001b[0;31m## users3.loc[missing_gpa, \"GPA\"]\u001b[0m\u001b[0;34m\u001b[0m\u001b[0;34m\u001b[0m\u001b[0;34m\u001b[0m\u001b[0m\n\u001b[0;32m----> 3\u001b[0;31m \u001b[0musers\u001b[0m\u001b[0;34m.\u001b[0m\u001b[0mloc\u001b[0m\u001b[0;34m[\u001b[0m\u001b[0mgpa_missing\u001b[0m\u001b[0;34m,\u001b[0m\u001b[0;34m\"GPA\"\u001b[0m\u001b[0;34m]\u001b[0m \u001b[0;34m=\u001b[0m \u001b[0mgpa_average\u001b[0m\u001b[0;34m\u001b[0m\u001b[0;34m\u001b[0m\u001b[0m\n\u001b[0m",
      "\u001b[0;31mNameError\u001b[0m: name 'gpa_average' is not defined"
     ]
    }
   ],
   "source": [
    "## for those rows, replace with .loc\n",
    "## users3.loc[missing_gpa, \"GPA\"] "
   ]
  },
  {
   "cell_type": "code",
   "execution_count": 0,
   "metadata": {
    "colab": {},
    "colab_type": "code",
    "id": "Iqf4ksCAMDyZ"
   },
   "outputs": [],
   "source": [
    "## check with isna and sum\n"
   ]
  },
  {
   "cell_type": "code",
   "execution_count": 0,
   "metadata": {
    "colab": {},
    "colab_type": "code",
    "id": "GRvwS_xxMGpO"
   },
   "outputs": [],
   "source": [
    "## another way, but lets create a copy, users4\n",
    "\n"
   ]
  },
  {
   "cell_type": "code",
   "execution_count": 0,
   "metadata": {
    "colab": {},
    "colab_type": "code",
    "id": "uhAr6C7YMf-z"
   },
   "outputs": [],
   "source": [
    "## use fillna on the series for the column (dot selected) -- default and then inplace option\n",
    "users4.GPA.fillna(gpa_mean, inplace=True)"
   ]
  },
  {
   "cell_type": "code",
   "execution_count": 0,
   "metadata": {
    "colab": {},
    "colab_type": "code",
    "id": "jczlfBA8S7ka"
   },
   "outputs": [],
   "source": [
    "## use fillna on the series for the column (dot selected) -- inplace option"
   ]
  },
  {
   "cell_type": "markdown",
   "metadata": {
    "colab_type": "text",
    "id": "8pspnujYNKfk"
   },
   "source": [
    "### Max value replacement (Mode)"
   ]
  },
  {
   "cell_type": "code",
   "execution_count": 0,
   "metadata": {
    "colab": {},
    "colab_type": "code",
    "id": "XXIb9wA9NXZ6"
   },
   "outputs": [],
   "source": [
    "## make another copy, users5 with \n",
    "users5 = "
   ]
  },
  {
   "cell_type": "code",
   "execution_count": 0,
   "metadata": {
    "colab": {},
    "colab_type": "code",
    "id": "OO5wkhdaOHLM"
   },
   "outputs": [],
   "source": [
    "## replace the dice column with the max value, lets revisit -- dropna false\n"
   ]
  },
  {
   "cell_type": "code",
   "execution_count": 0,
   "metadata": {
    "colab": {},
    "colab_type": "code",
    "id": "bhhCWTqzOMjd"
   },
   "outputs": [],
   "source": [
    "## get the mode - .mode()\n",
    "max_dice = "
   ]
  },
  {
   "cell_type": "code",
   "execution_count": 0,
   "metadata": {
    "colab": {},
    "colab_type": "code",
    "id": "ZBzo29uROVMT"
   },
   "outputs": [],
   "source": [
    "## check the type\n"
   ]
  },
  {
   "cell_type": "code",
   "execution_count": 0,
   "metadata": {
    "colab": {},
    "colab_type": "code",
    "id": "9YU7hhSmPVJM"
   },
   "outputs": [],
   "source": [
    "## isolate the value, not as a series - mode()[0]"
   ]
  },
  {
   "cell_type": "code",
   "execution_count": 0,
   "metadata": {
    "colab": {},
    "colab_type": "code",
    "id": "geQ08GujOV19"
   },
   "outputs": [],
   "source": [
    "## fill the missing values with fillna --inplace=True\n"
   ]
  },
  {
   "cell_type": "code",
   "execution_count": 0,
   "metadata": {
    "colab": {},
    "colab_type": "code",
    "id": "8uyxTVYTOpTN"
   },
   "outputs": [],
   "source": [
    "## lets look again -- dropna=False\n"
   ]
  },
  {
   "cell_type": "code",
   "execution_count": 0,
   "metadata": {
    "colab": {},
    "colab_type": "code",
    "id": "qOdOGpsAR3Y-"
   },
   "outputs": [],
   "source": []
  }
 ],
 "metadata": {
  "colab": {
   "collapsed_sections": [],
   "name": "13-pandas-missing-values",
   "private_outputs": true,
   "provenance": [],
   "toc_visible": true,
   "version": "0.3.2"
  },
  "kernelspec": {
   "display_name": "Python 2",
   "language": "python",
   "name": "python2"
  },
  "language_info": {
   "codemirror_mode": {
    "name": "ipython",
    "version": 2
   },
   "file_extension": ".py",
   "mimetype": "text/x-python",
   "name": "python",
   "nbconvert_exporter": "python",
   "pygments_lexer": "ipython2",
   "version": "2.7.15"
  }
 },
 "nbformat": 4,
 "nbformat_minor": 1
}
