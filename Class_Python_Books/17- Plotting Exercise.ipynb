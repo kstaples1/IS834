{
 "cells": [
  {
   "cell_type": "markdown",
   "metadata": {
    "colab_type": "text",
    "id": "haH-CBrVpD74"
   },
   "source": [
    "# About\n",
    "\n",
    "This exercise will have you reinforce plotting"
   ]
  },
  {
   "cell_type": "markdown",
   "metadata": {
    "colab_type": "text",
    "id": "x7ZvRAN6pOee"
   },
   "source": [
    "#1.  Setup python for analysis"
   ]
  },
  {
   "cell_type": "code",
   "execution_count": 18,
   "metadata": {
    "colab": {},
    "colab_type": "code",
    "id": "VXfx-3ZepSQV"
   },
   "outputs": [],
   "source": [
    "import matplotlib as plt\n",
    "import pandas as pd\n",
    "import numpy as np"
   ]
  },
  {
   "cell_type": "markdown",
   "metadata": {
    "colab_type": "text",
    "id": "I8_jfFAypUk5"
   },
   "source": [
    "# 2.  Load the dataset\n"
   ]
  },
  {
   "cell_type": "code",
   "execution_count": 2,
   "metadata": {
    "colab": {},
    "colab_type": "code",
    "id": "Mz_VTh4upXFj"
   },
   "outputs": [],
   "source": [
    "# bring in the dataset as inc\n",
    "inc_url = \"https://public.tableau.com/s/sites/default/files/media/Data%20Set-%20Inc5000%20Company%20List_2014.csv\"\n",
    "inc = pd.read_csv(inc_url)"
   ]
  },
  {
   "cell_type": "code",
   "execution_count": 10,
   "metadata": {
    "colab": {},
    "colab_type": "code",
    "id": "O39KmVSwpf3I"
   },
   "outputs": [
    {
     "data": {
      "text/plain": [
       "Index(['_input', '_num', '_widgetName', '_source', '_resultNumber', '_pageUrl',\n",
       "       'id', 'rank', 'workers', 'company', 'url', 'state_l', 'state_s', 'city',\n",
       "       'metro', 'growth', 'revenue', 'industry', 'yrs_on_list'],\n",
       "      dtype='object')"
      ]
     },
     "execution_count": 10,
     "metadata": {},
     "output_type": "execute_result"
    }
   ],
   "source": [
    "# explore\n",
    "inc.columns"
   ]
  },
  {
   "cell_type": "code",
   "execution_count": 0,
   "metadata": {
    "colab": {},
    "colab_type": "code",
    "id": "HlwIbzSGpi16"
   },
   "outputs": [],
   "source": []
  },
  {
   "cell_type": "markdown",
   "metadata": {
    "colab_type": "text",
    "id": "k-DER03wpoGs"
   },
   "source": [
    "# 3.  Keep a few core columns"
   ]
  },
  {
   "cell_type": "code",
   "execution_count": 16,
   "metadata": {
    "colab": {},
    "colab_type": "code",
    "id": "OoFLGI8-p7e2"
   },
   "outputs": [],
   "source": [
    "# keep only the id, rank, workers, company, growth, revenue, yrs_on_list, industry columns\n",
    "# keep the dataset as inc\n",
    "inc = inc[['id', 'rank', 'workers', 'company','growth', 'revenue', 'industry', 'yrs_on_list']]\n"
   ]
  },
  {
   "cell_type": "code",
   "execution_count": 27,
   "metadata": {
    "colab": {},
    "colab_type": "code",
    "id": "XGuX7jP-qP9p"
   },
   "outputs": [],
   "source": []
  },
  {
   "cell_type": "markdown",
   "metadata": {
    "colab_type": "text",
    "id": "qv_0hwEAqReg"
   },
   "source": [
    "#4.  Scatterplot of revenue and works"
   ]
  },
  {
   "cell_type": "code",
   "execution_count": 28,
   "metadata": {
    "colab": {},
    "colab_type": "code",
    "id": "BzB-BUzPqVSq"
   },
   "outputs": [
    {
     "data": {
      "text/plain": [
       "<matplotlib.axes._subplots.AxesSubplot at 0x11e7ac128>"
      ]
     },
     "execution_count": 28,
     "metadata": {},
     "output_type": "execute_result"
    },
    {
     "data": {
      "image/png": "[encoded data removed]",
      "text/plain": [
       "<Figure size 432x288 with 1 Axes>"
      ]
     },
     "metadata": {
      "needs_background": "light"
     },
     "output_type": "display_data"
    }
   ],
   "source": [
    "# create a scatterplot of workers (x) and revenue (y)\n",
    "# give the plot a title Revenue by Workers\n",
    "inc.plot(kind=\"scatter\", x = 'workers', y='revenue')"
   ]
  },
  {
   "cell_type": "markdown",
   "metadata": {
    "colab_type": "text",
    "id": "PDAKLhdjqyrX"
   },
   "source": [
    "# 5.  Create a bartplot "
   ]
  },
  {
   "cell_type": "code",
   "execution_count": 0,
   "metadata": {
    "colab": {},
    "colab_type": "code",
    "id": "yVCjp2StrAZC"
   },
   "outputs": [],
   "source": [
    "## create a horizontal barplot showing the counts by industry\n",
    "## sort the largest industry on the top of the plot\n"
   ]
  },
  {
   "cell_type": "markdown",
   "metadata": {
    "colab_type": "text",
    "id": "KCWa-OTGrn_p"
   },
   "source": [
    "# 6 - Boxplots\n"
   ]
  },
  {
   "cell_type": "code",
   "execution_count": 0,
   "metadata": {
    "colab": {},
    "colab_type": "code",
    "id": "GX7XabUjsacn"
   },
   "outputs": [],
   "source": [
    "# generate a boxplot of revenue for the 1000 companies with the lowest revenue\n"
   ]
  },
  {
   "cell_type": "code",
   "execution_count": 0,
   "metadata": {
    "colab": {},
    "colab_type": "code",
    "id": "pLJuEl-fsoB1"
   },
   "outputs": [],
   "source": []
  },
  {
   "cell_type": "code",
   "execution_count": 0,
   "metadata": {
    "colab": {},
    "colab_type": "code",
    "id": "DCYxGJRptd0i"
   },
   "outputs": [],
   "source": []
  },
  {
   "cell_type": "code",
   "execution_count": 0,
   "metadata": {
    "colab": {},
    "colab_type": "code",
    "id": "Y7vYSbKctk_f"
   },
   "outputs": [],
   "source": []
  }
 ],
 "metadata": {
  "colab": {
   "collapsed_sections": [],
   "name": "17- Plotting Exercise.ipynb",
   "private_outputs": true,
   "provenance": [],
   "version": "0.3.2"
  },
  "kernelspec": {
   "display_name": "Python 3",
   "language": "python",
   "name": "python3"
  },
  "language_info": {
   "codemirror_mode": {
    "name": "ipython",
    "version": 3
   },
   "file_extension": ".py",
   "mimetype": "text/x-python",
   "name": "python",
   "nbconvert_exporter": "python",
   "pygments_lexer": "ipython3",
   "version": "3.7.2"
  }
 },
 "nbformat": 4,
 "nbformat_minor": 1
}
