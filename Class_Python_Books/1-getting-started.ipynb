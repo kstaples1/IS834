{
 "cells": [
  {
   "cell_type": "markdown",
   "metadata": {
    "colab_type": "text",
    "id": "SOTGI-0zqKKg"
   },
   "source": [
    "# Overview\n",
    "\n",
    "- Google Colaboratory quick review\n",
    "- Anaconda local development setup\n",
    "- Deeper dive into Google Colab\n",
    "- Example of a business analytics project in python\n",
    "- Intro to Business Analytics in Python\n",
    "\n"
   ]
  },
  {
   "cell_type": "markdown",
   "metadata": {
    "colab_type": "text",
    "id": "X3B1sCx9-t5P"
   },
   "source": [
    "\n",
    "\n",
    "---\n",
    "\n"
   ]
  },
  {
   "cell_type": "markdown",
   "metadata": {
    "colab_type": "text",
    "id": "bPu7JcJy5Eij"
   },
   "source": [
    "# Python Notebooks and Google Colab\n",
    "\n"
   ]
  },
  {
   "cell_type": "markdown",
   "metadata": {
    "colab_type": "text",
    "id": "ZMwhThxk5LL8"
   },
   "source": [
    "Google Colab is new, but it's pretty impressive so I am electing to use it for class\n",
    "\n",
    "*   **Free** server in the cloud with really good specs for memory and **temporary** hard drive storage\n",
    "*   Coding in a ***notebook*** style way has become increasingly popular, as we can both write/execute code AND document/tell a story with interspersed text formatted using [markdown](https://colab.research.google.com/notebooks/markdown_guide.ipynb)\n",
    "\n",
    "> ***See the notebook above, it's an example Colab notebook giving a quick tutorial on Markdown in Colab.  Google has create a number of these***\n",
    "\n",
    "\n",
    "\n"
   ]
  },
  {
   "cell_type": "markdown",
   "metadata": {
    "colab_type": "text",
    "id": "-f3ZzUgt6fhK"
   },
   "source": [
    "## Let's poke around the interface"
   ]
  },
  {
   "cell_type": "markdown",
   "metadata": {
    "colab_type": "text",
    "id": "oHtJk6HO71DE"
   },
   "source": [
    "Overall, the interface is very similar to editing a Google Doc or sheet, with many similar features:\n",
    "\n",
    "- Share the document with team members for real-time collaboration\n",
    "- Can add comments to a cell for team review and discussion outside of the notes and code\n",
    "- Behaves in many ways just like any other Google doc/sheet/presentation/file\n",
    "\n",
    "\n",
    "\n",
    "\n",
    "\n"
   ]
  },
  {
   "cell_type": "markdown",
   "metadata": {
    "colab_type": "text",
    "id": "sZV_lpTr9xei"
   },
   "source": [
    "#### Upper left icon\n",
    "\n",
    "- Finds all colab notebooks in your Google Drive icon\n",
    "\n"
   ]
  },
  {
   "cell_type": "markdown",
   "metadata": {
    "colab_type": "text",
    "id": "ojmvZx6j9z_c"
   },
   "source": [
    "\n",
    "#### Left Hand Nav\n",
    "\n",
    "- Organize your analytics project as a story with a table of contents\n",
    "- access to helpful code snippets\n",
    "- access to your temporary servers file system\n"
   ]
  },
  {
   "cell_type": "markdown",
   "metadata": {
    "colab_type": "text",
    "id": "Ds3X9Ih-92k0"
   },
   "source": [
    "\n",
    "> **TIP:**  Can select items in the TOC and move them around with the Cell Up/Down icons in the toolbar"
   ]
  },
  {
   "cell_type": "markdown",
   "metadata": {
    "colab_type": "text",
    "id": "iGivPpDu-QKs"
   },
   "source": [
    "> **TIP**:  Did you download a file to your server's system.  Because the file will go away after 12 hours, do you want to download that file to your local laptop?  From the files menu, right-click the file, and select download.  It's that easy!"
   ]
  },
  {
   "cell_type": "markdown",
   "metadata": {
    "colab_type": "text",
    "id": "BWvu3HnU-qbB"
   },
   "source": [
    "\n",
    "\n",
    "---\n",
    "\n"
   ]
  },
  {
   "cell_type": "markdown",
   "metadata": {
    "colab_type": "text",
    "id": "mstjUhI497kk"
   },
   "source": [
    "# Anaconda Setup\n",
    "\n",
    "In [Questrom Tools](https://questromtools.bu.edu/access/content/group/SPRG19IS834E1/Python%20Environment%20Setup%20Instructions.pdf)  I added a document on getting started with Google Colab as well as the Anaconda Navigator to help manage local python development.\n",
    "\n",
    "It is highly recommended that you use either Anaconda Navigator or Miniconda to manage python development locally, as it works for both Mac and Windows users."
   ]
  },
  {
   "cell_type": "markdown",
   "metadata": {
    "colab_type": "text",
    "id": "uA7bDl6w-fQr"
   },
   "source": [
    "### Quick Anaconda Development\n",
    "\n",
    "I will jump out and show you how to quickly fire up the tools you need to code locally.  This will be helpful for homeworks, when you don't have access to the Web, etc.\n",
    "\n",
    "\n",
    "\n"
   ]
  },
  {
   "cell_type": "markdown",
   "metadata": {
    "colab_type": "text",
    "id": "gdpml4IZ-o1H"
   },
   "source": [
    "\n",
    "\n",
    "---\n",
    "\n"
   ]
  },
  {
   "cell_type": "markdown",
   "metadata": {
    "colab_type": "text",
    "id": "tFRFaMzz87JY"
   },
   "source": [
    "# Colab Deeper Dive \n",
    "\n"
   ]
  },
  {
   "cell_type": "markdown",
   "metadata": {
    "colab_type": "text",
    "id": "rktnCJzS_VQI"
   },
   "source": [
    "### Coding in a Notebook?  Huh?\n",
    "\n",
    "\n",
    "![notebook-explosion](https://github.com/Btibert3/public-figs/blob/master/is834/notebook-trends.png?raw=true)"
   ]
  },
  {
   "cell_type": "markdown",
   "metadata": {
    "colab_type": "text",
    "id": "mzOhn5zyCzML"
   },
   "source": [
    "- Python scripting used to lack tools geared towards those of us who analyze data\n",
    "- iPython came along, but when the notebook (which expanded ipython) came along, you can see it's the preferred tool to write python (and perhaps, `R` code)\n",
    "\n",
    "Notebooks are great to mix the story telling of your analysis with the actual code that is crunching the data.  \n",
    "\n",
    "Google Colaboratory is interesting because it's a pretty hefty server to crunch data, at least for our course, and it's 100% free and acts like a Google Doc.\n"
   ]
  },
  {
   "cell_type": "markdown",
   "metadata": {
    "colab_type": "text",
    "id": "BotinnlFDZW6"
   },
   "source": [
    "### Colab and other formats\n",
    "\n",
    "The `File` tree shows us that we can export in `ipynb` and `.py` formats, which are notebooks and python scripts.  If you are given a notebook (which I will be doing all the time), you can import this via File Open Notebook, which presents a number of options."
   ]
  },
  {
   "cell_type": "markdown",
   "metadata": {
    "colab_type": "text",
    "id": "pnQBa4YC_UJG"
   },
   "source": [
    "### Connection to a runtime\n",
    "\n",
    "In the navigation bar, there is a status indicator whether or not we are connected to a runtime engine for our python environment.  In the cloud, Google provides a large number of common python packages for data science, which is great as we can just write code.\n",
    "\n",
    "With that said, for your code to run, you need to ensure that you are connected.\n",
    "\n",
    ">  **NOTE**:  This course requires that you use python 3.  You can ensure that you are using python 3 by selecting Runtime from the menu options under the notebook title, and *manage runtime options*"
   ]
  },
  {
   "cell_type": "markdown",
   "metadata": {
    "colab_type": "text",
    "id": "emktrZPiAPZn"
   },
   "source": [
    "## Helpful links for Colab Notebooks\n",
    "\n",
    "- [Basic features overview](https://colab.research.google.com/notebooks/basic_features_overview.ipynb)\n",
    "- [Formatting your code with Markdown](https://colab.research.google.com/notebooks/markdown_guide.ipynb)\n",
    "- [Managing files in Colab](https://colab.research.google.com/notebooks/snippets/drive.ipynb)\n",
    "- [Charts and Plots](https://colab.research.google.com/notebooks/charts.ipynb)\n"
   ]
  },
  {
   "cell_type": "markdown",
   "metadata": {
    "colab_type": "text",
    "id": "FYUjl8n0BO0o"
   },
   "source": [
    "## Keyboard Shortcuts are your friend\n",
    "\n"
   ]
  },
  {
   "cell_type": "markdown",
   "metadata": {
    "colab_type": "text",
    "id": "goHR0JE_E_NC"
   },
   "source": [
    "When writing code, you will quickly want to use keyboard shortcuts to do things like create new cells, execute code (and jump to the next cell), etc.\n",
    "\n",
    "`Tools > Keyboard Shortcuts` lists the set commands and itemizes those that do not yet have a command associated with them."
   ]
  },
  {
   "cell_type": "markdown",
   "metadata": {
    "colab_type": "text",
    "id": "Bjokgkz-FyZQ"
   },
   "source": [
    "![shortcuts](https://github.com/Btibert3/public-figs/blob/master/is834/keyboard-shortcuts.png?raw=true)\n",
    "\n",
    "Above I added 3 shortcuts.  Colab will yell at you if your proposed shortcut can't be used or conflicts with another.  \n",
    "\n",
    "I use Control + M and C/V/X which are 3 adjacent keys on the keyboard for:\n",
    "\n",
    "- `C` for a code cell\n",
    "- `X` for a text cell\n",
    "- `V` to add a section header\n",
    "\n",
    "> **NOTE**:  A section header is the same as a new text cell with `# Section Name here`, or an `H1` tag in Markdown, which is signaled by just a single `#` character.\n",
    "\n",
    "\n",
    "### Other shortcuts\n",
    "\n",
    "- `Control/Command + shift + enter`  will run the selection within a cell by itself, **which is great for testing commands**\n",
    "- `Control/Command + enter` will run the current cell in-place\n",
    "- `Shift/Return` runs the current cell and selects (or creates) a new code cell below it if a cell does not exist.\n",
    "-  `Control/Command + M + D` will delete the currently selected cell\n",
    "- `Control/Command  + S` will save your notebook.  \n"
   ]
  },
  {
   "cell_type": "markdown",
   "metadata": {
    "colab_type": "text",
    "id": "IH1_oPPGGja_"
   },
   "source": [
    "## Tips and Tricks\n",
    "\n",
    "When you are getting started, especially when mixing in text into your notebooks, use the help above, which let's you set heading levels, bold/italicize text, etc.  \n",
    "\n",
    "Play around with with these down in various cells to understand how to quickly apply styles to break up your analysis and tell your project's story."
   ]
  }
 ],
 "metadata": {
  "colab": {
   "collapsed_sections": [],
   "name": "1-getting-started.ipynb",
   "provenance": [],
   "toc_visible": true,
   "version": "0.3.2"
  },
  "kernelspec": {
   "display_name": "Python 3",
   "language": "python",
   "name": "python3"
  },
  "language_info": {
   "codemirror_mode": {
    "name": "ipython",
    "version": 3
   },
   "file_extension": ".py",
   "mimetype": "text/x-python",
   "name": "python",
   "nbconvert_exporter": "python",
   "pygments_lexer": "ipython3",
   "version": "3.7.2"
  }
 },
 "nbformat": 4,
 "nbformat_minor": 1
}
