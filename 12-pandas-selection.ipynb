{
 "cells": [
  {
   "cell_type": "markdown",
   "metadata": {
    "colab_type": "text",
    "id": "NWk0tQ_J7kHO"
   },
   "source": [
    "# Pandas- Selecting and Filtering Rows and Columns"
   ]
  },
  {
   "cell_type": "markdown",
   "metadata": {
    "colab_type": "text",
    "id": "ZnaoDkGfVJ2p"
   },
   "source": [
    "![pandas](https://pandas.pydata.org/_static/pandas_logo.png)"
   ]
  },
  {
   "cell_type": "markdown",
   "metadata": {
    "colab_type": "text",
    "id": "kjGsYyVLXhYl"
   },
   "source": [
    "![df-overview](https://cdn-images-1.medium.com/max/1600/1*6p6nF4_5XpHgcrYRrLYVAw.png)"
   ]
  },
  {
   "cell_type": "code",
   "execution_count": 1,
   "metadata": {
    "colab": {},
    "colab_type": "code",
    "id": "IKO8qZJp_SsE"
   },
   "outputs": [],
   "source": [
    "# setup\n",
    "import numpy as np\n",
    "import pandas as pd\n",
    "\n",
    "# set the seed\n",
    "np.random.seed(12345)"
   ]
  },
  {
   "cell_type": "markdown",
   "metadata": {
    "colab_type": "text",
    "id": "s-kQlxBd_dqc"
   },
   "source": [
    "## Exercise:\n",
    "\n",
    "You should still have the diamonds dataset in your files.  Load the dataset and assign it to an object called `diamonds`."
   ]
  },
  {
   "cell_type": "code",
   "execution_count": 14,
   "metadata": {
    "colab": {},
    "colab_type": "code",
    "id": "RNYvb_OG_zZR"
   },
   "outputs": [
    {
     "data": {
      "text/plain": [
       "'/Users/Kyle_Staples/Documents/GitHub/IS834'"
      ]
     },
     "execution_count": 14,
     "metadata": {},
     "output_type": "execute_result"
    }
   ],
   "source": [
    "## load the dataset and assign it to an object called diamonds\n",
    "diamonds = pd.read_csv('datasets/diamonds.csv')\n",
    "diamonds.head()"
   ]
  },
  {
   "cell_type": "markdown",
   "metadata": {
    "colab_type": "text",
    "id": "go58EnaUKfQ8"
   },
   "source": [
    "\n",
    "\n",
    "---\n",
    "\n"
   ]
  },
  {
   "cell_type": "markdown",
   "metadata": {
    "colab_type": "text",
    "id": "u7ZXC5bFAIun"
   },
   "source": [
    "# Deleting a column"
   ]
  },
  {
   "cell_type": "markdown",
   "metadata": {
    "colab_type": "text",
    "id": "4gn34yN8ALNz"
   },
   "source": [
    "We saw last section that we can use `read_*` and specify the columns to be used.  We can also manually remove them."
   ]
  },
  {
   "cell_type": "code",
   "execution_count": 8,
   "metadata": {
    "colab": {},
    "colab_type": "code",
    "id": "kwNynCq0AaJE"
   },
   "outputs": [
    {
     "data": {
      "text/html": [
       "<div>\n",
       "<style scoped>\n",
       "    .dataframe tbody tr th:only-of-type {\n",
       "        vertical-align: middle;\n",
       "    }\n",
       "\n",
       "    .dataframe tbody tr th {\n",
       "        vertical-align: top;\n",
       "    }\n",
       "\n",
       "    .dataframe thead th {\n",
       "        text-align: right;\n",
       "    }\n",
       "</style>\n",
       "<table border=\"1\" class=\"dataframe\">\n",
       "  <thead>\n",
       "    <tr style=\"text-align: right;\">\n",
       "      <th></th>\n",
       "      <th>Unnamed: 0</th>\n",
       "      <th>carat</th>\n",
       "      <th>cut</th>\n",
       "      <th>color</th>\n",
       "      <th>clarity</th>\n",
       "      <th>depth</th>\n",
       "      <th>table</th>\n",
       "      <th>price</th>\n",
       "      <th>x</th>\n",
       "      <th>y</th>\n",
       "      <th>z</th>\n",
       "    </tr>\n",
       "  </thead>\n",
       "  <tbody>\n",
       "    <tr>\n",
       "      <th>0</th>\n",
       "      <td>1</td>\n",
       "      <td>0.23</td>\n",
       "      <td>Ideal</td>\n",
       "      <td>E</td>\n",
       "      <td>SI2</td>\n",
       "      <td>61.5</td>\n",
       "      <td>55.0</td>\n",
       "      <td>326</td>\n",
       "      <td>3.95</td>\n",
       "      <td>3.98</td>\n",
       "      <td>2.43</td>\n",
       "    </tr>\n",
       "    <tr>\n",
       "      <th>1</th>\n",
       "      <td>2</td>\n",
       "      <td>0.21</td>\n",
       "      <td>Premium</td>\n",
       "      <td>E</td>\n",
       "      <td>SI1</td>\n",
       "      <td>59.8</td>\n",
       "      <td>61.0</td>\n",
       "      <td>326</td>\n",
       "      <td>3.89</td>\n",
       "      <td>3.84</td>\n",
       "      <td>2.31</td>\n",
       "    </tr>\n",
       "    <tr>\n",
       "      <th>2</th>\n",
       "      <td>3</td>\n",
       "      <td>0.23</td>\n",
       "      <td>Good</td>\n",
       "      <td>E</td>\n",
       "      <td>VS1</td>\n",
       "      <td>56.9</td>\n",
       "      <td>65.0</td>\n",
       "      <td>327</td>\n",
       "      <td>4.05</td>\n",
       "      <td>4.07</td>\n",
       "      <td>2.31</td>\n",
       "    </tr>\n",
       "    <tr>\n",
       "      <th>3</th>\n",
       "      <td>4</td>\n",
       "      <td>0.29</td>\n",
       "      <td>Premium</td>\n",
       "      <td>I</td>\n",
       "      <td>VS2</td>\n",
       "      <td>62.4</td>\n",
       "      <td>58.0</td>\n",
       "      <td>334</td>\n",
       "      <td>4.20</td>\n",
       "      <td>4.23</td>\n",
       "      <td>2.63</td>\n",
       "    </tr>\n",
       "    <tr>\n",
       "      <th>4</th>\n",
       "      <td>5</td>\n",
       "      <td>0.31</td>\n",
       "      <td>Good</td>\n",
       "      <td>J</td>\n",
       "      <td>SI2</td>\n",
       "      <td>63.3</td>\n",
       "      <td>58.0</td>\n",
       "      <td>335</td>\n",
       "      <td>4.34</td>\n",
       "      <td>4.35</td>\n",
       "      <td>2.75</td>\n",
       "    </tr>\n",
       "  </tbody>\n",
       "</table>\n",
       "</div>"
      ],
      "text/plain": [
       "   Unnamed: 0  carat      cut color clarity  depth  table  price     x     y  \\\n",
       "0           1   0.23    Ideal     E     SI2   61.5   55.0    326  3.95  3.98   \n",
       "1           2   0.21  Premium     E     SI1   59.8   61.0    326  3.89  3.84   \n",
       "2           3   0.23     Good     E     VS1   56.9   65.0    327  4.05  4.07   \n",
       "3           4   0.29  Premium     I     VS2   62.4   58.0    334  4.20  4.23   \n",
       "4           5   0.31     Good     J     SI2   63.3   58.0    335  4.34  4.35   \n",
       "\n",
       "      z  \n",
       "0  2.43  \n",
       "1  2.31  \n",
       "2  2.31  \n",
       "3  2.63  \n",
       "4  2.75  "
      ]
     },
     "execution_count": 8,
     "metadata": {},
     "output_type": "execute_result"
    }
   ],
   "source": [
    "diamonds.head()"
   ]
  },
  {
   "cell_type": "code",
   "execution_count": 9,
   "metadata": {
    "colab": {},
    "colab_type": "code",
    "id": "4zbUkzpnASRN"
   },
   "outputs": [
    {
     "data": {
      "text/plain": [
       "Index(['Unnamed: 0', 'carat', 'cut', 'color', 'clarity', 'depth', 'table',\n",
       "       'price', 'x', 'y', 'z'],\n",
       "      dtype='object')"
      ]
     },
     "execution_count": 9,
     "metadata": {},
     "output_type": "execute_result"
    }
   ],
   "source": [
    "diamonds.columns"
   ]
  },
  {
   "cell_type": "code",
   "execution_count": 19,
   "metadata": {
    "colab": {},
    "colab_type": "code",
    "id": "I2fibXPMAYzo"
   },
   "outputs": [
    {
     "data": {
      "text/plain": [
       "Index(['carat', 'cut', 'color', 'clarity', 'depth', 'table', 'price', 'x', 'y',\n",
       "       'z'],\n",
       "      dtype='object')"
      ]
     },
     "execution_count": 19,
     "metadata": {},
     "output_type": "execute_result"
    }
   ],
   "source": [
    "# remember we can remove, or delete things, with del?\n",
    "#del diamonds['Unnamed: 0']\n",
    "diamonds.columns"
   ]
  },
  {
   "cell_type": "code",
   "execution_count": 24,
   "metadata": {},
   "outputs": [
    {
     "data": {
      "text/plain": [
       "<matplotlib.axes._subplots.AxesSubplot at 0x123eb3358>"
      ]
     },
     "execution_count": 24,
     "metadata": {},
     "output_type": "execute_result"
    }
   ],
   "source": [
    "price = diamonds.price"
   ]
  },
  {
   "cell_type": "code",
   "execution_count": 31,
   "metadata": {},
   "outputs": [
    {
     "data": {
      "text/plain": [
       "<matplotlib.axes._subplots.AxesSubplot at 0x124209438>"
      ]
     },
     "execution_count": 31,
     "metadata": {},
     "output_type": "execute_result"
    },
    {
     "data": {
      "image/png": "[encoded data removed]",
      "text/plain": [
       "<Figure size 432x288 with 1 Axes>"
      ]
     },
     "metadata": {
      "needs_background": "light"
     },
     "output_type": "display_data"
    }
   ],
   "source": [
    "price.plot(kind='hist')"
   ]
  },
  {
   "cell_type": "markdown",
   "metadata": {
    "colab_type": "text",
    "id": "m_SGg6U6_M4D"
   },
   "source": [
    "# Subsetting Columns\n",
    "\n",
    "First lets start with selecting a single columns"
   ]
  },
  {
   "cell_type": "code",
   "execution_count": 0,
   "metadata": {
    "colab": {},
    "colab_type": "code",
    "id": "dqpNNYkY_O2S"
   },
   "outputs": [],
   "source": [
    "# look at the head of the dataset\n",
    "diamonds.head()"
   ]
  },
  {
   "cell_type": "code",
   "execution_count": 0,
   "metadata": {
    "colab": {},
    "colab_type": "code",
    "id": "mKq1CUKUACtb"
   },
   "outputs": [],
   "source": [
    "# select the price column\n",
    "\n"
   ]
  },
  {
   "cell_type": "code",
   "execution_count": 0,
   "metadata": {
    "colab": {},
    "colab_type": "code",
    "id": "C9ET-4d7BEvT"
   },
   "outputs": [],
   "source": [
    "# what do we think will be returned?\n"
   ]
  },
  {
   "cell_type": "code",
   "execution_count": 0,
   "metadata": {
    "colab": {},
    "colab_type": "code",
    "id": "t_H7baIgBJUg"
   },
   "outputs": [],
   "source": [
    "# we saw that we can do quick plots, lets do a histogram\n"
   ]
  },
  {
   "cell_type": "code",
   "execution_count": 0,
   "metadata": {
    "colab": {},
    "colab_type": "code",
    "id": "Kpdhnw_yBQqr"
   },
   "outputs": [],
   "source": [
    "## we can also select more than 1 column at a time\n",
    "## what do we think we use?\n",
    "\n",
    "\n"
   ]
  },
  {
   "cell_type": "markdown",
   "metadata": {
    "colab_type": "text",
    "id": "ym_ZURJ2BvUe"
   },
   "source": [
    "\n",
    "## Exercise:\n",
    "\n",
    "Select the color and clarity columns:"
   ]
  },
  {
   "cell_type": "code",
   "execution_count": 35,
   "metadata": {
    "colab": {},
    "colab_type": "code",
    "id": "sym7ajl-CD1b"
   },
   "outputs": [
    {
     "data": {
      "text/html": [
       "<div>\n",
       "<style scoped>\n",
       "    .dataframe tbody tr th:only-of-type {\n",
       "        vertical-align: middle;\n",
       "    }\n",
       "\n",
       "    .dataframe tbody tr th {\n",
       "        vertical-align: top;\n",
       "    }\n",
       "\n",
       "    .dataframe thead th {\n",
       "        text-align: right;\n",
       "    }\n",
       "</style>\n",
       "<table border=\"1\" class=\"dataframe\">\n",
       "  <thead>\n",
       "    <tr style=\"text-align: right;\">\n",
       "      <th></th>\n",
       "      <th>color</th>\n",
       "      <th>clarity</th>\n",
       "    </tr>\n",
       "  </thead>\n",
       "  <tbody>\n",
       "    <tr>\n",
       "      <th>0</th>\n",
       "      <td>E</td>\n",
       "      <td>SI2</td>\n",
       "    </tr>\n",
       "    <tr>\n",
       "      <th>1</th>\n",
       "      <td>E</td>\n",
       "      <td>SI1</td>\n",
       "    </tr>\n",
       "    <tr>\n",
       "      <th>2</th>\n",
       "      <td>E</td>\n",
       "      <td>VS1</td>\n",
       "    </tr>\n",
       "    <tr>\n",
       "      <th>3</th>\n",
       "      <td>I</td>\n",
       "      <td>VS2</td>\n",
       "    </tr>\n",
       "    <tr>\n",
       "      <th>4</th>\n",
       "      <td>J</td>\n",
       "      <td>SI2</td>\n",
       "    </tr>\n",
       "    <tr>\n",
       "      <th>5</th>\n",
       "      <td>J</td>\n",
       "      <td>VVS2</td>\n",
       "    </tr>\n",
       "    <tr>\n",
       "      <th>6</th>\n",
       "      <td>I</td>\n",
       "      <td>VVS1</td>\n",
       "    </tr>\n",
       "    <tr>\n",
       "      <th>7</th>\n",
       "      <td>H</td>\n",
       "      <td>SI1</td>\n",
       "    </tr>\n",
       "    <tr>\n",
       "      <th>8</th>\n",
       "      <td>E</td>\n",
       "      <td>VS2</td>\n",
       "    </tr>\n",
       "    <tr>\n",
       "      <th>9</th>\n",
       "      <td>H</td>\n",
       "      <td>VS1</td>\n",
       "    </tr>\n",
       "    <tr>\n",
       "      <th>10</th>\n",
       "      <td>J</td>\n",
       "      <td>SI1</td>\n",
       "    </tr>\n",
       "    <tr>\n",
       "      <th>11</th>\n",
       "      <td>J</td>\n",
       "      <td>VS1</td>\n",
       "    </tr>\n",
       "    <tr>\n",
       "      <th>12</th>\n",
       "      <td>F</td>\n",
       "      <td>SI1</td>\n",
       "    </tr>\n",
       "    <tr>\n",
       "      <th>13</th>\n",
       "      <td>J</td>\n",
       "      <td>SI2</td>\n",
       "    </tr>\n",
       "    <tr>\n",
       "      <th>14</th>\n",
       "      <td>E</td>\n",
       "      <td>SI2</td>\n",
       "    </tr>\n",
       "    <tr>\n",
       "      <th>15</th>\n",
       "      <td>E</td>\n",
       "      <td>I1</td>\n",
       "    </tr>\n",
       "    <tr>\n",
       "      <th>16</th>\n",
       "      <td>I</td>\n",
       "      <td>SI2</td>\n",
       "    </tr>\n",
       "    <tr>\n",
       "      <th>17</th>\n",
       "      <td>J</td>\n",
       "      <td>SI1</td>\n",
       "    </tr>\n",
       "    <tr>\n",
       "      <th>18</th>\n",
       "      <td>J</td>\n",
       "      <td>SI1</td>\n",
       "    </tr>\n",
       "    <tr>\n",
       "      <th>19</th>\n",
       "      <td>J</td>\n",
       "      <td>SI1</td>\n",
       "    </tr>\n",
       "    <tr>\n",
       "      <th>20</th>\n",
       "      <td>I</td>\n",
       "      <td>SI2</td>\n",
       "    </tr>\n",
       "    <tr>\n",
       "      <th>21</th>\n",
       "      <td>E</td>\n",
       "      <td>VS2</td>\n",
       "    </tr>\n",
       "    <tr>\n",
       "      <th>22</th>\n",
       "      <td>H</td>\n",
       "      <td>VS1</td>\n",
       "    </tr>\n",
       "    <tr>\n",
       "      <th>23</th>\n",
       "      <td>J</td>\n",
       "      <td>SI1</td>\n",
       "    </tr>\n",
       "    <tr>\n",
       "      <th>24</th>\n",
       "      <td>J</td>\n",
       "      <td>SI1</td>\n",
       "    </tr>\n",
       "    <tr>\n",
       "      <th>25</th>\n",
       "      <td>G</td>\n",
       "      <td>VVS2</td>\n",
       "    </tr>\n",
       "    <tr>\n",
       "      <th>26</th>\n",
       "      <td>I</td>\n",
       "      <td>VS1</td>\n",
       "    </tr>\n",
       "    <tr>\n",
       "      <th>27</th>\n",
       "      <td>J</td>\n",
       "      <td>VS2</td>\n",
       "    </tr>\n",
       "    <tr>\n",
       "      <th>28</th>\n",
       "      <td>D</td>\n",
       "      <td>VS2</td>\n",
       "    </tr>\n",
       "    <tr>\n",
       "      <th>29</th>\n",
       "      <td>F</td>\n",
       "      <td>VS1</td>\n",
       "    </tr>\n",
       "    <tr>\n",
       "      <th>...</th>\n",
       "      <td>...</td>\n",
       "      <td>...</td>\n",
       "    </tr>\n",
       "    <tr>\n",
       "      <th>53910</th>\n",
       "      <td>E</td>\n",
       "      <td>SI1</td>\n",
       "    </tr>\n",
       "    <tr>\n",
       "      <th>53911</th>\n",
       "      <td>E</td>\n",
       "      <td>IF</td>\n",
       "    </tr>\n",
       "    <tr>\n",
       "      <th>53912</th>\n",
       "      <td>F</td>\n",
       "      <td>VVS1</td>\n",
       "    </tr>\n",
       "    <tr>\n",
       "      <th>53913</th>\n",
       "      <td>G</td>\n",
       "      <td>VS2</td>\n",
       "    </tr>\n",
       "    <tr>\n",
       "      <th>53914</th>\n",
       "      <td>I</td>\n",
       "      <td>VS1</td>\n",
       "    </tr>\n",
       "    <tr>\n",
       "      <th>53915</th>\n",
       "      <td>E</td>\n",
       "      <td>SI2</td>\n",
       "    </tr>\n",
       "    <tr>\n",
       "      <th>53916</th>\n",
       "      <td>D</td>\n",
       "      <td>SI1</td>\n",
       "    </tr>\n",
       "    <tr>\n",
       "      <th>53917</th>\n",
       "      <td>J</td>\n",
       "      <td>SI1</td>\n",
       "    </tr>\n",
       "    <tr>\n",
       "      <th>53918</th>\n",
       "      <td>I</td>\n",
       "      <td>VS1</td>\n",
       "    </tr>\n",
       "    <tr>\n",
       "      <th>53919</th>\n",
       "      <td>I</td>\n",
       "      <td>VVS1</td>\n",
       "    </tr>\n",
       "    <tr>\n",
       "      <th>53920</th>\n",
       "      <td>E</td>\n",
       "      <td>VS2</td>\n",
       "    </tr>\n",
       "    <tr>\n",
       "      <th>53921</th>\n",
       "      <td>E</td>\n",
       "      <td>VS2</td>\n",
       "    </tr>\n",
       "    <tr>\n",
       "      <th>53922</th>\n",
       "      <td>D</td>\n",
       "      <td>VS1</td>\n",
       "    </tr>\n",
       "    <tr>\n",
       "      <th>53923</th>\n",
       "      <td>I</td>\n",
       "      <td>VS2</td>\n",
       "    </tr>\n",
       "    <tr>\n",
       "      <th>53924</th>\n",
       "      <td>I</td>\n",
       "      <td>VS2</td>\n",
       "    </tr>\n",
       "    <tr>\n",
       "      <th>53925</th>\n",
       "      <td>I</td>\n",
       "      <td>SI1</td>\n",
       "    </tr>\n",
       "    <tr>\n",
       "      <th>53926</th>\n",
       "      <td>E</td>\n",
       "      <td>SI1</td>\n",
       "    </tr>\n",
       "    <tr>\n",
       "      <th>53927</th>\n",
       "      <td>F</td>\n",
       "      <td>SI1</td>\n",
       "    </tr>\n",
       "    <tr>\n",
       "      <th>53928</th>\n",
       "      <td>E</td>\n",
       "      <td>SI2</td>\n",
       "    </tr>\n",
       "    <tr>\n",
       "      <th>53929</th>\n",
       "      <td>G</td>\n",
       "      <td>VS1</td>\n",
       "    </tr>\n",
       "    <tr>\n",
       "      <th>53930</th>\n",
       "      <td>E</td>\n",
       "      <td>SI1</td>\n",
       "    </tr>\n",
       "    <tr>\n",
       "      <th>53931</th>\n",
       "      <td>F</td>\n",
       "      <td>SI1</td>\n",
       "    </tr>\n",
       "    <tr>\n",
       "      <th>53932</th>\n",
       "      <td>E</td>\n",
       "      <td>VS2</td>\n",
       "    </tr>\n",
       "    <tr>\n",
       "      <th>53933</th>\n",
       "      <td>E</td>\n",
       "      <td>VS2</td>\n",
       "    </tr>\n",
       "    <tr>\n",
       "      <th>53934</th>\n",
       "      <td>D</td>\n",
       "      <td>SI1</td>\n",
       "    </tr>\n",
       "    <tr>\n",
       "      <th>53935</th>\n",
       "      <td>D</td>\n",
       "      <td>SI1</td>\n",
       "    </tr>\n",
       "    <tr>\n",
       "      <th>53936</th>\n",
       "      <td>D</td>\n",
       "      <td>SI1</td>\n",
       "    </tr>\n",
       "    <tr>\n",
       "      <th>53937</th>\n",
       "      <td>D</td>\n",
       "      <td>SI1</td>\n",
       "    </tr>\n",
       "    <tr>\n",
       "      <th>53938</th>\n",
       "      <td>H</td>\n",
       "      <td>SI2</td>\n",
       "    </tr>\n",
       "    <tr>\n",
       "      <th>53939</th>\n",
       "      <td>D</td>\n",
       "      <td>SI2</td>\n",
       "    </tr>\n",
       "  </tbody>\n",
       "</table>\n",
       "<p>53940 rows × 2 columns</p>\n",
       "</div>"
      ],
      "text/plain": [
       "      color clarity\n",
       "0         E     SI2\n",
       "1         E     SI1\n",
       "2         E     VS1\n",
       "3         I     VS2\n",
       "4         J     SI2\n",
       "5         J    VVS2\n",
       "6         I    VVS1\n",
       "7         H     SI1\n",
       "8         E     VS2\n",
       "9         H     VS1\n",
       "10        J     SI1\n",
       "11        J     VS1\n",
       "12        F     SI1\n",
       "13        J     SI2\n",
       "14        E     SI2\n",
       "15        E      I1\n",
       "16        I     SI2\n",
       "17        J     SI1\n",
       "18        J     SI1\n",
       "19        J     SI1\n",
       "20        I     SI2\n",
       "21        E     VS2\n",
       "22        H     VS1\n",
       "23        J     SI1\n",
       "24        J     SI1\n",
       "25        G    VVS2\n",
       "26        I     VS1\n",
       "27        J     VS2\n",
       "28        D     VS2\n",
       "29        F     VS1\n",
       "...     ...     ...\n",
       "53910     E     SI1\n",
       "53911     E      IF\n",
       "53912     F    VVS1\n",
       "53913     G     VS2\n",
       "53914     I     VS1\n",
       "53915     E     SI2\n",
       "53916     D     SI1\n",
       "53917     J     SI1\n",
       "53918     I     VS1\n",
       "53919     I    VVS1\n",
       "53920     E     VS2\n",
       "53921     E     VS2\n",
       "53922     D     VS1\n",
       "53923     I     VS2\n",
       "53924     I     VS2\n",
       "53925     I     SI1\n",
       "53926     E     SI1\n",
       "53927     F     SI1\n",
       "53928     E     SI2\n",
       "53929     G     VS1\n",
       "53930     E     SI1\n",
       "53931     F     SI1\n",
       "53932     E     VS2\n",
       "53933     E     VS2\n",
       "53934     D     SI1\n",
       "53935     D     SI1\n",
       "53936     D     SI1\n",
       "53937     D     SI1\n",
       "53938     H     SI2\n",
       "53939     D     SI2\n",
       "\n",
       "[53940 rows x 2 columns]"
      ]
     },
     "execution_count": 35,
     "metadata": {},
     "output_type": "execute_result"
    }
   ],
   "source": [
    "tmp = diamonds[['color','clarity']]\n",
    "tmp\n",
    "\n",
    "#R CODE == \n",
    "#tmp = diamonds[,c(color,clarity)]"
   ]
  },
  {
   "cell_type": "code",
   "execution_count": 0,
   "metadata": {
    "colab": {},
    "colab_type": "code",
    "id": "pAAYWCqYDngH"
   },
   "outputs": [],
   "source": [
    "# it's also possible to select a column with dot notation\n"
   ]
  },
  {
   "cell_type": "markdown",
   "metadata": {
    "colab_type": "text",
    "id": "3Ai5J2JFezTb"
   },
   "source": [
    "## Summary 2-ways to select a single column\n",
    "\n",
    "- diamonds['price']  \n",
    "\n",
    "- diamonds.price"
   ]
  },
  {
   "cell_type": "markdown",
   "metadata": {
    "colab_type": "text",
    "id": "vYl-JZv7Fcqj"
   },
   "source": [
    "# Filtering Rows"
   ]
  },
  {
   "cell_type": "code",
   "execution_count": 36,
   "metadata": {
    "colab": {},
    "colab_type": "code",
    "id": "5YmAYCTLFeEh"
   },
   "outputs": [
    {
     "data": {
      "text/html": [
       "<div>\n",
       "<style scoped>\n",
       "    .dataframe tbody tr th:only-of-type {\n",
       "        vertical-align: middle;\n",
       "    }\n",
       "\n",
       "    .dataframe tbody tr th {\n",
       "        vertical-align: top;\n",
       "    }\n",
       "\n",
       "    .dataframe thead th {\n",
       "        text-align: right;\n",
       "    }\n",
       "</style>\n",
       "<table border=\"1\" class=\"dataframe\">\n",
       "  <thead>\n",
       "    <tr style=\"text-align: right;\">\n",
       "      <th></th>\n",
       "      <th>carat</th>\n",
       "      <th>cut</th>\n",
       "      <th>color</th>\n",
       "      <th>clarity</th>\n",
       "      <th>depth</th>\n",
       "      <th>table</th>\n",
       "      <th>price</th>\n",
       "      <th>x</th>\n",
       "      <th>y</th>\n",
       "      <th>z</th>\n",
       "    </tr>\n",
       "  </thead>\n",
       "  <tbody>\n",
       "    <tr>\n",
       "      <th>1</th>\n",
       "      <td>0.21</td>\n",
       "      <td>Premium</td>\n",
       "      <td>E</td>\n",
       "      <td>SI1</td>\n",
       "      <td>59.8</td>\n",
       "      <td>61.0</td>\n",
       "      <td>326</td>\n",
       "      <td>3.89</td>\n",
       "      <td>3.84</td>\n",
       "      <td>2.31</td>\n",
       "    </tr>\n",
       "    <tr>\n",
       "      <th>2</th>\n",
       "      <td>0.23</td>\n",
       "      <td>Good</td>\n",
       "      <td>E</td>\n",
       "      <td>VS1</td>\n",
       "      <td>56.9</td>\n",
       "      <td>65.0</td>\n",
       "      <td>327</td>\n",
       "      <td>4.05</td>\n",
       "      <td>4.07</td>\n",
       "      <td>2.31</td>\n",
       "    </tr>\n",
       "    <tr>\n",
       "      <th>3</th>\n",
       "      <td>0.29</td>\n",
       "      <td>Premium</td>\n",
       "      <td>I</td>\n",
       "      <td>VS2</td>\n",
       "      <td>62.4</td>\n",
       "      <td>58.0</td>\n",
       "      <td>334</td>\n",
       "      <td>4.20</td>\n",
       "      <td>4.23</td>\n",
       "      <td>2.63</td>\n",
       "    </tr>\n",
       "    <tr>\n",
       "      <th>4</th>\n",
       "      <td>0.31</td>\n",
       "      <td>Good</td>\n",
       "      <td>J</td>\n",
       "      <td>SI2</td>\n",
       "      <td>63.3</td>\n",
       "      <td>58.0</td>\n",
       "      <td>335</td>\n",
       "      <td>4.34</td>\n",
       "      <td>4.35</td>\n",
       "      <td>2.75</td>\n",
       "    </tr>\n",
       "  </tbody>\n",
       "</table>\n",
       "</div>"
      ],
      "text/plain": [
       "   carat      cut color clarity  depth  table  price     x     y     z\n",
       "1   0.21  Premium     E     SI1   59.8   61.0    326  3.89  3.84  2.31\n",
       "2   0.23     Good     E     VS1   56.9   65.0    327  4.05  4.07  2.31\n",
       "3   0.29  Premium     I     VS2   62.4   58.0    334  4.20  4.23  2.63\n",
       "4   0.31     Good     J     SI2   63.3   58.0    335  4.34  4.35  2.75"
      ]
     },
     "execution_count": 36,
     "metadata": {},
     "output_type": "execute_result"
    }
   ],
   "source": [
    "# what happends below:\n",
    "diamonds[1:5]"
   ]
  },
  {
   "cell_type": "markdown",
   "metadata": {
    "colab_type": "text",
    "id": "c2YPK2DAFmbD"
   },
   "source": [
    "We specify strings, or column names, for the columns, and numbers for the rows"
   ]
  },
  {
   "cell_type": "markdown",
   "metadata": {
    "colab_type": "text",
    "id": "S3xq0d7WFsrC"
   },
   "source": [
    "## Exericse:\n",
    "\n",
    "Select rows 6-10 from the diamonds dataset.\n",
    "\n",
    "> HINT:  remember, slicing goes from** left:right** and is** inclusive:exclusive**"
   ]
  },
  {
   "cell_type": "code",
   "execution_count": 44,
   "metadata": {
    "colab": {},
    "colab_type": "code",
    "id": "H0fNf1BeF3EV"
   },
   "outputs": [
    {
     "data": {
      "text/html": [
       "<div>\n",
       "<style scoped>\n",
       "    .dataframe tbody tr th:only-of-type {\n",
       "        vertical-align: middle;\n",
       "    }\n",
       "\n",
       "    .dataframe tbody tr th {\n",
       "        vertical-align: top;\n",
       "    }\n",
       "\n",
       "    .dataframe thead th {\n",
       "        text-align: right;\n",
       "    }\n",
       "</style>\n",
       "<table border=\"1\" class=\"dataframe\">\n",
       "  <thead>\n",
       "    <tr style=\"text-align: right;\">\n",
       "      <th></th>\n",
       "      <th>carat</th>\n",
       "      <th>cut</th>\n",
       "      <th>color</th>\n",
       "      <th>clarity</th>\n",
       "      <th>depth</th>\n",
       "      <th>table</th>\n",
       "      <th>price</th>\n",
       "      <th>x</th>\n",
       "      <th>y</th>\n",
       "      <th>z</th>\n",
       "    </tr>\n",
       "  </thead>\n",
       "  <tbody>\n",
       "    <tr>\n",
       "      <th>5</th>\n",
       "      <td>0.24</td>\n",
       "      <td>Very Good</td>\n",
       "      <td>J</td>\n",
       "      <td>VVS2</td>\n",
       "      <td>62.8</td>\n",
       "      <td>57.0</td>\n",
       "      <td>336</td>\n",
       "      <td>3.94</td>\n",
       "      <td>3.96</td>\n",
       "      <td>2.48</td>\n",
       "    </tr>\n",
       "    <tr>\n",
       "      <th>6</th>\n",
       "      <td>0.24</td>\n",
       "      <td>Very Good</td>\n",
       "      <td>I</td>\n",
       "      <td>VVS1</td>\n",
       "      <td>62.3</td>\n",
       "      <td>57.0</td>\n",
       "      <td>336</td>\n",
       "      <td>3.95</td>\n",
       "      <td>3.98</td>\n",
       "      <td>2.47</td>\n",
       "    </tr>\n",
       "    <tr>\n",
       "      <th>7</th>\n",
       "      <td>0.26</td>\n",
       "      <td>Very Good</td>\n",
       "      <td>H</td>\n",
       "      <td>SI1</td>\n",
       "      <td>61.9</td>\n",
       "      <td>55.0</td>\n",
       "      <td>337</td>\n",
       "      <td>4.07</td>\n",
       "      <td>4.11</td>\n",
       "      <td>2.53</td>\n",
       "    </tr>\n",
       "    <tr>\n",
       "      <th>8</th>\n",
       "      <td>0.22</td>\n",
       "      <td>Fair</td>\n",
       "      <td>E</td>\n",
       "      <td>VS2</td>\n",
       "      <td>65.1</td>\n",
       "      <td>61.0</td>\n",
       "      <td>337</td>\n",
       "      <td>3.87</td>\n",
       "      <td>3.78</td>\n",
       "      <td>2.49</td>\n",
       "    </tr>\n",
       "    <tr>\n",
       "      <th>9</th>\n",
       "      <td>0.23</td>\n",
       "      <td>Very Good</td>\n",
       "      <td>H</td>\n",
       "      <td>VS1</td>\n",
       "      <td>59.4</td>\n",
       "      <td>61.0</td>\n",
       "      <td>338</td>\n",
       "      <td>4.00</td>\n",
       "      <td>4.05</td>\n",
       "      <td>2.39</td>\n",
       "    </tr>\n",
       "  </tbody>\n",
       "</table>\n",
       "</div>"
      ],
      "text/plain": [
       "   carat        cut color clarity  depth  table  price     x     y     z\n",
       "5   0.24  Very Good     J    VVS2   62.8   57.0    336  3.94  3.96  2.48\n",
       "6   0.24  Very Good     I    VVS1   62.3   57.0    336  3.95  3.98  2.47\n",
       "7   0.26  Very Good     H     SI1   61.9   55.0    337  4.07  4.11  2.53\n",
       "8   0.22       Fair     E     VS2   65.1   61.0    337  3.87  3.78  2.49\n",
       "9   0.23  Very Good     H     VS1   59.4   61.0    338  4.00  4.05  2.39"
      ]
     },
     "execution_count": 44,
     "metadata": {},
     "output_type": "execute_result"
    }
   ],
   "source": [
    "diamonds[5:10]"
   ]
  },
  {
   "cell_type": "code",
   "execution_count": 43,
   "metadata": {
    "colab": {},
    "colab_type": "code",
    "id": "GYiZWMMdF6ak"
   },
   "outputs": [
    {
     "data": {
      "text/html": [
       "<div>\n",
       "<style scoped>\n",
       "    .dataframe tbody tr th:only-of-type {\n",
       "        vertical-align: middle;\n",
       "    }\n",
       "\n",
       "    .dataframe tbody tr th {\n",
       "        vertical-align: top;\n",
       "    }\n",
       "\n",
       "    .dataframe thead th {\n",
       "        text-align: right;\n",
       "    }\n",
       "</style>\n",
       "<table border=\"1\" class=\"dataframe\">\n",
       "  <thead>\n",
       "    <tr style=\"text-align: right;\">\n",
       "      <th></th>\n",
       "      <th>carat</th>\n",
       "      <th>cut</th>\n",
       "      <th>color</th>\n",
       "      <th>clarity</th>\n",
       "      <th>depth</th>\n",
       "      <th>table</th>\n",
       "      <th>price</th>\n",
       "      <th>x</th>\n",
       "      <th>y</th>\n",
       "      <th>z</th>\n",
       "    </tr>\n",
       "  </thead>\n",
       "  <tbody>\n",
       "    <tr>\n",
       "      <th>0</th>\n",
       "      <td>0.23</td>\n",
       "      <td>Ideal</td>\n",
       "      <td>E</td>\n",
       "      <td>SI2</td>\n",
       "      <td>61.5</td>\n",
       "      <td>55.0</td>\n",
       "      <td>326</td>\n",
       "      <td>3.95</td>\n",
       "      <td>3.98</td>\n",
       "      <td>2.43</td>\n",
       "    </tr>\n",
       "    <tr>\n",
       "      <th>1</th>\n",
       "      <td>0.21</td>\n",
       "      <td>Premium</td>\n",
       "      <td>E</td>\n",
       "      <td>SI1</td>\n",
       "      <td>59.8</td>\n",
       "      <td>61.0</td>\n",
       "      <td>326</td>\n",
       "      <td>3.89</td>\n",
       "      <td>3.84</td>\n",
       "      <td>2.31</td>\n",
       "    </tr>\n",
       "    <tr>\n",
       "      <th>2</th>\n",
       "      <td>0.23</td>\n",
       "      <td>Good</td>\n",
       "      <td>E</td>\n",
       "      <td>VS1</td>\n",
       "      <td>56.9</td>\n",
       "      <td>65.0</td>\n",
       "      <td>327</td>\n",
       "      <td>4.05</td>\n",
       "      <td>4.07</td>\n",
       "      <td>2.31</td>\n",
       "    </tr>\n",
       "    <tr>\n",
       "      <th>3</th>\n",
       "      <td>0.29</td>\n",
       "      <td>Premium</td>\n",
       "      <td>I</td>\n",
       "      <td>VS2</td>\n",
       "      <td>62.4</td>\n",
       "      <td>58.0</td>\n",
       "      <td>334</td>\n",
       "      <td>4.20</td>\n",
       "      <td>4.23</td>\n",
       "      <td>2.63</td>\n",
       "    </tr>\n",
       "    <tr>\n",
       "      <th>4</th>\n",
       "      <td>0.31</td>\n",
       "      <td>Good</td>\n",
       "      <td>J</td>\n",
       "      <td>SI2</td>\n",
       "      <td>63.3</td>\n",
       "      <td>58.0</td>\n",
       "      <td>335</td>\n",
       "      <td>4.34</td>\n",
       "      <td>4.35</td>\n",
       "      <td>2.75</td>\n",
       "    </tr>\n",
       "    <tr>\n",
       "      <th>5</th>\n",
       "      <td>0.24</td>\n",
       "      <td>Very Good</td>\n",
       "      <td>J</td>\n",
       "      <td>VVS2</td>\n",
       "      <td>62.8</td>\n",
       "      <td>57.0</td>\n",
       "      <td>336</td>\n",
       "      <td>3.94</td>\n",
       "      <td>3.96</td>\n",
       "      <td>2.48</td>\n",
       "    </tr>\n",
       "    <tr>\n",
       "      <th>6</th>\n",
       "      <td>0.24</td>\n",
       "      <td>Very Good</td>\n",
       "      <td>I</td>\n",
       "      <td>VVS1</td>\n",
       "      <td>62.3</td>\n",
       "      <td>57.0</td>\n",
       "      <td>336</td>\n",
       "      <td>3.95</td>\n",
       "      <td>3.98</td>\n",
       "      <td>2.47</td>\n",
       "    </tr>\n",
       "    <tr>\n",
       "      <th>7</th>\n",
       "      <td>0.26</td>\n",
       "      <td>Very Good</td>\n",
       "      <td>H</td>\n",
       "      <td>SI1</td>\n",
       "      <td>61.9</td>\n",
       "      <td>55.0</td>\n",
       "      <td>337</td>\n",
       "      <td>4.07</td>\n",
       "      <td>4.11</td>\n",
       "      <td>2.53</td>\n",
       "    </tr>\n",
       "    <tr>\n",
       "      <th>8</th>\n",
       "      <td>0.22</td>\n",
       "      <td>Fair</td>\n",
       "      <td>E</td>\n",
       "      <td>VS2</td>\n",
       "      <td>65.1</td>\n",
       "      <td>61.0</td>\n",
       "      <td>337</td>\n",
       "      <td>3.87</td>\n",
       "      <td>3.78</td>\n",
       "      <td>2.49</td>\n",
       "    </tr>\n",
       "    <tr>\n",
       "      <th>9</th>\n",
       "      <td>0.23</td>\n",
       "      <td>Very Good</td>\n",
       "      <td>H</td>\n",
       "      <td>VS1</td>\n",
       "      <td>59.4</td>\n",
       "      <td>61.0</td>\n",
       "      <td>338</td>\n",
       "      <td>4.00</td>\n",
       "      <td>4.05</td>\n",
       "      <td>2.39</td>\n",
       "    </tr>\n",
       "    <tr>\n",
       "      <th>10</th>\n",
       "      <td>0.30</td>\n",
       "      <td>Good</td>\n",
       "      <td>J</td>\n",
       "      <td>SI1</td>\n",
       "      <td>64.0</td>\n",
       "      <td>55.0</td>\n",
       "      <td>339</td>\n",
       "      <td>4.25</td>\n",
       "      <td>4.28</td>\n",
       "      <td>2.73</td>\n",
       "    </tr>\n",
       "  </tbody>\n",
       "</table>\n",
       "</div>"
      ],
      "text/plain": [
       "    carat        cut color clarity  depth  table  price     x     y     z\n",
       "0    0.23      Ideal     E     SI2   61.5   55.0    326  3.95  3.98  2.43\n",
       "1    0.21    Premium     E     SI1   59.8   61.0    326  3.89  3.84  2.31\n",
       "2    0.23       Good     E     VS1   56.9   65.0    327  4.05  4.07  2.31\n",
       "3    0.29    Premium     I     VS2   62.4   58.0    334  4.20  4.23  2.63\n",
       "4    0.31       Good     J     SI2   63.3   58.0    335  4.34  4.35  2.75\n",
       "5    0.24  Very Good     J    VVS2   62.8   57.0    336  3.94  3.96  2.48\n",
       "6    0.24  Very Good     I    VVS1   62.3   57.0    336  3.95  3.98  2.47\n",
       "7    0.26  Very Good     H     SI1   61.9   55.0    337  4.07  4.11  2.53\n",
       "8    0.22       Fair     E     VS2   65.1   61.0    337  3.87  3.78  2.49\n",
       "9    0.23  Very Good     H     VS1   59.4   61.0    338  4.00  4.05  2.39\n",
       "10   0.30       Good     J     SI1   64.0   55.0    339  4.25  4.28  2.73"
      ]
     },
     "execution_count": 43,
     "metadata": {},
     "output_type": "execute_result"
    }
   ],
   "source": [
    "# confirm by looking at the first ten rows\n",
    "diamonds.head(11)"
   ]
  },
  {
   "cell_type": "markdown",
   "metadata": {
    "colab_type": "text",
    "id": "nN713At6dtwY"
   },
   "source": [
    "## Bonus Exercise:\n",
    "\n",
    "We can use the index and in to select arbitrary index values"
   ]
  },
  {
   "cell_type": "code",
   "execution_count": 50,
   "metadata": {
    "colab": {},
    "colab_type": "code",
    "id": "Dlqj_VCqdz6o"
   },
   "outputs": [
    {
     "data": {
      "text/html": [
       "<div>\n",
       "<style scoped>\n",
       "    .dataframe tbody tr th:only-of-type {\n",
       "        vertical-align: middle;\n",
       "    }\n",
       "\n",
       "    .dataframe tbody tr th {\n",
       "        vertical-align: top;\n",
       "    }\n",
       "\n",
       "    .dataframe thead th {\n",
       "        text-align: right;\n",
       "    }\n",
       "</style>\n",
       "<table border=\"1\" class=\"dataframe\">\n",
       "  <thead>\n",
       "    <tr style=\"text-align: right;\">\n",
       "      <th></th>\n",
       "      <th>carat</th>\n",
       "      <th>cut</th>\n",
       "      <th>color</th>\n",
       "      <th>clarity</th>\n",
       "      <th>depth</th>\n",
       "      <th>table</th>\n",
       "      <th>price</th>\n",
       "      <th>x</th>\n",
       "      <th>y</th>\n",
       "      <th>z</th>\n",
       "    </tr>\n",
       "  </thead>\n",
       "  <tbody>\n",
       "    <tr>\n",
       "      <th>2</th>\n",
       "      <td>0.23</td>\n",
       "      <td>Good</td>\n",
       "      <td>E</td>\n",
       "      <td>VS1</td>\n",
       "      <td>56.9</td>\n",
       "      <td>65.0</td>\n",
       "      <td>327</td>\n",
       "      <td>4.05</td>\n",
       "      <td>4.07</td>\n",
       "      <td>2.31</td>\n",
       "    </tr>\n",
       "    <tr>\n",
       "      <th>6</th>\n",
       "      <td>0.24</td>\n",
       "      <td>Very Good</td>\n",
       "      <td>I</td>\n",
       "      <td>VVS1</td>\n",
       "      <td>62.3</td>\n",
       "      <td>57.0</td>\n",
       "      <td>336</td>\n",
       "      <td>3.95</td>\n",
       "      <td>3.98</td>\n",
       "      <td>2.47</td>\n",
       "    </tr>\n",
       "  </tbody>\n",
       "</table>\n",
       "</div>"
      ],
      "text/plain": [
       "   carat        cut color clarity  depth  table  price     x     y     z\n",
       "2   0.23       Good     E     VS1   56.9   65.0    327  4.05  4.07  2.31\n",
       "6   0.24  Very Good     I    VVS1   62.3   57.0    336  3.95  3.98  2.47"
      ]
     },
     "execution_count": 50,
     "metadata": {},
     "output_type": "execute_result"
    }
   ],
   "source": [
    "# create a variable, index.isin\n",
    "diamonds[diamonds.index.isin([2,6])]\n",
    "\n",
    "# look at what gets returned"
   ]
  },
  {
   "cell_type": "code",
   "execution_count": 0,
   "metadata": {
    "colab": {},
    "colab_type": "code",
    "id": "rzQfXpH9eFZl"
   },
   "outputs": [],
   "source": [
    "# filter based on that, what happened?"
   ]
  },
  {
   "cell_type": "markdown",
   "metadata": {
    "colab_type": "text",
    "id": "NNpghHlFKdC9"
   },
   "source": [
    "\n",
    "\n",
    "---\n",
    "\n"
   ]
  },
  {
   "cell_type": "markdown",
   "metadata": {
    "colab_type": "text",
    "id": "uDcZ6ZHdCEzE"
   },
   "source": [
    "# Indexing (selecting) Rows and Columns"
   ]
  },
  {
   "cell_type": "markdown",
   "metadata": {
    "colab_type": "text",
    "id": "jTzB6LyIjmnI"
   },
   "source": [
    "![](https://o.quizlet.com/gTPmJIVzpKPgB07nAt76zQ.jpg)"
   ]
  },
  {
   "cell_type": "markdown",
   "metadata": {
    "colab_type": "text",
    "id": "1NlrsRsNEiZl"
   },
   "source": [
    "![](http://104.236.88.249/wp-content/uploads/2016/10/Pandas-selections-and-indexing.png)"
   ]
  },
  {
   "cell_type": "code",
   "execution_count": 51,
   "metadata": {
    "colab": {},
    "colab_type": "code",
    "id": "zWQ2UwVkEq2q"
   },
   "outputs": [
    {
     "data": {
      "text/html": [
       "<div>\n",
       "<style scoped>\n",
       "    .dataframe tbody tr th:only-of-type {\n",
       "        vertical-align: middle;\n",
       "    }\n",
       "\n",
       "    .dataframe tbody tr th {\n",
       "        vertical-align: top;\n",
       "    }\n",
       "\n",
       "    .dataframe thead th {\n",
       "        text-align: right;\n",
       "    }\n",
       "</style>\n",
       "<table border=\"1\" class=\"dataframe\">\n",
       "  <thead>\n",
       "    <tr style=\"text-align: right;\">\n",
       "      <th></th>\n",
       "      <th>carat</th>\n",
       "      <th>cut</th>\n",
       "      <th>color</th>\n",
       "      <th>clarity</th>\n",
       "      <th>depth</th>\n",
       "      <th>table</th>\n",
       "      <th>price</th>\n",
       "      <th>x</th>\n",
       "      <th>y</th>\n",
       "      <th>z</th>\n",
       "    </tr>\n",
       "  </thead>\n",
       "  <tbody>\n",
       "    <tr>\n",
       "      <th>0</th>\n",
       "      <td>0.23</td>\n",
       "      <td>Ideal</td>\n",
       "      <td>E</td>\n",
       "      <td>SI2</td>\n",
       "      <td>61.5</td>\n",
       "      <td>55.0</td>\n",
       "      <td>326</td>\n",
       "      <td>3.95</td>\n",
       "      <td>3.98</td>\n",
       "      <td>2.43</td>\n",
       "    </tr>\n",
       "    <tr>\n",
       "      <th>1</th>\n",
       "      <td>0.21</td>\n",
       "      <td>Premium</td>\n",
       "      <td>E</td>\n",
       "      <td>SI1</td>\n",
       "      <td>59.8</td>\n",
       "      <td>61.0</td>\n",
       "      <td>326</td>\n",
       "      <td>3.89</td>\n",
       "      <td>3.84</td>\n",
       "      <td>2.31</td>\n",
       "    </tr>\n",
       "    <tr>\n",
       "      <th>2</th>\n",
       "      <td>0.23</td>\n",
       "      <td>Good</td>\n",
       "      <td>E</td>\n",
       "      <td>VS1</td>\n",
       "      <td>56.9</td>\n",
       "      <td>65.0</td>\n",
       "      <td>327</td>\n",
       "      <td>4.05</td>\n",
       "      <td>4.07</td>\n",
       "      <td>2.31</td>\n",
       "    </tr>\n",
       "    <tr>\n",
       "      <th>3</th>\n",
       "      <td>0.29</td>\n",
       "      <td>Premium</td>\n",
       "      <td>I</td>\n",
       "      <td>VS2</td>\n",
       "      <td>62.4</td>\n",
       "      <td>58.0</td>\n",
       "      <td>334</td>\n",
       "      <td>4.20</td>\n",
       "      <td>4.23</td>\n",
       "      <td>2.63</td>\n",
       "    </tr>\n",
       "    <tr>\n",
       "      <th>4</th>\n",
       "      <td>0.31</td>\n",
       "      <td>Good</td>\n",
       "      <td>J</td>\n",
       "      <td>SI2</td>\n",
       "      <td>63.3</td>\n",
       "      <td>58.0</td>\n",
       "      <td>335</td>\n",
       "      <td>4.34</td>\n",
       "      <td>4.35</td>\n",
       "      <td>2.75</td>\n",
       "    </tr>\n",
       "  </tbody>\n",
       "</table>\n",
       "</div>"
      ],
      "text/plain": [
       "   carat      cut color clarity  depth  table  price     x     y     z\n",
       "0   0.23    Ideal     E     SI2   61.5   55.0    326  3.95  3.98  2.43\n",
       "1   0.21  Premium     E     SI1   59.8   61.0    326  3.89  3.84  2.31\n",
       "2   0.23     Good     E     VS1   56.9   65.0    327  4.05  4.07  2.31\n",
       "3   0.29  Premium     I     VS2   62.4   58.0    334  4.20  4.23  2.63\n",
       "4   0.31     Good     J     SI2   63.3   58.0    335  4.34  4.35  2.75"
      ]
     },
     "execution_count": 51,
     "metadata": {},
     "output_type": "execute_result"
    }
   ],
   "source": [
    "# look at the dataset again\n",
    "diamonds.head()"
   ]
  },
  {
   "cell_type": "markdown",
   "metadata": {
    "colab_type": "text",
    "id": "LfcZ1mi1KbhL"
   },
   "source": [
    "\n",
    "\n",
    "---\n",
    "\n"
   ]
  },
  {
   "cell_type": "markdown",
   "metadata": {
    "colab_type": "text",
    "id": "8XuIE6RcEy25"
   },
   "source": [
    "## LOC: Location based filtering\n",
    "\n",
    "When using loc, we are using **names** to filter both rows and columns, and like we saw with 2d numpy arrays, we use [ rows, columns] . \n",
    "\n",
    "In the case of the dimaonds dataset, the names are the indexes we see printed as we have not provided labels for the row indexes."
   ]
  },
  {
   "cell_type": "code",
   "execution_count": 0,
   "metadata": {
    "colab": {},
    "colab_type": "code",
    "id": "eEmpZMd-FXPh"
   },
   "outputs": [],
   "source": [
    "## select the first two rows, and all columns \n"
   ]
  },
  {
   "cell_type": "markdown",
   "metadata": {
    "colab_type": "text",
    "id": "T0L6NwN_IIuX"
   },
   "source": [
    "![](data:image/jpeg;base64,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)"
   ]
  },
  {
   "cell_type": "markdown",
   "metadata": {
    "colab_type": "text",
    "id": "JBmyCwV-H2PT"
   },
   "source": [
    "> ***Thought Exercise:  Why did `0:1` print two rows, and not one when using .loc?***"
   ]
  },
  {
   "cell_type": "code",
   "execution_count": 0,
   "metadata": {
    "colab": {},
    "colab_type": "code",
    "id": "af-AOd4IE4hA"
   },
   "outputs": [],
   "source": [
    "# select the first two rows and columns\n"
   ]
  },
  {
   "cell_type": "markdown",
   "metadata": {
    "colab_type": "text",
    "id": "rD5xU5bBLkkq"
   },
   "source": [
    "![](http://104.236.88.249/wp-content/uploads/2016/10/loc_indexer_returns_series_or_dataframe.png)"
   ]
  },
  {
   "cell_type": "code",
   "execution_count": 0,
   "metadata": {
    "colab": {},
    "colab_type": "code",
    "id": "Rn-n4UqPGy4A"
   },
   "outputs": [],
   "source": [
    "# select the 1st, 3rd, and 5th rows, and the price column and RETURN A DATAFRAME\n",
    "diamonds.loc[[0,2,4], [\"price\"]]"
   ]
  },
  {
   "cell_type": "markdown",
   "metadata": {
    "colab_type": "text",
    "id": "mSikO3NXKaKl"
   },
   "source": [
    "\n",
    "\n",
    "---\n",
    "\n"
   ]
  },
  {
   "cell_type": "markdown",
   "metadata": {
    "colab_type": "text",
    "id": "o4k4ogc4GzrL"
   },
   "source": [
    "## ILOC: Index Filtering\n",
    "\n",
    "From the image above, .iloc filtering allows us to use the index values, not the labels, for selecting both rows and columns."
   ]
  },
  {
   "cell_type": "code",
   "execution_count": 0,
   "metadata": {
    "colab": {},
    "colab_type": "code",
    "id": "soWDRWWDK4O2"
   },
   "outputs": [],
   "source": [
    "# print out the dataframe to review\n",
    "diamonds.head(10)"
   ]
  },
  {
   "cell_type": "code",
   "execution_count": 0,
   "metadata": {
    "colab": {},
    "colab_type": "code",
    "id": "pXQi6qyjKQ-E"
   },
   "outputs": [],
   "source": [
    "## select the 2nd and 5th rows, and the price column - AS A DATAFRAME\n"
   ]
  },
  {
   "cell_type": "code",
   "execution_count": 0,
   "metadata": {
    "colab": {},
    "colab_type": "code",
    "id": "DuNv5newLQiK"
   },
   "outputs": [],
   "source": [
    "## select the first five rows, and the last 3 columns, as a dataframe\n"
   ]
  },
  {
   "cell_type": "markdown",
   "metadata": {
    "colab_type": "text",
    "id": "shSoKA4aL-oV"
   },
   "source": [
    "### Exercise:\n",
    "\n",
    "Select the last 10 rows, and the cut and the color and depth columns"
   ]
  },
  {
   "cell_type": "markdown",
   "metadata": {
    "colab_type": "text",
    "id": "oPwj3RJ_MjBI"
   },
   "source": [
    "\n",
    "\n",
    "---\n",
    "\n"
   ]
  },
  {
   "cell_type": "markdown",
   "metadata": {
    "colab_type": "text",
    "id": "tHJ7JP8ncx18"
   },
   "source": [
    "# Logical Filtering"
   ]
  },
  {
   "cell_type": "markdown",
   "metadata": {
    "colab_type": "text",
    "id": "InK39OD1dMRE"
   },
   "source": [
    "Remember from the second session that we have the ability to perform logical operations?  Well that foundation allows us to apply business logic to select and filter what we need."
   ]
  },
  {
   "cell_type": "markdown",
   "metadata": {
    "colab_type": "text",
    "id": "RjjDb9SbgrWP"
   },
   "source": [
    "![comparison](https://cdn.instructables.com/FLG/7GVR/J7GGIOCQ/FLG7GVRJ7GGIOCQ.LARGE.jpg)\n",
    "\n",
    "![](https://i0.wp.com/makemeanalyst.com/wp-content/uploads/2017/06/Bitwise-Operators_python.png?resize=507%2C303)"
   ]
  },
  {
   "cell_type": "markdown",
   "metadata": {
    "colab_type": "text",
    "id": "65f9ZPVYgeEG"
   },
   "source": [
    "## Split the data (rows) based on logical operators"
   ]
  },
  {
   "cell_type": "code",
   "execution_count": 0,
   "metadata": {
    "colab": {},
    "colab_type": "code",
    "id": "0XxfXiFbdnli"
   },
   "outputs": [],
   "source": [
    "## first lets create a smaller dataframe\n",
    "df = pd.DataFrame({'a': [4, 5, 6, 7],\n",
    "                   'b': [10, 20, 30, 40],\n",
    "                   'c': [100, 50, -30, -50]})\n",
    "df\n",
    "         "
   ]
  },
  {
   "cell_type": "code",
   "execution_count": 0,
   "metadata": {
    "colab": {},
    "colab_type": "code",
    "id": "93DjfuugfTee"
   },
   "outputs": [],
   "source": [
    "## filter when b is > 10\n"
   ]
  },
  {
   "cell_type": "code",
   "execution_count": 0,
   "metadata": {
    "colab": {},
    "colab_type": "code",
    "id": "9Ix8fxP7fqy7"
   },
   "outputs": [],
   "source": [
    "## b < 40 or c > 0\n"
   ]
  },
  {
   "cell_type": "code",
   "execution_count": 0,
   "metadata": {
    "colab": {},
    "colab_type": "code",
    "id": "jgX8nnaeg74v"
   },
   "outputs": [],
   "source": [
    "## remember logical and/or from numpy\n",
    "rows = np.logical_and(df.a > 5, df.c > -40)\n",
    "rows"
   ]
  },
  {
   "cell_type": "code",
   "execution_count": 0,
   "metadata": {
    "colab": {},
    "colab_type": "code",
    "id": "y4UJqyGghNpL"
   },
   "outputs": [],
   "source": [
    "## use it to filter\n",
    "df[rows]"
   ]
  },
  {
   "cell_type": "markdown",
   "metadata": {
    "colab_type": "text",
    "id": "wHDVVt1VhQwc"
   },
   "source": [
    "## Using logical operators and loc/iloc"
   ]
  },
  {
   "cell_type": "code",
   "execution_count": 0,
   "metadata": {
    "colab": {},
    "colab_type": "code",
    "id": "5C6NvXpNhdmH"
   },
   "outputs": [],
   "source": [
    "## use location based labels -- series/array\n",
    "df.loc[df.a > 5, \"c\"]"
   ]
  },
  {
   "cell_type": "code",
   "execution_count": 0,
   "metadata": {
    "colab": {},
    "colab_type": "code",
    "id": "lKbuI7X6hnkA"
   },
   "outputs": [],
   "source": [
    "df.loc[df.a > 5, [\"c\"]]"
   ]
  },
  {
   "cell_type": "code",
   "execution_count": 0,
   "metadata": {
    "colab": {},
    "colab_type": "code",
    "id": "IqZfG4Hrhzg0"
   },
   "outputs": [],
   "source": [
    "## include an or with numpy\n",
    "df.loc[np.logical_or(df.a>=5, df.c>0), :] "
   ]
  },
  {
   "cell_type": "markdown",
   "metadata": {
    "colab_type": "text",
    "id": "1ghL1VGtq4BA"
   },
   "source": [
    "# Advanced filtering\n",
    "\n",
    "Pandas also has some handy features to help work with missing, or NA, or NaN data, as well as explict dropping of indexes or label,s"
   ]
  },
  {
   "cell_type": "markdown",
   "metadata": {
    "colab_type": "text",
    "id": "5dk4t3VZslyD"
   },
   "source": [
    "## Handling missing data"
   ]
  },
  {
   "cell_type": "code",
   "execution_count": 0,
   "metadata": {
    "colab": {},
    "colab_type": "code",
    "id": "tU4IoRIbq_NA"
   },
   "outputs": [],
   "source": [
    "df2 = pd.DataFrame({'a': [1,2,3,np.nan, 4],\n",
    "                    'b': [np.nan, 56, np.nan, np.nan, 45],\n",
    "                    'c': np.random.randint(50,100,5)})\n",
    "df2"
   ]
  },
  {
   "cell_type": "code",
   "execution_count": 0,
   "metadata": {
    "colab": {},
    "colab_type": "code",
    "id": "Xn9ZMqmIrVG3"
   },
   "outputs": [],
   "source": [
    "# drop all rows that have at least one value missing\n",
    "df2.dropna()"
   ]
  },
  {
   "cell_type": "code",
   "execution_count": 0,
   "metadata": {
    "colab": {},
    "colab_type": "code",
    "id": "Q6eXOJSWrqgt"
   },
   "outputs": [],
   "source": [
    "# drop any rows where a is not missing\n",
    "df2.dropna(subset=['a'])"
   ]
  },
  {
   "cell_type": "code",
   "execution_count": 0,
   "metadata": {
    "colab": {},
    "colab_type": "code",
    "id": "jxQ07rSasUbf"
   },
   "outputs": [],
   "source": [
    "# we can also perform this along an axis, 0 rows or 1 columns\n",
    "df2.dropna(axis=1)"
   ]
  },
  {
   "cell_type": "markdown",
   "metadata": {
    "colab_type": "text",
    "id": "6Aipa5nksdaR"
   },
   "source": [
    "> what happened above?"
   ]
  },
  {
   "cell_type": "markdown",
   "metadata": {
    "colab_type": "text",
    "id": "PtmreYyHsiYG"
   },
   "source": [
    "## Dropping specified labels or indexes\n",
    "\n",
    "This is the same as filtering, but we are removing them from the dataset."
   ]
  },
  {
   "cell_type": "code",
   "execution_count": 0,
   "metadata": {
    "colab": {},
    "colab_type": "code",
    "id": "UmDcT_L1s2BT"
   },
   "outputs": [],
   "source": [
    "## reminder of what we have\n",
    "df2"
   ]
  },
  {
   "cell_type": "code",
   "execution_count": 0,
   "metadata": {
    "colab": {},
    "colab_type": "code",
    "id": "DCAf78LJtCrR"
   },
   "outputs": [],
   "source": [
    "# drop the row with index label 3\n",
    "df2.drop(labels = [3])"
   ]
  },
  {
   "cell_type": "code",
   "execution_count": 0,
   "metadata": {
    "colab": {},
    "colab_type": "code",
    "id": "IKpkkLsRtRXi"
   },
   "outputs": [],
   "source": [
    "# drop the label b from the columns (column b)\n",
    "df2.drop('b', axis=1)"
   ]
  },
  {
   "cell_type": "markdown",
   "metadata": {
    "colab_type": "text",
    "id": "EFxQt4VKilXj"
   },
   "source": [
    "# Recap Exercises:\n"
   ]
  },
  {
   "cell_type": "markdown",
   "metadata": {
    "colab_type": "text",
    "id": "Iw5UiIzbk3z7"
   },
   "source": [
    "Using the diamonds dataframe that you already have loaded:"
   ]
  },
  {
   "cell_type": "markdown",
   "metadata": {
    "colab_type": "text",
    "id": "rs8WPM_jk7Ak"
   },
   "source": [
    "## Question 1:\n",
    "\n",
    "Select 10 random rows, and display just the color and price columns, and return the result as a dataframe."
   ]
  },
  {
   "cell_type": "code",
   "execution_count": 0,
   "metadata": {
    "colab": {},
    "colab_type": "code",
    "id": "lFApxUPpk9D4"
   },
   "outputs": [],
   "source": []
  },
  {
   "cell_type": "markdown",
   "metadata": {
    "colab_type": "text",
    "id": "zntPVF_Sk-2f"
   },
   "source": [
    "## Question 2:  \n",
    "\n",
    "Calculate the average price for diamonds that have a cut value of Good or Fair."
   ]
  },
  {
   "cell_type": "code",
   "execution_count": 0,
   "metadata": {
    "colab": {},
    "colab_type": "code",
    "id": "UFzcuuwPnO8E"
   },
   "outputs": [],
   "source": []
  },
  {
   "cell_type": "markdown",
   "metadata": {
    "colab_type": "text",
    "id": "lgmzSfOCnPhu"
   },
   "source": [
    "## Question 3:\n",
    "\n",
    "How many rows are left after you filter price > 500 and less than or equal to 60 for depth."
   ]
  },
  {
   "cell_type": "code",
   "execution_count": 0,
   "metadata": {
    "colab": {},
    "colab_type": "code",
    "id": "IfOY3EC1mYc9"
   },
   "outputs": [],
   "source": [
    "\n"
   ]
  },
  {
   "cell_type": "markdown",
   "metadata": {
    "colab_type": "text",
    "id": "g3vtCi2ymakh"
   },
   "source": [
    "## Question 4:  Tricky!\n",
    "\n",
    "Create a scatter plot of carat (x axis) and price (y axis).\n",
    "\n",
    "> NOTE:  remember that on objects, `.<tab>` is your friend!"
   ]
  },
  {
   "cell_type": "code",
   "execution_count": 0,
   "metadata": {
    "colab": {},
    "colab_type": "code",
    "id": "WInrLe4hmd2M"
   },
   "outputs": [],
   "source": []
  },
  {
   "cell_type": "code",
   "execution_count": 0,
   "metadata": {
    "colab": {},
    "colab_type": "code",
    "id": "-PwMpJkDm927"
   },
   "outputs": [],
   "source": []
  },
  {
   "cell_type": "code",
   "execution_count": 0,
   "metadata": {
    "colab": {},
    "colab_type": "code",
    "id": "gZ_Lr9kmuGCh"
   },
   "outputs": [],
   "source": []
  }
 ],
 "metadata": {
  "colab": {
   "collapsed_sections": [],
   "name": "12-pandas-selection.ipynb",
   "private_outputs": true,
   "provenance": [],
   "toc_visible": true,
   "version": "0.3.2"
  },
  "kernelspec": {
   "display_name": "Python 3",
   "language": "python",
   "name": "python3"
  },
  "language_info": {
   "codemirror_mode": {
    "name": "ipython",
    "version": 3
   },
   "file_extension": ".py",
   "mimetype": "text/x-python",
   "name": "python",
   "nbconvert_exporter": "python",
   "pygments_lexer": "ipython3",
   "version": "3.7.2"
  }
 },
 "nbformat": 4,
 "nbformat_minor": 1
}
