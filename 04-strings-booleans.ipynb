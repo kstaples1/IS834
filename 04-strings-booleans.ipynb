{
 "cells": [
  {
   "cell_type": "markdown",
   "metadata": {
    "colab_type": "text",
    "id": "0ywYjrQj20SD"
   },
   "source": [
    "# Booleans"
   ]
  },
  {
   "cell_type": "code",
   "execution_count": 0,
   "metadata": {
    "colab": {},
    "colab_type": "code",
    "id": "bkSSNVF9-Ko4"
   },
   "outputs": [],
   "source": [
    "x = True\n",
    "y = \"False\""
   ]
  },
  {
   "cell_type": "code",
   "execution_count": 0,
   "metadata": {
    "colab": {},
    "colab_type": "code",
    "id": "IV38TnOj5s2e"
   },
   "outputs": [],
   "source": [
    "## check types\n",
    "print(type(x)\n",
    "print(type((y)))"
   ]
  },
  {
   "cell_type": "code",
   "execution_count": 0,
   "metadata": {
    "colab": {},
    "colab_type": "code",
    "id": "_mluAKia7aL1"
   },
   "outputs": [],
   "source": [
    "# reassign and return booleans\n",
    "x = 5 == 5\n",
    "y = 5 == 6"
   ]
  },
  {
   "cell_type": "code",
   "execution_count": 0,
   "metadata": {
    "colab": {},
    "colab_type": "code",
    "id": "OXNmWbWDAEVH"
   },
   "outputs": [],
   "source": [
    "## booleans are numeric 1/0\n"
   ]
  },
  {
   "cell_type": "code",
   "execution_count": 0,
   "metadata": {
    "colab": {},
    "colab_type": "code",
    "id": "ZPpdxEcX7xRT"
   },
   "outputs": [],
   "source": [
    "## Look for True with and/or"
   ]
  },
  {
   "cell_type": "markdown",
   "metadata": {
    "colab_type": "text",
    "id": "-BT1fOlr_yxs"
   },
   "source": [
    "## Boolean Exercise\n",
    "\n",
    "Modify the code below to calculate the answer of `a` + `b` + `c` - `d`\n",
    "\n",
    "> **Hint: The answer is 1**"
   ]
  },
  {
   "cell_type": "code",
   "execution_count": 7,
   "metadata": {
    "colab": {
     "base_uri": "https://localhost:8080/",
     "height": 35
    },
    "colab_type": "code",
    "executionInfo": {
     "elapsed": 419,
     "status": "ok",
     "timestamp": 1548872934837,
     "user": {
      "displayName": "Brock Tibert",
      "photoUrl": "",
      "userId": "13148801170360632626"
     },
     "user_tz": 300
    },
    "id": "OJPAZ3lKAw9s",
    "outputId": "68ace010-9c34-41f4-b739-c5284e08c8b6"
   },
   "outputs": [
    {
     "data": {
      "text/plain": [
       "1"
      ]
     },
     "execution_count": 7,
     "metadata": {},
     "output_type": "execute_result"
    }
   ],
   "source": [
    "a = True\n",
    "b = True\n",
    "c = False\n",
    "d = True\n",
    "a+b+c-d"
   ]
  },
  {
   "cell_type": "markdown",
   "metadata": {
    "colab_type": "text",
    "id": "uhziEATH_1V_"
   },
   "source": [
    "# Strings\n",
    "\n",
    "In this module, we will dive into strings and how to work with them."
   ]
  },
  {
   "cell_type": "code",
   "execution_count": 0,
   "metadata": {
    "colab": {},
    "colab_type": "code",
    "id": "nnQWzKDe0Mb5"
   },
   "outputs": [],
   "source": [
    "## lets start with a string here:\n"
   ]
  },
  {
   "cell_type": "code",
   "execution_count": 0,
   "metadata": {
    "colab": {},
    "colab_type": "code",
    "id": "Pax8een-kvap"
   },
   "outputs": [],
   "source": [
    "## length"
   ]
  },
  {
   "cell_type": "code",
   "execution_count": 3,
   "metadata": {
    "colab": {},
    "colab_type": "code",
    "id": "LLsaOQLNkvyv"
   },
   "outputs": [],
   "source": [
    "## methods to the string (length, upper, lower, capitalize, etc)\n",
    "my_string=\"Hello World\"\n",
    "ms = my_string\n",
    "## ^^ remember, my_string.<tab> is our friend"
   ]
  },
  {
   "cell_type": "code",
   "execution_count": 4,
   "metadata": {
    "colab": {},
    "colab_type": "code",
    "id": "84fL-uBWGHmQ"
   },
   "outputs": [
    {
     "data": {
      "text/plain": [
       "11"
      ]
     },
     "execution_count": 4,
     "metadata": {},
     "output_type": "execute_result"
    }
   ],
   "source": [
    "# string number to int\n",
    "len(ms)"
   ]
  },
  {
   "cell_type": "code",
   "execution_count": 0,
   "metadata": {
    "colab": {},
    "colab_type": "code",
    "id": "lnIgRg71kv-s"
   },
   "outputs": [],
   "source": [
    "## paste"
   ]
  },
  {
   "cell_type": "code",
   "execution_count": 0,
   "metadata": {
    "colab": {},
    "colab_type": "code",
    "id": "UYxNCj9GaIJj"
   },
   "outputs": [],
   "source": [
    "## string formatting"
   ]
  },
  {
   "cell_type": "code",
   "execution_count": 0,
   "metadata": {
    "colab": {},
    "colab_type": "code",
    "id": "9C7ASk7u2pmy"
   },
   "outputs": [],
   "source": [
    "## case sensitivity"
   ]
  },
  {
   "cell_type": "code",
   "execution_count": 5,
   "metadata": {
    "colab": {},
    "colab_type": "code",
    "id": "PKjMYuCf2qyG"
   },
   "outputs": [
    {
     "name": "stdout",
     "output_type": "stream",
     "text": [
      "12\n"
     ]
    }
   ],
   "source": [
    "a = 12\n",
    "b = a\n",
    "a = 6\n",
    "print(b)"
   ]
  },
  {
   "cell_type": "markdown",
   "metadata": {
    "colab_type": "text",
    "id": "WYOTauJSaZVr"
   },
   "source": [
    "### Exercise: Hello World \n",
    "\n",
    "Below:\n",
    "\n",
    "1.  create a variable called **`myname`** to store your first land last name (e.g. Brock Tibert)\n",
    "2.  create a variable called **`hw`** to generate a string that says Hello, my name is **`<your name here>`**! where **`<your name here>`** is the value of **`myname`** \n",
    "3.  print the variable **`hw`**"
   ]
  },
  {
   "cell_type": "code",
   "execution_count": 7,
   "metadata": {
    "colab": {},
    "colab_type": "code",
    "id": "bm3bCGCo2zVY"
   },
   "outputs": [
    {
     "data": {
      "text/plain": [
       "'My Name is Kyle and my favorate color is Blue'"
      ]
     },
     "execution_count": 7,
     "metadata": {},
     "output_type": "execute_result"
    }
   ],
   "source": [
    "## create your name\n",
    "myname = \"Kyle\"\n",
    "\"My Name is {}\".format(\"Kyle\")\n",
    "str = \"My Name is {1} and my favorate color is {0}\"\n",
    "str.format(\"Blue\", \"Kyle\")"
   ]
  },
  {
   "cell_type": "code",
   "execution_count": 0,
   "metadata": {
    "colab": {},
    "colab_type": "code",
    "id": "dKG0hsO920Ap"
   },
   "outputs": [],
   "source": [
    "## build the statement\n",
    "hw = \"\""
   ]
  },
  {
   "cell_type": "code",
   "execution_count": 0,
   "metadata": {
    "colab": {},
    "colab_type": "code",
    "id": "5EZ6B2wo20KG"
   },
   "outputs": [],
   "source": [
    "## print the statement"
   ]
  },
  {
   "cell_type": "code",
   "execution_count": 10,
   "metadata": {},
   "outputs": [
    {
     "data": {
      "text/plain": [
       "'ABC|DEF'"
      ]
     },
     "execution_count": 10,
     "metadata": {},
     "output_type": "execute_result"
    }
   ],
   "source": [
    "a = \"ABC\"\n",
    "b = \"DEF\"\n",
    "\"|\".join([a,b])"
   ]
  },
  {
   "cell_type": "code",
   "execution_count": null,
   "metadata": {},
   "outputs": [],
   "source": []
  }
 ],
 "metadata": {
  "colab": {
   "collapsed_sections": [],
   "name": "04-strings-booleans.ipynb",
   "provenance": [],
   "toc_visible": true,
   "version": "0.3.2"
  },
  "kernelspec": {
   "display_name": "Python 3",
   "language": "python",
   "name": "python3"
  },
  "language_info": {
   "codemirror_mode": {
    "name": "ipython",
    "version": 3
   },
   "file_extension": ".py",
   "mimetype": "text/x-python",
   "name": "python",
   "nbconvert_exporter": "python",
   "pygments_lexer": "ipython3",
   "version": "3.7.2"
  }
 },
 "nbformat": 4,
 "nbformat_minor": 1
}
