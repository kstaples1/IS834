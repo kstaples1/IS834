{
 "cells": [
  {
   "cell_type": "markdown",
   "metadata": {
    "colab_type": "text",
    "id": "18NZFBiw_Mt3"
   },
   "source": [
    "# Pandas Fundamentals Lab\n",
    "\n"
   ]
  },
  {
   "cell_type": "markdown",
   "metadata": {
    "colab_type": "text",
    "id": "MFxCvOpdAFXr"
   },
   "source": [
    "## About\n",
    "\n",
    "This pandas lab is aimed to reinforce the fundamentals of pandas before we jump into handling of missing values, column operations, and summarizing info.  \n",
    "\n",
    "The `tweets-dataset.csv` dataset can be found in the Session 5 `Datasets` folder.  We will use this dataset for the entire lab.  You can either upload the tweets-dataaset.csv to Collab (I have a quick video showing how it is done), or you can use the URL below.\n",
    "\n",
    "`https://raw.githubusercontent.com/Btibert3/is834/master/datasets/tweets-dataset.csv`\n",
    "\n",
    "\n",
    "\n",
    "> **Reminder:  Pandas can handle csv files from the web, or, compressed in .zip folders**"
   ]
  },
  {
   "cell_type": "markdown",
   "metadata": {
    "colab_type": "text",
    "id": "QthSZDO5AYKw"
   },
   "source": [
    "## Section 1 - Setup your environment"
   ]
  },
  {
   "cell_type": "code",
   "execution_count": 58,
   "metadata": {
    "colab": {},
    "colab_type": "code",
    "id": "dcslbVLiAdzt"
   },
   "outputs": [],
   "source": [
    "# load numpy and pandas into your python session\n",
    "import numpy as np\n",
    "import pandas as pd\n",
    "%matplotlib inline"
   ]
  },
  {
   "cell_type": "markdown",
   "metadata": {
    "colab_type": "text",
    "id": "dNwfeJTwAgIF"
   },
   "source": [
    "## Section 2 - Import the data\n",
    "\n",
    "Hint:  You can select upload from the file menu to import the tweets.csv dataset from your laptop to Google Collab.  You just need to download it from the course site on QTools first or read in the dataset from the web, with the address shown above."
   ]
  },
  {
   "cell_type": "code",
   "execution_count": 8,
   "metadata": {
    "colab": {},
    "colab_type": "code",
    "id": "9KoWAIvMAiU6"
   },
   "outputs": [],
   "source": [
    "# the the dataset into a pandas dataframe and assign it the name tweets\n",
    "\n",
    "tweets = pd.DataFrame(pd.read_csv(\"datasets/tweets-dataset.csv\"))"
   ]
  },
  {
   "cell_type": "markdown",
   "metadata": {
    "colab_type": "text",
    "id": "dCt7CSYsBJ8P"
   },
   "source": [
    "## Section 3 - Exploratory Data Analysis (EDA)"
   ]
  },
  {
   "cell_type": "markdown",
   "metadata": {
    "colab_type": "text",
    "id": "FbbWBJgwB3s8"
   },
   "source": [
    "### Number of rows and columns"
   ]
  },
  {
   "cell_type": "code",
   "execution_count": 12,
   "metadata": {
    "colab": {},
    "colab_type": "code",
    "id": "rcqE_NTkBPVf"
   },
   "outputs": [
    {
     "data": {
      "text/plain": [
       "(368, 14)"
      ]
     },
     "execution_count": 12,
     "metadata": {},
     "output_type": "execute_result"
    }
   ],
   "source": [
    "# print out the number of rows and columns\n",
    "## for each, the sentence should sya \"the number of <insert metric here> in the tweets dataset is <insert value here>.\n",
    "tweets.shape"
   ]
  },
  {
   "cell_type": "code",
   "execution_count": 15,
   "metadata": {
    "colab": {},
    "colab_type": "code",
    "id": "Di7W7mC7BlXE"
   },
   "outputs": [
    {
     "data": {
      "text/html": [
       "<div>\n",
       "<style scoped>\n",
       "    .dataframe tbody tr th:only-of-type {\n",
       "        vertical-align: middle;\n",
       "    }\n",
       "\n",
       "    .dataframe tbody tr th {\n",
       "        vertical-align: top;\n",
       "    }\n",
       "\n",
       "    .dataframe thead th {\n",
       "        text-align: right;\n",
       "    }\n",
       "</style>\n",
       "<table border=\"1\" class=\"dataframe\">\n",
       "  <thead>\n",
       "    <tr style=\"text-align: right;\">\n",
       "      <th></th>\n",
       "      <th>user_id</th>\n",
       "      <th>status_id</th>\n",
       "      <th>created_at</th>\n",
       "      <th>text</th>\n",
       "      <th>source</th>\n",
       "      <th>favorite_count</th>\n",
       "      <th>retweet_count</th>\n",
       "      <th>lang</th>\n",
       "      <th>followers_count</th>\n",
       "      <th>friends_count</th>\n",
       "      <th>statuses_count</th>\n",
       "      <th>account_lang</th>\n",
       "      <th>account_created_at</th>\n",
       "      <th>tags</th>\n",
       "    </tr>\n",
       "  </thead>\n",
       "  <tbody>\n",
       "    <tr>\n",
       "      <th>301</th>\n",
       "      <td>1044589785866678272</td>\n",
       "      <td>1055433195020263424</td>\n",
       "      <td>2018-10-25T12:17:37Z</td>\n",
       "      <td>Please give your valuable feedbacks. #rstats #...</td>\n",
       "      <td>Twitter Web Client</td>\n",
       "      <td>2</td>\n",
       "      <td>3</td>\n",
       "      <td>en</td>\n",
       "      <td>48</td>\n",
       "      <td>210</td>\n",
       "      <td>21</td>\n",
       "      <td>en</td>\n",
       "      <td>2018-09-25T14:09:47Z</td>\n",
       "      <td>rstats|RLadies|r4ds</td>\n",
       "    </tr>\n",
       "    <tr>\n",
       "      <th>122</th>\n",
       "      <td>408580973</td>\n",
       "      <td>1055656674516762625</td>\n",
       "      <td>2018-10-26T03:05:39Z</td>\n",
       "      <td>When you’re cruising along in model selection,...</td>\n",
       "      <td>Twitter for iPhone</td>\n",
       "      <td>3</td>\n",
       "      <td>1</td>\n",
       "      <td>en</td>\n",
       "      <td>645</td>\n",
       "      <td>495</td>\n",
       "      <td>9350</td>\n",
       "      <td>en</td>\n",
       "      <td>2011-11-09T16:23:09Z</td>\n",
       "      <td>phdlife|rstats</td>\n",
       "    </tr>\n",
       "    <tr>\n",
       "      <th>228</th>\n",
       "      <td>130791303</td>\n",
       "      <td>1055520298261463040</td>\n",
       "      <td>2018-10-25T18:03:44Z</td>\n",
       "      <td>How long until Berlin is ready for subway job ...</td>\n",
       "      <td>Twitter for Android</td>\n",
       "      <td>4</td>\n",
       "      <td>1</td>\n",
       "      <td>en</td>\n",
       "      <td>277</td>\n",
       "      <td>449</td>\n",
       "      <td>912</td>\n",
       "      <td>de</td>\n",
       "      <td>2010-04-08T09:43:49Z</td>\n",
       "      <td>rstats|scala|onlyinberlin</td>\n",
       "    </tr>\n",
       "    <tr>\n",
       "      <th>257</th>\n",
       "      <td>310855369</td>\n",
       "      <td>1055492802425970688</td>\n",
       "      <td>2018-10-25T16:14:28Z</td>\n",
       "      <td>There is a specific #immigration project that ...</td>\n",
       "      <td>Twitter for Android</td>\n",
       "      <td>0</td>\n",
       "      <td>1</td>\n",
       "      <td>en</td>\n",
       "      <td>329</td>\n",
       "      <td>1780</td>\n",
       "      <td>242</td>\n",
       "      <td>en</td>\n",
       "      <td>2011-06-04T13:31:09Z</td>\n",
       "      <td>immigration|data4democracy|Python|rstats</td>\n",
       "    </tr>\n",
       "    <tr>\n",
       "      <th>102</th>\n",
       "      <td>836526073340801024</td>\n",
       "      <td>1055689145794863114</td>\n",
       "      <td>2018-10-26T05:14:40Z</td>\n",
       "      <td>A pleasure to be the opponent of the licenciat...</td>\n",
       "      <td>Twitter Web Client</td>\n",
       "      <td>7</td>\n",
       "      <td>1</td>\n",
       "      <td>en</td>\n",
       "      <td>741</td>\n",
       "      <td>363</td>\n",
       "      <td>424</td>\n",
       "      <td>en</td>\n",
       "      <td>2017-02-28T10:38:52Z</td>\n",
       "      <td>rstats</td>\n",
       "    </tr>\n",
       "    <tr>\n",
       "      <th>147</th>\n",
       "      <td>1823987821</td>\n",
       "      <td>1055633126964125697</td>\n",
       "      <td>2018-10-26T01:32:04Z</td>\n",
       "      <td>Here we go! Live from Korea: https://t.co/wsOV...</td>\n",
       "      <td>Twitter for Android</td>\n",
       "      <td>75</td>\n",
       "      <td>4</td>\n",
       "      <td>en</td>\n",
       "      <td>1879</td>\n",
       "      <td>543</td>\n",
       "      <td>6194</td>\n",
       "      <td>en</td>\n",
       "      <td>2013-09-08T09:54:48Z</td>\n",
       "      <td>rstats</td>\n",
       "    </tr>\n",
       "    <tr>\n",
       "      <th>234</th>\n",
       "      <td>2661769334</td>\n",
       "      <td>1055515436580814854</td>\n",
       "      <td>2018-10-25T17:44:25Z</td>\n",
       "      <td>@ICBI_Georgetown Code and slides for our works...</td>\n",
       "      <td>Twitter Web Client</td>\n",
       "      <td>6</td>\n",
       "      <td>4</td>\n",
       "      <td>en</td>\n",
       "      <td>698</td>\n",
       "      <td>443</td>\n",
       "      <td>1908</td>\n",
       "      <td>en</td>\n",
       "      <td>2014-07-20T05:09:40Z</td>\n",
       "      <td>rstats|metabolomics|Duchenne</td>\n",
       "    </tr>\n",
       "  </tbody>\n",
       "</table>\n",
       "</div>"
      ],
      "text/plain": [
       "                 user_id            status_id            created_at  \\\n",
       "301  1044589785866678272  1055433195020263424  2018-10-25T12:17:37Z   \n",
       "122            408580973  1055656674516762625  2018-10-26T03:05:39Z   \n",
       "228            130791303  1055520298261463040  2018-10-25T18:03:44Z   \n",
       "257            310855369  1055492802425970688  2018-10-25T16:14:28Z   \n",
       "102   836526073340801024  1055689145794863114  2018-10-26T05:14:40Z   \n",
       "147           1823987821  1055633126964125697  2018-10-26T01:32:04Z   \n",
       "234           2661769334  1055515436580814854  2018-10-25T17:44:25Z   \n",
       "\n",
       "                                                  text               source  \\\n",
       "301  Please give your valuable feedbacks. #rstats #...   Twitter Web Client   \n",
       "122  When you’re cruising along in model selection,...   Twitter for iPhone   \n",
       "228  How long until Berlin is ready for subway job ...  Twitter for Android   \n",
       "257  There is a specific #immigration project that ...  Twitter for Android   \n",
       "102  A pleasure to be the opponent of the licenciat...   Twitter Web Client   \n",
       "147  Here we go! Live from Korea: https://t.co/wsOV...  Twitter for Android   \n",
       "234  @ICBI_Georgetown Code and slides for our works...   Twitter Web Client   \n",
       "\n",
       "     favorite_count  retweet_count lang  followers_count  friends_count  \\\n",
       "301               2              3   en               48            210   \n",
       "122               3              1   en              645            495   \n",
       "228               4              1   en              277            449   \n",
       "257               0              1   en              329           1780   \n",
       "102               7              1   en              741            363   \n",
       "147              75              4   en             1879            543   \n",
       "234               6              4   en              698            443   \n",
       "\n",
       "     statuses_count account_lang    account_created_at  \\\n",
       "301              21           en  2018-09-25T14:09:47Z   \n",
       "122            9350           en  2011-11-09T16:23:09Z   \n",
       "228             912           de  2010-04-08T09:43:49Z   \n",
       "257             242           en  2011-06-04T13:31:09Z   \n",
       "102             424           en  2017-02-28T10:38:52Z   \n",
       "147            6194           en  2013-09-08T09:54:48Z   \n",
       "234            1908           en  2014-07-20T05:09:40Z   \n",
       "\n",
       "                                         tags  \n",
       "301                       rstats|RLadies|r4ds  \n",
       "122                            phdlife|rstats  \n",
       "228                 rstats|scala|onlyinberlin  \n",
       "257  immigration|data4democracy|Python|rstats  \n",
       "102                                    rstats  \n",
       "147                                    rstats  \n",
       "234              rstats|metabolomics|Duchenne  "
      ]
     },
     "execution_count": 15,
     "metadata": {},
     "output_type": "execute_result"
    }
   ],
   "source": [
    "### View a random sample of 7 rows\n",
    "tweets.sample(n=7, replace = False, random_state = 1)"
   ]
  },
  {
   "cell_type": "markdown",
   "metadata": {
    "colab_type": "text",
    "id": "iTY9p3L-CBJU"
   },
   "source": [
    "## Section 4 - Select Rows and Columns"
   ]
  },
  {
   "cell_type": "markdown",
   "metadata": {
    "colab_type": "text",
    "id": "Wvm9kOwPCloI"
   },
   "source": [
    "### Column Selection"
   ]
  },
  {
   "cell_type": "code",
   "execution_count": 19,
   "metadata": {
    "colab": {},
    "colab_type": "code",
    "id": "ufdqxV8oCqsd"
   },
   "outputs": [],
   "source": [
    "# create a new dataframe with the user_id, status_id, text, source, and favorite_count fields\n",
    "# call this new dataframe tweets2\n",
    "tweets2 = tweets[['user_id', 'status_id', 'text', 'source', 'favorite_count']]"
   ]
  },
  {
   "cell_type": "code",
   "execution_count": 20,
   "metadata": {
    "colab": {},
    "colab_type": "code",
    "id": "o0eGP6gdDFfg"
   },
   "outputs": [
    {
     "data": {
      "text/html": [
       "<div>\n",
       "<style scoped>\n",
       "    .dataframe tbody tr th:only-of-type {\n",
       "        vertical-align: middle;\n",
       "    }\n",
       "\n",
       "    .dataframe tbody tr th {\n",
       "        vertical-align: top;\n",
       "    }\n",
       "\n",
       "    .dataframe thead th {\n",
       "        text-align: right;\n",
       "    }\n",
       "</style>\n",
       "<table border=\"1\" class=\"dataframe\">\n",
       "  <thead>\n",
       "    <tr style=\"text-align: right;\">\n",
       "      <th></th>\n",
       "      <th>user_id</th>\n",
       "      <th>status_id</th>\n",
       "      <th>text</th>\n",
       "      <th>source</th>\n",
       "      <th>favorite_count</th>\n",
       "    </tr>\n",
       "  </thead>\n",
       "  <tbody>\n",
       "    <tr>\n",
       "      <th>364</th>\n",
       "      <td>34091991</td>\n",
       "      <td>1055291425586364416</td>\n",
       "      <td>#rstats  the #GASP event has been informative ...</td>\n",
       "      <td>Twitter for iPhone</td>\n",
       "      <td>1</td>\n",
       "    </tr>\n",
       "    <tr>\n",
       "      <th>365</th>\n",
       "      <td>194162292</td>\n",
       "      <td>1055287791507161088</td>\n",
       "      <td>@joelmcglothlin @ZarahPattison I also highly r...</td>\n",
       "      <td>Twitter Web Client</td>\n",
       "      <td>10</td>\n",
       "    </tr>\n",
       "    <tr>\n",
       "      <th>366</th>\n",
       "      <td>543981616</td>\n",
       "      <td>1055286410867920896</td>\n",
       "      <td>One of my favorite #rstats packages. https://t...</td>\n",
       "      <td>Twitter for iPhone</td>\n",
       "      <td>1</td>\n",
       "    </tr>\n",
       "    <tr>\n",
       "      <th>367</th>\n",
       "      <td>3230388598</td>\n",
       "      <td>1055280033294618624</td>\n",
       "      <td>✂️ Got snippets? Keep 'em organized…\\n📦 \"snipp...</td>\n",
       "      <td>Buffer</td>\n",
       "      <td>50</td>\n",
       "    </tr>\n",
       "  </tbody>\n",
       "</table>\n",
       "</div>"
      ],
      "text/plain": [
       "        user_id            status_id  \\\n",
       "364    34091991  1055291425586364416   \n",
       "365   194162292  1055287791507161088   \n",
       "366   543981616  1055286410867920896   \n",
       "367  3230388598  1055280033294618624   \n",
       "\n",
       "                                                  text              source  \\\n",
       "364  #rstats  the #GASP event has been informative ...  Twitter for iPhone   \n",
       "365  @joelmcglothlin @ZarahPattison I also highly r...  Twitter Web Client   \n",
       "366  One of my favorite #rstats packages. https://t...  Twitter for iPhone   \n",
       "367  ✂️ Got snippets? Keep 'em organized…\\n📦 \"snipp...              Buffer   \n",
       "\n",
       "     favorite_count  \n",
       "364               1  \n",
       "365              10  \n",
       "366               1  \n",
       "367              50  "
      ]
     },
     "execution_count": 20,
     "metadata": {},
     "output_type": "execute_result"
    }
   ],
   "source": [
    "# view the last 4 rows of the data\n",
    "tweets2.tail(4)"
   ]
  },
  {
   "cell_type": "markdown",
   "metadata": {
    "colab_type": "text",
    "id": "MLVq6gzjDJAu"
   },
   "source": [
    "### Row Selection"
   ]
  },
  {
   "cell_type": "code",
   "execution_count": 36,
   "metadata": {
    "colab": {},
    "colab_type": "code",
    "id": "fD4zt-N-DWOm"
   },
   "outputs": [],
   "source": [
    "# from tweets2, select the rows with 1 or more favorites and has more than 100 characters in the tweet\n",
    "# save this in a dataframe called tweets_filtered\n",
    "tweets_filtered = tweets2.loc[(tweets2['favorite_count']>0) & (len(tweets2['text']) > 100)]"
   ]
  },
  {
   "cell_type": "code",
   "execution_count": 37,
   "metadata": {
    "colab": {},
    "colab_type": "code",
    "id": "zj-cEoKmD28j"
   },
   "outputs": [
    {
     "data": {
      "text/html": [
       "<div>\n",
       "<style scoped>\n",
       "    .dataframe tbody tr th:only-of-type {\n",
       "        vertical-align: middle;\n",
       "    }\n",
       "\n",
       "    .dataframe tbody tr th {\n",
       "        vertical-align: top;\n",
       "    }\n",
       "\n",
       "    .dataframe thead th {\n",
       "        text-align: right;\n",
       "    }\n",
       "</style>\n",
       "<table border=\"1\" class=\"dataframe\">\n",
       "  <thead>\n",
       "    <tr style=\"text-align: right;\">\n",
       "      <th></th>\n",
       "      <th>user_id</th>\n",
       "      <th>status_id</th>\n",
       "      <th>text</th>\n",
       "      <th>source</th>\n",
       "      <th>favorite_count</th>\n",
       "    </tr>\n",
       "  </thead>\n",
       "  <tbody>\n",
       "    <tr>\n",
       "      <th>7</th>\n",
       "      <td>961691888939126784</td>\n",
       "      <td>1055400840335376384</td>\n",
       "      <td>World Cup 2018 \\nTop 10 Players: Passing From ...</td>\n",
       "      <td>Twitter Web Client</td>\n",
       "      <td>29</td>\n",
       "    </tr>\n",
       "    <tr>\n",
       "      <th>9</th>\n",
       "      <td>287836809</td>\n",
       "      <td>1055595694998851590</td>\n",
       "      <td>Getting started Stamen maps with ggmap via #rb...</td>\n",
       "      <td>IFTTT</td>\n",
       "      <td>1</td>\n",
       "    </tr>\n",
       "    <tr>\n",
       "      <th>11</th>\n",
       "      <td>287836809</td>\n",
       "      <td>1055758001578106881</td>\n",
       "      <td>Popular Halloween Candy on US State Grid Map v...</td>\n",
       "      <td>IFTTT</td>\n",
       "      <td>1</td>\n",
       "    </tr>\n",
       "    <tr>\n",
       "      <th>18</th>\n",
       "      <td>18238982</td>\n",
       "      <td>1055464734387044352</td>\n",
       "      <td>So, up to now, the submitted sessions for @SQL...</td>\n",
       "      <td>TweetDeck</td>\n",
       "      <td>2</td>\n",
       "    </tr>\n",
       "    <tr>\n",
       "      <th>21</th>\n",
       "      <td>1269383796</td>\n",
       "      <td>1055482697429274624</td>\n",
       "      <td>Drawing beautiful maps programmatically with R...</td>\n",
       "      <td>IFTTT</td>\n",
       "      <td>2</td>\n",
       "    </tr>\n",
       "  </tbody>\n",
       "</table>\n",
       "</div>"
      ],
      "text/plain": [
       "               user_id            status_id  \\\n",
       "7   961691888939126784  1055400840335376384   \n",
       "9            287836809  1055595694998851590   \n",
       "11           287836809  1055758001578106881   \n",
       "18            18238982  1055464734387044352   \n",
       "21          1269383796  1055482697429274624   \n",
       "\n",
       "                                                 text              source  \\\n",
       "7   World Cup 2018 \\nTop 10 Players: Passing From ...  Twitter Web Client   \n",
       "9   Getting started Stamen maps with ggmap via #rb...               IFTTT   \n",
       "11  Popular Halloween Candy on US State Grid Map v...               IFTTT   \n",
       "18  So, up to now, the submitted sessions for @SQL...           TweetDeck   \n",
       "21  Drawing beautiful maps programmatically with R...               IFTTT   \n",
       "\n",
       "    favorite_count  \n",
       "7               29  \n",
       "9                1  \n",
       "11               1  \n",
       "18               2  \n",
       "21               2  "
      ]
     },
     "execution_count": 37,
     "metadata": {},
     "output_type": "execute_result"
    }
   ],
   "source": [
    "# view the top 5 rows of the data\n",
    "tweets_filtered.head(5)"
   ]
  },
  {
   "cell_type": "code",
   "execution_count": 38,
   "metadata": {
    "colab": {},
    "colab_type": "code",
    "id": "1rPkp7fSD6Zy"
   },
   "outputs": [
    {
     "data": {
      "text/plain": [
       "(265, 5)"
      ]
     },
     "execution_count": 38,
     "metadata": {},
     "output_type": "execute_result"
    }
   ],
   "source": [
    "# print out how many rows of data you have using a sentence similar to above in Section 2\n",
    "tweets_filtered.shape"
   ]
  },
  {
   "cell_type": "markdown",
   "metadata": {
    "colab_type": "text",
    "id": "hBFF8DgmEHE-"
   },
   "source": [
    "## Section 5 - Rows kept"
   ]
  },
  {
   "cell_type": "code",
   "execution_count": 45,
   "metadata": {
    "colab": {},
    "colab_type": "code",
    "id": "S7dOYaR7EVxx"
   },
   "outputs": [
    {
     "name": "stdout",
     "output_type": "stream",
     "text": [
      "72.0%\n"
     ]
    }
   ],
   "source": [
    "## for the number of rows in tweets_filtered, express this as a percentage of the total number of rows in tweets, our original dataframe.\n",
    "## do this using python code, not handcoded data\n",
    "str = \"{}%\"\n",
    "num = np.round(len(tweets_filtered)/len(tweets)*100)\n",
    "print(str.format(num))"
   ]
  },
  {
   "cell_type": "markdown",
   "metadata": {
    "colab_type": "text",
    "id": "kDVxqUWxEniC"
   },
   "source": [
    "## Section 6 - Summarize the dataframe"
   ]
  },
  {
   "cell_type": "code",
   "execution_count": 53,
   "metadata": {
    "colab": {},
    "colab_type": "code",
    "id": "yAaGZhyFEpOl"
   },
   "outputs": [
    {
     "data": {
      "text/html": [
       "<div>\n",
       "<style scoped>\n",
       "    .dataframe tbody tr th:only-of-type {\n",
       "        vertical-align: middle;\n",
       "    }\n",
       "\n",
       "    .dataframe tbody tr th {\n",
       "        vertical-align: top;\n",
       "    }\n",
       "\n",
       "    .dataframe thead th {\n",
       "        text-align: right;\n",
       "    }\n",
       "</style>\n",
       "<table border=\"1\" class=\"dataframe\">\n",
       "  <thead>\n",
       "    <tr style=\"text-align: right;\">\n",
       "      <th></th>\n",
       "      <th>user_id</th>\n",
       "      <th>status_id</th>\n",
       "      <th>favorite_count</th>\n",
       "    </tr>\n",
       "  </thead>\n",
       "  <tbody>\n",
       "    <tr>\n",
       "      <th>count</th>\n",
       "      <td>2.650000e+02</td>\n",
       "      <td>2.650000e+02</td>\n",
       "      <td>265.000000</td>\n",
       "    </tr>\n",
       "    <tr>\n",
       "      <th>mean</th>\n",
       "      <td>1.827190e+17</td>\n",
       "      <td>1.055533e+18</td>\n",
       "      <td>10.875472</td>\n",
       "    </tr>\n",
       "    <tr>\n",
       "      <th>std</th>\n",
       "      <td>3.688303e+17</td>\n",
       "      <td>1.261719e+14</td>\n",
       "      <td>22.430439</td>\n",
       "    </tr>\n",
       "    <tr>\n",
       "      <th>min</th>\n",
       "      <td>1.230600e+04</td>\n",
       "      <td>1.055280e+18</td>\n",
       "      <td>1.000000</td>\n",
       "    </tr>\n",
       "    <tr>\n",
       "      <th>25%</th>\n",
       "      <td>1.445930e+08</td>\n",
       "      <td>1.055433e+18</td>\n",
       "      <td>2.000000</td>\n",
       "    </tr>\n",
       "    <tr>\n",
       "      <th>50%</th>\n",
       "      <td>9.167344e+08</td>\n",
       "      <td>1.055520e+18</td>\n",
       "      <td>4.000000</td>\n",
       "    </tr>\n",
       "    <tr>\n",
       "      <th>75%</th>\n",
       "      <td>4.185694e+09</td>\n",
       "      <td>1.055627e+18</td>\n",
       "      <td>8.000000</td>\n",
       "    </tr>\n",
       "    <tr>\n",
       "      <th>max</th>\n",
       "      <td>1.044590e+18</td>\n",
       "      <td>1.055791e+18</td>\n",
       "      <td>189.000000</td>\n",
       "    </tr>\n",
       "  </tbody>\n",
       "</table>\n",
       "</div>"
      ],
      "text/plain": [
       "            user_id     status_id  favorite_count\n",
       "count  2.650000e+02  2.650000e+02      265.000000\n",
       "mean   1.827190e+17  1.055533e+18       10.875472\n",
       "std    3.688303e+17  1.261719e+14       22.430439\n",
       "min    1.230600e+04  1.055280e+18        1.000000\n",
       "25%    1.445930e+08  1.055433e+18        2.000000\n",
       "50%    9.167344e+08  1.055520e+18        4.000000\n",
       "75%    4.185694e+09  1.055627e+18        8.000000\n",
       "max    1.044590e+18  1.055791e+18      189.000000"
      ]
     },
     "execution_count": 53,
     "metadata": {},
     "output_type": "execute_result"
    }
   ],
   "source": [
    "## using tweets filtered from Section 4, summarize the numerical fields in the dataset\n",
    "tweets_filtered.describe()"
   ]
  },
  {
   "cell_type": "markdown",
   "metadata": {
    "colab_type": "text",
    "id": "Zh7scIiCF8Df"
   },
   "source": [
    "## Section 7 - Check for missing data"
   ]
  },
  {
   "cell_type": "code",
   "execution_count": 56,
   "metadata": {
    "colab": {},
    "colab_type": "code",
    "id": "-a6JocHmGTez"
   },
   "outputs": [
    {
     "data": {
      "text/plain": [
       "user_id           0\n",
       "status_id         0\n",
       "text              0\n",
       "source            0\n",
       "favorite_count    0\n",
       "dtype: int64"
      ]
     },
     "execution_count": 56,
     "metadata": {},
     "output_type": "execute_result"
    }
   ],
   "source": [
    "# for each column in tweets filtered, show a count of how many missing values exist\n",
    "tweets_filtered.isnull().sum()"
   ]
  },
  {
   "cell_type": "markdown",
   "metadata": {
    "colab_type": "text",
    "id": "RadcJbVcGbp8"
   },
   "source": [
    "## Section 8 - Quick Plot"
   ]
  },
  {
   "cell_type": "code",
   "execution_count": 60,
   "metadata": {
    "colab": {},
    "colab_type": "code",
    "id": "80-ijnEXGfGe"
   },
   "outputs": [
    {
     "data": {
      "text/plain": [
       "array([[<matplotlib.axes._subplots.AxesSubplot object at 0x124ef7940>]],\n",
       "      dtype=object)"
      ]
     },
     "execution_count": 60,
     "metadata": {},
     "output_type": "execute_result"
    },
    {
     "data": {
      "image/png": "[encoded data removed]",
      "text/plain": [
       "<Figure size 432x288 with 1 Axes>"
      ]
     },
     "metadata": {
      "needs_background": "light"
     },
     "output_type": "display_data"
    }
   ],
   "source": [
    "# generate a histogram for favorite_count from tweets_filtered using the built in plotting from pandas\n",
    "tweets_filtered[['favorite_count']].hist()"
   ]
  },
  {
   "cell_type": "markdown",
   "metadata": {
    "colab_type": "text",
    "id": "bBLy2emaGpSh"
   },
   "source": [
    "## Section 9 - Advanced Filtering"
   ]
  },
  {
   "cell_type": "code",
   "execution_count": 74,
   "metadata": {
    "colab": {},
    "colab_type": "code",
    "id": "tBW1OdxMG2q8"
   },
   "outputs": [],
   "source": [
    "## from the originally loaded dataset, tweets, select tweets with:\n",
    "## - 75 or more favorites\n",
    "## - 25 or more characters in the tweet\n",
    "## - keep only the user_id, status_id, text, favorite_count columns\n",
    "## save this in a new dataframe called tweets_final\n",
    "tmp = tweets[(tweets['favorite_count'] >74) | (len(tweets['text'])>24)]\n",
    "tweets_final = tmp[['user_id', 'status_id', 'text', 'favorite_count']]"
   ]
  },
  {
   "cell_type": "code",
   "execution_count": 82,
   "metadata": {
    "colab": {},
    "colab_type": "code",
    "id": "kaKA22DcHibi"
   },
   "outputs": [
    {
     "data": {
      "text/html": [
       "<div>\n",
       "<style scoped>\n",
       "    .dataframe tbody tr th:only-of-type {\n",
       "        vertical-align: middle;\n",
       "    }\n",
       "\n",
       "    .dataframe tbody tr th {\n",
       "        vertical-align: top;\n",
       "    }\n",
       "\n",
       "    .dataframe thead th {\n",
       "        text-align: right;\n",
       "    }\n",
       "</style>\n",
       "<table border=\"1\" class=\"dataframe\">\n",
       "  <thead>\n",
       "    <tr style=\"text-align: right;\">\n",
       "      <th></th>\n",
       "      <th>user_id</th>\n",
       "      <th>status_id</th>\n",
       "      <th>text</th>\n",
       "      <th>favorite_count</th>\n",
       "    </tr>\n",
       "  </thead>\n",
       "  <tbody>\n",
       "    <tr>\n",
       "      <th>364</th>\n",
       "      <td>34091991</td>\n",
       "      <td>1055291425586364416</td>\n",
       "      <td>#rstats  the #GASP event has been informative ...</td>\n",
       "      <td>1</td>\n",
       "    </tr>\n",
       "    <tr>\n",
       "      <th>365</th>\n",
       "      <td>194162292</td>\n",
       "      <td>1055287791507161088</td>\n",
       "      <td>@joelmcglothlin @ZarahPattison I also highly r...</td>\n",
       "      <td>10</td>\n",
       "    </tr>\n",
       "    <tr>\n",
       "      <th>366</th>\n",
       "      <td>543981616</td>\n",
       "      <td>1055286410867920896</td>\n",
       "      <td>One of my favorite #rstats packages. https://t...</td>\n",
       "      <td>1</td>\n",
       "    </tr>\n",
       "    <tr>\n",
       "      <th>367</th>\n",
       "      <td>3230388598</td>\n",
       "      <td>1055280033294618624</td>\n",
       "      <td>✂️ Got snippets? Keep 'em organized…\\n📦 \"snipp...</td>\n",
       "      <td>50</td>\n",
       "    </tr>\n",
       "  </tbody>\n",
       "</table>\n",
       "</div>"
      ],
      "text/plain": [
       "        user_id            status_id  \\\n",
       "364    34091991  1055291425586364416   \n",
       "365   194162292  1055287791507161088   \n",
       "366   543981616  1055286410867920896   \n",
       "367  3230388598  1055280033294618624   \n",
       "\n",
       "                                                  text  favorite_count  \n",
       "364  #rstats  the #GASP event has been informative ...               1  \n",
       "365  @joelmcglothlin @ZarahPattison I also highly r...              10  \n",
       "366  One of my favorite #rstats packages. https://t...               1  \n",
       "367  ✂️ Got snippets? Keep 'em organized…\\n📦 \"snipp...              50  "
      ]
     },
     "execution_count": 82,
     "metadata": {},
     "output_type": "execute_result"
    }
   ],
   "source": [
    "# print out the last 4 rows of tweets_final using negative slicing\n",
    "tweets_final[-4:]"
   ]
  },
  {
   "cell_type": "markdown",
   "metadata": {
    "colab_type": "text",
    "id": "DFCtmYYkHrwB"
   },
   "source": [
    "## Section 10 -  Bonus, advanced question\n",
    "\n",
    "The question below has not yet been discussed formally, but from the emphasis on using .<tab> to look for methods, and the ability to look at the help for these methods, you might be able to figure it out.  \n",
    "  \n",
    " Plus, remember, Google and Stack Overflow are your friend!"
   ]
  },
  {
   "cell_type": "code",
   "execution_count": 104,
   "metadata": {
    "colab": {},
    "colab_type": "code",
    "id": "WXF443vMHu5b"
   },
   "outputs": [
    {
     "data": {
      "text/plain": [
       "Twitter Web Client    148\n",
       "Name: source, dtype: int64"
      ]
     },
     "execution_count": 104,
     "metadata": {},
     "output_type": "execute_result"
    }
   ],
   "source": [
    "## Using the original dataset, tweets, what was the most frequest source and how many tweets were created via that source\n",
    "tweets['source'].value_counts().head(1)"
   ]
  },
  {
   "cell_type": "code",
   "execution_count": null,
   "metadata": {
    "colab": {},
    "colab_type": "code",
    "id": "-k60jCSWICre"
   },
   "outputs": [],
   "source": []
  },
  {
   "cell_type": "code",
   "execution_count": null,
   "metadata": {},
   "outputs": [],
   "source": []
  }
 ],
 "metadata": {
  "colab": {
   "collapsed_sections": [],
   "name": "12ex1-Pandas Fundamentals Exercise.ipynb",
   "private_outputs": true,
   "provenance": [],
   "toc_visible": true,
   "version": "0.3.2"
  },
  "kernelspec": {
   "display_name": "Python 3",
   "language": "python",
   "name": "python3"
  },
  "language_info": {
   "codemirror_mode": {
    "name": "ipython",
    "version": 3
   },
   "file_extension": ".py",
   "mimetype": "text/x-python",
   "name": "python",
   "nbconvert_exporter": "python",
   "pygments_lexer": "ipython3",
   "version": "3.7.2"
  }
 },
 "nbformat": 4,
 "nbformat_minor": 1
}
