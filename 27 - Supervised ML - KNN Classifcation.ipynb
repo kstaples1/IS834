{
 "cells": [
  {
   "cell_type": "markdown",
   "metadata": {
    "colab_type": "text",
    "id": "LA4mNlo5P0aI"
   },
   "source": [
    "# Setup"
   ]
  },
  {
   "cell_type": "code",
   "execution_count": 0,
   "metadata": {
    "colab": {},
    "colab_type": "code",
    "id": "IL9tlCqIOcvX"
   },
   "outputs": [],
   "source": [
    "## update the latest seaborn (0.9.0) and prophet\n",
    "!pip install seaborn==0.9.0\n",
    "!pip install prophet"
   ]
  },
  {
   "cell_type": "code",
   "execution_count": 1,
   "metadata": {
    "colab": {},
    "colab_type": "code",
    "id": "cipePZS5Nlys"
   },
   "outputs": [],
   "source": [
    "## setup our environment\n",
    "import pandas as pd\n",
    "import numpy as np\n",
    "import matplotlib.pyplot as plt\n",
    "import seaborn as sns\n",
    "\n",
    "## date and timeseries forecasting tooling\n",
    "import datetime\n",
    "from fbprophet import Prophet\n",
    "\n",
    "## machine learning/predictive analytics tools              # <-------- New imports!\n",
    "from sklearn.model_selection import train_test_split\n",
    "from sklearn.neighbors import KNeighborsClassifier\n",
    "\n",
    "\n",
    "## pandas print columns/rows option (100)\n",
    "pd.set_option('display.max_columns', 100)\n",
    "pd.set_option('display.max_rows', 100)\n",
    "\n",
    "## set the styling for seaborn (white)\n",
    "sns.set_style(\"dark\")"
   ]
  },
  {
   "cell_type": "markdown",
   "metadata": {
    "colab_type": "text",
    "id": "GT0xLRE-Pyt4"
   },
   "source": [
    "# Machine Learning Introduction \n",
    "\n",
    "![](https://i0.wp.com/dataaspirant.com/wp-content/uploads/2014/09/Classification-and-Regression-dataaspirant.png?resize=690%2C518)\n",
    "\n",
    "\n",
    "\n",
    "---\n",
    "\n",
    "\n",
    "\n",
    "Machine Learning / Predictive Analytics / Data Mining\n",
    "\n",
    "- process of using data to build models and find patterns in the data\n",
    "\n",
    "\n",
    "In the course to date, we have covered the tools and skills needed to:\n",
    "- acquire data\n",
    "- clean data\n",
    "- sort/filter data (both rows and columns)\n",
    "- get quick summaries of our data\n",
    "- create aggregates of our data\n",
    "- reshape our data\n",
    "- merge datasets\n",
    "- visualize our data\n",
    "\n",
    "From here, the next step of analyzing data is to start to draw insights to make predictions to help with decision making, or find patterns in the data to help simplify operational goals (market segmentation, cluster customers, etc.)\n",
    "\n"
   ]
  },
  {
   "cell_type": "markdown",
   "metadata": {
    "colab_type": "text",
    "id": "yOa4NBrpRWsJ"
   },
   "source": [
    "\n",
    "\n",
    "---\n",
    "\n",
    "![](https://www.mathworks.com/help/stats/machinelearning_supervisedunsupervised.png)\n",
    "\n",
    "\n",
    "\n",
    "---\n",
    "\n",
    "<br>\n",
    "\n",
    "\n",
    "To view the difference between classification and regression:\n",
    "\n",
    "![](https://cdn-images-1.medium.com/max/1600/0*WE3Sz--1NUEWBmUR.)\n",
    "\n",
    "\n",
    "\n",
    "---\n",
    "\n",
    "<br>\n",
    "\n",
    "![](https://blogs.nvidia.com/wp-content/uploads/2018/07/Supervised_machine_learning_in_a_nutshell.svg_.png)\n",
    "\n",
    "\n",
    "\n"
   ]
  },
  {
   "cell_type": "markdown",
   "metadata": {
    "colab_type": "text",
    "id": "QL6n2a6lSQYo"
   },
   "source": [
    "\n",
    "\n",
    "---\n",
    "\n"
   ]
  },
  {
   "cell_type": "markdown",
   "metadata": {
    "colab_type": "text",
    "id": "QOn3Hu23P5jZ"
   },
   "source": [
    "![](https://upload.wikimedia.org/wikipedia/commons/thumb/0/05/Scikit_learn_logo_small.svg/1200px-Scikit_learn_logo_small.svg.png)"
   ]
  },
  {
   "cell_type": "markdown",
   "metadata": {
    "colab_type": "text",
    "id": "TZkJG1TGSrmo"
   },
   "source": [
    "\n",
    "\n",
    "---\n",
    "\n"
   ]
  },
  {
   "cell_type": "markdown",
   "metadata": {
    "colab_type": "text",
    "id": "QXaILPMNSPp2"
   },
   "source": [
    "We are going to cover KNN Classification, which uses a value `K` to set the n nearest-neighbors, and from there, take the most frequent value for our target as the prediction.\n",
    "\n",
    "<img src=\"https://monosnap.com/image/oxafG5iNgWtqSAvLE8VFGVR6IVKt6O.png\">\n",
    "\n",
    "\n",
    "\n",
    "#### Terminology:\n",
    "\n",
    "- `K`:  how many nearest neighbors to use to drive the consensus prediction\n",
    "- `features`:  these are the variables that we use to drive the predictions\n",
    "- `target, or y`:  the variable that we are trying to predict"
   ]
  },
  {
   "cell_type": "markdown",
   "metadata": {
    "colab_type": "text",
    "id": "Q7FJLgmYUAXm"
   },
   "source": [
    "\n",
    "\n",
    "---\n",
    "\n"
   ]
  },
  {
   "cell_type": "markdown",
   "metadata": {
    "colab_type": "text",
    "id": "yN1CxoUngfuH"
   },
   "source": [
    "![](http://seekvectorlogo.com/wp-content/uploads/2018/01/spotify-vector-logo-small.png)\n",
    "\n",
    "We have been hired by Spotify to figure out if we can classify the `mode` of new songs hitting their music platform based on the musical properties of the track.  We can use K-Nearest Neighbors Classification to learn the target variable using the top 100 songs from last year.\n",
    "\n",
    "\n",
    "\n",
    "<br>\n",
    "<brr>\n",
    "\n"
   ]
  },
  {
   "cell_type": "code",
   "execution_count": 2,
   "metadata": {
    "colab": {},
    "colab_type": "code",
    "id": "rl1xuAxdTe2A"
   },
   "outputs": [
    {
     "name": "stdout",
     "output_type": "stream",
     "text": [
      "<class 'pandas.core.frame.DataFrame'>\n",
      "RangeIndex: 100 entries, 0 to 99\n",
      "Data columns (total 16 columns):\n",
      "id                  100 non-null object\n",
      "name                100 non-null object\n",
      "artists             100 non-null object\n",
      "danceability        66 non-null float64\n",
      "energy              66 non-null float64\n",
      "key                 100 non-null int64\n",
      "loudness            100 non-null float64\n",
      "mode                100 non-null int64\n",
      "speechiness         100 non-null float64\n",
      "acousticness        100 non-null float64\n",
      "instrumentalness    5 non-null float64\n",
      "liveness            69 non-null float64\n",
      "valence             100 non-null float64\n",
      "tempo               100 non-null float64\n",
      "duration_ms         100 non-null int64\n",
      "time_signature      100 non-null int64\n",
      "dtypes: float64(9), int64(4), object(3)\n",
      "memory usage: 12.6+ KB\n"
     ]
    }
   ],
   "source": [
    "## load our dataset\n",
    "url = \"https://raw.githubusercontent.com/Btibert3/is834/master/datasets/top100-songs-2018.csv\"\n",
    "songs = pd.read_csv(url)\n",
    "songs.info()"
   ]
  },
  {
   "cell_type": "code",
   "execution_count": 3,
   "metadata": {
    "colab": {},
    "colab_type": "code",
    "id": "qQS5s5FaUqx2"
   },
   "outputs": [
    {
     "data": {
      "text/plain": [
       "id                  0.00\n",
       "name                0.00\n",
       "artists             0.00\n",
       "danceability        0.34\n",
       "energy              0.34\n",
       "key                 0.00\n",
       "loudness            0.00\n",
       "mode                0.00\n",
       "speechiness         0.00\n",
       "acousticness        0.00\n",
       "instrumentalness    0.95\n",
       "liveness            0.31\n",
       "valence             0.00\n",
       "tempo               0.00\n",
       "duration_ms         0.00\n",
       "time_signature      0.00\n",
       "dtype: float64"
      ]
     },
     "execution_count": 3,
     "metadata": {},
     "output_type": "execute_result"
    }
   ],
   "source": [
    "## confirm we have missing values -- express as percentage\n",
    "songs.isna().sum() / len(songs)"
   ]
  },
  {
   "cell_type": "markdown",
   "metadata": {
    "colab_type": "text",
    "id": "wzMBSJucUyv-"
   },
   "source": [
    "Most machine learning techniques, especially when we write code, get angry when we:\n",
    "\n",
    "- have missing values\n",
    "- are data are not numeric in nature\n",
    "\n",
    "In particular, scikit learn requires that our data are numeric and either represent numpy arrays or pandas dataframes.  We will see that in a moment.\n",
    "\n",
    "For now, lets clean the data"
   ]
  },
  {
   "cell_type": "code",
   "execution_count": 4,
   "metadata": {
    "colab": {},
    "colab_type": "code",
    "id": "sw0tznZgVJzV"
   },
   "outputs": [],
   "source": [
    "# remove the column with majority nas\n",
    "songs.drop(columns=[\"instrumentalness\"], inplace=True)"
   ]
  },
  {
   "cell_type": "code",
   "execution_count": 5,
   "metadata": {
    "colab": {},
    "colab_type": "code",
    "id": "tKcbM6FDV_LN"
   },
   "outputs": [],
   "source": [
    "# replace the other missing values with the mean from each column\n",
    "dance_mean = songs.danceability.mean()\n",
    "songs.danceability.fillna(dance_mean, inplace=True)\n",
    "live_mean = songs.liveness.mean()\n",
    "songs.liveness.fillna(live_mean, inplace=True)\n",
    "energy_mean = songs.energy.mean()\n",
    "songs.energy.fillna(energy_mean, inplace=True)\n",
    "\n"
   ]
  },
  {
   "cell_type": "code",
   "execution_count": 6,
   "metadata": {
    "colab": {},
    "colab_type": "code",
    "id": "VD2LsBrcW6D-"
   },
   "outputs": [
    {
     "data": {
      "text/plain": [
       "id                0\n",
       "name              0\n",
       "artists           0\n",
       "danceability      0\n",
       "energy            0\n",
       "key               0\n",
       "loudness          0\n",
       "mode              0\n",
       "speechiness       0\n",
       "acousticness      0\n",
       "liveness          0\n",
       "valence           0\n",
       "tempo             0\n",
       "duration_ms       0\n",
       "time_signature    0\n",
       "dtype: int64"
      ]
     },
     "execution_count": 6,
     "metadata": {},
     "output_type": "execute_result"
    }
   ],
   "source": [
    "# confirm\n",
    "songs.isna().sum()"
   ]
  },
  {
   "cell_type": "code",
   "execution_count": 7,
   "metadata": {
    "colab": {},
    "colab_type": "code",
    "id": "9wPOnHvNWe5c"
   },
   "outputs": [
    {
     "data": {
      "text/plain": [
       "1    59\n",
       "0    41\n",
       "Name: mode, dtype: int64"
      ]
     },
     "execution_count": 7,
     "metadata": {},
     "output_type": "execute_result"
    }
   ],
   "source": [
    "# Because we are trying to predict a value, we need to think about the columns we want to use as features, and then the target\n",
    "songs['mode'].value_counts()"
   ]
  },
  {
   "cell_type": "markdown",
   "metadata": {
    "colab_type": "text",
    "id": "vylC2O8UXJVG"
   },
   "source": [
    "> We will use the mode column as our target variable, as its binary to keep things simple, also numeric, and relatively balanced"
   ]
  },
  {
   "cell_type": "code",
   "execution_count": 8,
   "metadata": {
    "colab": {},
    "colab_type": "code",
    "id": "iz0XLT3eXdwc"
   },
   "outputs": [
    {
     "data": {
      "text/plain": [
       "Index(['id', 'name', 'artists', 'danceability', 'energy', 'key', 'loudness',\n",
       "       'mode', 'speechiness', 'acousticness', 'liveness', 'valence', 'tempo',\n",
       "       'duration_ms', 'time_signature'],\n",
       "      dtype='object')"
      ]
     },
     "execution_count": 8,
     "metadata": {},
     "output_type": "execute_result"
    }
   ],
   "source": [
    "# list the columns\n",
    "songs.columns"
   ]
  },
  {
   "cell_type": "code",
   "execution_count": 9,
   "metadata": {
    "colab": {},
    "colab_type": "code",
    "id": "o0xoZXlxXpMY"
   },
   "outputs": [
    {
     "data": {
      "text/html": [
       "<div>\n",
       "<style scoped>\n",
       "    .dataframe tbody tr th:only-of-type {\n",
       "        vertical-align: middle;\n",
       "    }\n",
       "\n",
       "    .dataframe tbody tr th {\n",
       "        vertical-align: top;\n",
       "    }\n",
       "\n",
       "    .dataframe thead th {\n",
       "        text-align: right;\n",
       "    }\n",
       "</style>\n",
       "<table border=\"1\" class=\"dataframe\">\n",
       "  <thead>\n",
       "    <tr style=\"text-align: right;\">\n",
       "      <th></th>\n",
       "      <th>id</th>\n",
       "      <th>name</th>\n",
       "      <th>artists</th>\n",
       "      <th>danceability</th>\n",
       "      <th>energy</th>\n",
       "      <th>key</th>\n",
       "      <th>loudness</th>\n",
       "      <th>mode</th>\n",
       "      <th>speechiness</th>\n",
       "      <th>acousticness</th>\n",
       "      <th>liveness</th>\n",
       "      <th>valence</th>\n",
       "      <th>tempo</th>\n",
       "      <th>duration_ms</th>\n",
       "      <th>time_signature</th>\n",
       "    </tr>\n",
       "  </thead>\n",
       "  <tbody>\n",
       "    <tr>\n",
       "      <th>0</th>\n",
       "      <td>6DCZcSspjsKoFjzjrWoCd</td>\n",
       "      <td>God's Plan</td>\n",
       "      <td>Drake</td>\n",
       "      <td>0.754000</td>\n",
       "      <td>0.449000</td>\n",
       "      <td>7</td>\n",
       "      <td>-9.211</td>\n",
       "      <td>1</td>\n",
       "      <td>0.1090</td>\n",
       "      <td>0.0332</td>\n",
       "      <td>0.552000</td>\n",
       "      <td>0.357</td>\n",
       "      <td>77.169</td>\n",
       "      <td>198973</td>\n",
       "      <td>4</td>\n",
       "    </tr>\n",
       "    <tr>\n",
       "      <th>1</th>\n",
       "      <td>3ee8Jmje8o58CHK66QrVC</td>\n",
       "      <td>SAD!</td>\n",
       "      <td>XXXTENTACION</td>\n",
       "      <td>0.740000</td>\n",
       "      <td>0.613000</td>\n",
       "      <td>8</td>\n",
       "      <td>-4.880</td>\n",
       "      <td>1</td>\n",
       "      <td>0.1450</td>\n",
       "      <td>0.2580</td>\n",
       "      <td>0.123000</td>\n",
       "      <td>0.473</td>\n",
       "      <td>75.023</td>\n",
       "      <td>166606</td>\n",
       "      <td>4</td>\n",
       "    </tr>\n",
       "    <tr>\n",
       "      <th>2</th>\n",
       "      <td>0e7ipj03S05BNilyu5bRz</td>\n",
       "      <td>rockstar (feat. 21 Savage)</td>\n",
       "      <td>Post Malone</td>\n",
       "      <td>0.718742</td>\n",
       "      <td>0.659818</td>\n",
       "      <td>5</td>\n",
       "      <td>-6.090</td>\n",
       "      <td>0</td>\n",
       "      <td>0.0898</td>\n",
       "      <td>0.1170</td>\n",
       "      <td>0.131000</td>\n",
       "      <td>0.140</td>\n",
       "      <td>159.847</td>\n",
       "      <td>218147</td>\n",
       "      <td>4</td>\n",
       "    </tr>\n",
       "    <tr>\n",
       "      <th>3</th>\n",
       "      <td>3swc6WTsr7rl9DqQKQA55</td>\n",
       "      <td>Psycho (feat. Ty Dolla $ign)</td>\n",
       "      <td>Post Malone</td>\n",
       "      <td>0.739000</td>\n",
       "      <td>0.559000</td>\n",
       "      <td>8</td>\n",
       "      <td>-8.011</td>\n",
       "      <td>1</td>\n",
       "      <td>0.1170</td>\n",
       "      <td>0.5800</td>\n",
       "      <td>0.162525</td>\n",
       "      <td>0.439</td>\n",
       "      <td>140.124</td>\n",
       "      <td>221440</td>\n",
       "      <td>4</td>\n",
       "    </tr>\n",
       "    <tr>\n",
       "      <th>4</th>\n",
       "      <td>2G7V7zsVDxg1yRsu7Ew9R</td>\n",
       "      <td>In My Feelings</td>\n",
       "      <td>Drake</td>\n",
       "      <td>0.835000</td>\n",
       "      <td>0.626000</td>\n",
       "      <td>1</td>\n",
       "      <td>-5.833</td>\n",
       "      <td>1</td>\n",
       "      <td>0.1250</td>\n",
       "      <td>0.0589</td>\n",
       "      <td>0.396000</td>\n",
       "      <td>0.350</td>\n",
       "      <td>91.030</td>\n",
       "      <td>217925</td>\n",
       "      <td>4</td>\n",
       "    </tr>\n",
       "  </tbody>\n",
       "</table>\n",
       "</div>"
      ],
      "text/plain": [
       "                      id                          name       artists  \\\n",
       "0  6DCZcSspjsKoFjzjrWoCd                    God's Plan         Drake   \n",
       "1  3ee8Jmje8o58CHK66QrVC                          SAD!  XXXTENTACION   \n",
       "2  0e7ipj03S05BNilyu5bRz    rockstar (feat. 21 Savage)   Post Malone   \n",
       "3  3swc6WTsr7rl9DqQKQA55  Psycho (feat. Ty Dolla $ign)   Post Malone   \n",
       "4  2G7V7zsVDxg1yRsu7Ew9R                In My Feelings         Drake   \n",
       "\n",
       "   danceability    energy  key  loudness  mode  speechiness  acousticness  \\\n",
       "0      0.754000  0.449000    7    -9.211     1       0.1090        0.0332   \n",
       "1      0.740000  0.613000    8    -4.880     1       0.1450        0.2580   \n",
       "2      0.718742  0.659818    5    -6.090     0       0.0898        0.1170   \n",
       "3      0.739000  0.559000    8    -8.011     1       0.1170        0.5800   \n",
       "4      0.835000  0.626000    1    -5.833     1       0.1250        0.0589   \n",
       "\n",
       "   liveness  valence    tempo  duration_ms  time_signature  \n",
       "0  0.552000    0.357   77.169       198973               4  \n",
       "1  0.123000    0.473   75.023       166606               4  \n",
       "2  0.131000    0.140  159.847       218147               4  \n",
       "3  0.162525    0.439  140.124       221440               4  \n",
       "4  0.396000    0.350   91.030       217925               4  "
      ]
     },
     "execution_count": 9,
     "metadata": {},
     "output_type": "execute_result"
    }
   ],
   "source": [
    "songs.head()"
   ]
  },
  {
   "cell_type": "code",
   "execution_count": 10,
   "metadata": {
    "colab": {},
    "colab_type": "code",
    "id": "qOqT0f1XWg3V"
   },
   "outputs": [
    {
     "data": {
      "text/html": [
       "<div>\n",
       "<style scoped>\n",
       "    .dataframe tbody tr th:only-of-type {\n",
       "        vertical-align: middle;\n",
       "    }\n",
       "\n",
       "    .dataframe tbody tr th {\n",
       "        vertical-align: top;\n",
       "    }\n",
       "\n",
       "    .dataframe thead th {\n",
       "        text-align: right;\n",
       "    }\n",
       "</style>\n",
       "<table border=\"1\" class=\"dataframe\">\n",
       "  <thead>\n",
       "    <tr style=\"text-align: right;\">\n",
       "      <th></th>\n",
       "      <th>danceability</th>\n",
       "      <th>energy</th>\n",
       "      <th>key</th>\n",
       "      <th>loudness</th>\n",
       "      <th>mode</th>\n",
       "      <th>speechiness</th>\n",
       "      <th>acousticness</th>\n",
       "      <th>liveness</th>\n",
       "      <th>valence</th>\n",
       "      <th>tempo</th>\n",
       "      <th>duration_ms</th>\n",
       "      <th>time_signature</th>\n",
       "    </tr>\n",
       "  </thead>\n",
       "  <tbody>\n",
       "    <tr>\n",
       "      <th>0</th>\n",
       "      <td>0.754000</td>\n",
       "      <td>0.449000</td>\n",
       "      <td>7</td>\n",
       "      <td>-9.211</td>\n",
       "      <td>1</td>\n",
       "      <td>0.1090</td>\n",
       "      <td>0.0332</td>\n",
       "      <td>0.552000</td>\n",
       "      <td>0.357</td>\n",
       "      <td>77.169</td>\n",
       "      <td>198973</td>\n",
       "      <td>4</td>\n",
       "    </tr>\n",
       "    <tr>\n",
       "      <th>1</th>\n",
       "      <td>0.740000</td>\n",
       "      <td>0.613000</td>\n",
       "      <td>8</td>\n",
       "      <td>-4.880</td>\n",
       "      <td>1</td>\n",
       "      <td>0.1450</td>\n",
       "      <td>0.2580</td>\n",
       "      <td>0.123000</td>\n",
       "      <td>0.473</td>\n",
       "      <td>75.023</td>\n",
       "      <td>166606</td>\n",
       "      <td>4</td>\n",
       "    </tr>\n",
       "    <tr>\n",
       "      <th>2</th>\n",
       "      <td>0.718742</td>\n",
       "      <td>0.659818</td>\n",
       "      <td>5</td>\n",
       "      <td>-6.090</td>\n",
       "      <td>0</td>\n",
       "      <td>0.0898</td>\n",
       "      <td>0.1170</td>\n",
       "      <td>0.131000</td>\n",
       "      <td>0.140</td>\n",
       "      <td>159.847</td>\n",
       "      <td>218147</td>\n",
       "      <td>4</td>\n",
       "    </tr>\n",
       "    <tr>\n",
       "      <th>3</th>\n",
       "      <td>0.739000</td>\n",
       "      <td>0.559000</td>\n",
       "      <td>8</td>\n",
       "      <td>-8.011</td>\n",
       "      <td>1</td>\n",
       "      <td>0.1170</td>\n",
       "      <td>0.5800</td>\n",
       "      <td>0.162525</td>\n",
       "      <td>0.439</td>\n",
       "      <td>140.124</td>\n",
       "      <td>221440</td>\n",
       "      <td>4</td>\n",
       "    </tr>\n",
       "    <tr>\n",
       "      <th>4</th>\n",
       "      <td>0.835000</td>\n",
       "      <td>0.626000</td>\n",
       "      <td>1</td>\n",
       "      <td>-5.833</td>\n",
       "      <td>1</td>\n",
       "      <td>0.1250</td>\n",
       "      <td>0.0589</td>\n",
       "      <td>0.396000</td>\n",
       "      <td>0.350</td>\n",
       "      <td>91.030</td>\n",
       "      <td>217925</td>\n",
       "      <td>4</td>\n",
       "    </tr>\n",
       "  </tbody>\n",
       "</table>\n",
       "</div>"
      ],
      "text/plain": [
       "   danceability    energy  key  loudness  mode  speechiness  acousticness  \\\n",
       "0      0.754000  0.449000    7    -9.211     1       0.1090        0.0332   \n",
       "1      0.740000  0.613000    8    -4.880     1       0.1450        0.2580   \n",
       "2      0.718742  0.659818    5    -6.090     0       0.0898        0.1170   \n",
       "3      0.739000  0.559000    8    -8.011     1       0.1170        0.5800   \n",
       "4      0.835000  0.626000    1    -5.833     1       0.1250        0.0589   \n",
       "\n",
       "   liveness  valence    tempo  duration_ms  time_signature  \n",
       "0  0.552000    0.357   77.169       198973               4  \n",
       "1  0.123000    0.473   75.023       166606               4  \n",
       "2  0.131000    0.140  159.847       218147               4  \n",
       "3  0.162525    0.439  140.124       221440               4  \n",
       "4  0.396000    0.350   91.030       217925               4  "
      ]
     },
     "execution_count": 10,
     "metadata": {},
     "output_type": "execute_result"
    }
   ],
   "source": [
    "# keep the columns that we want as features (those that we will use to find nearest neighbors\n",
    "song_features = songs.loc[:, \"danceability\":\"time_signature\"]  ## we can slice here too = select column range\n",
    "song_features.head()"
   ]
  },
  {
   "cell_type": "code",
   "execution_count": 11,
   "metadata": {
    "colab": {},
    "colab_type": "code",
    "id": "IKwOINxIWn0l"
   },
   "outputs": [],
   "source": [
    "# keep the mode column as our target, and then drop it from the features so it is not redundant\n",
    "song_target = song_features.loc[:, \"mode\"]\n",
    "song_features.drop(columns=[\"mode\"], inplace=True)"
   ]
  },
  {
   "cell_type": "code",
   "execution_count": 12,
   "metadata": {
    "colab": {},
    "colab_type": "code",
    "id": "rJmMIB6EYHgq"
   },
   "outputs": [
    {
     "name": "stdout",
     "output_type": "stream",
     "text": [
      "(100, 11)\n",
      "(100,)\n"
     ]
    }
   ],
   "source": [
    "# confirm things look good\n",
    "print(song_features.shape)\n",
    "print(song_target.shape)"
   ]
  },
  {
   "cell_type": "code",
   "execution_count": 0,
   "metadata": {
    "colab": {},
    "colab_type": "code",
    "id": "ewUMkAcxYP4-"
   },
   "outputs": [],
   "source": [
    "# and double confirm the types\n",
    "print(song_features.dtypes)\n"
   ]
  },
  {
   "cell_type": "code",
   "execution_count": 0,
   "metadata": {
    "colab": {},
    "colab_type": "code",
    "id": "93hs4WPAYcOa"
   },
   "outputs": [],
   "source": [
    "song_target.dtypes"
   ]
  },
  {
   "cell_type": "markdown",
   "metadata": {
    "colab_type": "text",
    "id": "I8JYusiHYii5"
   },
   "source": [
    "# Fit our First Model\n",
    "\n",
    "\n",
    "We are now ready to fit our first model, and we will see over the next few weeks that the syntax is pretty consistent no matter the task we want to perform, just like seaborn."
   ]
  },
  {
   "cell_type": "code",
   "execution_count": 13,
   "metadata": {
    "colab": {},
    "colab_type": "code",
    "id": "jd-cdOnsYzfH"
   },
   "outputs": [],
   "source": [
    "# setup the model with the parameters we want to include for fitting\n",
    "knn = KNeighborsClassifier(n_neighbors=5)"
   ]
  },
  {
   "cell_type": "code",
   "execution_count": 14,
   "metadata": {
    "colab": {},
    "colab_type": "code",
    "id": "R4V58C45ZFor"
   },
   "outputs": [
    {
     "data": {
      "text/plain": [
       "KNeighborsClassifier(algorithm='auto', leaf_size=30, metric='minkowski',\n",
       "           metric_params=None, n_jobs=1, n_neighbors=5, p=2,\n",
       "           weights='uniform')"
      ]
     },
     "execution_count": 14,
     "metadata": {},
     "output_type": "execute_result"
    }
   ],
   "source": [
    "# use the fit method to add our features, and then target\n",
    "knn.fit(song_features, song_target)"
   ]
  },
  {
   "cell_type": "markdown",
   "metadata": {
    "colab_type": "text",
    "id": "3x81tK1_ZR3G"
   },
   "source": [
    "> Above scikit learn and the KNN method is telling us the parameters we are using, even though we only specififed how many neighbors we wanted to include"
   ]
  },
  {
   "cell_type": "code",
   "execution_count": 15,
   "metadata": {
    "colab": {},
    "colab_type": "code",
    "id": "9vAl1f5FZYzq"
   },
   "outputs": [],
   "source": [
    "# now that the model has been fit to the data, we want to make predictions\n",
    "song_preds = knn.predict(song_features)"
   ]
  },
  {
   "cell_type": "code",
   "execution_count": 16,
   "metadata": {
    "colab": {},
    "colab_type": "code",
    "id": "ab-RAgrPZrUE"
   },
   "outputs": [
    {
     "data": {
      "text/plain": [
       "numpy.ndarray"
      ]
     },
     "execution_count": 16,
     "metadata": {},
     "output_type": "execute_result"
    }
   ],
   "source": [
    "# lets look at the predictions -- use our original data that we fit the model to\n",
    "# this is not great, but will come back to this\n",
    "type(song_preds)"
   ]
  },
  {
   "cell_type": "code",
   "execution_count": 17,
   "metadata": {
    "colab": {},
    "colab_type": "code",
    "id": "12QiDLw6ZtOb"
   },
   "outputs": [
    {
     "data": {
      "text/plain": [
       "array([0, 1, 1, 0, 1])"
      ]
     },
     "execution_count": 17,
     "metadata": {},
     "output_type": "execute_result"
    }
   ],
   "source": [
    "song_preds[0:5]"
   ]
  },
  {
   "cell_type": "code",
   "execution_count": 18,
   "metadata": {
    "colab": {},
    "colab_type": "code",
    "id": "-AVuqzSaZy45"
   },
   "outputs": [
    {
     "data": {
      "text/plain": [
       "0    1\n",
       "1    1\n",
       "2    0\n",
       "3    1\n",
       "4    1\n",
       "Name: mode, dtype: int64"
      ]
     },
     "execution_count": 18,
     "metadata": {},
     "output_type": "execute_result"
    }
   ],
   "source": [
    "# how does that compare to our known values in song_target\n",
    "# type(song_target)\n",
    "song_target[0:5]"
   ]
  },
  {
   "cell_type": "markdown",
   "metadata": {
    "colab_type": "text",
    "id": "eDmHwmKwdKGz"
   },
   "source": [
    "---\n",
    "\n",
    "# Fit our Second Model - But Assess Accuracy Properly"
   ]
  },
  {
   "cell_type": "markdown",
   "metadata": {
    "colab_type": "text",
    "id": "w_KUWLEYZ9oT"
   },
   "source": [
    "\n",
    "\n",
    "\n",
    "\n",
    "\n",
    "\n",
    "![](https://d2h0cx97tjks2p.cloudfront.net/blogs/wp-content/uploads/sites/2/2018/08/1-16.png)\n",
    "\n",
    "<br>\n",
    "\n",
    "When fitting models, we always want to split our data so that we can test the accuracy of the model.  The model will always perform best on the data used to train it, so in practice, we need to test on a new set of data.\n",
    "\n",
    "This is called training/test split."
   ]
  },
  {
   "cell_type": "code",
   "execution_count": 19,
   "metadata": {
    "colab": {},
    "colab_type": "code",
    "id": "zRLxUnF-aPi_"
   },
   "outputs": [],
   "source": [
    "# use the normal convention, and spit out the training and test bits for the features (X) and target (y)\n",
    "X_train, X_test, y_train, y_test = train_test_split(song_features, song_target, test_size = .25, random_state=33, stratify=song_target)"
   ]
  },
  {
   "cell_type": "markdown",
   "metadata": {
    "colab_type": "text",
    "id": "T_dbKdezbFwa"
   },
   "source": [
    "\n",
    "\n",
    "---\n",
    "\n",
    "\n",
    "** Wait, what did we just do?**\n",
    "\n",
    "- train_test_split generates 4 sets of data (train and test datasets for the features and the target variable)\n",
    "- we set the test size to be 25% of the total records\n",
    "- random_state is a random number to help with reproducibilty locally\n",
    "- stratify allows us to respect the distribution the best we can of the target variable the best we can\n",
    "\n",
    "\n",
    "\n",
    "\n",
    "\n"
   ]
  },
  {
   "cell_type": "code",
   "execution_count": 20,
   "metadata": {
    "colab": {},
    "colab_type": "code",
    "id": "TkeZY6d5bgsT"
   },
   "outputs": [
    {
     "name": "stdout",
     "output_type": "stream",
     "text": [
      "Help on function train_test_split in module sklearn.model_selection._split:\n",
      "\n",
      "train_test_split(*arrays, **options)\n",
      "    Split arrays or matrices into random train and test subsets\n",
      "    \n",
      "    Quick utility that wraps input validation and\n",
      "    ``next(ShuffleSplit().split(X, y))`` and application to input data\n",
      "    into a single call for splitting (and optionally subsampling) data in a\n",
      "    oneliner.\n",
      "    \n",
      "    Read more in the :ref:`User Guide <cross_validation>`.\n",
      "    \n",
      "    Parameters\n",
      "    ----------\n",
      "    *arrays : sequence of indexables with same length / shape[0]\n",
      "        Allowed inputs are lists, numpy arrays, scipy-sparse\n",
      "        matrices or pandas dataframes.\n",
      "    \n",
      "    test_size : float, int, None, optional\n",
      "        If float, should be between 0.0 and 1.0 and represent the proportion\n",
      "        of the dataset to include in the test split. If int, represents the\n",
      "        absolute number of test samples. If None, the value is set to the\n",
      "        complement of the train size. By default, the value is set to 0.25.\n",
      "        The default will change in version 0.21. It will remain 0.25 only\n",
      "        if ``train_size`` is unspecified, otherwise it will complement\n",
      "        the specified ``train_size``.\n",
      "    \n",
      "    train_size : float, int, or None, default None\n",
      "        If float, should be between 0.0 and 1.0 and represent the\n",
      "        proportion of the dataset to include in the train split. If\n",
      "        int, represents the absolute number of train samples. If None,\n",
      "        the value is automatically set to the complement of the test size.\n",
      "    \n",
      "    random_state : int, RandomState instance or None, optional (default=None)\n",
      "        If int, random_state is the seed used by the random number generator;\n",
      "        If RandomState instance, random_state is the random number generator;\n",
      "        If None, the random number generator is the RandomState instance used\n",
      "        by `np.random`.\n",
      "    \n",
      "    shuffle : boolean, optional (default=True)\n",
      "        Whether or not to shuffle the data before splitting. If shuffle=False\n",
      "        then stratify must be None.\n",
      "    \n",
      "    stratify : array-like or None (default is None)\n",
      "        If not None, data is split in a stratified fashion, using this as\n",
      "        the class labels.\n",
      "    \n",
      "    Returns\n",
      "    -------\n",
      "    splitting : list, length=2 * len(arrays)\n",
      "        List containing train-test split of inputs.\n",
      "    \n",
      "        .. versionadded:: 0.16\n",
      "            If the input is sparse, the output will be a\n",
      "            ``scipy.sparse.csr_matrix``. Else, output type is the same as the\n",
      "            input type.\n",
      "    \n",
      "    Examples\n",
      "    --------\n",
      "    >>> import numpy as np\n",
      "    >>> from sklearn.model_selection import train_test_split\n",
      "    >>> X, y = np.arange(10).reshape((5, 2)), range(5)\n",
      "    >>> X\n",
      "    array([[0, 1],\n",
      "           [2, 3],\n",
      "           [4, 5],\n",
      "           [6, 7],\n",
      "           [8, 9]])\n",
      "    >>> list(y)\n",
      "    [0, 1, 2, 3, 4]\n",
      "    \n",
      "    >>> X_train, X_test, y_train, y_test = train_test_split(\n",
      "    ...     X, y, test_size=0.33, random_state=42)\n",
      "    ...\n",
      "    >>> X_train\n",
      "    array([[4, 5],\n",
      "           [0, 1],\n",
      "           [6, 7]])\n",
      "    >>> y_train\n",
      "    [2, 0, 3]\n",
      "    >>> X_test\n",
      "    array([[2, 3],\n",
      "           [8, 9]])\n",
      "    >>> y_test\n",
      "    [1, 4]\n",
      "    \n",
      "    >>> train_test_split(y, shuffle=False)\n",
      "    [[0, 1, 2], [3, 4]]\n",
      "\n"
     ]
    }
   ],
   "source": [
    "help(train_test_split)"
   ]
  },
  {
   "cell_type": "markdown",
   "metadata": {
    "colab_type": "text",
    "id": "Pez2bdzFcBER"
   },
   "source": [
    "\n",
    "\n",
    "---\n",
    "\n"
   ]
  },
  {
   "cell_type": "code",
   "execution_count": 21,
   "metadata": {
    "colab": {},
    "colab_type": "code",
    "id": "BwQ14n0_bazb"
   },
   "outputs": [
    {
     "data": {
      "text/plain": [
       "KNeighborsClassifier(algorithm='auto', leaf_size=30, metric='minkowski',\n",
       "           metric_params=None, n_jobs=1, n_neighbors=5, p=2,\n",
       "           weights='uniform')"
      ]
     },
     "execution_count": 21,
     "metadata": {},
     "output_type": "execute_result"
    }
   ],
   "source": [
    "# fit the model again, but leverage the bits that we have for a better assessment of accuracy\n",
    "knn2 = KNeighborsClassifier(n_neighbors=5)\n",
    "\n",
    "# fit the model with the training data\n",
    "knn2.fit(X_train, y_train)"
   ]
  },
  {
   "cell_type": "code",
   "execution_count": 22,
   "metadata": {
    "colab": {},
    "colab_type": "code",
    "id": "JSq-mVBKcPmT"
   },
   "outputs": [
    {
     "data": {
      "text/plain": [
       "0.64"
      ]
     },
     "execution_count": 22,
     "metadata": {},
     "output_type": "execute_result"
    }
   ],
   "source": [
    "# now instead of making predictions on the data, we will score the dataset on accuracy using the test features and known values \n",
    "knn2.score(X_test, y_test)"
   ]
  },
  {
   "cell_type": "markdown",
   "metadata": {
    "colab_type": "text",
    "id": "MmFs8iJrcZ9u"
   },
   "source": [
    "> Above, we are applying a simple accuracy metric.  We still know the labels in the test dataset, so we are comparing the predictions to the known value for `mode`, and the value above shows the % agreement, or how \"accurate\" we were and predicting the mode."
   ]
  },
  {
   "cell_type": "markdown",
   "metadata": {
    "colab_type": "text",
    "id": "f3Vvvh5Zc7gY"
   },
   "source": [
    "\n",
    "\n",
    "---\n",
    "\n",
    "\n",
    "# How about different values of K?\n",
    "\n",
    "Just like last week when we went through how to look at moving averages, and how many values to include is subjective and worth testing, we can test various values of K.\n",
    "\n",
    "And we can do this using the skills we learned at the begginning of class!"
   ]
  },
  {
   "cell_type": "code",
   "execution_count": 23,
   "metadata": {
    "colab": {},
    "colab_type": "code",
    "id": "qlEF7kOUdY0s"
   },
   "outputs": [
    {
     "name": "stdout",
     "output_type": "stream",
     "text": [
      "[ 1  2  3  4  5  6  7  8  9 10 11]\n"
     ]
    }
   ],
   "source": [
    "# Since our dataset has 100 rows, and we are going to use 25 for testing, lets do 1 to 11 (we only have 25 test cases)\n",
    "num_nbrs = range(1, 12)\n",
    "print(np.array(num_nbrs))\n"
   ]
  },
  {
   "cell_type": "code",
   "execution_count": 24,
   "metadata": {
    "colab": {},
    "colab_type": "code",
    "id": "H1_EwcNndyTb"
   },
   "outputs": [
    {
     "name": "stdout",
     "output_type": "stream",
     "text": [
      "finished record 1\n",
      "finished record 2\n",
      "finished record 3\n",
      "finished record 4\n",
      "finished record 5\n",
      "finished record 6\n",
      "finished record 7\n",
      "finished record 8\n",
      "finished record 9\n",
      "finished record 10\n",
      "finished record 11\n"
     ]
    }
   ],
   "source": [
    "# setup empty lists to hold our data\n",
    "train_score = []\n",
    "test_score = []\n",
    "\n",
    "# use a for loop to loop over the values of K and assess the accuracy\n",
    "for i in num_nbrs:\n",
    "  # instatiate (setup/configure) the model\n",
    "  knn_model = KNeighborsClassifier(n_neighbors=i)\n",
    "  # fit the model\n",
    "  knn_model.fit(X_train, y_train)\n",
    "  # get the scores\n",
    "  train_score.append(knn_model.score(X_train, y_train))\n",
    "  test_score.append(knn_model.score(X_test, y_test))\n",
    "  # status\n",
    "  print(\"finished record {}\".format(str(i)))\n",
    "                     "
   ]
  },
  {
   "cell_type": "code",
   "execution_count": 25,
   "metadata": {
    "colab": {},
    "colab_type": "code",
    "id": "MW84bSJ5fM1Y"
   },
   "outputs": [
    {
     "data": {
      "text/html": [
       "<div>\n",
       "<style scoped>\n",
       "    .dataframe tbody tr th:only-of-type {\n",
       "        vertical-align: middle;\n",
       "    }\n",
       "\n",
       "    .dataframe tbody tr th {\n",
       "        vertical-align: top;\n",
       "    }\n",
       "\n",
       "    .dataframe thead th {\n",
       "        text-align: right;\n",
       "    }\n",
       "</style>\n",
       "<table border=\"1\" class=\"dataframe\">\n",
       "  <thead>\n",
       "    <tr style=\"text-align: right;\">\n",
       "      <th></th>\n",
       "      <th>train</th>\n",
       "      <th>test</th>\n",
       "    </tr>\n",
       "  </thead>\n",
       "  <tbody>\n",
       "    <tr>\n",
       "      <th>1</th>\n",
       "      <td>1.000000</td>\n",
       "      <td>0.44</td>\n",
       "    </tr>\n",
       "    <tr>\n",
       "      <th>2</th>\n",
       "      <td>0.786667</td>\n",
       "      <td>0.36</td>\n",
       "    </tr>\n",
       "    <tr>\n",
       "      <th>3</th>\n",
       "      <td>0.693333</td>\n",
       "      <td>0.48</td>\n",
       "    </tr>\n",
       "    <tr>\n",
       "      <th>4</th>\n",
       "      <td>0.693333</td>\n",
       "      <td>0.44</td>\n",
       "    </tr>\n",
       "    <tr>\n",
       "      <th>5</th>\n",
       "      <td>0.560000</td>\n",
       "      <td>0.64</td>\n",
       "    </tr>\n",
       "    <tr>\n",
       "      <th>6</th>\n",
       "      <td>0.626667</td>\n",
       "      <td>0.52</td>\n",
       "    </tr>\n",
       "    <tr>\n",
       "      <th>7</th>\n",
       "      <td>0.626667</td>\n",
       "      <td>0.52</td>\n",
       "    </tr>\n",
       "    <tr>\n",
       "      <th>8</th>\n",
       "      <td>0.626667</td>\n",
       "      <td>0.48</td>\n",
       "    </tr>\n",
       "    <tr>\n",
       "      <th>9</th>\n",
       "      <td>0.573333</td>\n",
       "      <td>0.56</td>\n",
       "    </tr>\n",
       "    <tr>\n",
       "      <th>10</th>\n",
       "      <td>0.613333</td>\n",
       "      <td>0.56</td>\n",
       "    </tr>\n",
       "    <tr>\n",
       "      <th>11</th>\n",
       "      <td>0.586667</td>\n",
       "      <td>0.56</td>\n",
       "    </tr>\n",
       "  </tbody>\n",
       "</table>\n",
       "</div>"
      ],
      "text/plain": [
       "       train  test\n",
       "1   1.000000  0.44\n",
       "2   0.786667  0.36\n",
       "3   0.693333  0.48\n",
       "4   0.693333  0.44\n",
       "5   0.560000  0.64\n",
       "6   0.626667  0.52\n",
       "7   0.626667  0.52\n",
       "8   0.626667  0.48\n",
       "9   0.573333  0.56\n",
       "10  0.613333  0.56\n",
       "11  0.586667  0.56"
      ]
     },
     "execution_count": 25,
     "metadata": {},
     "output_type": "execute_result"
    }
   ],
   "source": [
    "# put the data into a dataframe and set the index to represent our value of K\n",
    "df_results = pd.DataFrame({'train':train_score, 'test':test_score}, index=num_nbrs)\n",
    "df_results"
   ]
  },
  {
   "cell_type": "code",
   "execution_count": 28,
   "metadata": {
    "colab": {},
    "colab_type": "code",
    "id": "9KDB-V9pfcLf"
   },
   "outputs": [
    {
     "data": {
      "text/plain": [
       "<matplotlib.axes._subplots.AxesSubplot at 0x1a23c2c7f0>"
      ]
     },
     "execution_count": 28,
     "metadata": {},
     "output_type": "execute_result"
    },
    {
     "data": {
      "image/png": "[encoded data removed]",
      "text/plain": [
       "<Figure size 1080x360 with 1 Axes>"
      ]
     },
     "metadata": {},
     "output_type": "display_data"
    }
   ],
   "source": [
    "# plot the data\n",
    "df_results.plot(kind=\"line\", figsize=(15, 5))"
   ]
  },
  {
   "cell_type": "markdown",
   "metadata": {
    "colab_type": "text",
    "id": "YMH7TQTsfsY8"
   },
   "source": [
    "## Business Analytics: Interpret the results\n",
    "\n",
    "Discuss the results above, what do we think is going on? \n",
    "\n",
    "What should we use for a value of K?  \n",
    "\n",
    "How accurate are we?"
   ]
  },
  {
   "cell_type": "code",
   "execution_count": null,
   "metadata": {
    "colab": {},
    "colab_type": "code",
    "id": "2kc-lfdmgXHx"
   },
   "outputs": [],
   "source": []
  },
  {
   "cell_type": "code",
   "execution_count": null,
   "metadata": {},
   "outputs": [],
   "source": []
  }
 ],
 "metadata": {
  "colab": {
   "collapsed_sections": [],
   "name": "27 - Supervised ML - KNN Classifcation.ipynb",
   "private_outputs": true,
   "provenance": [],
   "version": "0.3.2"
  },
  "kernelspec": {
   "display_name": "Python 3",
   "language": "python",
   "name": "python3"
  },
  "language_info": {
   "codemirror_mode": {
    "name": "ipython",
    "version": 3
   },
   "file_extension": ".py",
   "mimetype": "text/x-python",
   "name": "python",
   "nbconvert_exporter": "python",
   "pygments_lexer": "ipython3",
   "version": "3.7.3"
  }
 },
 "nbformat": 4,
 "nbformat_minor": 1
}
