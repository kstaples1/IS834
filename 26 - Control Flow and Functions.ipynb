{
 "cells": [
  {
   "cell_type": "code",
   "execution_count": 4,
   "metadata": {
    "colab": {},
    "colab_type": "code",
    "id": "EdKLyxbdJneC"
   },
   "outputs": [
    {
     "ename": "ModuleNotFoundError",
     "evalue": "No module named 'pandas_datareader'",
     "output_type": "error",
     "traceback": [
      "\u001b[0;31m---------------------------------------------------------------------------\u001b[0m",
      "\u001b[0;31mModuleNotFoundError\u001b[0m                       Traceback (most recent call last)",
      "\u001b[0;32m<ipython-input-4-d4c2ec555bdd>\u001b[0m in \u001b[0;36m<module>\u001b[0;34m()\u001b[0m\n\u001b[1;32m      3\u001b[0m \u001b[0;32mimport\u001b[0m \u001b[0mpandas\u001b[0m \u001b[0;32mas\u001b[0m \u001b[0mpd\u001b[0m\u001b[0;34m\u001b[0m\u001b[0;34m\u001b[0m\u001b[0m\n\u001b[1;32m      4\u001b[0m \u001b[0;32mimport\u001b[0m \u001b[0mdatetime\u001b[0m\u001b[0;34m\u001b[0m\u001b[0;34m\u001b[0m\u001b[0m\n\u001b[0;32m----> 5\u001b[0;31m \u001b[0;32mimport\u001b[0m \u001b[0mpandas_datareader\u001b[0m\u001b[0;34m.\u001b[0m\u001b[0mdata\u001b[0m \u001b[0;32mas\u001b[0m \u001b[0mweb\u001b[0m   \u001b[0;31m##  <--- first time we have imported this\u001b[0m\u001b[0;34m\u001b[0m\u001b[0;34m\u001b[0m\u001b[0m\n\u001b[0m",
      "\u001b[0;31mModuleNotFoundError\u001b[0m: No module named 'pandas_datareader'"
     ]
    }
   ],
   "source": [
    "# setup\n",
    "import numpy as np\n",
    "import pandas as pd\n",
    "import datetime\n",
    "import pandas_datareader.data as web   ##  <--- first time we have imported this"
   ]
  },
  {
   "cell_type": "markdown",
   "metadata": {
    "colab_type": "text",
    "id": "HvtWbg2XHwbl"
   },
   "source": [
    "# Control Flow and Functions"
   ]
  },
  {
   "cell_type": "markdown",
   "metadata": {
    "colab_type": "text",
    "id": "JcxyYrTJ6AVl"
   },
   "source": [
    "![](https://encrypted-tbn0.gstatic.com/images?q=tbn:ANd9GcTS-MO16PIRjAPHAjpgW3jFscP6HQNHL0ulJlMSmoqV43UL92bxHw)"
   ]
  },
  {
   "cell_type": "markdown",
   "metadata": {
    "colab_type": "text",
    "id": "hPeDuIn_6GBS"
   },
   "source": [
    "\n",
    "\n",
    "---\n",
    "\n"
   ]
  },
  {
   "cell_type": "markdown",
   "metadata": {
    "colab_type": "text",
    "id": "R0gPpcJ_Hx2S"
   },
   "source": [
    "## For Loops\n",
    "\n",
    "```\n",
    "for i in thing:\n",
    "  do something\n",
    "  ```\n",
    "  \n",
    " We need to initialize a value (`thing`) above, and for each element within `thing`, do something.  \n",
    " \n",
    " For loops are very powerful and let us do one piece of code many times and operate on each element."
   ]
  },
  {
   "cell_type": "code",
   "execution_count": 5,
   "metadata": {
    "colab": {},
    "colab_type": "code",
    "id": "eYh4tb8wIHm-"
   },
   "outputs": [
    {
     "name": "stdout",
     "output_type": "stream",
     "text": [
      "e\n",
      "c\n",
      "o\n",
      "n\n",
      "o\n",
      "m\n",
      "i\n",
      "c\n",
      "s\n"
     ]
    }
   ],
   "source": [
    "# basics\n",
    "x = \"economics\"\n",
    "\n",
    "# for loop\n",
    "for i in x:\n",
    "  print(i)"
   ]
  },
  {
   "cell_type": "markdown",
   "metadata": {
    "colab_type": "text",
    "id": "Joyr1J-3JTQV"
   },
   "source": [
    "> Above, each letter of the string is passsed to i, in order, and we simply print it out.  Remember for the first couple of classes, we can slice up strings just like other values within lists."
   ]
  },
  {
   "cell_type": "code",
   "execution_count": 6,
   "metadata": {
    "colab": {},
    "colab_type": "code",
    "id": "U8JiWUZ3JgaO"
   },
   "outputs": [
    {
     "data": {
      "text/plain": [
       "range(1, 10)"
      ]
     },
     "execution_count": 6,
     "metadata": {},
     "output_type": "execute_result"
    }
   ],
   "source": [
    "# a little harder (remember, upper bound is exclusive, so 1-9)\n",
    "my_values = range(1,10)\n",
    "my_values\n",
    "  "
   ]
  },
  {
   "cell_type": "code",
   "execution_count": 7,
   "metadata": {
    "colab": {},
    "colab_type": "code",
    "id": "4Td9racV6Uc9"
   },
   "outputs": [
    {
     "name": "stdout",
     "output_type": "stream",
     "text": [
      "1\n",
      "2\n",
      "3\n",
      "4\n",
      "5\n",
      "6\n",
      "7\n",
      "8\n",
      "9\n"
     ]
    }
   ],
   "source": [
    "# what are the values?\n",
    "for i in my_values:\n",
    "  print(i)"
   ]
  },
  {
   "cell_type": "code",
   "execution_count": 8,
   "metadata": {
    "colab": {},
    "colab_type": "code",
    "id": "CjdTksay6ZnS"
   },
   "outputs": [
    {
     "name": "stdout",
     "output_type": "stream",
     "text": [
      "1\n",
      "4\n",
      "9\n",
      "16\n",
      "25\n",
      "36\n",
      "49\n",
      "64\n",
      "81\n"
     ]
    }
   ],
   "source": [
    "# but we can also perform operations\n",
    "for i in my_values:\n",
    "  print(i**2)"
   ]
  },
  {
   "cell_type": "code",
   "execution_count": 9,
   "metadata": {
    "colab": {},
    "colab_type": "code",
    "id": "MJUXbc7GJxL5"
   },
   "outputs": [
    {
     "data": {
      "text/html": [
       "<div>\n",
       "<style scoped>\n",
       "    .dataframe tbody tr th:only-of-type {\n",
       "        vertical-align: middle;\n",
       "    }\n",
       "\n",
       "    .dataframe tbody tr th {\n",
       "        vertical-align: top;\n",
       "    }\n",
       "\n",
       "    .dataframe thead th {\n",
       "        text-align: right;\n",
       "    }\n",
       "</style>\n",
       "<table border=\"1\" class=\"dataframe\">\n",
       "  <thead>\n",
       "    <tr style=\"text-align: right;\">\n",
       "      <th></th>\n",
       "      <th>a</th>\n",
       "      <th>b</th>\n",
       "    </tr>\n",
       "  </thead>\n",
       "  <tbody>\n",
       "    <tr>\n",
       "      <th>0</th>\n",
       "      <td>24</td>\n",
       "      <td>77</td>\n",
       "    </tr>\n",
       "    <tr>\n",
       "      <th>1</th>\n",
       "      <td>44</td>\n",
       "      <td>96</td>\n",
       "    </tr>\n",
       "    <tr>\n",
       "      <th>2</th>\n",
       "      <td>25</td>\n",
       "      <td>82</td>\n",
       "    </tr>\n",
       "    <tr>\n",
       "      <th>3</th>\n",
       "      <td>31</td>\n",
       "      <td>70</td>\n",
       "    </tr>\n",
       "    <tr>\n",
       "      <th>4</th>\n",
       "      <td>42</td>\n",
       "      <td>68</td>\n",
       "    </tr>\n",
       "  </tbody>\n",
       "</table>\n",
       "</div>"
      ],
      "text/plain": [
       "    a   b\n",
       "0  24  77\n",
       "1  44  96\n",
       "2  25  82\n",
       "3  31  70\n",
       "4  42  68"
      ]
     },
     "execution_count": 9,
     "metadata": {},
     "output_type": "execute_result"
    }
   ],
   "source": [
    "# create a simple dataframe\n",
    "my_df = pd.DataFrame({'a': np.random.randint(0, 45, size=10), \n",
    "                      'b': np.random.randint(60, 100, size=10)})\n",
    "my_df.head()"
   ]
  },
  {
   "cell_type": "code",
   "execution_count": 10,
   "metadata": {
    "colab": {},
    "colab_type": "code",
    "id": "qWDcyCB-KgQZ"
   },
   "outputs": [
    {
     "name": "stdout",
     "output_type": "stream",
     "text": [
      "1848\n",
      "4224\n",
      "2050\n",
      "2170\n",
      "2856\n",
      "2774\n",
      "1230\n",
      "3913\n",
      "2482\n",
      "2550\n"
     ]
    }
   ],
   "source": [
    "# for each row, print out the product of a and b\n",
    "# not pratical, but introduces the concept of going through elements of our objects for some need\n",
    "for i in my_df.index:\n",
    "  # a slice of the dataframe\n",
    "  tmp = my_df.iloc[i, ]\n",
    "  print(tmp['a'] * tmp['b'])"
   ]
  },
  {
   "cell_type": "markdown",
   "metadata": {
    "colab_type": "text",
    "id": "H_5RZpwO9CIS"
   },
   "source": [
    "### A more complex example\n",
    "\n",
    "While it is more complex, it builds upon all of the pieces that we have learned in class:\n",
    "\n",
    "- leverage lists to store our elements, and as a place to store our data with a simple append\n",
    "- format strings to build a proper url dynamically\n",
    "- read data from the web\n",
    "- add a column to flag which dataset it is\n",
    "- append the data with concat"
   ]
  },
  {
   "cell_type": "code",
   "execution_count": 11,
   "metadata": {
    "colab": {},
    "colab_type": "code",
    "id": "HELgWvafLGwL"
   },
   "outputs": [
    {
     "name": "stdout",
     "output_type": "stream",
     "text": [
      "BOS\n",
      "https://www.hockey-reference.com/teams/BOS/2019_games.html\n",
      "TOR\n",
      "https://www.hockey-reference.com/teams/TOR/2019_games.html\n"
     ]
    }
   ],
   "source": [
    "# a more complicated approach\n",
    "teams = ['BOS', 'TOR']\n",
    "\n",
    "# create an empty dictionary\n",
    "my_data = []\n",
    "\n",
    "# for each team, get the data and append to my_data\n",
    "for team in teams:\n",
    "  print(team)\n",
    "  \n",
    "  # build the url\n",
    "  url = \"https://www.hockey-reference.com/teams/{}/2019_games.html\".format(team)\n",
    "  print(url)\n",
    "  \n",
    "  ## get the data\n",
    "  tmp_page = pd.read_html(url)\n",
    "  tmp_df = tmp_page[0]\n",
    "  tmp_df['team'] = team\n",
    "  \n",
    "  ## append the html table to the page\n",
    "  my_data.append(tmp_df)\n",
    "  "
   ]
  },
  {
   "cell_type": "code",
   "execution_count": 12,
   "metadata": {
    "colab": {},
    "colab_type": "code",
    "id": "wPTPZlxZ9BWT"
   },
   "outputs": [
    {
     "data": {
      "text/plain": [
       "2"
      ]
     },
     "execution_count": 12,
     "metadata": {},
     "output_type": "execute_result"
    }
   ],
   "source": [
    "# how many elements in my_data\n",
    "len(my_data)"
   ]
  },
  {
   "cell_type": "code",
   "execution_count": 13,
   "metadata": {
    "colab": {},
    "colab_type": "code",
    "id": "NLGnrDC6OfBu"
   },
   "outputs": [
    {
     "name": "stdout",
     "output_type": "stream",
     "text": [
      "<class 'pandas.core.frame.DataFrame'>\n",
      "<class 'pandas.core.frame.DataFrame'>\n"
     ]
    }
   ],
   "source": [
    "# assign each to a dataframe and confirm\n",
    "df1 = my_data[0]\n",
    "df2 = my_data[1]\n",
    "print(type(df1))\n",
    "print(type(df2))"
   ]
  },
  {
   "cell_type": "code",
   "execution_count": 14,
   "metadata": {
    "colab": {},
    "colab_type": "code",
    "id": "MTwtGY_qOgm9"
   },
   "outputs": [],
   "source": [
    "# last but not least, lets stack them\n",
    "team_data = pd.concat([df1, df2])"
   ]
  },
  {
   "cell_type": "code",
   "execution_count": 15,
   "metadata": {
    "colab": {},
    "colab_type": "code",
    "id": "4NDC4pJxPT62"
   },
   "outputs": [
    {
     "data": {
      "text/html": [
       "<div>\n",
       "<style scoped>\n",
       "    .dataframe tbody tr th:only-of-type {\n",
       "        vertical-align: middle;\n",
       "    }\n",
       "\n",
       "    .dataframe tbody tr th {\n",
       "        vertical-align: top;\n",
       "    }\n",
       "\n",
       "    .dataframe thead th {\n",
       "        text-align: right;\n",
       "    }\n",
       "</style>\n",
       "<table border=\"1\" class=\"dataframe\">\n",
       "  <thead>\n",
       "    <tr style=\"text-align: right;\">\n",
       "      <th></th>\n",
       "      <th>GP</th>\n",
       "      <th>Date</th>\n",
       "      <th>Time</th>\n",
       "      <th>Unnamed: 3</th>\n",
       "      <th>Opponent</th>\n",
       "      <th>GF</th>\n",
       "      <th>GA</th>\n",
       "      <th>Unnamed: 7</th>\n",
       "      <th>Unnamed: 8</th>\n",
       "      <th>W</th>\n",
       "      <th>L</th>\n",
       "      <th>OL</th>\n",
       "      <th>Streak</th>\n",
       "      <th>Att.</th>\n",
       "      <th>LOG</th>\n",
       "      <th>Notes</th>\n",
       "      <th>team</th>\n",
       "    </tr>\n",
       "  </thead>\n",
       "  <tbody>\n",
       "    <tr>\n",
       "      <th>0</th>\n",
       "      <td>1</td>\n",
       "      <td>2018-10-03</td>\n",
       "      <td>7:30 PM</td>\n",
       "      <td>@</td>\n",
       "      <td>Washington Capitals</td>\n",
       "      <td>0</td>\n",
       "      <td>7</td>\n",
       "      <td>L</td>\n",
       "      <td>NaN</td>\n",
       "      <td>0</td>\n",
       "      <td>1</td>\n",
       "      <td>0</td>\n",
       "      <td>L 1</td>\n",
       "      <td>18506</td>\n",
       "      <td>2:30</td>\n",
       "      <td>NaN</td>\n",
       "      <td>BOS</td>\n",
       "    </tr>\n",
       "    <tr>\n",
       "      <th>1</th>\n",
       "      <td>2</td>\n",
       "      <td>2018-10-04</td>\n",
       "      <td>7:00 PM</td>\n",
       "      <td>@</td>\n",
       "      <td>Buffalo Sabres</td>\n",
       "      <td>4</td>\n",
       "      <td>0</td>\n",
       "      <td>W</td>\n",
       "      <td>NaN</td>\n",
       "      <td>1</td>\n",
       "      <td>1</td>\n",
       "      <td>0</td>\n",
       "      <td>W 1</td>\n",
       "      <td>19070</td>\n",
       "      <td>2:35</td>\n",
       "      <td>NaN</td>\n",
       "      <td>BOS</td>\n",
       "    </tr>\n",
       "    <tr>\n",
       "      <th>2</th>\n",
       "      <td>3</td>\n",
       "      <td>2018-10-08</td>\n",
       "      <td>1:00 PM</td>\n",
       "      <td>NaN</td>\n",
       "      <td>Ottawa Senators</td>\n",
       "      <td>6</td>\n",
       "      <td>3</td>\n",
       "      <td>W</td>\n",
       "      <td>NaN</td>\n",
       "      <td>2</td>\n",
       "      <td>1</td>\n",
       "      <td>0</td>\n",
       "      <td>W 2</td>\n",
       "      <td>17565</td>\n",
       "      <td>2:33</td>\n",
       "      <td>NaN</td>\n",
       "      <td>BOS</td>\n",
       "    </tr>\n",
       "    <tr>\n",
       "      <th>3</th>\n",
       "      <td>4</td>\n",
       "      <td>2018-10-11</td>\n",
       "      <td>7:00 PM</td>\n",
       "      <td>NaN</td>\n",
       "      <td>Edmonton Oilers</td>\n",
       "      <td>4</td>\n",
       "      <td>1</td>\n",
       "      <td>W</td>\n",
       "      <td>NaN</td>\n",
       "      <td>3</td>\n",
       "      <td>1</td>\n",
       "      <td>0</td>\n",
       "      <td>W 3</td>\n",
       "      <td>17565</td>\n",
       "      <td>2:28</td>\n",
       "      <td>NaN</td>\n",
       "      <td>BOS</td>\n",
       "    </tr>\n",
       "    <tr>\n",
       "      <th>4</th>\n",
       "      <td>5</td>\n",
       "      <td>2018-10-13</td>\n",
       "      <td>3:00 PM</td>\n",
       "      <td>NaN</td>\n",
       "      <td>Detroit Red Wings</td>\n",
       "      <td>8</td>\n",
       "      <td>2</td>\n",
       "      <td>W</td>\n",
       "      <td>NaN</td>\n",
       "      <td>4</td>\n",
       "      <td>1</td>\n",
       "      <td>0</td>\n",
       "      <td>W 4</td>\n",
       "      <td>17565</td>\n",
       "      <td>2:40</td>\n",
       "      <td>NaN</td>\n",
       "      <td>BOS</td>\n",
       "    </tr>\n",
       "  </tbody>\n",
       "</table>\n",
       "</div>"
      ],
      "text/plain": [
       "  GP        Date     Time Unnamed: 3             Opponent GF GA Unnamed: 7  \\\n",
       "0  1  2018-10-03  7:30 PM          @  Washington Capitals  0  7          L   \n",
       "1  2  2018-10-04  7:00 PM          @       Buffalo Sabres  4  0          W   \n",
       "2  3  2018-10-08  1:00 PM        NaN      Ottawa Senators  6  3          W   \n",
       "3  4  2018-10-11  7:00 PM        NaN      Edmonton Oilers  4  1          W   \n",
       "4  5  2018-10-13  3:00 PM        NaN    Detroit Red Wings  8  2          W   \n",
       "\n",
       "  Unnamed: 8  W  L OL Streak   Att.   LOG Notes team  \n",
       "0        NaN  0  1  0    L 1  18506  2:30   NaN  BOS  \n",
       "1        NaN  1  1  0    W 1  19070  2:35   NaN  BOS  \n",
       "2        NaN  2  1  0    W 2  17565  2:33   NaN  BOS  \n",
       "3        NaN  3  1  0    W 3  17565  2:28   NaN  BOS  \n",
       "4        NaN  4  1  0    W 4  17565  2:40   NaN  BOS  "
      ]
     },
     "execution_count": 15,
     "metadata": {},
     "output_type": "execute_result"
    }
   ],
   "source": [
    "team_data.head()"
   ]
  },
  {
   "cell_type": "code",
   "execution_count": 0,
   "metadata": {
    "colab": {},
    "colab_type": "code",
    "id": "Mm5hHhMBPYt5"
   },
   "outputs": [],
   "source": [
    "team_data.tail()"
   ]
  },
  {
   "cell_type": "markdown",
   "metadata": {
    "colab_type": "text",
    "id": "C31OE8dbQRcM"
   },
   "source": [
    "### Exercise:\n",
    "\n",
    "- Create a list called colors that has 5 values (as strings): blue, red,  green, orange, yellow\n",
    "- Create an empty list called `characters`\n",
    "- For each element of `colors`, calculate the number of characters in the word and append the result to `characters`\n",
    "- what is the average string length?"
   ]
  },
  {
   "cell_type": "code",
   "execution_count": 20,
   "metadata": {
    "colab": {},
    "colab_type": "code",
    "id": "yHOnAC0E_LV7"
   },
   "outputs": [
    {
     "data": {
      "text/plain": [
       "4.8"
      ]
     },
     "execution_count": 20,
     "metadata": {},
     "output_type": "execute_result"
    }
   ],
   "source": [
    "colors = ['blue','red','green','orange','yellow']\n",
    "character = []\n",
    "\n",
    "for color in colors:\n",
    "    character.append(len(color))\n",
    "\n",
    "sum(character)/len(character)"
   ]
  },
  {
   "cell_type": "markdown",
   "metadata": {
    "colab_type": "text",
    "id": "PiE5mtwMLfPV"
   },
   "source": [
    "\n",
    "\n",
    "---\n",
    "\n"
   ]
  },
  {
   "cell_type": "markdown",
   "metadata": {
    "colab_type": "text",
    "id": "Ywh7oly7_kL3"
   },
   "source": [
    "## If / ELIF / ELSE"
   ]
  },
  {
   "cell_type": "markdown",
   "metadata": {
    "colab_type": "text",
    "id": "amQ2eFPXA-Kx"
   },
   "source": [
    "![](http://i.imgur.com/fqJOBUS.png)"
   ]
  },
  {
   "cell_type": "code",
   "execution_count": 0,
   "metadata": {
    "colab": {},
    "colab_type": "code",
    "id": "xafVUhGV_1HX"
   },
   "outputs": [],
   "source": [
    "# a simple example\n",
    "a = 100\n",
    "b = 50\n",
    "if a > b:\n",
    "  print(\"a is greater than b\")"
   ]
  },
  {
   "cell_type": "code",
   "execution_count": 0,
   "metadata": {
    "colab": {},
    "colab_type": "code",
    "id": "iF9_vP-A__tW"
   },
   "outputs": [],
   "source": [
    "# what happens when the values change?\n",
    "a = 5\n",
    "b = 175\n",
    "if a > b:\n",
    "  print(\"a is greater than b\")"
   ]
  },
  {
   "cell_type": "markdown",
   "metadata": {
    "colab_type": "text",
    "id": "zKOpi3OQAJAu"
   },
   "source": [
    "No output is returned, why?"
   ]
  },
  {
   "cell_type": "code",
   "execution_count": 0,
   "metadata": {
    "colab": {},
    "colab_type": "code",
    "id": "f3J1xNuuAL63"
   },
   "outputs": [],
   "source": [
    "# we can control for this case by:\n",
    "a = 5\n",
    "b = 175\n",
    "if a > b:\n",
    "  print(\"a is greater than b\")\n",
    "else:\n",
    "  print(\"a is smaller than b\")"
   ]
  },
  {
   "cell_type": "markdown",
   "metadata": {
    "colab_type": "text",
    "id": "VZhCeUL3ATh-"
   },
   "source": [
    "Lets change the values one more time:"
   ]
  },
  {
   "cell_type": "code",
   "execution_count": 0,
   "metadata": {
    "colab": {},
    "colab_type": "code",
    "id": "aLiiQpSxAZVv"
   },
   "outputs": [],
   "source": [
    "a = 500\n",
    "b = 500\n",
    "if a > b:\n",
    "  print(\"a is greater than b\")\n",
    "else:\n",
    "  print(\"a is smaller than b\")"
   ]
  },
  {
   "cell_type": "code",
   "execution_count": 0,
   "metadata": {
    "colab": {},
    "colab_type": "code",
    "id": "99zFBqsxAcaF"
   },
   "outputs": [],
   "source": [
    "# we need one more test to ensure we are covering all of the conditions\n",
    "a = 500\n",
    "b = 500\n",
    "if a > b:\n",
    "  print(\"a is greater than b\")\n",
    "elif a == b:\n",
    "  print(\"a and b are equal\")\n",
    "else:\n",
    "  print(\"a is smaller than b\")"
   ]
  },
  {
   "cell_type": "markdown",
   "metadata": {
    "colab_type": "text",
    "id": "GwfZvVMOAot7"
   },
   "source": [
    "### IF/ELIF/Else Exercise\n",
    "\n",
    "For the numbers 1 to 102 (inclusive), store all of the numbers that are divisible evenly by 3 into a list called `by3`.  How many numbers are in `by3`?\n",
    "\n",
    "> Hint:  you can use the module operator `%` to calculate a remainder.  If zero is returned, the numbers are evenly divisible"
   ]
  },
  {
   "cell_type": "code",
   "execution_count": 21,
   "metadata": {
    "colab": {},
    "colab_type": "code",
    "id": "W5WlUWuZBJJ5"
   },
   "outputs": [
    {
     "data": {
      "text/plain": [
       "34"
      ]
     },
     "execution_count": 21,
     "metadata": {},
     "output_type": "execute_result"
    }
   ],
   "source": [
    "by3 = []\n",
    "for i in range (1,103):\n",
    "    if(i%3 ==0):\n",
    "        by3.append(i)\n",
    "len(by3)\n"
   ]
  },
  {
   "cell_type": "markdown",
   "metadata": {
    "colab_type": "text",
    "id": "UDObokWjLgz3"
   },
   "source": [
    "\n",
    "\n",
    "---\n",
    "\n"
   ]
  },
  {
   "cell_type": "markdown",
   "metadata": {
    "colab_type": "text",
    "id": "HoDQNFkYBhUP"
   },
   "source": [
    "## Functions\n",
    "\n",
    "![](https://bjc.edc.org/bjc-r/img/python/simple_python_function_colored.png)\n",
    "\n",
    "- The image above defines a function using `def`\n",
    "- The function is called `count_up`\n",
    "- The function has one input, which is given a label/name called `num`\n",
    "- A for loop is used to define a range of 1 to `num` + 1\n",
    "- and iterate over that range and simply print the value\n",
    "\n",
    "\n",
    "\n",
    "---\n",
    "\n",
    "Functions are a very powerful way to write code once, include advanced logic with loops and if/else, for example, and return a result.\n",
    "\n",
    "The methods we apply to a dataframe or series are functions tied to the `DataFrame` or `Series` class.\n",
    "\n",
    "We can use functions for repeatable code or to apply advanced logic calculations to our data in pandas."
   ]
  },
  {
   "cell_type": "code",
   "execution_count": 0,
   "metadata": {
    "colab": {},
    "colab_type": "code",
    "id": "z-CAO1ICDpgT"
   },
   "outputs": [],
   "source": [
    "# create a range of values from 1 to 4 (inclusive)\n",
    "x = range(1, 5)\n",
    "x"
   ]
  },
  {
   "cell_type": "code",
   "execution_count": 0,
   "metadata": {
    "colab": {},
    "colab_type": "code",
    "id": "_raGhg4REphN"
   },
   "outputs": [],
   "source": [
    "# square each value\n",
    "np.array(x) ** 2"
   ]
  },
  {
   "cell_type": "code",
   "execution_count": 0,
   "metadata": {
    "colab": {},
    "colab_type": "code",
    "id": "fO5pNp5PFI2s"
   },
   "outputs": [],
   "source": [
    "# we can mirror this easily with a function\n",
    "def squared(x):\n",
    "  return(x ** 2)"
   ]
  },
  {
   "cell_type": "markdown",
   "metadata": {
    "colab_type": "text",
    "id": "GNuQDylGFgBD"
   },
   "source": [
    "> Note the explicit use of the `return`, which tells python the output of our function.  In the image above, print is the \"output\""
   ]
  },
  {
   "cell_type": "code",
   "execution_count": 0,
   "metadata": {
    "colab": {},
    "colab_type": "code",
    "id": "lVaxXX3CFaec"
   },
   "outputs": [],
   "source": [
    "# run the function\n",
    "squared(2)"
   ]
  },
  {
   "cell_type": "code",
   "execution_count": 0,
   "metadata": {
    "colab": {},
    "colab_type": "code",
    "id": "HE0bTfemFcgO"
   },
   "outputs": [],
   "source": [
    "# how about another example\n",
    "squared(-9)"
   ]
  },
  {
   "cell_type": "code",
   "execution_count": 0,
   "metadata": {
    "colab": {},
    "colab_type": "code",
    "id": "VyaoFHu-FrsS"
   },
   "outputs": [],
   "source": [
    "# apply it to the numpy array\n",
    "xnp = np.array(x)\n",
    "squared(xnp)"
   ]
  },
  {
   "cell_type": "code",
   "execution_count": 0,
   "metadata": {
    "colab": {},
    "colab_type": "code",
    "id": "4Fg-Nhd-F8AM"
   },
   "outputs": [],
   "source": [
    "## a more complex example\n",
    "def vodoo_math(a, b):\n",
    "  if a == b:\n",
    "    print(\"the numbers are equal - squaring the numbers\")\n",
    "    return(a*b)\n",
    "  elif a < b:\n",
    "    print(\"a is less than b, subtracting the numbers\")\n",
    "    return(a - b)\n",
    "  else:\n",
    "    print(\"a is greater than b, diving the numbers\")\n",
    "    return(a/b)\n",
    "  "
   ]
  },
  {
   "cell_type": "code",
   "execution_count": 0,
   "metadata": {
    "colab": {},
    "colab_type": "code",
    "id": "OrwkPP83G-qu"
   },
   "outputs": [],
   "source": [
    "# test it out\n",
    "vodoo_math(5, 5)"
   ]
  },
  {
   "cell_type": "code",
   "execution_count": 0,
   "metadata": {
    "colab": {},
    "colab_type": "code",
    "id": "LBKx2xSZHBlD"
   },
   "outputs": [],
   "source": [
    "vodoo_math(1, 4)"
   ]
  },
  {
   "cell_type": "code",
   "execution_count": 0,
   "metadata": {
    "colab": {},
    "colab_type": "code",
    "id": "lhbx_Z-0HDdH"
   },
   "outputs": [],
   "source": [
    "vodoo_math(7, 2)"
   ]
  },
  {
   "cell_type": "markdown",
   "metadata": {
    "colab_type": "text",
    "id": "lhnyXEgFHFXd"
   },
   "source": [
    "### Function Exercise\n",
    "\n",
    "This exercise combines some of the fundamentals from earlier in the semester with the content in this module.\n",
    "\n",
    "Create a function that does the following:\n",
    "- simulates the roll of a dice\n",
    "- if the value is 6, return the value of 2\n",
    "- if the value is 3, 4 or 5, return a value of -1\n",
    "- if the value is 1 return a value of 0\n",
    "- if the value is 2, return a value of 1\n",
    "\n",
    "Create a variable called `points` which has a value of 50\n",
    "\n",
    "Roll the dice 100 times, and for each roll, update the value of points based on the roll\n",
    "\n",
    "Save the current value of `points` as an entry in a list called results (there should be 100 values at the end)\n",
    "\n",
    "Create a line plot that shows the value of `points` change with each roll\n",
    "\n",
    "Hints:\n",
    "\n",
    "- numpy random has a method called `choice`\n",
    "\n",
    "\n",
    "\n"
   ]
  },
  {
   "cell_type": "code",
   "execution_count": 45,
   "metadata": {
    "colab": {},
    "colab_type": "code",
    "id": "wFUDdRm1JMlV"
   },
   "outputs": [],
   "source": [
    "die = [1,2,3,4,5,6]\n",
    "results= []\n",
    "np.random.choice(die)\n",
    "points = 50\n",
    "for i in range(0,100):\n",
    "    roll = np.random.choice(die)\n",
    "    if(roll == 6):\n",
    "        points = points+2\n",
    "    elif(roll == 1):\n",
    "        points = points\n",
    "    elif(roll == 2):\n",
    "        points = points+1\n",
    "    else:\n",
    "        points = points-1\n",
    "    results.append(points)\n"
   ]
  },
  {
   "cell_type": "code",
   "execution_count": 46,
   "metadata": {
    "colab": {},
    "colab_type": "code",
    "id": "JF-kNCvIJzMe"
   },
   "outputs": [
    {
     "data": {
      "text/plain": [
       "100"
      ]
     },
     "execution_count": 46,
     "metadata": {},
     "output_type": "execute_result"
    }
   ],
   "source": [
    "len(results)\n"
   ]
  },
  {
   "cell_type": "code",
   "execution_count": 47,
   "metadata": {
    "colab": {},
    "colab_type": "code",
    "id": "6yg19AKJKXWG"
   },
   "outputs": [],
   "source": [
    "dd = pd.DataFrame(results)"
   ]
  },
  {
   "cell_type": "code",
   "execution_count": 48,
   "metadata": {},
   "outputs": [
    {
     "data": {
      "text/plain": [
       "<matplotlib.axes._subplots.AxesSubplot at 0x11b649860>"
      ]
     },
     "execution_count": 48,
     "metadata": {},
     "output_type": "execute_result"
    },
    {
     "data": {
      "image/png": "[encoded data removed]",
      "text/plain": [
       "<Figure size 432x288 with 1 Axes>"
      ]
     },
     "metadata": {},
     "output_type": "display_data"
    }
   ],
   "source": [
    "dd.plot(kind = 'line')"
   ]
  },
  {
   "cell_type": "code",
   "execution_count": null,
   "metadata": {},
   "outputs": [],
   "source": []
  },
  {
   "cell_type": "code",
   "execution_count": null,
   "metadata": {},
   "outputs": [],
   "source": []
  }
 ],
 "metadata": {
  "colab": {
   "collapsed_sections": [],
   "name": "26 - Control Flow and Functions.ipynb",
   "private_outputs": true,
   "provenance": [],
   "toc_visible": true,
   "version": "0.3.2"
  },
  "kernelspec": {
   "display_name": "Python 3",
   "language": "python",
   "name": "python3"
  },
  "language_info": {
   "codemirror_mode": {
    "name": "ipython",
    "version": 3
   },
   "file_extension": ".py",
   "mimetype": "text/x-python",
   "name": "python",
   "nbconvert_exporter": "python",
   "pygments_lexer": "ipython3",
   "version": "3.6.8"
  }
 },
 "nbformat": 4,
 "nbformat_minor": 1
}
