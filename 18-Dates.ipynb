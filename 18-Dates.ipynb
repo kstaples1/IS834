{
 "cells": [
  {
   "cell_type": "markdown",
   "metadata": {
    "colab_type": "text",
    "id": "ryro2FQbSfrJ"
   },
   "source": [
    "# Working With Dates\n",
    "\n",
    "\n",
    "\n",
    "\n",
    "\n"
   ]
  },
  {
   "cell_type": "markdown",
   "metadata": {
    "colab_type": "text",
    "id": "tAVyx3AVWPuD"
   },
   "source": [
    "\n",
    "\n",
    "---\n",
    "\n"
   ]
  },
  {
   "cell_type": "markdown",
   "metadata": {
    "colab_type": "text",
    "id": "C-TSXQtkWRBF"
   },
   "source": [
    "# Setup"
   ]
  },
  {
   "cell_type": "code",
   "execution_count": 2,
   "metadata": {
    "colab": {},
    "colab_type": "code",
    "id": "ADcPbOClWOxY"
   },
   "outputs": [],
   "source": [
    "## imports\n",
    "import numpy as np\n",
    "import pandas as pd\n",
    "import matplotlib.pyplot as plt\n",
    "import seaborn as sns"
   ]
  },
  {
   "cell_type": "markdown",
   "metadata": {
    "colab_type": "text",
    "id": "JhTk8fw1T5RA"
   },
   "source": [
    "# Facebook Yahoo Stock Data\n",
    "\n",
    "\n",
    "### Import the data FB.csv\n",
    "\n",
    "Upload the file from Q-Tools `FB.csv` to your server/computer.  \n",
    "\n",
    "> It is usually in the `Downloads` folder\n",
    "\n",
    "> For those using `Colab`, you upload this file, which can be found on the left hand nav\n"
   ]
  },
  {
   "cell_type": "code",
   "execution_count": 3,
   "metadata": {
    "colab": {},
    "colab_type": "code",
    "id": "vsnP11VAWdyD"
   },
   "outputs": [],
   "source": [
    "## import the file\n",
    "fb = pd.read_csv(\"/Users/Kyle_Staples/Documents/GitHub/IS834/datasets/FB.csv\")"
   ]
  },
  {
   "cell_type": "code",
   "execution_count": 4,
   "metadata": {
    "colab": {},
    "colab_type": "code",
    "id": "OeAjDaXwYoa7"
   },
   "outputs": [
    {
     "data": {
      "text/html": [
       "<div>\n",
       "<style scoped>\n",
       "    .dataframe tbody tr th:only-of-type {\n",
       "        vertical-align: middle;\n",
       "    }\n",
       "\n",
       "    .dataframe tbody tr th {\n",
       "        vertical-align: top;\n",
       "    }\n",
       "\n",
       "    .dataframe thead th {\n",
       "        text-align: right;\n",
       "    }\n",
       "</style>\n",
       "<table border=\"1\" class=\"dataframe\">\n",
       "  <thead>\n",
       "    <tr style=\"text-align: right;\">\n",
       "      <th></th>\n",
       "      <th>Date</th>\n",
       "      <th>Open</th>\n",
       "      <th>High</th>\n",
       "      <th>Low</th>\n",
       "      <th>Close</th>\n",
       "      <th>Adj Close</th>\n",
       "      <th>Volume</th>\n",
       "    </tr>\n",
       "  </thead>\n",
       "  <tbody>\n",
       "    <tr>\n",
       "      <th>0</th>\n",
       "      <td>2014-03-20</td>\n",
       "      <td>68.010002</td>\n",
       "      <td>68.230003</td>\n",
       "      <td>66.820000</td>\n",
       "      <td>66.970001</td>\n",
       "      <td>66.970001</td>\n",
       "      <td>44439000</td>\n",
       "    </tr>\n",
       "    <tr>\n",
       "      <th>1</th>\n",
       "      <td>2014-03-21</td>\n",
       "      <td>67.529999</td>\n",
       "      <td>67.919998</td>\n",
       "      <td>66.180000</td>\n",
       "      <td>67.239998</td>\n",
       "      <td>67.239998</td>\n",
       "      <td>59999900</td>\n",
       "    </tr>\n",
       "    <tr>\n",
       "      <th>2</th>\n",
       "      <td>2014-03-24</td>\n",
       "      <td>67.190002</td>\n",
       "      <td>67.360001</td>\n",
       "      <td>63.360001</td>\n",
       "      <td>64.099998</td>\n",
       "      <td>64.099998</td>\n",
       "      <td>85696000</td>\n",
       "    </tr>\n",
       "    <tr>\n",
       "      <th>3</th>\n",
       "      <td>2014-03-25</td>\n",
       "      <td>64.889999</td>\n",
       "      <td>66.190002</td>\n",
       "      <td>63.779999</td>\n",
       "      <td>64.889999</td>\n",
       "      <td>64.889999</td>\n",
       "      <td>68786000</td>\n",
       "    </tr>\n",
       "    <tr>\n",
       "      <th>4</th>\n",
       "      <td>2014-03-26</td>\n",
       "      <td>64.739998</td>\n",
       "      <td>64.949997</td>\n",
       "      <td>60.369999</td>\n",
       "      <td>60.389999</td>\n",
       "      <td>60.389999</td>\n",
       "      <td>97503900</td>\n",
       "    </tr>\n",
       "  </tbody>\n",
       "</table>\n",
       "</div>"
      ],
      "text/plain": [
       "         Date       Open       High        Low      Close  Adj Close    Volume\n",
       "0  2014-03-20  68.010002  68.230003  66.820000  66.970001  66.970001  44439000\n",
       "1  2014-03-21  67.529999  67.919998  66.180000  67.239998  67.239998  59999900\n",
       "2  2014-03-24  67.190002  67.360001  63.360001  64.099998  64.099998  85696000\n",
       "3  2014-03-25  64.889999  66.190002  63.779999  64.889999  64.889999  68786000\n",
       "4  2014-03-26  64.739998  64.949997  60.369999  60.389999  60.389999  97503900"
      ]
     },
     "execution_count": 4,
     "metadata": {},
     "output_type": "execute_result"
    }
   ],
   "source": [
    "fb.head()"
   ]
  },
  {
   "cell_type": "code",
   "execution_count": 5,
   "metadata": {
    "colab": {},
    "colab_type": "code",
    "id": "gosMETVcX9kx"
   },
   "outputs": [
    {
     "name": "stdout",
     "output_type": "stream",
     "text": [
      "<class 'pandas.core.frame.DataFrame'>\n",
      "RangeIndex: 1258 entries, 0 to 1257\n",
      "Data columns (total 7 columns):\n",
      "Date         1258 non-null object\n",
      "Open         1258 non-null float64\n",
      "High         1258 non-null float64\n",
      "Low          1258 non-null float64\n",
      "Close        1258 non-null float64\n",
      "Adj Close    1258 non-null float64\n",
      "Volume       1258 non-null int64\n",
      "dtypes: float64(5), int64(1), object(1)\n",
      "memory usage: 68.9+ KB\n"
     ]
    }
   ],
   "source": [
    "## peak\n",
    "fb.info()"
   ]
  },
  {
   "cell_type": "markdown",
   "metadata": {
    "colab_type": "text",
    "id": "XFcMG1KgbeET"
   },
   "source": [
    "> Note that Date is a type called `object` .  We haven't talked about that yet, but its basically a string.  Let's summarize the data, and proove that Date is held out of the analysis."
   ]
  },
  {
   "cell_type": "code",
   "execution_count": 6,
   "metadata": {
    "colab": {},
    "colab_type": "code",
    "id": "KBjQqhDlYcfC"
   },
   "outputs": [
    {
     "data": {
      "text/html": [
       "<div>\n",
       "<style scoped>\n",
       "    .dataframe tbody tr th:only-of-type {\n",
       "        vertical-align: middle;\n",
       "    }\n",
       "\n",
       "    .dataframe tbody tr th {\n",
       "        vertical-align: top;\n",
       "    }\n",
       "\n",
       "    .dataframe thead th {\n",
       "        text-align: right;\n",
       "    }\n",
       "</style>\n",
       "<table border=\"1\" class=\"dataframe\">\n",
       "  <thead>\n",
       "    <tr style=\"text-align: right;\">\n",
       "      <th></th>\n",
       "      <th>Open</th>\n",
       "      <th>High</th>\n",
       "      <th>Low</th>\n",
       "      <th>Close</th>\n",
       "      <th>Adj Close</th>\n",
       "      <th>Volume</th>\n",
       "    </tr>\n",
       "  </thead>\n",
       "  <tbody>\n",
       "    <tr>\n",
       "      <th>count</th>\n",
       "      <td>1258.000000</td>\n",
       "      <td>1258.000000</td>\n",
       "      <td>1258.000000</td>\n",
       "      <td>1258.000000</td>\n",
       "      <td>1258.000000</td>\n",
       "      <td>1.258000e+03</td>\n",
       "    </tr>\n",
       "    <tr>\n",
       "      <th>mean</th>\n",
       "      <td>124.406097</td>\n",
       "      <td>125.666002</td>\n",
       "      <td>123.096479</td>\n",
       "      <td>124.446852</td>\n",
       "      <td>124.446852</td>\n",
       "      <td>2.732384e+07</td>\n",
       "    </tr>\n",
       "    <tr>\n",
       "      <th>std</th>\n",
       "      <td>40.170832</td>\n",
       "      <td>40.497886</td>\n",
       "      <td>39.875461</td>\n",
       "      <td>40.223455</td>\n",
       "      <td>40.223455</td>\n",
       "      <td>1.810437e+07</td>\n",
       "    </tr>\n",
       "    <tr>\n",
       "      <th>min</th>\n",
       "      <td>55.900002</td>\n",
       "      <td>57.650002</td>\n",
       "      <td>54.660000</td>\n",
       "      <td>56.139999</td>\n",
       "      <td>56.139999</td>\n",
       "      <td>5.913100e+06</td>\n",
       "    </tr>\n",
       "    <tr>\n",
       "      <th>25%</th>\n",
       "      <td>84.154999</td>\n",
       "      <td>85.107500</td>\n",
       "      <td>83.270002</td>\n",
       "      <td>83.957502</td>\n",
       "      <td>83.957502</td>\n",
       "      <td>1.626702e+07</td>\n",
       "    </tr>\n",
       "    <tr>\n",
       "      <th>50%</th>\n",
       "      <td>121.444999</td>\n",
       "      <td>122.349998</td>\n",
       "      <td>120.160000</td>\n",
       "      <td>121.345001</td>\n",
       "      <td>121.345001</td>\n",
       "      <td>2.179780e+07</td>\n",
       "    </tr>\n",
       "    <tr>\n",
       "      <th>75%</th>\n",
       "      <td>161.975002</td>\n",
       "      <td>163.879997</td>\n",
       "      <td>160.325001</td>\n",
       "      <td>162.312503</td>\n",
       "      <td>162.312503</td>\n",
       "      <td>3.124252e+07</td>\n",
       "    </tr>\n",
       "    <tr>\n",
       "      <th>max</th>\n",
       "      <td>215.720001</td>\n",
       "      <td>218.619995</td>\n",
       "      <td>214.270004</td>\n",
       "      <td>217.500000</td>\n",
       "      <td>217.500000</td>\n",
       "      <td>1.698037e+08</td>\n",
       "    </tr>\n",
       "  </tbody>\n",
       "</table>\n",
       "</div>"
      ],
      "text/plain": [
       "              Open         High          Low        Close    Adj Close  \\\n",
       "count  1258.000000  1258.000000  1258.000000  1258.000000  1258.000000   \n",
       "mean    124.406097   125.666002   123.096479   124.446852   124.446852   \n",
       "std      40.170832    40.497886    39.875461    40.223455    40.223455   \n",
       "min      55.900002    57.650002    54.660000    56.139999    56.139999   \n",
       "25%      84.154999    85.107500    83.270002    83.957502    83.957502   \n",
       "50%     121.444999   122.349998   120.160000   121.345001   121.345001   \n",
       "75%     161.975002   163.879997   160.325001   162.312503   162.312503   \n",
       "max     215.720001   218.619995   214.270004   217.500000   217.500000   \n",
       "\n",
       "             Volume  \n",
       "count  1.258000e+03  \n",
       "mean   2.732384e+07  \n",
       "std    1.810437e+07  \n",
       "min    5.913100e+06  \n",
       "25%    1.626702e+07  \n",
       "50%    2.179780e+07  \n",
       "75%    3.124252e+07  \n",
       "max    1.698037e+08  "
      ]
     },
     "execution_count": 6,
     "metadata": {},
     "output_type": "execute_result"
    }
   ],
   "source": [
    "fb.describe()"
   ]
  },
  {
   "cell_type": "markdown",
   "metadata": {
    "colab_type": "text",
    "id": "P_sPFE9bYgNI"
   },
   "source": [
    "#### We could parse the file into columns"
   ]
  },
  {
   "cell_type": "code",
   "execution_count": 0,
   "metadata": {
    "colab": {},
    "colab_type": "code",
    "id": "Hy8AHtS-WL1j"
   },
   "outputs": [],
   "source": [
    "## parse into month/day/year columns\n",
    "fb.head(2)"
   ]
  },
  {
   "cell_type": "code",
   "execution_count": 7,
   "metadata": {
    "colab": {},
    "colab_type": "code",
    "id": "osJw_W1ccFdJ"
   },
   "outputs": [
    {
     "data": {
      "text/html": [
       "<div>\n",
       "<style scoped>\n",
       "    .dataframe tbody tr th:only-of-type {\n",
       "        vertical-align: middle;\n",
       "    }\n",
       "\n",
       "    .dataframe tbody tr th {\n",
       "        vertical-align: top;\n",
       "    }\n",
       "\n",
       "    .dataframe thead th {\n",
       "        text-align: right;\n",
       "    }\n",
       "</style>\n",
       "<table border=\"1\" class=\"dataframe\">\n",
       "  <thead>\n",
       "    <tr style=\"text-align: right;\">\n",
       "      <th></th>\n",
       "      <th>Date</th>\n",
       "      <th>Open</th>\n",
       "      <th>High</th>\n",
       "      <th>Low</th>\n",
       "      <th>Close</th>\n",
       "      <th>Adj Close</th>\n",
       "      <th>Volume</th>\n",
       "      <th>year</th>\n",
       "    </tr>\n",
       "  </thead>\n",
       "  <tbody>\n",
       "    <tr>\n",
       "      <th>0</th>\n",
       "      <td>2014-03-20</td>\n",
       "      <td>68.010002</td>\n",
       "      <td>68.230003</td>\n",
       "      <td>66.820000</td>\n",
       "      <td>66.970001</td>\n",
       "      <td>66.970001</td>\n",
       "      <td>44439000</td>\n",
       "      <td>2014</td>\n",
       "    </tr>\n",
       "    <tr>\n",
       "      <th>1</th>\n",
       "      <td>2014-03-21</td>\n",
       "      <td>67.529999</td>\n",
       "      <td>67.919998</td>\n",
       "      <td>66.180000</td>\n",
       "      <td>67.239998</td>\n",
       "      <td>67.239998</td>\n",
       "      <td>59999900</td>\n",
       "      <td>2014</td>\n",
       "    </tr>\n",
       "    <tr>\n",
       "      <th>2</th>\n",
       "      <td>2014-03-24</td>\n",
       "      <td>67.190002</td>\n",
       "      <td>67.360001</td>\n",
       "      <td>63.360001</td>\n",
       "      <td>64.099998</td>\n",
       "      <td>64.099998</td>\n",
       "      <td>85696000</td>\n",
       "      <td>2014</td>\n",
       "    </tr>\n",
       "    <tr>\n",
       "      <th>3</th>\n",
       "      <td>2014-03-25</td>\n",
       "      <td>64.889999</td>\n",
       "      <td>66.190002</td>\n",
       "      <td>63.779999</td>\n",
       "      <td>64.889999</td>\n",
       "      <td>64.889999</td>\n",
       "      <td>68786000</td>\n",
       "      <td>2014</td>\n",
       "    </tr>\n",
       "    <tr>\n",
       "      <th>4</th>\n",
       "      <td>2014-03-26</td>\n",
       "      <td>64.739998</td>\n",
       "      <td>64.949997</td>\n",
       "      <td>60.369999</td>\n",
       "      <td>60.389999</td>\n",
       "      <td>60.389999</td>\n",
       "      <td>97503900</td>\n",
       "      <td>2014</td>\n",
       "    </tr>\n",
       "  </tbody>\n",
       "</table>\n",
       "</div>"
      ],
      "text/plain": [
       "         Date       Open       High        Low      Close  Adj Close  \\\n",
       "0  2014-03-20  68.010002  68.230003  66.820000  66.970001  66.970001   \n",
       "1  2014-03-21  67.529999  67.919998  66.180000  67.239998  67.239998   \n",
       "2  2014-03-24  67.190002  67.360001  63.360001  64.099998  64.099998   \n",
       "3  2014-03-25  64.889999  66.190002  63.779999  64.889999  64.889999   \n",
       "4  2014-03-26  64.739998  64.949997  60.369999  60.389999  60.389999   \n",
       "\n",
       "     Volume  year  \n",
       "0  44439000  2014  \n",
       "1  59999900  2014  \n",
       "2  85696000  2014  \n",
       "3  68786000  2014  \n",
       "4  97503900  2014  "
      ]
     },
     "execution_count": 7,
     "metadata": {},
     "output_type": "execute_result"
    }
   ],
   "source": [
    "## year\n",
    "fb['year'] = fb['Date'].str.slice(0,4)\n",
    "fb.head()\n"
   ]
  },
  {
   "cell_type": "code",
   "execution_count": 8,
   "metadata": {
    "colab": {},
    "colab_type": "code",
    "id": "WYusaS0Rfpsp"
   },
   "outputs": [
    {
     "data": {
      "text/html": [
       "<div>\n",
       "<style scoped>\n",
       "    .dataframe tbody tr th:only-of-type {\n",
       "        vertical-align: middle;\n",
       "    }\n",
       "\n",
       "    .dataframe tbody tr th {\n",
       "        vertical-align: top;\n",
       "    }\n",
       "\n",
       "    .dataframe thead th {\n",
       "        text-align: right;\n",
       "    }\n",
       "</style>\n",
       "<table border=\"1\" class=\"dataframe\">\n",
       "  <thead>\n",
       "    <tr style=\"text-align: right;\">\n",
       "      <th></th>\n",
       "      <th>Date</th>\n",
       "      <th>Open</th>\n",
       "      <th>High</th>\n",
       "      <th>Low</th>\n",
       "      <th>Close</th>\n",
       "      <th>Adj Close</th>\n",
       "      <th>Volume</th>\n",
       "      <th>year</th>\n",
       "      <th>month</th>\n",
       "    </tr>\n",
       "  </thead>\n",
       "  <tbody>\n",
       "    <tr>\n",
       "      <th>0</th>\n",
       "      <td>2014-03-20</td>\n",
       "      <td>68.010002</td>\n",
       "      <td>68.230003</td>\n",
       "      <td>66.820000</td>\n",
       "      <td>66.970001</td>\n",
       "      <td>66.970001</td>\n",
       "      <td>44439000</td>\n",
       "      <td>2014</td>\n",
       "      <td>03</td>\n",
       "    </tr>\n",
       "    <tr>\n",
       "      <th>1</th>\n",
       "      <td>2014-03-21</td>\n",
       "      <td>67.529999</td>\n",
       "      <td>67.919998</td>\n",
       "      <td>66.180000</td>\n",
       "      <td>67.239998</td>\n",
       "      <td>67.239998</td>\n",
       "      <td>59999900</td>\n",
       "      <td>2014</td>\n",
       "      <td>03</td>\n",
       "    </tr>\n",
       "    <tr>\n",
       "      <th>2</th>\n",
       "      <td>2014-03-24</td>\n",
       "      <td>67.190002</td>\n",
       "      <td>67.360001</td>\n",
       "      <td>63.360001</td>\n",
       "      <td>64.099998</td>\n",
       "      <td>64.099998</td>\n",
       "      <td>85696000</td>\n",
       "      <td>2014</td>\n",
       "      <td>03</td>\n",
       "    </tr>\n",
       "    <tr>\n",
       "      <th>3</th>\n",
       "      <td>2014-03-25</td>\n",
       "      <td>64.889999</td>\n",
       "      <td>66.190002</td>\n",
       "      <td>63.779999</td>\n",
       "      <td>64.889999</td>\n",
       "      <td>64.889999</td>\n",
       "      <td>68786000</td>\n",
       "      <td>2014</td>\n",
       "      <td>03</td>\n",
       "    </tr>\n",
       "    <tr>\n",
       "      <th>4</th>\n",
       "      <td>2014-03-26</td>\n",
       "      <td>64.739998</td>\n",
       "      <td>64.949997</td>\n",
       "      <td>60.369999</td>\n",
       "      <td>60.389999</td>\n",
       "      <td>60.389999</td>\n",
       "      <td>97503900</td>\n",
       "      <td>2014</td>\n",
       "      <td>03</td>\n",
       "    </tr>\n",
       "  </tbody>\n",
       "</table>\n",
       "</div>"
      ],
      "text/plain": [
       "         Date       Open       High        Low      Close  Adj Close  \\\n",
       "0  2014-03-20  68.010002  68.230003  66.820000  66.970001  66.970001   \n",
       "1  2014-03-21  67.529999  67.919998  66.180000  67.239998  67.239998   \n",
       "2  2014-03-24  67.190002  67.360001  63.360001  64.099998  64.099998   \n",
       "3  2014-03-25  64.889999  66.190002  63.779999  64.889999  64.889999   \n",
       "4  2014-03-26  64.739998  64.949997  60.369999  60.389999  60.389999   \n",
       "\n",
       "     Volume  year month  \n",
       "0  44439000  2014    03  \n",
       "1  59999900  2014    03  \n",
       "2  85696000  2014    03  \n",
       "3  68786000  2014    03  \n",
       "4  97503900  2014    03  "
      ]
     },
     "execution_count": 8,
     "metadata": {},
     "output_type": "execute_result"
    }
   ],
   "source": [
    "## month\n",
    "fb['month'] = fb['Date'].str.slice(5,7)\n",
    "fb.head()"
   ]
  },
  {
   "cell_type": "code",
   "execution_count": 9,
   "metadata": {
    "colab": {},
    "colab_type": "code",
    "id": "bgh8fqVOfss_"
   },
   "outputs": [
    {
     "data": {
      "text/html": [
       "<div>\n",
       "<style scoped>\n",
       "    .dataframe tbody tr th:only-of-type {\n",
       "        vertical-align: middle;\n",
       "    }\n",
       "\n",
       "    .dataframe tbody tr th {\n",
       "        vertical-align: top;\n",
       "    }\n",
       "\n",
       "    .dataframe thead th {\n",
       "        text-align: right;\n",
       "    }\n",
       "</style>\n",
       "<table border=\"1\" class=\"dataframe\">\n",
       "  <thead>\n",
       "    <tr style=\"text-align: right;\">\n",
       "      <th></th>\n",
       "      <th>Date</th>\n",
       "      <th>Open</th>\n",
       "      <th>High</th>\n",
       "      <th>Low</th>\n",
       "      <th>Close</th>\n",
       "      <th>Adj Close</th>\n",
       "      <th>Volume</th>\n",
       "      <th>year</th>\n",
       "      <th>month</th>\n",
       "      <th>day</th>\n",
       "    </tr>\n",
       "  </thead>\n",
       "  <tbody>\n",
       "    <tr>\n",
       "      <th>0</th>\n",
       "      <td>2014-03-20</td>\n",
       "      <td>68.010002</td>\n",
       "      <td>68.230003</td>\n",
       "      <td>66.820000</td>\n",
       "      <td>66.970001</td>\n",
       "      <td>66.970001</td>\n",
       "      <td>44439000</td>\n",
       "      <td>2014</td>\n",
       "      <td>03</td>\n",
       "      <td>20</td>\n",
       "    </tr>\n",
       "    <tr>\n",
       "      <th>1</th>\n",
       "      <td>2014-03-21</td>\n",
       "      <td>67.529999</td>\n",
       "      <td>67.919998</td>\n",
       "      <td>66.180000</td>\n",
       "      <td>67.239998</td>\n",
       "      <td>67.239998</td>\n",
       "      <td>59999900</td>\n",
       "      <td>2014</td>\n",
       "      <td>03</td>\n",
       "      <td>21</td>\n",
       "    </tr>\n",
       "    <tr>\n",
       "      <th>2</th>\n",
       "      <td>2014-03-24</td>\n",
       "      <td>67.190002</td>\n",
       "      <td>67.360001</td>\n",
       "      <td>63.360001</td>\n",
       "      <td>64.099998</td>\n",
       "      <td>64.099998</td>\n",
       "      <td>85696000</td>\n",
       "      <td>2014</td>\n",
       "      <td>03</td>\n",
       "      <td>24</td>\n",
       "    </tr>\n",
       "    <tr>\n",
       "      <th>3</th>\n",
       "      <td>2014-03-25</td>\n",
       "      <td>64.889999</td>\n",
       "      <td>66.190002</td>\n",
       "      <td>63.779999</td>\n",
       "      <td>64.889999</td>\n",
       "      <td>64.889999</td>\n",
       "      <td>68786000</td>\n",
       "      <td>2014</td>\n",
       "      <td>03</td>\n",
       "      <td>25</td>\n",
       "    </tr>\n",
       "    <tr>\n",
       "      <th>4</th>\n",
       "      <td>2014-03-26</td>\n",
       "      <td>64.739998</td>\n",
       "      <td>64.949997</td>\n",
       "      <td>60.369999</td>\n",
       "      <td>60.389999</td>\n",
       "      <td>60.389999</td>\n",
       "      <td>97503900</td>\n",
       "      <td>2014</td>\n",
       "      <td>03</td>\n",
       "      <td>26</td>\n",
       "    </tr>\n",
       "  </tbody>\n",
       "</table>\n",
       "</div>"
      ],
      "text/plain": [
       "         Date       Open       High        Low      Close  Adj Close  \\\n",
       "0  2014-03-20  68.010002  68.230003  66.820000  66.970001  66.970001   \n",
       "1  2014-03-21  67.529999  67.919998  66.180000  67.239998  67.239998   \n",
       "2  2014-03-24  67.190002  67.360001  63.360001  64.099998  64.099998   \n",
       "3  2014-03-25  64.889999  66.190002  63.779999  64.889999  64.889999   \n",
       "4  2014-03-26  64.739998  64.949997  60.369999  60.389999  60.389999   \n",
       "\n",
       "     Volume  year month day  \n",
       "0  44439000  2014    03  20  \n",
       "1  59999900  2014    03  21  \n",
       "2  85696000  2014    03  24  \n",
       "3  68786000  2014    03  25  \n",
       "4  97503900  2014    03  26  "
      ]
     },
     "execution_count": 9,
     "metadata": {},
     "output_type": "execute_result"
    }
   ],
   "source": [
    "## day -- note the     n:   syntax\n",
    "fb['day'] = fb['Date'].str.slice(8)\n",
    "fb.head()"
   ]
  },
  {
   "cell_type": "markdown",
   "metadata": {
    "colab_type": "text",
    "id": "MP_YocqudeHO"
   },
   "source": [
    "## Why do this?\n",
    "\n",
    "Now we can use these fields for summaries, or, to add a level of detail to the record that we ultimately want to summarize, like sales/month, or average sales by day, but it requires some work to summarize data on a date/time level.\n",
    "\n",
    "We will come back to this as if we have the datetime, we can actually do this more explicitly, but a good exercise of parsing strings too."
   ]
  },
  {
   "cell_type": "markdown",
   "metadata": {
    "colab_type": "text",
    "id": "slBQknHumEqW"
   },
   "source": [
    "# Parse Dates using Pandas"
   ]
  },
  {
   "cell_type": "code",
   "execution_count": 10,
   "metadata": {
    "colab": {},
    "colab_type": "code",
    "id": "JcWrThHzmpn8"
   },
   "outputs": [],
   "source": [
    "# create a new column with date parsed\n",
    "fb['date2'] = pd.to_datetime(fb['Date'])"
   ]
  },
  {
   "cell_type": "code",
   "execution_count": 11,
   "metadata": {
    "colab": {},
    "colab_type": "code",
    "id": "daBtoCsAnuVe"
   },
   "outputs": [
    {
     "data": {
      "text/html": [
       "<div>\n",
       "<style scoped>\n",
       "    .dataframe tbody tr th:only-of-type {\n",
       "        vertical-align: middle;\n",
       "    }\n",
       "\n",
       "    .dataframe tbody tr th {\n",
       "        vertical-align: top;\n",
       "    }\n",
       "\n",
       "    .dataframe thead th {\n",
       "        text-align: right;\n",
       "    }\n",
       "</style>\n",
       "<table border=\"1\" class=\"dataframe\">\n",
       "  <thead>\n",
       "    <tr style=\"text-align: right;\">\n",
       "      <th></th>\n",
       "      <th>Date</th>\n",
       "      <th>Open</th>\n",
       "      <th>High</th>\n",
       "      <th>Low</th>\n",
       "      <th>Close</th>\n",
       "      <th>Adj Close</th>\n",
       "      <th>Volume</th>\n",
       "      <th>year</th>\n",
       "      <th>month</th>\n",
       "      <th>day</th>\n",
       "      <th>date2</th>\n",
       "    </tr>\n",
       "  </thead>\n",
       "  <tbody>\n",
       "    <tr>\n",
       "      <th>0</th>\n",
       "      <td>2014-03-20</td>\n",
       "      <td>68.010002</td>\n",
       "      <td>68.230003</td>\n",
       "      <td>66.820000</td>\n",
       "      <td>66.970001</td>\n",
       "      <td>66.970001</td>\n",
       "      <td>44439000</td>\n",
       "      <td>2014</td>\n",
       "      <td>03</td>\n",
       "      <td>20</td>\n",
       "      <td>2014-03-20</td>\n",
       "    </tr>\n",
       "    <tr>\n",
       "      <th>1</th>\n",
       "      <td>2014-03-21</td>\n",
       "      <td>67.529999</td>\n",
       "      <td>67.919998</td>\n",
       "      <td>66.180000</td>\n",
       "      <td>67.239998</td>\n",
       "      <td>67.239998</td>\n",
       "      <td>59999900</td>\n",
       "      <td>2014</td>\n",
       "      <td>03</td>\n",
       "      <td>21</td>\n",
       "      <td>2014-03-21</td>\n",
       "    </tr>\n",
       "    <tr>\n",
       "      <th>2</th>\n",
       "      <td>2014-03-24</td>\n",
       "      <td>67.190002</td>\n",
       "      <td>67.360001</td>\n",
       "      <td>63.360001</td>\n",
       "      <td>64.099998</td>\n",
       "      <td>64.099998</td>\n",
       "      <td>85696000</td>\n",
       "      <td>2014</td>\n",
       "      <td>03</td>\n",
       "      <td>24</td>\n",
       "      <td>2014-03-24</td>\n",
       "    </tr>\n",
       "    <tr>\n",
       "      <th>3</th>\n",
       "      <td>2014-03-25</td>\n",
       "      <td>64.889999</td>\n",
       "      <td>66.190002</td>\n",
       "      <td>63.779999</td>\n",
       "      <td>64.889999</td>\n",
       "      <td>64.889999</td>\n",
       "      <td>68786000</td>\n",
       "      <td>2014</td>\n",
       "      <td>03</td>\n",
       "      <td>25</td>\n",
       "      <td>2014-03-25</td>\n",
       "    </tr>\n",
       "    <tr>\n",
       "      <th>4</th>\n",
       "      <td>2014-03-26</td>\n",
       "      <td>64.739998</td>\n",
       "      <td>64.949997</td>\n",
       "      <td>60.369999</td>\n",
       "      <td>60.389999</td>\n",
       "      <td>60.389999</td>\n",
       "      <td>97503900</td>\n",
       "      <td>2014</td>\n",
       "      <td>03</td>\n",
       "      <td>26</td>\n",
       "      <td>2014-03-26</td>\n",
       "    </tr>\n",
       "  </tbody>\n",
       "</table>\n",
       "</div>"
      ],
      "text/plain": [
       "         Date       Open       High        Low      Close  Adj Close  \\\n",
       "0  2014-03-20  68.010002  68.230003  66.820000  66.970001  66.970001   \n",
       "1  2014-03-21  67.529999  67.919998  66.180000  67.239998  67.239998   \n",
       "2  2014-03-24  67.190002  67.360001  63.360001  64.099998  64.099998   \n",
       "3  2014-03-25  64.889999  66.190002  63.779999  64.889999  64.889999   \n",
       "4  2014-03-26  64.739998  64.949997  60.369999  60.389999  60.389999   \n",
       "\n",
       "     Volume  year month day      date2  \n",
       "0  44439000  2014    03  20 2014-03-20  \n",
       "1  59999900  2014    03  21 2014-03-21  \n",
       "2  85696000  2014    03  24 2014-03-24  \n",
       "3  68786000  2014    03  25 2014-03-25  \n",
       "4  97503900  2014    03  26 2014-03-26  "
      ]
     },
     "execution_count": 11,
     "metadata": {},
     "output_type": "execute_result"
    }
   ],
   "source": [
    "fb.head()"
   ]
  },
  {
   "cell_type": "code",
   "execution_count": 12,
   "metadata": {
    "colab": {},
    "colab_type": "code",
    "id": "s7GXD2FIn7Qi"
   },
   "outputs": [
    {
     "data": {
      "text/plain": [
       "Date                 object\n",
       "Open                float64\n",
       "High                float64\n",
       "Low                 float64\n",
       "Close               float64\n",
       "Adj Close           float64\n",
       "Volume                int64\n",
       "year                 object\n",
       "month                object\n",
       "day                  object\n",
       "date2        datetime64[ns]\n",
       "dtype: object"
      ]
     },
     "execution_count": 12,
     "metadata": {},
     "output_type": "execute_result"
    }
   ],
   "source": [
    "fb.dtypes"
   ]
  },
  {
   "cell_type": "markdown",
   "metadata": {
    "colab_type": "text",
    "id": "qoOOdHl7n96K"
   },
   "source": [
    "# Parse the date upon reading the file"
   ]
  },
  {
   "cell_type": "code",
   "execution_count": 13,
   "metadata": {
    "colab": {},
    "colab_type": "code",
    "id": "Xsz9EwmkoPwb"
   },
   "outputs": [],
   "source": [
    "# read in the same Facebook file\n",
    "fb2 = pd.read_csv(\"/Users/Kyle_Staples/Documents/GitHub/IS834/datasets/FB.csv\", parse_dates=['Date'])"
   ]
  },
  {
   "cell_type": "code",
   "execution_count": 14,
   "metadata": {
    "colab": {},
    "colab_type": "code",
    "id": "Q4qIZTyEoin3"
   },
   "outputs": [
    {
     "data": {
      "text/plain": [
       "Date         datetime64[ns]\n",
       "Open                float64\n",
       "High                float64\n",
       "Low                 float64\n",
       "Close               float64\n",
       "Adj Close           float64\n",
       "Volume                int64\n",
       "dtype: object"
      ]
     },
     "execution_count": 14,
     "metadata": {},
     "output_type": "execute_result"
    }
   ],
   "source": [
    "fb2.dtypes"
   ]
  },
  {
   "cell_type": "markdown",
   "metadata": {
    "colab_type": "text",
    "id": "j5WaVSR9ok4Y"
   },
   "source": [
    "> Look at the help, there is a lot we can do with dates, but this is the core of it and will get you a long way most of the time.\n",
    "\n",
    "> https://pandas.pydata.org/pandas-docs/stable/reference/api/pandas.read_csv.html"
   ]
  },
  {
   "cell_type": "markdown",
   "metadata": {
    "colab_type": "text",
    "id": "hRpLoVUUpRzS"
   },
   "source": [
    "# Build a Date Range with `date_range`"
   ]
  },
  {
   "cell_type": "code",
   "execution_count": 15,
   "metadata": {
    "colab": {},
    "colab_type": "code",
    "id": "FeHgs8T4pQ8x"
   },
   "outputs": [],
   "source": [
    "N = 100\n",
    "df = pd.DataFrame({'Date': pd.date_range(start=\"2019-01-01\", periods=N, freq=\"D\"),\n",
    "                   'Value': np.random.randint(-10, 10, size=N)})"
   ]
  },
  {
   "cell_type": "code",
   "execution_count": 16,
   "metadata": {
    "colab": {},
    "colab_type": "code",
    "id": "Wssc1TfTqKXg"
   },
   "outputs": [
    {
     "data": {
      "text/html": [
       "<div>\n",
       "<style scoped>\n",
       "    .dataframe tbody tr th:only-of-type {\n",
       "        vertical-align: middle;\n",
       "    }\n",
       "\n",
       "    .dataframe tbody tr th {\n",
       "        vertical-align: top;\n",
       "    }\n",
       "\n",
       "    .dataframe thead th {\n",
       "        text-align: right;\n",
       "    }\n",
       "</style>\n",
       "<table border=\"1\" class=\"dataframe\">\n",
       "  <thead>\n",
       "    <tr style=\"text-align: right;\">\n",
       "      <th></th>\n",
       "      <th>Date</th>\n",
       "      <th>Value</th>\n",
       "    </tr>\n",
       "  </thead>\n",
       "  <tbody>\n",
       "    <tr>\n",
       "      <th>0</th>\n",
       "      <td>2019-01-01</td>\n",
       "      <td>6</td>\n",
       "    </tr>\n",
       "    <tr>\n",
       "      <th>1</th>\n",
       "      <td>2019-01-02</td>\n",
       "      <td>4</td>\n",
       "    </tr>\n",
       "    <tr>\n",
       "      <th>2</th>\n",
       "      <td>2019-01-03</td>\n",
       "      <td>-4</td>\n",
       "    </tr>\n",
       "    <tr>\n",
       "      <th>3</th>\n",
       "      <td>2019-01-04</td>\n",
       "      <td>7</td>\n",
       "    </tr>\n",
       "    <tr>\n",
       "      <th>4</th>\n",
       "      <td>2019-01-05</td>\n",
       "      <td>1</td>\n",
       "    </tr>\n",
       "  </tbody>\n",
       "</table>\n",
       "</div>"
      ],
      "text/plain": [
       "        Date  Value\n",
       "0 2019-01-01      6\n",
       "1 2019-01-02      4\n",
       "2 2019-01-03     -4\n",
       "3 2019-01-04      7\n",
       "4 2019-01-05      1"
      ]
     },
     "execution_count": 16,
     "metadata": {},
     "output_type": "execute_result"
    }
   ],
   "source": [
    "df.head()"
   ]
  },
  {
   "cell_type": "markdown",
   "metadata": {
    "colab_type": "text",
    "id": "L6wOMNtTqLdq"
   },
   "source": [
    "# Worth Noting - define the format for a date/time in String form\n",
    "\n",
    "We can also specify the format of the string \n",
    "\n",
    "http://strftime.org/\n",
    "\n",
    "> Above is also in the cheatsheets folder for the course site"
   ]
  },
  {
   "cell_type": "code",
   "execution_count": 18,
   "metadata": {
    "colab": {},
    "colab_type": "code",
    "id": "fzDQIzi0uIfD"
   },
   "outputs": [],
   "source": [
    "# bring in Facebook again, but explicitly define the format\n",
    "fb3 = pd.read_csv(\"/Users/Kyle_Staples/Documents/GitHub/IS834/datasets/FB.csv\")"
   ]
  },
  {
   "cell_type": "code",
   "execution_count": 19,
   "metadata": {
    "colab": {},
    "colab_type": "code",
    "id": "Ju0dahe0veyX"
   },
   "outputs": [
    {
     "data": {
      "text/plain": [
       "Date          object\n",
       "Open         float64\n",
       "High         float64\n",
       "Low          float64\n",
       "Close        float64\n",
       "Adj Close    float64\n",
       "Volume         int64\n",
       "dtype: object"
      ]
     },
     "execution_count": 19,
     "metadata": {},
     "output_type": "execute_result"
    }
   ],
   "source": [
    "fb3.dtypes"
   ]
  },
  {
   "cell_type": "code",
   "execution_count": 20,
   "metadata": {
    "colab": {},
    "colab_type": "code",
    "id": "MetB_Utsve6T"
   },
   "outputs": [
    {
     "data": {
      "text/html": [
       "<div>\n",
       "<style scoped>\n",
       "    .dataframe tbody tr th:only-of-type {\n",
       "        vertical-align: middle;\n",
       "    }\n",
       "\n",
       "    .dataframe tbody tr th {\n",
       "        vertical-align: top;\n",
       "    }\n",
       "\n",
       "    .dataframe thead th {\n",
       "        text-align: right;\n",
       "    }\n",
       "</style>\n",
       "<table border=\"1\" class=\"dataframe\">\n",
       "  <thead>\n",
       "    <tr style=\"text-align: right;\">\n",
       "      <th></th>\n",
       "      <th>Date</th>\n",
       "      <th>Open</th>\n",
       "      <th>High</th>\n",
       "      <th>Low</th>\n",
       "      <th>Close</th>\n",
       "      <th>Adj Close</th>\n",
       "      <th>Volume</th>\n",
       "    </tr>\n",
       "  </thead>\n",
       "  <tbody>\n",
       "    <tr>\n",
       "      <th>0</th>\n",
       "      <td>2014-03-20</td>\n",
       "      <td>68.010002</td>\n",
       "      <td>68.230003</td>\n",
       "      <td>66.82</td>\n",
       "      <td>66.970001</td>\n",
       "      <td>66.970001</td>\n",
       "      <td>44439000</td>\n",
       "    </tr>\n",
       "  </tbody>\n",
       "</table>\n",
       "</div>"
      ],
      "text/plain": [
       "         Date       Open       High    Low      Close  Adj Close    Volume\n",
       "0  2014-03-20  68.010002  68.230003  66.82  66.970001  66.970001  44439000"
      ]
     },
     "execution_count": 20,
     "metadata": {},
     "output_type": "execute_result"
    }
   ],
   "source": [
    "fb3.head(1)"
   ]
  },
  {
   "cell_type": "code",
   "execution_count": 21,
   "metadata": {
    "colab": {},
    "colab_type": "code",
    "id": "cZOUUJr2vinb"
   },
   "outputs": [],
   "source": [
    "# parse the date with explicit format\n",
    "fb3['date'] = pd.to_datetime(fb3['Date'], format=\"%Y-%m-%d\")"
   ]
  },
  {
   "cell_type": "code",
   "execution_count": 22,
   "metadata": {
    "colab": {},
    "colab_type": "code",
    "id": "4kx7LOvOvxLS"
   },
   "outputs": [
    {
     "data": {
      "text/html": [
       "<div>\n",
       "<style scoped>\n",
       "    .dataframe tbody tr th:only-of-type {\n",
       "        vertical-align: middle;\n",
       "    }\n",
       "\n",
       "    .dataframe tbody tr th {\n",
       "        vertical-align: top;\n",
       "    }\n",
       "\n",
       "    .dataframe thead th {\n",
       "        text-align: right;\n",
       "    }\n",
       "</style>\n",
       "<table border=\"1\" class=\"dataframe\">\n",
       "  <thead>\n",
       "    <tr style=\"text-align: right;\">\n",
       "      <th></th>\n",
       "      <th>Date</th>\n",
       "      <th>Open</th>\n",
       "      <th>High</th>\n",
       "      <th>Low</th>\n",
       "      <th>Close</th>\n",
       "      <th>Adj Close</th>\n",
       "      <th>Volume</th>\n",
       "      <th>date</th>\n",
       "    </tr>\n",
       "  </thead>\n",
       "  <tbody>\n",
       "    <tr>\n",
       "      <th>0</th>\n",
       "      <td>2014-03-20</td>\n",
       "      <td>68.010002</td>\n",
       "      <td>68.230003</td>\n",
       "      <td>66.820000</td>\n",
       "      <td>66.970001</td>\n",
       "      <td>66.970001</td>\n",
       "      <td>44439000</td>\n",
       "      <td>2014-03-20</td>\n",
       "    </tr>\n",
       "    <tr>\n",
       "      <th>1</th>\n",
       "      <td>2014-03-21</td>\n",
       "      <td>67.529999</td>\n",
       "      <td>67.919998</td>\n",
       "      <td>66.180000</td>\n",
       "      <td>67.239998</td>\n",
       "      <td>67.239998</td>\n",
       "      <td>59999900</td>\n",
       "      <td>2014-03-21</td>\n",
       "    </tr>\n",
       "    <tr>\n",
       "      <th>2</th>\n",
       "      <td>2014-03-24</td>\n",
       "      <td>67.190002</td>\n",
       "      <td>67.360001</td>\n",
       "      <td>63.360001</td>\n",
       "      <td>64.099998</td>\n",
       "      <td>64.099998</td>\n",
       "      <td>85696000</td>\n",
       "      <td>2014-03-24</td>\n",
       "    </tr>\n",
       "    <tr>\n",
       "      <th>3</th>\n",
       "      <td>2014-03-25</td>\n",
       "      <td>64.889999</td>\n",
       "      <td>66.190002</td>\n",
       "      <td>63.779999</td>\n",
       "      <td>64.889999</td>\n",
       "      <td>64.889999</td>\n",
       "      <td>68786000</td>\n",
       "      <td>2014-03-25</td>\n",
       "    </tr>\n",
       "    <tr>\n",
       "      <th>4</th>\n",
       "      <td>2014-03-26</td>\n",
       "      <td>64.739998</td>\n",
       "      <td>64.949997</td>\n",
       "      <td>60.369999</td>\n",
       "      <td>60.389999</td>\n",
       "      <td>60.389999</td>\n",
       "      <td>97503900</td>\n",
       "      <td>2014-03-26</td>\n",
       "    </tr>\n",
       "  </tbody>\n",
       "</table>\n",
       "</div>"
      ],
      "text/plain": [
       "         Date       Open       High        Low      Close  Adj Close  \\\n",
       "0  2014-03-20  68.010002  68.230003  66.820000  66.970001  66.970001   \n",
       "1  2014-03-21  67.529999  67.919998  66.180000  67.239998  67.239998   \n",
       "2  2014-03-24  67.190002  67.360001  63.360001  64.099998  64.099998   \n",
       "3  2014-03-25  64.889999  66.190002  63.779999  64.889999  64.889999   \n",
       "4  2014-03-26  64.739998  64.949997  60.369999  60.389999  60.389999   \n",
       "\n",
       "     Volume       date  \n",
       "0  44439000 2014-03-20  \n",
       "1  59999900 2014-03-21  \n",
       "2  85696000 2014-03-24  \n",
       "3  68786000 2014-03-25  \n",
       "4  97503900 2014-03-26  "
      ]
     },
     "execution_count": 22,
     "metadata": {},
     "output_type": "execute_result"
    }
   ],
   "source": [
    "fb3.head()"
   ]
  },
  {
   "cell_type": "markdown",
   "metadata": {
    "colab_type": "text",
    "id": "uPH8yd4q2sVt"
   },
   "source": [
    "\n",
    "\n",
    "---\n",
    "\n"
   ]
  },
  {
   "cell_type": "code",
   "execution_count": 23,
   "metadata": {
    "colab": {},
    "colab_type": "code",
    "id": "nSRHHF8sxMBL"
   },
   "outputs": [
    {
     "data": {
      "text/html": [
       "<div>\n",
       "<style scoped>\n",
       "    .dataframe tbody tr th:only-of-type {\n",
       "        vertical-align: middle;\n",
       "    }\n",
       "\n",
       "    .dataframe tbody tr th {\n",
       "        vertical-align: top;\n",
       "    }\n",
       "\n",
       "    .dataframe thead th {\n",
       "        text-align: right;\n",
       "    }\n",
       "</style>\n",
       "<table border=\"1\" class=\"dataframe\">\n",
       "  <thead>\n",
       "    <tr style=\"text-align: right;\">\n",
       "      <th></th>\n",
       "      <th>a</th>\n",
       "      <th>b</th>\n",
       "      <th>c</th>\n",
       "    </tr>\n",
       "  </thead>\n",
       "  <tbody>\n",
       "    <tr>\n",
       "      <th>0</th>\n",
       "      <td>01/01/2019</td>\n",
       "      <td>Tuesday Jan 1, 19</td>\n",
       "      <td>2019-03-20 18:30:25</td>\n",
       "    </tr>\n",
       "  </tbody>\n",
       "</table>\n",
       "</div>"
      ],
      "text/plain": [
       "            a                  b                    c\n",
       "0  01/01/2019  Tuesday Jan 1, 19  2019-03-20 18:30:25"
      ]
     },
     "execution_count": 23,
     "metadata": {},
     "output_type": "execute_result"
    }
   ],
   "source": [
    "# we can do this with other date formats\n",
    "tmp_data = {'a':['01/01/2019'], 'b':['Tuesday Jan 1, 19'], 'c':['2019-03-20 18:30:25']}\n",
    "more_parsing = pd.DataFrame(tmp_data)\n",
    "more_parsing"
   ]
  },
  {
   "cell_type": "code",
   "execution_count": 24,
   "metadata": {
    "colab": {},
    "colab_type": "code",
    "id": "rseFY2GzxMVY"
   },
   "outputs": [
    {
     "data": {
      "text/html": [
       "<div>\n",
       "<style scoped>\n",
       "    .dataframe tbody tr th:only-of-type {\n",
       "        vertical-align: middle;\n",
       "    }\n",
       "\n",
       "    .dataframe tbody tr th {\n",
       "        vertical-align: top;\n",
       "    }\n",
       "\n",
       "    .dataframe thead th {\n",
       "        text-align: right;\n",
       "    }\n",
       "</style>\n",
       "<table border=\"1\" class=\"dataframe\">\n",
       "  <thead>\n",
       "    <tr style=\"text-align: right;\">\n",
       "      <th></th>\n",
       "      <th>a</th>\n",
       "      <th>b</th>\n",
       "      <th>c</th>\n",
       "      <th>dmy</th>\n",
       "    </tr>\n",
       "  </thead>\n",
       "  <tbody>\n",
       "    <tr>\n",
       "      <th>0</th>\n",
       "      <td>01/01/2019</td>\n",
       "      <td>Tuesday Jan 1, 19</td>\n",
       "      <td>2019-03-20 18:30:25</td>\n",
       "      <td>2019-01-01</td>\n",
       "    </tr>\n",
       "  </tbody>\n",
       "</table>\n",
       "</div>"
      ],
      "text/plain": [
       "            a                  b                    c        dmy\n",
       "0  01/01/2019  Tuesday Jan 1, 19  2019-03-20 18:30:25 2019-01-01"
      ]
     },
     "execution_count": 24,
     "metadata": {},
     "output_type": "execute_result"
    }
   ],
   "source": [
    "# different ways to parse\n",
    "more_parsing[\"dmy\"] = pd.to_datetime(more_parsing['a'], format=\"%d/%m/%Y\")\n",
    "more_parsing"
   ]
  },
  {
   "cell_type": "code",
   "execution_count": 25,
   "metadata": {
    "colab": {},
    "colab_type": "code",
    "id": "l_ng3abbxMZ-"
   },
   "outputs": [
    {
     "data": {
      "text/html": [
       "<div>\n",
       "<style scoped>\n",
       "    .dataframe tbody tr th:only-of-type {\n",
       "        vertical-align: middle;\n",
       "    }\n",
       "\n",
       "    .dataframe tbody tr th {\n",
       "        vertical-align: top;\n",
       "    }\n",
       "\n",
       "    .dataframe thead th {\n",
       "        text-align: right;\n",
       "    }\n",
       "</style>\n",
       "<table border=\"1\" class=\"dataframe\">\n",
       "  <thead>\n",
       "    <tr style=\"text-align: right;\">\n",
       "      <th></th>\n",
       "      <th>a</th>\n",
       "      <th>b</th>\n",
       "      <th>c</th>\n",
       "      <th>dmy</th>\n",
       "      <th>mdy</th>\n",
       "    </tr>\n",
       "  </thead>\n",
       "  <tbody>\n",
       "    <tr>\n",
       "      <th>0</th>\n",
       "      <td>01/01/2019</td>\n",
       "      <td>Tuesday Jan 1, 19</td>\n",
       "      <td>2019-03-20 18:30:25</td>\n",
       "      <td>2019-01-01</td>\n",
       "      <td>2019-01-01</td>\n",
       "    </tr>\n",
       "  </tbody>\n",
       "</table>\n",
       "</div>"
      ],
      "text/plain": [
       "            a                  b                    c        dmy        mdy\n",
       "0  01/01/2019  Tuesday Jan 1, 19  2019-03-20 18:30:25 2019-01-01 2019-01-01"
      ]
     },
     "execution_count": 25,
     "metadata": {},
     "output_type": "execute_result"
    }
   ],
   "source": [
    "# mdy\n",
    "more_parsing[\"mdy\"] = pd.to_datetime(more_parsing['a'], format=\"%m/%d/%Y\")\n",
    "more_parsing"
   ]
  },
  {
   "cell_type": "code",
   "execution_count": 26,
   "metadata": {
    "colab": {},
    "colab_type": "code",
    "id": "ps-oj9hqxMdp"
   },
   "outputs": [
    {
     "data": {
      "text/html": [
       "<div>\n",
       "<style scoped>\n",
       "    .dataframe tbody tr th:only-of-type {\n",
       "        vertical-align: middle;\n",
       "    }\n",
       "\n",
       "    .dataframe tbody tr th {\n",
       "        vertical-align: top;\n",
       "    }\n",
       "\n",
       "    .dataframe thead th {\n",
       "        text-align: right;\n",
       "    }\n",
       "</style>\n",
       "<table border=\"1\" class=\"dataframe\">\n",
       "  <thead>\n",
       "    <tr style=\"text-align: right;\">\n",
       "      <th></th>\n",
       "      <th>a</th>\n",
       "      <th>b</th>\n",
       "      <th>c</th>\n",
       "      <th>dmy</th>\n",
       "      <th>mdy</th>\n",
       "      <th>parsed</th>\n",
       "    </tr>\n",
       "  </thead>\n",
       "  <tbody>\n",
       "    <tr>\n",
       "      <th>0</th>\n",
       "      <td>01/01/2019</td>\n",
       "      <td>Tuesday Jan 1, 19</td>\n",
       "      <td>2019-03-20 18:30:25</td>\n",
       "      <td>2019-01-01</td>\n",
       "      <td>2019-01-01</td>\n",
       "      <td>2019-01-01</td>\n",
       "    </tr>\n",
       "  </tbody>\n",
       "</table>\n",
       "</div>"
      ],
      "text/plain": [
       "            a                  b                    c        dmy        mdy  \\\n",
       "0  01/01/2019  Tuesday Jan 1, 19  2019-03-20 18:30:25 2019-01-01 2019-01-01   \n",
       "\n",
       "      parsed  \n",
       "0 2019-01-01  "
      ]
     },
     "execution_count": 26,
     "metadata": {},
     "output_type": "execute_result"
    }
   ],
   "source": [
    "\n",
    "# more detailed parsing\n",
    "more_parsing['parsed'] = pd.to_datetime(more_parsing['b'], format=\"%A %b %d, %y\")\n",
    "more_parsing"
   ]
  },
  {
   "cell_type": "code",
   "execution_count": 27,
   "metadata": {
    "colab": {},
    "colab_type": "code",
    "id": "k4wXuCV-xMgg"
   },
   "outputs": [
    {
     "data": {
      "text/html": [
       "<div>\n",
       "<style scoped>\n",
       "    .dataframe tbody tr th:only-of-type {\n",
       "        vertical-align: middle;\n",
       "    }\n",
       "\n",
       "    .dataframe tbody tr th {\n",
       "        vertical-align: top;\n",
       "    }\n",
       "\n",
       "    .dataframe thead th {\n",
       "        text-align: right;\n",
       "    }\n",
       "</style>\n",
       "<table border=\"1\" class=\"dataframe\">\n",
       "  <thead>\n",
       "    <tr style=\"text-align: right;\">\n",
       "      <th></th>\n",
       "      <th>a</th>\n",
       "      <th>b</th>\n",
       "      <th>c</th>\n",
       "      <th>dmy</th>\n",
       "      <th>mdy</th>\n",
       "      <th>parsed</th>\n",
       "      <th>datetime</th>\n",
       "    </tr>\n",
       "  </thead>\n",
       "  <tbody>\n",
       "    <tr>\n",
       "      <th>0</th>\n",
       "      <td>01/01/2019</td>\n",
       "      <td>Tuesday Jan 1, 19</td>\n",
       "      <td>2019-03-20 18:30:25</td>\n",
       "      <td>2019-01-01</td>\n",
       "      <td>2019-01-01</td>\n",
       "      <td>2019-01-01</td>\n",
       "      <td>2019-03-20 18:30:25</td>\n",
       "    </tr>\n",
       "  </tbody>\n",
       "</table>\n",
       "</div>"
      ],
      "text/plain": [
       "            a                  b                    c        dmy        mdy  \\\n",
       "0  01/01/2019  Tuesday Jan 1, 19  2019-03-20 18:30:25 2019-01-01 2019-01-01   \n",
       "\n",
       "      parsed            datetime  \n",
       "0 2019-01-01 2019-03-20 18:30:25  "
      ]
     },
     "execution_count": 27,
     "metadata": {},
     "output_type": "execute_result"
    }
   ],
   "source": [
    "# finally, its not just dates, but dates and times\n",
    "more_parsing['datetime'] = pd.to_datetime(more_parsing['c'], format=\"%Y-%m-%d %H:%M:%S\")\n",
    "more_parsing"
   ]
  },
  {
   "cell_type": "code",
   "execution_count": 28,
   "metadata": {
    "colab": {},
    "colab_type": "code",
    "id": "BibKPhwF08JR"
   },
   "outputs": [
    {
     "data": {
      "text/plain": [
       "a                   object\n",
       "b                   object\n",
       "c                   object\n",
       "dmy         datetime64[ns]\n",
       "mdy         datetime64[ns]\n",
       "parsed      datetime64[ns]\n",
       "datetime    datetime64[ns]\n",
       "dtype: object"
      ]
     },
     "execution_count": 28,
     "metadata": {},
     "output_type": "execute_result"
    }
   ],
   "source": [
    "more_parsing.dtypes"
   ]
  },
  {
   "cell_type": "markdown",
   "metadata": {
    "colab_type": "text",
    "id": "bExxl_CPt1PV"
   },
   "source": [
    "# Extract Components of the Date/time"
   ]
  },
  {
   "cell_type": "code",
   "execution_count": 29,
   "metadata": {
    "colab": {},
    "colab_type": "code",
    "id": "JaKCT8Sard0N"
   },
   "outputs": [
    {
     "data": {
      "text/html": [
       "<div>\n",
       "<style scoped>\n",
       "    .dataframe tbody tr th:only-of-type {\n",
       "        vertical-align: middle;\n",
       "    }\n",
       "\n",
       "    .dataframe tbody tr th {\n",
       "        vertical-align: top;\n",
       "    }\n",
       "\n",
       "    .dataframe thead th {\n",
       "        text-align: right;\n",
       "    }\n",
       "</style>\n",
       "<table border=\"1\" class=\"dataframe\">\n",
       "  <thead>\n",
       "    <tr style=\"text-align: right;\">\n",
       "      <th></th>\n",
       "      <th>Date</th>\n",
       "      <th>Value</th>\n",
       "    </tr>\n",
       "  </thead>\n",
       "  <tbody>\n",
       "    <tr>\n",
       "      <th>0</th>\n",
       "      <td>2019-01-01</td>\n",
       "      <td>6</td>\n",
       "    </tr>\n",
       "    <tr>\n",
       "      <th>1</th>\n",
       "      <td>2019-01-02</td>\n",
       "      <td>4</td>\n",
       "    </tr>\n",
       "    <tr>\n",
       "      <th>2</th>\n",
       "      <td>2019-01-03</td>\n",
       "      <td>-4</td>\n",
       "    </tr>\n",
       "    <tr>\n",
       "      <th>3</th>\n",
       "      <td>2019-01-04</td>\n",
       "      <td>7</td>\n",
       "    </tr>\n",
       "    <tr>\n",
       "      <th>4</th>\n",
       "      <td>2019-01-05</td>\n",
       "      <td>1</td>\n",
       "    </tr>\n",
       "  </tbody>\n",
       "</table>\n",
       "</div>"
      ],
      "text/plain": [
       "        Date  Value\n",
       "0 2019-01-01      6\n",
       "1 2019-01-02      4\n",
       "2 2019-01-03     -4\n",
       "3 2019-01-04      7\n",
       "4 2019-01-05      1"
      ]
     },
     "execution_count": 29,
     "metadata": {},
     "output_type": "execute_result"
    }
   ],
   "source": [
    "# use the df dataframe\n",
    "df.head()"
   ]
  },
  {
   "cell_type": "code",
   "execution_count": 30,
   "metadata": {
    "colab": {},
    "colab_type": "code",
    "id": "1wrJPrYFtecr"
   },
   "outputs": [
    {
     "data": {
      "text/html": [
       "<div>\n",
       "<style scoped>\n",
       "    .dataframe tbody tr th:only-of-type {\n",
       "        vertical-align: middle;\n",
       "    }\n",
       "\n",
       "    .dataframe tbody tr th {\n",
       "        vertical-align: top;\n",
       "    }\n",
       "\n",
       "    .dataframe thead th {\n",
       "        text-align: right;\n",
       "    }\n",
       "</style>\n",
       "<table border=\"1\" class=\"dataframe\">\n",
       "  <thead>\n",
       "    <tr style=\"text-align: right;\">\n",
       "      <th></th>\n",
       "      <th>Date</th>\n",
       "      <th>Value</th>\n",
       "      <th>day</th>\n",
       "    </tr>\n",
       "  </thead>\n",
       "  <tbody>\n",
       "    <tr>\n",
       "      <th>0</th>\n",
       "      <td>2019-01-01</td>\n",
       "      <td>6</td>\n",
       "      <td>1</td>\n",
       "    </tr>\n",
       "    <tr>\n",
       "      <th>1</th>\n",
       "      <td>2019-01-02</td>\n",
       "      <td>4</td>\n",
       "      <td>2</td>\n",
       "    </tr>\n",
       "    <tr>\n",
       "      <th>2</th>\n",
       "      <td>2019-01-03</td>\n",
       "      <td>-4</td>\n",
       "      <td>3</td>\n",
       "    </tr>\n",
       "    <tr>\n",
       "      <th>3</th>\n",
       "      <td>2019-01-04</td>\n",
       "      <td>7</td>\n",
       "      <td>4</td>\n",
       "    </tr>\n",
       "    <tr>\n",
       "      <th>4</th>\n",
       "      <td>2019-01-05</td>\n",
       "      <td>1</td>\n",
       "      <td>5</td>\n",
       "    </tr>\n",
       "  </tbody>\n",
       "</table>\n",
       "</div>"
      ],
      "text/plain": [
       "        Date  Value  day\n",
       "0 2019-01-01      6    1\n",
       "1 2019-01-02      4    2\n",
       "2 2019-01-03     -4    3\n",
       "3 2019-01-04      7    4\n",
       "4 2019-01-05      1    5"
      ]
     },
     "execution_count": 30,
     "metadata": {},
     "output_type": "execute_result"
    }
   ],
   "source": [
    "# extract out the day value\n",
    "df['day'] = df['Date'].dt.day\n",
    "df.head()"
   ]
  },
  {
   "cell_type": "code",
   "execution_count": 0,
   "metadata": {
    "colab": {},
    "colab_type": "code",
    "id": "FjDyqAjltkS9"
   },
   "outputs": [],
   "source": [
    "# extact out the month and year\n",
    "df['month'] = df['Date'].dt.month\n",
    "df['year'] = df['Date'].dt.year\n",
    "df.tail()"
   ]
  },
  {
   "cell_type": "code",
   "execution_count": 0,
   "metadata": {
    "colab": {},
    "colab_type": "code",
    "id": "kF2DbI1Bz-Nj"
   },
   "outputs": [],
   "source": [
    "# even parse out times -- use more_parsing from above\n",
    "more_parsing['hour'] = more_parsing['datetime'].dt.hour\n",
    "more_parsing\n",
    "                             "
   ]
  },
  {
   "cell_type": "code",
   "execution_count": 0,
   "metadata": {
    "colab": {},
    "colab_type": "code",
    "id": "CEp_6jFx1QHD"
   },
   "outputs": [],
   "source": [
    "# to round on the parsing\n",
    "more_parsing['minute'] = more_parsing['datetime'].dt.minute\n",
    "more_parsing['second'] = more_parsing['datetime'].dt.second\n",
    "more_parsing\n",
    "                 "
   ]
  },
  {
   "cell_type": "code",
   "execution_count": 0,
   "metadata": {
    "colab": {},
    "colab_type": "code",
    "id": "vtda25dT2ojp"
   },
   "outputs": [],
   "source": []
  }
 ],
 "metadata": {
  "colab": {
   "collapsed_sections": [],
   "name": "18-Dates.ipynb",
   "private_outputs": true,
   "provenance": [],
   "version": "0.3.2"
  },
  "kernelspec": {
   "display_name": "Python 3",
   "language": "python",
   "name": "python3"
  },
  "language_info": {
   "codemirror_mode": {
    "name": "ipython",
    "version": 3
   },
   "file_extension": ".py",
   "mimetype": "text/x-python",
   "name": "python",
   "nbconvert_exporter": "python",
   "pygments_lexer": "ipython3",
   "version": "3.7.2"
  }
 },
 "nbformat": 4,
 "nbformat_minor": 1
}
