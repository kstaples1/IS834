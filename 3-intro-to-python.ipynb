{
 "cells": [
  {
   "cell_type": "markdown",
   "metadata": {
    "id": "z3mxmQqfMu5_",
    "colab_type": "text"
   },
   "source": [
    "# Overview\n",
    "\n",
    "Now we will start to dive into coding in Python for business analytics\n",
    "\n",
    "\n",
    "\n"
   ]
  },
  {
   "cell_type": "markdown",
   "metadata": {
    "id": "g7iYuEzGCOAO",
    "colab_type": "text"
   },
   "source": [
    "![breakthings](https://cdn-images-1.medium.com/max/1200/1*5nE6uSaNQRLD5xgouhop3Q.jpeg)"
   ]
  },
  {
   "cell_type": "markdown",
   "metadata": {
    "id": "sgCCEee2NGxA",
    "colab_type": "text"
   },
   "source": [
    "## Quick Discussion\n",
    "\n",
    "`Programming in Python`\n",
    "\n",
    "vs\n",
    "\n",
    "`Analyzing data in Python`"
   ]
  },
  {
   "cell_type": "markdown",
   "metadata": {
    "id": "E-aVxi5u40Xz",
    "colab_type": "text"
   },
   "source": [
    "# Hello World"
   ]
  },
  {
   "cell_type": "code",
   "execution_count": 0,
   "metadata": {
    "id": "slT0sRvL411X",
    "colab_type": "code",
    "colab": {}
   },
   "outputs": [],
   "source": [
    ""
   ]
  },
  {
   "cell_type": "markdown",
   "metadata": {
    "id": "7JUMbNv49IfD",
    "colab_type": "text"
   },
   "source": [
    "## Adding comments to help your future self"
   ]
  },
  {
   "cell_type": "code",
   "execution_count": 0,
   "metadata": {
    "id": "GWoJ6GXG9HqY",
    "colab_type": "code",
    "colab": {}
   },
   "outputs": [],
   "source": [
    ""
   ]
  },
  {
   "cell_type": "markdown",
   "metadata": {
    "id": "AHmSfCwFNPrx",
    "colab_type": "text"
   },
   "source": [
    "# Python as a (robust) calculator"
   ]
  },
  {
   "cell_type": "markdown",
   "metadata": {
    "id": "mPL4VopBNQ64",
    "colab_type": "text"
   },
   "source": [
    "![calculator](https://upload.wikimedia.org/wikipedia/commons/3/3f/TI-82_CS.jpg)"
   ]
  },
  {
   "cell_type": "markdown",
   "metadata": {
    "id": "qkYNhyqJNrH1",
    "colab_type": "text"
   },
   "source": [
    "## Basic Math\n",
    "\n",
    "- +\n",
    "- -\n",
    "- /\n",
    "- *\n",
    "- ** (exponent)\n",
    "- % (modulo)"
   ]
  },
  {
   "cell_type": "code",
   "execution_count": 0,
   "metadata": {
    "id": "M1PzuWYLft4e",
    "colab_type": "code",
    "colab": {}
   },
   "outputs": [],
   "source": [
    ""
   ]
  },
  {
   "cell_type": "markdown",
   "metadata": {
    "id": "oqTutAYRkE1s",
    "colab_type": "text"
   },
   "source": [
    "###  Math Library/Package"
   ]
  },
  {
   "cell_type": "code",
   "execution_count": 0,
   "metadata": {
    "id": "QCN7GT-KkH8o",
    "colab_type": "code",
    "colab": {}
   },
   "outputs": [],
   "source": [
    ""
   ]
  },
  {
   "cell_type": "code",
   "execution_count": 0,
   "metadata": {
    "id": "Mu8fqibI5Ef2",
    "colab_type": "code",
    "colab": {}
   },
   "outputs": [],
   "source": [
    ""
   ]
  },
  {
   "cell_type": "markdown",
   "metadata": {
    "id": "ki3BYYVb5OHt",
    "colab_type": "text"
   },
   "source": [
    "> Once a package or object is loaded into memory, we can do **`object.<tab>`** to see the available \"options\" available to be applied or used.  \n",
    "\n",
    "> The \"options\"  are technically methods, or functions/transformations that can be output or applied to another object of data.  This will make sense later, but the big thing is that you don't have to always guess.  Using `object.<tab>` will bring up what you have available.  \n",
    "\n",
    "I will show how to get additional help in a minute."
   ]
  },
  {
   "cell_type": "markdown",
   "metadata": {
    "id": "SWStIoTvhp-n",
    "colab_type": "text"
   },
   "source": [
    "### Getting Help"
   ]
  },
  {
   "cell_type": "code",
   "execution_count": 0,
   "metadata": {
    "id": "BlkzSA7L8nQ4",
    "colab_type": "code",
    "colab": {}
   },
   "outputs": [],
   "source": [
    ""
   ]
  },
  {
   "cell_type": "markdown",
   "metadata": {
    "id": "1LOj-4A0_W2h",
    "colab_type": "text"
   },
   "source": [
    "### Quick Exercise\n",
    "\n",
    "What is the difference between the # of days in the year (e.g. 365) and 5 factorial, squared, +1\n",
    "\n",
    "> Hint: The answer is -14306"
   ]
  },
  {
   "cell_type": "code",
   "execution_count": 0,
   "metadata": {
    "id": "5jXBX7SzAVRK",
    "colab_type": "code",
    "colab": {}
   },
   "outputs": [],
   "source": [
    "## work through your answer here:\n"
   ]
  },
  {
   "cell_type": "markdown",
   "metadata": {
    "id": "W2k9zb18ftx_",
    "colab_type": "text"
   },
   "source": [
    "## Variables and Comparison"
   ]
  },
  {
   "cell_type": "markdown",
   "metadata": {
    "id": "GGaLIUh3gvuP",
    "colab_type": "text"
   },
   "source": [
    "### Variable Assignment "
   ]
  },
  {
   "cell_type": "code",
   "execution_count": 0,
   "metadata": {
    "id": "XU5DYntQhCTS",
    "colab_type": "code",
    "colab": {}
   },
   "outputs": [],
   "source": [
    ""
   ]
  },
  {
   "cell_type": "markdown",
   "metadata": {
    "id": "ZcV_XOV9kgYv",
    "colab_type": "text"
   },
   "source": [
    "### Inspection"
   ]
  },
  {
   "cell_type": "code",
   "execution_count": 0,
   "metadata": {
    "id": "RZqCD3XckjIW",
    "colab_type": "code",
    "colab": {}
   },
   "outputs": [],
   "source": [
    "# type"
   ]
  },
  {
   "cell_type": "code",
   "execution_count": 0,
   "metadata": {
    "id": "NJFAmSnMBB12",
    "colab_type": "code",
    "colab": {}
   },
   "outputs": [],
   "source": [
    "# help v1 - ?\n"
   ]
  },
  {
   "cell_type": "code",
   "execution_count": 0,
   "metadata": {
    "id": "XtjJmdgpA_k_",
    "colab_type": "code",
    "colab": {}
   },
   "outputs": [],
   "source": [
    "# help v2 - help\n"
   ]
  },
  {
   "cell_type": "markdown",
   "metadata": {
    "id": "_09ogdHIg4c4",
    "colab_type": "text"
   },
   "source": [
    "###  Comparison Operators"
   ]
  },
  {
   "cell_type": "markdown",
   "metadata": {
    "id": "J04qBybthFNN",
    "colab_type": "text"
   },
   "source": [
    "![comparison](https://cdn.instructables.com/FLG/7GVR/J7GGIOCQ/FLG7GVRJ7GGIOCQ.LARGE.jpg)"
   ]
  },
  {
   "cell_type": "code",
   "execution_count": 0,
   "metadata": {
    "id": "OTcWSADWhJsp",
    "colab_type": "code",
    "colab": {}
   },
   "outputs": [],
   "source": [
    ""
   ]
  },
  {
   "cell_type": "markdown",
   "metadata": {
    "id": "h3uNj9HxifPu",
    "colab_type": "text"
   },
   "source": [
    "## Deleting objects"
   ]
  },
  {
   "cell_type": "markdown",
   "metadata": {
    "id": "V5csDebjftoK",
    "colab_type": "text"
   },
   "source": [
    "## Different Data Types\n",
    "\n"
   ]
  },
  {
   "cell_type": "markdown",
   "metadata": {
    "id": "EbMIpEteftbM",
    "colab_type": "text"
   },
   "source": [
    "### Integers and Floats"
   ]
  },
  {
   "cell_type": "code",
   "execution_count": 0,
   "metadata": {
    "id": "Ik39I-HChLQr",
    "colab_type": "code",
    "colab": {}
   },
   "outputs": [],
   "source": [
    ""
   ]
  },
  {
   "cell_type": "code",
   "execution_count": 0,
   "metadata": {
    "id": "ROsuFGhiGMaN",
    "colab_type": "code",
    "colab": {}
   },
   "outputs": [],
   "source": [
    "# integer to string"
   ]
  },
  {
   "cell_type": "markdown",
   "metadata": {
    "id": "1bLeeAVNftU0",
    "colab_type": "text"
   },
   "source": [
    "### Strings"
   ]
  },
  {
   "cell_type": "code",
   "execution_count": 0,
   "metadata": {
    "id": "b2YAkClHhLyi",
    "colab_type": "code",
    "colab": {}
   },
   "outputs": [],
   "source": [
    ""
   ]
  },
  {
   "cell_type": "code",
   "execution_count": 0,
   "metadata": {
    "id": "Pax8een-kvap",
    "colab_type": "code",
    "colab": {}
   },
   "outputs": [],
   "source": [
    "## length"
   ]
  },
  {
   "cell_type": "code",
   "execution_count": 0,
   "metadata": {
    "id": "LLsaOQLNkvyv",
    "colab_type": "code",
    "colab": {}
   },
   "outputs": [],
   "source": [
    "## methods to the string (length, upper, lower)"
   ]
  },
  {
   "cell_type": "code",
   "execution_count": 0,
   "metadata": {
    "id": "84fL-uBWGHmQ",
    "colab_type": "code",
    "colab": {}
   },
   "outputs": [],
   "source": [
    "# string number to int"
   ]
  },
  {
   "cell_type": "code",
   "execution_count": 0,
   "metadata": {
    "id": "lnIgRg71kv-s",
    "colab_type": "code",
    "colab": {}
   },
   "outputs": [],
   "source": [
    "## paste"
   ]
  },
  {
   "cell_type": "code",
   "execution_count": 0,
   "metadata": {
    "id": "UYxNCj9GaIJj",
    "colab_type": "code",
    "colab": {}
   },
   "outputs": [],
   "source": [
    "## string formatting\n"
   ]
  },
  {
   "cell_type": "markdown",
   "metadata": {
    "id": "WYOTauJSaZVr",
    "colab_type": "text"
   },
   "source": [
    "### Exercise: Hello World Part 2\n",
    "\n",
    "Below:\n",
    "\n",
    "1.  create a variable called **`myname`** to store your name\n",
    "2.  create a variable called **`hw`** to generate a string that says Hello, my name is **`<your name here>`**! where **`<your name here>`** is the value of **`myname`** \n",
    "3.  print the variable **`hw`**"
   ]
  },
  {
   "cell_type": "markdown",
   "metadata": {
    "id": "pbb06lcUlLI_",
    "colab_type": "text"
   },
   "source": [
    "#### Case Sensitivity of strings"
   ]
  },
  {
   "cell_type": "code",
   "execution_count": 0,
   "metadata": {
    "id": "rX2O67C1lNlf",
    "colab_type": "code",
    "colab": {}
   },
   "outputs": [],
   "source": [
    ""
   ]
  },
  {
   "cell_type": "markdown",
   "metadata": {
    "id": "ffl4EbZeftM8",
    "colab_type": "text"
   },
   "source": [
    "### Booleans\n"
   ]
  },
  {
   "cell_type": "code",
   "execution_count": 0,
   "metadata": {
    "id": "AGtlQke7hMU4",
    "colab_type": "code",
    "colab": {}
   },
   "outputs": [],
   "source": [
    ""
   ]
  },
  {
   "cell_type": "markdown",
   "metadata": {
    "id": "oWBXna-3h0Yc",
    "colab_type": "text"
   },
   "source": [
    "# Lists and Tuples"
   ]
  },
  {
   "cell_type": "markdown",
   "metadata": {
    "id": "W8IIrQYyh8fM",
    "colab_type": "text"
   },
   "source": [
    "Main difference is immutability.  \n",
    "\n",
    "Lists are more \"common\" for some of our data tasks\n",
    "\n",
    "Will show mixed types in both"
   ]
  },
  {
   "cell_type": "markdown",
   "metadata": {
    "id": "0NbHxCxhh-d7",
    "colab_type": "text"
   },
   "source": [
    "## Tuples"
   ]
  },
  {
   "cell_type": "code",
   "execution_count": 0,
   "metadata": {
    "id": "wCNKjyGMiCxl",
    "colab_type": "code",
    "colab": {}
   },
   "outputs": [],
   "source": [
    ""
   ]
  },
  {
   "cell_type": "code",
   "execution_count": 0,
   "metadata": {
    "id": "OqEqEg8yDqJu",
    "colab_type": "code",
    "colab": {}
   },
   "outputs": [],
   "source": [
    "# simple list, look at methods\n",
    "x = 1,2,3\n",
    "y = (4,5,\"A\",5)\n",
    "\n",
    "# show the types\n",
    "\n",
    "\n",
    "# count instances of something\n"
   ]
  },
  {
   "cell_type": "markdown",
   "metadata": {
    "id": "UHbMJAHLjD4w",
    "colab_type": "text"
   },
   "source": [
    "### Immutable\n",
    "\n",
    " means can't be edited"
   ]
  },
  {
   "cell_type": "code",
   "execution_count": 0,
   "metadata": {
    "id": "HWLcMiW0jJSV",
    "colab_type": "code",
    "colab": {}
   },
   "outputs": [],
   "source": [
    "# replace inline"
   ]
  },
  {
   "cell_type": "markdown",
   "metadata": {
    "id": "LlNbu2Pzi_tX",
    "colab_type": "text"
   },
   "source": [
    "\n",
    "## Lists"
   ]
  },
  {
   "cell_type": "code",
   "execution_count": 0,
   "metadata": {
    "id": "RTW-cgO-jLLP",
    "colab_type": "code",
    "colab": {}
   },
   "outputs": [],
   "source": [
    ""
   ]
  },
  {
   "cell_type": "markdown",
   "metadata": {
    "id": "YLY4LvyjjzLW",
    "colab_type": "text"
   },
   "source": [
    "### Lists of Lists"
   ]
  },
  {
   "cell_type": "markdown",
   "metadata": {
    "id": "0p1uj9RwjLn5",
    "colab_type": "text"
   },
   "source": [
    "## Slicing"
   ]
  },
  {
   "cell_type": "markdown",
   "metadata": {
    "id": "_1ZjbtKljOf8",
    "colab_type": "text"
   },
   "source": [
    "![slicing](https://files.realpython.com/media/t.c11ea56e8ca2.png)"
   ]
  },
  {
   "cell_type": "markdown",
   "metadata": {
    "id": "P4OSh83LjwNV",
    "colab_type": "text"
   },
   "source": [
    "# Non-Graded Questions on Questrom Tools\n",
    "\n",
    "I placed a non-graded set of questions to help with the fundamentals above.  Good luck!"
   ]
  }
 ],
 "metadata": {
  "colab": {
   "name": "3-intro-to-python.ipynb",
   "version": "0.3.2",
   "provenance": [],
   "collapsed_sections": [],
   "toc_visible": true
  },
  "kernelspec": {
   "name": "python3",
   "display_name": "Python 3"
  }
 },
 "nbformat": 4,
 "nbformat_minor": 0
}
