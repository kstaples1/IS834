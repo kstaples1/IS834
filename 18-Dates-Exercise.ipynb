{
 "cells": [
  {
   "cell_type": "code",
   "execution_count": 1,
   "metadata": {
    "colab": {},
    "colab_type": "code",
    "id": "K8oMCTDg3-Ys"
   },
   "outputs": [],
   "source": [
    "## Setup your environment\n",
    "import numpy as np\n",
    "import pandas as pd\n",
    "import matplotlib.pyplot as plt\n",
    "import seaborn as sns\n",
    "\n"
   ]
  },
  {
   "cell_type": "code",
   "execution_count": 2,
   "metadata": {
    "colab": {},
    "colab_type": "code",
    "id": "_D3ykAk78J_b"
   },
   "outputs": [],
   "source": [
    "## pandas options for printing the dataframe\n",
    "pd.options.display.max_columns=100"
   ]
  },
  {
   "cell_type": "markdown",
   "metadata": {
    "colab_type": "text",
    "id": "UGApO6Bt7bzr"
   },
   "source": [
    "# Dates Exercise- 1\n",
    "\n",
    "The following exercise is to help reinforce the working with dates in python and dataframes, more specifically."
   ]
  },
  {
   "cell_type": "code",
   "execution_count": 34,
   "metadata": {
    "colab": {},
    "colab_type": "code",
    "id": "ZkrTpe8_7fUx"
   },
   "outputs": [],
   "source": [
    "# read in the landslides file as landslides from the course site - \n",
    "land = pd.read_csv(\"/Users/Kyle_Staples/Documents/GitHub/IS834/datasets/landslides.csv\", parse_dates = [\"date\"])\n"
   ]
  },
  {
   "cell_type": "code",
   "execution_count": 35,
   "metadata": {
    "colab": {},
    "colab_type": "code",
    "id": "DBFUQGKk80Ln"
   },
   "outputs": [
    {
     "data": {
      "text/html": [
       "<div>\n",
       "<style scoped>\n",
       "    .dataframe tbody tr th:only-of-type {\n",
       "        vertical-align: middle;\n",
       "    }\n",
       "\n",
       "    .dataframe tbody tr th {\n",
       "        vertical-align: top;\n",
       "    }\n",
       "\n",
       "    .dataframe thead th {\n",
       "        text-align: right;\n",
       "    }\n",
       "</style>\n",
       "<table border=\"1\" class=\"dataframe\">\n",
       "  <thead>\n",
       "    <tr style=\"text-align: right;\">\n",
       "      <th></th>\n",
       "      <th>id</th>\n",
       "      <th>date</th>\n",
       "      <th>time</th>\n",
       "      <th>continent_code</th>\n",
       "      <th>country_name</th>\n",
       "      <th>country_code</th>\n",
       "      <th>state/province</th>\n",
       "      <th>population</th>\n",
       "      <th>city/town</th>\n",
       "      <th>distance</th>\n",
       "      <th>location_description</th>\n",
       "      <th>latitude</th>\n",
       "      <th>longitude</th>\n",
       "      <th>geolocation</th>\n",
       "      <th>hazard_type</th>\n",
       "      <th>landslide_type</th>\n",
       "      <th>landslide_size</th>\n",
       "      <th>trigger</th>\n",
       "      <th>storm_name</th>\n",
       "      <th>injuries</th>\n",
       "      <th>fatalities</th>\n",
       "      <th>source_name</th>\n",
       "      <th>source_link</th>\n",
       "    </tr>\n",
       "  </thead>\n",
       "  <tbody>\n",
       "    <tr>\n",
       "      <th>1688</th>\n",
       "      <td>7535</td>\n",
       "      <td>2015-12-07</td>\n",
       "      <td>NaN</td>\n",
       "      <td>NaN</td>\n",
       "      <td>United States</td>\n",
       "      <td>US</td>\n",
       "      <td>North Carolina</td>\n",
       "      <td>1646</td>\n",
       "      <td>Tryon</td>\n",
       "      <td>7.80866</td>\n",
       "      <td>Above road</td>\n",
       "      <td>35.2219</td>\n",
       "      <td>-82.3226</td>\n",
       "      <td>(35.221899999999998, -82.322599999999994)</td>\n",
       "      <td>Landslide</td>\n",
       "      <td>Rockfall</td>\n",
       "      <td>Small</td>\n",
       "      <td>NaN</td>\n",
       "      <td>NaN</td>\n",
       "      <td>0.0</td>\n",
       "      <td>0.0</td>\n",
       "      <td>Tryon Daily Bulletin</td>\n",
       "      <td>http://www.tryondailybulletin.com/2016/02/26/u...</td>\n",
       "    </tr>\n",
       "    <tr>\n",
       "      <th>1689</th>\n",
       "      <td>7537</td>\n",
       "      <td>2016-02-22</td>\n",
       "      <td>0:00</td>\n",
       "      <td>NaN</td>\n",
       "      <td>United States</td>\n",
       "      <td>US</td>\n",
       "      <td>West Virginia</td>\n",
       "      <td>51400</td>\n",
       "      <td>Charleston</td>\n",
       "      <td>6.84721</td>\n",
       "      <td>Natural slope</td>\n",
       "      <td>38.3987</td>\n",
       "      <td>-81.5848</td>\n",
       "      <td>(38.398699999999998, -81.584800000000001)</td>\n",
       "      <td>Landslide</td>\n",
       "      <td>Mudslide</td>\n",
       "      <td>Small</td>\n",
       "      <td>Unknown</td>\n",
       "      <td>NaN</td>\n",
       "      <td>0.0</td>\n",
       "      <td>0.0</td>\n",
       "      <td>Charleston Gazette</td>\n",
       "      <td>http://www.wvgazettemail.com/news/20160222/us-...</td>\n",
       "    </tr>\n",
       "    <tr>\n",
       "      <th>1690</th>\n",
       "      <td>7539</td>\n",
       "      <td>2016-02-23</td>\n",
       "      <td>NaN</td>\n",
       "      <td>NaN</td>\n",
       "      <td>United States</td>\n",
       "      <td>US</td>\n",
       "      <td>West Virginia</td>\n",
       "      <td>2406</td>\n",
       "      <td>Welch</td>\n",
       "      <td>14.19735</td>\n",
       "      <td>Above road</td>\n",
       "      <td>37.4096</td>\n",
       "      <td>-81.4268</td>\n",
       "      <td>(37.409599999999998, -81.4268)</td>\n",
       "      <td>Landslide</td>\n",
       "      <td>Landslide</td>\n",
       "      <td>Small</td>\n",
       "      <td>Rain</td>\n",
       "      <td>NaN</td>\n",
       "      <td>0.0</td>\n",
       "      <td>0.0</td>\n",
       "      <td>Bluefield Daily Telegraph</td>\n",
       "      <td>http://www.bdtonline.com/news/officials-cautio...</td>\n",
       "    </tr>\n",
       "    <tr>\n",
       "      <th>1691</th>\n",
       "      <td>7540</td>\n",
       "      <td>2016-02-26</td>\n",
       "      <td>21:06</td>\n",
       "      <td>NaN</td>\n",
       "      <td>United States</td>\n",
       "      <td>US</td>\n",
       "      <td>West Virginia</td>\n",
       "      <td>1048</td>\n",
       "      <td>Athens</td>\n",
       "      <td>12.00678</td>\n",
       "      <td>Above road</td>\n",
       "      <td>37.5011</td>\n",
       "      <td>-81.1093</td>\n",
       "      <td>(37.501100000000001, -81.109300000000005)</td>\n",
       "      <td>Landslide</td>\n",
       "      <td>Rockfall</td>\n",
       "      <td>Small</td>\n",
       "      <td>Unknown</td>\n",
       "      <td>NaN</td>\n",
       "      <td>0.0</td>\n",
       "      <td>0.0</td>\n",
       "      <td>Bluefield Daily Telegraph</td>\n",
       "      <td>http://www.bdtonline.com/news/rockslide-snarls...</td>\n",
       "    </tr>\n",
       "    <tr>\n",
       "      <th>1692</th>\n",
       "      <td>7541</td>\n",
       "      <td>2016-03-02</td>\n",
       "      <td>8:00</td>\n",
       "      <td>NaN</td>\n",
       "      <td>United States</td>\n",
       "      <td>US</td>\n",
       "      <td>Vermont</td>\n",
       "      <td>2066</td>\n",
       "      <td>Windsor</td>\n",
       "      <td>1.78429</td>\n",
       "      <td>Above road</td>\n",
       "      <td>43.4771</td>\n",
       "      <td>-72.4066</td>\n",
       "      <td>(43.4771, -72.406599999999997)</td>\n",
       "      <td>Landslide</td>\n",
       "      <td>Rockfall</td>\n",
       "      <td>Small</td>\n",
       "      <td>Unknown</td>\n",
       "      <td>NaN</td>\n",
       "      <td>0.0</td>\n",
       "      <td>0.0</td>\n",
       "      <td>Valley News</td>\n",
       "      <td>http://www.vnews.com/home/21353539-95/loose-ledge</td>\n",
       "    </tr>\n",
       "  </tbody>\n",
       "</table>\n",
       "</div>"
      ],
      "text/plain": [
       "        id       date   time continent_code   country_name country_code  \\\n",
       "1688  7535 2015-12-07    NaN            NaN  United States           US   \n",
       "1689  7537 2016-02-22   0:00            NaN  United States           US   \n",
       "1690  7539 2016-02-23    NaN            NaN  United States           US   \n",
       "1691  7540 2016-02-26  21:06            NaN  United States           US   \n",
       "1692  7541 2016-03-02   8:00            NaN  United States           US   \n",
       "\n",
       "      state/province  population   city/town  distance location_description  \\\n",
       "1688  North Carolina        1646       Tryon   7.80866           Above road   \n",
       "1689   West Virginia       51400  Charleston   6.84721        Natural slope   \n",
       "1690   West Virginia        2406       Welch  14.19735           Above road   \n",
       "1691   West Virginia        1048      Athens  12.00678           Above road   \n",
       "1692         Vermont        2066     Windsor   1.78429           Above road   \n",
       "\n",
       "      latitude  longitude                                geolocation  \\\n",
       "1688   35.2219   -82.3226  (35.221899999999998, -82.322599999999994)   \n",
       "1689   38.3987   -81.5848  (38.398699999999998, -81.584800000000001)   \n",
       "1690   37.4096   -81.4268             (37.409599999999998, -81.4268)   \n",
       "1691   37.5011   -81.1093  (37.501100000000001, -81.109300000000005)   \n",
       "1692   43.4771   -72.4066             (43.4771, -72.406599999999997)   \n",
       "\n",
       "     hazard_type landslide_type landslide_size  trigger storm_name  injuries  \\\n",
       "1688   Landslide       Rockfall          Small      NaN        NaN       0.0   \n",
       "1689   Landslide       Mudslide          Small  Unknown        NaN       0.0   \n",
       "1690   Landslide      Landslide          Small     Rain        NaN       0.0   \n",
       "1691   Landslide       Rockfall          Small  Unknown        NaN       0.0   \n",
       "1692   Landslide       Rockfall          Small  Unknown        NaN       0.0   \n",
       "\n",
       "      fatalities                source_name  \\\n",
       "1688         0.0       Tryon Daily Bulletin   \n",
       "1689         0.0         Charleston Gazette   \n",
       "1690         0.0  Bluefield Daily Telegraph   \n",
       "1691         0.0  Bluefield Daily Telegraph   \n",
       "1692         0.0                Valley News   \n",
       "\n",
       "                                            source_link  \n",
       "1688  http://www.tryondailybulletin.com/2016/02/26/u...  \n",
       "1689  http://www.wvgazettemail.com/news/20160222/us-...  \n",
       "1690  http://www.bdtonline.com/news/officials-cautio...  \n",
       "1691  http://www.bdtonline.com/news/rockslide-snarls...  \n",
       "1692  http://www.vnews.com/home/21353539-95/loose-ledge  "
      ]
     },
     "execution_count": 35,
     "metadata": {},
     "output_type": "execute_result"
    }
   ],
   "source": [
    "# the tail of the dataset\n",
    "land.tail()"
   ]
  },
  {
   "cell_type": "code",
   "execution_count": 47,
   "metadata": {
    "colab": {},
    "colab_type": "code",
    "id": "dHo7Q3L47fb1"
   },
   "outputs": [],
   "source": [
    "# remove the rows where time is missing (NaN) -- call the dataframe land2\n",
    "land2 = land.dropna(subset=['time'])"
   ]
  },
  {
   "cell_type": "code",
   "execution_count": 55,
   "metadata": {
    "colab": {},
    "colab_type": "code",
    "id": "h2JnecX27fff"
   },
   "outputs": [],
   "source": [
    "# parse the date column as date2 from land2\n"
   ]
  },
  {
   "cell_type": "markdown",
   "metadata": {
    "colab_type": "text",
    "id": "K_tlCH7o3KA_"
   },
   "source": [
    "# Dates Exercise- 2\n",
    "\n",
    "The following exercise is to help reinforce the working with dates in python and dataframes, more specifically."
   ]
  },
  {
   "cell_type": "code",
   "execution_count": 56,
   "metadata": {
    "colab": {},
    "colab_type": "code",
    "id": "R2p0UQAV4AGK"
   },
   "outputs": [],
   "source": [
    "## The dictionary of dates to parse\n",
    "date_dict = {'date':['2019-27-09'], \n",
    "             'fullday':['Fri Jan 7 2017 10:15 AM'], \n",
    "             'hourmin':['13:14'], \n",
    "             'timestamp':['Wed, 20 Mar 2019 16:24:28 GMT']}\n"
   ]
  },
  {
   "cell_type": "code",
   "execution_count": 61,
   "metadata": {
    "colab": {},
    "colab_type": "code",
    "id": "P1_wN6jH65Bh"
   },
   "outputs": [],
   "source": [
    "## make a pandas dataframe called dates\n",
    "dates = pd.DataFrame(date_dict)"
   ]
  },
  {
   "cell_type": "code",
   "execution_count": 63,
   "metadata": {
    "colab": {},
    "colab_type": "code",
    "id": "0-2yebCC7H2O"
   },
   "outputs": [],
   "source": [
    "## parse the date column as a datetime as date_parsed\n",
    "dates['date_parsed'] = pd.to_datetime(dates['date'], format=\"%Y-%d-%m\")\n",
    "\n"
   ]
  },
  {
   "cell_type": "code",
   "execution_count": 0,
   "metadata": {
    "colab": {},
    "colab_type": "code",
    "id": "-YCj3rAQE5DF"
   },
   "outputs": [],
   "source": [
    "## parse fullday into fullday_parsed\n",
    "dates['fullday_parsed'] = xt\n"
   ]
  },
  {
   "cell_type": "code",
   "execution_count": 0,
   "metadata": {
    "colab": {},
    "colab_type": "code",
    "id": "Tdvmz1bEFk8R"
   },
   "outputs": [],
   "source": [
    "## parse hourmin into hourmin_parsed\n",
    "dates['hourmin_parsed'] = "
   ]
  },
  {
   "cell_type": "code",
   "execution_count": 0,
   "metadata": {
    "colab": {},
    "colab_type": "code",
    "id": "zmvmHz2zGSQh"
   },
   "outputs": [],
   "source": [
    "# parse the timestamp into timestamp_parsed\n",
    "dates['timestamp_parsed'] = \n"
   ]
  },
  {
   "cell_type": "code",
   "execution_count": 0,
   "metadata": {
    "colab": {},
    "colab_type": "code",
    "id": "Iz101nfwHFu0"
   },
   "outputs": [],
   "source": [
    "## parse out the month day and year from date_parsed\n",
    "dates['month'] = \n",
    "dates['day'] = \n",
    "dates['year'] = \n"
   ]
  },
  {
   "cell_type": "code",
   "execution_count": 0,
   "metadata": {
    "colab": {},
    "colab_type": "code",
    "id": "tx36P1UlIDxW"
   },
   "outputs": [],
   "source": [
    "# This is hard one!\n",
    "# build a column called date_combined that uses the newly created month, day, and year columns\n",
    "dates['date_combined'] = "
   ]
  },
  {
   "cell_type": "markdown",
   "metadata": {
    "colab_type": "text",
    "id": "8Pj626PCIrDk"
   },
   "source": [
    "> Hint:  pandas is really smart at guessing and trying different formats, and combining columns too!"
   ]
  },
  {
   "cell_type": "code",
   "execution_count": 0,
   "metadata": {
    "colab": {},
    "colab_type": "code",
    "id": "SXQPS66dJXRf"
   },
   "outputs": [],
   "source": []
  }
 ],
 "metadata": {
  "colab": {
   "collapsed_sections": [],
   "name": "18-Dates-Exercise.ipynb",
   "private_outputs": true,
   "provenance": [],
   "toc_visible": true,
   "version": "0.3.2"
  },
  "kernelspec": {
   "display_name": "Python 3",
   "language": "python",
   "name": "python3"
  },
  "language_info": {
   "codemirror_mode": {
    "name": "ipython",
    "version": 3
   },
   "file_extension": ".py",
   "mimetype": "text/x-python",
   "name": "python",
   "nbconvert_exporter": "python",
   "pygments_lexer": "ipython3",
   "version": "3.7.2"
  }
 },
 "nbformat": 4,
 "nbformat_minor": 1
}
