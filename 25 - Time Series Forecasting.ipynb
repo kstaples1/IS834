{
 "cells": [
  {
   "cell_type": "markdown",
   "metadata": {
    "colab_type": "text",
    "id": "JCLYcTRUtmtu"
   },
   "source": [
    "# Time Series Forecasting"
   ]
  },
  {
   "cell_type": "code",
   "execution_count": 0,
   "metadata": {
    "colab": {},
    "colab_type": "code",
    "id": "avYz9tu3JluG"
   },
   "outputs": [],
   "source": [
    "## update the latest seaborn (0.9.0)\n",
    "!pip install seaborn==0.9.0\n"
   ]
  },
  {
   "cell_type": "code",
   "execution_count": 1,
   "metadata": {
    "colab": {},
    "colab_type": "code",
    "id": "Q5E02b2TUz0y"
   },
   "outputs": [
    {
     "name": "stdout",
     "output_type": "stream",
     "text": [
      "Requirement already satisfied: prophet in /anaconda3/lib/python3.6/site-packages (0.1.1)\n",
      "Requirement already satisfied: pytz>=2014.9 in /anaconda3/lib/python3.6/site-packages (from prophet) (2018.4)\n",
      "Requirement already satisfied: pandas>=0.15.1 in /anaconda3/lib/python3.6/site-packages (from prophet) (0.23.0)\n",
      "Requirement already satisfied: six>=1.8.0 in /anaconda3/lib/python3.6/site-packages (from prophet) (1.11.0)\n",
      "Requirement already satisfied: python-dateutil>=2.5.0 in /anaconda3/lib/python3.6/site-packages (from pandas>=0.15.1->prophet) (2.7.3)\n",
      "Requirement already satisfied: numpy>=1.9.0 in /anaconda3/lib/python3.6/site-packages (from pandas>=0.15.1->prophet) (1.14.3)\n",
      "\u001b[31mfbprophet 0.4.post2 requires setuptools-git>=1.2, which is not installed.\u001b[0m\n",
      "\u001b[33mYou are using pip version 10.0.1, however version 19.0.3 is available.\n",
      "You should consider upgrading via the 'pip install --upgrade pip' command.\u001b[0m\n"
     ]
    }
   ],
   "source": [
    "## install a tool, prophet\n",
    "!pip install prophet"
   ]
  },
  {
   "cell_type": "code",
   "execution_count": 6,
   "metadata": {
    "colab": {},
    "colab_type": "code",
    "id": "u2NphvDnZRrV"
   },
   "outputs": [],
   "source": [
    "## setup our environment\n",
    "import pandas as pd\n",
    "import numpy as np\n",
    "import matplotlib.pyplot as plt\n",
    "import seaborn as sns\n",
    "import datetime  \n",
    "from fbprophet import Prophet ## <----- new import\n",
    "%matplotlib inline\n",
    "\n",
    "## pandas print columns/rows option (100)\n",
    "pd.set_option('display.max_columns', 100)\n",
    "pd.set_option('display.max_rows', 100)\n",
    "\n",
    "## set the styling for seaborn (white)\n",
    "sns.set_style(\"dark\")"
   ]
  },
  {
   "cell_type": "code",
   "execution_count": 3,
   "metadata": {
    "colab": {},
    "colab_type": "code",
    "id": "eGkYvKDKG4Ft"
   },
   "outputs": [
    {
     "name": "stdout",
     "output_type": "stream",
     "text": [
      "<class 'pandas.core.frame.DataFrame'>\n",
      "RangeIndex: 9426 entries, 0 to 9425\n",
      "Data columns (total 25 columns):\n",
      "Unnamed: 0              9426 non-null int64\n",
      "Row ID                  9426 non-null int64\n",
      "Order Priority          9426 non-null object\n",
      "Discount                9426 non-null float64\n",
      "Unit Price              9426 non-null float64\n",
      "Shipping Cost           9426 non-null float64\n",
      "Customer ID             9426 non-null int64\n",
      "Customer Name           9426 non-null object\n",
      "Ship Mode               9426 non-null object\n",
      "Customer Segment        9426 non-null object\n",
      "Product Category        9426 non-null object\n",
      "Product Sub-Category    9426 non-null object\n",
      "Product Container       9426 non-null object\n",
      "Product Name            9426 non-null object\n",
      "Product Base Margin     9354 non-null float64\n",
      "Region                  9426 non-null object\n",
      "State or Province       9426 non-null object\n",
      "City                    9426 non-null object\n",
      "Postal Code             9426 non-null int64\n",
      "Order Date              9426 non-null datetime64[ns]\n",
      "Ship Date               9426 non-null datetime64[ns]\n",
      "Profit                  9426 non-null float64\n",
      "Quantity ordered new    9426 non-null int64\n",
      "Sales                   9426 non-null float64\n",
      "Order ID                9426 non-null int64\n",
      "dtypes: datetime64[ns](2), float64(6), int64(6), object(11)\n",
      "memory usage: 1.8+ MB\n"
     ]
    }
   ],
   "source": [
    "# lets use the sales dataset again\n",
    "sales = pd.read_csv(\"/Users/Kyle_Staples/Documents/GitHub/IS834/datasets/sales.csv\", parse_dates=['Order Date', 'Ship Date'])\n",
    "sales.info()"
   ]
  },
  {
   "cell_type": "code",
   "execution_count": 4,
   "metadata": {
    "colab": {},
    "colab_type": "code",
    "id": "PFGwl-JtHNjo"
   },
   "outputs": [
    {
     "data": {
      "text/html": [
       "<div>\n",
       "<style scoped>\n",
       "    .dataframe tbody tr th:only-of-type {\n",
       "        vertical-align: middle;\n",
       "    }\n",
       "\n",
       "    .dataframe tbody tr th {\n",
       "        vertical-align: top;\n",
       "    }\n",
       "\n",
       "    .dataframe thead th {\n",
       "        text-align: right;\n",
       "    }\n",
       "</style>\n",
       "<table border=\"1\" class=\"dataframe\">\n",
       "  <thead>\n",
       "    <tr style=\"text-align: right;\">\n",
       "      <th></th>\n",
       "      <th>Order Date</th>\n",
       "      <th>Sales</th>\n",
       "    </tr>\n",
       "  </thead>\n",
       "  <tbody>\n",
       "    <tr>\n",
       "      <th>0</th>\n",
       "      <td>2010-01-01</td>\n",
       "      <td>193.88</td>\n",
       "    </tr>\n",
       "    <tr>\n",
       "      <th>1</th>\n",
       "      <td>2010-01-02</td>\n",
       "      <td>11808.32</td>\n",
       "    </tr>\n",
       "    <tr>\n",
       "      <th>2</th>\n",
       "      <td>2010-01-03</td>\n",
       "      <td>7934.24</td>\n",
       "    </tr>\n",
       "    <tr>\n",
       "      <th>3</th>\n",
       "      <td>2010-01-04</td>\n",
       "      <td>401.06</td>\n",
       "    </tr>\n",
       "    <tr>\n",
       "      <th>4</th>\n",
       "      <td>2010-01-05</td>\n",
       "      <td>6258.37</td>\n",
       "    </tr>\n",
       "  </tbody>\n",
       "</table>\n",
       "</div>"
      ],
      "text/plain": [
       "  Order Date     Sales\n",
       "0 2010-01-01    193.88\n",
       "1 2010-01-02  11808.32\n",
       "2 2010-01-03   7934.24\n",
       "3 2010-01-04    401.06\n",
       "4 2010-01-05   6258.37"
      ]
     },
     "execution_count": 4,
     "metadata": {},
     "output_type": "execute_result"
    }
   ],
   "source": [
    "# lets summarize sales by order date again\n",
    "sales_ts = sales.groupby(\"Order Date\", as_index=False).sum()\n",
    "sales_ts = sales_ts.loc[:, [\"Order Date\", \"Sales\"]]\n",
    "sales_ts.head()"
   ]
  },
  {
   "cell_type": "code",
   "execution_count": 7,
   "metadata": {
    "colab": {},
    "colab_type": "code",
    "id": "kq8tQO4JHlck"
   },
   "outputs": [
    {
     "data": {
      "text/plain": [
       "<matplotlib.axes._subplots.AxesSubplot at 0x10585e550>"
      ]
     },
     "execution_count": 7,
     "metadata": {},
     "output_type": "execute_result"
    },
    {
     "data": {
      "image/png": "[encoded data removed]",
      "text/plain": [
       "<Figure size 432x288 with 1 Axes>"
      ]
     },
     "metadata": {},
     "output_type": "display_data"
    }
   ],
   "source": [
    "# quick plot\n",
    "sales_ts.plot(x=\"Order Date\", y=\"Sales\", kind=\"line\")"
   ]
  },
  {
   "cell_type": "markdown",
   "metadata": {
    "colab_type": "text",
    "id": "csbMsyKqH1t7"
   },
   "source": [
    "> Because we are interested in forecasting values, we want to use historical data to predict future values.  As with any type of prediction problem, we need to setup some method to assess accuracy"
   ]
  },
  {
   "cell_type": "markdown",
   "metadata": {
    "colab_type": "text",
    "id": "ch__PBobHo-b"
   },
   "source": [
    "# Evaluation and Moving Average (MA) forecasting\n",
    "\n",
    "There are a number of ways to evaluate timeseries forecasts, but to keep things within context of this course, let's use a simple** RMSE, or Root Mean Squared Error**\n",
    "\n",
    "This simply is the different between the forecasts and the actual value (a residual), squared, and then take the square root.  We do this for every forecast in our dataset to arrive at 1 number.  The lower the **RMSE**, the better, just like in regression.\n",
    "\n",
    "An intuitive, and often great first step, is to forecast via moving averages.  Simply, the moving average over some period (e.g. MA(4) is a 4-period moving average) is used to forecast the value.  It is a smoothing type of forecast, as the data are pooled together via an average in attempts to remove larger fluctations.  The accuracy of a MA forecast tends to be in the window selected."
   ]
  },
  {
   "cell_type": "code",
   "execution_count": 0,
   "metadata": {
    "colab": {},
    "colab_type": "code",
    "id": "8tlZ0oC4IYf_"
   },
   "outputs": [],
   "source": [
    "# first, lets add a few moving averages\n",
    "sales_ts['ma1'] = sales_ts['Sales'].shift().rolling(1).mean()\n",
    "sales_ts['ma2'] = sales_ts['Sales'].shift().rolling(2).mean()\n",
    "sales_ts['ma5'] = sales_ts['Sales'].shift().rolling(5).mean()\n",
    "sales_ts['ma12'] = sales_ts['Sales'].shift().rolling(12).mean()"
   ]
  },
  {
   "cell_type": "code",
   "execution_count": 0,
   "metadata": {
    "colab": {},
    "colab_type": "code",
    "id": "EtKMnn3OI3tk"
   },
   "outputs": [],
   "source": [
    "sales_ts.head(13)"
   ]
  },
  {
   "cell_type": "code",
   "execution_count": 0,
   "metadata": {
    "colab": {},
    "colab_type": "code",
    "id": "AUOqJE3sI5Cd"
   },
   "outputs": [],
   "source": [
    "# Now we calculate the RMSE for each prediction.  First we square the error/residual\n",
    "# That is Sales is what we want to predict, and the MA(n) is the forecast for that value\n",
    "sales_ts['ma1_se'] = (sales_ts['Sales'] - sales_ts['ma1'])**2\n",
    "sales_ts['ma2_se'] = (sales_ts['Sales'] - sales_ts['ma2'])**2\n",
    "sales_ts['ma5_se'] = (sales_ts['Sales'] - sales_ts['ma5'])**2\n",
    "sales_ts['ma12_se'] = (sales_ts['Sales'] - sales_ts['ma12'])**2"
   ]
  },
  {
   "cell_type": "code",
   "execution_count": 0,
   "metadata": {
    "colab": {},
    "colab_type": "code",
    "id": "u6QMZhaJJ9Hd"
   },
   "outputs": [],
   "source": [
    "# lets look at the data\n",
    "sales_ts.head(13)"
   ]
  },
  {
   "cell_type": "code",
   "execution_count": 0,
   "metadata": {
    "colab": {},
    "colab_type": "code",
    "id": "X3RAMxm0KMwK"
   },
   "outputs": [],
   "source": [
    "# lets only keep rows where every value is retained, this only chops off a few records and doesnt really matter in practice\n",
    "sales_forecast = sales_ts.dropna()\n",
    "print(len(sales_ts))\n",
    "print(len(sales_forecast))"
   ]
  },
  {
   "cell_type": "code",
   "execution_count": 0,
   "metadata": {
    "colab": {},
    "colab_type": "code",
    "id": "GY-i1s0kKdbL"
   },
   "outputs": [],
   "source": [
    "# keep just what we need\n",
    "evals = sales_forecast.iloc[:, 6:]\n",
    "evals.head()"
   ]
  },
  {
   "cell_type": "code",
   "execution_count": 0,
   "metadata": {
    "colab": {},
    "colab_type": "code",
    "id": "xWU2QX0eLnZh"
   },
   "outputs": [],
   "source": [
    "## calculate the averages\n",
    "evals_mean = evals.mean()\n",
    "evals_mean"
   ]
  },
  {
   "cell_type": "code",
   "execution_count": 0,
   "metadata": {
    "colab": {},
    "colab_type": "code",
    "id": "6j5dVgyKMCPR"
   },
   "outputs": [],
   "source": [
    "## take our Series and make it a dataframe, \n",
    "evals_df = pd.DataFrame({'mse': evals_mean})\n",
    "evals_df"
   ]
  },
  {
   "cell_type": "code",
   "execution_count": 0,
   "metadata": {
    "colab": {},
    "colab_type": "code",
    "id": "fr_KDjK1MDWw"
   },
   "outputs": [],
   "source": [
    "# now square root of the number\n",
    "evals_df['rmse'] = np.sqrt(evals_df['mse'])\n",
    "evals_df"
   ]
  },
  {
   "cell_type": "code",
   "execution_count": 0,
   "metadata": {
    "colab": {},
    "colab_type": "code",
    "id": "cr26SB33McBp"
   },
   "outputs": [],
   "source": [
    "# create a barplot showing a picture\n",
    "evals_df['method'] = evals_df.index\n",
    "evals_df.rmse.plot(kind=\"bar\")"
   ]
  },
  {
   "cell_type": "code",
   "execution_count": 0,
   "metadata": {
    "colab": {},
    "colab_type": "code",
    "id": "2ylJ3FeQNAnx"
   },
   "outputs": [],
   "source": [
    "# visualize the forecasts - last 50\n",
    "proof = sales_forecast.iloc[:, :6]\n",
    "proof50 = proof.tail(50)\n",
    "proof_eval = proof50.melt(id_vars=\"Order Date\", var_name=\"method\")\n",
    "# fig, ax = plt.subplots(figsize=(10,4))  ## <---- this lets us access the figure and axes objects for finer control, using it to set the axis method\n",
    "# fig = sns.lineplot(x=\"Order Date\", y=\"value\", data=proof_eval, hue=\"method\")\n",
    "# plt.show(fig)"
   ]
  },
  {
   "cell_type": "markdown",
   "metadata": {
    "colab_type": "text",
    "id": "2bdJKxP7ZL3h"
   },
   "source": [
    "# Prophet\n",
    "\n",
    "![](https://cdn-images-1.medium.com/max/1600/0*tVCene42rgUTNv9Q.png)\n",
    "\n",
    "Facebook built prophet to do robust, scalable, yet simple timeseries forecasting.  For our purposes, this can help us go a long way.\n",
    "\n",
    "To learn more about prophet:\n",
    "\n",
    "https://facebook.github.io/prophet/"
   ]
  },
  {
   "cell_type": "code",
   "execution_count": 0,
   "metadata": {
    "colab": {},
    "colab_type": "code",
    "id": "aI5K5niWZ1nl"
   },
   "outputs": [],
   "source": [
    "# load the shampoo dataset from QTools with some basic cleanup\n",
    "shampoo = pd.read_csv(\"shampoo.csv\")\n",
    "shampoo.dropna(inplace=True)\n",
    "shampoo.columns = ['Month', 'Sales']\n",
    "shampoo.head()"
   ]
  },
  {
   "cell_type": "code",
   "execution_count": 0,
   "metadata": {
    "colab": {},
    "colab_type": "code",
    "id": "YavK1nM0aMzY"
   },
   "outputs": [],
   "source": [
    "# lets create a date and remove month\n",
    "shampoo['date'] = pd.date_range(start=\"2019-01-01\", periods=36)\n",
    "del shampoo['Month']\n",
    "# reorder the columns\n",
    "shampoo = shampoo.loc[:, [\"date\", \"Sales\"]]\n",
    "shampoo.head()"
   ]
  },
  {
   "cell_type": "code",
   "execution_count": 0,
   "metadata": {
    "colab": {},
    "colab_type": "code",
    "id": "9VtbByMDaUfB"
   },
   "outputs": [],
   "source": [
    "shampoo.info()"
   ]
  },
  {
   "cell_type": "code",
   "execution_count": 0,
   "metadata": {
    "colab": {},
    "colab_type": "code",
    "id": "RQPTsw5fazgZ"
   },
   "outputs": [],
   "source": [
    "# Prophet requires a dataframe with two coluns, ds and y, for the dates and values respectively\n",
    "shampoo.columns = [\"ds\", \"y\"]\n",
    "shampoo.head()"
   ]
  },
  {
   "cell_type": "code",
   "execution_count": 0,
   "metadata": {
    "colab": {},
    "colab_type": "code",
    "id": "2-DonrKyagwE"
   },
   "outputs": [],
   "source": [
    "# create a model using prophet\n",
    "model = Prophet()"
   ]
  },
  {
   "cell_type": "code",
   "execution_count": 0,
   "metadata": {
    "colab": {},
    "colab_type": "code",
    "id": "Pmf5J6bmaoV8"
   },
   "outputs": [],
   "source": [
    "# fit a model to our data - it might takea a few seconds\n",
    "model.fit(shampoo)"
   ]
  },
  {
   "cell_type": "markdown",
   "metadata": {
    "colab_type": "text",
    "id": "ROULVef2auN8"
   },
   "source": [
    "> Above is just telling us that some of the settings were disabled, but if we want to include settings that account for daily and yearly seasonility, we can.\n",
    "\n",
    "Prophet fit a model to our data, and has a nice helper function to extend our shampoo sales data into the future (add new dates) and use the model to forecast those values"
   ]
  },
  {
   "cell_type": "code",
   "execution_count": 0,
   "metadata": {
    "colab": {},
    "colab_type": "code",
    "id": "VqmVUQkobIzh"
   },
   "outputs": [],
   "source": [
    "# add 3 days to the shampoo dataset and get it ready to apply the forecasts\n",
    "future = model.make_future_dataframe(periods=3, freq='D', include_history=True)"
   ]
  },
  {
   "cell_type": "code",
   "execution_count": 0,
   "metadata": {
    "colab": {},
    "colab_type": "code",
    "id": "q1RVf1RJbpec"
   },
   "outputs": [],
   "source": [
    "# add the forecasts to the dataset\n",
    "shampoo_forecasts = model.predict(future)"
   ]
  },
  {
   "cell_type": "code",
   "execution_count": 0,
   "metadata": {
    "colab": {},
    "colab_type": "code",
    "id": "-_ZtTt5RbySu"
   },
   "outputs": [],
   "source": [
    "# look at the tail of the dataset\n",
    "shampoo_forecasts.tail()"
   ]
  },
  {
   "cell_type": "code",
   "execution_count": 0,
   "metadata": {
    "colab": {},
    "colab_type": "code",
    "id": "x9kyN3Q2cM8q"
   },
   "outputs": [],
   "source": [
    "# thats a lot of data on how prophet worked through the dataset to decompose various components of the dataset for forecasting\n",
    "# we can plot the forecast\n",
    "fig1 = model.plot(shampoo_forecasts)\n"
   ]
  },
  {
   "cell_type": "markdown",
   "metadata": {
    "colab_type": "text",
    "id": "aLgvYXzBceui"
   },
   "source": [
    "Above shows us a plot of the forecast, along with the confidence of the estimate, which allows us to view the \"risk\" of our predictions"
   ]
  },
  {
   "cell_type": "code",
   "execution_count": 0,
   "metadata": {
    "colab": {},
    "colab_type": "code",
    "id": "NrPlWBHudvj0"
   },
   "outputs": [],
   "source": [
    "## we can also join this back to our original dataset\n",
    "## outer join to include all data, because we added dates with prophet\n",
    "shampoo_final = pd.merge(shampoo, shampoo_forecasts, how=\"outer\", left_on=[\"ds\"], right_on=[\"ds\"])"
   ]
  },
  {
   "cell_type": "code",
   "execution_count": 0,
   "metadata": {
    "colab": {},
    "colab_type": "code",
    "id": "TUIO7dd8eE34"
   },
   "outputs": [],
   "source": [
    "# inspect the data - notice the last 3 do not have the original value, y, as expected\n",
    "shampoo_final.tail()"
   ]
  },
  {
   "cell_type": "code",
   "execution_count": 0,
   "metadata": {
    "colab": {},
    "colab_type": "code",
    "id": "wdFVEl1zj0ZA"
   },
   "outputs": [],
   "source": []
  },
  {
   "cell_type": "code",
   "execution_count": 0,
   "metadata": {
    "colab": {},
    "colab_type": "code",
    "id": "RZ3L6yglj4vo"
   },
   "outputs": [],
   "source": []
  }
 ],
 "metadata": {
  "colab": {
   "collapsed_sections": [],
   "name": "25 - Time Series Forecasting.ipynb",
   "private_outputs": true,
   "provenance": [],
   "version": "0.3.2"
  },
  "kernelspec": {
   "display_name": "Python 3",
   "language": "python",
   "name": "python3"
  },
  "language_info": {
   "codemirror_mode": {
    "name": "ipython",
    "version": 3
   },
   "file_extension": ".py",
   "mimetype": "text/x-python",
   "name": "python",
   "nbconvert_exporter": "python",
   "pygments_lexer": "ipython3",
   "version": "3.6.8"
  }
 },
 "nbformat": 4,
 "nbformat_minor": 1
}
