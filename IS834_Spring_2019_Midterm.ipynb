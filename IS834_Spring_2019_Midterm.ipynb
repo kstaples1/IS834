{
 "cells": [
  {
   "cell_type": "markdown",
   "metadata": {
    "colab_type": "text",
    "id": "qQVJ_Ujot2oi"
   },
   "source": [
    "# Spring 2019 Midterm\n",
    "\n",
    "<br>\n",
    "<br>\n",
    "\n",
    "![](http://touchmba.com/wp-content/uploads/2017/12/BU-Questrom.png)"
   ]
  },
  {
   "cell_type": "markdown",
   "metadata": {
    "colab_type": "text",
    "id": "ug48jMRHuBkZ"
   },
   "source": [
    "## About this exam:\n",
    "\n",
    "- Open notes, slides, notebooks, Internet all can be used, just like it will be in the real world\n",
    "\n",
    "- Collaboration with a peer is not tolerated and will be strictly enforced via code review checks\n",
    "\n",
    "- **Make sure that the output from your work is saved with the notebook!**\n",
    "\n",
    "- You have the full class period, if required, for this exam\n",
    "\n",
    "- There are **5** Parts in this exam.\n",
    "\n",
    "- Almost always, the order of the questions matters, and will use work and results from prior questions within the Part.\n",
    "\n",
    "- Please show all of your work , as I will provide partial credit for your process even if your answer is not correct\n",
    "\n",
    "- I am looking to reinforce, and **challenge**, your skills based on the topics covered in the first half of this class\n",
    "\n",
    "- Programming and Data Analysis are two separate skills that we are learning this semester, but both combine into problem solving which require stitching together various techniques to get an outcome.  The majority of this exam will try to focus on reinforcing and building our problem solving skills to kick off the second part of the semester after break.\n",
    "\n",
    "\n",
    "\n",
    "\n",
    "## Tips:\n",
    "\n",
    "- Remember that there are many `attributes` and `methods()` available to us on all objects within python.  \n",
    "\n",
    "- hitting .<tab> on the object will pull up what is available (as long as that object is in memory)\n",
    "\n",
    "- Google can be your friend\n",
    "\n",
    "## Just a few helpful Resources\n",
    "\n",
    "- https://pandas.pydata.org/pandas-docs/stable/reference/frame.html\n",
    "- https://pandas.pydata.org/pandas-docs/stable/reference/series.html\n",
    "- https://pandas.pydata.org/pandas-docs/stable/reference/api/pandas.DataFrame.plot.html\n",
    "- https://pandas.pydata.org/pandas-docs/stable/user_guide/visualization.html\n",
    "  \n",
    "\n"
   ]
  },
  {
   "cell_type": "markdown",
   "metadata": {
    "colab_type": "text",
    "id": "L8R1aIP7y4he"
   },
   "source": [
    "# Setup:  "
   ]
  },
  {
   "cell_type": "code",
   "execution_count": 90,
   "metadata": {
    "colab": {},
    "colab_type": "code",
    "id": "bxPvTn3Ky98N"
   },
   "outputs": [],
   "source": [
    "## setup your tools here:\n",
    "import pandas as pd\n",
    "import numpy as np\n",
    "import matplotlib.pyplot as plt"
   ]
  },
  {
   "cell_type": "markdown",
   "metadata": {
    "colab_type": "text",
    "id": "8sbqtV08zC9k"
   },
   "source": [
    "\n",
    "\n",
    "<br>\n",
    "<hr color=\"red\"  width=\"100%\"  size=\"2\">\n",
    "<br>\n",
    "\n",
    "\n",
    "\n",
    "\n"
   ]
  },
  {
   "cell_type": "markdown",
   "metadata": {
    "colab_type": "text",
    "id": "1NcQ8pQRxp8a"
   },
   "source": [
    "# Part 1"
   ]
  },
  {
   "cell_type": "code",
   "execution_count": 16,
   "metadata": {
    "colab": {},
    "colab_type": "code",
    "id": "xfjjtZqCye_I"
   },
   "outputs": [],
   "source": [
    "# Q1: Create a random integer array of 1000 numbers between 2 and 87 (inclusive)\n",
    "# call the array x\n",
    "\n",
    "x = np.random.randint(2,88,size = 1000)"
   ]
  },
  {
   "cell_type": "code",
   "execution_count": 17,
   "metadata": {
    "colab": {},
    "colab_type": "code",
    "id": "LzYctcEP0uKP"
   },
   "outputs": [
    {
     "data": {
      "text/plain": [
       "1000"
      ]
     },
     "execution_count": 17,
     "metadata": {},
     "output_type": "execute_result"
    }
   ],
   "source": [
    "# Q2: confirm the length of x\n",
    "len(x)"
   ]
  },
  {
   "cell_type": "code",
   "execution_count": 18,
   "metadata": {
    "colab": {},
    "colab_type": "code",
    "id": "JjWdfmwE1ZMa"
   },
   "outputs": [],
   "source": [
    "# Q3: square each value in x and save the results to y\n",
    "y = x*x"
   ]
  },
  {
   "cell_type": "code",
   "execution_count": 19,
   "metadata": {
    "colab": {},
    "colab_type": "code",
    "id": "ZzF5bTpq1kQ-"
   },
   "outputs": [
    {
     "data": {
      "text/plain": [
       "2653.675"
      ]
     },
     "execution_count": 19,
     "metadata": {},
     "output_type": "execute_result"
    }
   ],
   "source": [
    "# Q4: calculate the average of y\n",
    "np.mean(y)"
   ]
  },
  {
   "cell_type": "code",
   "execution_count": 20,
   "metadata": {
    "colab": {},
    "colab_type": "code",
    "id": "xnVVQVeq5KGp"
   },
   "outputs": [
    {
     "data": {
      "text/plain": [
       "array([4970,  156, 6320,  756,  812,   30, 5112,  380, 3782,    2, 1260,\n",
       "       2450, 4032, 6642, 1056,   20,  306, 6806,  272, 4290, 2450,  420,\n",
       "        272,  600, 2162, 7140, 5852, 2256, 4692, 1980, 4032, 4032,  462,\n",
       "         12, 4290, 4970, 6806, 3080, 6162, 5852, 5256, 3540, 6972, 1260,\n",
       "         12, 5700, 4032, 4032,  156,  870, 5852, 4290, 1892,  240, 6806,\n",
       "       5402,    6, 5550,  420,  462, 5256, 2756, 1560, 5112, 1482, 4830,\n",
       "        240,  380,  506, 5700,  650, 3422,   90,  380, 6162,   90, 5852,\n",
       "        272, 4160, 3192, 7310,    2,  650,  462, 2352, 1640, 2256, 7310,\n",
       "          6,  702, 6162,  380,  992, 3080, 3540, 1190, 1640, 3906, 2070,\n",
       "        552, 2756, 5550, 2070, 5112, 3306,   42, 2970,  870, 2550,  930,\n",
       "          2, 4032,  870,   42,  870,  702, 6972,  600, 3422, 5550, 7140,\n",
       "        462,  992,   90, 2450, 3080,  552, 1640,  992, 6162, 6972,  756,\n",
       "       3080,  272, 3906,  702, 4160,   90,  182, 3192, 3192, 3422, 2256,\n",
       "       2652, 3540, 1056,   42, 2862, 1560, 1406,    2, 1806, 4290, 5112,\n",
       "       1560, 4970, 4290,  182,  156,   20,  812,    6, 1980, 4290, 4830,\n",
       "       2550,   72, 7140,  240,  870, 3660, 6162,    2,  462, 3782, 7310,\n",
       "        930, 3906,   56, 1722, 6320, 5700,  380,   30, 1980,  462, 3660,\n",
       "       7310, 3540,    2,  156, 1406, 3660, 1190, 1482, 6806,  342, 4422,\n",
       "        462,  342, 3906, 3306, 1722,  462, 6806,  110, 3782, 1560,   56,\n",
       "       6806, 4556,  506, 2256,  156, 1332,  110, 6162, 1806, 2162, 4970,\n",
       "        342, 6972, 3782, 4830, 5550,  380, 5112, 1980,  702,   20,   20,\n",
       "       7140,  600, 7140, 3782, 3540, 2162, 6806, 3192, 5852,  240, 1640,\n",
       "       3782, 3782, 1190, 4290,  870, 2162,  420,   90,  812, 3080, 1980,\n",
       "          2,   42, 4290, 6320, 5256, 5256,  182, 7482, 4830, 6006, 2450,\n",
       "       1722, 3540, 2162,  812,  650, 3660, 2352, 5402,   72, 4422, 1892,\n",
       "       2070, 2970,  930, 1482, 3540, 2162, 1892,   30, 5402, 1406, 6006,\n",
       "       5852, 4422, 3192,  420, 6162, 4830, 2652, 1122, 1406, 4970, 2970,\n",
       "        462, 4290, 1122,  756, 5112, 7482, 4032, 6642, 7140, 1406, 6480,\n",
       "        182, 1640,  210, 1332, 1560, 3192, 3782, 6320, 4032, 4422, 6320,\n",
       "       6642,  650,  380,  420, 1406,   42, 1260, 2352,   72, 2450, 2862,\n",
       "       2652,   56,  506,    6,   72, 6642,  306,  182, 1980, 2652,   90,\n",
       "       3306, 4290, 5550, 1260, 2070,   42, 2070,  812, 3660, 1056, 1806,\n",
       "        182,   42, 5402,  552,   56, 4556, 4032, 3306,  992, 6320, 1640,\n",
       "       1406, 3422, 2256, 2970,  930,  870, 6006, 7140, 2352, 1560, 1980,\n",
       "        930, 1560,  552, 2352,  182, 4830, 6320, 3660, 2756, 3906, 2652,\n",
       "       3192, 2352,  380, 4556, 4160, 2862, 5550, 6162,  132, 2862,  420,\n",
       "       1260, 2756, 1892, 4692, 6806, 1560, 5256, 1980, 6642, 3906, 5402,\n",
       "       3540,  156,  110, 5402, 3192, 6806, 6972, 3080,  552, 1332,  210,\n",
       "       1406, 6162, 6320, 1806,  702, 1560,  342,  240,    2,  930,  870,\n",
       "        650, 6642, 4830,    6,  272, 5550, 3540,  506, 6480,   72, 1260,\n",
       "        930,   72, 1640, 7482, 1980, 1482, 6972,  342,  650, 6806,  650,\n",
       "       7140,  930,  132, 2450, 5256, 2070, 1892,  306,   30, 3306, 6972,\n",
       "       5256, 2756, 3306,  342, 2652, 1806, 4422, 3660, 7140, 2450, 1806,\n",
       "       3782,  756, 2862, 5256,  812,   56, 3422,  650,  342, 4970,  110,\n",
       "        110, 3660,  240, 1980, 2070, 2256, 4830, 4290, 6972,    2,  600,\n",
       "       6006, 4032, 1332, 1260, 1806,   56, 1640,  600, 4422,  420,   12,\n",
       "       6806,  552,   42,  342, 1892, 2550, 3422,  182, 1406, 4556,   12,\n",
       "       1056, 5700, 4556,  210,  812, 6162, 6806, 3660, 3192,  420,  650,\n",
       "        506, 3906, 2970, 3540,  156, 1892, 1560, 6972, 4290,  600, 4422,\n",
       "        702, 4692, 2652, 2756,  420, 5700, 2256,  380, 5112, 1722, 6806,\n",
       "          2, 5852, 3660, 6806,  600, 5256, 5402, 5402,   30,  870, 4290,\n",
       "       2162, 6480, 3422,  380, 1406,  182, 2970, 4970, 4970, 3306, 3080,\n",
       "       2162,  210, 2162, 6480, 3906, 1560, 7482, 2652,  462, 4970, 1260,\n",
       "        110, 4970,  992, 3422, 1722, 2652,  756, 6320, 5700, 2070, 5256,\n",
       "        812, 2256, 3192,   56, 1560,   20, 6006, 1560, 6006,  600,  132,\n",
       "        462, 7310, 1722, 4032, 1122,  240, 2352,  870,  650,   20, 4556,\n",
       "        870,   72,   12,  380,   72, 6806, 6642,   90,  210,  156, 7310,\n",
       "        992, 3782,  930, 2970, 5550,  992,  930, 6320, 7310, 3080, 5256,\n",
       "        240, 1260,   72, 3422,   42,    6,    6, 1260, 2652, 5852,   12,\n",
       "       1482, 6320, 2550, 2862,   42, 4692, 5112,   56, 5402, 3540, 3906,\n",
       "       6162, 1722,  110, 4830,  870,  156,  156, 4160, 1892,  210, 2450,\n",
       "       2162,  420, 6320,   20, 4692, 1260, 4290,  182,  380,  380, 7482,\n",
       "       1892, 7310, 5112, 3080,  110, 4032, 2162,  420, 3782, 2162, 3540,\n",
       "       4556, 2070,  552, 2070, 5402,  420,  756, 1260,  380, 3422, 2256,\n",
       "        240, 4692, 2756,  552, 7310, 3192, 4422, 3540, 4422,  812,  132,\n",
       "        240, 6972, 4422, 6972, 1806, 3782, 2450,  342, 2450, 6006, 1122,\n",
       "        210, 2450, 2550, 2070, 1260,  132, 3660,  156, 2162, 6162, 1260,\n",
       "       5700,  132, 1482, 1122, 1640,   20,   42, 3782, 3540, 1806, 4160,\n",
       "       2450,   72,  132,  870,   72, 5256, 2550, 1406,    6, 5402, 3192,\n",
       "       4160,    6, 3306, 3192, 2256, 4160, 5402,  182,  110,    6, 6972,\n",
       "       6806,  552,   72,  380, 2162,  380, 4290, 4970, 6006,  930,   20,\n",
       "       6642,  702, 7482, 1260, 1482, 5402, 7482, 3660,   72, 3906, 5700,\n",
       "       5550,  132,    6, 3306,  156, 4422, 6006, 1122, 1806,  240, 1980,\n",
       "       2162, 3782, 7482, 4422,  812, 3540,   90, 2970,  992,  132,  930,\n",
       "       6320, 3192, 1260,   56, 4160,  930, 2256,  272, 2070,  306, 5112,\n",
       "          6, 2550, 1892, 3782,  420,  462,  462,    6,  156,  992, 1190,\n",
       "       1806, 1332,  462, 6972, 3422, 2756, 4970, 2256, 6162, 2970, 1190,\n",
       "       1056, 3422, 1980, 1806,  306, 1056,  380, 6320, 3782,  812, 1406,\n",
       "        506,  506, 2450,  812, 2070, 5700, 1560, 1980,  380, 1482,   42,\n",
       "       4160, 1806,   56,  870, 3906, 3422, 2352, 2162,   72, 1722,    6,\n",
       "        240, 2756, 7310, 1122,   42,  132, 3306,  600,  156,  506, 2862,\n",
       "       6480, 5852, 2550, 5852, 4692, 7482, 3906, 3306, 1332, 1406,  992,\n",
       "        306, 6972, 2070, 5402, 6972, 5112, 2862, 1190, 5852, 3782, 4290,\n",
       "        992,  110,   72, 1722,   30, 6320, 4032, 1332,    2, 5700,  182,\n",
       "         30,   12,  650,  380,  930, 6972, 5700, 3782, 1190, 7310, 3306,\n",
       "       1980, 6162,  182, 6972, 1332,   20, 1482, 1722, 6972, 3422,  930,\n",
       "       1722,  210,  600, 3306, 5402,  380,  420, 5112,  702, 5550,   20,\n",
       "       4160, 6320, 2862,  552,   56, 1190, 5852, 4032,    2, 1260, 3540,\n",
       "        870,    2,  380, 2450, 6006, 2256, 2352, 5852,  420, 2070, 2862,\n",
       "       1482, 2256,    2, 4830, 4422,  132,  812, 1332, 3906, 1406, 3422,\n",
       "       5112, 1190, 1482, 5256, 3660, 6480, 1560,  650,    6,   56])"
      ]
     },
     "execution_count": 20,
     "metadata": {},
     "output_type": "execute_result"
    }
   ],
   "source": [
    "# Q5: calculate the difference between y and x, store the results as x\n",
    "x = y-x"
   ]
  },
  {
   "cell_type": "markdown",
   "metadata": {
    "colab_type": "text",
    "id": "CCY_6Uyx6iEz"
   },
   "source": [
    "\n",
    "\n",
    "---\n",
    "\n"
   ]
  },
  {
   "cell_type": "code",
   "execution_count": 21,
   "metadata": {
    "colab": {},
    "colab_type": "code",
    "id": "i1MTsPs76B6v"
   },
   "outputs": [],
   "source": [
    "# Load the data below into sentences for the next few questions\n",
    "sentences = \"\"\"\n",
    "Check back tomorrow; I will see if the book has arrived.\n",
    "Mary plays the piano.\n",
    "He didn’t want to go to the dentist, yet he went anyway.\n",
    "\"\"\"\n",
    "\n"
   ]
  },
  {
   "cell_type": "code",
   "execution_count": 23,
   "metadata": {
    "colab": {},
    "colab_type": "code",
    "id": "kgxwsYj96YQm"
   },
   "outputs": [
    {
     "data": {
      "text/plain": [
       "137"
      ]
     },
     "execution_count": 23,
     "metadata": {},
     "output_type": "execute_result"
    }
   ],
   "source": [
    "# Q6: How many characters are in sentences\n",
    "len(sentences)"
   ]
  },
  {
   "cell_type": "code",
   "execution_count": 24,
   "metadata": {
    "colab": {},
    "colab_type": "code",
    "id": "FMv2Lr3F8eZJ"
   },
   "outputs": [
    {
     "data": {
      "text/plain": [
       "str"
      ]
     },
     "execution_count": 24,
     "metadata": {},
     "output_type": "execute_result"
    }
   ],
   "source": [
    "# Q7: What type of object is sentences?\n",
    "type(sentences)"
   ]
  },
  {
   "cell_type": "code",
   "execution_count": 25,
   "metadata": {
    "colab": {},
    "colab_type": "code",
    "id": "DUbSMudo6Zpm"
   },
   "outputs": [],
   "source": [
    "# Q8: make sentences all upper case, save it to sentences_upper\n",
    "sentences_upper = sentences.upper()"
   ]
  },
  {
   "cell_type": "code",
   "execution_count": 28,
   "metadata": {
    "colab": {},
    "colab_type": "code",
    "id": "4UYt4sy28CHE"
   },
   "outputs": [
    {
     "data": {
      "text/plain": [
       "'\\nCHECKBACKTOMORROW;IWILLSEEIFTHEBOOKHASARRIVED.\\nMARYPLAYSTHEPIANO.\\nHEDIDN’TWANTTOGOTOTHEDENTIST,YETHEWENTANYWAY.\\n'"
      ]
     },
     "execution_count": 28,
     "metadata": {},
     "output_type": "execute_result"
    }
   ],
   "source": [
    "# Q9: strip all whitespace characters from sentences_upper and save it to sentences_trim\n",
    "sentences_trim = sentences_upper.replace(' ','')"
   ]
  },
  {
   "cell_type": "code",
   "execution_count": 30,
   "metadata": {
    "colab": {},
    "colab_type": "code",
    "id": "-QZE2uS07hmv"
   },
   "outputs": [],
   "source": [
    "# Q10: split each sentence from sentences_trim into a list entry\n",
    "sentences_split = sentences_trim.split(\".\")"
   ]
  },
  {
   "cell_type": "code",
   "execution_count": 32,
   "metadata": {
    "colab": {},
    "colab_type": "code",
    "id": "SC0BVz738vHY"
   },
   "outputs": [],
   "source": [
    "# Q11: Convert this to a numpy array called sentence_np\n",
    "sentence_np = np.array(sentences_split)"
   ]
  },
  {
   "cell_type": "code",
   "execution_count": 35,
   "metadata": {
    "colab": {},
    "colab_type": "code",
    "id": "YCzQ2D1v78OQ"
   },
   "outputs": [
    {
     "data": {
      "text/plain": [
       "(4,)"
      ]
     },
     "execution_count": 35,
     "metadata": {},
     "output_type": "execute_result"
    }
   ],
   "source": [
    "# Q13 print the shape of the array sentence_np\n",
    "sentence_np.shape"
   ]
  },
  {
   "cell_type": "markdown",
   "metadata": {
    "colab_type": "text",
    "id": "1lKqdMrR_RoD"
   },
   "source": [
    "<br>\n",
    "<hr color=\"red\"  width=\"100%\"  size=\"2\">\n",
    "<br>"
   ]
  },
  {
   "cell_type": "markdown",
   "metadata": {
    "colab_type": "text",
    "id": "mpcAb6Pa_U23"
   },
   "source": [
    "# Part 2 \n",
    "\n",
    "This part will use a `json` dataset that can be found at the URL below:\n",
    "\n",
    "> `https://data.nasa.gov/resource/y77d-th95.json`\n",
    "\n",
    "The dataset captures Earth meteorite landings. \n",
    "\n",
    "\n"
   ]
  },
  {
   "cell_type": "code",
   "execution_count": 36,
   "metadata": {
    "colab": {},
    "colab_type": "code",
    "id": "yBZhGWxaJaiL"
   },
   "outputs": [],
   "source": [
    "## Q1:  read this into a pandas dataframe called space\n",
    "space = pd.read_json(\"https://data.nasa.gov/resource/y77d-th95.json\")"
   ]
  },
  {
   "cell_type": "code",
   "execution_count": 37,
   "metadata": {
    "colab": {},
    "colab_type": "code",
    "id": "K4_KPjuSJdA6"
   },
   "outputs": [
    {
     "data": {
      "text/plain": [
       "(1000, 12)"
      ]
     },
     "execution_count": 37,
     "metadata": {},
     "output_type": "execute_result"
    }
   ],
   "source": [
    "## Q2:  how many rows and columns exist in space\n",
    "space.shape\n"
   ]
  },
  {
   "cell_type": "code",
   "execution_count": 42,
   "metadata": {
    "colab": {},
    "colab_type": "code",
    "id": "Wf638pH5JdbS"
   },
   "outputs": [
    {
     "data": {
      "text/html": [
       "<div>\n",
       "<style scoped>\n",
       "    .dataframe tbody tr th:only-of-type {\n",
       "        vertical-align: middle;\n",
       "    }\n",
       "\n",
       "    .dataframe tbody tr th {\n",
       "        vertical-align: top;\n",
       "    }\n",
       "\n",
       "    .dataframe thead th {\n",
       "        text-align: right;\n",
       "    }\n",
       "</style>\n",
       "<table border=\"1\" class=\"dataframe\">\n",
       "  <thead>\n",
       "    <tr style=\"text-align: right;\">\n",
       "      <th></th>\n",
       "      <th>:@computed_region_cbhk_fwbd</th>\n",
       "      <th>:@computed_region_nnqa_25f4</th>\n",
       "      <th>fall</th>\n",
       "      <th>geolocation</th>\n",
       "      <th>id</th>\n",
       "      <th>mass</th>\n",
       "      <th>name</th>\n",
       "      <th>nametype</th>\n",
       "      <th>recclass</th>\n",
       "      <th>reclat</th>\n",
       "      <th>reclong</th>\n",
       "      <th>year</th>\n",
       "    </tr>\n",
       "  </thead>\n",
       "  <tbody>\n",
       "    <tr>\n",
       "      <th>993</th>\n",
       "      <td>NaN</td>\n",
       "      <td>NaN</td>\n",
       "      <td>Fell</td>\n",
       "      <td>{'type': 'Point', 'coordinates': [1.53333, 14....</td>\n",
       "      <td>23999</td>\n",
       "      <td>3000.0</td>\n",
       "      <td>Tillaberi</td>\n",
       "      <td>Valid</td>\n",
       "      <td>L6</td>\n",
       "      <td>14.25000</td>\n",
       "      <td>1.53333</td>\n",
       "      <td>1970-01-01T00:00:00.000</td>\n",
       "    </tr>\n",
       "    <tr>\n",
       "      <th>994</th>\n",
       "      <td>NaN</td>\n",
       "      <td>NaN</td>\n",
       "      <td>Fell</td>\n",
       "      <td>{'type': 'Point', 'coordinates': [35.2, 54.5]}</td>\n",
       "      <td>24004</td>\n",
       "      <td>65500.0</td>\n",
       "      <td>Timochin</td>\n",
       "      <td>Valid</td>\n",
       "      <td>H5</td>\n",
       "      <td>54.50000</td>\n",
       "      <td>35.20000</td>\n",
       "      <td>1807-01-01T00:00:00.000</td>\n",
       "    </tr>\n",
       "    <tr>\n",
       "      <th>995</th>\n",
       "      <td>NaN</td>\n",
       "      <td>NaN</td>\n",
       "      <td>Fell</td>\n",
       "      <td>{'type': 'Point', 'coordinates': [79.41667, 13...</td>\n",
       "      <td>24009</td>\n",
       "      <td>230.0</td>\n",
       "      <td>Tirupati</td>\n",
       "      <td>Valid</td>\n",
       "      <td>H6</td>\n",
       "      <td>13.63333</td>\n",
       "      <td>79.41667</td>\n",
       "      <td>1934-01-01T00:00:00.000</td>\n",
       "    </tr>\n",
       "    <tr>\n",
       "      <th>996</th>\n",
       "      <td>NaN</td>\n",
       "      <td>NaN</td>\n",
       "      <td>Fell</td>\n",
       "      <td>{'type': 'Point', 'coordinates': [-7.61123, 29...</td>\n",
       "      <td>54823</td>\n",
       "      <td>7000.0</td>\n",
       "      <td>Tissint</td>\n",
       "      <td>Valid</td>\n",
       "      <td>Martian (shergottite)</td>\n",
       "      <td>29.48195</td>\n",
       "      <td>-7.61123</td>\n",
       "      <td>2011-01-01T00:00:00.000</td>\n",
       "    </tr>\n",
       "    <tr>\n",
       "      <th>997</th>\n",
       "      <td>NaN</td>\n",
       "      <td>NaN</td>\n",
       "      <td>Fell</td>\n",
       "      <td>{'type': 'Point', 'coordinates': [111.53333, -...</td>\n",
       "      <td>24011</td>\n",
       "      <td>20000.0</td>\n",
       "      <td>Tjabe</td>\n",
       "      <td>Valid</td>\n",
       "      <td>H6</td>\n",
       "      <td>-7.08333</td>\n",
       "      <td>111.53333</td>\n",
       "      <td>1869-01-01T00:00:00.000</td>\n",
       "    </tr>\n",
       "    <tr>\n",
       "      <th>998</th>\n",
       "      <td>NaN</td>\n",
       "      <td>NaN</td>\n",
       "      <td>Fell</td>\n",
       "      <td>{'type': 'Point', 'coordinates': [106.58333, -...</td>\n",
       "      <td>24012</td>\n",
       "      <td>16500.0</td>\n",
       "      <td>Tjerebon</td>\n",
       "      <td>Valid</td>\n",
       "      <td>L5</td>\n",
       "      <td>-6.66667</td>\n",
       "      <td>106.58333</td>\n",
       "      <td>1922-01-01T00:00:00.000</td>\n",
       "    </tr>\n",
       "    <tr>\n",
       "      <th>999</th>\n",
       "      <td>NaN</td>\n",
       "      <td>NaN</td>\n",
       "      <td>Fell</td>\n",
       "      <td>{'type': 'Point', 'coordinates': [34.76667, 47...</td>\n",
       "      <td>24019</td>\n",
       "      <td>600.0</td>\n",
       "      <td>Tomakovka</td>\n",
       "      <td>Valid</td>\n",
       "      <td>LL6</td>\n",
       "      <td>47.85000</td>\n",
       "      <td>34.76667</td>\n",
       "      <td>1905-01-01T00:00:00.000</td>\n",
       "    </tr>\n",
       "  </tbody>\n",
       "</table>\n",
       "</div>"
      ],
      "text/plain": [
       "     :@computed_region_cbhk_fwbd  :@computed_region_nnqa_25f4  fall  \\\n",
       "993                          NaN                          NaN  Fell   \n",
       "994                          NaN                          NaN  Fell   \n",
       "995                          NaN                          NaN  Fell   \n",
       "996                          NaN                          NaN  Fell   \n",
       "997                          NaN                          NaN  Fell   \n",
       "998                          NaN                          NaN  Fell   \n",
       "999                          NaN                          NaN  Fell   \n",
       "\n",
       "                                           geolocation     id     mass  \\\n",
       "993  {'type': 'Point', 'coordinates': [1.53333, 14....  23999   3000.0   \n",
       "994     {'type': 'Point', 'coordinates': [35.2, 54.5]}  24004  65500.0   \n",
       "995  {'type': 'Point', 'coordinates': [79.41667, 13...  24009    230.0   \n",
       "996  {'type': 'Point', 'coordinates': [-7.61123, 29...  54823   7000.0   \n",
       "997  {'type': 'Point', 'coordinates': [111.53333, -...  24011  20000.0   \n",
       "998  {'type': 'Point', 'coordinates': [106.58333, -...  24012  16500.0   \n",
       "999  {'type': 'Point', 'coordinates': [34.76667, 47...  24019    600.0   \n",
       "\n",
       "          name nametype               recclass    reclat    reclong  \\\n",
       "993  Tillaberi    Valid                     L6  14.25000    1.53333   \n",
       "994   Timochin    Valid                     H5  54.50000   35.20000   \n",
       "995   Tirupati    Valid                     H6  13.63333   79.41667   \n",
       "996    Tissint    Valid  Martian (shergottite)  29.48195   -7.61123   \n",
       "997      Tjabe    Valid                     H6  -7.08333  111.53333   \n",
       "998   Tjerebon    Valid                     L5  -6.66667  106.58333   \n",
       "999  Tomakovka    Valid                    LL6  47.85000   34.76667   \n",
       "\n",
       "                        year  \n",
       "993  1970-01-01T00:00:00.000  \n",
       "994  1807-01-01T00:00:00.000  \n",
       "995  1934-01-01T00:00:00.000  \n",
       "996  2011-01-01T00:00:00.000  \n",
       "997  1869-01-01T00:00:00.000  \n",
       "998  1922-01-01T00:00:00.000  \n",
       "999  1905-01-01T00:00:00.000  "
      ]
     },
     "execution_count": 42,
     "metadata": {},
     "output_type": "execute_result"
    }
   ],
   "source": [
    "## Q3:  print out the last 7 rows of space\n",
    "space.tail(7)"
   ]
  },
  {
   "cell_type": "code",
   "execution_count": 45,
   "metadata": {
    "colab": {},
    "colab_type": "code",
    "id": "KtxS_xD9K5sC"
   },
   "outputs": [],
   "source": [
    "## Q4:  keep ONLY the columns from fall to year -- call the new dataframe space 2\n",
    "space2 = space[[\"fall\",\"geolocation\", \"id\", \"mass\", \"name\", \"nametype\", \"recclass\", \"reclat\", \"reclong\", \"year\"]]\n"
   ]
  },
  {
   "cell_type": "code",
   "execution_count": 46,
   "metadata": {
    "colab": {},
    "colab_type": "code",
    "id": "FOjvWJ8OLD3p"
   },
   "outputs": [
    {
     "data": {
      "text/plain": [
       "fall            0\n",
       "geolocation    12\n",
       "id              0\n",
       "mass           28\n",
       "name            0\n",
       "nametype        0\n",
       "recclass        0\n",
       "reclat         12\n",
       "reclong        12\n",
       "year            1\n",
       "dtype: int64"
      ]
     },
     "execution_count": 46,
     "metadata": {},
     "output_type": "execute_result"
    }
   ],
   "source": [
    "## Q5:  how many missing data values are there for each columns in space2\n",
    "space2.isna().sum()"
   ]
  },
  {
   "cell_type": "code",
   "execution_count": 47,
   "metadata": {
    "colab": {},
    "colab_type": "code",
    "id": "nNZdEU1BLarG"
   },
   "outputs": [],
   "source": [
    "## Q6:  remove all rows were there are at least 1 value missing\n",
    "##      save this as space_clean\n",
    "space_clean = space2.dropna()"
   ]
  },
  {
   "cell_type": "code",
   "execution_count": 48,
   "metadata": {
    "colab": {},
    "colab_type": "code",
    "id": "842O1ekaLf8l"
   },
   "outputs": [
    {
     "data": {
      "text/plain": [
       "fall           0\n",
       "geolocation    0\n",
       "id             0\n",
       "mass           0\n",
       "name           0\n",
       "nametype       0\n",
       "recclass       0\n",
       "reclat         0\n",
       "reclong        0\n",
       "year           0\n",
       "dtype: int64"
      ]
     },
     "execution_count": 48,
     "metadata": {},
     "output_type": "execute_result"
    }
   ],
   "source": [
    "## Q7:  confirm that there are no missing values for any rows in space_clean\n",
    "space_clean.isna().sum()"
   ]
  },
  {
   "cell_type": "code",
   "execution_count": 49,
   "metadata": {
    "colab": {},
    "colab_type": "code",
    "id": "J832JanmMB0s"
   },
   "outputs": [
    {
     "data": {
      "text/plain": [
       "50864.704702815434"
      ]
     },
     "execution_count": 49,
     "metadata": {},
     "output_type": "execute_result"
    }
   ],
   "source": [
    "## Q8:  what is average mass for all meteorites in space_clean\n",
    "np.mean(space_clean.mass)"
   ]
  },
  {
   "cell_type": "code",
   "execution_count": 54,
   "metadata": {
    "colab": {},
    "colab_type": "code",
    "id": "-qK39WqDMWCL"
   },
   "outputs": [
    {
     "data": {
      "text/plain": [
       "<matplotlib.axes._subplots.AxesSubplot at 0x1215e34a8>"
      ]
     },
     "execution_count": 54,
     "metadata": {},
     "output_type": "execute_result"
    },
    {
     "data": {
      "image/png": "[encoded data removed]",
      "text/plain": [
       "<Figure size 432x288 with 1 Axes>"
      ]
     },
     "metadata": {
      "needs_background": "light"
     },
     "output_type": "display_data"
    }
   ],
   "source": [
    "## Q9:  create a boxplot for the mass of all meteorites in space_clean\n",
    "%matplotlib inline\n",
    "space_clean.boxplot(\"mass\")"
   ]
  },
  {
   "cell_type": "code",
   "execution_count": 59,
   "metadata": {
    "colab": {},
    "colab_type": "code",
    "id": "-ZeR_eRDMdT5"
   },
   "outputs": [
    {
     "data": {
      "text/html": [
       "<div>\n",
       "<style scoped>\n",
       "    .dataframe tbody tr th:only-of-type {\n",
       "        vertical-align: middle;\n",
       "    }\n",
       "\n",
       "    .dataframe tbody tr th {\n",
       "        vertical-align: top;\n",
       "    }\n",
       "\n",
       "    .dataframe thead th {\n",
       "        text-align: right;\n",
       "    }\n",
       "</style>\n",
       "<table border=\"1\" class=\"dataframe\">\n",
       "  <thead>\n",
       "    <tr style=\"text-align: right;\">\n",
       "      <th></th>\n",
       "      <th>id</th>\n",
       "      <th>mass</th>\n",
       "      <th>reclat</th>\n",
       "      <th>reclong</th>\n",
       "    </tr>\n",
       "  </thead>\n",
       "  <tbody>\n",
       "    <tr>\n",
       "      <th>count</th>\n",
       "      <td>959.000000</td>\n",
       "      <td>9.590000e+02</td>\n",
       "      <td>959.000000</td>\n",
       "      <td>959.000000</td>\n",
       "    </tr>\n",
       "    <tr>\n",
       "      <th>mean</th>\n",
       "      <td>15387.127216</td>\n",
       "      <td>5.086470e+04</td>\n",
       "      <td>29.753206</td>\n",
       "      <td>19.417078</td>\n",
       "    </tr>\n",
       "    <tr>\n",
       "      <th>std</th>\n",
       "      <td>10408.370199</td>\n",
       "      <td>7.590618e+05</td>\n",
       "      <td>23.095645</td>\n",
       "      <td>69.270138</td>\n",
       "    </tr>\n",
       "    <tr>\n",
       "      <th>min</th>\n",
       "      <td>1.000000</td>\n",
       "      <td>1.500000e-01</td>\n",
       "      <td>-44.116670</td>\n",
       "      <td>-157.866670</td>\n",
       "    </tr>\n",
       "    <tr>\n",
       "      <th>25%</th>\n",
       "      <td>7759.000000</td>\n",
       "      <td>6.975000e+02</td>\n",
       "      <td>21.775280</td>\n",
       "      <td>-5.633335</td>\n",
       "    </tr>\n",
       "    <tr>\n",
       "      <th>50%</th>\n",
       "      <td>12748.000000</td>\n",
       "      <td>2.968000e+03</td>\n",
       "      <td>35.866670</td>\n",
       "      <td>18.566670</td>\n",
       "    </tr>\n",
       "    <tr>\n",
       "      <th>75%</th>\n",
       "      <td>18836.000000</td>\n",
       "      <td>1.028600e+04</td>\n",
       "      <td>45.725000</td>\n",
       "      <td>76.183335</td>\n",
       "    </tr>\n",
       "    <tr>\n",
       "      <th>max</th>\n",
       "      <td>57168.000000</td>\n",
       "      <td>2.300000e+07</td>\n",
       "      <td>66.348330</td>\n",
       "      <td>174.400000</td>\n",
       "    </tr>\n",
       "  </tbody>\n",
       "</table>\n",
       "</div>"
      ],
      "text/plain": [
       "                 id          mass      reclat     reclong\n",
       "count    959.000000  9.590000e+02  959.000000  959.000000\n",
       "mean   15387.127216  5.086470e+04   29.753206   19.417078\n",
       "std    10408.370199  7.590618e+05   23.095645   69.270138\n",
       "min        1.000000  1.500000e-01  -44.116670 -157.866670\n",
       "25%     7759.000000  6.975000e+02   21.775280   -5.633335\n",
       "50%    12748.000000  2.968000e+03   35.866670   18.566670\n",
       "75%    18836.000000  1.028600e+04   45.725000   76.183335\n",
       "max    57168.000000  2.300000e+07   66.348330  174.400000"
      ]
     },
     "execution_count": 59,
     "metadata": {},
     "output_type": "execute_result"
    }
   ],
   "source": [
    "## Q10:  get the summary statistics for the Column mass from space_clean\n",
    "space_clean.describe()"
   ]
  },
  {
   "cell_type": "code",
   "execution_count": 60,
   "metadata": {
    "colab": {},
    "colab_type": "code",
    "id": "mSJGHeeFMnnv"
   },
   "outputs": [],
   "source": [
    "## Q11:  sort the rows of space_clean descending by the column mass\n",
    "##       keep the results in the dataframe called space_clean\n",
    "space_clean = space_clean.sort_values(\"mass\", ascending = False)"
   ]
  },
  {
   "cell_type": "code",
   "execution_count": 62,
   "metadata": {
    "colab": {},
    "colab_type": "code",
    "id": "4AUa-J9NM6py"
   },
   "outputs": [
    {
     "data": {
      "text/html": [
       "<div>\n",
       "<style scoped>\n",
       "    .dataframe tbody tr th:only-of-type {\n",
       "        vertical-align: middle;\n",
       "    }\n",
       "\n",
       "    .dataframe tbody tr th {\n",
       "        vertical-align: top;\n",
       "    }\n",
       "\n",
       "    .dataframe thead th {\n",
       "        text-align: right;\n",
       "    }\n",
       "</style>\n",
       "<table border=\"1\" class=\"dataframe\">\n",
       "  <thead>\n",
       "    <tr style=\"text-align: right;\">\n",
       "      <th></th>\n",
       "      <th>fall</th>\n",
       "      <th>geolocation</th>\n",
       "      <th>id</th>\n",
       "      <th>mass</th>\n",
       "      <th>name</th>\n",
       "      <th>nametype</th>\n",
       "      <th>recclass</th>\n",
       "      <th>reclat</th>\n",
       "      <th>reclong</th>\n",
       "      <th>year</th>\n",
       "    </tr>\n",
       "  </thead>\n",
       "  <tbody>\n",
       "    <tr>\n",
       "      <th>920</th>\n",
       "      <td>Fell</td>\n",
       "      <td>{'type': 'Point', 'coordinates': [134.65333, 4...</td>\n",
       "      <td>23593</td>\n",
       "      <td>23000000.00</td>\n",
       "      <td>Sikhote-Alin</td>\n",
       "      <td>Valid</td>\n",
       "      <td>Iron, IIAB</td>\n",
       "      <td>46.16000</td>\n",
       "      <td>134.65333</td>\n",
       "      <td>1947-01-01T00:00:00.000</td>\n",
       "    </tr>\n",
       "    <tr>\n",
       "      <th>419</th>\n",
       "      <td>Fell</td>\n",
       "      <td>{'type': 'Point', 'coordinates': [126.16667, 4...</td>\n",
       "      <td>12171</td>\n",
       "      <td>4000000.00</td>\n",
       "      <td>Jilin</td>\n",
       "      <td>Valid</td>\n",
       "      <td>H5</td>\n",
       "      <td>44.05000</td>\n",
       "      <td>126.16667</td>\n",
       "      <td>1976-01-01T00:00:00.000</td>\n",
       "    </tr>\n",
       "    <tr>\n",
       "      <th>29</th>\n",
       "      <td>Fell</td>\n",
       "      <td>{'type': 'Point', 'coordinates': [-105.31667, ...</td>\n",
       "      <td>2278</td>\n",
       "      <td>2000000.00</td>\n",
       "      <td>Allende</td>\n",
       "      <td>Valid</td>\n",
       "      <td>CV3</td>\n",
       "      <td>26.96667</td>\n",
       "      <td>-105.31667</td>\n",
       "      <td>1969-01-01T00:00:00.000</td>\n",
       "    </tr>\n",
       "    <tr>\n",
       "      <th>506</th>\n",
       "      <td>Fell</td>\n",
       "      <td>{'type': 'Point', 'coordinates': [59.2, 42.25]}</td>\n",
       "      <td>12379</td>\n",
       "      <td>1100000.00</td>\n",
       "      <td>Kunya-Urgench</td>\n",
       "      <td>Valid</td>\n",
       "      <td>H5</td>\n",
       "      <td>42.25000</td>\n",
       "      <td>59.20000</td>\n",
       "      <td>1998-01-01T00:00:00.000</td>\n",
       "    </tr>\n",
       "    <tr>\n",
       "      <th>707</th>\n",
       "      <td>Fell</td>\n",
       "      <td>{'type': 'Point', 'coordinates': [-99.86667, 3...</td>\n",
       "      <td>17922</td>\n",
       "      <td>1100000.00</td>\n",
       "      <td>Norton County</td>\n",
       "      <td>Valid</td>\n",
       "      <td>Aubrite</td>\n",
       "      <td>39.68333</td>\n",
       "      <td>-99.86667</td>\n",
       "      <td>1948-01-01T00:00:00.000</td>\n",
       "    </tr>\n",
       "    <tr>\n",
       "      <th>418</th>\n",
       "      <td>Fell</td>\n",
       "      <td>{'type': 'Point', 'coordinates': [109.5, 30.80...</td>\n",
       "      <td>12087</td>\n",
       "      <td>600000.00</td>\n",
       "      <td>Jianshi</td>\n",
       "      <td>Valid</td>\n",
       "      <td>Iron, IIIAB</td>\n",
       "      <td>30.80833</td>\n",
       "      <td>109.50000</td>\n",
       "      <td>1890-01-01T00:00:00.000</td>\n",
       "    </tr>\n",
       "    <tr>\n",
       "      <th>718</th>\n",
       "      <td>Fell</td>\n",
       "      <td>{'type': 'Point', 'coordinates': [55.26667, 57...</td>\n",
       "      <td>17979</td>\n",
       "      <td>500000.00</td>\n",
       "      <td>Ochansk</td>\n",
       "      <td>Valid</td>\n",
       "      <td>H4</td>\n",
       "      <td>57.78333</td>\n",
       "      <td>55.26667</td>\n",
       "      <td>1887-01-01T00:00:00.000</td>\n",
       "    </tr>\n",
       "    <tr>\n",
       "      <th>490</th>\n",
       "      <td>Fell</td>\n",
       "      <td>{'type': 'Point', 'coordinates': [22.4, 48.9]}</td>\n",
       "      <td>12335</td>\n",
       "      <td>500000.00</td>\n",
       "      <td>Knyahinya</td>\n",
       "      <td>Valid</td>\n",
       "      <td>L/LL5</td>\n",
       "      <td>48.90000</td>\n",
       "      <td>22.40000</td>\n",
       "      <td>1866-01-01T00:00:00.000</td>\n",
       "    </tr>\n",
       "    <tr>\n",
       "      <th>760</th>\n",
       "      <td>Fell</td>\n",
       "      <td>{'type': 'Point', 'coordinates': [-90.5, 36.06...</td>\n",
       "      <td>18101</td>\n",
       "      <td>408000.00</td>\n",
       "      <td>Paragould</td>\n",
       "      <td>Valid</td>\n",
       "      <td>LL5</td>\n",
       "      <td>36.06667</td>\n",
       "      <td>-90.50000</td>\n",
       "      <td>1930-01-01T00:00:00.000</td>\n",
       "    </tr>\n",
       "    <tr>\n",
       "      <th>625</th>\n",
       "      <td>Fell</td>\n",
       "      <td>{'type': 'Point', 'coordinates': [120.36667, -...</td>\n",
       "      <td>16643</td>\n",
       "      <td>330000.00</td>\n",
       "      <td>Millbillillie</td>\n",
       "      <td>Valid</td>\n",
       "      <td>Eucrite-mmict</td>\n",
       "      <td>-26.45000</td>\n",
       "      <td>120.36667</td>\n",
       "      <td>1960-01-01T00:00:00.000</td>\n",
       "    </tr>\n",
       "    <tr>\n",
       "      <th>121</th>\n",
       "      <td>Fell</td>\n",
       "      <td>{'type': 'Point', 'coordinates': [25.8, 60.4]}</td>\n",
       "      <td>5064</td>\n",
       "      <td>330000.00</td>\n",
       "      <td>Bjurböle</td>\n",
       "      <td>Valid</td>\n",
       "      <td>L/LL4</td>\n",
       "      <td>60.40000</td>\n",
       "      <td>25.80000</td>\n",
       "      <td>1899-01-01T00:00:00.000</td>\n",
       "    </tr>\n",
       "    <tr>\n",
       "      <th>956</th>\n",
       "      <td>Fell</td>\n",
       "      <td>{'type': 'Point', 'coordinates': [55.98333, 53...</td>\n",
       "      <td>23724</td>\n",
       "      <td>325000.00</td>\n",
       "      <td>Sterlitamak</td>\n",
       "      <td>Valid</td>\n",
       "      <td>Iron, IIIAB</td>\n",
       "      <td>53.66667</td>\n",
       "      <td>55.98333</td>\n",
       "      <td>1990-01-01T00:00:00.000</td>\n",
       "    </tr>\n",
       "    <tr>\n",
       "      <th>291</th>\n",
       "      <td>Fell</td>\n",
       "      <td>{'type': 'Point', 'coordinates': [-94.83333, 4...</td>\n",
       "      <td>10059</td>\n",
       "      <td>320000.00</td>\n",
       "      <td>Estherville</td>\n",
       "      <td>Valid</td>\n",
       "      <td>Mesosiderite-A3/4</td>\n",
       "      <td>43.41667</td>\n",
       "      <td>-94.83333</td>\n",
       "      <td>1879-01-01T00:00:00.000</td>\n",
       "    </tr>\n",
       "    <tr>\n",
       "      <th>145</th>\n",
       "      <td>Fell</td>\n",
       "      <td>{'type': 'Point', 'coordinates': [-112.88333, ...</td>\n",
       "      <td>5156</td>\n",
       "      <td>303000.00</td>\n",
       "      <td>Bruderheim</td>\n",
       "      <td>Valid</td>\n",
       "      <td>L6</td>\n",
       "      <td>53.90000</td>\n",
       "      <td>-112.88333</td>\n",
       "      <td>1960-01-01T00:00:00.000</td>\n",
       "    </tr>\n",
       "    <tr>\n",
       "      <th>819</th>\n",
       "      <td>Fell</td>\n",
       "      <td>{'type': 'Point', 'coordinates': [-53.05, -29....</td>\n",
       "      <td>18905</td>\n",
       "      <td>300000.00</td>\n",
       "      <td>Putinga</td>\n",
       "      <td>Valid</td>\n",
       "      <td>L6</td>\n",
       "      <td>-29.03333</td>\n",
       "      <td>-53.05000</td>\n",
       "      <td>1937-01-01T00:00:00.000</td>\n",
       "    </tr>\n",
       "    <tr>\n",
       "      <th>634</th>\n",
       "      <td>Fell</td>\n",
       "      <td>{'type': 'Point', 'coordinates': [24.03333, 46...</td>\n",
       "      <td>16709</td>\n",
       "      <td>300000.00</td>\n",
       "      <td>Mocs</td>\n",
       "      <td>Valid</td>\n",
       "      <td>L5-6</td>\n",
       "      <td>46.80000</td>\n",
       "      <td>24.03333</td>\n",
       "      <td>1882-01-01T00:00:00.000</td>\n",
       "    </tr>\n",
       "    <tr>\n",
       "      <th>871</th>\n",
       "      <td>Fell</td>\n",
       "      <td>{'type': 'Point', 'coordinates': [0.23333, 45.3]}</td>\n",
       "      <td>23102</td>\n",
       "      <td>271000.00</td>\n",
       "      <td>Saint-Séverin</td>\n",
       "      <td>Valid</td>\n",
       "      <td>LL6</td>\n",
       "      <td>45.30000</td>\n",
       "      <td>0.23333</td>\n",
       "      <td>1966-01-01T00:00:00.000</td>\n",
       "    </tr>\n",
       "    <tr>\n",
       "      <th>964</th>\n",
       "      <td>Fell</td>\n",
       "      <td>{'type': 'Point', 'coordinates': [113.46667, 3...</td>\n",
       "      <td>23738</td>\n",
       "      <td>260000.00</td>\n",
       "      <td>Suizhou</td>\n",
       "      <td>Valid</td>\n",
       "      <td>L6</td>\n",
       "      <td>31.61667</td>\n",
       "      <td>113.46667</td>\n",
       "      <td>1986-01-01T00:00:00.000</td>\n",
       "    </tr>\n",
       "    <tr>\n",
       "      <th>130</th>\n",
       "      <td>Fell</td>\n",
       "      <td>{'type': 'Point', 'coordinates': [131.63333, 4...</td>\n",
       "      <td>5098</td>\n",
       "      <td>256000.00</td>\n",
       "      <td>Boguslavka</td>\n",
       "      <td>Valid</td>\n",
       "      <td>Iron, IIAB</td>\n",
       "      <td>44.55000</td>\n",
       "      <td>131.63333</td>\n",
       "      <td>1916-01-01T00:00:00.000</td>\n",
       "    </tr>\n",
       "    <tr>\n",
       "      <th>733</th>\n",
       "      <td>Fell</td>\n",
       "      <td>{'type': 'Point', 'coordinates': [161.80833, 6...</td>\n",
       "      <td>18019</td>\n",
       "      <td>250000.00</td>\n",
       "      <td>Omolon</td>\n",
       "      <td>Valid</td>\n",
       "      <td>Pallasite, PMG</td>\n",
       "      <td>64.02000</td>\n",
       "      <td>161.80833</td>\n",
       "      <td>1981-01-01T00:00:00.000</td>\n",
       "    </tr>\n",
       "    <tr>\n",
       "      <th>817</th>\n",
       "      <td>Fell</td>\n",
       "      <td>{'type': 'Point', 'coordinates': [21.26667, 52...</td>\n",
       "      <td>18901</td>\n",
       "      <td>250000.00</td>\n",
       "      <td>Pultusk</td>\n",
       "      <td>Valid</td>\n",
       "      <td>H5</td>\n",
       "      <td>52.76667</td>\n",
       "      <td>21.26667</td>\n",
       "      <td>1868-01-01T00:00:00.000</td>\n",
       "    </tr>\n",
       "    <tr>\n",
       "      <th>382</th>\n",
       "      <td>Fell</td>\n",
       "      <td>{'type': 'Point', 'coordinates': [-91.86667, 4...</td>\n",
       "      <td>11901</td>\n",
       "      <td>230000.00</td>\n",
       "      <td>Homestead</td>\n",
       "      <td>Valid</td>\n",
       "      <td>L5</td>\n",
       "      <td>41.80000</td>\n",
       "      <td>-91.86667</td>\n",
       "      <td>1875-01-01T00:00:00.000</td>\n",
       "    </tr>\n",
       "    <tr>\n",
       "      <th>688</th>\n",
       "      <td>Fell</td>\n",
       "      <td>{'type': 'Point', 'coordinates': [-81.76667, 40]}</td>\n",
       "      <td>16953</td>\n",
       "      <td>230000.00</td>\n",
       "      <td>New Concord</td>\n",
       "      <td>Valid</td>\n",
       "      <td>L6</td>\n",
       "      <td>40.00000</td>\n",
       "      <td>-81.76667</td>\n",
       "      <td>1860-01-01T00:00:00.000</td>\n",
       "    </tr>\n",
       "    <tr>\n",
       "      <th>27</th>\n",
       "      <td>Fell</td>\n",
       "      <td>{'type': 'Point', 'coordinates': [10.15, 45.26...</td>\n",
       "      <td>466</td>\n",
       "      <td>228000.00</td>\n",
       "      <td>Alfianello</td>\n",
       "      <td>Valid</td>\n",
       "      <td>L6</td>\n",
       "      <td>45.26667</td>\n",
       "      <td>10.15000</td>\n",
       "      <td>1883-01-01T00:00:00.000</td>\n",
       "    </tr>\n",
       "    <tr>\n",
       "      <th>380</th>\n",
       "      <td>Fell</td>\n",
       "      <td>{'type': 'Point', 'coordinates': [-110.18333, ...</td>\n",
       "      <td>11894</td>\n",
       "      <td>220000.00</td>\n",
       "      <td>Holbrook</td>\n",
       "      <td>Valid</td>\n",
       "      <td>L/LL6</td>\n",
       "      <td>34.90000</td>\n",
       "      <td>-110.18333</td>\n",
       "      <td>1912-01-01T00:00:00.000</td>\n",
       "    </tr>\n",
       "    <tr>\n",
       "      <th>886</th>\n",
       "      <td>Fell</td>\n",
       "      <td>{'type': 'Point', 'coordinates': [46.55, 52.55]}</td>\n",
       "      <td>23176</td>\n",
       "      <td>200000.00</td>\n",
       "      <td>Saratov</td>\n",
       "      <td>Valid</td>\n",
       "      <td>L4</td>\n",
       "      <td>52.55000</td>\n",
       "      <td>46.55000</td>\n",
       "      <td>1918-01-01T00:00:00.000</td>\n",
       "    </tr>\n",
       "    <tr>\n",
       "      <th>437</th>\n",
       "      <td>Fell</td>\n",
       "      <td>{'type': 'Point', 'coordinates': [53.25, 55.43...</td>\n",
       "      <td>12229</td>\n",
       "      <td>200000.00</td>\n",
       "      <td>Kainsaz</td>\n",
       "      <td>Valid</td>\n",
       "      <td>CO3.2</td>\n",
       "      <td>55.43333</td>\n",
       "      <td>53.25000</td>\n",
       "      <td>1937-01-01T00:00:00.000</td>\n",
       "    </tr>\n",
       "    <tr>\n",
       "      <th>505</th>\n",
       "      <td>Fell</td>\n",
       "      <td>{'type': 'Point', 'coordinates': [61.36667, 55...</td>\n",
       "      <td>12377</td>\n",
       "      <td>200000.00</td>\n",
       "      <td>Kunashak</td>\n",
       "      <td>Valid</td>\n",
       "      <td>L6</td>\n",
       "      <td>55.78333</td>\n",
       "      <td>61.36667</td>\n",
       "      <td>1949-01-01T00:00:00.000</td>\n",
       "    </tr>\n",
       "    <tr>\n",
       "      <th>244</th>\n",
       "      <td>Fell</td>\n",
       "      <td>{'type': 'Point', 'coordinates': [111.5, -7.5]}</td>\n",
       "      <td>7652</td>\n",
       "      <td>166000.00</td>\n",
       "      <td>Djati-Pengilon</td>\n",
       "      <td>Valid</td>\n",
       "      <td>H6</td>\n",
       "      <td>-7.50000</td>\n",
       "      <td>111.50000</td>\n",
       "      <td>1884-01-01T00:00:00.000</td>\n",
       "    </tr>\n",
       "    <tr>\n",
       "      <th>985</th>\n",
       "      <td>Fell</td>\n",
       "      <td>{'type': 'Point', 'coordinates': [142.95, -25....</td>\n",
       "      <td>23897</td>\n",
       "      <td>160000.00</td>\n",
       "      <td>Tenham</td>\n",
       "      <td>Valid</td>\n",
       "      <td>L6</td>\n",
       "      <td>-25.73333</td>\n",
       "      <td>142.95000</td>\n",
       "      <td>1879-01-01T00:00:00.000</td>\n",
       "    </tr>\n",
       "    <tr>\n",
       "      <th>...</th>\n",
       "      <td>...</td>\n",
       "      <td>...</td>\n",
       "      <td>...</td>\n",
       "      <td>...</td>\n",
       "      <td>...</td>\n",
       "      <td>...</td>\n",
       "      <td>...</td>\n",
       "      <td>...</td>\n",
       "      <td>...</td>\n",
       "      <td>...</td>\n",
       "    </tr>\n",
       "    <tr>\n",
       "      <th>355</th>\n",
       "      <td>Fell</td>\n",
       "      <td>{'type': 'Point', 'coordinates': [78.56667, 13...</td>\n",
       "      <td>11464</td>\n",
       "      <td>28.00</td>\n",
       "      <td>Gurram Konda</td>\n",
       "      <td>Valid</td>\n",
       "      <td>L6</td>\n",
       "      <td>13.78333</td>\n",
       "      <td>78.56667</td>\n",
       "      <td>1814-01-01T00:00:00.000</td>\n",
       "    </tr>\n",
       "    <tr>\n",
       "      <th>317</th>\n",
       "      <td>Fell</td>\n",
       "      <td>{'type': 'Point', 'coordinates': [12.43333, 7....</td>\n",
       "      <td>10849</td>\n",
       "      <td>28.00</td>\n",
       "      <td>Galim (b)</td>\n",
       "      <td>Valid</td>\n",
       "      <td>EH3/4-an</td>\n",
       "      <td>7.05000</td>\n",
       "      <td>12.43333</td>\n",
       "      <td>1952-01-01T00:00:00.000</td>\n",
       "    </tr>\n",
       "    <tr>\n",
       "      <th>230</th>\n",
       "      <td>Fell</td>\n",
       "      <td>{'type': 'Point', 'coordinates': [-74, 40.25]}</td>\n",
       "      <td>6634</td>\n",
       "      <td>28.00</td>\n",
       "      <td>Deal</td>\n",
       "      <td>Valid</td>\n",
       "      <td>L6</td>\n",
       "      <td>40.25000</td>\n",
       "      <td>-74.00000</td>\n",
       "      <td>1829-01-01T00:00:00.000</td>\n",
       "    </tr>\n",
       "    <tr>\n",
       "      <th>588</th>\n",
       "      <td>Fell</td>\n",
       "      <td>{'type': 'Point', 'coordinates': [11.46745, 54...</td>\n",
       "      <td>48973</td>\n",
       "      <td>25.81</td>\n",
       "      <td>Maribo</td>\n",
       "      <td>Valid</td>\n",
       "      <td>CM2</td>\n",
       "      <td>54.76183</td>\n",
       "      <td>11.46745</td>\n",
       "      <td>2009-01-01T00:00:00.000</td>\n",
       "    </tr>\n",
       "    <tr>\n",
       "      <th>660</th>\n",
       "      <td>Fell</td>\n",
       "      <td>{'type': 'Point', 'coordinates': [80.83333, 9....</td>\n",
       "      <td>16851</td>\n",
       "      <td>25.50</td>\n",
       "      <td>Mulletiwu</td>\n",
       "      <td>Valid</td>\n",
       "      <td>L</td>\n",
       "      <td>9.33333</td>\n",
       "      <td>80.83333</td>\n",
       "      <td>1795-01-01T00:00:00.000</td>\n",
       "    </tr>\n",
       "    <tr>\n",
       "      <th>551</th>\n",
       "      <td>Fell</td>\n",
       "      <td>{'type': 'Point', 'coordinates': [-0.83333, 38]}</td>\n",
       "      <td>14708</td>\n",
       "      <td>25.00</td>\n",
       "      <td>Los Martinez</td>\n",
       "      <td>Valid</td>\n",
       "      <td>L6</td>\n",
       "      <td>38.00000</td>\n",
       "      <td>-0.83333</td>\n",
       "      <td>1894-01-01T00:00:00.000</td>\n",
       "    </tr>\n",
       "    <tr>\n",
       "      <th>597</th>\n",
       "      <td>Fell</td>\n",
       "      <td>{'type': 'Point', 'coordinates': [0, 0]}</td>\n",
       "      <td>53653</td>\n",
       "      <td>24.54</td>\n",
       "      <td>Mason Gully</td>\n",
       "      <td>Valid</td>\n",
       "      <td>H5</td>\n",
       "      <td>0.00000</td>\n",
       "      <td>0.00000</td>\n",
       "      <td>2010-01-01T00:00:00.000</td>\n",
       "    </tr>\n",
       "    <tr>\n",
       "      <th>948</th>\n",
       "      <td>Fell</td>\n",
       "      <td>{'type': 'Point', 'coordinates': [-76.38333, 3...</td>\n",
       "      <td>23091</td>\n",
       "      <td>24.30</td>\n",
       "      <td>St. Mary's County</td>\n",
       "      <td>Valid</td>\n",
       "      <td>LL3.3</td>\n",
       "      <td>38.16667</td>\n",
       "      <td>-76.38333</td>\n",
       "      <td>1919-01-01T00:00:00.000</td>\n",
       "    </tr>\n",
       "    <tr>\n",
       "      <th>78</th>\n",
       "      <td>Fell</td>\n",
       "      <td>{'type': 'Point', 'coordinates': [84.08333, 52...</td>\n",
       "      <td>4947</td>\n",
       "      <td>23.20</td>\n",
       "      <td>Barnaul</td>\n",
       "      <td>Valid</td>\n",
       "      <td>H5</td>\n",
       "      <td>52.73333</td>\n",
       "      <td>84.08333</td>\n",
       "      <td>1904-01-01T00:00:00.000</td>\n",
       "    </tr>\n",
       "    <tr>\n",
       "      <th>509</th>\n",
       "      <td>Fell</td>\n",
       "      <td>{'type': 'Point', 'coordinates': [39.3, 44.516...</td>\n",
       "      <td>12383</td>\n",
       "      <td>23.00</td>\n",
       "      <td>Kutais</td>\n",
       "      <td>Valid</td>\n",
       "      <td>H5</td>\n",
       "      <td>44.51667</td>\n",
       "      <td>39.30000</td>\n",
       "      <td>1977-01-01T00:00:00.000</td>\n",
       "    </tr>\n",
       "    <tr>\n",
       "      <th>606</th>\n",
       "      <td>Fell</td>\n",
       "      <td>{'type': 'Point', 'coordinates': [77.8, 29.016...</td>\n",
       "      <td>15469</td>\n",
       "      <td>22.00</td>\n",
       "      <td>Meerut</td>\n",
       "      <td>Valid</td>\n",
       "      <td>H5</td>\n",
       "      <td>29.01667</td>\n",
       "      <td>77.80000</td>\n",
       "      <td>1861-01-01T00:00:00.000</td>\n",
       "    </tr>\n",
       "    <tr>\n",
       "      <th>411</th>\n",
       "      <td>Fell</td>\n",
       "      <td>{'type': 'Point', 'coordinates': [75.33333, 18...</td>\n",
       "      <td>12072</td>\n",
       "      <td>22.00</td>\n",
       "      <td>Jamkheir</td>\n",
       "      <td>Valid</td>\n",
       "      <td>H6</td>\n",
       "      <td>18.75000</td>\n",
       "      <td>75.33333</td>\n",
       "      <td>1866-01-01T00:00:00.000</td>\n",
       "    </tr>\n",
       "    <tr>\n",
       "      <th>0</th>\n",
       "      <td>Fell</td>\n",
       "      <td>{'type': 'Point', 'coordinates': [6.08333, 50....</td>\n",
       "      <td>1</td>\n",
       "      <td>21.00</td>\n",
       "      <td>Aachen</td>\n",
       "      <td>Valid</td>\n",
       "      <td>L5</td>\n",
       "      <td>50.77500</td>\n",
       "      <td>6.08333</td>\n",
       "      <td>1880-01-01T00:00:00.000</td>\n",
       "    </tr>\n",
       "    <tr>\n",
       "      <th>668</th>\n",
       "      <td>Fell</td>\n",
       "      <td>{'type': 'Point', 'coordinates': [78.21667, 26...</td>\n",
       "      <td>16892</td>\n",
       "      <td>20.00</td>\n",
       "      <td>Nagaria</td>\n",
       "      <td>Valid</td>\n",
       "      <td>Eucrite-cm</td>\n",
       "      <td>26.98333</td>\n",
       "      <td>78.21667</td>\n",
       "      <td>1875-01-01T00:00:00.000</td>\n",
       "    </tr>\n",
       "    <tr>\n",
       "      <th>841</th>\n",
       "      <td>Fell</td>\n",
       "      <td>{'type': 'Point', 'coordinates': [-119.75812, ...</td>\n",
       "      <td>53502</td>\n",
       "      <td>18.41</td>\n",
       "      <td>Red Canyon Lake</td>\n",
       "      <td>Valid</td>\n",
       "      <td>H5</td>\n",
       "      <td>38.13742</td>\n",
       "      <td>-119.75812</td>\n",
       "      <td>2007-01-01T00:00:00.000</td>\n",
       "    </tr>\n",
       "    <tr>\n",
       "      <th>108</th>\n",
       "      <td>Fell</td>\n",
       "      <td>{'type': 'Point', 'coordinates': [74.83333, 20...</td>\n",
       "      <td>5037</td>\n",
       "      <td>18.00</td>\n",
       "      <td>Bhagur</td>\n",
       "      <td>Valid</td>\n",
       "      <td>L6</td>\n",
       "      <td>20.88333</td>\n",
       "      <td>74.83333</td>\n",
       "      <td>1877-01-01T00:00:00.000</td>\n",
       "    </tr>\n",
       "    <tr>\n",
       "      <th>79</th>\n",
       "      <td>Fell</td>\n",
       "      <td>{'type': 'Point', 'coordinates': [9.1, 52]}</td>\n",
       "      <td>4948</td>\n",
       "      <td>17.00</td>\n",
       "      <td>Barntrup</td>\n",
       "      <td>Valid</td>\n",
       "      <td>LL4</td>\n",
       "      <td>52.00000</td>\n",
       "      <td>9.10000</td>\n",
       "      <td>1886-01-01T00:00:00.000</td>\n",
       "    </tr>\n",
       "    <tr>\n",
       "      <th>73</th>\n",
       "      <td>Fell</td>\n",
       "      <td>{'type': 'Point', 'coordinates': [78.2, 30.4]}</td>\n",
       "      <td>4937</td>\n",
       "      <td>14.00</td>\n",
       "      <td>Banswal</td>\n",
       "      <td>Valid</td>\n",
       "      <td>L5</td>\n",
       "      <td>30.40000</td>\n",
       "      <td>78.20000</td>\n",
       "      <td>1913-01-01T00:00:00.000</td>\n",
       "    </tr>\n",
       "    <tr>\n",
       "      <th>105</th>\n",
       "      <td>Fell</td>\n",
       "      <td>{'type': 'Point', 'coordinates': [-73.83333, 4...</td>\n",
       "      <td>5032</td>\n",
       "      <td>13.90</td>\n",
       "      <td>Bethlehem</td>\n",
       "      <td>Valid</td>\n",
       "      <td>H</td>\n",
       "      <td>42.53333</td>\n",
       "      <td>-73.83333</td>\n",
       "      <td>1859-01-01T00:00:00.000</td>\n",
       "    </tr>\n",
       "    <tr>\n",
       "      <th>792</th>\n",
       "      <td>Fell</td>\n",
       "      <td>{'type': 'Point', 'coordinates': [11.50222, 44...</td>\n",
       "      <td>18813</td>\n",
       "      <td>13.10</td>\n",
       "      <td>Piancaldoli</td>\n",
       "      <td>Valid</td>\n",
       "      <td>LL3.4</td>\n",
       "      <td>44.24417</td>\n",
       "      <td>11.50222</td>\n",
       "      <td>1968-01-01T00:00:00.000</td>\n",
       "    </tr>\n",
       "    <tr>\n",
       "      <th>769</th>\n",
       "      <td>Fell</td>\n",
       "      <td>{'type': 'Point', 'coordinates': [14.96667, 38...</td>\n",
       "      <td>18118</td>\n",
       "      <td>12.00</td>\n",
       "      <td>Patti</td>\n",
       "      <td>Valid</td>\n",
       "      <td>Iron</td>\n",
       "      <td>38.13333</td>\n",
       "      <td>14.96667</td>\n",
       "      <td>1922-01-01T00:00:00.000</td>\n",
       "    </tr>\n",
       "    <tr>\n",
       "      <th>170</th>\n",
       "      <td>Fell</td>\n",
       "      <td>{'type': 'Point', 'coordinates': [27, 38.5]}</td>\n",
       "      <td>5265</td>\n",
       "      <td>8.00</td>\n",
       "      <td>Caratash</td>\n",
       "      <td>Valid</td>\n",
       "      <td>LL6</td>\n",
       "      <td>38.50000</td>\n",
       "      <td>27.00000</td>\n",
       "      <td>1902-01-01T00:00:00.000</td>\n",
       "    </tr>\n",
       "    <tr>\n",
       "      <th>838</th>\n",
       "      <td>Fell</td>\n",
       "      <td>{'type': 'Point', 'coordinates': [50.15, 26.66...</td>\n",
       "      <td>22395</td>\n",
       "      <td>6.10</td>\n",
       "      <td>Ras Tanura</td>\n",
       "      <td>Valid</td>\n",
       "      <td>H6</td>\n",
       "      <td>26.66667</td>\n",
       "      <td>50.15000</td>\n",
       "      <td>1961-01-01T00:00:00.000</td>\n",
       "    </tr>\n",
       "    <tr>\n",
       "      <th>508</th>\n",
       "      <td>Fell</td>\n",
       "      <td>{'type': 'Point', 'coordinates': [78.38333, 29...</td>\n",
       "      <td>12382</td>\n",
       "      <td>5.00</td>\n",
       "      <td>Kusiali</td>\n",
       "      <td>Valid</td>\n",
       "      <td>L6</td>\n",
       "      <td>29.68333</td>\n",
       "      <td>78.38333</td>\n",
       "      <td>1860-01-01T00:00:00.000</td>\n",
       "    </tr>\n",
       "    <tr>\n",
       "      <th>782</th>\n",
       "      <td>Fell</td>\n",
       "      <td>{'type': 'Point', 'coordinates': [-3.43333, 56...</td>\n",
       "      <td>18797</td>\n",
       "      <td>2.00</td>\n",
       "      <td>Perth</td>\n",
       "      <td>Valid</td>\n",
       "      <td>LL5</td>\n",
       "      <td>56.40000</td>\n",
       "      <td>-3.43333</td>\n",
       "      <td>1830-01-01T00:00:00.000</td>\n",
       "    </tr>\n",
       "    <tr>\n",
       "      <th>848</th>\n",
       "      <td>Fell</td>\n",
       "      <td>{'type': 'Point', 'coordinates': [-118.95, 51....</td>\n",
       "      <td>22592</td>\n",
       "      <td>1.00</td>\n",
       "      <td>Revelstoke</td>\n",
       "      <td>Valid</td>\n",
       "      <td>CI1</td>\n",
       "      <td>51.33333</td>\n",
       "      <td>-118.95000</td>\n",
       "      <td>1965-01-01T00:00:00.000</td>\n",
       "    </tr>\n",
       "    <tr>\n",
       "      <th>231</th>\n",
       "      <td>Fell</td>\n",
       "      <td>{'type': 'Point', 'coordinates': [77.25, 28.56...</td>\n",
       "      <td>6642</td>\n",
       "      <td>0.80</td>\n",
       "      <td>Delhi</td>\n",
       "      <td>Valid</td>\n",
       "      <td>L5</td>\n",
       "      <td>28.56667</td>\n",
       "      <td>77.25000</td>\n",
       "      <td>1897-01-01T00:00:00.000</td>\n",
       "    </tr>\n",
       "    <tr>\n",
       "      <th>180</th>\n",
       "      <td>Fell</td>\n",
       "      <td>{'type': 'Point', 'coordinates': [81.66667, 25...</td>\n",
       "      <td>5314</td>\n",
       "      <td>0.50</td>\n",
       "      <td>Chail</td>\n",
       "      <td>Valid</td>\n",
       "      <td>H6</td>\n",
       "      <td>25.36667</td>\n",
       "      <td>81.66667</td>\n",
       "      <td>1814-01-01T00:00:00.000</td>\n",
       "    </tr>\n",
       "    <tr>\n",
       "      <th>359</th>\n",
       "      <td>Fell</td>\n",
       "      <td>{'type': 'Point', 'coordinates': [139.33333, 3...</td>\n",
       "      <td>11468</td>\n",
       "      <td>0.20</td>\n",
       "      <td>Hachi-oji</td>\n",
       "      <td>Valid</td>\n",
       "      <td>H?</td>\n",
       "      <td>35.65000</td>\n",
       "      <td>139.33333</td>\n",
       "      <td>1817-01-01T00:00:00.000</td>\n",
       "    </tr>\n",
       "    <tr>\n",
       "      <th>922</th>\n",
       "      <td>Fell</td>\n",
       "      <td>{'type': 'Point', 'coordinates': [27.26667, 44...</td>\n",
       "      <td>55584</td>\n",
       "      <td>0.15</td>\n",
       "      <td>Silistra</td>\n",
       "      <td>Valid</td>\n",
       "      <td>Achondrite-ung</td>\n",
       "      <td>44.11667</td>\n",
       "      <td>27.26667</td>\n",
       "      <td>1917-01-01T00:00:00.000</td>\n",
       "    </tr>\n",
       "  </tbody>\n",
       "</table>\n",
       "<p>959 rows × 10 columns</p>\n",
       "</div>"
      ],
      "text/plain": [
       "     fall                                        geolocation     id  \\\n",
       "920  Fell  {'type': 'Point', 'coordinates': [134.65333, 4...  23593   \n",
       "419  Fell  {'type': 'Point', 'coordinates': [126.16667, 4...  12171   \n",
       "29   Fell  {'type': 'Point', 'coordinates': [-105.31667, ...   2278   \n",
       "506  Fell    {'type': 'Point', 'coordinates': [59.2, 42.25]}  12379   \n",
       "707  Fell  {'type': 'Point', 'coordinates': [-99.86667, 3...  17922   \n",
       "418  Fell  {'type': 'Point', 'coordinates': [109.5, 30.80...  12087   \n",
       "718  Fell  {'type': 'Point', 'coordinates': [55.26667, 57...  17979   \n",
       "490  Fell     {'type': 'Point', 'coordinates': [22.4, 48.9]}  12335   \n",
       "760  Fell  {'type': 'Point', 'coordinates': [-90.5, 36.06...  18101   \n",
       "625  Fell  {'type': 'Point', 'coordinates': [120.36667, -...  16643   \n",
       "121  Fell     {'type': 'Point', 'coordinates': [25.8, 60.4]}   5064   \n",
       "956  Fell  {'type': 'Point', 'coordinates': [55.98333, 53...  23724   \n",
       "291  Fell  {'type': 'Point', 'coordinates': [-94.83333, 4...  10059   \n",
       "145  Fell  {'type': 'Point', 'coordinates': [-112.88333, ...   5156   \n",
       "819  Fell  {'type': 'Point', 'coordinates': [-53.05, -29....  18905   \n",
       "634  Fell  {'type': 'Point', 'coordinates': [24.03333, 46...  16709   \n",
       "871  Fell  {'type': 'Point', 'coordinates': [0.23333, 45.3]}  23102   \n",
       "964  Fell  {'type': 'Point', 'coordinates': [113.46667, 3...  23738   \n",
       "130  Fell  {'type': 'Point', 'coordinates': [131.63333, 4...   5098   \n",
       "733  Fell  {'type': 'Point', 'coordinates': [161.80833, 6...  18019   \n",
       "817  Fell  {'type': 'Point', 'coordinates': [21.26667, 52...  18901   \n",
       "382  Fell  {'type': 'Point', 'coordinates': [-91.86667, 4...  11901   \n",
       "688  Fell  {'type': 'Point', 'coordinates': [-81.76667, 40]}  16953   \n",
       "27   Fell  {'type': 'Point', 'coordinates': [10.15, 45.26...    466   \n",
       "380  Fell  {'type': 'Point', 'coordinates': [-110.18333, ...  11894   \n",
       "886  Fell   {'type': 'Point', 'coordinates': [46.55, 52.55]}  23176   \n",
       "437  Fell  {'type': 'Point', 'coordinates': [53.25, 55.43...  12229   \n",
       "505  Fell  {'type': 'Point', 'coordinates': [61.36667, 55...  12377   \n",
       "244  Fell    {'type': 'Point', 'coordinates': [111.5, -7.5]}   7652   \n",
       "985  Fell  {'type': 'Point', 'coordinates': [142.95, -25....  23897   \n",
       "..    ...                                                ...    ...   \n",
       "355  Fell  {'type': 'Point', 'coordinates': [78.56667, 13...  11464   \n",
       "317  Fell  {'type': 'Point', 'coordinates': [12.43333, 7....  10849   \n",
       "230  Fell     {'type': 'Point', 'coordinates': [-74, 40.25]}   6634   \n",
       "588  Fell  {'type': 'Point', 'coordinates': [11.46745, 54...  48973   \n",
       "660  Fell  {'type': 'Point', 'coordinates': [80.83333, 9....  16851   \n",
       "551  Fell   {'type': 'Point', 'coordinates': [-0.83333, 38]}  14708   \n",
       "597  Fell           {'type': 'Point', 'coordinates': [0, 0]}  53653   \n",
       "948  Fell  {'type': 'Point', 'coordinates': [-76.38333, 3...  23091   \n",
       "78   Fell  {'type': 'Point', 'coordinates': [84.08333, 52...   4947   \n",
       "509  Fell  {'type': 'Point', 'coordinates': [39.3, 44.516...  12383   \n",
       "606  Fell  {'type': 'Point', 'coordinates': [77.8, 29.016...  15469   \n",
       "411  Fell  {'type': 'Point', 'coordinates': [75.33333, 18...  12072   \n",
       "0    Fell  {'type': 'Point', 'coordinates': [6.08333, 50....      1   \n",
       "668  Fell  {'type': 'Point', 'coordinates': [78.21667, 26...  16892   \n",
       "841  Fell  {'type': 'Point', 'coordinates': [-119.75812, ...  53502   \n",
       "108  Fell  {'type': 'Point', 'coordinates': [74.83333, 20...   5037   \n",
       "79   Fell        {'type': 'Point', 'coordinates': [9.1, 52]}   4948   \n",
       "73   Fell     {'type': 'Point', 'coordinates': [78.2, 30.4]}   4937   \n",
       "105  Fell  {'type': 'Point', 'coordinates': [-73.83333, 4...   5032   \n",
       "792  Fell  {'type': 'Point', 'coordinates': [11.50222, 44...  18813   \n",
       "769  Fell  {'type': 'Point', 'coordinates': [14.96667, 38...  18118   \n",
       "170  Fell       {'type': 'Point', 'coordinates': [27, 38.5]}   5265   \n",
       "838  Fell  {'type': 'Point', 'coordinates': [50.15, 26.66...  22395   \n",
       "508  Fell  {'type': 'Point', 'coordinates': [78.38333, 29...  12382   \n",
       "782  Fell  {'type': 'Point', 'coordinates': [-3.43333, 56...  18797   \n",
       "848  Fell  {'type': 'Point', 'coordinates': [-118.95, 51....  22592   \n",
       "231  Fell  {'type': 'Point', 'coordinates': [77.25, 28.56...   6642   \n",
       "180  Fell  {'type': 'Point', 'coordinates': [81.66667, 25...   5314   \n",
       "359  Fell  {'type': 'Point', 'coordinates': [139.33333, 3...  11468   \n",
       "922  Fell  {'type': 'Point', 'coordinates': [27.26667, 44...  55584   \n",
       "\n",
       "            mass               name nametype           recclass    reclat  \\\n",
       "920  23000000.00       Sikhote-Alin    Valid         Iron, IIAB  46.16000   \n",
       "419   4000000.00              Jilin    Valid                 H5  44.05000   \n",
       "29    2000000.00            Allende    Valid                CV3  26.96667   \n",
       "506   1100000.00      Kunya-Urgench    Valid                 H5  42.25000   \n",
       "707   1100000.00      Norton County    Valid            Aubrite  39.68333   \n",
       "418    600000.00            Jianshi    Valid        Iron, IIIAB  30.80833   \n",
       "718    500000.00            Ochansk    Valid                 H4  57.78333   \n",
       "490    500000.00          Knyahinya    Valid              L/LL5  48.90000   \n",
       "760    408000.00          Paragould    Valid                LL5  36.06667   \n",
       "625    330000.00      Millbillillie    Valid      Eucrite-mmict -26.45000   \n",
       "121    330000.00           Bjurböle    Valid              L/LL4  60.40000   \n",
       "956    325000.00        Sterlitamak    Valid        Iron, IIIAB  53.66667   \n",
       "291    320000.00        Estherville    Valid  Mesosiderite-A3/4  43.41667   \n",
       "145    303000.00         Bruderheim    Valid                 L6  53.90000   \n",
       "819    300000.00            Putinga    Valid                 L6 -29.03333   \n",
       "634    300000.00               Mocs    Valid               L5-6  46.80000   \n",
       "871    271000.00      Saint-Séverin    Valid                LL6  45.30000   \n",
       "964    260000.00            Suizhou    Valid                 L6  31.61667   \n",
       "130    256000.00         Boguslavka    Valid         Iron, IIAB  44.55000   \n",
       "733    250000.00             Omolon    Valid     Pallasite, PMG  64.02000   \n",
       "817    250000.00            Pultusk    Valid                 H5  52.76667   \n",
       "382    230000.00          Homestead    Valid                 L5  41.80000   \n",
       "688    230000.00        New Concord    Valid                 L6  40.00000   \n",
       "27     228000.00         Alfianello    Valid                 L6  45.26667   \n",
       "380    220000.00           Holbrook    Valid              L/LL6  34.90000   \n",
       "886    200000.00            Saratov    Valid                 L4  52.55000   \n",
       "437    200000.00            Kainsaz    Valid              CO3.2  55.43333   \n",
       "505    200000.00           Kunashak    Valid                 L6  55.78333   \n",
       "244    166000.00     Djati-Pengilon    Valid                 H6  -7.50000   \n",
       "985    160000.00             Tenham    Valid                 L6 -25.73333   \n",
       "..           ...                ...      ...                ...       ...   \n",
       "355        28.00       Gurram Konda    Valid                 L6  13.78333   \n",
       "317        28.00          Galim (b)    Valid           EH3/4-an   7.05000   \n",
       "230        28.00               Deal    Valid                 L6  40.25000   \n",
       "588        25.81             Maribo    Valid                CM2  54.76183   \n",
       "660        25.50          Mulletiwu    Valid                  L   9.33333   \n",
       "551        25.00       Los Martinez    Valid                 L6  38.00000   \n",
       "597        24.54        Mason Gully    Valid                 H5   0.00000   \n",
       "948        24.30  St. Mary's County    Valid              LL3.3  38.16667   \n",
       "78         23.20            Barnaul    Valid                 H5  52.73333   \n",
       "509        23.00             Kutais    Valid                 H5  44.51667   \n",
       "606        22.00             Meerut    Valid                 H5  29.01667   \n",
       "411        22.00           Jamkheir    Valid                 H6  18.75000   \n",
       "0          21.00             Aachen    Valid                 L5  50.77500   \n",
       "668        20.00            Nagaria    Valid         Eucrite-cm  26.98333   \n",
       "841        18.41    Red Canyon Lake    Valid                 H5  38.13742   \n",
       "108        18.00             Bhagur    Valid                 L6  20.88333   \n",
       "79         17.00           Barntrup    Valid                LL4  52.00000   \n",
       "73         14.00            Banswal    Valid                 L5  30.40000   \n",
       "105        13.90          Bethlehem    Valid                  H  42.53333   \n",
       "792        13.10        Piancaldoli    Valid              LL3.4  44.24417   \n",
       "769        12.00              Patti    Valid               Iron  38.13333   \n",
       "170         8.00           Caratash    Valid                LL6  38.50000   \n",
       "838         6.10         Ras Tanura    Valid                 H6  26.66667   \n",
       "508         5.00            Kusiali    Valid                 L6  29.68333   \n",
       "782         2.00              Perth    Valid                LL5  56.40000   \n",
       "848         1.00         Revelstoke    Valid                CI1  51.33333   \n",
       "231         0.80              Delhi    Valid                 L5  28.56667   \n",
       "180         0.50              Chail    Valid                 H6  25.36667   \n",
       "359         0.20          Hachi-oji    Valid                 H?  35.65000   \n",
       "922         0.15           Silistra    Valid     Achondrite-ung  44.11667   \n",
       "\n",
       "       reclong                     year  \n",
       "920  134.65333  1947-01-01T00:00:00.000  \n",
       "419  126.16667  1976-01-01T00:00:00.000  \n",
       "29  -105.31667  1969-01-01T00:00:00.000  \n",
       "506   59.20000  1998-01-01T00:00:00.000  \n",
       "707  -99.86667  1948-01-01T00:00:00.000  \n",
       "418  109.50000  1890-01-01T00:00:00.000  \n",
       "718   55.26667  1887-01-01T00:00:00.000  \n",
       "490   22.40000  1866-01-01T00:00:00.000  \n",
       "760  -90.50000  1930-01-01T00:00:00.000  \n",
       "625  120.36667  1960-01-01T00:00:00.000  \n",
       "121   25.80000  1899-01-01T00:00:00.000  \n",
       "956   55.98333  1990-01-01T00:00:00.000  \n",
       "291  -94.83333  1879-01-01T00:00:00.000  \n",
       "145 -112.88333  1960-01-01T00:00:00.000  \n",
       "819  -53.05000  1937-01-01T00:00:00.000  \n",
       "634   24.03333  1882-01-01T00:00:00.000  \n",
       "871    0.23333  1966-01-01T00:00:00.000  \n",
       "964  113.46667  1986-01-01T00:00:00.000  \n",
       "130  131.63333  1916-01-01T00:00:00.000  \n",
       "733  161.80833  1981-01-01T00:00:00.000  \n",
       "817   21.26667  1868-01-01T00:00:00.000  \n",
       "382  -91.86667  1875-01-01T00:00:00.000  \n",
       "688  -81.76667  1860-01-01T00:00:00.000  \n",
       "27    10.15000  1883-01-01T00:00:00.000  \n",
       "380 -110.18333  1912-01-01T00:00:00.000  \n",
       "886   46.55000  1918-01-01T00:00:00.000  \n",
       "437   53.25000  1937-01-01T00:00:00.000  \n",
       "505   61.36667  1949-01-01T00:00:00.000  \n",
       "244  111.50000  1884-01-01T00:00:00.000  \n",
       "985  142.95000  1879-01-01T00:00:00.000  \n",
       "..         ...                      ...  \n",
       "355   78.56667  1814-01-01T00:00:00.000  \n",
       "317   12.43333  1952-01-01T00:00:00.000  \n",
       "230  -74.00000  1829-01-01T00:00:00.000  \n",
       "588   11.46745  2009-01-01T00:00:00.000  \n",
       "660   80.83333  1795-01-01T00:00:00.000  \n",
       "551   -0.83333  1894-01-01T00:00:00.000  \n",
       "597    0.00000  2010-01-01T00:00:00.000  \n",
       "948  -76.38333  1919-01-01T00:00:00.000  \n",
       "78    84.08333  1904-01-01T00:00:00.000  \n",
       "509   39.30000  1977-01-01T00:00:00.000  \n",
       "606   77.80000  1861-01-01T00:00:00.000  \n",
       "411   75.33333  1866-01-01T00:00:00.000  \n",
       "0      6.08333  1880-01-01T00:00:00.000  \n",
       "668   78.21667  1875-01-01T00:00:00.000  \n",
       "841 -119.75812  2007-01-01T00:00:00.000  \n",
       "108   74.83333  1877-01-01T00:00:00.000  \n",
       "79     9.10000  1886-01-01T00:00:00.000  \n",
       "73    78.20000  1913-01-01T00:00:00.000  \n",
       "105  -73.83333  1859-01-01T00:00:00.000  \n",
       "792   11.50222  1968-01-01T00:00:00.000  \n",
       "769   14.96667  1922-01-01T00:00:00.000  \n",
       "170   27.00000  1902-01-01T00:00:00.000  \n",
       "838   50.15000  1961-01-01T00:00:00.000  \n",
       "508   78.38333  1860-01-01T00:00:00.000  \n",
       "782   -3.43333  1830-01-01T00:00:00.000  \n",
       "848 -118.95000  1965-01-01T00:00:00.000  \n",
       "231   77.25000  1897-01-01T00:00:00.000  \n",
       "180   81.66667  1814-01-01T00:00:00.000  \n",
       "359  139.33333  1817-01-01T00:00:00.000  \n",
       "922   27.26667  1917-01-01T00:00:00.000  \n",
       "\n",
       "[959 rows x 10 columns]"
      ]
     },
     "execution_count": 62,
     "metadata": {},
     "output_type": "execute_result"
    }
   ],
   "source": [
    "## Q12:  print out rows that represent the largest meteorites by mass\n",
    "space_clean"
   ]
  },
  {
   "cell_type": "code",
   "execution_count": 76,
   "metadata": {
    "colab": {},
    "colab_type": "code",
    "id": "ZdKvJtClNdi5"
   },
   "outputs": [
    {
     "data": {
      "text/html": [
       "<div>\n",
       "<style scoped>\n",
       "    .dataframe tbody tr th:only-of-type {\n",
       "        vertical-align: middle;\n",
       "    }\n",
       "\n",
       "    .dataframe tbody tr th {\n",
       "        vertical-align: top;\n",
       "    }\n",
       "\n",
       "    .dataframe thead th {\n",
       "        text-align: right;\n",
       "    }\n",
       "</style>\n",
       "<table border=\"1\" class=\"dataframe\">\n",
       "  <thead>\n",
       "    <tr style=\"text-align: right;\">\n",
       "      <th></th>\n",
       "      <th>fall</th>\n",
       "      <th>geolocation</th>\n",
       "      <th>id</th>\n",
       "      <th>mass</th>\n",
       "      <th>name</th>\n",
       "      <th>nametype</th>\n",
       "      <th>recclass</th>\n",
       "      <th>reclat</th>\n",
       "      <th>reclong</th>\n",
       "      <th>year</th>\n",
       "    </tr>\n",
       "  </thead>\n",
       "  <tbody>\n",
       "  </tbody>\n",
       "</table>\n",
       "</div>"
      ],
      "text/plain": [
       "Empty DataFrame\n",
       "Columns: [fall, geolocation, id, mass, name, nametype, recclass, reclat, reclong, year]\n",
       "Index: []"
      ]
     },
     "execution_count": 76,
     "metadata": {},
     "output_type": "execute_result"
    }
   ],
   "source": [
    "## Q13:  keep the 100 smallest meteorites and save this as space100\n",
    "space100 = space_clean[-100:]\n"
   ]
  },
  {
   "cell_type": "code",
   "execution_count": 91,
   "metadata": {
    "colab": {},
    "colab_type": "code",
    "id": "r-05sAOcN5OO"
   },
   "outputs": [
    {
     "data": {
      "image/png": "[encoded data removed]",
      "text/plain": [
       "<Figure size 432x288 with 1 Axes>"
      ]
     },
     "metadata": {
      "needs_background": "light"
     },
     "output_type": "display_data"
    }
   ],
   "source": [
    "## Q14:  create a boxplot of the mass for the smallest 100 meteorites\n",
    "##       give the plot a title of: Distribution for Smallest 100 Meteorites to land on Earth\n",
    "plt.title(\"Distribution for Smallest 100 Meteorites to land on Earth\")\n",
    "space100.boxplot(\"mass\")\n",
    "plt.show()"
   ]
  },
  {
   "cell_type": "markdown",
   "metadata": {
    "colab_type": "text",
    "id": "uROvM9FxN6QW"
   },
   "source": [
    "<br>\n",
    "<hr color=\"red\"  width=\"100%\"  size=\"2\">\n",
    "<br>"
   ]
  },
  {
   "cell_type": "markdown",
   "metadata": {
    "colab_type": "text",
    "id": "HVTwujNhO4mW"
   },
   "source": [
    "# Part 3\n",
    "\n",
    "This part deals with a dataset from the televsion painter Bob Ross.\n",
    "\n",
    "The dataset can be loaded from the url shown below:\n",
    "\n",
    "> `https://raw.githubusercontent.com/fivethirtyeight/data/master/bob-ross/elements-by-episode.csv`\n",
    "\n",
    "\n",
    "### Data notes:\n",
    "\n",
    "The numeric columns are bounded to 0/1, with a 1 representing if the element was found within the episode"
   ]
  },
  {
   "cell_type": "code",
   "execution_count": 265,
   "metadata": {
    "colab": {},
    "colab_type": "code",
    "id": "PKE4J8ZOVCEi"
   },
   "outputs": [],
   "source": [
    "## set some options to help with printing and exploring of this dataset\n",
    "pd.options.display.max_rows = 100\n",
    "pd.options.display.max_columns = 100"
   ]
  },
  {
   "cell_type": "code",
   "execution_count": 93,
   "metadata": {
    "colab": {},
    "colab_type": "code",
    "id": "phyyKy-rO7sw"
   },
   "outputs": [],
   "source": [
    "## Q1:  load the dataset and call it bobross\n",
    "bobross = pd.read_csv(\"https://raw.githubusercontent.com/fivethirtyeight/data/master/bob-ross/elements-by-episode.csv\")"
   ]
  },
  {
   "cell_type": "code",
   "execution_count": 101,
   "metadata": {
    "colab": {},
    "colab_type": "code",
    "id": "XU_2cSnxRIrk"
   },
   "outputs": [
    {
     "data": {
      "text/plain": [
       "69"
      ]
     },
     "execution_count": 101,
     "metadata": {},
     "output_type": "execute_result"
    }
   ],
   "source": [
    "## Q2:  write a snippet of code that returns a single number, the number of columns in the dataset\n",
    "bobross.shape[1]"
   ]
  },
  {
   "cell_type": "code",
   "execution_count": 150,
   "metadata": {
    "colab": {},
    "colab_type": "code",
    "id": "JMwRyMrkQB1J"
   },
   "outputs": [
    {
     "data": {
      "text/html": [
       "<div>\n",
       "<style scoped>\n",
       "    .dataframe tbody tr th:only-of-type {\n",
       "        vertical-align: middle;\n",
       "    }\n",
       "\n",
       "    .dataframe tbody tr th {\n",
       "        vertical-align: top;\n",
       "    }\n",
       "\n",
       "    .dataframe thead th {\n",
       "        text-align: right;\n",
       "    }\n",
       "</style>\n",
       "<table border=\"1\" class=\"dataframe\">\n",
       "  <thead>\n",
       "    <tr style=\"text-align: right;\">\n",
       "      <th></th>\n",
       "      <th>0</th>\n",
       "    </tr>\n",
       "  </thead>\n",
       "  <tbody>\n",
       "    <tr>\n",
       "      <th>TREE</th>\n",
       "      <td>361</td>\n",
       "    </tr>\n",
       "    <tr>\n",
       "      <th>TREES</th>\n",
       "      <td>337</td>\n",
       "    </tr>\n",
       "    <tr>\n",
       "      <th>DECIDUOUS</th>\n",
       "      <td>227</td>\n",
       "    </tr>\n",
       "    <tr>\n",
       "      <th>CONIFER</th>\n",
       "      <td>212</td>\n",
       "    </tr>\n",
       "    <tr>\n",
       "      <th>CLOUDS</th>\n",
       "      <td>179</td>\n",
       "    </tr>\n",
       "  </tbody>\n",
       "</table>\n",
       "</div>"
      ],
      "text/plain": [
       "             0\n",
       "TREE       361\n",
       "TREES      337\n",
       "DECIDUOUS  227\n",
       "CONIFER    212\n",
       "CLOUDS     179"
      ]
     },
     "execution_count": 150,
     "metadata": {},
     "output_type": "execute_result"
    }
   ],
   "source": [
    "## Q3:  Return the 5 columns that appeared the most (sum) across all episodes\n",
    "##      Return both the column name and the number of appearances\n",
    "\n",
    "test = bobross.sum()\n",
    "t2 = test.to_frame()\n",
    "t3 = t2[2:]\n",
    "t3.sort_values(0, ascending = False).head(5)"
   ]
  },
  {
   "cell_type": "code",
   "execution_count": 231,
   "metadata": {
    "colab": {},
    "colab_type": "code",
    "id": "VDPJ88apV91V"
   },
   "outputs": [],
   "source": [
    "## Q5:  Remove the \" chracter from the title column with no character (\"\"), put this in a new column called title2\n",
    "\n",
    "bobross[\"title2\"] = bobross.TITLE.str.replace('\"','')"
   ]
  },
  {
   "cell_type": "code",
   "execution_count": 250,
   "metadata": {
    "colab": {},
    "colab_type": "code",
    "id": "aXWx_t1bRUg8"
   },
   "outputs": [
    {
     "data": {
      "text/plain": [
       "325    \"IN THE STILLNESS OF MORNING\"\n",
       "296      \"FROZEN BEAUTY IN VIGNETTE\"\n",
       "302      \"LITTLE HOME IN THE MEADOW\"\n",
       "348      \"SPLENDOR OF A SNOWY WHITE\"\n",
       "236       \"FINAL EMBERS OF SUNLIGHT\"\n",
       "111       \"LITTLE HOUSE BY-THE-ROAD\"\n",
       "364       \"ISLAND IN THE WILDERNESS\"\n",
       "171        \"MOUNTAIN MOONLIGHT OVAL\"\n",
       "186        \"HIDDEN WINTER MOON OVAL\"\n",
       "354        \"GOLDEN RAYS OF SUNLIGHT\"\n",
       "347        \"SUNLIGHT IN THE SHADOWS\"\n",
       "96         \"BUBBLING MOUNTAIN BROOK\"\n",
       "333         \"TRANQUIL WOODED STREAM\"\n",
       "357         \"THE OLD WEATHERED BARN\"\n",
       "326         \"DELIGHTFUL MEADOW HOME\"\n",
       "Name: TITLE, dtype: object"
      ]
     },
     "execution_count": 250,
     "metadata": {},
     "output_type": "execute_result"
    }
   ],
   "source": [
    "## Q6:  Identify the 15 episodes with the longest titles\n",
    "##      Return just the title\n",
    "bobross[\"title_len\"] = bobross.title2.str.len()\n",
    "bobross2 = bobross.sort_values(\"title_len\", ascending = False)\n",
    "bobross2.TITLE.head(15)"
   ]
  },
  {
   "cell_type": "code",
   "execution_count": 261,
   "metadata": {
    "colab": {},
    "colab_type": "code",
    "id": "L71TM-CikeJM"
   },
   "outputs": [],
   "source": [
    "## Q7:  Create a new column, total_elements, that is the count (or sum) of the total number of elements found within an episode\n",
    "##      Elements that are considered should be APPLE_FRAME to WOOD_FRAMED\n",
    "bobross[\"total_elements\"] = bobross.loc[:,\"APPLE_FRAME\":\"WOOD_FRAMED\"].sum(axis = 1)\n",
    "\n"
   ]
  },
  {
   "cell_type": "code",
   "execution_count": 272,
   "metadata": {
    "colab": {},
    "colab_type": "code",
    "id": "JEcaI1bTlGFb"
   },
   "outputs": [
    {
     "data": {
      "text/plain": [
       "'01'"
      ]
     },
     "execution_count": 272,
     "metadata": {},
     "output_type": "execute_result"
    },
    {
     "data": {
      "image/png": "[encoded data removed]",
      "text/plain": [
       "<Figure size 432x288 with 1 Axes>"
      ]
     },
     "metadata": {
      "needs_background": "light"
     },
     "output_type": "display_data"
    }
   ],
   "source": [
    "## Q8:  Create a boxplot for this new column, total elements\n",
    "bobross.boxplot(\"total_elements\")\n"
   ]
  },
  {
   "cell_type": "code",
   "execution_count": 305,
   "metadata": {
    "colab": {},
    "colab_type": "code",
    "id": "iJ6nlLYilGXP"
   },
   "outputs": [],
   "source": [
    "## Q9:  Using python, create two columns, one for the season number, and the second for the episode number\n",
    "##      the finished column should be a number for each\n",
    "##      the columns should be season_num and episode_num\n",
    "bobross[\"season_num\"]= bobross.EPISODE.str[1:3]\n",
    "bobross[\"episode_num\"] = bobross.EPISODE.str[4:7]"
   ]
  },
  {
   "cell_type": "markdown",
   "metadata": {
    "colab_type": "text",
    "id": "cQbDTuaHUacS"
   },
   "source": [
    "<br>\n",
    "<hr color=\"red\"  width=\"100%\"  size=\"2\">\n",
    "<br>"
   ]
  },
  {
   "cell_type": "markdown",
   "metadata": {
    "colab_type": "text",
    "id": "Ei9lwKlxU2_a"
   },
   "source": [
    "# Part 4:\n",
    "\n",
    "This next dataset looks at graduate outcomes by major.  The dataset can be found at the url below:\n",
    "\n",
    "> `https://raw.githubusercontent.com/fivethirtyeight/data/master/college-majors/grad-students.csv`\n",
    "\n",
    "## Data Dictionary:\n",
    "\n",
    "Header | Description\n",
    "---|---------\n",
    "`Rank` | Rank by median earnings\n",
    "`Major_code` | Major code, FO1DP in ACS PUMS\n",
    "`Major` | Major description\n",
    "`Major_category` | Category of major from Carnevale et al\n",
    "`Total` | Total number of people with major\n",
    "`Sample_size` | Sample size (unweighted) of full-time, year-round ONLY (used for earnings)\n",
    "`Men` | Male graduates\n",
    "`Women` | Female graduates\n",
    "`ShareWomen` | Women as share of total\n",
    "`Employed` | Number employed (ESR == 1 or 2)\n",
    "`Full_time` | Employed 35 hours or more\n",
    "`Part_time` | Employed less than 35 hours\n",
    "`Full_time_year_round` | Employed at least 50 weeks (WKW == 1) and at least 35 hours (WKHP >= 35)\n",
    "`Unemployed` | Number unemployed (ESR == 3)\n",
    "`Unemployment_rate` | Unemployed / (Unemployed + Employed)\n",
    "`Median` | Median earnings of full-time, year-round workers\n",
    "`P25th` | 25th percentile of earnigns\n",
    "`P75th` | 75th percentile of earnings\n",
    "`College_jobs` | Number with job requiring a college degree\n",
    "`Non_college_jobs` | Number with job not requiring a college degree\n",
    "`Low_wage_jobs` | Number in low-wage service jobs"
   ]
  },
  {
   "cell_type": "code",
   "execution_count": 477,
   "metadata": {
    "colab": {},
    "colab_type": "code",
    "id": "GzwXYZIGW8Ui"
   },
   "outputs": [],
   "source": [
    "## Q1:  Import the dataset into a pandas DataFrame and call it grads\n",
    "grads = pd.read_csv(\"https://raw.githubusercontent.com/fivethirtyeight/data/master/college-majors/recent-grads.csv\")"
   ]
  },
  {
   "cell_type": "code",
   "execution_count": 478,
   "metadata": {
    "colab": {},
    "colab_type": "code",
    "id": "1veHjQq5Y0pe"
   },
   "outputs": [],
   "source": [
    "## Q2:  Create a new column that is the percentage of Total grads employed full time year round\n",
    "##      call this new column pct_all_year \n",
    "\n",
    "grads[\"pct_all_year\"] = (grads[\"Full_time_year_round\"]/grads.Total) *100"
   ]
  },
  {
   "cell_type": "code",
   "execution_count": 479,
   "metadata": {
    "colab": {},
    "colab_type": "code",
    "id": "G2WJ3jLIY3Jt"
   },
   "outputs": [],
   "source": [
    "## Q3:  Create a new column that is the percentage of all Total grads in low wage service jobs\n",
    "##      call this new column pct_low_wage\n",
    "grads[\"pct_low_wage\"] = (grads[\"Low_wage_jobs\"]/grads.Total) *100"
   ]
  },
  {
   "cell_type": "code",
   "execution_count": 480,
   "metadata": {
    "colab": {},
    "colab_type": "code",
    "id": "xVtPdXSIY3Rt"
   },
   "outputs": [
    {
     "data": {
      "text/plain": [
       "Rank                    0\n",
       "Major_code              0\n",
       "Major                   0\n",
       "Total                   1\n",
       "Men                     1\n",
       "Women                   1\n",
       "Major_category          0\n",
       "ShareWomen              1\n",
       "Sample_size             0\n",
       "Employed                0\n",
       "Full_time               0\n",
       "Part_time               0\n",
       "Full_time_year_round    0\n",
       "Unemployed              0\n",
       "Unemployment_rate       0\n",
       "Median                  0\n",
       "P25th                   0\n",
       "P75th                   0\n",
       "College_jobs            0\n",
       "Non_college_jobs        0\n",
       "Low_wage_jobs           0\n",
       "pct_all_year            1\n",
       "pct_low_wage            1\n",
       "dtype: int64"
      ]
     },
     "execution_count": 480,
     "metadata": {},
     "output_type": "execute_result"
    }
   ],
   "source": [
    "## Q4:  How many missing rows are there for each column\n",
    "grads.isna().sum()"
   ]
  },
  {
   "cell_type": "code",
   "execution_count": 481,
   "metadata": {
    "colab": {},
    "colab_type": "code",
    "id": "Q6b6mf-qY3X4"
   },
   "outputs": [],
   "source": [
    "## Q5:  remove all rows that have at least 1 missing value in any column\n",
    "##      this new dataset should still be called grads\n",
    "grads = grads.dropna()"
   ]
  },
  {
   "cell_type": "code",
   "execution_count": 482,
   "metadata": {
    "colab": {},
    "colab_type": "code",
    "id": "H7hbSAWHbP1Q"
   },
   "outputs": [
    {
     "data": {
      "text/html": [
       "<div>\n",
       "<style scoped>\n",
       "    .dataframe tbody tr th:only-of-type {\n",
       "        vertical-align: middle;\n",
       "    }\n",
       "\n",
       "    .dataframe tbody tr th {\n",
       "        vertical-align: top;\n",
       "    }\n",
       "\n",
       "    .dataframe thead th {\n",
       "        text-align: right;\n",
       "    }\n",
       "</style>\n",
       "<table border=\"1\" class=\"dataframe\">\n",
       "  <thead>\n",
       "    <tr style=\"text-align: right;\">\n",
       "      <th></th>\n",
       "      <th>Rank</th>\n",
       "      <th>Major_code</th>\n",
       "      <th>Major</th>\n",
       "      <th>Total</th>\n",
       "      <th>Men</th>\n",
       "      <th>Women</th>\n",
       "      <th>Major_category</th>\n",
       "      <th>ShareWomen</th>\n",
       "      <th>Sample_size</th>\n",
       "      <th>Employed</th>\n",
       "      <th>Full_time</th>\n",
       "      <th>Part_time</th>\n",
       "      <th>Full_time_year_round</th>\n",
       "      <th>Unemployed</th>\n",
       "      <th>Unemployment_rate</th>\n",
       "      <th>Median</th>\n",
       "      <th>P25th</th>\n",
       "      <th>P75th</th>\n",
       "      <th>College_jobs</th>\n",
       "      <th>Non_college_jobs</th>\n",
       "      <th>Low_wage_jobs</th>\n",
       "      <th>pct_all_year</th>\n",
       "      <th>pct_low_wage</th>\n",
       "    </tr>\n",
       "  </thead>\n",
       "  <tbody>\n",
       "    <tr>\n",
       "      <th>5</th>\n",
       "      <td>6</td>\n",
       "      <td>2418</td>\n",
       "      <td>NUCLEAR ENGINEERING</td>\n",
       "      <td>2573.0</td>\n",
       "      <td>2200.0</td>\n",
       "      <td>373.0</td>\n",
       "      <td>Engineering</td>\n",
       "      <td>0.144967</td>\n",
       "      <td>17</td>\n",
       "      <td>1857</td>\n",
       "      <td>2038</td>\n",
       "      <td>264</td>\n",
       "      <td>1449</td>\n",
       "      <td>400</td>\n",
       "      <td>0.177226</td>\n",
       "      <td>65000</td>\n",
       "      <td>50000</td>\n",
       "      <td>102000</td>\n",
       "      <td>1142</td>\n",
       "      <td>657</td>\n",
       "      <td>244</td>\n",
       "      <td>56.315585</td>\n",
       "      <td>9.483094</td>\n",
       "    </tr>\n",
       "    <tr>\n",
       "      <th>89</th>\n",
       "      <td>90</td>\n",
       "      <td>5401</td>\n",
       "      <td>PUBLIC ADMINISTRATION</td>\n",
       "      <td>5629.0</td>\n",
       "      <td>2947.0</td>\n",
       "      <td>2682.0</td>\n",
       "      <td>Law &amp; Public Policy</td>\n",
       "      <td>0.476461</td>\n",
       "      <td>46</td>\n",
       "      <td>4158</td>\n",
       "      <td>4148</td>\n",
       "      <td>847</td>\n",
       "      <td>2952</td>\n",
       "      <td>789</td>\n",
       "      <td>0.159491</td>\n",
       "      <td>36000</td>\n",
       "      <td>23000</td>\n",
       "      <td>60000</td>\n",
       "      <td>919</td>\n",
       "      <td>2313</td>\n",
       "      <td>496</td>\n",
       "      <td>52.442707</td>\n",
       "      <td>8.811512</td>\n",
       "    </tr>\n",
       "    <tr>\n",
       "      <th>84</th>\n",
       "      <td>85</td>\n",
       "      <td>2107</td>\n",
       "      <td>COMPUTER NETWORKING AND TELECOMMUNICATIONS</td>\n",
       "      <td>7613.0</td>\n",
       "      <td>5291.0</td>\n",
       "      <td>2322.0</td>\n",
       "      <td>Computers &amp; Mathematics</td>\n",
       "      <td>0.305005</td>\n",
       "      <td>97</td>\n",
       "      <td>6144</td>\n",
       "      <td>5495</td>\n",
       "      <td>1447</td>\n",
       "      <td>4369</td>\n",
       "      <td>1100</td>\n",
       "      <td>0.151850</td>\n",
       "      <td>36400</td>\n",
       "      <td>27000</td>\n",
       "      <td>49000</td>\n",
       "      <td>2593</td>\n",
       "      <td>2941</td>\n",
       "      <td>352</td>\n",
       "      <td>57.388677</td>\n",
       "      <td>4.623670</td>\n",
       "    </tr>\n",
       "    <tr>\n",
       "      <th>170</th>\n",
       "      <td>171</td>\n",
       "      <td>5202</td>\n",
       "      <td>CLINICAL PSYCHOLOGY</td>\n",
       "      <td>2838.0</td>\n",
       "      <td>568.0</td>\n",
       "      <td>2270.0</td>\n",
       "      <td>Psychology &amp; Social Work</td>\n",
       "      <td>0.799859</td>\n",
       "      <td>13</td>\n",
       "      <td>2101</td>\n",
       "      <td>1724</td>\n",
       "      <td>648</td>\n",
       "      <td>1293</td>\n",
       "      <td>368</td>\n",
       "      <td>0.149048</td>\n",
       "      <td>25000</td>\n",
       "      <td>25000</td>\n",
       "      <td>40000</td>\n",
       "      <td>986</td>\n",
       "      <td>870</td>\n",
       "      <td>622</td>\n",
       "      <td>45.560254</td>\n",
       "      <td>21.916843</td>\n",
       "    </tr>\n",
       "    <tr>\n",
       "      <th>29</th>\n",
       "      <td>30</td>\n",
       "      <td>5402</td>\n",
       "      <td>PUBLIC POLICY</td>\n",
       "      <td>5978.0</td>\n",
       "      <td>2639.0</td>\n",
       "      <td>3339.0</td>\n",
       "      <td>Law &amp; Public Policy</td>\n",
       "      <td>0.558548</td>\n",
       "      <td>55</td>\n",
       "      <td>4547</td>\n",
       "      <td>4163</td>\n",
       "      <td>1306</td>\n",
       "      <td>2776</td>\n",
       "      <td>670</td>\n",
       "      <td>0.128426</td>\n",
       "      <td>50000</td>\n",
       "      <td>35000</td>\n",
       "      <td>70000</td>\n",
       "      <td>1550</td>\n",
       "      <td>1871</td>\n",
       "      <td>340</td>\n",
       "      <td>46.436935</td>\n",
       "      <td>5.687521</td>\n",
       "    </tr>\n",
       "  </tbody>\n",
       "</table>\n",
       "</div>"
      ],
      "text/plain": [
       "     Rank  Major_code                                       Major   Total  \\\n",
       "5       6        2418                         NUCLEAR ENGINEERING  2573.0   \n",
       "89     90        5401                       PUBLIC ADMINISTRATION  5629.0   \n",
       "84     85        2107  COMPUTER NETWORKING AND TELECOMMUNICATIONS  7613.0   \n",
       "170   171        5202                         CLINICAL PSYCHOLOGY  2838.0   \n",
       "29     30        5402                               PUBLIC POLICY  5978.0   \n",
       "\n",
       "        Men   Women            Major_category  ShareWomen  Sample_size  \\\n",
       "5    2200.0   373.0               Engineering    0.144967           17   \n",
       "89   2947.0  2682.0       Law & Public Policy    0.476461           46   \n",
       "84   5291.0  2322.0   Computers & Mathematics    0.305005           97   \n",
       "170   568.0  2270.0  Psychology & Social Work    0.799859           13   \n",
       "29   2639.0  3339.0       Law & Public Policy    0.558548           55   \n",
       "\n",
       "     Employed  Full_time  Part_time  Full_time_year_round  Unemployed  \\\n",
       "5        1857       2038        264                  1449         400   \n",
       "89       4158       4148        847                  2952         789   \n",
       "84       6144       5495       1447                  4369        1100   \n",
       "170      2101       1724        648                  1293         368   \n",
       "29       4547       4163       1306                  2776         670   \n",
       "\n",
       "     Unemployment_rate  Median  P25th   P75th  College_jobs  Non_college_jobs  \\\n",
       "5             0.177226   65000  50000  102000          1142               657   \n",
       "89            0.159491   36000  23000   60000           919              2313   \n",
       "84            0.151850   36400  27000   49000          2593              2941   \n",
       "170           0.149048   25000  25000   40000           986               870   \n",
       "29            0.128426   50000  35000   70000          1550              1871   \n",
       "\n",
       "     Low_wage_jobs  pct_all_year  pct_low_wage  \n",
       "5              244     56.315585      9.483094  \n",
       "89             496     52.442707      8.811512  \n",
       "84             352     57.388677      4.623670  \n",
       "170            622     45.560254     21.916843  \n",
       "29             340     46.436935      5.687521  "
      ]
     },
     "execution_count": 482,
     "metadata": {},
     "output_type": "execute_result"
    }
   ],
   "source": [
    "## Q6:  What are the major codes for graduates with the top 5 highest unemployment rates\n",
    "grads.sort_values(\"Unemployment_rate\",ascending=False).head(5)"
   ]
  },
  {
   "cell_type": "code",
   "execution_count": 483,
   "metadata": {
    "colab": {},
    "colab_type": "code",
    "id": "sg1z0yoCbRDA"
   },
   "outputs": [
    {
     "data": {
      "text/plain": [
       "SOCIAL WORK                        1\n",
       "CHEMICAL ENGINEERING               1\n",
       "ENGLISH LANGUAGE AND LITERATURE    1\n",
       "Name: Major, dtype: int64"
      ]
     },
     "execution_count": 483,
     "metadata": {},
     "output_type": "execute_result"
    }
   ],
   "source": [
    "## Q7:  What are the three most common Major Categories in the dataset and how often do they appear\n",
    "grads.Major.value_counts().head(3)"
   ]
  },
  {
   "cell_type": "code",
   "execution_count": 484,
   "metadata": {
    "colab": {},
    "colab_type": "code",
    "id": "vozOwKyAcTxM"
   },
   "outputs": [
    {
     "data": {
      "text/plain": [
       "-0.3414017937639911"
      ]
     },
     "execution_count": 484,
     "metadata": {},
     "output_type": "execute_result"
    }
   ],
   "source": [
    "## Q8:  Return the correlation between pct_all_year and pct_low_wage- you calculated these two columns above\n",
    "##      Return a single number only\n",
    "grads.pct_all_year.corr(grads.pct_low_wage)"
   ]
  },
  {
   "cell_type": "code",
   "execution_count": 485,
   "metadata": {
    "colab": {},
    "colab_type": "code",
    "id": "yrtlmgXAn54H",
    "scrolled": true
   },
   "outputs": [
    {
     "data": {
      "image/png": "[encoded data removed]",
      "text/plain": [
       "<Figure size 432x288 with 1 Axes>"
      ]
     },
     "metadata": {
      "needs_background": "light"
     },
     "output_type": "display_data"
    }
   ],
   "source": [
    "## Q9:  Create a horizontal bar plot for the major categories showing the frequency count across the dataset\n",
    "##      the most frequent categories should be at the top of the chart\n",
    "%matplotlib inline\n",
    "\n",
    "fig, ax = plt.subplots()\n",
    "ax.barh(grads.Major_category.value_counts(ascending = True).keys().tolist(),grads.Major_category.value_counts(ascending = True).tolist())\n",
    "plt.show()"
   ]
  },
  {
   "cell_type": "code",
   "execution_count": 486,
   "metadata": {
    "colab": {},
    "colab_type": "code",
    "id": "kh5Mp1X3oH_1"
   },
   "outputs": [
    {
     "data": {
      "image/png": "[encoded data removed]",
      "text/plain": [
       "<Figure size 432x288 with 1 Axes>"
      ]
     },
     "metadata": {
      "needs_background": "light"
     },
     "output_type": "display_data"
    }
   ],
   "source": [
    "## Q10:  Using just the Major categories that occurred 10 times or more in the dataset\n",
    "##       Create a scatter plot of pct_all_year and the Share of Women\n",
    "test = grads.Major_category.value_counts(ascending = True)\n",
    "name = test[test>=10].keys().tolist()\n",
    "df = grads[grads[\"Major_category\"].isin(name)]\n",
    "plt.scatter(df[\"pct_all_year\"],df[\"ShareWomen\"])\n",
    "plt.show()\n",
    "\n",
    "\n"
   ]
  },
  {
   "cell_type": "markdown",
   "metadata": {
    "colab_type": "text",
    "id": "lRCg-36ioH4N"
   },
   "source": [
    "<br>\n",
    "<hr color=\"red\"  width=\"100%\"  size=\"2\">\n",
    "<br>"
   ]
  },
  {
   "cell_type": "markdown",
   "metadata": {
    "colab_type": "text",
    "id": "nUUr7sHprFfu"
   },
   "source": [
    "## Part 5"
   ]
  },
  {
   "cell_type": "markdown",
   "metadata": {
    "colab_type": "text",
    "id": "hCalTzxSrHsd"
   },
   "source": [
    "Submit this notebook, with all of your code and output included, and post this to the exam on QTools."
   ]
  },
  {
   "cell_type": "code",
   "execution_count": null,
   "metadata": {
    "colab": {},
    "colab_type": "code",
    "id": "rkdfz6KLrOwr"
   },
   "outputs": [],
   "source": []
  },
  {
   "cell_type": "code",
   "execution_count": null,
   "metadata": {},
   "outputs": [],
   "source": []
  },
  {
   "cell_type": "code",
   "execution_count": null,
   "metadata": {},
   "outputs": [],
   "source": []
  }
 ],
 "metadata": {
  "colab": {
   "collapsed_sections": [],
   "name": "IS834 Spring 2019 Midterm.ipynb",
   "private_outputs": true,
   "provenance": [],
   "version": "0.3.2"
  },
  "kernelspec": {
   "display_name": "Python 3",
   "language": "python",
   "name": "python3"
  },
  "language_info": {
   "codemirror_mode": {
    "name": "ipython",
    "version": 3
   },
   "file_extension": ".py",
   "mimetype": "text/x-python",
   "name": "python",
   "nbconvert_exporter": "python",
   "pygments_lexer": "ipython3",
   "version": "3.7.2"
  }
 },
 "nbformat": 4,
 "nbformat_minor": 1
}
