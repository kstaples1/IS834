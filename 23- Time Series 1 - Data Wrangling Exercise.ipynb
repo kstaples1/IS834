{
 "cells": [
  {
   "cell_type": "markdown",
   "metadata": {
    "colab_type": "text",
    "id": "yUncuiVBMjIq"
   },
   "source": [
    "# Time Series 1 - Data Wrangling Exercise"
   ]
  },
  {
   "cell_type": "markdown",
   "metadata": {
    "colab_type": "text",
    "id": "RdE3h_2IMtoK"
   },
   "source": [
    "# Part 0:  Setup your environment"
   ]
  },
  {
   "cell_type": "code",
   "execution_count": 1,
   "metadata": {
    "colab": {},
    "colab_type": "code",
    "id": "avYz9tu3JluG"
   },
   "outputs": [],
   "source": [
    "\n",
    "import pandas as pd\n",
    "import numpy as np\n",
    "import matplotlib.pyplot as plt\n",
    "import seaborn as sns\n",
    "\n",
    "## pandas print columns/rows option (100)\n",
    "pd.set_option('display.max_columns', 100)\n",
    "pd.set_option('display.max_rows', 100)\n",
    "\n",
    "## set the styling for seaborn (white)\n",
    "sns.set_style(\"dark\")"
   ]
  },
  {
   "cell_type": "code",
   "execution_count": 52,
   "metadata": {
    "colab": {},
    "colab_type": "code",
    "id": "u2NphvDnZRrV"
   },
   "outputs": [],
   "source": [
    "%matplotlib inline"
   ]
  },
  {
   "cell_type": "markdown",
   "metadata": {
    "colab_type": "text",
    "id": "E3taVlMXM2pd"
   },
   "source": [
    "# Part 1: Bring in the dataset\n",
    "\n",
    "The dataset is `simpsons-ratings.csv` on QuestromTools under session 8"
   ]
  },
  {
   "cell_type": "code",
   "execution_count": 10,
   "metadata": {
    "colab": {},
    "colab_type": "code",
    "id": "eFjJKFfdMh6u"
   },
   "outputs": [],
   "source": [
    "dd = pd.read_csv(\"/Users/Kyle_Staples/Documents/GitHub/IS834/datasets/simpsons-ratings-1.csv\")"
   ]
  },
  {
   "cell_type": "code",
   "execution_count": 11,
   "metadata": {
    "colab": {},
    "colab_type": "code",
    "id": "9Qdytvi0NEWc"
   },
   "outputs": [
    {
     "data": {
      "text/html": [
       "<div>\n",
       "<style scoped>\n",
       "    .dataframe tbody tr th:only-of-type {\n",
       "        vertical-align: middle;\n",
       "    }\n",
       "\n",
       "    .dataframe tbody tr th {\n",
       "        vertical-align: top;\n",
       "    }\n",
       "\n",
       "    .dataframe thead th {\n",
       "        text-align: right;\n",
       "    }\n",
       "</style>\n",
       "<table border=\"1\" class=\"dataframe\">\n",
       "  <thead>\n",
       "    <tr style=\"text-align: right;\">\n",
       "      <th></th>\n",
       "      <th>1989-12-17</th>\n",
       "      <th>1990-01-14</th>\n",
       "      <th>1990-01-21</th>\n",
       "      <th>1990-01-28</th>\n",
       "      <th>1990-02-04</th>\n",
       "      <th>1990-02-11</th>\n",
       "      <th>1990-02-18</th>\n",
       "      <th>1990-02-25</th>\n",
       "      <th>1990-03-18</th>\n",
       "      <th>1990-03-25</th>\n",
       "      <th>1990-04-15</th>\n",
       "      <th>1990-04-29</th>\n",
       "      <th>1990-05-13</th>\n",
       "      <th>1990-10-11</th>\n",
       "      <th>1990-10-18</th>\n",
       "      <th>1990-10-25</th>\n",
       "      <th>1990-11-01</th>\n",
       "      <th>1990-11-08</th>\n",
       "      <th>1990-11-15</th>\n",
       "      <th>1990-11-22</th>\n",
       "      <th>1990-12-06</th>\n",
       "      <th>1990-12-20</th>\n",
       "      <th>1991-01-10</th>\n",
       "      <th>1991-01-24</th>\n",
       "      <th>1991-01-31</th>\n",
       "      <th>1991-02-07</th>\n",
       "      <th>1991-02-14</th>\n",
       "      <th>1991-02-21</th>\n",
       "      <th>1991-03-07</th>\n",
       "      <th>1991-03-28</th>\n",
       "      <th>1991-04-11</th>\n",
       "      <th>1991-04-25</th>\n",
       "      <th>1991-05-02</th>\n",
       "      <th>1991-05-09</th>\n",
       "      <th>1991-08-11</th>\n",
       "      <th>1991-09-19</th>\n",
       "      <th>1991-09-26</th>\n",
       "      <th>1991-10-03</th>\n",
       "      <th>1991-10-10</th>\n",
       "      <th>1991-10-17</th>\n",
       "      <th>1991-10-24</th>\n",
       "      <th>1991-10-31</th>\n",
       "      <th>1991-11-07</th>\n",
       "      <th>1991-11-14</th>\n",
       "      <th>1991-11-21</th>\n",
       "      <th>1991-12-05</th>\n",
       "      <th>1991-12-26</th>\n",
       "      <th>1992-01-09</th>\n",
       "      <th>1992-01-23</th>\n",
       "      <th>1992-02-06</th>\n",
       "      <th>...</th>\n",
       "      <th>2016-12-04</th>\n",
       "      <th>2016-12-11</th>\n",
       "      <th>2017-01-08</th>\n",
       "      <th>2017-01-15</th>\n",
       "      <th>2017-02-12</th>\n",
       "      <th>2017-02-19</th>\n",
       "      <th>2017-03-05</th>\n",
       "      <th>2017-03-12</th>\n",
       "      <th>2017-03-19</th>\n",
       "      <th>2017-04-02</th>\n",
       "      <th>2017-04-30</th>\n",
       "      <th>2017-05-07</th>\n",
       "      <th>2017-05-21</th>\n",
       "      <th>2017-10-01</th>\n",
       "      <th>2017-10-08</th>\n",
       "      <th>2017-10-15</th>\n",
       "      <th>2017-10-22</th>\n",
       "      <th>2017-11-05</th>\n",
       "      <th>2017-11-12</th>\n",
       "      <th>2017-11-19</th>\n",
       "      <th>2017-12-03</th>\n",
       "      <th>2017-12-10</th>\n",
       "      <th>2018-01-07</th>\n",
       "      <th>2018-01-14</th>\n",
       "      <th>2018-03-11</th>\n",
       "      <th>2018-03-18</th>\n",
       "      <th>2018-03-25</th>\n",
       "      <th>2018-04-01</th>\n",
       "      <th>2018-04-15</th>\n",
       "      <th>2018-04-22</th>\n",
       "      <th>2018-04-29</th>\n",
       "      <th>2018-05-06</th>\n",
       "      <th>2018-05-13</th>\n",
       "      <th>2018-08-31</th>\n",
       "      <th>2018-10-01</th>\n",
       "      <th>2018-10-04</th>\n",
       "      <th>2018-10-07</th>\n",
       "      <th>2018-11-01</th>\n",
       "      <th>2018-11-04</th>\n",
       "      <th>2018-11-05</th>\n",
       "      <th>2018-11-08</th>\n",
       "      <th>2018-12-02</th>\n",
       "      <th>2018-12-09</th>\n",
       "      <th>2019-01-03</th>\n",
       "      <th>2019-01-06</th>\n",
       "      <th>2019-01-31</th>\n",
       "      <th>2019-02-07</th>\n",
       "      <th>2019-02-28</th>\n",
       "      <th>2019-03-03</th>\n",
       "      <th>2019-03-07</th>\n",
       "    </tr>\n",
       "  </thead>\n",
       "  <tbody>\n",
       "    <tr>\n",
       "      <th>0</th>\n",
       "      <td>8.2</td>\n",
       "      <td>7.8</td>\n",
       "      <td>7.5</td>\n",
       "      <td>7.8</td>\n",
       "      <td>8.1</td>\n",
       "      <td>7.6</td>\n",
       "      <td>7.9</td>\n",
       "      <td>7.8</td>\n",
       "      <td>7.5</td>\n",
       "      <td>7.4</td>\n",
       "      <td>7.9</td>\n",
       "      <td>8.4</td>\n",
       "      <td>7.8</td>\n",
       "      <td>8.2</td>\n",
       "      <td>8.3</td>\n",
       "      <td>8.3</td>\n",
       "      <td>8.1</td>\n",
       "      <td>7.5</td>\n",
       "      <td>8</td>\n",
       "      <td>7.8</td>\n",
       "      <td>8.4</td>\n",
       "      <td>8.1</td>\n",
       "      <td>7.8</td>\n",
       "      <td>8.8</td>\n",
       "      <td>8.3</td>\n",
       "      <td>8</td>\n",
       "      <td>7.5</td>\n",
       "      <td>8.3</td>\n",
       "      <td>7.5</td>\n",
       "      <td>7.7</td>\n",
       "      <td>8</td>\n",
       "      <td>8.6</td>\n",
       "      <td>7.9</td>\n",
       "      <td>8.4</td>\n",
       "      <td>8</td>\n",
       "      <td>8.6</td>\n",
       "      <td>7.8</td>\n",
       "      <td>8.2</td>\n",
       "      <td>8.7</td>\n",
       "      <td>8.5</td>\n",
       "      <td>7.7</td>\n",
       "      <td>8.3</td>\n",
       "      <td>7.9</td>\n",
       "      <td>8</td>\n",
       "      <td>8.8</td>\n",
       "      <td>8.3</td>\n",
       "      <td>8.3</td>\n",
       "      <td>8.5</td>\n",
       "      <td>8</td>\n",
       "      <td>8.1</td>\n",
       "      <td>...</td>\n",
       "      <td>6.6</td>\n",
       "      <td>6.1</td>\n",
       "      <td>7.1</td>\n",
       "      <td>6.6</td>\n",
       "      <td>6.6</td>\n",
       "      <td>6.7</td>\n",
       "      <td>6.8</td>\n",
       "      <td>7.2</td>\n",
       "      <td>6.4</td>\n",
       "      <td>7.1</td>\n",
       "      <td>6.4</td>\n",
       "      <td>6.7</td>\n",
       "      <td>6.7</td>\n",
       "      <td>6.9</td>\n",
       "      <td>6.7</td>\n",
       "      <td>6.4</td>\n",
       "      <td>7.3</td>\n",
       "      <td>6.5</td>\n",
       "      <td>6.6</td>\n",
       "      <td>6.6</td>\n",
       "      <td>7</td>\n",
       "      <td>7.5</td>\n",
       "      <td>6.9</td>\n",
       "      <td>6.3</td>\n",
       "      <td>6.8</td>\n",
       "      <td>6.7</td>\n",
       "      <td>6.6</td>\n",
       "      <td>6.3</td>\n",
       "      <td>6.6</td>\n",
       "      <td>7.1</td>\n",
       "      <td>7.3</td>\n",
       "      <td>6.8</td>\n",
       "      <td>7.8</td>\n",
       "      <td>6.4</td>\n",
       "      <td>6.1</td>\n",
       "      <td>6.2</td>\n",
       "      <td>6.2</td>\n",
       "      <td>6.8</td>\n",
       "      <td>7.1</td>\n",
       "      <td>6.8</td>\n",
       "      <td>6.3</td>\n",
       "      <td>7</td>\n",
       "      <td>7</td>\n",
       "      <td>6.7</td>\n",
       "      <td>6.1</td>\n",
       "      <td>7.1</td>\n",
       "      <td>6.4</td>\n",
       "      <td>5.9</td>\n",
       "      <td>6.6</td>\n",
       "      <td>6.8</td>\n",
       "    </tr>\n",
       "  </tbody>\n",
       "</table>\n",
       "<p>1 rows × 644 columns</p>\n",
       "</div>"
      ],
      "text/plain": [
       "   1989-12-17  1990-01-14  1990-01-21  1990-01-28  1990-02-04  1990-02-11  \\\n",
       "0         8.2         7.8         7.5         7.8         8.1         7.6   \n",
       "\n",
       "   1990-02-18  1990-02-25  1990-03-18  1990-03-25  1990-04-15  1990-04-29  \\\n",
       "0         7.9         7.8         7.5         7.4         7.9         8.4   \n",
       "\n",
       "   1990-05-13  1990-10-11  1990-10-18  1990-10-25  1990-11-01  1990-11-08  \\\n",
       "0         7.8         8.2         8.3         8.3         8.1         7.5   \n",
       "\n",
       "   1990-11-15  1990-11-22  1990-12-06  1990-12-20  1991-01-10  1991-01-24  \\\n",
       "0           8         7.8         8.4         8.1         7.8         8.8   \n",
       "\n",
       "   1991-01-31  1991-02-07  1991-02-14  1991-02-21  1991-03-07  1991-03-28  \\\n",
       "0         8.3           8         7.5         8.3         7.5         7.7   \n",
       "\n",
       "   1991-04-11  1991-04-25  1991-05-02  1991-05-09  1991-08-11  1991-09-19  \\\n",
       "0           8         8.6         7.9         8.4           8         8.6   \n",
       "\n",
       "   1991-09-26  1991-10-03  1991-10-10  1991-10-17  1991-10-24  1991-10-31  \\\n",
       "0         7.8         8.2         8.7         8.5         7.7         8.3   \n",
       "\n",
       "   1991-11-07  1991-11-14  1991-11-21  1991-12-05  1991-12-26  1992-01-09  \\\n",
       "0         7.9           8         8.8         8.3         8.3         8.5   \n",
       "\n",
       "   1992-01-23  1992-02-06  ...  2016-12-04  2016-12-11  2017-01-08  \\\n",
       "0           8         8.1  ...         6.6         6.1         7.1   \n",
       "\n",
       "   2017-01-15  2017-02-12  2017-02-19  2017-03-05  2017-03-12  2017-03-19  \\\n",
       "0         6.6         6.6         6.7         6.8         7.2         6.4   \n",
       "\n",
       "   2017-04-02  2017-04-30  2017-05-07  2017-05-21  2017-10-01  2017-10-08  \\\n",
       "0         7.1         6.4         6.7         6.7         6.9         6.7   \n",
       "\n",
       "   2017-10-15  2017-10-22  2017-11-05  2017-11-12  2017-11-19  2017-12-03  \\\n",
       "0         6.4         7.3         6.5         6.6         6.6           7   \n",
       "\n",
       "   2017-12-10  2018-01-07  2018-01-14  2018-03-11  2018-03-18  2018-03-25  \\\n",
       "0         7.5         6.9         6.3         6.8         6.7         6.6   \n",
       "\n",
       "   2018-04-01  2018-04-15  2018-04-22  2018-04-29  2018-05-06  2018-05-13  \\\n",
       "0         6.3         6.6         7.1         7.3         6.8         7.8   \n",
       "\n",
       "   2018-08-31  2018-10-01  2018-10-04  2018-10-07  2018-11-01  2018-11-04  \\\n",
       "0         6.4         6.1         6.2         6.2         6.8         7.1   \n",
       "\n",
       "   2018-11-05  2018-11-08  2018-12-02  2018-12-09  2019-01-03  2019-01-06  \\\n",
       "0         6.8         6.3           7           7         6.7         6.1   \n",
       "\n",
       "   2019-01-31  2019-02-07  2019-02-28  2019-03-03  2019-03-07  \n",
       "0         7.1         6.4         5.9         6.6         6.8  \n",
       "\n",
       "[1 rows x 644 columns]"
      ]
     },
     "execution_count": 11,
     "metadata": {},
     "output_type": "execute_result"
    }
   ],
   "source": [
    "dd.head()"
   ]
  },
  {
   "cell_type": "markdown",
   "metadata": {
    "colab_type": "text",
    "id": "g4wJjLZGNHpB"
   },
   "source": [
    "# Part 2:  Put the Dataset into a Timeseries Format"
   ]
  },
  {
   "cell_type": "code",
   "execution_count": 60,
   "metadata": {
    "colab": {},
    "colab_type": "code",
    "id": "H9kCn9fgR0B7"
   },
   "outputs": [
    {
     "data": {
      "text/html": [
       "<div>\n",
       "<style scoped>\n",
       "    .dataframe tbody tr th:only-of-type {\n",
       "        vertical-align: middle;\n",
       "    }\n",
       "\n",
       "    .dataframe tbody tr th {\n",
       "        vertical-align: top;\n",
       "    }\n",
       "\n",
       "    .dataframe thead th {\n",
       "        text-align: right;\n",
       "    }\n",
       "</style>\n",
       "<table border=\"1\" class=\"dataframe\">\n",
       "  <thead>\n",
       "    <tr style=\"text-align: right;\">\n",
       "      <th></th>\n",
       "      <th>variable</th>\n",
       "      <th>value</th>\n",
       "    </tr>\n",
       "  </thead>\n",
       "  <tbody>\n",
       "    <tr>\n",
       "      <th>0</th>\n",
       "      <td>1989-12-17</td>\n",
       "      <td>8.2</td>\n",
       "    </tr>\n",
       "  </tbody>\n",
       "</table>\n",
       "</div>"
      ],
      "text/plain": [
       "     variable  value\n",
       "0  1989-12-17    8.2"
      ]
     },
     "execution_count": 60,
     "metadata": {},
     "output_type": "execute_result"
    }
   ],
   "source": [
    "dd2 = dd.melt()\n",
    "dd2.head(1)"
   ]
  },
  {
   "cell_type": "code",
   "execution_count": 19,
   "metadata": {},
   "outputs": [],
   "source": [
    "dd2['date'] = pd.to_datetime(dd2['variable'], format=\"%Y-%m-%d\")"
   ]
  },
  {
   "cell_type": "markdown",
   "metadata": {
    "colab_type": "text",
    "id": "ar13kYu0TV-h"
   },
   "source": [
    "# Part 3:  Calculate the average rating for each date"
   ]
  },
  {
   "cell_type": "code",
   "execution_count": 39,
   "metadata": {
    "colab": {},
    "colab_type": "code",
    "id": "K_-vPCctTbGu"
   },
   "outputs": [
    {
     "data": {
      "text/html": [
       "<div>\n",
       "<style scoped>\n",
       "    .dataframe tbody tr th:only-of-type {\n",
       "        vertical-align: middle;\n",
       "    }\n",
       "\n",
       "    .dataframe tbody tr th {\n",
       "        vertical-align: top;\n",
       "    }\n",
       "\n",
       "    .dataframe thead th {\n",
       "        text-align: right;\n",
       "    }\n",
       "</style>\n",
       "<table border=\"1\" class=\"dataframe\">\n",
       "  <thead>\n",
       "    <tr style=\"text-align: right;\">\n",
       "      <th></th>\n",
       "      <th>value</th>\n",
       "    </tr>\n",
       "    <tr>\n",
       "      <th>date</th>\n",
       "      <th></th>\n",
       "    </tr>\n",
       "  </thead>\n",
       "  <tbody>\n",
       "    <tr>\n",
       "      <th>1989-12-17</th>\n",
       "      <td>8.2</td>\n",
       "    </tr>\n",
       "    <tr>\n",
       "      <th>1990-02-04</th>\n",
       "      <td>8.1</td>\n",
       "    </tr>\n",
       "    <tr>\n",
       "      <th>1990-01-14</th>\n",
       "      <td>7.8</td>\n",
       "    </tr>\n",
       "    <tr>\n",
       "      <th>1990-01-28</th>\n",
       "      <td>7.8</td>\n",
       "    </tr>\n",
       "    <tr>\n",
       "      <th>1990-01-21</th>\n",
       "      <td>7.5</td>\n",
       "    </tr>\n",
       "  </tbody>\n",
       "</table>\n",
       "</div>"
      ],
      "text/plain": [
       "            value\n",
       "date             \n",
       "1989-12-17    8.2\n",
       "1990-02-04    8.1\n",
       "1990-01-14    7.8\n",
       "1990-01-28    7.8\n",
       "1990-01-21    7.5"
      ]
     },
     "execution_count": 39,
     "metadata": {},
     "output_type": "execute_result"
    }
   ],
   "source": [
    "dd2.groupby('date').mean().head().sort_values('value', ascending = False)"
   ]
  },
  {
   "cell_type": "code",
   "execution_count": null,
   "metadata": {},
   "outputs": [],
   "source": []
  },
  {
   "cell_type": "markdown",
   "metadata": {
    "colab_type": "text",
    "id": "ttYLwSEjSBBh"
   },
   "source": [
    "# Part 4:  Ensure that the date is datetime\n",
    "\n",
    "Using the average ratings by date we just created, ensure that the date is a datetime field"
   ]
  },
  {
   "cell_type": "code",
   "execution_count": 46,
   "metadata": {
    "colab": {},
    "colab_type": "code",
    "id": "QFZc-0rHSGqE"
   },
   "outputs": [
    {
     "data": {
      "text/plain": [
       "variable            object\n",
       "value              float64\n",
       "date        datetime64[ns]\n",
       "dtype: object"
      ]
     },
     "execution_count": 46,
     "metadata": {},
     "output_type": "execute_result"
    }
   ],
   "source": [
    "dd2.dtypes"
   ]
  },
  {
   "cell_type": "markdown",
   "metadata": {
    "colab_type": "text",
    "id": "G8OyRgbPXPAj"
   },
   "source": [
    "# Part 5:  Which year had the highest average rating?"
   ]
  },
  {
   "cell_type": "code",
   "execution_count": 48,
   "metadata": {
    "colab": {},
    "colab_type": "code",
    "id": "F8NNFuemXS44"
   },
   "outputs": [
    {
     "data": {
      "text/html": [
       "<div>\n",
       "<style scoped>\n",
       "    .dataframe tbody tr th:only-of-type {\n",
       "        vertical-align: middle;\n",
       "    }\n",
       "\n",
       "    .dataframe tbody tr th {\n",
       "        vertical-align: top;\n",
       "    }\n",
       "\n",
       "    .dataframe thead th {\n",
       "        text-align: right;\n",
       "    }\n",
       "</style>\n",
       "<table border=\"1\" class=\"dataframe\">\n",
       "  <thead>\n",
       "    <tr style=\"text-align: right;\">\n",
       "      <th></th>\n",
       "      <th>value</th>\n",
       "    </tr>\n",
       "    <tr>\n",
       "      <th>date</th>\n",
       "      <th></th>\n",
       "    </tr>\n",
       "  </thead>\n",
       "  <tbody>\n",
       "    <tr>\n",
       "      <th>1989-12-17</th>\n",
       "      <td>8.2</td>\n",
       "    </tr>\n",
       "    <tr>\n",
       "      <th>1990-02-04</th>\n",
       "      <td>8.1</td>\n",
       "    </tr>\n",
       "    <tr>\n",
       "      <th>1990-01-14</th>\n",
       "      <td>7.8</td>\n",
       "    </tr>\n",
       "    <tr>\n",
       "      <th>1990-01-28</th>\n",
       "      <td>7.8</td>\n",
       "    </tr>\n",
       "    <tr>\n",
       "      <th>1990-01-21</th>\n",
       "      <td>7.5</td>\n",
       "    </tr>\n",
       "  </tbody>\n",
       "</table>\n",
       "</div>"
      ],
      "text/plain": [
       "            value\n",
       "date             \n",
       "1989-12-17    8.2\n",
       "1990-02-04    8.1\n",
       "1990-01-14    7.8\n",
       "1990-01-28    7.8\n",
       "1990-01-21    7.5"
      ]
     },
     "execution_count": 48,
     "metadata": {},
     "output_type": "execute_result"
    }
   ],
   "source": [
    "dd2.groupby('date').mean().head().sort_values('value', ascending = False)"
   ]
  },
  {
   "cell_type": "code",
   "execution_count": null,
   "metadata": {
    "colab": {},
    "colab_type": "code",
    "id": "WohZ7qlWXapA"
   },
   "outputs": [],
   "source": []
  },
  {
   "cell_type": "code",
   "execution_count": 57,
   "metadata": {
    "colab": {},
    "colab_type": "code",
    "id": "8lOBqzhnXtk5"
   },
   "outputs": [],
   "source": [
    "dd2.rename(columns={\"value\":\"Episode Rating\", \"date\":\"Episode Date\"}, inplace = True)"
   ]
  },
  {
   "cell_type": "markdown",
   "metadata": {
    "colab_type": "text",
    "id": "8IDMwO2ySSDw"
   },
   "source": [
    "# Part 6:  Plot the ratings over time\n",
    "\n",
    "Plot the rating (y) by date (x) and with the following properties:\n",
    "\n",
    "xaxis = \"Episode Date\"  \n",
    "\n",
    "y axis = \"Episode Rating\"  \n",
    "\n",
    "Title = \"Simpsons Episode Ratings\"  \n"
   ]
  },
  {
   "cell_type": "code",
   "execution_count": 59,
   "metadata": {
    "colab": {},
    "colab_type": "code",
    "id": "ZjB15gNIV-W-"
   },
   "outputs": [
    {
     "data": {
      "text/plain": [
       "Text(0.5, 1.0, 'Simpsons Episode Ratings')"
      ]
     },
     "execution_count": 59,
     "metadata": {},
     "output_type": "execute_result"
    },
    {
     "data": {
      "image/png": "[encoded data removed]",
      "text/plain": [
       "<Figure size 432x288 with 1 Axes>"
      ]
     },
     "metadata": {
      "needs_background": "light"
     },
     "output_type": "display_data"
    }
   ],
   "source": [
    "sns.lineplot(x=\"Episode Date\", y=\"Episode Rating\", data=dd2).set_title(\"Simpsons Episode Ratings\")"
   ]
  },
  {
   "cell_type": "code",
   "execution_count": 0,
   "metadata": {
    "colab": {},
    "colab_type": "code",
    "id": "gWcYH6tpWDxR"
   },
   "outputs": [],
   "source": []
  }
 ],
 "metadata": {
  "colab": {
   "collapsed_sections": [],
   "name": "22- Time Series 1 - Data Wrangling Exercise.ipynb",
   "private_outputs": true,
   "provenance": [],
   "toc_visible": true,
   "version": "0.3.2"
  },
  "kernelspec": {
   "display_name": "Python 3",
   "language": "python",
   "name": "python3"
  },
  "language_info": {
   "codemirror_mode": {
    "name": "ipython",
    "version": 3
   },
   "file_extension": ".py",
   "mimetype": "text/x-python",
   "name": "python",
   "nbconvert_exporter": "python",
   "pygments_lexer": "ipython3",
   "version": "3.7.2"
  }
 },
 "nbformat": 4,
 "nbformat_minor": 1
}
