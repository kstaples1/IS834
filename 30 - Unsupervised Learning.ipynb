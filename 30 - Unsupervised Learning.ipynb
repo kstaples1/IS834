{
 "cells": [
  {
   "cell_type": "markdown",
   "metadata": {
    "colab_type": "text",
    "id": "OUiO9xH8jTom"
   },
   "source": [
    "# Unsupervised Machine Learning - Cluster Analysis"
   ]
  },
  {
   "cell_type": "code",
   "execution_count": 0,
   "metadata": {
    "colab": {},
    "colab_type": "code",
    "id": "avYz9tu3JluG"
   },
   "outputs": [],
   "source": [
    "## update the latest seaborn (0.9.0)\n",
    "# !pip install seaborn==0.9.0\n",
    "# !pip install prophet"
   ]
  },
  {
   "cell_type": "code",
   "execution_count": 8,
   "metadata": {
    "colab": {},
    "colab_type": "code",
    "id": "u2NphvDnZRrV"
   },
   "outputs": [
    {
     "ename": "ModuleNotFoundError",
     "evalue": "No module named 'fbprophet'",
     "output_type": "error",
     "traceback": [
      "\u001b[0;31m---------------------------------------------------------------------------\u001b[0m",
      "\u001b[0;31mModuleNotFoundError\u001b[0m                       Traceback (most recent call last)",
      "\u001b[0;32m<ipython-input-8-45f398f32427>\u001b[0m in \u001b[0;36m<module>\u001b[0;34m\u001b[0m\n\u001b[1;32m      7\u001b[0m \u001b[0;31m## date and timeseries forecasting tooling\u001b[0m\u001b[0;34m\u001b[0m\u001b[0;34m\u001b[0m\u001b[0;34m\u001b[0m\u001b[0m\n\u001b[1;32m      8\u001b[0m \u001b[0;32mimport\u001b[0m \u001b[0mdatetime\u001b[0m\u001b[0;34m\u001b[0m\u001b[0;34m\u001b[0m\u001b[0m\n\u001b[0;32m----> 9\u001b[0;31m \u001b[0;32mfrom\u001b[0m \u001b[0mfbprophet\u001b[0m \u001b[0;32mimport\u001b[0m \u001b[0mProphet\u001b[0m\u001b[0;34m\u001b[0m\u001b[0;34m\u001b[0m\u001b[0m\n\u001b[0m\u001b[1;32m     10\u001b[0m \u001b[0;34m\u001b[0m\u001b[0m\n\u001b[1;32m     11\u001b[0m \u001b[0;31m## machine learning/predictive analytics tools\u001b[0m\u001b[0;34m\u001b[0m\u001b[0;34m\u001b[0m\u001b[0;34m\u001b[0m\u001b[0m\n",
      "\u001b[0;31mModuleNotFoundError\u001b[0m: No module named 'fbprophet'"
     ]
    }
   ],
   "source": [
    "## setup our environment\n",
    "import pandas as pd\n",
    "import numpy as np\n",
    "import matplotlib.pyplot as plt\n",
    "import seaborn as sns\n",
    "%matplotlib inline\n",
    "## date and timeseries forecasting tooling\n",
    "import datetime\n",
    "from fbprophet import Prophet\n",
    "\n",
    "## machine learning/predictive analytics tools             \n",
    "from sklearn.model_selection import train_test_split\n",
    "from sklearn.neighbors import KNeighborsClassifier\n",
    "from sklearn.tree import DecisionTreeClassifier           \n",
    "from sklearn.linear_model import LogisticRegression\n",
    "from sklearn.linear_model import LinearRegression \n",
    "from sklearn.tree import DecisionTreeRegressor \n",
    "from sklearn import metrics\n",
    "import graphviz \n",
    "from sklearn import tree\n",
    "from sklearn.preprocessing import StandardScaler    # <------------ New Imports start here\n",
    "from sklearn.cluster import KMeans  \n",
    "from scipy.cluster.hierarchy import linkage, dendrogram\n",
    "from scipy.cluster.hierarchy import fcluster\n",
    "\n",
    "# a new matplotlib feature\n",
    "from mpl_toolkits import mplot3d\n",
    "\n",
    "\n",
    "## pandas print columns/rows option (100)\n",
    "pd.set_option('display.max_columns', 100)\n",
    "pd.set_option('display.max_rows', 100)\n",
    "\n",
    "## set the styling for seaborn (white)\n",
    "sns.set_style(\"white\")"
   ]
  },
  {
   "cell_type": "markdown",
   "metadata": {
    "colab_type": "text",
    "id": "4DxGyIch1RPQ"
   },
   "source": [
    "# Cluster Analysis in Python\n",
    "\n",
    "\n",
    "\n",
    "<img src=\"https://upload.wikimedia.org/wikipedia/commons/thumb/c/c8/Cluster-2.svg/1200px-Cluster-2.svg.png\"  height=\"300\" width=\"420\">\n",
    "\n",
    "---"
   ]
  },
  {
   "cell_type": "markdown",
   "metadata": {
    "colab_type": "text",
    "id": "yLxHQNxcW5IZ"
   },
   "source": [
    "### What it is:\n",
    "\n",
    "- Cluster analysis allows us to find patterns in our dataset when we do not have (or want to use) labels for our data of interest.  \n",
    "\n",
    "- We do this by creating groups of, hopefully, similar records based on the values in the __numeric__ columns that we use.\n",
    "\n",
    "### What it does:\n",
    "\n",
    "There are multiple algorithms, but they all basically attempt to:\n",
    "\n",
    "* group similar records together.  Statistically similarity is based on the values in the columns that we feed to the algorithm.  \n",
    "* Records are statistically similar if their __computed distance__ is small\n",
    "* Put the rows in our dataset into groups that group similar records.  \n",
    "\n",
    "While it may not be intuitive, we do this by:\n",
    "\n",
    "- Maximize the similarity of the records a given record is grouped with\n",
    "- Maxmize the **dis**simmilarity between the other clusters (groups) of records\n",
    "\n",
    "###  The output:\n",
    "\n",
    "- a numeric, categorical value (1, 2, 3) that identifies the cluster a record is part of\n",
    "\n",
    "### What it means:\n",
    "\n",
    "These statistically similar groups of records can be used for:\n",
    "\n",
    "- Create customer personas\n",
    "- add a new column in our dataset that can be in Supervised Learning techniques\n",
    "- Profile the groups to see if attributes of interest are more/less likely to occur in the cluster/group\n",
    "\n"
   ]
  },
  {
   "cell_type": "code",
   "execution_count": 2,
   "metadata": {
    "colab": {},
    "colab_type": "code",
    "id": "cM-TDp6mW6-3"
   },
   "outputs": [],
   "source": [
    "from sklearn.preprocessing import StandardScaler    \n",
    "from sklearn.cluster import KMeans  \n",
    "from scipy.cluster.hierarchy import linkage, dendrogram\n",
    "from scipy.cluster.hierarchy import fcluster"
   ]
  },
  {
   "cell_type": "markdown",
   "metadata": {
    "colab_type": "text",
    "id": "-tcY5LROcaPv"
   },
   "source": [
    "#### What did we do?\n",
    "\n",
    "1. we added a module that can help us adjust our values in a pandas dataframe by creating a [z-score](https://www.statisticshowto.datasciencecentral.com/probability-and-statistics/z-score/) for each column we supply\n",
    "\n",
    "1. imported K-means clustering, an approach where we manually specifiy the number of clusters we want to produce.\n",
    "\n",
    "1.  we are using a new scientific programming package, `scipy`, and are bringing in two functions that allow us to do [hierarchical clustering](https://en.wikipedia.org/wiki/Hierarchical_clustering)\n",
    "\n",
    "1. lastly are adding a function that will allow us to create the clusters after viewing the dendrogram based on the hierarchical clusltering we imported above"
   ]
  },
  {
   "cell_type": "markdown",
   "metadata": {
    "colab_type": "text",
    "id": "hIsYJ67yc2fR"
   },
   "source": [
    "# K-Means Clustering\n",
    "\n",
    "![](https://cdn-images-1.medium.com/max/1600/1*tWaaZX75oumVwBMcKN-eHA.png)\n",
    "\n",
    "### Inputs\n",
    "\n",
    "- the `dataframe` of our __numeric__ inputs that will be used to determine __similiarity__\n",
    "\n",
    "- the `#` of clusters we want, commonly referred to as `k`\n",
    "\n",
    "### Outputs\n",
    "\n",
    "- a numeric value of `k` for each row in our dataframe.   The value represents the grouping, or cluster, value.  \n"
   ]
  },
  {
   "cell_type": "code",
   "execution_count": 3,
   "metadata": {
    "colab": {},
    "colab_type": "code",
    "id": "TUe8NsFY6IEo"
   },
   "outputs": [],
   "source": [
    "# bring in our dataset\n",
    "med_raw = pd.read_csv(\"https://vincentarelbundock.github.io/Rdatasets/csv/Stat2Data/MedGPA.csv\")"
   ]
  },
  {
   "cell_type": "code",
   "execution_count": 4,
   "metadata": {
    "colab": {},
    "colab_type": "code",
    "id": "eDMhKh-f6kIQ"
   },
   "outputs": [
    {
     "data": {
      "text/html": [
       "<div>\n",
       "<style scoped>\n",
       "    .dataframe tbody tr th:only-of-type {\n",
       "        vertical-align: middle;\n",
       "    }\n",
       "\n",
       "    .dataframe tbody tr th {\n",
       "        vertical-align: top;\n",
       "    }\n",
       "\n",
       "    .dataframe thead th {\n",
       "        text-align: right;\n",
       "    }\n",
       "</style>\n",
       "<table border=\"1\" class=\"dataframe\">\n",
       "  <thead>\n",
       "    <tr style=\"text-align: right;\">\n",
       "      <th></th>\n",
       "      <th>Unnamed: 0</th>\n",
       "      <th>Accept</th>\n",
       "      <th>Acceptance</th>\n",
       "      <th>Sex</th>\n",
       "      <th>BCPM</th>\n",
       "      <th>GPA</th>\n",
       "      <th>VR</th>\n",
       "      <th>PS</th>\n",
       "      <th>WS</th>\n",
       "      <th>BS</th>\n",
       "      <th>MCAT</th>\n",
       "      <th>Apps</th>\n",
       "    </tr>\n",
       "  </thead>\n",
       "  <tbody>\n",
       "    <tr>\n",
       "      <th>0</th>\n",
       "      <td>1</td>\n",
       "      <td>D</td>\n",
       "      <td>0</td>\n",
       "      <td>F</td>\n",
       "      <td>3.59</td>\n",
       "      <td>3.62</td>\n",
       "      <td>11</td>\n",
       "      <td>9</td>\n",
       "      <td>9.0</td>\n",
       "      <td>9</td>\n",
       "      <td>38</td>\n",
       "      <td>5</td>\n",
       "    </tr>\n",
       "    <tr>\n",
       "      <th>1</th>\n",
       "      <td>2</td>\n",
       "      <td>A</td>\n",
       "      <td>1</td>\n",
       "      <td>M</td>\n",
       "      <td>3.75</td>\n",
       "      <td>3.84</td>\n",
       "      <td>12</td>\n",
       "      <td>13</td>\n",
       "      <td>8.0</td>\n",
       "      <td>12</td>\n",
       "      <td>45</td>\n",
       "      <td>3</td>\n",
       "    </tr>\n",
       "    <tr>\n",
       "      <th>2</th>\n",
       "      <td>3</td>\n",
       "      <td>A</td>\n",
       "      <td>1</td>\n",
       "      <td>F</td>\n",
       "      <td>3.24</td>\n",
       "      <td>3.23</td>\n",
       "      <td>9</td>\n",
       "      <td>10</td>\n",
       "      <td>5.0</td>\n",
       "      <td>9</td>\n",
       "      <td>33</td>\n",
       "      <td>19</td>\n",
       "    </tr>\n",
       "    <tr>\n",
       "      <th>3</th>\n",
       "      <td>4</td>\n",
       "      <td>A</td>\n",
       "      <td>1</td>\n",
       "      <td>F</td>\n",
       "      <td>3.74</td>\n",
       "      <td>3.69</td>\n",
       "      <td>12</td>\n",
       "      <td>11</td>\n",
       "      <td>7.0</td>\n",
       "      <td>10</td>\n",
       "      <td>40</td>\n",
       "      <td>5</td>\n",
       "    </tr>\n",
       "    <tr>\n",
       "      <th>4</th>\n",
       "      <td>5</td>\n",
       "      <td>A</td>\n",
       "      <td>1</td>\n",
       "      <td>F</td>\n",
       "      <td>3.53</td>\n",
       "      <td>3.38</td>\n",
       "      <td>9</td>\n",
       "      <td>11</td>\n",
       "      <td>4.0</td>\n",
       "      <td>11</td>\n",
       "      <td>35</td>\n",
       "      <td>11</td>\n",
       "    </tr>\n",
       "  </tbody>\n",
       "</table>\n",
       "</div>"
      ],
      "text/plain": [
       "   Unnamed: 0 Accept  Acceptance Sex  BCPM   GPA  VR  PS   WS  BS  MCAT  Apps\n",
       "0           1      D           0   F  3.59  3.62  11   9  9.0   9    38     5\n",
       "1           2      A           1   M  3.75  3.84  12  13  8.0  12    45     3\n",
       "2           3      A           1   F  3.24  3.23   9  10  5.0   9    33    19\n",
       "3           4      A           1   F  3.74  3.69  12  11  7.0  10    40     5\n",
       "4           5      A           1   F  3.53  3.38   9  11  4.0  11    35    11"
      ]
     },
     "execution_count": 4,
     "metadata": {},
     "output_type": "execute_result"
    }
   ],
   "source": [
    "med_raw.head()"
   ]
  },
  {
   "cell_type": "code",
   "execution_count": 9,
   "metadata": {
    "colab": {},
    "colab_type": "code",
    "id": "Ec-CUiRM7Ohj"
   },
   "outputs": [
    {
     "data": {
      "text/plain": [
       "<matplotlib.axes._subplots.AxesSubplot at 0x1a21e9e7f0>"
      ]
     },
     "execution_count": 9,
     "metadata": {},
     "output_type": "execute_result"
    },
    {
     "data": {
      "image/png": "[encoded data removed]",
      "text/plain": [
       "<Figure size 432x288 with 2 Axes>"
      ]
     },
     "metadata": {
      "needs_background": "light"
     },
     "output_type": "display_data"
    }
   ],
   "source": [
    "sns.heatmap(med_raw.corr(), cmap=\"Blues\")"
   ]
  },
  {
   "cell_type": "code",
   "execution_count": 10,
   "metadata": {
    "colab": {},
    "colab_type": "code",
    "id": "b1X_8EV66lSH"
   },
   "outputs": [
    {
     "data": {
      "text/plain": [
       "<matplotlib.axes._subplots.AxesSubplot at 0x1a21f62e10>"
      ]
     },
     "execution_count": 10,
     "metadata": {},
     "output_type": "execute_result"
    },
    {
     "data": {
      "image/png": "[encoded data removed]",
      "text/plain": [
       "<Figure size 432x288 with 1 Axes>"
      ]
     },
     "metadata": {
      "needs_background": "light"
     },
     "output_type": "display_data"
    }
   ],
   "source": [
    "sns.scatterplot(x=\"GPA\", y=\"BS\", data=med_raw)"
   ]
  },
  {
   "cell_type": "markdown",
   "metadata": {
    "colab_type": "text",
    "id": "cOC9qwVB7IeV"
   },
   "source": [
    "In a 2D context, where would you draw the line(s) to separate the dataset in half, with higher scores more likely to be admitted to medical school?"
   ]
  },
  {
   "cell_type": "code",
   "execution_count": 11,
   "metadata": {
    "colab": {},
    "colab_type": "code",
    "id": "e-0hq9Mk893r"
   },
   "outputs": [
    {
     "data": {
      "text/html": [
       "<div>\n",
       "<style scoped>\n",
       "    .dataframe tbody tr th:only-of-type {\n",
       "        vertical-align: middle;\n",
       "    }\n",
       "\n",
       "    .dataframe tbody tr th {\n",
       "        vertical-align: top;\n",
       "    }\n",
       "\n",
       "    .dataframe thead th {\n",
       "        text-align: right;\n",
       "    }\n",
       "</style>\n",
       "<table border=\"1\" class=\"dataframe\">\n",
       "  <thead>\n",
       "    <tr style=\"text-align: right;\">\n",
       "      <th></th>\n",
       "      <th>GPA</th>\n",
       "      <th>BS</th>\n",
       "    </tr>\n",
       "  </thead>\n",
       "  <tbody>\n",
       "    <tr>\n",
       "      <th>0</th>\n",
       "      <td>3.62</td>\n",
       "      <td>9</td>\n",
       "    </tr>\n",
       "    <tr>\n",
       "      <th>1</th>\n",
       "      <td>3.84</td>\n",
       "      <td>12</td>\n",
       "    </tr>\n",
       "  </tbody>\n",
       "</table>\n",
       "</div>"
      ],
      "text/plain": [
       "    GPA  BS\n",
       "0  3.62   9\n",
       "1  3.84  12"
      ]
     },
     "execution_count": 11,
     "metadata": {},
     "output_type": "execute_result"
    }
   ],
   "source": [
    "# keep just the two columns above\n",
    "med = med_raw.loc[:, [\"GPA\", \"BS\"]]\n",
    "med.head(2)\n"
   ]
  },
  {
   "cell_type": "code",
   "execution_count": 12,
   "metadata": {
    "colab": {},
    "colab_type": "code",
    "id": "HIsyDeWh_TQR"
   },
   "outputs": [],
   "source": [
    "# create a 2K cluster\n",
    "kmeans = KMeans(n_clusters=2)"
   ]
  },
  {
   "cell_type": "code",
   "execution_count": 13,
   "metadata": {
    "colab": {},
    "colab_type": "code",
    "id": "VH24sBhD9-W7"
   },
   "outputs": [
    {
     "data": {
      "text/plain": [
       "KMeans(algorithm='auto', copy_x=True, init='k-means++', max_iter=300,\n",
       "    n_clusters=2, n_init=10, n_jobs=None, precompute_distances='auto',\n",
       "    random_state=None, tol=0.0001, verbose=0)"
      ]
     },
     "execution_count": 13,
     "metadata": {},
     "output_type": "execute_result"
    }
   ],
   "source": [
    "# fit the model\n",
    "kmeans.fit(med)"
   ]
  },
  {
   "cell_type": "code",
   "execution_count": 14,
   "metadata": {
    "colab": {},
    "colab_type": "code",
    "id": "gTRBunhR_sts"
   },
   "outputs": [],
   "source": [
    "# get the cluster labels\n",
    "med_k = kmeans.predict(med)"
   ]
  },
  {
   "cell_type": "code",
   "execution_count": 15,
   "metadata": {
    "colab": {},
    "colab_type": "code",
    "id": "V-Hn9kzB_xws"
   },
   "outputs": [
    {
     "data": {
      "text/plain": [
       "numpy.ndarray"
      ]
     },
     "execution_count": 15,
     "metadata": {},
     "output_type": "execute_result"
    }
   ],
   "source": [
    "# what do we have?\n",
    "type(med_k)"
   ]
  },
  {
   "cell_type": "code",
   "execution_count": 16,
   "metadata": {
    "colab": {},
    "colab_type": "code",
    "id": "opWuevKM_10D"
   },
   "outputs": [
    {
     "data": {
      "text/plain": [
       "array([0, 1, 0, 1, 1], dtype=int32)"
      ]
     },
     "execution_count": 16,
     "metadata": {},
     "output_type": "execute_result"
    }
   ],
   "source": [
    "# first few values of the array\n",
    "med_k[:5]"
   ]
  },
  {
   "cell_type": "code",
   "execution_count": 18,
   "metadata": {
    "colab": {},
    "colab_type": "code",
    "id": "gV1LRGl-_43z"
   },
   "outputs": [],
   "source": [
    "# put the cluster label onto the original dataset\n",
    "med_raw['c2'] = med_k\n"
   ]
  },
  {
   "cell_type": "code",
   "execution_count": 19,
   "metadata": {
    "colab": {},
    "colab_type": "code",
    "id": "NC7dEZTVKKw5"
   },
   "outputs": [
    {
     "data": {
      "text/html": [
       "<div>\n",
       "<style scoped>\n",
       "    .dataframe tbody tr th:only-of-type {\n",
       "        vertical-align: middle;\n",
       "    }\n",
       "\n",
       "    .dataframe tbody tr th {\n",
       "        vertical-align: top;\n",
       "    }\n",
       "\n",
       "    .dataframe thead th {\n",
       "        text-align: right;\n",
       "    }\n",
       "</style>\n",
       "<table border=\"1\" class=\"dataframe\">\n",
       "  <thead>\n",
       "    <tr style=\"text-align: right;\">\n",
       "      <th></th>\n",
       "      <th>Unnamed: 0</th>\n",
       "      <th>Accept</th>\n",
       "      <th>Acceptance</th>\n",
       "      <th>Sex</th>\n",
       "      <th>BCPM</th>\n",
       "      <th>GPA</th>\n",
       "      <th>VR</th>\n",
       "      <th>PS</th>\n",
       "      <th>WS</th>\n",
       "      <th>BS</th>\n",
       "      <th>MCAT</th>\n",
       "      <th>Apps</th>\n",
       "      <th>c2</th>\n",
       "    </tr>\n",
       "  </thead>\n",
       "  <tbody>\n",
       "    <tr>\n",
       "      <th>0</th>\n",
       "      <td>1</td>\n",
       "      <td>D</td>\n",
       "      <td>0</td>\n",
       "      <td>F</td>\n",
       "      <td>3.59</td>\n",
       "      <td>3.62</td>\n",
       "      <td>11</td>\n",
       "      <td>9</td>\n",
       "      <td>9.0</td>\n",
       "      <td>9</td>\n",
       "      <td>38</td>\n",
       "      <td>5</td>\n",
       "      <td>0</td>\n",
       "    </tr>\n",
       "    <tr>\n",
       "      <th>1</th>\n",
       "      <td>2</td>\n",
       "      <td>A</td>\n",
       "      <td>1</td>\n",
       "      <td>M</td>\n",
       "      <td>3.75</td>\n",
       "      <td>3.84</td>\n",
       "      <td>12</td>\n",
       "      <td>13</td>\n",
       "      <td>8.0</td>\n",
       "      <td>12</td>\n",
       "      <td>45</td>\n",
       "      <td>3</td>\n",
       "      <td>1</td>\n",
       "    </tr>\n",
       "    <tr>\n",
       "      <th>2</th>\n",
       "      <td>3</td>\n",
       "      <td>A</td>\n",
       "      <td>1</td>\n",
       "      <td>F</td>\n",
       "      <td>3.24</td>\n",
       "      <td>3.23</td>\n",
       "      <td>9</td>\n",
       "      <td>10</td>\n",
       "      <td>5.0</td>\n",
       "      <td>9</td>\n",
       "      <td>33</td>\n",
       "      <td>19</td>\n",
       "      <td>0</td>\n",
       "    </tr>\n",
       "    <tr>\n",
       "      <th>3</th>\n",
       "      <td>4</td>\n",
       "      <td>A</td>\n",
       "      <td>1</td>\n",
       "      <td>F</td>\n",
       "      <td>3.74</td>\n",
       "      <td>3.69</td>\n",
       "      <td>12</td>\n",
       "      <td>11</td>\n",
       "      <td>7.0</td>\n",
       "      <td>10</td>\n",
       "      <td>40</td>\n",
       "      <td>5</td>\n",
       "      <td>1</td>\n",
       "    </tr>\n",
       "    <tr>\n",
       "      <th>4</th>\n",
       "      <td>5</td>\n",
       "      <td>A</td>\n",
       "      <td>1</td>\n",
       "      <td>F</td>\n",
       "      <td>3.53</td>\n",
       "      <td>3.38</td>\n",
       "      <td>9</td>\n",
       "      <td>11</td>\n",
       "      <td>4.0</td>\n",
       "      <td>11</td>\n",
       "      <td>35</td>\n",
       "      <td>11</td>\n",
       "      <td>1</td>\n",
       "    </tr>\n",
       "  </tbody>\n",
       "</table>\n",
       "</div>"
      ],
      "text/plain": [
       "   Unnamed: 0 Accept  Acceptance Sex  BCPM   GPA  VR  PS   WS  BS  MCAT  Apps  \\\n",
       "0           1      D           0   F  3.59  3.62  11   9  9.0   9    38     5   \n",
       "1           2      A           1   M  3.75  3.84  12  13  8.0  12    45     3   \n",
       "2           3      A           1   F  3.24  3.23   9  10  5.0   9    33    19   \n",
       "3           4      A           1   F  3.74  3.69  12  11  7.0  10    40     5   \n",
       "4           5      A           1   F  3.53  3.38   9  11  4.0  11    35    11   \n",
       "\n",
       "   c2  \n",
       "0   0  \n",
       "1   1  \n",
       "2   0  \n",
       "3   1  \n",
       "4   1  "
      ]
     },
     "execution_count": 19,
     "metadata": {},
     "output_type": "execute_result"
    }
   ],
   "source": [
    "med_raw.head()"
   ]
  },
  {
   "cell_type": "code",
   "execution_count": 20,
   "metadata": {
    "colab": {},
    "colab_type": "code",
    "id": "Urqew1VMANZR"
   },
   "outputs": [
    {
     "data": {
      "text/plain": [
       "<matplotlib.axes._subplots.AxesSubplot at 0x1a224ec5c0>"
      ]
     },
     "execution_count": 20,
     "metadata": {},
     "output_type": "execute_result"
    },
    {
     "data": {
      "image/png": "[encoded data removed]",
      "text/plain": [
       "<Figure size 432x288 with 1 Axes>"
      ]
     },
     "metadata": {
      "needs_background": "light"
     },
     "output_type": "display_data"
    }
   ],
   "source": [
    "# plot the scatterplot - but hue by cluster\n",
    "sns.scatterplot(x=\"GPA\", y=\"BS\", data=med_raw)"
   ]
  },
  {
   "cell_type": "code",
   "execution_count": 21,
   "metadata": {
    "colab": {},
    "colab_type": "code",
    "id": "hPSR3SVsAYmv"
   },
   "outputs": [
    {
     "data": {
      "text/plain": [
       "<matplotlib.axes._subplots.AxesSubplot at 0x1a225433c8>"
      ]
     },
     "execution_count": 21,
     "metadata": {},
     "output_type": "execute_result"
    },
    {
     "data": {
      "image/png": "[encoded data removed]",
      "text/plain": [
       "<Figure size 432x288 with 1 Axes>"
      ]
     },
     "metadata": {
      "needs_background": "light"
     },
     "output_type": "display_data"
    }
   ],
   "source": [
    "# plot the scatterplot - but hue by cluster\n",
    "sns.scatterplot(x=\"GPA\", y=\"BS\", data=med_raw, hue=\"c2\")"
   ]
  },
  {
   "cell_type": "code",
   "execution_count": 22,
   "metadata": {
    "colab": {},
    "colab_type": "code",
    "id": "mGUzXcP1KChv"
   },
   "outputs": [
    {
     "data": {
      "text/plain": [
       "<matplotlib.axes._subplots.AxesSubplot at 0x1a226230b8>"
      ]
     },
     "execution_count": 22,
     "metadata": {},
     "output_type": "execute_result"
    },
    {
     "data": {
      "image/png": "[encoded data removed]",
      "text/plain": [
       "<Figure size 576x576 with 1 Axes>"
      ]
     },
     "metadata": {
      "needs_background": "light"
     },
     "output_type": "display_data"
    }
   ],
   "source": [
    "# plot the scatterplot - but hue by cluster\n",
    "plt.figure(figsize=(8,8))\n",
    "sns.scatterplot(x=\"GPA\", y=\"BS\", data=med_raw, hue=\"c2\", style=\"Acceptance\")"
   ]
  },
  {
   "cell_type": "code",
   "execution_count": 23,
   "metadata": {
    "colab": {},
    "colab_type": "code",
    "id": "8txvSicZKF4b"
   },
   "outputs": [
    {
     "data": {
      "text/html": [
       "<div>\n",
       "<style scoped>\n",
       "    .dataframe tbody tr th:only-of-type {\n",
       "        vertical-align: middle;\n",
       "    }\n",
       "\n",
       "    .dataframe tbody tr th {\n",
       "        vertical-align: top;\n",
       "    }\n",
       "\n",
       "    .dataframe thead th {\n",
       "        text-align: right;\n",
       "    }\n",
       "</style>\n",
       "<table border=\"1\" class=\"dataframe\">\n",
       "  <thead>\n",
       "    <tr style=\"text-align: right;\">\n",
       "      <th>Acceptance</th>\n",
       "      <th>0</th>\n",
       "      <th>1</th>\n",
       "    </tr>\n",
       "    <tr>\n",
       "      <th>c2</th>\n",
       "      <th></th>\n",
       "      <th></th>\n",
       "    </tr>\n",
       "  </thead>\n",
       "  <tbody>\n",
       "    <tr>\n",
       "      <th>0</th>\n",
       "      <td>19</td>\n",
       "      <td>4</td>\n",
       "    </tr>\n",
       "    <tr>\n",
       "      <th>1</th>\n",
       "      <td>6</td>\n",
       "      <td>26</td>\n",
       "    </tr>\n",
       "  </tbody>\n",
       "</table>\n",
       "</div>"
      ],
      "text/plain": [
       "Acceptance   0   1\n",
       "c2                \n",
       "0           19   4\n",
       "1            6  26"
      ]
     },
     "execution_count": 23,
     "metadata": {},
     "output_type": "execute_result"
    }
   ],
   "source": [
    "# lets look at the agreement\n",
    "pd.crosstab(med_raw['c2'], med_raw['Acceptance'])"
   ]
  },
  {
   "cell_type": "code",
   "execution_count": 24,
   "metadata": {
    "colab": {},
    "colab_type": "code",
    "id": "TUT7BTi8fvIl"
   },
   "outputs": [
    {
     "data": {
      "text/html": [
       "<div>\n",
       "<style scoped>\n",
       "    .dataframe tbody tr th:only-of-type {\n",
       "        vertical-align: middle;\n",
       "    }\n",
       "\n",
       "    .dataframe tbody tr th {\n",
       "        vertical-align: top;\n",
       "    }\n",
       "\n",
       "    .dataframe thead th {\n",
       "        text-align: right;\n",
       "    }\n",
       "</style>\n",
       "<table border=\"1\" class=\"dataframe\">\n",
       "  <thead>\n",
       "    <tr style=\"text-align: right;\">\n",
       "      <th>Acceptance</th>\n",
       "      <th>0</th>\n",
       "      <th>1</th>\n",
       "    </tr>\n",
       "    <tr>\n",
       "      <th>c2</th>\n",
       "      <th></th>\n",
       "      <th></th>\n",
       "    </tr>\n",
       "  </thead>\n",
       "  <tbody>\n",
       "    <tr>\n",
       "      <th>0</th>\n",
       "      <td>0.76</td>\n",
       "      <td>0.133333</td>\n",
       "    </tr>\n",
       "    <tr>\n",
       "      <th>1</th>\n",
       "      <td>0.24</td>\n",
       "      <td>0.866667</td>\n",
       "    </tr>\n",
       "  </tbody>\n",
       "</table>\n",
       "</div>"
      ],
      "text/plain": [
       "Acceptance     0         1\n",
       "c2                        \n",
       "0           0.76  0.133333\n",
       "1           0.24  0.866667"
      ]
     },
     "execution_count": 24,
     "metadata": {},
     "output_type": "execute_result"
    }
   ],
   "source": [
    "# do by percentage of columns going down - how well did the clusters segment the acceptance just using two columns\n",
    "pd.crosstab(med_raw['c2'], med_raw['Acceptance'], normalize='columns')"
   ]
  },
  {
   "cell_type": "markdown",
   "metadata": {
    "colab_type": "text",
    "id": "tInEgF1ohcAY"
   },
   "source": [
    "---"
   ]
  },
  {
   "cell_type": "markdown",
   "metadata": {
    "colab_type": "text",
    "id": "w-CiK9EIhe2_"
   },
   "source": [
    "# Cluster Quality - Inertia"
   ]
  },
  {
   "cell_type": "markdown",
   "metadata": {
    "colab_type": "text",
    "id": "JFCmAbKKhWBP"
   },
   "source": [
    "![](http://rnowling.github.io/images/bps-multinomial-segmentation/pmf_kmeans_inertia.png)\n",
    "\n",
    "We want to:\n",
    "\n",
    "- minimize inertia\n",
    "- but also minimize the number of clusters (too many to manage, and potentially overfitting)\n",
    "- look for the \"elbow\" as a rule-of-thumb"
   ]
  },
  {
   "cell_type": "code",
   "execution_count": 25,
   "metadata": {
    "colab": {},
    "colab_type": "code",
    "id": "Kl5b3ZwegZhf"
   },
   "outputs": [
    {
     "data": {
      "text/plain": [
       "54.29594904891305"
      ]
     },
     "execution_count": 25,
     "metadata": {},
     "output_type": "execute_result"
    }
   ],
   "source": [
    "# the silhoutte score for the clustering - inside scikit learn metrics\n",
    "# the process is above is done and averaged for all points\n",
    "# we feed in the dataset used for clustering, and the cluster labels we got back\n",
    "kmeans.inertia_"
   ]
  },
  {
   "cell_type": "markdown",
   "metadata": {
    "colab_type": "text",
    "id": "jRGtfGQsjuhA"
   },
   "source": [
    "---"
   ]
  },
  {
   "cell_type": "code",
   "execution_count": 47,
   "metadata": {
    "colab": {},
    "colab_type": "code",
    "id": "RMBZ7nMiiMIp"
   },
   "outputs": [
    {
     "data": {
      "text/html": [
       "<div>\n",
       "<style scoped>\n",
       "    .dataframe tbody tr th:only-of-type {\n",
       "        vertical-align: middle;\n",
       "    }\n",
       "\n",
       "    .dataframe tbody tr th {\n",
       "        vertical-align: top;\n",
       "    }\n",
       "\n",
       "    .dataframe thead th {\n",
       "        text-align: right;\n",
       "    }\n",
       "</style>\n",
       "<table border=\"1\" class=\"dataframe\">\n",
       "  <thead>\n",
       "    <tr style=\"text-align: right;\">\n",
       "      <th></th>\n",
       "      <th>Unnamed: 0</th>\n",
       "      <th>Accept</th>\n",
       "      <th>Acceptance</th>\n",
       "      <th>Sex</th>\n",
       "      <th>BCPM</th>\n",
       "      <th>GPA</th>\n",
       "      <th>VR</th>\n",
       "      <th>PS</th>\n",
       "      <th>WS</th>\n",
       "      <th>BS</th>\n",
       "      <th>MCAT</th>\n",
       "      <th>Apps</th>\n",
       "    </tr>\n",
       "  </thead>\n",
       "  <tbody>\n",
       "    <tr>\n",
       "      <th>0</th>\n",
       "      <td>1</td>\n",
       "      <td>D</td>\n",
       "      <td>0</td>\n",
       "      <td>F</td>\n",
       "      <td>3.59</td>\n",
       "      <td>3.62</td>\n",
       "      <td>11</td>\n",
       "      <td>9</td>\n",
       "      <td>9.0</td>\n",
       "      <td>9</td>\n",
       "      <td>38</td>\n",
       "      <td>5</td>\n",
       "    </tr>\n",
       "    <tr>\n",
       "      <th>1</th>\n",
       "      <td>2</td>\n",
       "      <td>A</td>\n",
       "      <td>1</td>\n",
       "      <td>M</td>\n",
       "      <td>3.75</td>\n",
       "      <td>3.84</td>\n",
       "      <td>12</td>\n",
       "      <td>13</td>\n",
       "      <td>8.0</td>\n",
       "      <td>12</td>\n",
       "      <td>45</td>\n",
       "      <td>3</td>\n",
       "    </tr>\n",
       "    <tr>\n",
       "      <th>2</th>\n",
       "      <td>3</td>\n",
       "      <td>A</td>\n",
       "      <td>1</td>\n",
       "      <td>F</td>\n",
       "      <td>3.24</td>\n",
       "      <td>3.23</td>\n",
       "      <td>9</td>\n",
       "      <td>10</td>\n",
       "      <td>5.0</td>\n",
       "      <td>9</td>\n",
       "      <td>33</td>\n",
       "      <td>19</td>\n",
       "    </tr>\n",
       "    <tr>\n",
       "      <th>3</th>\n",
       "      <td>4</td>\n",
       "      <td>A</td>\n",
       "      <td>1</td>\n",
       "      <td>F</td>\n",
       "      <td>3.74</td>\n",
       "      <td>3.69</td>\n",
       "      <td>12</td>\n",
       "      <td>11</td>\n",
       "      <td>7.0</td>\n",
       "      <td>10</td>\n",
       "      <td>40</td>\n",
       "      <td>5</td>\n",
       "    </tr>\n",
       "    <tr>\n",
       "      <th>4</th>\n",
       "      <td>5</td>\n",
       "      <td>A</td>\n",
       "      <td>1</td>\n",
       "      <td>F</td>\n",
       "      <td>3.53</td>\n",
       "      <td>3.38</td>\n",
       "      <td>9</td>\n",
       "      <td>11</td>\n",
       "      <td>4.0</td>\n",
       "      <td>11</td>\n",
       "      <td>35</td>\n",
       "      <td>11</td>\n",
       "    </tr>\n",
       "  </tbody>\n",
       "</table>\n",
       "</div>"
      ],
      "text/plain": [
       "   Unnamed: 0 Accept  Acceptance Sex  BCPM   GPA  VR  PS   WS  BS  MCAT  Apps\n",
       "0           1      D           0   F  3.59  3.62  11   9  9.0   9    38     5\n",
       "1           2      A           1   M  3.75  3.84  12  13  8.0  12    45     3\n",
       "2           3      A           1   F  3.24  3.23   9  10  5.0   9    33    19\n",
       "3           4      A           1   F  3.74  3.69  12  11  7.0  10    40     5\n",
       "4           5      A           1   F  3.53  3.38   9  11  4.0  11    35    11"
      ]
     },
     "execution_count": 47,
     "metadata": {},
     "output_type": "execute_result"
    }
   ],
   "source": [
    "# lets use all of the numeric data (not just two points) and generate two clusters\n",
    "med2 = pd.read_csv(\"https://vincentarelbundock.github.io/Rdatasets/csv/Stat2Data/MedGPA.csv\")\n",
    "\n",
    "med2.head()"
   ]
  },
  {
   "cell_type": "code",
   "execution_count": 27,
   "metadata": {
    "colab": {},
    "colab_type": "code",
    "id": "eSodr_xejsjw"
   },
   "outputs": [],
   "source": [
    "# drop all missing data\n",
    "med2.dropna(inplace=True)"
   ]
  },
  {
   "cell_type": "code",
   "execution_count": 28,
   "metadata": {
    "colab": {},
    "colab_type": "code",
    "id": "OSpSiXWwicrN"
   },
   "outputs": [
    {
     "data": {
      "text/html": [
       "<div>\n",
       "<style scoped>\n",
       "    .dataframe tbody tr th:only-of-type {\n",
       "        vertical-align: middle;\n",
       "    }\n",
       "\n",
       "    .dataframe tbody tr th {\n",
       "        vertical-align: top;\n",
       "    }\n",
       "\n",
       "    .dataframe thead th {\n",
       "        text-align: right;\n",
       "    }\n",
       "</style>\n",
       "<table border=\"1\" class=\"dataframe\">\n",
       "  <thead>\n",
       "    <tr style=\"text-align: right;\">\n",
       "      <th></th>\n",
       "      <th>BCPM</th>\n",
       "      <th>GPA</th>\n",
       "      <th>VR</th>\n",
       "      <th>PS</th>\n",
       "      <th>WS</th>\n",
       "      <th>BS</th>\n",
       "      <th>MCAT</th>\n",
       "      <th>Apps</th>\n",
       "    </tr>\n",
       "  </thead>\n",
       "  <tbody>\n",
       "    <tr>\n",
       "      <th>0</th>\n",
       "      <td>3.59</td>\n",
       "      <td>3.62</td>\n",
       "      <td>11</td>\n",
       "      <td>9</td>\n",
       "      <td>9.0</td>\n",
       "      <td>9</td>\n",
       "      <td>38</td>\n",
       "      <td>5</td>\n",
       "    </tr>\n",
       "    <tr>\n",
       "      <th>1</th>\n",
       "      <td>3.75</td>\n",
       "      <td>3.84</td>\n",
       "      <td>12</td>\n",
       "      <td>13</td>\n",
       "      <td>8.0</td>\n",
       "      <td>12</td>\n",
       "      <td>45</td>\n",
       "      <td>3</td>\n",
       "    </tr>\n",
       "    <tr>\n",
       "      <th>2</th>\n",
       "      <td>3.24</td>\n",
       "      <td>3.23</td>\n",
       "      <td>9</td>\n",
       "      <td>10</td>\n",
       "      <td>5.0</td>\n",
       "      <td>9</td>\n",
       "      <td>33</td>\n",
       "      <td>19</td>\n",
       "    </tr>\n",
       "    <tr>\n",
       "      <th>3</th>\n",
       "      <td>3.74</td>\n",
       "      <td>3.69</td>\n",
       "      <td>12</td>\n",
       "      <td>11</td>\n",
       "      <td>7.0</td>\n",
       "      <td>10</td>\n",
       "      <td>40</td>\n",
       "      <td>5</td>\n",
       "    </tr>\n",
       "    <tr>\n",
       "      <th>4</th>\n",
       "      <td>3.53</td>\n",
       "      <td>3.38</td>\n",
       "      <td>9</td>\n",
       "      <td>11</td>\n",
       "      <td>4.0</td>\n",
       "      <td>11</td>\n",
       "      <td>35</td>\n",
       "      <td>11</td>\n",
       "    </tr>\n",
       "  </tbody>\n",
       "</table>\n",
       "</div>"
      ],
      "text/plain": [
       "   BCPM   GPA  VR  PS   WS  BS  MCAT  Apps\n",
       "0  3.59  3.62  11   9  9.0   9    38     5\n",
       "1  3.75  3.84  12  13  8.0  12    45     3\n",
       "2  3.24  3.23   9  10  5.0   9    33    19\n",
       "3  3.74  3.69  12  11  7.0  10    40     5\n",
       "4  3.53  3.38   9  11  4.0  11    35    11"
      ]
     },
     "execution_count": 28,
     "metadata": {},
     "output_type": "execute_result"
    }
   ],
   "source": [
    "# keep just the numeric variables\n",
    "med_numeric = med2.loc[:, \"BCPM\":\"Apps\"]\n",
    "med_numeric.head()"
   ]
  },
  {
   "cell_type": "code",
   "execution_count": 29,
   "metadata": {
    "colab": {},
    "colab_type": "code",
    "id": "kt25nwtXinra"
   },
   "outputs": [],
   "source": [
    "kmeans = KMeans(n_clusters=2)   # setup cluster algorithm for 2 clusters\n",
    "kmeans.fit(med_numeric)          # fit the model\n",
    "k2 = kmeans.predict(med_numeric)   # generate cluster labels\n",
    "med2['k2'] = k2"
   ]
  },
  {
   "cell_type": "code",
   "execution_count": 30,
   "metadata": {
    "colab": {},
    "colab_type": "code",
    "id": "CJeBC86-jS1f"
   },
   "outputs": [
    {
     "data": {
      "text/plain": [
       "<matplotlib.axes._subplots.AxesSubplot at 0x1a2296d940>"
      ]
     },
     "execution_count": 30,
     "metadata": {},
     "output_type": "execute_result"
    },
    {
     "data": {
      "image/png": "[encoded data removed]",
      "text/plain": [
       "<Figure size 432x288 with 1 Axes>"
      ]
     },
     "metadata": {
      "needs_background": "light"
     },
     "output_type": "display_data"
    }
   ],
   "source": [
    "# how did our original plot change\n",
    "sns.scatterplot(x=\"GPA\", y=\"BS\", data=med2, hue=\"k2\", style=\"Acceptance\")"
   ]
  },
  {
   "cell_type": "code",
   "execution_count": 31,
   "metadata": {
    "colab": {},
    "colab_type": "code",
    "id": "-SRLAsPnj-i7"
   },
   "outputs": [
    {
     "data": {
      "text/plain": [
       "1791.523670294118"
      ]
     },
     "execution_count": 31,
     "metadata": {},
     "output_type": "execute_result"
    }
   ],
   "source": [
    "# interia score  -- did we do better or worse?\n",
    "kmeans.inertia_"
   ]
  },
  {
   "cell_type": "markdown",
   "metadata": {
    "colab_type": "text",
    "id": "dK475lzfhHR-"
   },
   "source": [
    "----\n",
    "\n",
    "\n",
    "Above we learned a few things:\n",
    "\n",
    "1.Clustering is an unsupervised technique, but that doesnt mean our dataset can't have a variable/feature of interest.  We just ignore it and do not include it in our clustering, which allows us to profile by it later\n",
    "\n",
    "2. The features we use in the clustering matter\n",
    "\n",
    "3.  We are setting the value of `k`, but are other combinations of `k` better?\n",
    "\n",
    "We can use our friend the `for` loop to evaluate:"
   ]
  },
  {
   "cell_type": "markdown",
   "metadata": {
    "colab_type": "text",
    "id": "BCdxKypKxQZ1"
   },
   "source": [
    "# Exercise 1:  Use a for loop to test your number of clusters\n",
    "\n",
    "Hints:\n",
    "\n",
    "- empty list and append values\n",
    "- define a range of k\n",
    "- save out the intertia values after the data are fit\n",
    "- review"
   ]
  },
  {
   "cell_type": "code",
   "execution_count": 37,
   "metadata": {
    "colab": {},
    "colab_type": "code",
    "id": "dU1b4xuWjwG_"
   },
   "outputs": [],
   "source": [
    "inertia = []\n",
    "for k in range(2,6):\n",
    "    kmeans = KMeans(n_clusters=k)   # setup cluster algorithm for 2 clusters\n",
    "    kmeans.fit(med_numeric)          # fit the model\n",
    "    k_labels = kmeans.predict(med_numeric)   # generate cluster labels\n",
    "    inertia.append(kmeans.inertia_)"
   ]
  },
  {
   "cell_type": "code",
   "execution_count": 38,
   "metadata": {},
   "outputs": [
    {
     "data": {
      "text/plain": [
       "[1768.9947047619048, 1162.0372509722222, 965.6110565476191, 795.532989311741]"
      ]
     },
     "execution_count": 38,
     "metadata": {},
     "output_type": "execute_result"
    }
   ],
   "source": [
    "inertia"
   ]
  },
  {
   "cell_type": "markdown",
   "metadata": {
    "colab_type": "text",
    "id": "xXiv1Doan62Y"
   },
   "source": [
    "--- "
   ]
  },
  {
   "cell_type": "markdown",
   "metadata": {
    "colab_type": "text",
    "id": "6UGk6RF8xwyA"
   },
   "source": [
    "# Standardize Values\n",
    "\n",
    "When we use features/columns that are on based on different units, those values with the larger variance get more weight.  We can standardize the values to keep everything on the same footing"
   ]
  },
  {
   "cell_type": "code",
   "execution_count": 39,
   "metadata": {
    "colab": {},
    "colab_type": "code",
    "id": "bOAUz4Unx6wA"
   },
   "outputs": [],
   "source": [
    "# setup the scalter\n",
    "scaler = StandardScaler() "
   ]
  },
  {
   "cell_type": "code",
   "execution_count": 40,
   "metadata": {
    "colab": {},
    "colab_type": "code",
    "id": "wKUQy4e0yGbP"
   },
   "outputs": [
    {
     "name": "stderr",
     "output_type": "stream",
     "text": [
      "/anaconda3/envs/Python_37/lib/python3.7/site-packages/sklearn/preprocessing/data.py:645: DataConversionWarning: Data with input dtype int64, float64 were all converted to float64 by StandardScaler.\n",
      "  return self.partial_fit(X, y)\n"
     ]
    },
    {
     "data": {
      "text/plain": [
       "StandardScaler(copy=True, with_mean=True, with_std=True)"
      ]
     },
     "execution_count": 40,
     "metadata": {},
     "output_type": "execute_result"
    }
   ],
   "source": [
    "# fit the scalter to normalize our dataset\n",
    "scaler.fit(med_numeric)"
   ]
  },
  {
   "cell_type": "code",
   "execution_count": 41,
   "metadata": {
    "colab": {},
    "colab_type": "code",
    "id": "9zHcc7May1Fl"
   },
   "outputs": [
    {
     "name": "stderr",
     "output_type": "stream",
     "text": [
      "/anaconda3/envs/Python_37/lib/python3.7/site-packages/ipykernel_launcher.py:2: DataConversionWarning: Data with input dtype int64, float64 were all converted to float64 by StandardScaler.\n",
      "  \n"
     ]
    }
   ],
   "source": [
    "# transform the data\n",
    "med_scaled = scaler.transform(med_numeric)"
   ]
  },
  {
   "cell_type": "code",
   "execution_count": 42,
   "metadata": {
    "colab": {},
    "colab_type": "code",
    "id": "rH7rdELUy5bs"
   },
   "outputs": [
    {
     "data": {
      "text/html": [
       "<div>\n",
       "<style scoped>\n",
       "    .dataframe tbody tr th:only-of-type {\n",
       "        vertical-align: middle;\n",
       "    }\n",
       "\n",
       "    .dataframe tbody tr th {\n",
       "        vertical-align: top;\n",
       "    }\n",
       "\n",
       "    .dataframe thead th {\n",
       "        text-align: right;\n",
       "    }\n",
       "</style>\n",
       "<table border=\"1\" class=\"dataframe\">\n",
       "  <thead>\n",
       "    <tr style=\"text-align: right;\">\n",
       "      <th></th>\n",
       "      <th>BCPM</th>\n",
       "      <th>GPA</th>\n",
       "      <th>VR</th>\n",
       "      <th>PS</th>\n",
       "      <th>WS</th>\n",
       "      <th>BS</th>\n",
       "      <th>MCAT</th>\n",
       "      <th>Apps</th>\n",
       "    </tr>\n",
       "  </thead>\n",
       "  <tbody>\n",
       "    <tr>\n",
       "      <th>0</th>\n",
       "      <td>3.59</td>\n",
       "      <td>3.62</td>\n",
       "      <td>11</td>\n",
       "      <td>9</td>\n",
       "      <td>9.0</td>\n",
       "      <td>9</td>\n",
       "      <td>38</td>\n",
       "      <td>5</td>\n",
       "    </tr>\n",
       "    <tr>\n",
       "      <th>1</th>\n",
       "      <td>3.75</td>\n",
       "      <td>3.84</td>\n",
       "      <td>12</td>\n",
       "      <td>13</td>\n",
       "      <td>8.0</td>\n",
       "      <td>12</td>\n",
       "      <td>45</td>\n",
       "      <td>3</td>\n",
       "    </tr>\n",
       "    <tr>\n",
       "      <th>2</th>\n",
       "      <td>3.24</td>\n",
       "      <td>3.23</td>\n",
       "      <td>9</td>\n",
       "      <td>10</td>\n",
       "      <td>5.0</td>\n",
       "      <td>9</td>\n",
       "      <td>33</td>\n",
       "      <td>19</td>\n",
       "    </tr>\n",
       "    <tr>\n",
       "      <th>3</th>\n",
       "      <td>3.74</td>\n",
       "      <td>3.69</td>\n",
       "      <td>12</td>\n",
       "      <td>11</td>\n",
       "      <td>7.0</td>\n",
       "      <td>10</td>\n",
       "      <td>40</td>\n",
       "      <td>5</td>\n",
       "    </tr>\n",
       "    <tr>\n",
       "      <th>4</th>\n",
       "      <td>3.53</td>\n",
       "      <td>3.38</td>\n",
       "      <td>9</td>\n",
       "      <td>11</td>\n",
       "      <td>4.0</td>\n",
       "      <td>11</td>\n",
       "      <td>35</td>\n",
       "      <td>11</td>\n",
       "    </tr>\n",
       "  </tbody>\n",
       "</table>\n",
       "</div>"
      ],
      "text/plain": [
       "   BCPM   GPA  VR  PS   WS  BS  MCAT  Apps\n",
       "0  3.59  3.62  11   9  9.0   9    38     5\n",
       "1  3.75  3.84  12  13  8.0  12    45     3\n",
       "2  3.24  3.23   9  10  5.0   9    33    19\n",
       "3  3.74  3.69  12  11  7.0  10    40     5\n",
       "4  3.53  3.38   9  11  4.0  11    35    11"
      ]
     },
     "execution_count": 42,
     "metadata": {},
     "output_type": "execute_result"
    }
   ],
   "source": [
    "med_numeric.head()"
   ]
  },
  {
   "cell_type": "code",
   "execution_count": 0,
   "metadata": {
    "colab": {},
    "colab_type": "code",
    "id": "AIt1TNCky7jj"
   },
   "outputs": [],
   "source": [
    "type(med_scaled)"
   ]
  },
  {
   "cell_type": "code",
   "execution_count": 0,
   "metadata": {
    "colab": {},
    "colab_type": "code",
    "id": "d_ctb91_zF9L"
   },
   "outputs": [],
   "source": [
    "med_scaled[0:5]"
   ]
  },
  {
   "cell_type": "code",
   "execution_count": 0,
   "metadata": {
    "colab": {},
    "colab_type": "code",
    "id": "naiiVdIozF63"
   },
   "outputs": [],
   "source": [
    "# put back into a dataframe\n",
    "med_scaled_df = pd.DataFrame(med_scaled, columns=med_numeric.columns)"
   ]
  },
  {
   "cell_type": "code",
   "execution_count": 0,
   "metadata": {
    "colab": {},
    "colab_type": "code",
    "id": "_wVSh1w-zF4n"
   },
   "outputs": [],
   "source": [
    "med_scaled_df.head()"
   ]
  },
  {
   "cell_type": "code",
   "execution_count": 0,
   "metadata": {
    "colab": {},
    "colab_type": "code",
    "id": "NWXlLx8OzF2d"
   },
   "outputs": [],
   "source": [
    "# describe\n",
    "med_scaled_df.describe()"
   ]
  },
  {
   "cell_type": "code",
   "execution_count": 0,
   "metadata": {
    "colab": {},
    "colab_type": "code",
    "id": "QJzZ6EKQzFvO"
   },
   "outputs": [],
   "source": [
    "# fit a kmeans to the dataset\n",
    "model = KMeans(n_clusters=2)\n",
    "model.fit(med_scaled_df)\n",
    "k2 = model.predict(med_scaled_df)\n",
    "\n",
    "# how did we do?\n",
    "model.inertia_"
   ]
  },
  {
   "cell_type": "code",
   "execution_count": 0,
   "metadata": {
    "colab": {},
    "colab_type": "code",
    "id": "WD3r5qgfzrFO"
   },
   "outputs": [],
   "source": [
    "# a plot\n",
    "med2['k2_scaled'] = k2\n",
    "sns.scatterplot(x=\"GPA\", y=\"BS\", data=med2, hue=\"k2_scaled\", style=\"Acceptance\")"
   ]
  },
  {
   "cell_type": "code",
   "execution_count": 0,
   "metadata": {
    "colab": {},
    "colab_type": "code",
    "id": "eUPCWWcXz7U8"
   },
   "outputs": [],
   "source": [
    "# profile based on a known outcome which you would think cluster the data\n",
    "pd.crosstab(med2['k2_scaled'], med2['Acceptance'], normalize='columns')"
   ]
  },
  {
   "cell_type": "markdown",
   "metadata": {
    "colab_type": "text",
    "id": "Ch8iZmeWkE3p"
   },
   "source": [
    "Check out a number of clusters, now with scaled data"
   ]
  },
  {
   "cell_type": "code",
   "execution_count": 0,
   "metadata": {
    "colab": {},
    "colab_type": "code",
    "id": "nIAe0_zViKVZ"
   },
   "outputs": [],
   "source": [
    "# create an empty list to hold our interia scores\n",
    "i_scores = []\n",
    "\n",
    "# create a range of k values to check - 2 to 15 clusters\n",
    "ks = range(2, 16)"
   ]
  },
  {
   "cell_type": "code",
   "execution_count": 0,
   "metadata": {
    "colab": {},
    "colab_type": "code",
    "id": "tqnl45h0lTJ6"
   },
   "outputs": [],
   "source": [
    "# for each k, fit a kmeans cluster model and save the inertia score\n",
    "for k in ks:\n",
    "  kmean = KMeans(n_clusters = k)\n",
    "  kmeans.fit(med_scaled_df)          # fit the model\n",
    "  k_labels = kmeans.predict(med_scaled_df)   # generate the cluster labels\n",
    "  i_scores.append(kmeans.inertia_)    # append the silhoutte score to the list"
   ]
  },
  {
   "cell_type": "code",
   "execution_count": 0,
   "metadata": {
    "colab": {},
    "colab_type": "code",
    "id": "V72fkLmplyr3"
   },
   "outputs": [],
   "source": [
    "# plot the data\n",
    "silo_df = pd.DataFrame({'k':ks, 'score':i_scores}, index=ks)\n",
    "sns.pointplot(x=\"k\", y=\"score\", data=silo_df)"
   ]
  },
  {
   "cell_type": "markdown",
   "metadata": {
    "colab_type": "text",
    "id": "F_k5BI5D0V5W"
   },
   "source": [
    "What would we choose above, and what do we think is happening?"
   ]
  },
  {
   "cell_type": "markdown",
   "metadata": {
    "colab_type": "text",
    "id": "AixOsDdt0gCX"
   },
   "source": [
    "---\n",
    "\n",
    "# Exercise 2:  Cluster the diamonds\n",
    "\n",
    "\n",
    "Using the diamonds dataset found here:\n",
    "\n",
    "`https://vincentarelbundock.github.io/Rdatasets/csv/ggplot2/diamonds.csv`\n",
    "\n",
    "Select the appropriate variables, standardize the dataset, and determine the number of clusters.\n",
    "\n",
    "Hints:\n",
    "\n",
    "- The clustering technique is intensive on _larger_ datasets, so be patient if you are trying to work through varying numbers of `k`"
   ]
  },
  {
   "cell_type": "code",
   "execution_count": 54,
   "metadata": {
    "colab": {},
    "colab_type": "code",
    "id": "stB4fMnA2juf"
   },
   "outputs": [
    {
     "name": "stdout",
     "output_type": "stream",
     "text": [
      "DONE\n"
     ]
    },
    {
     "name": "stderr",
     "output_type": "stream",
     "text": [
      "/anaconda3/envs/Python_37/lib/python3.7/site-packages/sklearn/preprocessing/data.py:645: DataConversionWarning: Data with input dtype int64, float64 were all converted to float64 by StandardScaler.\n",
      "  return self.partial_fit(X, y)\n",
      "/anaconda3/envs/Python_37/lib/python3.7/site-packages/ipykernel_launcher.py:4: DataConversionWarning: Data with input dtype int64, float64 were all converted to float64 by StandardScaler.\n",
      "  after removing the cwd from sys.path.\n"
     ]
    }
   ],
   "source": [
    "dd_raw = pd.read_csv(\"https://vincentarelbundock.github.io/Rdatasets/csv/ggplot2/diamonds.csv\")\n",
    "dd = dd_raw.loc[:,\"depth\":\"z\"]\n",
    "scaler.fit(dd)\n",
    "dd_scaled = scaler.transform(dd)\n",
    "dd_scaled_df = pd.DataFrame(dd_scaled, columns=dd.columns)\n",
    "print(\"DONE\")\n",
    "\n",
    "# create an empty list to hold our interia scores\n",
    "i_scores = []\n",
    "\n",
    "# create a range of k values to check - 2 to 15 clusters\n",
    "ks = range(2, 16)"
   ]
  },
  {
   "cell_type": "code",
   "execution_count": 60,
   "metadata": {
    "colab": {},
    "colab_type": "code",
    "id": "DSj8qMSv4Zxu"
   },
   "outputs": [
    {
     "name": "stdout",
     "output_type": "stream",
     "text": [
      "2\n",
      "3\n",
      "4\n",
      "5\n",
      "6\n",
      "7\n",
      "8\n",
      "9\n",
      "10\n",
      "11\n",
      "12\n",
      "13\n",
      "14\n",
      "15\n",
      "DONE\n"
     ]
    }
   ],
   "source": [
    "for k in ks:\n",
    "  print(k)\n",
    "  kmean = KMeans(n_clusters = k)\n",
    "  kmeans.fit(dd_scaled_df)          # fit the model\n",
    "  k_labels = kmeans.predict(dd_scaled_df)   # generate the cluster labels\n",
    "  i_scores.append(kmeans.inertia_)    # append the silhoutte score to the list\n",
    "print(\"DONE\")"
   ]
  },
  {
   "cell_type": "code",
   "execution_count": 61,
   "metadata": {},
   "outputs": [
    {
     "data": {
      "text/plain": [
       "[104676.90180009746,\n",
       " 104676.87102446766,\n",
       " 104676.8726113586,\n",
       " 104676.99646541887,\n",
       " 104676.95559492728,\n",
       " 104676.99646541887,\n",
       " 104677.00286441078,\n",
       " 104676.92718646323,\n",
       " 104676.88880771674,\n",
       " 104676.96935290392,\n",
       " 104676.793212804,\n",
       " 104676.99977853942,\n",
       " 104676.87653556555,\n",
       " 104676.85088994863,\n",
       " 104676.96041997542,\n",
       " 104676.95979859836,\n",
       " 104677.00527296458,\n",
       " 104676.95448970111,\n",
       " 104676.93895118807,\n",
       " 104676.99646541887,\n",
       " 104676.78766027749,\n",
       " 104676.89075285823,\n",
       " 104676.90993101748,\n",
       " 104676.84737160463,\n",
       " 104676.76205073025,\n",
       " 104676.9537851374,\n",
       " 104676.93895118807,\n",
       " 104676.87254367402,\n",
       " 104677.00297806003,\n",
       " 104676.99838854342,\n",
       " 104676.9419796342,\n",
       " 104676.94833235713,\n",
       " 104676.99646541887,\n",
       " 104676.95559492728,\n",
       " 104676.96430354471,\n",
       " 104676.94343857458,\n",
       " 104676.93417269815,\n",
       " 104676.87590971046,\n",
       " 104676.99646541887,\n",
       " 104676.99838854342,\n",
       " 104676.96430354471,\n",
       " 104676.98864312036,\n",
       " 104676.91851686873,\n",
       " 104676.93757366482,\n",
       " 104677.03329359026,\n",
       " 104676.89324422962,\n",
       " 104676.97153455055,\n",
       " 104676.99646541887,\n",
       " 104676.91687137754,\n",
       " 104676.96430354471,\n",
       " 104676.86244981588,\n",
       " 104677.04962466483,\n",
       " 104676.98649242295,\n",
       " 104676.88243375995,\n",
       " 104676.79008426692,\n",
       " 104676.96041997542,\n",
       " 104676.92963757152,\n",
       " 104676.88243375995,\n",
       " 104676.93895118807,\n",
       " 104676.94487429378,\n",
       " 104676.88243375995,\n",
       " 104677.08011975206,\n",
       " 104676.99838854342,\n",
       " 104676.8917441515,\n",
       " 104676.99592603363,\n",
       " 104676.96430354471]"
      ]
     },
     "execution_count": 61,
     "metadata": {},
     "output_type": "execute_result"
    }
   ],
   "source": [
    "i_scores"
   ]
  },
  {
   "cell_type": "markdown",
   "metadata": {
    "colab_type": "text",
    "id": "imnFJEfA4XRL"
   },
   "source": [
    "----\n",
    "\n"
   ]
  },
  {
   "cell_type": "markdown",
   "metadata": {
    "colab_type": "text",
    "id": "x6789JrR4ZMA"
   },
   "source": [
    "# Hierarchical Clustering\n",
    "\n",
    "\n",
    "![](https://www.displayr.com/wp-content/uploads/2018/03/Screen-Shot-2018-03-28-at-11.48.48-am.png)"
   ]
  },
  {
   "cell_type": "code",
   "execution_count": 62,
   "metadata": {
    "colab": {},
    "colab_type": "code",
    "id": "QBCzbSRf41St"
   },
   "outputs": [],
   "source": [
    "cars = pd.read_csv(\"https://vincentarelbundock.github.io/Rdatasets/csv/datasets/mtcars.csv\", index_col = 0)"
   ]
  },
  {
   "cell_type": "code",
   "execution_count": 63,
   "metadata": {
    "colab": {},
    "colab_type": "code",
    "id": "X0eC-D2c9L_d"
   },
   "outputs": [
    {
     "data": {
      "text/html": [
       "<div>\n",
       "<style scoped>\n",
       "    .dataframe tbody tr th:only-of-type {\n",
       "        vertical-align: middle;\n",
       "    }\n",
       "\n",
       "    .dataframe tbody tr th {\n",
       "        vertical-align: top;\n",
       "    }\n",
       "\n",
       "    .dataframe thead th {\n",
       "        text-align: right;\n",
       "    }\n",
       "</style>\n",
       "<table border=\"1\" class=\"dataframe\">\n",
       "  <thead>\n",
       "    <tr style=\"text-align: right;\">\n",
       "      <th></th>\n",
       "      <th>mpg</th>\n",
       "      <th>cyl</th>\n",
       "      <th>disp</th>\n",
       "      <th>hp</th>\n",
       "      <th>drat</th>\n",
       "      <th>wt</th>\n",
       "      <th>qsec</th>\n",
       "      <th>vs</th>\n",
       "      <th>am</th>\n",
       "      <th>gear</th>\n",
       "      <th>carb</th>\n",
       "    </tr>\n",
       "  </thead>\n",
       "  <tbody>\n",
       "    <tr>\n",
       "      <th>Mazda RX4</th>\n",
       "      <td>21.0</td>\n",
       "      <td>6</td>\n",
       "      <td>160.0</td>\n",
       "      <td>110</td>\n",
       "      <td>3.90</td>\n",
       "      <td>2.620</td>\n",
       "      <td>16.46</td>\n",
       "      <td>0</td>\n",
       "      <td>1</td>\n",
       "      <td>4</td>\n",
       "      <td>4</td>\n",
       "    </tr>\n",
       "    <tr>\n",
       "      <th>Mazda RX4 Wag</th>\n",
       "      <td>21.0</td>\n",
       "      <td>6</td>\n",
       "      <td>160.0</td>\n",
       "      <td>110</td>\n",
       "      <td>3.90</td>\n",
       "      <td>2.875</td>\n",
       "      <td>17.02</td>\n",
       "      <td>0</td>\n",
       "      <td>1</td>\n",
       "      <td>4</td>\n",
       "      <td>4</td>\n",
       "    </tr>\n",
       "    <tr>\n",
       "      <th>Datsun 710</th>\n",
       "      <td>22.8</td>\n",
       "      <td>4</td>\n",
       "      <td>108.0</td>\n",
       "      <td>93</td>\n",
       "      <td>3.85</td>\n",
       "      <td>2.320</td>\n",
       "      <td>18.61</td>\n",
       "      <td>1</td>\n",
       "      <td>1</td>\n",
       "      <td>4</td>\n",
       "      <td>1</td>\n",
       "    </tr>\n",
       "    <tr>\n",
       "      <th>Hornet 4 Drive</th>\n",
       "      <td>21.4</td>\n",
       "      <td>6</td>\n",
       "      <td>258.0</td>\n",
       "      <td>110</td>\n",
       "      <td>3.08</td>\n",
       "      <td>3.215</td>\n",
       "      <td>19.44</td>\n",
       "      <td>1</td>\n",
       "      <td>0</td>\n",
       "      <td>3</td>\n",
       "      <td>1</td>\n",
       "    </tr>\n",
       "    <tr>\n",
       "      <th>Hornet Sportabout</th>\n",
       "      <td>18.7</td>\n",
       "      <td>8</td>\n",
       "      <td>360.0</td>\n",
       "      <td>175</td>\n",
       "      <td>3.15</td>\n",
       "      <td>3.440</td>\n",
       "      <td>17.02</td>\n",
       "      <td>0</td>\n",
       "      <td>0</td>\n",
       "      <td>3</td>\n",
       "      <td>2</td>\n",
       "    </tr>\n",
       "  </tbody>\n",
       "</table>\n",
       "</div>"
      ],
      "text/plain": [
       "                    mpg  cyl   disp   hp  drat     wt   qsec  vs  am  gear  \\\n",
       "Mazda RX4          21.0    6  160.0  110  3.90  2.620  16.46   0   1     4   \n",
       "Mazda RX4 Wag      21.0    6  160.0  110  3.90  2.875  17.02   0   1     4   \n",
       "Datsun 710         22.8    4  108.0   93  3.85  2.320  18.61   1   1     4   \n",
       "Hornet 4 Drive     21.4    6  258.0  110  3.08  3.215  19.44   1   0     3   \n",
       "Hornet Sportabout  18.7    8  360.0  175  3.15  3.440  17.02   0   0     3   \n",
       "\n",
       "                   carb  \n",
       "Mazda RX4             4  \n",
       "Mazda RX4 Wag         4  \n",
       "Datsun 710            1  \n",
       "Hornet 4 Drive        1  \n",
       "Hornet Sportabout     2  "
      ]
     },
     "execution_count": 63,
     "metadata": {},
     "output_type": "execute_result"
    }
   ],
   "source": [
    "cars.head()"
   ]
  },
  {
   "cell_type": "code",
   "execution_count": null,
   "metadata": {
    "colab": {},
    "colab_type": "code",
    "id": "dbe_PSyv9n7-"
   },
   "outputs": [],
   "source": []
  },
  {
   "cell_type": "code",
   "execution_count": 64,
   "metadata": {
    "colab": {},
    "colab_type": "code",
    "id": "Ujr64tRS9o1V"
   },
   "outputs": [
    {
     "name": "stderr",
     "output_type": "stream",
     "text": [
      "/anaconda3/envs/Python_37/lib/python3.7/site-packages/sklearn/preprocessing/data.py:645: DataConversionWarning: Data with input dtype int64, float64 were all converted to float64 by StandardScaler.\n",
      "  return self.partial_fit(X, y)\n",
      "/anaconda3/envs/Python_37/lib/python3.7/site-packages/ipykernel_launcher.py:4: DataConversionWarning: Data with input dtype int64, float64 were all converted to float64 by StandardScaler.\n",
      "  after removing the cwd from sys.path.\n"
     ]
    },
    {
     "data": {
      "text/html": [
       "<div>\n",
       "<style scoped>\n",
       "    .dataframe tbody tr th:only-of-type {\n",
       "        vertical-align: middle;\n",
       "    }\n",
       "\n",
       "    .dataframe tbody tr th {\n",
       "        vertical-align: top;\n",
       "    }\n",
       "\n",
       "    .dataframe thead th {\n",
       "        text-align: right;\n",
       "    }\n",
       "</style>\n",
       "<table border=\"1\" class=\"dataframe\">\n",
       "  <thead>\n",
       "    <tr style=\"text-align: right;\">\n",
       "      <th></th>\n",
       "      <th>mpg</th>\n",
       "      <th>cyl</th>\n",
       "      <th>disp</th>\n",
       "      <th>hp</th>\n",
       "      <th>drat</th>\n",
       "      <th>wt</th>\n",
       "      <th>qsec</th>\n",
       "      <th>vs</th>\n",
       "      <th>am</th>\n",
       "      <th>gear</th>\n",
       "      <th>carb</th>\n",
       "    </tr>\n",
       "  </thead>\n",
       "  <tbody>\n",
       "    <tr>\n",
       "      <th>0</th>\n",
       "      <td>0.153299</td>\n",
       "      <td>-0.106668</td>\n",
       "      <td>-0.579750</td>\n",
       "      <td>-0.543655</td>\n",
       "      <td>0.576594</td>\n",
       "      <td>-0.620167</td>\n",
       "      <td>-0.789601</td>\n",
       "      <td>-0.881917</td>\n",
       "      <td>1.208941</td>\n",
       "      <td>0.430331</td>\n",
       "      <td>0.746967</td>\n",
       "    </tr>\n",
       "    <tr>\n",
       "      <th>1</th>\n",
       "      <td>0.153299</td>\n",
       "      <td>-0.106668</td>\n",
       "      <td>-0.579750</td>\n",
       "      <td>-0.543655</td>\n",
       "      <td>0.576594</td>\n",
       "      <td>-0.355382</td>\n",
       "      <td>-0.471202</td>\n",
       "      <td>-0.881917</td>\n",
       "      <td>1.208941</td>\n",
       "      <td>0.430331</td>\n",
       "      <td>0.746967</td>\n",
       "    </tr>\n",
       "    <tr>\n",
       "      <th>2</th>\n",
       "      <td>0.456737</td>\n",
       "      <td>-1.244457</td>\n",
       "      <td>-1.006026</td>\n",
       "      <td>-0.795570</td>\n",
       "      <td>0.481584</td>\n",
       "      <td>-0.931678</td>\n",
       "      <td>0.432823</td>\n",
       "      <td>1.133893</td>\n",
       "      <td>1.208941</td>\n",
       "      <td>0.430331</td>\n",
       "      <td>-1.140108</td>\n",
       "    </tr>\n",
       "    <tr>\n",
       "      <th>3</th>\n",
       "      <td>0.220730</td>\n",
       "      <td>-0.106668</td>\n",
       "      <td>0.223615</td>\n",
       "      <td>-0.543655</td>\n",
       "      <td>-0.981576</td>\n",
       "      <td>-0.002336</td>\n",
       "      <td>0.904736</td>\n",
       "      <td>1.133893</td>\n",
       "      <td>-0.827170</td>\n",
       "      <td>-0.946729</td>\n",
       "      <td>-1.140108</td>\n",
       "    </tr>\n",
       "    <tr>\n",
       "      <th>4</th>\n",
       "      <td>-0.234427</td>\n",
       "      <td>1.031121</td>\n",
       "      <td>1.059772</td>\n",
       "      <td>0.419550</td>\n",
       "      <td>-0.848562</td>\n",
       "      <td>0.231297</td>\n",
       "      <td>-0.471202</td>\n",
       "      <td>-0.881917</td>\n",
       "      <td>-0.827170</td>\n",
       "      <td>-0.946729</td>\n",
       "      <td>-0.511083</td>\n",
       "    </tr>\n",
       "  </tbody>\n",
       "</table>\n",
       "</div>"
      ],
      "text/plain": [
       "        mpg       cyl      disp        hp      drat        wt      qsec  \\\n",
       "0  0.153299 -0.106668 -0.579750 -0.543655  0.576594 -0.620167 -0.789601   \n",
       "1  0.153299 -0.106668 -0.579750 -0.543655  0.576594 -0.355382 -0.471202   \n",
       "2  0.456737 -1.244457 -1.006026 -0.795570  0.481584 -0.931678  0.432823   \n",
       "3  0.220730 -0.106668  0.223615 -0.543655 -0.981576 -0.002336  0.904736   \n",
       "4 -0.234427  1.031121  1.059772  0.419550 -0.848562  0.231297 -0.471202   \n",
       "\n",
       "         vs        am      gear      carb  \n",
       "0 -0.881917  1.208941  0.430331  0.746967  \n",
       "1 -0.881917  1.208941  0.430331  0.746967  \n",
       "2  1.133893  1.208941  0.430331 -1.140108  \n",
       "3  1.133893 -0.827170 -0.946729 -1.140108  \n",
       "4 -0.881917 -0.827170 -0.946729 -0.511083  "
      ]
     },
     "execution_count": 64,
     "metadata": {},
     "output_type": "execute_result"
    }
   ],
   "source": [
    "# isolate just the numeric and standardize\n",
    "cars_scaler = StandardScaler()\n",
    "cars_scaler.fit(cars)\n",
    "cars_scaled = cars_scaler.transform(cars)\n",
    "cars_df = pd.DataFrame(cars_scaled, columns=cars.columns)\n",
    "cars_df.head()"
   ]
  },
  {
   "cell_type": "code",
   "execution_count": 65,
   "metadata": {
    "colab": {},
    "colab_type": "code",
    "id": "J_84LCcrSzVW"
   },
   "outputs": [],
   "source": [
    "car_hclust = linkage(cars_df, method=\"complete\")"
   ]
  },
  {
   "cell_type": "code",
   "execution_count": 66,
   "metadata": {
    "colab": {},
    "colab_type": "code",
    "id": "Z6UM-q2oToP2"
   },
   "outputs": [
    {
     "data": {
      "image/png": "[encoded data removed]",
      "text/plain": [
       "<Figure size 432x288 with 1 Axes>"
      ]
     },
     "metadata": {
      "needs_background": "light"
     },
     "output_type": "display_data"
    }
   ],
   "source": [
    "# plot the data\n",
    "dendrogram(car_hclust,\n",
    "           leaf_rotation=90,\n",
    "           leaf_font_size=6)\n",
    "plt.show()"
   ]
  },
  {
   "cell_type": "code",
   "execution_count": 67,
   "metadata": {
    "colab": {},
    "colab_type": "code",
    "id": "19HtpbPjT1zD"
   },
   "outputs": [
    {
     "data": {
      "image/png": "[encoded data removed]",
      "text/plain": [
       "<Figure size 432x288 with 1 Axes>"
      ]
     },
     "metadata": {
      "needs_background": "light"
     },
     "output_type": "display_data"
    }
   ],
   "source": [
    "# the labels for the cluster\n",
    "dendrogram(car_hclust,\n",
    "           labels = cars.index,\n",
    "           leaf_rotation=90,\n",
    "           leaf_font_size=10)\n",
    "plt.show()\n"
   ]
  },
  {
   "cell_type": "code",
   "execution_count": 68,
   "metadata": {
    "colab": {},
    "colab_type": "code",
    "id": "g6E4i-vNT3j7"
   },
   "outputs": [
    {
     "data": {
      "image/png": "[encoded data removed]",
      "text/plain": [
       "<Figure size 432x288 with 1 Axes>"
      ]
     },
     "metadata": {
      "needs_background": "light"
     },
     "output_type": "display_data"
    }
   ],
   "source": [
    "# you can also play around with the orientation\n",
    "dendrogram(car_hclust,\n",
    "           labels = cars.index,\n",
    "           orientation = \"left\")\n",
    "plt.show()"
   ]
  },
  {
   "cell_type": "markdown",
   "metadata": {
    "colab_type": "text",
    "id": "OhUgPhsSWPw_"
   },
   "source": [
    "Ok, now we can extract the clusters"
   ]
  },
  {
   "cell_type": "code",
   "execution_count": 0,
   "metadata": {
    "colab": {},
    "colab_type": "code",
    "id": "HLbwEgX-b93h"
   },
   "outputs": [],
   "source": [
    "from scipy.cluster.hierarchy import fcluster"
   ]
  },
  {
   "cell_type": "markdown",
   "metadata": {
    "colab_type": "text",
    "id": "hx5CbTMGb-sa"
   },
   "source": [
    "We imported this at the top of the notebook, but the import snippet above gives us `fcluster`, which we can use to extract the clusters that we want.\n"
   ]
  },
  {
   "cell_type": "code",
   "execution_count": 69,
   "metadata": {
    "colab": {},
    "colab_type": "code",
    "id": "KfIoD0sLcHUv"
   },
   "outputs": [],
   "source": [
    "# cuts the clusters at the distance shown on the dendrogram, the second argument is that distance\n",
    "clusters = fcluster(car_hclust, 4, criterion='distance')"
   ]
  },
  {
   "cell_type": "code",
   "execution_count": 70,
   "metadata": {
    "colab": {},
    "colab_type": "code",
    "id": "q3pOAZ2FcYJ1"
   },
   "outputs": [
    {
     "data": {
      "text/plain": [
       "array([4, 4, 2, 1, 3, 1, 3, 1, 1, 1, 1, 3, 3, 3, 3, 3, 3, 2, 2, 2, 1, 3,\n",
       "       3, 3, 3, 2, 2, 2, 5, 4, 5, 2], dtype=int32)"
      ]
     },
     "execution_count": 70,
     "metadata": {},
     "output_type": "execute_result"
    }
   ],
   "source": [
    "clusters"
   ]
  },
  {
   "cell_type": "code",
   "execution_count": 107,
   "metadata": {
    "colab": {},
    "colab_type": "code",
    "id": "8SifEdWecZPV"
   },
   "outputs": [],
   "source": [
    "# put these back onto the original dataframe\n",
    "cars['hc_clust'] = clusters"
   ]
  },
  {
   "cell_type": "code",
   "execution_count": 108,
   "metadata": {
    "colab": {},
    "colab_type": "code",
    "id": "BZdf-6vScfTs"
   },
   "outputs": [
    {
     "data": {
      "text/plain": [
       "1     7\n",
       "2     8\n",
       "3    12\n",
       "4     3\n",
       "5     2\n",
       "Name: hc_clust, dtype: int64"
      ]
     },
     "execution_count": 108,
     "metadata": {},
     "output_type": "execute_result"
    }
   ],
   "source": [
    "# how many are in each cluster?\n",
    "cars.hc_clust.value_counts(sort=False)"
   ]
  },
  {
   "cell_type": "code",
   "execution_count": 0,
   "metadata": {
    "colab": {},
    "colab_type": "code",
    "id": "NXOni-k6cm5y"
   },
   "outputs": [],
   "source": [
    "# view the data\n",
    "cars.sort_values(\"hc_clust\").head(40)"
   ]
  },
  {
   "cell_type": "code",
   "execution_count": 0,
   "metadata": {
    "colab": {},
    "colab_type": "code",
    "id": "OfihZ5FQc6Xq"
   },
   "outputs": [],
   "source": [
    "# finally, profile the clusters using describe and Transpose\n",
    "# cars.groupby(\"hc_clust\").describe().T\n",
    "cars.groupby(\"hc_clust\").mean().T"
   ]
  },
  {
   "cell_type": "markdown",
   "metadata": {
    "colab_type": "text",
    "id": "b30R3fOZdGJQ"
   },
   "source": [
    "----"
   ]
  },
  {
   "cell_type": "markdown",
   "metadata": {
    "colab_type": "text",
    "id": "2hc-56DedhXN"
   },
   "source": [
    "# Exercise 3:  Hierarchical Clustering of 2008 Elections by State\n",
    "\n",
    "For the dataset below:\n",
    "\n",
    "`https://vincentarelbundock.github.io/Rdatasets/csv/Stat2Data/Election08.csv`\n",
    "\n",
    "- Cluster the states\n",
    "\n",
    "- generate a dendrogram\n",
    "\n",
    "- determine the number of clusters, \n",
    "\n",
    "- and profile if Obama won based on the clusters, which should not be a feature included in the clustering\n",
    "\n",
    "\n",
    "Documentation on the dataset can be found here:\n",
    "\n",
    "https://vincentarelbundock.github.io/Rdatasets/doc/Stat2Data/Election08.html"
   ]
  },
  {
   "cell_type": "code",
   "execution_count": 110,
   "metadata": {
    "colab": {},
    "colab_type": "code",
    "id": "CjWtKmr8jMds"
   },
   "outputs": [
    {
     "data": {
      "text/html": [
       "<div>\n",
       "<style scoped>\n",
       "    .dataframe tbody tr th:only-of-type {\n",
       "        vertical-align: middle;\n",
       "    }\n",
       "\n",
       "    .dataframe tbody tr th {\n",
       "        vertical-align: top;\n",
       "    }\n",
       "\n",
       "    .dataframe thead th {\n",
       "        text-align: right;\n",
       "    }\n",
       "</style>\n",
       "<table border=\"1\" class=\"dataframe\">\n",
       "  <thead>\n",
       "    <tr style=\"text-align: right;\">\n",
       "      <th></th>\n",
       "      <th>Income</th>\n",
       "      <th>HS</th>\n",
       "      <th>BA</th>\n",
       "      <th>Dem.Rep</th>\n",
       "      <th>ObamaWin</th>\n",
       "    </tr>\n",
       "    <tr>\n",
       "      <th>Abr</th>\n",
       "      <th></th>\n",
       "      <th></th>\n",
       "      <th></th>\n",
       "      <th></th>\n",
       "      <th></th>\n",
       "    </tr>\n",
       "  </thead>\n",
       "  <tbody>\n",
       "    <tr>\n",
       "      <th>AL</th>\n",
       "      <td>32404</td>\n",
       "      <td>80.4</td>\n",
       "      <td>21.4</td>\n",
       "      <td>-1</td>\n",
       "      <td>0</td>\n",
       "    </tr>\n",
       "    <tr>\n",
       "      <th>AK</th>\n",
       "      <td>40352</td>\n",
       "      <td>90.5</td>\n",
       "      <td>26.0</td>\n",
       "      <td>-11</td>\n",
       "      <td>0</td>\n",
       "    </tr>\n",
       "    <tr>\n",
       "      <th>AZ</th>\n",
       "      <td>33029</td>\n",
       "      <td>83.5</td>\n",
       "      <td>25.3</td>\n",
       "      <td>0</td>\n",
       "      <td>0</td>\n",
       "    </tr>\n",
       "    <tr>\n",
       "      <th>AR</th>\n",
       "      <td>30060</td>\n",
       "      <td>81.1</td>\n",
       "      <td>19.3</td>\n",
       "      <td>12</td>\n",
       "      <td>0</td>\n",
       "    </tr>\n",
       "    <tr>\n",
       "      <th>CA</th>\n",
       "      <td>41571</td>\n",
       "      <td>80.2</td>\n",
       "      <td>29.5</td>\n",
       "      <td>19</td>\n",
       "      <td>1</td>\n",
       "    </tr>\n",
       "  </tbody>\n",
       "</table>\n",
       "</div>"
      ],
      "text/plain": [
       "     Income    HS    BA  Dem.Rep  ObamaWin\n",
       "Abr                                       \n",
       "AL    32404  80.4  21.4       -1         0\n",
       "AK    40352  90.5  26.0      -11         0\n",
       "AZ    33029  83.5  25.3        0         0\n",
       "AR    30060  81.1  19.3       12         0\n",
       "CA    41571  80.2  29.5       19         1"
      ]
     },
     "execution_count": 110,
     "metadata": {},
     "output_type": "execute_result"
    }
   ],
   "source": [
    "election = pd.read_csv(\"https://vincentarelbundock.github.io/Rdatasets/csv/Stat2Data/Election08.csv\", index_col=2)\n",
    "election = election.loc[:,\"Income\":\"ObamaWin\"]\n",
    "election.head()"
   ]
  },
  {
   "cell_type": "code",
   "execution_count": 112,
   "metadata": {},
   "outputs": [
    {
     "name": "stderr",
     "output_type": "stream",
     "text": [
      "/anaconda3/envs/Python_37/lib/python3.7/site-packages/sklearn/preprocessing/data.py:645: DataConversionWarning: Data with input dtype int64, float64 were all converted to float64 by StandardScaler.\n",
      "  return self.partial_fit(X, y)\n",
      "/anaconda3/envs/Python_37/lib/python3.7/site-packages/ipykernel_launcher.py:3: DataConversionWarning: Data with input dtype int64, float64 were all converted to float64 by StandardScaler.\n",
      "  This is separate from the ipykernel package so we can avoid doing imports until\n"
     ]
    },
    {
     "data": {
      "image/png": "[encoded data removed]",
      "text/plain": [
       "<Figure size 432x288 with 1 Axes>"
      ]
     },
     "metadata": {
      "needs_background": "light"
     },
     "output_type": "display_data"
    }
   ],
   "source": [
    "election_scaler = StandardScaler()\n",
    "election_scaler.fit(election)\n",
    "election_scaled = election_scaler.transform(election)\n",
    "election_df = pd.DataFrame(election_scaled, columns=election.columns)\n",
    "election_df.head()\n",
    "election_hclust = linkage(election_df, method=\"complete\")\n",
    "dendrogram(election_hclust,\n",
    "           labels = election.index,\n",
    "           orientation = \"left\")\n",
    "plt.show()"
   ]
  },
  {
   "cell_type": "code",
   "execution_count": 113,
   "metadata": {},
   "outputs": [
    {
     "data": {
      "text/plain": [
       "array([2, 1, 2, 2, 3, 4, 4, 3, 5, 3, 2, 4, 1, 3, 3, 3, 1, 2, 2, 3, 4, 4,\n",
       "       3, 4, 2, 2, 1, 1, 3, 4, 4, 3, 4, 3, 1, 3, 2, 3, 3, 3, 2, 1, 2, 2,\n",
       "       1, 4, 4, 4, 2, 3, 1], dtype=int32)"
      ]
     },
     "execution_count": 113,
     "metadata": {},
     "output_type": "execute_result"
    }
   ],
   "source": [
    "election_clusters = fcluster(election_hclust, 4, criterion='distance')\n",
    "election['hc_clust'] = election_clusters\n",
    "election_clusters"
   ]
  },
  {
   "cell_type": "code",
   "execution_count": 114,
   "metadata": {},
   "outputs": [
    {
     "data": {
      "text/plain": [
       "1     9\n",
       "2    13\n",
       "3    16\n",
       "4    12\n",
       "5     1\n",
       "Name: hc_clust, dtype: int64"
      ]
     },
     "execution_count": 114,
     "metadata": {},
     "output_type": "execute_result"
    }
   ],
   "source": [
    "election.hc_clust.value_counts(sort=False)"
   ]
  },
  {
   "cell_type": "code",
   "execution_count": 115,
   "metadata": {},
   "outputs": [
    {
     "data": {
      "text/html": [
       "<div>\n",
       "<style scoped>\n",
       "    .dataframe tbody tr th:only-of-type {\n",
       "        vertical-align: middle;\n",
       "    }\n",
       "\n",
       "    .dataframe tbody tr th {\n",
       "        vertical-align: top;\n",
       "    }\n",
       "\n",
       "    .dataframe thead th {\n",
       "        text-align: right;\n",
       "    }\n",
       "</style>\n",
       "<table border=\"1\" class=\"dataframe\">\n",
       "  <thead>\n",
       "    <tr style=\"text-align: right;\">\n",
       "      <th>hc_clust</th>\n",
       "      <th>1</th>\n",
       "      <th>2</th>\n",
       "      <th>3</th>\n",
       "      <th>4</th>\n",
       "      <th>5</th>\n",
       "    </tr>\n",
       "  </thead>\n",
       "  <tbody>\n",
       "    <tr>\n",
       "      <th>Income</th>\n",
       "      <td>35601.333333</td>\n",
       "      <td>32555.461538</td>\n",
       "      <td>36746.12500</td>\n",
       "      <td>43921.416667</td>\n",
       "      <td>61092.0</td>\n",
       "    </tr>\n",
       "    <tr>\n",
       "      <th>HS</th>\n",
       "      <td>89.577778</td>\n",
       "      <td>81.584615</td>\n",
       "      <td>85.83125</td>\n",
       "      <td>88.350000</td>\n",
       "      <td>85.7</td>\n",
       "    </tr>\n",
       "    <tr>\n",
       "      <th>BA</th>\n",
       "      <td>26.288889</td>\n",
       "      <td>22.115385</td>\n",
       "      <td>25.89375</td>\n",
       "      <td>33.216667</td>\n",
       "      <td>47.5</td>\n",
       "    </tr>\n",
       "    <tr>\n",
       "      <th>Dem.Rep</th>\n",
       "      <td>-8.000000</td>\n",
       "      <td>6.230769</td>\n",
       "      <td>17.50000</td>\n",
       "      <td>22.000000</td>\n",
       "      <td>75.0</td>\n",
       "    </tr>\n",
       "    <tr>\n",
       "      <th>ObamaWin</th>\n",
       "      <td>0.000000</td>\n",
       "      <td>0.000000</td>\n",
       "      <td>1.00000</td>\n",
       "      <td>1.000000</td>\n",
       "      <td>1.0</td>\n",
       "    </tr>\n",
       "  </tbody>\n",
       "</table>\n",
       "</div>"
      ],
      "text/plain": [
       "hc_clust             1             2            3             4        5\n",
       "Income    35601.333333  32555.461538  36746.12500  43921.416667  61092.0\n",
       "HS           89.577778     81.584615     85.83125     88.350000     85.7\n",
       "BA           26.288889     22.115385     25.89375     33.216667     47.5\n",
       "Dem.Rep      -8.000000      6.230769     17.50000     22.000000     75.0\n",
       "ObamaWin      0.000000      0.000000      1.00000      1.000000      1.0"
      ]
     },
     "execution_count": 115,
     "metadata": {},
     "output_type": "execute_result"
    }
   ],
   "source": [
    "election.groupby(\"hc_clust\").mean().T"
   ]
  },
  {
   "cell_type": "code",
   "execution_count": null,
   "metadata": {},
   "outputs": [],
   "source": []
  },
  {
   "cell_type": "markdown",
   "metadata": {
    "colab_type": "text",
    "id": "Pv4pN-scjMK7"
   },
   "source": [
    "\n",
    "\n",
    "---\n",
    "\n"
   ]
  },
  {
   "cell_type": "markdown",
   "metadata": {
    "colab_type": "text",
    "id": "fFANvj18myOj"
   },
   "source": [
    "# Plotting and Other Linkage Methods for Hierarchical Clustering"
   ]
  },
  {
   "cell_type": "code",
   "execution_count": 71,
   "metadata": {
    "colab": {},
    "colab_type": "code",
    "id": "ZQ6B2zbiksmD"
   },
   "outputs": [
    {
     "data": {
      "text/html": [
       "<div>\n",
       "<style scoped>\n",
       "    .dataframe tbody tr th:only-of-type {\n",
       "        vertical-align: middle;\n",
       "    }\n",
       "\n",
       "    .dataframe tbody tr th {\n",
       "        vertical-align: top;\n",
       "    }\n",
       "\n",
       "    .dataframe thead th {\n",
       "        text-align: right;\n",
       "    }\n",
       "</style>\n",
       "<table border=\"1\" class=\"dataframe\">\n",
       "  <thead>\n",
       "    <tr style=\"text-align: right;\">\n",
       "      <th></th>\n",
       "      <th>Income</th>\n",
       "      <th>HS</th>\n",
       "      <th>BA</th>\n",
       "      <th>Dem.Rep</th>\n",
       "    </tr>\n",
       "    <tr>\n",
       "      <th>Abr</th>\n",
       "      <th></th>\n",
       "      <th></th>\n",
       "      <th></th>\n",
       "      <th></th>\n",
       "    </tr>\n",
       "  </thead>\n",
       "  <tbody>\n",
       "    <tr>\n",
       "      <th>AL</th>\n",
       "      <td>32404</td>\n",
       "      <td>80.4</td>\n",
       "      <td>21.4</td>\n",
       "      <td>-1</td>\n",
       "    </tr>\n",
       "    <tr>\n",
       "      <th>AK</th>\n",
       "      <td>40352</td>\n",
       "      <td>90.5</td>\n",
       "      <td>26.0</td>\n",
       "      <td>-11</td>\n",
       "    </tr>\n",
       "    <tr>\n",
       "      <th>AZ</th>\n",
       "      <td>33029</td>\n",
       "      <td>83.5</td>\n",
       "      <td>25.3</td>\n",
       "      <td>0</td>\n",
       "    </tr>\n",
       "    <tr>\n",
       "      <th>AR</th>\n",
       "      <td>30060</td>\n",
       "      <td>81.1</td>\n",
       "      <td>19.3</td>\n",
       "      <td>12</td>\n",
       "    </tr>\n",
       "    <tr>\n",
       "      <th>CA</th>\n",
       "      <td>41571</td>\n",
       "      <td>80.2</td>\n",
       "      <td>29.5</td>\n",
       "      <td>19</td>\n",
       "    </tr>\n",
       "  </tbody>\n",
       "</table>\n",
       "</div>"
      ],
      "text/plain": [
       "     Income    HS    BA  Dem.Rep\n",
       "Abr                             \n",
       "AL    32404  80.4  21.4       -1\n",
       "AK    40352  90.5  26.0      -11\n",
       "AZ    33029  83.5  25.3        0\n",
       "AR    30060  81.1  19.3       12\n",
       "CA    41571  80.2  29.5       19"
      ]
     },
     "execution_count": 71,
     "metadata": {},
     "output_type": "execute_result"
    }
   ],
   "source": [
    "# Seaborn also can visualize clusters -- it does a lot of above under the hood\n",
    "election = pd.read_csv(\"https://vincentarelbundock.github.io/Rdatasets/csv/Stat2Data/Election08.csv\", index_col=2)\n",
    "election2 = election.loc[:, \"Income\":\"Dem.Rep\"]\n",
    "election2.head()"
   ]
  },
  {
   "cell_type": "code",
   "execution_count": 72,
   "metadata": {
    "colab": {},
    "colab_type": "code",
    "id": "YNs-tI80l9et"
   },
   "outputs": [
    {
     "data": {
      "text/plain": [
       "<seaborn.matrix.ClusterGrid at 0x1a23b9b208>"
      ]
     },
     "execution_count": 72,
     "metadata": {},
     "output_type": "execute_result"
    },
    {
     "data": {
      "image/png": "[encoded data removed]",
      "text/plain": [
       "<Figure size 720x720 with 4 Axes>"
      ]
     },
     "metadata": {
      "needs_background": "light"
     },
     "output_type": "display_data"
    }
   ],
   "source": [
    "# seaborn will cluster rows/columns, = standardizing each column with a z_score (0 for rows, 1 for columns)\n",
    "sns.clustermap(election2, z_score=1, cmap=\"viridis\", metric=\"euclidean\", method=\"complete\")"
   ]
  },
  {
   "cell_type": "markdown",
   "metadata": {
    "colab_type": "text",
    "id": "FR2_Pr8hkSyT"
   },
   "source": [
    "There are other linkage methods that we can try.  These are determining how to group the rows based on similarity or dissimilarity."
   ]
  },
  {
   "cell_type": "code",
   "execution_count": 73,
   "metadata": {
    "colab": {},
    "colab_type": "code",
    "id": "Puc0cTHljL5X"
   },
   "outputs": [],
   "source": [
    "# for the election data, try 4 different methods\n",
    "link_single = linkage(election2, method=\"single\")\n",
    "link_complete = linkage(election2, method=\"average\")\n",
    "link_average = linkage(election2, method=\"average\")\n",
    "link_ward = linkage(election2, method=\"ward\")"
   ]
  },
  {
   "cell_type": "code",
   "execution_count": 74,
   "metadata": {
    "colab": {},
    "colab_type": "code",
    "id": "Q2pUii1PnjPz"
   },
   "outputs": [
    {
     "data": {
      "image/png": "[encoded data removed]",
      "text/plain": [
       "<Figure size 1440x720 with 4 Axes>"
      ]
     },
     "metadata": {
      "needs_background": "light"
     },
     "output_type": "display_data"
    }
   ],
   "source": [
    "# create a 2x2 plot -- starts at 1, not zero, for the third number\n",
    "# https://jakevdp.github.io/PythonDataScienceHandbook/04.08-multiple-subplots.html\n",
    "\n",
    "plt.figure(figsize=(20,10))\n",
    "\n",
    "plt.subplot(2, 2, 1)\n",
    "plt.title(\"Single Linkage\")\n",
    "dendrogram(link_single,\n",
    "           labels = election2.index,\n",
    "           leaf_rotation=90,\n",
    "           leaf_font_size=10)\n",
    "\n",
    "plt.subplot(2, 2, 2)\n",
    "plt.title(\"Complete Linkage\")\n",
    "dendrogram(link_complete,\n",
    "           labels = election2.index,\n",
    "           leaf_rotation=90,\n",
    "           leaf_font_size=10)\n",
    "\n",
    "plt.subplot(2, 2, 3)\n",
    "plt.title(\"Average Linkage\")\n",
    "dendrogram(link_average,\n",
    "           labels = election2.index,\n",
    "           leaf_rotation=90,\n",
    "           leaf_font_size=10)\n",
    "\n",
    "plt.subplot(2, 2, 4)\n",
    "plt.title(\"Ward Linkage\")\n",
    "dendrogram(link_ward,\n",
    "           labels = election2.index,\n",
    "           leaf_rotation=90,\n",
    "           leaf_font_size=10)\n",
    "\n",
    "plt.show()\n"
   ]
  },
  {
   "cell_type": "markdown",
   "metadata": {
    "colab_type": "text",
    "id": "zOHOhLOOnzp4"
   },
   "source": [
    "\n",
    "\n",
    "---\n",
    "\n"
   ]
  },
  {
   "cell_type": "markdown",
   "metadata": {
    "colab_type": "text",
    "id": "8NL2iUbwp28V"
   },
   "source": [
    "# Exercise 4:  Avacado Prices\n",
    "\n",
    "Your consulting firm has been asked by Hass avacado to generate a market segmentation strategy based on their weekly sales data by region.\n",
    "\n",
    "The dataset can be found below:\n",
    "\n",
    "`https://raw.githubusercontent.com/Btibert3/is834/master/datasets/avocado.csv`\n",
    "\n",
    "You will need to aggregate the data (ultimately one row per region) and cluster the markets.  You should use both clustering techniques above and profile the final cluster solution.\n",
    "\n",
    "Information on the dataset can be found on Kaggle below:\n",
    "\n",
    "https://www.kaggle.com/neuromusic/avocado-prices"
   ]
  },
  {
   "cell_type": "code",
   "execution_count": 0,
   "metadata": {
    "colab": {},
    "colab_type": "code",
    "id": "vXmPDo0o1QLY"
   },
   "outputs": [],
   "source": []
  }
 ],
 "metadata": {
  "colab": {
   "collapsed_sections": [],
   "name": "30 - Unsupervised Learning.ipynb",
   "private_outputs": true,
   "provenance": [],
   "version": "0.3.2"
  },
  "kernelspec": {
   "display_name": "Python 3",
   "language": "python",
   "name": "python3"
  },
  "language_info": {
   "codemirror_mode": {
    "name": "ipython",
    "version": 3
   },
   "file_extension": ".py",
   "mimetype": "text/x-python",
   "name": "python",
   "nbconvert_exporter": "python",
   "pygments_lexer": "ipython3",
   "version": "3.7.2"
  }
 },
 "nbformat": 4,
 "nbformat_minor": 1
}
