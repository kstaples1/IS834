{
 "cells": [
  {
   "cell_type": "markdown",
   "metadata": {
    "colab_type": "text",
    "id": "7lTtU5iiY6CH"
   },
   "source": [
    "# Plotting with Seaborn and Matplotlib\n",
    "\n",
    "This gives us more control and is more expressive beyond the basic matplolib plots from a pandas dataframe or series.\n",
    "\n",
    "Seaborn is built on top of matplotlib, but makes it more approachable for more complex visualizations"
   ]
  },
  {
   "cell_type": "code",
   "execution_count": 0,
   "metadata": {
    "colab": {},
    "colab_type": "code",
    "id": "avYz9tu3JluG"
   },
   "outputs": [],
   "source": [
    "## update the latest seaborn (0.9.0)\n",
    "!pip install seaborn==0.9.0\n"
   ]
  },
  {
   "cell_type": "code",
   "execution_count": 4,
   "metadata": {
    "colab": {},
    "colab_type": "code",
    "id": "u2NphvDnZRrV"
   },
   "outputs": [],
   "source": [
    "## setup our environment\n",
    "import pandas as pd\n",
    "import numpy as np\n",
    "import matplotlib.pyplot as plt\n",
    "import seaborn as sns\n",
    "%matplotlib inline\n",
    "## pandas print columns/rows option (100)\n",
    "pd.set_option('display.max_columns', 100)\n",
    "pd.set_option('display.max_rows', 100)\n",
    "\n",
    "## set the styling for seaborn (white)\n",
    "sns.set_style(\"dark\")"
   ]
  },
  {
   "cell_type": "markdown",
   "metadata": {
    "colab_type": "text",
    "id": "N1cZMmawZNo5"
   },
   "source": [
    "# The Basics\n",
    "\n",
    "There is an excellent overview at Datacamp, at the link below:\n",
    "\n",
    "https://www.datacamp.com/community/tutorials/seaborn-python-tutorial\n",
    "\n",
    "This will be a brief run through of that in plain english.\n",
    "\n",
    "### **I have also added a Seaborn course on Data Camp for additional practice and study.**"
   ]
  },
  {
   "cell_type": "code",
   "execution_count": 2,
   "metadata": {
    "colab": {},
    "colab_type": "code",
    "id": "QeoC6npDZSSf"
   },
   "outputs": [
    {
     "data": {
      "text/html": [
       "<div>\n",
       "<style scoped>\n",
       "    .dataframe tbody tr th:only-of-type {\n",
       "        vertical-align: middle;\n",
       "    }\n",
       "\n",
       "    .dataframe tbody tr th {\n",
       "        vertical-align: top;\n",
       "    }\n",
       "\n",
       "    .dataframe thead th {\n",
       "        text-align: right;\n",
       "    }\n",
       "</style>\n",
       "<table border=\"1\" class=\"dataframe\">\n",
       "  <thead>\n",
       "    <tr style=\"text-align: right;\">\n",
       "      <th></th>\n",
       "      <th>Unnamed: 0</th>\n",
       "      <th>carat</th>\n",
       "      <th>cut</th>\n",
       "      <th>color</th>\n",
       "      <th>clarity</th>\n",
       "      <th>depth</th>\n",
       "      <th>table</th>\n",
       "      <th>price</th>\n",
       "      <th>x</th>\n",
       "      <th>y</th>\n",
       "      <th>z</th>\n",
       "    </tr>\n",
       "  </thead>\n",
       "  <tbody>\n",
       "    <tr>\n",
       "      <th>0</th>\n",
       "      <td>1</td>\n",
       "      <td>0.23</td>\n",
       "      <td>Ideal</td>\n",
       "      <td>E</td>\n",
       "      <td>SI2</td>\n",
       "      <td>61.5</td>\n",
       "      <td>55.0</td>\n",
       "      <td>326</td>\n",
       "      <td>3.95</td>\n",
       "      <td>3.98</td>\n",
       "      <td>2.43</td>\n",
       "    </tr>\n",
       "    <tr>\n",
       "      <th>1</th>\n",
       "      <td>2</td>\n",
       "      <td>0.21</td>\n",
       "      <td>Premium</td>\n",
       "      <td>E</td>\n",
       "      <td>SI1</td>\n",
       "      <td>59.8</td>\n",
       "      <td>61.0</td>\n",
       "      <td>326</td>\n",
       "      <td>3.89</td>\n",
       "      <td>3.84</td>\n",
       "      <td>2.31</td>\n",
       "    </tr>\n",
       "  </tbody>\n",
       "</table>\n",
       "</div>"
      ],
      "text/plain": [
       "   Unnamed: 0  carat      cut color clarity  depth  table  price     x     y  \\\n",
       "0           1   0.23    Ideal     E     SI2   61.5   55.0    326  3.95  3.98   \n",
       "1           2   0.21  Premium     E     SI1   59.8   61.0    326  3.89  3.84   \n",
       "\n",
       "      z  \n",
       "0  2.43  \n",
       "1  2.31  "
      ]
     },
     "execution_count": 2,
     "metadata": {},
     "output_type": "execute_result"
    }
   ],
   "source": [
    "# bring in the diamonds dataset\n",
    "diamonds = pd.read_csv(\"https://vincentarelbundock.github.io/Rdatasets/csv/ggplot2/diamonds.csv\")\n",
    "diamonds.head(2)"
   ]
  },
  {
   "cell_type": "code",
   "execution_count": 5,
   "metadata": {
    "colab": {},
    "colab_type": "code",
    "id": "kU3fGpI94VsJ"
   },
   "outputs": [
    {
     "data": {
      "text/plain": [
       "<matplotlib.axes._subplots.AxesSubplot at 0x1a220ae518>"
      ]
     },
     "execution_count": 5,
     "metadata": {},
     "output_type": "execute_result"
    },
    {
     "data": {
      "image/png": "[encoded data removed]",
      "text/plain": [
       "<Figure size 432x288 with 1 Axes>"
      ]
     },
     "metadata": {},
     "output_type": "display_data"
    }
   ],
   "source": [
    "# we can use the basic plots from pandas for quick eda\n",
    "diamonds['price'].plot(kind=\"hist\")"
   ]
  },
  {
   "cell_type": "code",
   "execution_count": 0,
   "metadata": {
    "colab": {},
    "colab_type": "code",
    "id": "mVQ5jxzx4VvS"
   },
   "outputs": [],
   "source": [
    "# Seaborn extends our EDA with stastical plot\n",
    "# its a few more lines, but significant customization\n",
    "sns.distplot(diamonds['price'])"
   ]
  },
  {
   "cell_type": "code",
   "execution_count": 0,
   "metadata": {
    "colab": {},
    "colab_type": "code",
    "id": "FxNwdTQE4Vxa"
   },
   "outputs": [],
   "source": [
    "# we can customize it -- somereason this is getting jammed up\n",
    "sns.distplot(diamonds['price'], kde=False, rug=True)"
   ]
  },
  {
   "cell_type": "code",
   "execution_count": 0,
   "metadata": {
    "colab": {},
    "colab_type": "code",
    "id": "RN7TTV5QXDi8"
   },
   "outputs": [],
   "source": [
    "# lets do a regression plot, price by carat, model by cut\n",
    "sns.lmplot(x=\"carat\", y=\"price\", data=diamonds, hue=\"cut\")"
   ]
  },
  {
   "cell_type": "code",
   "execution_count": 0,
   "metadata": {
    "colab": {},
    "colab_type": "code",
    "id": "pIjQTuFBXhhZ"
   },
   "outputs": [],
   "source": [
    "# we can tweak the style\n",
    "sns.set_style(\"white\")\n",
    "sns.lmplot(x=\"carat\", y=\"price\", data=diamonds, hue=\"cut\")"
   ]
  },
  {
   "cell_type": "markdown",
   "metadata": {
    "colab_type": "text",
    "id": "eJpqRFHBZV0m"
   },
   "source": [
    "We can change the color palette\n",
    "\n",
    "https://www.datanovia.com/en/blog/the-a-z-of-rcolorbrewer-palette/\n",
    "\n",
    "![](https://www.datanovia.com/en/wp-content/uploads/dn-tutorials/ggplot2/figures/0101-rcolorbrewer-palette-rcolorbrewer-palettes-1.png)"
   ]
  },
  {
   "cell_type": "markdown",
   "metadata": {
    "colab_type": "text",
    "id": "VsDXS97BfU4U"
   },
   "source": [
    "And for specific colors:\n",
    "\n"
   ]
  },
  {
   "cell_type": "markdown",
   "metadata": {
    "colab_type": "text",
    "id": "VTd_rNDJfXIA"
   },
   "source": [
    "![](https://python-graph-gallery.com/wp-content/uploads/100_Color_names_python-768x480.png)"
   ]
  },
  {
   "cell_type": "code",
   "execution_count": 0,
   "metadata": {
    "colab": {},
    "colab_type": "code",
    "id": "9P8SHDLpZxx2"
   },
   "outputs": [],
   "source": [
    "sns.lmplot(x=\"carat\", y=\"price\", data=diamonds, hue=\"cut\", palette=\"Dark2\")"
   ]
  },
  {
   "cell_type": "code",
   "execution_count": 0,
   "metadata": {
    "colab": {},
    "colab_type": "code",
    "id": "XfsMPGyDZ8kp"
   },
   "outputs": [],
   "source": [
    "# even change the plot opacity (alpha) by leveraging the various keywords (kws) arguments, and passing a dictionary\n",
    "sns.lmplot(x=\"carat\", y=\"price\", data=diamonds, hue=\"cut\", palette=\"Dark2\", scatter_kws={'alpha':.1})"
   ]
  },
  {
   "cell_type": "code",
   "execution_count": 0,
   "metadata": {
    "colab": {},
    "colab_type": "code",
    "id": "yT4xVepHaY7P"
   },
   "outputs": [],
   "source": [
    "# There are other plots too -- boxplot\n",
    "sns.boxplot(x=\"price\", data=diamonds)"
   ]
  },
  {
   "cell_type": "code",
   "execution_count": 0,
   "metadata": {
    "colab": {},
    "colab_type": "code",
    "id": "fw2ff0FEbJVh"
   },
   "outputs": [],
   "source": [
    "# we can flip it, just use y\n",
    "sns.boxplot(y=\"price\", data=diamonds)"
   ]
  },
  {
   "cell_type": "code",
   "execution_count": 0,
   "metadata": {
    "colab": {},
    "colab_type": "code",
    "id": "Co7kuWDCbNdA"
   },
   "outputs": [],
   "source": [
    "# there are title elements\n",
    "sns.boxplot(y=\"price\", data=diamonds).set_title(\"My Title\")"
   ]
  },
  {
   "cell_type": "code",
   "execution_count": 0,
   "metadata": {
    "colab": {},
    "colab_type": "code",
    "id": "69fglsCvbw56"
   },
   "outputs": [],
   "source": [
    "# but we have alot more control if we store the plot and leverage the options from matplotlib\n",
    "fig = sns.boxplot(y=\"price\", data=diamonds)\n",
    "fig.set_title(\"My Title\")\n",
    "plt.show(fig)  ## we are saving the object and then using matplotlib to show the plot"
   ]
  },
  {
   "cell_type": "code",
   "execution_count": 0,
   "metadata": {
    "colab": {},
    "colab_type": "code",
    "id": "VnzZspitcRGO"
   },
   "outputs": [],
   "source": [
    "# remember that dataframes have methods, lets look at correlation\n",
    "diamonds.corr()\n"
   ]
  },
  {
   "cell_type": "code",
   "execution_count": 0,
   "metadata": {
    "colab": {},
    "colab_type": "code",
    "id": "7MmvPwQUdNro"
   },
   "outputs": [],
   "source": [
    "# we can use that for the heatmap\n",
    "sns.heatmap(diamonds.corr(), cmap=\"RdGy\")"
   ]
  },
  {
   "cell_type": "code",
   "execution_count": 0,
   "metadata": {
    "colab": {},
    "colab_type": "code",
    "id": "nRJU-9IRdO06"
   },
   "outputs": [],
   "source": [
    "# we can even build a frequency table with pandas's crosstab\n",
    "cut_clarity = pd.crosstab(diamonds[\"cut\"], diamonds[\"clarity\"])\n",
    "cut_clarity"
   ]
  },
  {
   "cell_type": "code",
   "execution_count": 0,
   "metadata": {
    "colab": {},
    "colab_type": "code",
    "id": "zMMmY65VfwUH"
   },
   "outputs": [],
   "source": [
    "fig = sns.heatmap(cut_clarity, cmap=\"Blues\")\n",
    "fig.set_title(\"My Title\")\n",
    "fig.set(xlabel = \"Diamond Clarity\")\n",
    "fig.set(ylabel = \"Diamond Cut\")\n",
    "plt.show(fig)"
   ]
  },
  {
   "cell_type": "markdown",
   "metadata": {
    "colab_type": "text",
    "id": "OQcADCWOfw-V"
   },
   "source": [
    "# Additional Resources (Reminder)\n",
    "\n",
    "- Datacamp Course\n",
    "- https://www.datacamp.com/community/tutorials/seaborn-python-tutorial\n",
    "- cheatsheets on the Course site, a few seaborn related\n"
   ]
  },
  {
   "cell_type": "code",
   "execution_count": 0,
   "metadata": {
    "colab": {},
    "colab_type": "code",
    "id": "gwphyrgGPlKs"
   },
   "outputs": [],
   "source": []
  }
 ],
 "metadata": {
  "colab": {
   "collapsed_sections": [],
   "name": "22-Plotting with Seaborn.ipynb",
   "private_outputs": true,
   "provenance": [],
   "version": "0.3.2"
  },
  "kernelspec": {
   "display_name": "Python 3",
   "language": "python",
   "name": "python3"
  },
  "language_info": {
   "codemirror_mode": {
    "name": "ipython",
    "version": 3
   },
   "file_extension": ".py",
   "mimetype": "text/x-python",
   "name": "python",
   "nbconvert_exporter": "python",
   "pygments_lexer": "ipython3",
   "version": "3.7.2"
  }
 },
 "nbformat": 4,
 "nbformat_minor": 1
}
