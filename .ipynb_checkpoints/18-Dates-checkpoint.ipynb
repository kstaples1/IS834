{
 "cells": [
  {
   "cell_type": "markdown",
   "metadata": {
    "colab_type": "text",
    "id": "ryro2FQbSfrJ"
   },
   "source": [
    "# Working With Dates\n",
    "\n",
    "\n",
    "\n",
    "\n",
    "\n"
   ]
  },
  {
   "cell_type": "markdown",
   "metadata": {
    "colab_type": "text",
    "id": "tAVyx3AVWPuD"
   },
   "source": [
    "\n",
    "\n",
    "---\n",
    "\n"
   ]
  },
  {
   "cell_type": "markdown",
   "metadata": {
    "colab_type": "text",
    "id": "C-TSXQtkWRBF"
   },
   "source": [
    "# Setup"
   ]
  },
  {
   "cell_type": "code",
   "execution_count": 2,
   "metadata": {
    "colab": {},
    "colab_type": "code",
    "id": "ADcPbOClWOxY"
   },
   "outputs": [],
   "source": [
    "## imports\n",
    "import numpy as np\n",
    "import pandas as pd\n",
    "import matplotlib.pyplot as plt\n",
    "import seaborn as sns"
   ]
  },
  {
   "cell_type": "markdown",
   "metadata": {
    "colab_type": "text",
    "id": "JhTk8fw1T5RA"
   },
   "source": [
    "# Facebook Yahoo Stock Data\n",
    "\n",
    "\n",
    "### Import the data FB.csv\n",
    "\n",
    "Upload the file from Q-Tools `FB.csv` to your server/computer.  \n",
    "\n",
    "> It is usually in the `Downloads` folder\n",
    "\n",
    "> For those using `Colab`, you upload this file, which can be found on the left hand nav\n"
   ]
  },
  {
   "cell_type": "code",
   "execution_count": 3,
   "metadata": {
    "colab": {},
    "colab_type": "code",
    "id": "vsnP11VAWdyD"
   },
   "outputs": [],
   "source": [
    "## import the file\n",
    "fb = pd.read_csv(\"/Users/Kyle_Staples/Documents/GitHub/IS834/datasets/FB.csv\")"
   ]
  },
  {
   "cell_type": "code",
   "execution_count": 4,
   "metadata": {
    "colab": {},
    "colab_type": "code",
    "id": "OeAjDaXwYoa7"
   },
   "outputs": [
    {
     "data": {
      "text/html": [
       "<div>\n",
       "<style scoped>\n",
       "    .dataframe tbody tr th:only-of-type {\n",
       "        vertical-align: middle;\n",
       "    }\n",
       "\n",
       "    .dataframe tbody tr th {\n",
       "        vertical-align: top;\n",
       "    }\n",
       "\n",
       "    .dataframe thead th {\n",
       "        text-align: right;\n",
       "    }\n",
       "</style>\n",
       "<table border=\"1\" class=\"dataframe\">\n",
       "  <thead>\n",
       "    <tr style=\"text-align: right;\">\n",
       "      <th></th>\n",
       "      <th>Date</th>\n",
       "      <th>Open</th>\n",
       "      <th>High</th>\n",
       "      <th>Low</th>\n",
       "      <th>Close</th>\n",
       "      <th>Adj Close</th>\n",
       "      <th>Volume</th>\n",
       "    </tr>\n",
       "  </thead>\n",
       "  <tbody>\n",
       "    <tr>\n",
       "      <th>0</th>\n",
       "      <td>2014-03-20</td>\n",
       "      <td>68.010002</td>\n",
       "      <td>68.230003</td>\n",
       "      <td>66.820000</td>\n",
       "      <td>66.970001</td>\n",
       "      <td>66.970001</td>\n",
       "      <td>44439000</td>\n",
       "    </tr>\n",
       "    <tr>\n",
       "      <th>1</th>\n",
       "      <td>2014-03-21</td>\n",
       "      <td>67.529999</td>\n",
       "      <td>67.919998</td>\n",
       "      <td>66.180000</td>\n",
       "      <td>67.239998</td>\n",
       "      <td>67.239998</td>\n",
       "      <td>59999900</td>\n",
       "    </tr>\n",
       "    <tr>\n",
       "      <th>2</th>\n",
       "      <td>2014-03-24</td>\n",
       "      <td>67.190002</td>\n",
       "      <td>67.360001</td>\n",
       "      <td>63.360001</td>\n",
       "      <td>64.099998</td>\n",
       "      <td>64.099998</td>\n",
       "      <td>85696000</td>\n",
       "    </tr>\n",
       "    <tr>\n",
       "      <th>3</th>\n",
       "      <td>2014-03-25</td>\n",
       "      <td>64.889999</td>\n",
       "      <td>66.190002</td>\n",
       "      <td>63.779999</td>\n",
       "      <td>64.889999</td>\n",
       "      <td>64.889999</td>\n",
       "      <td>68786000</td>\n",
       "    </tr>\n",
       "    <tr>\n",
       "      <th>4</th>\n",
       "      <td>2014-03-26</td>\n",
       "      <td>64.739998</td>\n",
       "      <td>64.949997</td>\n",
       "      <td>60.369999</td>\n",
       "      <td>60.389999</td>\n",
       "      <td>60.389999</td>\n",
       "      <td>97503900</td>\n",
       "    </tr>\n",
       "  </tbody>\n",
       "</table>\n",
       "</div>"
      ],
      "text/plain": [
       "         Date       Open       High        Low      Close  Adj Close    Volume\n",
       "0  2014-03-20  68.010002  68.230003  66.820000  66.970001  66.970001  44439000\n",
       "1  2014-03-21  67.529999  67.919998  66.180000  67.239998  67.239998  59999900\n",
       "2  2014-03-24  67.190002  67.360001  63.360001  64.099998  64.099998  85696000\n",
       "3  2014-03-25  64.889999  66.190002  63.779999  64.889999  64.889999  68786000\n",
       "4  2014-03-26  64.739998  64.949997  60.369999  60.389999  60.389999  97503900"
      ]
     },
     "execution_count": 4,
     "metadata": {},
     "output_type": "execute_result"
    }
   ],
   "source": [
    "fb.head()"
   ]
  },
  {
   "cell_type": "code",
   "execution_count": 5,
   "metadata": {
    "colab": {},
    "colab_type": "code",
    "id": "gosMETVcX9kx"
   },
   "outputs": [
    {
     "name": "stdout",
     "output_type": "stream",
     "text": [
      "<class 'pandas.core.frame.DataFrame'>\n",
      "RangeIndex: 1258 entries, 0 to 1257\n",
      "Data columns (total 7 columns):\n",
      "Date         1258 non-null object\n",
      "Open         1258 non-null float64\n",
      "High         1258 non-null float64\n",
      "Low          1258 non-null float64\n",
      "Close        1258 non-null float64\n",
      "Adj Close    1258 non-null float64\n",
      "Volume       1258 non-null int64\n",
      "dtypes: float64(5), int64(1), object(1)\n",
      "memory usage: 68.9+ KB\n"
     ]
    }
   ],
   "source": [
    "## peak\n",
    "fb.info()"
   ]
  },
  {
   "cell_type": "markdown",
   "metadata": {
    "colab_type": "text",
    "id": "XFcMG1KgbeET"
   },
   "source": [
    "> Note that Date is a type called `object` .  We haven't talked about that yet, but its basically a string.  Let's summarize the data, and proove that Date is held out of the analysis."
   ]
  },
  {
   "cell_type": "code",
   "execution_count": 0,
   "metadata": {
    "colab": {},
    "colab_type": "code",
    "id": "KBjQqhDlYcfC"
   },
   "outputs": [],
   "source": [
    "fb.describe()"
   ]
  },
  {
   "cell_type": "markdown",
   "metadata": {
    "colab_type": "text",
    "id": "P_sPFE9bYgNI"
   },
   "source": [
    "#### We could parse the file into columns"
   ]
  },
  {
   "cell_type": "code",
   "execution_count": 0,
   "metadata": {
    "colab": {},
    "colab_type": "code",
    "id": "Hy8AHtS-WL1j"
   },
   "outputs": [],
   "source": [
    "## parse into month/day/year columns\n",
    "fb.head(2)"
   ]
  },
  {
   "cell_type": "code",
   "execution_count": 0,
   "metadata": {
    "colab": {},
    "colab_type": "code",
    "id": "osJw_W1ccFdJ"
   },
   "outputs": [],
   "source": [
    "## year\n",
    "fb['year'] = fb['Date'].str.slice(0,4)\n",
    "fb.head()\n"
   ]
  },
  {
   "cell_type": "code",
   "execution_count": 0,
   "metadata": {
    "colab": {},
    "colab_type": "code",
    "id": "WYusaS0Rfpsp"
   },
   "outputs": [],
   "source": [
    "## month\n",
    "fb['month'] = fb['Date'].str.slice(5,7)\n",
    "fb.head()"
   ]
  },
  {
   "cell_type": "code",
   "execution_count": 0,
   "metadata": {
    "colab": {},
    "colab_type": "code",
    "id": "bgh8fqVOfss_"
   },
   "outputs": [],
   "source": [
    "## day -- note the     n:   syntax\n",
    "fb['day'] = fb['Date'].str.slice(8)\n",
    "fb.head()"
   ]
  },
  {
   "cell_type": "markdown",
   "metadata": {
    "colab_type": "text",
    "id": "MP_YocqudeHO"
   },
   "source": [
    "## Why do this?\n",
    "\n",
    "Now we can use these fields for summaries, or, to add a level of detail to the record that we ultimately want to summarize, like sales/month, or average sales by day, but it requires some work to summarize data on a date/time level.\n",
    "\n",
    "We will come back to this as if we have the datetime, we can actually do this more explicitly, but a good exercise of parsing strings too."
   ]
  },
  {
   "cell_type": "markdown",
   "metadata": {
    "colab_type": "text",
    "id": "slBQknHumEqW"
   },
   "source": [
    "# Parse Dates using Pandas"
   ]
  },
  {
   "cell_type": "code",
   "execution_count": 0,
   "metadata": {
    "colab": {},
    "colab_type": "code",
    "id": "JcWrThHzmpn8"
   },
   "outputs": [],
   "source": [
    "# create a new column with date parsed\n",
    "fb['date2'] = pd.to_datetime(fb['Date'])"
   ]
  },
  {
   "cell_type": "code",
   "execution_count": 0,
   "metadata": {
    "colab": {},
    "colab_type": "code",
    "id": "daBtoCsAnuVe"
   },
   "outputs": [],
   "source": [
    "fb.head()"
   ]
  },
  {
   "cell_type": "code",
   "execution_count": 0,
   "metadata": {
    "colab": {},
    "colab_type": "code",
    "id": "s7GXD2FIn7Qi"
   },
   "outputs": [],
   "source": [
    "fb.dtypes"
   ]
  },
  {
   "cell_type": "markdown",
   "metadata": {
    "colab_type": "text",
    "id": "qoOOdHl7n96K"
   },
   "source": [
    "# Parse the date upon reading the file"
   ]
  },
  {
   "cell_type": "code",
   "execution_count": 0,
   "metadata": {
    "colab": {},
    "colab_type": "code",
    "id": "Xsz9EwmkoPwb"
   },
   "outputs": [],
   "source": [
    "# read in the same Facebook file\n",
    "fb2 = pd.read_csv(\"FB.csv\", parse_dates=['Date'])"
   ]
  },
  {
   "cell_type": "code",
   "execution_count": 0,
   "metadata": {
    "colab": {},
    "colab_type": "code",
    "id": "Q4qIZTyEoin3"
   },
   "outputs": [],
   "source": [
    "fb2.dtypes"
   ]
  },
  {
   "cell_type": "markdown",
   "metadata": {
    "colab_type": "text",
    "id": "j5WaVSR9ok4Y"
   },
   "source": [
    "> Look at the help, there is a lot we can do with dates, but this is the core of it and will get you a long way most of the time.\n",
    "\n",
    "> https://pandas.pydata.org/pandas-docs/stable/reference/api/pandas.read_csv.html"
   ]
  },
  {
   "cell_type": "markdown",
   "metadata": {
    "colab_type": "text",
    "id": "hRpLoVUUpRzS"
   },
   "source": [
    "# Build a Date Range with `date_range`"
   ]
  },
  {
   "cell_type": "code",
   "execution_count": 0,
   "metadata": {
    "colab": {},
    "colab_type": "code",
    "id": "FeHgs8T4pQ8x"
   },
   "outputs": [],
   "source": [
    "N = 100\n",
    "df = pd.DataFrame({'Date': pd.date_range(start=\"2019-01-01\", periods=N, freq=\"D\"),\n",
    "                   'Value': np.random.randint(-10, 10, size=N)})"
   ]
  },
  {
   "cell_type": "code",
   "execution_count": 0,
   "metadata": {
    "colab": {},
    "colab_type": "code",
    "id": "Wssc1TfTqKXg"
   },
   "outputs": [],
   "source": [
    "df.head()"
   ]
  },
  {
   "cell_type": "markdown",
   "metadata": {
    "colab_type": "text",
    "id": "L6wOMNtTqLdq"
   },
   "source": [
    "# Worth Noting - define the format for a date/time in String form\n",
    "\n",
    "We can also specify the format of the string \n",
    "\n",
    "http://strftime.org/\n",
    "\n",
    "> Above is also in the cheatsheets folder for the course site"
   ]
  },
  {
   "cell_type": "code",
   "execution_count": 0,
   "metadata": {
    "colab": {},
    "colab_type": "code",
    "id": "fzDQIzi0uIfD"
   },
   "outputs": [],
   "source": [
    "# bring in Facebook again, but explicitly define the format\n",
    "fb3 = pd.read_csv(\"FB.csv\")"
   ]
  },
  {
   "cell_type": "code",
   "execution_count": 0,
   "metadata": {
    "colab": {},
    "colab_type": "code",
    "id": "Ju0dahe0veyX"
   },
   "outputs": [],
   "source": [
    "fb3.dtypes"
   ]
  },
  {
   "cell_type": "code",
   "execution_count": 0,
   "metadata": {
    "colab": {},
    "colab_type": "code",
    "id": "MetB_Utsve6T"
   },
   "outputs": [],
   "source": [
    "fb3.head(1)"
   ]
  },
  {
   "cell_type": "code",
   "execution_count": 0,
   "metadata": {
    "colab": {},
    "colab_type": "code",
    "id": "cZOUUJr2vinb"
   },
   "outputs": [],
   "source": [
    "# parse the date with explicit format\n",
    "fb3['date'] = pd.to_datetime(fb3['Date'], format=\"%Y-%m-%d\")"
   ]
  },
  {
   "cell_type": "code",
   "execution_count": 0,
   "metadata": {
    "colab": {},
    "colab_type": "code",
    "id": "4kx7LOvOvxLS"
   },
   "outputs": [],
   "source": [
    "fb3.head()"
   ]
  },
  {
   "cell_type": "markdown",
   "metadata": {
    "colab_type": "text",
    "id": "uPH8yd4q2sVt"
   },
   "source": [
    "\n",
    "\n",
    "---\n",
    "\n"
   ]
  },
  {
   "cell_type": "code",
   "execution_count": 0,
   "metadata": {
    "colab": {},
    "colab_type": "code",
    "id": "nSRHHF8sxMBL"
   },
   "outputs": [],
   "source": [
    "# we can do this with other date formats\n",
    "tmp_data = {'a':['01/01/2019'], 'b':['Tuesday Jan 1, 19'], 'c':['2019-03-20 18:30:25']}\n",
    "more_parsing = pd.DataFrame(tmp_data)\n",
    "more_parsing"
   ]
  },
  {
   "cell_type": "code",
   "execution_count": 0,
   "metadata": {
    "colab": {},
    "colab_type": "code",
    "id": "rseFY2GzxMVY"
   },
   "outputs": [],
   "source": [
    "# different ways to parse\n",
    "more_parsing[\"dmy\"] = pd.to_datetime(more_parsing['a'], format=\"%d/%m/%Y\")\n",
    "more_parsing"
   ]
  },
  {
   "cell_type": "code",
   "execution_count": 0,
   "metadata": {
    "colab": {},
    "colab_type": "code",
    "id": "l_ng3abbxMZ-"
   },
   "outputs": [],
   "source": [
    "# mdy\n",
    "more_parsing[\"mdy\"] = pd.to_datetime(more_parsing['a'], format=\"%m/%d/%Y\")\n",
    "more_parsing"
   ]
  },
  {
   "cell_type": "code",
   "execution_count": 0,
   "metadata": {
    "colab": {},
    "colab_type": "code",
    "id": "ps-oj9hqxMdp"
   },
   "outputs": [],
   "source": [
    "\n",
    "# more detailed parsing\n",
    "more_parsing['parsed'] = pd.to_datetime(more_parsing['b'], format=\"%A %b %d, %y\")\n",
    "more_parsing"
   ]
  },
  {
   "cell_type": "code",
   "execution_count": 0,
   "metadata": {
    "colab": {},
    "colab_type": "code",
    "id": "k4wXuCV-xMgg"
   },
   "outputs": [],
   "source": [
    "# finally, its not just dates, but dates and times\n",
    "more_parsing['datetime'] = pd.to_datetime(more_parsing['c'], format=\"%Y-%m-%d %H:%M:%S\")\n",
    "more_parsing"
   ]
  },
  {
   "cell_type": "code",
   "execution_count": 0,
   "metadata": {
    "colab": {},
    "colab_type": "code",
    "id": "BibKPhwF08JR"
   },
   "outputs": [],
   "source": [
    "more_parsing.dtypes"
   ]
  },
  {
   "cell_type": "markdown",
   "metadata": {
    "colab_type": "text",
    "id": "bExxl_CPt1PV"
   },
   "source": [
    "# Extract Components of the Date/time"
   ]
  },
  {
   "cell_type": "code",
   "execution_count": 0,
   "metadata": {
    "colab": {},
    "colab_type": "code",
    "id": "JaKCT8Sard0N"
   },
   "outputs": [],
   "source": [
    "# use the df dataframe\n",
    "df.head()"
   ]
  },
  {
   "cell_type": "code",
   "execution_count": 0,
   "metadata": {
    "colab": {},
    "colab_type": "code",
    "id": "1wrJPrYFtecr"
   },
   "outputs": [],
   "source": [
    "# extract out the day value\n",
    "df['day'] = df['Date'].dt.day\n",
    "df.head()"
   ]
  },
  {
   "cell_type": "code",
   "execution_count": 0,
   "metadata": {
    "colab": {},
    "colab_type": "code",
    "id": "FjDyqAjltkS9"
   },
   "outputs": [],
   "source": [
    "# extact out the month and year\n",
    "df['month'] = df['Date'].dt.month\n",
    "df['year'] = df['Date'].dt.year\n",
    "df.tail()"
   ]
  },
  {
   "cell_type": "code",
   "execution_count": 0,
   "metadata": {
    "colab": {},
    "colab_type": "code",
    "id": "kF2DbI1Bz-Nj"
   },
   "outputs": [],
   "source": [
    "# even parse out times -- use more_parsing from above\n",
    "more_parsing['hour'] = more_parsing['datetime'].dt.hour\n",
    "more_parsing\n",
    "                             "
   ]
  },
  {
   "cell_type": "code",
   "execution_count": 0,
   "metadata": {
    "colab": {},
    "colab_type": "code",
    "id": "CEp_6jFx1QHD"
   },
   "outputs": [],
   "source": [
    "# to round on the parsing\n",
    "more_parsing['minute'] = more_parsing['datetime'].dt.minute\n",
    "more_parsing['second'] = more_parsing['datetime'].dt.second\n",
    "more_parsing\n",
    "                 "
   ]
  },
  {
   "cell_type": "code",
   "execution_count": 0,
   "metadata": {
    "colab": {},
    "colab_type": "code",
    "id": "vtda25dT2ojp"
   },
   "outputs": [],
   "source": []
  }
 ],
 "metadata": {
  "colab": {
   "collapsed_sections": [],
   "name": "18-Dates.ipynb",
   "private_outputs": true,
   "provenance": [],
   "version": "0.3.2"
  },
  "kernelspec": {
   "display_name": "Python 3",
   "language": "python",
   "name": "python3"
  },
  "language_info": {
   "codemirror_mode": {
    "name": "ipython",
    "version": 3
   },
   "file_extension": ".py",
   "mimetype": "text/x-python",
   "name": "python",
   "nbconvert_exporter": "python",
   "pygments_lexer": "ipython3",
   "version": "3.7.2"
  }
 },
 "nbformat": 4,
 "nbformat_minor": 1
}
