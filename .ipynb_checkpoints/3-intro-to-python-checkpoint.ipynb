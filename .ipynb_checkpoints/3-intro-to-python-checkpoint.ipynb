{
 "cells": [
  {
   "cell_type": "markdown",
   "metadata": {
    "colab_type": "text",
    "id": "z3mxmQqfMu5_"
   },
   "source": [
    "# Overview\n",
    "\n",
    "Now we will start to dive into coding in Python for business analytics\n",
    "\n",
    "\n",
    "\n"
   ]
  },
  {
   "cell_type": "markdown",
   "metadata": {
    "colab_type": "text",
    "id": "g7iYuEzGCOAO"
   },
   "source": [
    "![breakthings](https://cdn-images-1.medium.com/max/1200/1*5nE6uSaNQRLD5xgouhop3Q.jpeg)"
   ]
  },
  {
   "cell_type": "markdown",
   "metadata": {
    "colab_type": "text",
    "id": "sgCCEee2NGxA"
   },
   "source": [
    "## Quick Discussion\n",
    "\n",
    "`Programming in Python`\n",
    "\n",
    "vs\n",
    "\n",
    "`Analyzing data in Python`"
   ]
  },
  {
   "cell_type": "markdown",
   "metadata": {
    "colab_type": "text",
    "id": "E-aVxi5u40Xz"
   },
   "source": [
    "# Hello World"
   ]
  },
  {
   "cell_type": "code",
   "execution_count": 2,
   "metadata": {
    "colab": {},
    "colab_type": "code",
    "id": "slT0sRvL411X"
   },
   "outputs": [
    {
     "name": "stdout",
     "output_type": "stream",
     "text": [
      "Hello World\n"
     ]
    }
   ],
   "source": [
    "print(\"Hello World\")"
   ]
  },
  {
   "cell_type": "markdown",
   "metadata": {
    "colab_type": "text",
    "id": "7JUMbNv49IfD"
   },
   "source": [
    "## Adding comments to help your future self"
   ]
  },
  {
   "cell_type": "code",
   "execution_count": 4,
   "metadata": {
    "colab": {},
    "colab_type": "code",
    "id": "GWoJ6GXG9HqY"
   },
   "outputs": [],
   "source": []
  },
  {
   "cell_type": "markdown",
   "metadata": {
    "colab_type": "text",
    "id": "AHmSfCwFNPrx"
   },
   "source": [
    "# Python as a (robust) calculator"
   ]
  },
  {
   "cell_type": "markdown",
   "metadata": {
    "colab_type": "text",
    "id": "mPL4VopBNQ64"
   },
   "source": [
    "![calculator](https://upload.wikimedia.org/wikipedia/commons/3/3f/TI-82_CS.jpg)"
   ]
  },
  {
   "cell_type": "markdown",
   "metadata": {
    "colab_type": "text",
    "id": "qkYNhyqJNrH1"
   },
   "source": [
    "## Basic Math\n",
    "\n",
    "- +\n",
    "- -\n",
    "- /\n",
    "- *\n",
    "- ** (exponent)\n",
    "- % (modulo)"
   ]
  },
  {
   "cell_type": "code",
   "execution_count": 0,
   "metadata": {
    "colab": {},
    "colab_type": "code",
    "id": "M1PzuWYLft4e"
   },
   "outputs": [],
   "source": []
  },
  {
   "cell_type": "markdown",
   "metadata": {
    "colab_type": "text",
    "id": "oqTutAYRkE1s"
   },
   "source": [
    "###  Math Library/Package"
   ]
  },
  {
   "cell_type": "code",
   "execution_count": 0,
   "metadata": {
    "colab": {},
    "colab_type": "code",
    "id": "QCN7GT-KkH8o"
   },
   "outputs": [],
   "source": []
  },
  {
   "cell_type": "code",
   "execution_count": 0,
   "metadata": {
    "colab": {},
    "colab_type": "code",
    "id": "Mu8fqibI5Ef2"
   },
   "outputs": [],
   "source": []
  },
  {
   "cell_type": "markdown",
   "metadata": {
    "colab_type": "text",
    "id": "ki3BYYVb5OHt"
   },
   "source": [
    "> Once a package or object is loaded into memory, we can do **`object.<tab>`** to see the available \"options\" available to be applied or used.  \n",
    "\n",
    "> The \"options\"  are technically methods, or functions/transformations that can be output or applied to another object of data.  This will make sense later, but the big thing is that you don't have to always guess.  Using `object.<tab>` will bring up what you have available.  \n",
    "\n",
    "I will show how to get additional help in a minute."
   ]
  },
  {
   "cell_type": "markdown",
   "metadata": {
    "colab_type": "text",
    "id": "SWStIoTvhp-n"
   },
   "source": [
    "### Getting Help"
   ]
  },
  {
   "cell_type": "code",
   "execution_count": 0,
   "metadata": {
    "colab": {},
    "colab_type": "code",
    "id": "BlkzSA7L8nQ4"
   },
   "outputs": [],
   "source": []
  },
  {
   "cell_type": "markdown",
   "metadata": {
    "colab_type": "text",
    "id": "1LOj-4A0_W2h"
   },
   "source": [
    "### Quick Exercise\n",
    "\n",
    "What is the difference between the # of days in the year (e.g. 365) and 5 factorial, squared, +1\n",
    "\n",
    "> Hint: The answer is -14306"
   ]
  },
  {
   "cell_type": "code",
   "execution_count": 0,
   "metadata": {
    "colab": {},
    "colab_type": "code",
    "id": "5jXBX7SzAVRK"
   },
   "outputs": [],
   "source": [
    "## work through your answer here:\n"
   ]
  },
  {
   "cell_type": "markdown",
   "metadata": {
    "colab_type": "text",
    "id": "W2k9zb18ftx_"
   },
   "source": [
    "## Variables and Comparison"
   ]
  },
  {
   "cell_type": "markdown",
   "metadata": {
    "colab_type": "text",
    "id": "GGaLIUh3gvuP"
   },
   "source": [
    "### Variable Assignment "
   ]
  },
  {
   "cell_type": "code",
   "execution_count": 0,
   "metadata": {
    "colab": {},
    "colab_type": "code",
    "id": "XU5DYntQhCTS"
   },
   "outputs": [],
   "source": []
  },
  {
   "cell_type": "markdown",
   "metadata": {
    "colab_type": "text",
    "id": "ZcV_XOV9kgYv"
   },
   "source": [
    "### Inspection"
   ]
  },
  {
   "cell_type": "code",
   "execution_count": 0,
   "metadata": {
    "colab": {},
    "colab_type": "code",
    "id": "RZqCD3XckjIW"
   },
   "outputs": [],
   "source": [
    "# type"
   ]
  },
  {
   "cell_type": "code",
   "execution_count": 0,
   "metadata": {
    "colab": {},
    "colab_type": "code",
    "id": "NJFAmSnMBB12"
   },
   "outputs": [],
   "source": [
    "# help v1 - ?\n"
   ]
  },
  {
   "cell_type": "code",
   "execution_count": 0,
   "metadata": {
    "colab": {},
    "colab_type": "code",
    "id": "XtjJmdgpA_k_"
   },
   "outputs": [],
   "source": [
    "# help v2 - help\n"
   ]
  },
  {
   "cell_type": "markdown",
   "metadata": {
    "colab_type": "text",
    "id": "_09ogdHIg4c4"
   },
   "source": [
    "###  Comparison Operators"
   ]
  },
  {
   "cell_type": "markdown",
   "metadata": {
    "colab_type": "text",
    "id": "J04qBybthFNN"
   },
   "source": [
    "![comparison](https://cdn.instructables.com/FLG/7GVR/J7GGIOCQ/FLG7GVRJ7GGIOCQ.LARGE.jpg)"
   ]
  },
  {
   "cell_type": "code",
   "execution_count": 0,
   "metadata": {
    "colab": {},
    "colab_type": "code",
    "id": "OTcWSADWhJsp"
   },
   "outputs": [],
   "source": []
  },
  {
   "cell_type": "markdown",
   "metadata": {
    "colab_type": "text",
    "id": "h3uNj9HxifPu"
   },
   "source": [
    "## Deleting objects"
   ]
  },
  {
   "cell_type": "markdown",
   "metadata": {
    "colab_type": "text",
    "id": "V5csDebjftoK"
   },
   "source": [
    "## Different Data Types\n",
    "\n"
   ]
  },
  {
   "cell_type": "markdown",
   "metadata": {
    "colab_type": "text",
    "id": "EbMIpEteftbM"
   },
   "source": [
    "### Integers and Floats"
   ]
  },
  {
   "cell_type": "code",
   "execution_count": 0,
   "metadata": {
    "colab": {},
    "colab_type": "code",
    "id": "Ik39I-HChLQr"
   },
   "outputs": [],
   "source": []
  },
  {
   "cell_type": "code",
   "execution_count": 0,
   "metadata": {
    "colab": {},
    "colab_type": "code",
    "id": "ROsuFGhiGMaN"
   },
   "outputs": [],
   "source": [
    "# integer to string"
   ]
  },
  {
   "cell_type": "markdown",
   "metadata": {
    "colab_type": "text",
    "id": "1bLeeAVNftU0"
   },
   "source": [
    "### Strings"
   ]
  },
  {
   "cell_type": "code",
   "execution_count": 0,
   "metadata": {
    "colab": {},
    "colab_type": "code",
    "id": "b2YAkClHhLyi"
   },
   "outputs": [],
   "source": []
  },
  {
   "cell_type": "code",
   "execution_count": 0,
   "metadata": {
    "colab": {},
    "colab_type": "code",
    "id": "Pax8een-kvap"
   },
   "outputs": [],
   "source": [
    "## length"
   ]
  },
  {
   "cell_type": "code",
   "execution_count": 0,
   "metadata": {
    "colab": {},
    "colab_type": "code",
    "id": "LLsaOQLNkvyv"
   },
   "outputs": [],
   "source": [
    "## methods to the string (length, upper, lower)"
   ]
  },
  {
   "cell_type": "code",
   "execution_count": 0,
   "metadata": {
    "colab": {},
    "colab_type": "code",
    "id": "84fL-uBWGHmQ"
   },
   "outputs": [],
   "source": [
    "# string number to int"
   ]
  },
  {
   "cell_type": "code",
   "execution_count": 0,
   "metadata": {
    "colab": {},
    "colab_type": "code",
    "id": "lnIgRg71kv-s"
   },
   "outputs": [],
   "source": [
    "## paste"
   ]
  },
  {
   "cell_type": "code",
   "execution_count": 0,
   "metadata": {
    "colab": {},
    "colab_type": "code",
    "id": "UYxNCj9GaIJj"
   },
   "outputs": [],
   "source": [
    "## string formatting\n"
   ]
  },
  {
   "cell_type": "markdown",
   "metadata": {
    "colab_type": "text",
    "id": "WYOTauJSaZVr"
   },
   "source": [
    "### Exercise: Hello World Part 2\n",
    "\n",
    "Below:\n",
    "\n",
    "1.  create a variable called **`myname`** to store your name\n",
    "2.  create a variable called **`hw`** to generate a string that says Hello, my name is **`<your name here>`**! where **`<your name here>`** is the value of **`myname`** \n",
    "3.  print the variable **`hw`**"
   ]
  },
  {
   "cell_type": "markdown",
   "metadata": {
    "colab_type": "text",
    "id": "pbb06lcUlLI_"
   },
   "source": [
    "#### Case Sensitivity of strings"
   ]
  },
  {
   "cell_type": "code",
   "execution_count": 0,
   "metadata": {
    "colab": {},
    "colab_type": "code",
    "id": "rX2O67C1lNlf"
   },
   "outputs": [],
   "source": []
  },
  {
   "cell_type": "markdown",
   "metadata": {
    "colab_type": "text",
    "id": "ffl4EbZeftM8"
   },
   "source": [
    "### Booleans\n"
   ]
  },
  {
   "cell_type": "code",
   "execution_count": 0,
   "metadata": {
    "colab": {},
    "colab_type": "code",
    "id": "AGtlQke7hMU4"
   },
   "outputs": [],
   "source": []
  },
  {
   "cell_type": "markdown",
   "metadata": {
    "colab_type": "text",
    "id": "oWBXna-3h0Yc"
   },
   "source": [
    "# Lists and Tuples"
   ]
  },
  {
   "cell_type": "markdown",
   "metadata": {
    "colab_type": "text",
    "id": "W8IIrQYyh8fM"
   },
   "source": [
    "Main difference is immutability.  \n",
    "\n",
    "Lists are more \"common\" for some of our data tasks\n",
    "\n",
    "Will show mixed types in both"
   ]
  },
  {
   "cell_type": "markdown",
   "metadata": {
    "colab_type": "text",
    "id": "0NbHxCxhh-d7"
   },
   "source": [
    "## Tuples"
   ]
  },
  {
   "cell_type": "code",
   "execution_count": 0,
   "metadata": {
    "colab": {},
    "colab_type": "code",
    "id": "wCNKjyGMiCxl"
   },
   "outputs": [],
   "source": []
  },
  {
   "cell_type": "code",
   "execution_count": 0,
   "metadata": {
    "colab": {},
    "colab_type": "code",
    "id": "OqEqEg8yDqJu"
   },
   "outputs": [],
   "source": [
    "# simple list, look at methods\n",
    "x = 1,2,3\n",
    "y = (4,5,\"A\",5)\n",
    "\n",
    "# show the types\n",
    "\n",
    "\n",
    "# count instances of something\n"
   ]
  },
  {
   "cell_type": "markdown",
   "metadata": {
    "colab_type": "text",
    "id": "UHbMJAHLjD4w"
   },
   "source": [
    "### Immutable\n",
    "\n",
    " means can't be edited"
   ]
  },
  {
   "cell_type": "code",
   "execution_count": 0,
   "metadata": {
    "colab": {},
    "colab_type": "code",
    "id": "HWLcMiW0jJSV"
   },
   "outputs": [],
   "source": [
    "# replace inline"
   ]
  },
  {
   "cell_type": "markdown",
   "metadata": {
    "colab_type": "text",
    "id": "LlNbu2Pzi_tX"
   },
   "source": [
    "\n",
    "## Lists"
   ]
  },
  {
   "cell_type": "code",
   "execution_count": 0,
   "metadata": {
    "colab": {},
    "colab_type": "code",
    "id": "RTW-cgO-jLLP"
   },
   "outputs": [],
   "source": []
  },
  {
   "cell_type": "markdown",
   "metadata": {
    "colab_type": "text",
    "id": "YLY4LvyjjzLW"
   },
   "source": [
    "### Lists of Lists"
   ]
  },
  {
   "cell_type": "markdown",
   "metadata": {
    "colab_type": "text",
    "id": "0p1uj9RwjLn5"
   },
   "source": [
    "## Slicing"
   ]
  },
  {
   "cell_type": "markdown",
   "metadata": {
    "colab_type": "text",
    "id": "_1ZjbtKljOf8"
   },
   "source": [
    "![slicing](https://files.realpython.com/media/t.c11ea56e8ca2.png)"
   ]
  },
  {
   "cell_type": "markdown",
   "metadata": {
    "colab_type": "text",
    "id": "P4OSh83LjwNV"
   },
   "source": [
    "# Non-Graded Questions on Questrom Tools\n",
    "\n",
    "I placed a non-graded set of questions to help with the fundamentals above.  Good luck!"
   ]
  }
 ],
 "metadata": {
  "colab": {
   "collapsed_sections": [],
   "name": "3-intro-to-python.ipynb",
   "provenance": [],
   "toc_visible": true,
   "version": "0.3.2"
  },
  "kernelspec": {
   "display_name": "Python 3",
   "language": "python",
   "name": "python3"
  },
  "language_info": {
   "codemirror_mode": {
    "name": "ipython",
    "version": 3
   },
   "file_extension": ".py",
   "mimetype": "text/x-python",
   "name": "python",
   "nbconvert_exporter": "python",
   "pygments_lexer": "ipython3",
   "version": "3.7.2"
  }
 },
 "nbformat": 4,
 "nbformat_minor": 1
}
