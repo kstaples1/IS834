{
 "cells": [
  {
   "cell_type": "markdown",
   "metadata": {
    "colab_type": "text",
    "id": "EG0PGo9mir7t"
   },
   "source": [
    "# About\n",
    "\n",
    "In this lab, we are going to come back to plotting, and introduce tooling above and beyond the basic plots that we get with pandas (which uses matplotlib under the hood).\n",
    "\n",
    "We will get into more advanced plotting and control after the midterm after we segue into timeseries."
   ]
  },
  {
   "cell_type": "markdown",
   "metadata": {
    "colab_type": "text",
    "id": "g7Yq-zZyi5G4"
   },
   "source": [
    "# Setup"
   ]
  },
  {
   "cell_type": "code",
   "execution_count": 0,
   "metadata": {
    "colab": {},
    "colab_type": "code",
    "id": "uhYQHuo2i63b"
   },
   "outputs": [],
   "source": [
    "# standard imports\n",
    "import numpy as np\n",
    "import pandas as pd\n"
   ]
  },
  {
   "cell_type": "markdown",
   "metadata": {
    "colab_type": "text",
    "id": "HddpYfujjTUw"
   },
   "source": [
    "# Dataset"
   ]
  },
  {
   "cell_type": "code",
   "execution_count": 0,
   "metadata": {
    "colab": {},
    "colab_type": "code",
    "id": "FoA3OUgOjV1Q"
   },
   "outputs": [],
   "source": [
    "url = \"https://public.tableau.com/s/sites/default/files/media/Resources/pokemon.xlsx\"\n",
    "pokemon = pd.read_excel(url)"
   ]
  },
  {
   "cell_type": "code",
   "execution_count": 0,
   "metadata": {
    "colab": {},
    "colab_type": "code",
    "id": "Up7TUAoPjfM1"
   },
   "outputs": [],
   "source": [
    "pokemon.head()"
   ]
  },
  {
   "cell_type": "code",
   "execution_count": 0,
   "metadata": {
    "colab": {},
    "colab_type": "code",
    "id": "K1vB4hlNjgh7"
   },
   "outputs": [],
   "source": [
    "pokemon.info()"
   ]
  },
  {
   "cell_type": "markdown",
   "metadata": {
    "colab_type": "text",
    "id": "jiarbDBTjtLZ"
   },
   "source": [
    "# Pandas plotting\n",
    "\n",
    "https://pandas.pydata.org/pandas-docs/stable/reference/api/pandas.DataFrame.plot.html\n",
    "\n",
    "Older docs, but helpful on types\n",
    "\n",
    "https://pandas.pydata.org/pandas-docs/version/0.22/visualization.html"
   ]
  },
  {
   "cell_type": "code",
   "execution_count": 0,
   "metadata": {
    "colab": {},
    "colab_type": "code",
    "id": "PLmADDdRkAsT"
   },
   "outputs": [],
   "source": [
    "# we saw last week some basic plotting\n",
    "pokemon.plot(x=\"Attack\", y=\"Speed\", kind=\"scatter\")"
   ]
  },
  {
   "cell_type": "code",
   "execution_count": 0,
   "metadata": {
    "colab": {},
    "colab_type": "code",
    "id": "K8N-dZNmkKbI"
   },
   "outputs": [],
   "source": [
    "# create a line from the Speed column (Series)\n",
    "pokemon.Speed.plot(kind=\"line\")"
   ]
  },
  {
   "cell_type": "markdown",
   "metadata": {
    "colab_type": "text",
    "id": "tPeBFqRokoBt"
   },
   "source": [
    "> What is being plotted above?"
   ]
  },
  {
   "cell_type": "code",
   "execution_count": 0,
   "metadata": {
    "colab": {},
    "colab_type": "code",
    "id": "fyrXdM2QkrDm"
   },
   "outputs": [],
   "source": [
    "# lets create a boxplot instead\n",
    "pokemon.Speed.plot(kind=\"box\")"
   ]
  },
  {
   "cell_type": "code",
   "execution_count": 0,
   "metadata": {
    "colab": {},
    "colab_type": "code",
    "id": "K8U8hSZjkwZ2"
   },
   "outputs": [],
   "source": [
    "## we can also do this for two series\n",
    "pokemon[['Speed', 'Attack']].plot(kind=\"box\")"
   ]
  },
  {
   "cell_type": "code",
   "execution_count": 0,
   "metadata": {
    "colab": {},
    "colab_type": "code",
    "id": "FGtXAIUqlAmG"
   },
   "outputs": [],
   "source": [
    "# how about the whole dataframe -\n",
    "# remember methods can have column/Series context as well as dataframe\n",
    "pokemon.plot(kind=\"box\")"
   ]
  },
  {
   "cell_type": "code",
   "execution_count": 0,
   "metadata": {
    "colab": {},
    "colab_type": "code",
    "id": "YLCUOpBClHa4"
   },
   "outputs": [],
   "source": [
    "# pie plots if you must\n",
    "pokemon.Type.value_counts().plot(kind=\"pie\")"
   ]
  },
  {
   "cell_type": "code",
   "execution_count": 0,
   "metadata": {
    "colab": {},
    "colab_type": "code",
    "id": "bHmS_9wulc-n"
   },
   "outputs": [],
   "source": [
    "# we can also use value_counts for bar plots\n",
    "type_counts = pokemon.Type.value_counts(ascending=False)\n",
    "type_counts.plot(kind=\"bar\", )"
   ]
  },
  {
   "cell_type": "code",
   "execution_count": 0,
   "metadata": {
    "colab": {},
    "colab_type": "code",
    "id": "ABQcKmjcl5nJ"
   },
   "outputs": [],
   "source": [
    "# what if we wanted it to be the other way?\n",
    "type_counts.plot(kind=\"barh\")"
   ]
  },
  {
   "cell_type": "code",
   "execution_count": 0,
   "metadata": {
    "colab": {},
    "colab_type": "code",
    "id": "VDaP8fOTr6EV"
   },
   "outputs": [],
   "source": [
    "# and what if we wanted to sort largest to smallest?\n",
    "pokemon.Type.value_counts(ascending=True).plot(kind=\"barh\")"
   ]
  },
  {
   "cell_type": "code",
   "execution_count": 0,
   "metadata": {
    "colab": {},
    "colab_type": "code",
    "id": "tQsYlBPKm8iE"
   },
   "outputs": [],
   "source": [
    "# we also saw histograms\n",
    "pokemon.Total.plot(kind='hist', title=\"Total Histogram\")"
   ]
  },
  {
   "cell_type": "code",
   "execution_count": 0,
   "metadata": {
    "colab": {},
    "colab_type": "code",
    "id": "zVSrz0_QoWIP"
   },
   "outputs": [],
   "source": [
    "# what about a cumulative histogram\n",
    "pokemon.Total.plot(kind='hist', title=\"Total Histogram\", cumulative=True)"
   ]
  },
  {
   "cell_type": "code",
   "execution_count": 0,
   "metadata": {
    "colab": {},
    "colab_type": "code",
    "id": "ZL1HBI_LoiD1"
   },
   "outputs": [],
   "source": []
  }
 ],
 "metadata": {
  "colab": {
   "collapsed_sections": [],
   "name": "17 - Plotting.ipynb",
   "private_outputs": true,
   "provenance": [],
   "version": "0.3.2"
  },
  "kernelspec": {
   "display_name": "Python 3",
   "language": "python",
   "name": "python3"
  },
  "language_info": {
   "codemirror_mode": {
    "name": "ipython",
    "version": 3
   },
   "file_extension": ".py",
   "mimetype": "text/x-python",
   "name": "python",
   "nbconvert_exporter": "python",
   "pygments_lexer": "ipython3",
   "version": "3.7.2"
  }
 },
 "nbformat": 4,
 "nbformat_minor": 1
}
