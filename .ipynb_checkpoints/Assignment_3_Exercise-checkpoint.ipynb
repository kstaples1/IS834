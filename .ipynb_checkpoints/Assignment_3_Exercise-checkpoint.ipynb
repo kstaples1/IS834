{
 "cells": [
  {
   "cell_type": "markdown",
   "metadata": {
    "colab_type": "text",
    "id": "9uHFC0TzBmZB"
   },
   "source": [
    "# Assignment 3\n",
    "\n"
   ]
  },
  {
   "cell_type": "markdown",
   "metadata": {
    "colab_type": "text",
    "id": "eXsrLiQtTWqp"
   },
   "source": [
    "# Setup your environment"
   ]
  },
  {
   "cell_type": "code",
   "execution_count": 0,
   "metadata": {
    "colab": {},
    "colab_type": "code",
    "id": "avYz9tu3JluG"
   },
   "outputs": [],
   "source": []
  },
  {
   "cell_type": "code",
   "execution_count": 5,
   "metadata": {
    "colab": {},
    "colab_type": "code",
    "id": "u2NphvDnZRrV"
   },
   "outputs": [],
   "source": [
    "import pandas as pd\n",
    "import numpy as np\n",
    "import matplotlib.pyplot as plt\n",
    "import seaborn as sns\n",
    "import datetime  \n",
    "%matplotlib inline\n",
    "## pandas print columns/rows option (100)\n",
    "pd.set_option('display.max_columns', 100)\n",
    "pd.set_option('display.max_rows', 100)\n",
    "\n",
    "## set the styling for seaborn (white)\n",
    "sns.set_style(\"dark\")"
   ]
  },
  {
   "cell_type": "markdown",
   "metadata": {
    "colab_type": "text",
    "id": "tS0Ns2pCTa-P"
   },
   "source": [
    "# Bring in the Sales Dataset\n",
    "\n",
    "The dataset an can be found at the following url:\n",
    "\n",
    "> `http://www.cse.ohio-state.edu/~hwshen/Melbourne/Data/Superstore.xlsx`"
   ]
  },
  {
   "cell_type": "code",
   "execution_count": 4,
   "metadata": {
    "colab": {},
    "colab_type": "code",
    "id": "WxBxYOMkEoCx"
   },
   "outputs": [],
   "source": [
    "dd = pd.read_excel(\"http://www.cse.ohio-state.edu/~hwshen/Melbourne/Data/Superstore.xlsx\");\n",
    "\n"
   ]
  },
  {
   "cell_type": "markdown",
   "metadata": {
    "colab_type": "text",
    "id": "PGSXM-AMFbxJ"
   },
   "source": [
    " # Question 0:  Crosstab and Heatmap of Product Sub-Category and Region (Sales)\n",
    " \n",
    " Hint:  We saw this in the Seaborn plotting notebook, and be sure to check out the help\n",
    " \n",
    " - Product Sub-Category in the rows\n",
    " - Region in the columns\n",
    " - the cell values should be the count of records  \n",
    " \n",
    " \n",
    " Hint 2:  If you are not sure about your results, try to look at the data in Excel and Pivot tables there"
   ]
  },
  {
   "cell_type": "code",
   "execution_count": 0,
   "metadata": {
    "colab": {},
    "colab_type": "code",
    "id": "VW16Ma6EGC2m"
   },
   "outputs": [],
   "source": []
  },
  {
   "cell_type": "code",
   "execution_count": 0,
   "metadata": {
    "colab": {},
    "colab_type": "code",
    "id": "4kpfquFMIf-O"
   },
   "outputs": [],
   "source": [
    "\n"
   ]
  },
  {
   "cell_type": "markdown",
   "metadata": {
    "colab_type": "text",
    "id": "sytz_HlgIgrC"
   },
   "source": [
    "# Question 1:  Crosstab and Heatmap total Sales by Sub-Category and Region\n",
    "\n",
    "- Product Sub-Category in the rows\n",
    "- Region in the columns\n",
    "- The cells should be the sum of sales"
   ]
  },
  {
   "cell_type": "code",
   "execution_count": 0,
   "metadata": {
    "colab": {},
    "colab_type": "code",
    "id": "XhA_H-VqIn3c"
   },
   "outputs": [],
   "source": []
  },
  {
   "cell_type": "code",
   "execution_count": 0,
   "metadata": {
    "colab": {},
    "colab_type": "code",
    "id": "gI5eO8mJKQgo"
   },
   "outputs": [],
   "source": []
  },
  {
   "cell_type": "markdown",
   "metadata": {
    "colab_type": "text",
    "id": "1nmSeVtfKUBg"
   },
   "source": [
    "# Question 2: Total Sales of `Chairs & Chairmats`  by `Order Date`"
   ]
  },
  {
   "cell_type": "code",
   "execution_count": 0,
   "metadata": {
    "colab": {},
    "colab_type": "code",
    "id": "59m7iGuCKy4G"
   },
   "outputs": [],
   "source": [
    "\n"
   ]
  },
  {
   "cell_type": "code",
   "execution_count": 0,
   "metadata": {
    "colab": {},
    "colab_type": "code",
    "id": "nSNDK4WhLVzr"
   },
   "outputs": [],
   "source": []
  },
  {
   "cell_type": "markdown",
   "metadata": {
    "colab_type": "text",
    "id": "wNhxDGQoLkzH"
   },
   "source": [
    "# Question 3: Create a Timeseries plot (line chart) Showing Chairs & Chairmats Sales by Date\n",
    "\n",
    "Use the dataset created in Question 2"
   ]
  },
  {
   "cell_type": "code",
   "execution_count": 0,
   "metadata": {
    "colab": {},
    "colab_type": "code",
    "id": "0VXG4zshMGRb"
   },
   "outputs": [],
   "source": []
  },
  {
   "cell_type": "markdown",
   "metadata": {
    "colab_type": "text",
    "id": "bG-_c5FhN4R0"
   },
   "source": [
    "# Question 4: Create a Forecast of Sales using 2012 and 2013 Sales Data\n",
    "\n",
    "\n",
    "- Use prophet\n",
    "- Use the dataset that you created in Question 2 and plotted in Question 3\n",
    "- add 1 extra day to the dataset (we saw this in class and is well documented on prophet tutorials)\n",
    "- Generate the forecasts \n",
    "\n",
    "\n",
    "- Plot the model"
   ]
  },
  {
   "cell_type": "code",
   "execution_count": 0,
   "metadata": {
    "colab": {},
    "colab_type": "code",
    "id": "ULiEP2LmQDAu"
   },
   "outputs": [],
   "source": []
  },
  {
   "cell_type": "markdown",
   "metadata": {
    "colab_type": "text",
    "id": "XuJm2psBPzva"
   },
   "source": [
    "# Question 5: What is the forecasted Sales for the Chairs & Chairmats Sub-Category on Jan 1, 2014?"
   ]
  },
  {
   "cell_type": "code",
   "execution_count": 0,
   "metadata": {
    "colab": {},
    "colab_type": "code",
    "id": "RcqN2qh3QAdp"
   },
   "outputs": [],
   "source": []
  },
  {
   "cell_type": "code",
   "execution_count": 0,
   "metadata": {
    "colab": {},
    "colab_type": "code",
    "id": "r8HivmfNR6u4"
   },
   "outputs": [],
   "source": []
  }
 ],
 "metadata": {
  "colab": {
   "collapsed_sections": [],
   "name": "Assignment 3 - Exercise.ipynb",
   "provenance": [],
   "version": "0.3.2"
  },
  "kernelspec": {
   "display_name": "Python 3",
   "language": "python",
   "name": "python3"
  },
  "language_info": {
   "codemirror_mode": {
    "name": "ipython",
    "version": 3
   },
   "file_extension": ".py",
   "mimetype": "text/x-python",
   "name": "python",
   "nbconvert_exporter": "python",
   "pygments_lexer": "ipython3",
   "version": "3.7.2"
  }
 },
 "nbformat": 4,
 "nbformat_minor": 1
}
