{
 "cells": [
  {
   "cell_type": "markdown",
   "metadata": {
    "colab_type": "text",
    "id": "qQVJ_Ujot2oi"
   },
   "source": [
    "# Spring 2019 Midterm\n",
    "\n",
    "<br>\n",
    "<br>\n",
    "\n",
    "![](http://touchmba.com/wp-content/uploads/2017/12/BU-Questrom.png)"
   ]
  },
  {
   "cell_type": "markdown",
   "metadata": {
    "colab_type": "text",
    "id": "ug48jMRHuBkZ"
   },
   "source": [
    "## About this exam:\n",
    "\n",
    "- Open notes, slides, notebooks, Internet all can be used, just like it will be in the real world\n",
    "\n",
    "- Collaboration with a peer is not tolerated and will be strictly enforced via code review checks\n",
    "\n",
    "- **Make sure that the output from your work is saved with the notebook!**\n",
    "\n",
    "- You have the full class period, if required, for this exam\n",
    "\n",
    "- There are **5** Parts in this exam.\n",
    "\n",
    "- Almost always, the order of the questions matters, and will use work and results from prior questions within the Part.\n",
    "\n",
    "- Please show all of your work , as I will provide partial credit for your process even if your answer is not correct\n",
    "\n",
    "- I am looking to reinforce, and **challenge**, your skills based on the topics covered in the first half of this class\n",
    "\n",
    "- Programming and Data Analysis are two separate skills that we are learning this semester, but both combine into problem solving which require stitching together various techniques to get an outcome.  The majority of this exam will try to focus on reinforcing and building our problem solving skills to kick off the second part of the semester after break.\n",
    "\n",
    "\n",
    "\n",
    "\n",
    "## Tips:\n",
    "\n",
    "- Remember that there are many `attributes` and `methods()` available to us on all objects within python.  \n",
    "\n",
    "- hitting .<tab> on the object will pull up what is available (as long as that object is in memory)\n",
    "\n",
    "- Google can be your friend\n",
    "\n",
    "## Just a few helpful Resources\n",
    "\n",
    "- https://pandas.pydata.org/pandas-docs/stable/reference/frame.html\n",
    "- https://pandas.pydata.org/pandas-docs/stable/reference/series.html\n",
    "- https://pandas.pydata.org/pandas-docs/stable/reference/api/pandas.DataFrame.plot.html\n",
    "- https://pandas.pydata.org/pandas-docs/stable/user_guide/visualization.html\n",
    "  \n",
    "\n"
   ]
  },
  {
   "cell_type": "markdown",
   "metadata": {
    "colab_type": "text",
    "id": "L8R1aIP7y4he"
   },
   "source": [
    "# Setup:  "
   ]
  },
  {
   "cell_type": "code",
   "execution_count": 1,
   "metadata": {
    "colab": {},
    "colab_type": "code",
    "id": "bxPvTn3Ky98N"
   },
   "outputs": [],
   "source": [
    "## setup your tools here:\n",
    "import pandas as pd\n",
    "import numpy as np"
   ]
  },
  {
   "cell_type": "markdown",
   "metadata": {
    "colab_type": "text",
    "id": "8sbqtV08zC9k"
   },
   "source": [
    "\n",
    "\n",
    "<br>\n",
    "<hr color=\"red\"  width=\"100%\"  size=\"2\">\n",
    "<br>\n",
    "\n",
    "\n",
    "\n",
    "\n"
   ]
  },
  {
   "cell_type": "markdown",
   "metadata": {
    "colab_type": "text",
    "id": "1NcQ8pQRxp8a"
   },
   "source": [
    "# Part 1"
   ]
  },
  {
   "cell_type": "code",
   "execution_count": 0,
   "metadata": {
    "colab": {},
    "colab_type": "code",
    "id": "xfjjtZqCye_I"
   },
   "outputs": [],
   "source": [
    "# Q1: Create a random integer array of 1000 numbers between 2 and 87 (inclusive)\n",
    "# call the array x\n",
    "i = 0\n",
    "arr = np.array()\n",
    "while(i<1000):\n",
    "    \n"
   ]
  },
  {
   "cell_type": "code",
   "execution_count": 0,
   "metadata": {
    "colab": {},
    "colab_type": "code",
    "id": "LzYctcEP0uKP"
   },
   "outputs": [],
   "source": [
    "# Q2: confirm the length of x\n"
   ]
  },
  {
   "cell_type": "code",
   "execution_count": 0,
   "metadata": {
    "colab": {},
    "colab_type": "code",
    "id": "JjWdfmwE1ZMa"
   },
   "outputs": [],
   "source": [
    "# Q3: square each value in x and save the results to y\n"
   ]
  },
  {
   "cell_type": "code",
   "execution_count": 0,
   "metadata": {
    "colab": {},
    "colab_type": "code",
    "id": "ZzF5bTpq1kQ-"
   },
   "outputs": [],
   "source": [
    "# Q4: calculate the average of y\n"
   ]
  },
  {
   "cell_type": "code",
   "execution_count": 0,
   "metadata": {
    "colab": {},
    "colab_type": "code",
    "id": "xnVVQVeq5KGp"
   },
   "outputs": [],
   "source": [
    "# Q5: calculate the difference between y and x, store the results as x\n"
   ]
  },
  {
   "cell_type": "markdown",
   "metadata": {
    "colab_type": "text",
    "id": "CCY_6Uyx6iEz"
   },
   "source": [
    "\n",
    "\n",
    "---\n",
    "\n"
   ]
  },
  {
   "cell_type": "code",
   "execution_count": 0,
   "metadata": {
    "colab": {},
    "colab_type": "code",
    "id": "i1MTsPs76B6v"
   },
   "outputs": [],
   "source": [
    "# Load the data below into sentences for the next few questions\n",
    "sentences = \"\"\"\n",
    "Check back tomorrow; I will see if the book has arrived.\n",
    "Mary plays the piano.\n",
    "He didn’t want to go to the dentist, yet he went anyway.\n",
    "\"\"\"\n",
    "\n"
   ]
  },
  {
   "cell_type": "code",
   "execution_count": 0,
   "metadata": {
    "colab": {},
    "colab_type": "code",
    "id": "kgxwsYj96YQm"
   },
   "outputs": [],
   "source": [
    "# Q6: How many characters are in sentences\n"
   ]
  },
  {
   "cell_type": "code",
   "execution_count": 0,
   "metadata": {
    "colab": {},
    "colab_type": "code",
    "id": "FMv2Lr3F8eZJ"
   },
   "outputs": [],
   "source": [
    "# Q7: What type of object is sentences?\n"
   ]
  },
  {
   "cell_type": "code",
   "execution_count": 0,
   "metadata": {
    "colab": {},
    "colab_type": "code",
    "id": "DUbSMudo6Zpm"
   },
   "outputs": [],
   "source": [
    "# Q8: make sentences all upper case, save it to sentences_upper\n"
   ]
  },
  {
   "cell_type": "code",
   "execution_count": 0,
   "metadata": {
    "colab": {},
    "colab_type": "code",
    "id": "4UYt4sy28CHE"
   },
   "outputs": [],
   "source": [
    "# Q9: strip all whitespace characters from sentences_upper and save it to sentences_trim\n"
   ]
  },
  {
   "cell_type": "code",
   "execution_count": 0,
   "metadata": {
    "colab": {},
    "colab_type": "code",
    "id": "-QZE2uS07hmv"
   },
   "outputs": [],
   "source": [
    "# Q10: split each sentence from sentences_trim into a list entry\n"
   ]
  },
  {
   "cell_type": "code",
   "execution_count": 0,
   "metadata": {
    "colab": {},
    "colab_type": "code",
    "id": "SC0BVz738vHY"
   },
   "outputs": [],
   "source": [
    "# Q11: Convert this to a numpy array called sentence_np\n",
    "\n"
   ]
  },
  {
   "cell_type": "code",
   "execution_count": 0,
   "metadata": {
    "colab": {},
    "colab_type": "code",
    "id": "YCzQ2D1v78OQ"
   },
   "outputs": [],
   "source": [
    "# Q13 print the shape of the array sentence_np"
   ]
  },
  {
   "cell_type": "markdown",
   "metadata": {
    "colab_type": "text",
    "id": "1lKqdMrR_RoD"
   },
   "source": [
    "<br>\n",
    "<hr color=\"red\"  width=\"100%\"  size=\"2\">\n",
    "<br>"
   ]
  },
  {
   "cell_type": "markdown",
   "metadata": {
    "colab_type": "text",
    "id": "mpcAb6Pa_U23"
   },
   "source": [
    "# Part 2 \n",
    "\n",
    "This part will use a `json` dataset that can be found at the URL below:\n",
    "\n",
    "> `https://data.nasa.gov/resource/y77d-th95.json`\n",
    "\n",
    "The dataset captures Earth meteorite landings. \n",
    "\n",
    "\n"
   ]
  },
  {
   "cell_type": "code",
   "execution_count": 0,
   "metadata": {
    "colab": {},
    "colab_type": "code",
    "id": "yBZhGWxaJaiL"
   },
   "outputs": [],
   "source": [
    "## Q1:  read this into a pandas dataframe called space\n"
   ]
  },
  {
   "cell_type": "code",
   "execution_count": 0,
   "metadata": {
    "colab": {},
    "colab_type": "code",
    "id": "K4_KPjuSJdA6"
   },
   "outputs": [],
   "source": [
    "## Q2:  how many rows and columns exist in space\n"
   ]
  },
  {
   "cell_type": "code",
   "execution_count": 0,
   "metadata": {
    "colab": {},
    "colab_type": "code",
    "id": "Wf638pH5JdbS"
   },
   "outputs": [],
   "source": [
    "## Q3:  print out the last 7 rows of space\n"
   ]
  },
  {
   "cell_type": "code",
   "execution_count": 0,
   "metadata": {
    "colab": {},
    "colab_type": "code",
    "id": "KtxS_xD9K5sC"
   },
   "outputs": [],
   "source": [
    "## Q4:  keep ONLY the columns from fall to year -- call the new dataframe space 2\n",
    "\n"
   ]
  },
  {
   "cell_type": "code",
   "execution_count": 0,
   "metadata": {
    "colab": {},
    "colab_type": "code",
    "id": "FOjvWJ8OLD3p"
   },
   "outputs": [],
   "source": [
    "## Q5:  how many missing data values are there for each columns in space2\n"
   ]
  },
  {
   "cell_type": "code",
   "execution_count": 0,
   "metadata": {
    "colab": {},
    "colab_type": "code",
    "id": "nNZdEU1BLarG"
   },
   "outputs": [],
   "source": [
    "## Q6:  remove all rows were there are at least 1 value missing\n",
    "##      save this as space_clean\n"
   ]
  },
  {
   "cell_type": "code",
   "execution_count": 0,
   "metadata": {
    "colab": {},
    "colab_type": "code",
    "id": "842O1ekaLf8l"
   },
   "outputs": [],
   "source": [
    "## Q7:  confirm that there are no missing values for any rows in space_clean\n"
   ]
  },
  {
   "cell_type": "code",
   "execution_count": 0,
   "metadata": {
    "colab": {},
    "colab_type": "code",
    "id": "J832JanmMB0s"
   },
   "outputs": [],
   "source": [
    "## Q8:  what is average mass for all meteorites in space_clean\n"
   ]
  },
  {
   "cell_type": "code",
   "execution_count": 0,
   "metadata": {
    "colab": {},
    "colab_type": "code",
    "id": "-qK39WqDMWCL"
   },
   "outputs": [],
   "source": [
    "## Q9:  create a boxplot for the mass of all meteorites in space_clean\n"
   ]
  },
  {
   "cell_type": "code",
   "execution_count": 0,
   "metadata": {
    "colab": {},
    "colab_type": "code",
    "id": "-ZeR_eRDMdT5"
   },
   "outputs": [],
   "source": [
    "## Q10:  get the summary statistics for the Column mass from space_clean\n"
   ]
  },
  {
   "cell_type": "code",
   "execution_count": 0,
   "metadata": {
    "colab": {},
    "colab_type": "code",
    "id": "mSJGHeeFMnnv"
   },
   "outputs": [],
   "source": [
    "## Q11:  sort the rows of space_clean descending by the column mass\n",
    "##       keep the results in the dataframe called space_clean\n"
   ]
  },
  {
   "cell_type": "code",
   "execution_count": 0,
   "metadata": {
    "colab": {},
    "colab_type": "code",
    "id": "4AUa-J9NM6py"
   },
   "outputs": [],
   "source": [
    "## Q12:  print out rows that represent the largest meteorites by mass\n"
   ]
  },
  {
   "cell_type": "code",
   "execution_count": 0,
   "metadata": {
    "colab": {},
    "colab_type": "code",
    "id": "ZdKvJtClNdi5"
   },
   "outputs": [],
   "source": [
    "## Q13:  keep the 100 smallest meteorites and save this as space100\n"
   ]
  },
  {
   "cell_type": "code",
   "execution_count": 0,
   "metadata": {
    "colab": {},
    "colab_type": "code",
    "id": "r-05sAOcN5OO"
   },
   "outputs": [],
   "source": [
    "## Q14:  create a boxplot of the mass for the smallest 100 meteorites\n",
    "##       give the plot a title of: Distribution for Smallest 100 Meteorites to land on Earth\n"
   ]
  },
  {
   "cell_type": "markdown",
   "metadata": {
    "colab_type": "text",
    "id": "uROvM9FxN6QW"
   },
   "source": [
    "<br>\n",
    "<hr color=\"red\"  width=\"100%\"  size=\"2\">\n",
    "<br>"
   ]
  },
  {
   "cell_type": "markdown",
   "metadata": {
    "colab_type": "text",
    "id": "HVTwujNhO4mW"
   },
   "source": [
    "# Part 3\n",
    "\n",
    "This part deals with a dataset from the televsion painter Bob Ross.\n",
    "\n",
    "The dataset can be loaded from the url shown below:\n",
    "\n",
    "> `https://raw.githubusercontent.com/fivethirtyeight/data/master/bob-ross/elements-by-episode.csv`\n",
    "\n",
    "\n",
    "### Data notes:\n",
    "\n",
    "The numeric columns are bounded to 0/1, with a 1 representing if the element was found within the episode"
   ]
  },
  {
   "cell_type": "code",
   "execution_count": 0,
   "metadata": {
    "colab": {},
    "colab_type": "code",
    "id": "PKE4J8ZOVCEi"
   },
   "outputs": [],
   "source": [
    "## set some options to help with printing and exploring of this dataset\n",
    "pd.options.display.max_rows = 100\n",
    "pd.options.display.max_columns = 100"
   ]
  },
  {
   "cell_type": "code",
   "execution_count": 0,
   "metadata": {
    "colab": {},
    "colab_type": "code",
    "id": "phyyKy-rO7sw"
   },
   "outputs": [],
   "source": [
    "## Q1:  load the dataset and call it bobross\n"
   ]
  },
  {
   "cell_type": "code",
   "execution_count": 0,
   "metadata": {
    "colab": {},
    "colab_type": "code",
    "id": "XU_2cSnxRIrk"
   },
   "outputs": [],
   "source": [
    "## Q2:  write a snippet of code that returns a single number, the number of columns in the dataset\n"
   ]
  },
  {
   "cell_type": "code",
   "execution_count": 0,
   "metadata": {
    "colab": {},
    "colab_type": "code",
    "id": "JMwRyMrkQB1J"
   },
   "outputs": [],
   "source": [
    "## Q3:  Return the 5 columns that appeared the most (sum) across all episodes\n",
    "##      Return both the column name and the number of appearances\n",
    "\n"
   ]
  },
  {
   "cell_type": "code",
   "execution_count": 0,
   "metadata": {
    "colab": {},
    "colab_type": "code",
    "id": "VDPJ88apV91V"
   },
   "outputs": [],
   "source": [
    "## Q5:  Remove the \" chracter from the title column with no character (\"\"), put this in a new column called title2\n"
   ]
  },
  {
   "cell_type": "code",
   "execution_count": 0,
   "metadata": {
    "colab": {},
    "colab_type": "code",
    "id": "aXWx_t1bRUg8"
   },
   "outputs": [],
   "source": [
    "## Q6:  Identify the 15 episodes with the longest titles\n",
    "##      Return just the title\n"
   ]
  },
  {
   "cell_type": "code",
   "execution_count": 0,
   "metadata": {
    "colab": {},
    "colab_type": "code",
    "id": "L71TM-CikeJM"
   },
   "outputs": [],
   "source": [
    "## Q7:  Create a new column, total_elements, that is the count (or sum) of the total number of elements found within an episode\n",
    "##      Elements that are considered should be APPLE_FRAME to WOOD_FRAMED\n"
   ]
  },
  {
   "cell_type": "code",
   "execution_count": 0,
   "metadata": {
    "colab": {},
    "colab_type": "code",
    "id": "JEcaI1bTlGFb"
   },
   "outputs": [],
   "source": [
    "## Q8:  Create a boxplot for this new column, total elements\n"
   ]
  },
  {
   "cell_type": "code",
   "execution_count": 0,
   "metadata": {
    "colab": {},
    "colab_type": "code",
    "id": "iJ6nlLYilGXP"
   },
   "outputs": [],
   "source": [
    "## Q9:  Using python, create two columns, one for the season number, and the second for the episode number\n",
    "##      the finished column should be a number for each\n",
    "##      the columns should be season_num and episode_num\n"
   ]
  },
  {
   "cell_type": "markdown",
   "metadata": {
    "colab_type": "text",
    "id": "cQbDTuaHUacS"
   },
   "source": [
    "<br>\n",
    "<hr color=\"red\"  width=\"100%\"  size=\"2\">\n",
    "<br>"
   ]
  },
  {
   "cell_type": "markdown",
   "metadata": {
    "colab_type": "text",
    "id": "Ei9lwKlxU2_a"
   },
   "source": [
    "# Part 4:\n",
    "\n",
    "This next dataset looks at graduate outcomes by major.  The dataset can be found at the url below:\n",
    "\n",
    "> `https://raw.githubusercontent.com/fivethirtyeight/data/master/college-majors/grad-students.csv`\n",
    "\n",
    "## Data Dictionary:\n",
    "\n",
    "Header | Description\n",
    "---|---------\n",
    "`Rank` | Rank by median earnings\n",
    "`Major_code` | Major code, FO1DP in ACS PUMS\n",
    "`Major` | Major description\n",
    "`Major_category` | Category of major from Carnevale et al\n",
    "`Total` | Total number of people with major\n",
    "`Sample_size` | Sample size (unweighted) of full-time, year-round ONLY (used for earnings)\n",
    "`Men` | Male graduates\n",
    "`Women` | Female graduates\n",
    "`ShareWomen` | Women as share of total\n",
    "`Employed` | Number employed (ESR == 1 or 2)\n",
    "`Full_time` | Employed 35 hours or more\n",
    "`Part_time` | Employed less than 35 hours\n",
    "`Full_time_year_round` | Employed at least 50 weeks (WKW == 1) and at least 35 hours (WKHP >= 35)\n",
    "`Unemployed` | Number unemployed (ESR == 3)\n",
    "`Unemployment_rate` | Unemployed / (Unemployed + Employed)\n",
    "`Median` | Median earnings of full-time, year-round workers\n",
    "`P25th` | 25th percentile of earnigns\n",
    "`P75th` | 75th percentile of earnings\n",
    "`College_jobs` | Number with job requiring a college degree\n",
    "`Non_college_jobs` | Number with job not requiring a college degree\n",
    "`Low_wage_jobs` | Number in low-wage service jobs"
   ]
  },
  {
   "cell_type": "code",
   "execution_count": 0,
   "metadata": {
    "colab": {},
    "colab_type": "code",
    "id": "GzwXYZIGW8Ui"
   },
   "outputs": [],
   "source": [
    "## Q1:  Import the dataset into a pandas DataFrame and call it grads\n"
   ]
  },
  {
   "cell_type": "code",
   "execution_count": 0,
   "metadata": {
    "colab": {},
    "colab_type": "code",
    "id": "1veHjQq5Y0pe"
   },
   "outputs": [],
   "source": [
    "## Q2:  Create a new column that is the percentage of Total grads employed full time year round\n",
    "##      call this new column pct_all_year \n"
   ]
  },
  {
   "cell_type": "code",
   "execution_count": 0,
   "metadata": {
    "colab": {},
    "colab_type": "code",
    "id": "G2WJ3jLIY3Jt"
   },
   "outputs": [],
   "source": [
    "## Q3:  Create a new column that is the percentage of all Total grads in low wage service jobs\n",
    "##      call this new column pct_low_wage\n"
   ]
  },
  {
   "cell_type": "code",
   "execution_count": 0,
   "metadata": {
    "colab": {},
    "colab_type": "code",
    "id": "xVtPdXSIY3Rt"
   },
   "outputs": [],
   "source": [
    "## Q4:  How many missing rows are there for each column\n"
   ]
  },
  {
   "cell_type": "code",
   "execution_count": 0,
   "metadata": {
    "colab": {},
    "colab_type": "code",
    "id": "Q6b6mf-qY3X4"
   },
   "outputs": [],
   "source": [
    "## Q5:  remove all rows that have at least 1 missing value in any column\n",
    "##      this new dataset should still be called grads\n"
   ]
  },
  {
   "cell_type": "code",
   "execution_count": 0,
   "metadata": {
    "colab": {},
    "colab_type": "code",
    "id": "H7hbSAWHbP1Q"
   },
   "outputs": [],
   "source": [
    "## Q6:  What are the major codes for graduates with the top 5 highest unemployment rates\n"
   ]
  },
  {
   "cell_type": "code",
   "execution_count": 0,
   "metadata": {
    "colab": {},
    "colab_type": "code",
    "id": "sg1z0yoCbRDA"
   },
   "outputs": [],
   "source": [
    "## Q7:  What are the three most common Major Categories in the dataset and how often do they appear\n"
   ]
  },
  {
   "cell_type": "code",
   "execution_count": 0,
   "metadata": {
    "colab": {},
    "colab_type": "code",
    "id": "vozOwKyAcTxM"
   },
   "outputs": [],
   "source": [
    "## Q8:  Return the correlation between pct_all_year and pct_low_wage- you calculated these two columns above\n",
    "##      Return a single number only\n"
   ]
  },
  {
   "cell_type": "code",
   "execution_count": 0,
   "metadata": {
    "colab": {},
    "colab_type": "code",
    "id": "yrtlmgXAn54H"
   },
   "outputs": [],
   "source": [
    "## Q9:  Create a horizontal bar plot for the major categories showing the frequency count across the dataset\n",
    "##      the most frequent categories should be at the top of the chart\n"
   ]
  },
  {
   "cell_type": "code",
   "execution_count": 0,
   "metadata": {
    "colab": {},
    "colab_type": "code",
    "id": "kh5Mp1X3oH_1"
   },
   "outputs": [],
   "source": [
    "## Q10:  Using just the Major categories that occurred 10 times or more in the dataset\n",
    "##       Create a scatter plot of pct_all_year and the Share of Women\n"
   ]
  },
  {
   "cell_type": "markdown",
   "metadata": {
    "colab_type": "text",
    "id": "lRCg-36ioH4N"
   },
   "source": [
    "<br>\n",
    "<hr color=\"red\"  width=\"100%\"  size=\"2\">\n",
    "<br>"
   ]
  },
  {
   "cell_type": "markdown",
   "metadata": {
    "colab_type": "text",
    "id": "nUUr7sHprFfu"
   },
   "source": [
    "## Part 5"
   ]
  },
  {
   "cell_type": "markdown",
   "metadata": {
    "colab_type": "text",
    "id": "hCalTzxSrHsd"
   },
   "source": [
    "Submit this notebook, with all of your code and output included, and post this to the exam on QTools."
   ]
  },
  {
   "cell_type": "code",
   "execution_count": 0,
   "metadata": {
    "colab": {},
    "colab_type": "code",
    "id": "rkdfz6KLrOwr"
   },
   "outputs": [],
   "source": []
  }
 ],
 "metadata": {
  "colab": {
   "collapsed_sections": [],
   "name": "IS834 Spring 2019 Midterm.ipynb",
   "private_outputs": true,
   "provenance": [],
   "version": "0.3.2"
  },
  "kernelspec": {
   "display_name": "Python 3",
   "language": "python",
   "name": "python3"
  },
  "language_info": {
   "codemirror_mode": {
    "name": "ipython",
    "version": 3
   },
   "file_extension": ".py",
   "mimetype": "text/x-python",
   "name": "python",
   "nbconvert_exporter": "python",
   "pygments_lexer": "ipython3",
   "version": "3.7.2"
  }
 },
 "nbformat": 4,
 "nbformat_minor": 1
}
