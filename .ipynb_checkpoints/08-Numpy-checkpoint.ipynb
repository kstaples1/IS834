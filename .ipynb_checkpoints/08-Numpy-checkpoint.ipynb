{
 "cells": [
  {
   "cell_type": "markdown",
   "metadata": {
    "colab_type": "text",
    "id": "vBGcH1z3_ych"
   },
   "source": [
    "# Numpy\n",
    "\n"
   ]
  },
  {
   "cell_type": "code",
   "execution_count": 0,
   "metadata": {
    "colab": {},
    "colab_type": "code",
    "id": "EjN_pZ7frWT7"
   },
   "outputs": [],
   "source": [
    "# import the library to get started\n",
    "import numpy as np"
   ]
  },
  {
   "cell_type": "markdown",
   "metadata": {
    "colab_type": "text",
    "id": "9Ttnwfh1o4pR"
   },
   "source": [
    "Numpy is the workhorse underneath a number of our tools that we will be using.  At the core, numpy arrays look a lot like `lists` that we worked through last week, except that they have additional properties:\n",
    "\n",
    "1.  numpy arrays can be multi-dimensional (think: Multiple columns in a spreadsheet)\n",
    "\n",
    "2.  numpy arrays allow us to do calculations on each element on the list at the same time (we can't do this with lists).  This is **element wise** calculations.\n",
    "\n",
    "3.  unlike lists, numpy arrays are (or will be converted) to a single **type**\n",
    "\n",
    ">  ***From above, you see that I imported numpy as np.  This is the standard convention.***"
   ]
  },
  {
   "cell_type": "markdown",
   "metadata": {
    "colab_type": "text",
    "id": "4VNp3QjgsWMo"
   },
   "source": [
    "# Lists to Numpy arrays"
   ]
  },
  {
   "cell_type": "code",
   "execution_count": 0,
   "metadata": {
    "colab": {},
    "colab_type": "code",
    "id": "qYhheUZ2sZne"
   },
   "outputs": [],
   "source": [
    "# create a normal list\n",
    "my_list = [1,2,4,5,6,7]\n",
    "\n",
    "## print out the type and the values\n",
    "print(type(my_list))\n",
    "print(my_list)"
   ]
  },
  {
   "cell_type": "code",
   "execution_count": 0,
   "metadata": {
    "colab": {},
    "colab_type": "code",
    "id": "JtXD2wbttH_z"
   },
   "outputs": [],
   "source": [
    "# create a new list and perform some math on it\n",
    "new_list = [1,2,3]\n",
    "new_list"
   ]
  },
  {
   "cell_type": "code",
   "execution_count": 0,
   "metadata": {
    "colab": {},
    "colab_type": "code",
    "id": "KTVUDIPStafv"
   },
   "outputs": [],
   "source": [
    "# multiple the list by 3\n",
    "new_list * 3"
   ]
  },
  {
   "cell_type": "markdown",
   "metadata": {
    "colab_type": "text",
    "id": "edu7vQ1StufZ"
   },
   "source": [
    "Above shows that just like with `+`, we can repeat the list with `*`"
   ]
  },
  {
   "cell_type": "code",
   "execution_count": 0,
   "metadata": {
    "colab": {},
    "colab_type": "code",
    "id": "LrRonvi0tzqw"
   },
   "outputs": [],
   "source": [
    "# try this again\n",
    "multiplier = [3]\n",
    "new_list * multiplier"
   ]
  },
  {
   "cell_type": "code",
   "execution_count": 0,
   "metadata": {
    "colab": {},
    "colab_type": "code",
    "id": "fRimxciBtfE4"
   },
   "outputs": [],
   "source": [
    "# We see that above throws an error telling us we can do this."
   ]
  },
  {
   "cell_type": "code",
   "execution_count": 0,
   "metadata": {
    "colab": {},
    "colab_type": "code",
    "id": "UHGc1qpGuCD-"
   },
   "outputs": [],
   "source": [
    "# numpy to the rescue\n",
    "np_list = np.array(new_list)\n",
    "np_list"
   ]
  },
  {
   "cell_type": "code",
   "execution_count": 0,
   "metadata": {
    "colab": {},
    "colab_type": "code",
    "id": "1LKRnfHVuK-8"
   },
   "outputs": [],
   "source": [
    "# we converted our list to an numpy array. now lets try it\n",
    "np_list * 3"
   ]
  },
  {
   "cell_type": "markdown",
   "metadata": {
    "colab_type": "text",
    "id": "aCixKikfuRaI"
   },
   "source": [
    "While lists and tuples are powerful in base python, and we will use them later in the course, when it really comes to analyzing data, the foundations of the tools that we will use are in numpy.\n",
    "\n",
    "Simply, the higher level tools use numpy under the hood, but it's important for us to have a baseline understanding of numpy before we dive into pandas."
   ]
  },
  {
   "cell_type": "markdown",
   "metadata": {
    "colab_type": "text",
    "id": "fblKjNDMupn-"
   },
   "source": [
    "# Numpy Arrays - Single Type Only"
   ]
  },
  {
   "cell_type": "markdown",
   "metadata": {
    "colab_type": "text",
    "id": "zRXelIi1utYz"
   },
   "source": [
    "Because numpy arrays are built to do calculations, helping us with analyzing data, each array must be of a single type. "
   ]
  },
  {
   "cell_type": "code",
   "execution_count": 0,
   "metadata": {
    "colab": {},
    "colab_type": "code",
    "id": "pyGtpNFiu8Q-"
   },
   "outputs": [],
   "source": [
    "# create a normal list\n",
    "normal_list = [1, 'a', True]\n",
    "normal_list"
   ]
  },
  {
   "cell_type": "markdown",
   "metadata": {
    "colab_type": "text",
    "id": "6tyArjH1vC5i"
   },
   "source": [
    "This does what we expected, it printed a list, and if we wanted, we could even have a list within a list, as we learned last week."
   ]
  },
  {
   "cell_type": "code",
   "execution_count": 0,
   "metadata": {
    "colab": {},
    "colab_type": "code",
    "id": "W75FXmbkvUQ8"
   },
   "outputs": [],
   "source": [
    "# convert the list to numpy, as we saw above with np.array(<list>)\n",
    "np_convert = np.array(normal_list)\n",
    "np_convert"
   ]
  },
  {
   "cell_type": "markdown",
   "metadata": {
    "colab_type": "text",
    "id": "_sMrSSuzvhUz"
   },
   "source": [
    "## Numpy Conversion Discussion"
   ]
  },
  {
   "cell_type": "markdown",
   "metadata": {
    "colab_type": "text",
    "id": "062OVM_8vpx7"
   },
   "source": [
    "Look at what we have above.  Numpy needs to have all elements in an array be of the same type.  But it didn't error out.\n",
    "\n"
   ]
  },
  {
   "cell_type": "markdown",
   "metadata": {
    "colab_type": "text",
    "id": "7jIqex5zwXV7"
   },
   "source": [
    "> ***Discussion:  What did numpy do to the values?***"
   ]
  },
  {
   "cell_type": "markdown",
   "metadata": {
    "colab_type": "text",
    "id": "jg5gicdjtB7c"
   },
   "source": [
    "# Core numpy features"
   ]
  },
  {
   "cell_type": "markdown",
   "metadata": {
    "colab_type": "text",
    "id": "vXn1izsgxu-d"
   },
   "source": [
    "## Creating NP arrays"
   ]
  },
  {
   "cell_type": "code",
   "execution_count": 0,
   "metadata": {
    "colab": {},
    "colab_type": "code",
    "id": "ktrkRTz6wjEL"
   },
   "outputs": [],
   "source": [
    "# we have already seen numpy array\n",
    "np.array( [1,2,4] )\n"
   ]
  },
  {
   "cell_type": "code",
   "execution_count": 0,
   "metadata": {
    "colab": {},
    "colab_type": "code",
    "id": "ed7bYyt0wx1O"
   },
   "outputs": [],
   "source": [
    "# let's try a tuple\n",
    "np.array(1,2,3)"
   ]
  },
  {
   "cell_type": "code",
   "execution_count": 0,
   "metadata": {
    "colab": {},
    "colab_type": "code",
    "id": "-FU17iqNw6FQ"
   },
   "outputs": [],
   "source": [
    "# we see that numpy yells at the tuple, but confirm we attempted a tuple\n",
    "tup = 1,2,3\n",
    "type(tup)"
   ]
  },
  {
   "cell_type": "markdown",
   "metadata": {
    "colab_type": "text",
    "id": "jgRg2L34xASN"
   },
   "source": [
    "> Takeaway, numpy wants lists."
   ]
  },
  {
   "cell_type": "markdown",
   "metadata": {
    "colab_type": "text",
    "id": "tle7-mLUxZFV"
   },
   "source": [
    "\n",
    "\n",
    "---\n",
    "\n"
   ]
  },
  {
   "cell_type": "markdown",
   "metadata": {
    "colab_type": "text",
    "id": "lc6mI8l5xxnC"
   },
   "source": [
    "## nd arrays"
   ]
  },
  {
   "cell_type": "code",
   "execution_count": 0,
   "metadata": {
    "colab": {},
    "colab_type": "code",
    "id": "V4316W5uxd5z"
   },
   "outputs": [],
   "source": [
    "# remember a list of lists?\n",
    "lol = [ [1,2], [3,4], [5,6] ]\n",
    "lol"
   ]
  },
  {
   "cell_type": "code",
   "execution_count": 0,
   "metadata": {
    "colab": {},
    "colab_type": "code",
    "id": "KpX9retqxkDZ"
   },
   "outputs": [],
   "source": [
    "# bring this into numpy\n",
    "lol_np = np.array(lol)\n",
    "lol_np"
   ]
  },
  {
   "cell_type": "code",
   "execution_count": 0,
   "metadata": {
    "colab": {},
    "colab_type": "code",
    "id": "cO66oc8AxZ95"
   },
   "outputs": [],
   "source": [
    "# what shape is our array\n",
    "lol_np.shape"
   ]
  },
  {
   "cell_type": "markdown",
   "metadata": {
    "colab_type": "text",
    "id": "dLkMkUITx_Pq"
   },
   "source": [
    "> Do you remember last week when we saw this,, it's not exactly this, but for now, we can think of this as a 3 row / 2 column Excel worksheet\n",
    "\n"
   ]
  },
  {
   "cell_type": "code",
   "execution_count": 0,
   "metadata": {
    "colab": {},
    "colab_type": "code",
    "id": "j2gJ6L7cx_qJ"
   },
   "outputs": [],
   "source": [
    "# how many dimensions within the array\n",
    "lol_np.ndim"
   ]
  },
  {
   "cell_type": "code",
   "execution_count": 0,
   "metadata": {
    "colab": {},
    "colab_type": "code",
    "id": "uuGyUxcHx_1F"
   },
   "outputs": [],
   "source": [
    "# how many elements total, or the size\n",
    "lol_np.size"
   ]
  },
  {
   "cell_type": "code",
   "execution_count": 0,
   "metadata": {
    "colab": {},
    "colab_type": "code",
    "id": "BHT9cNdFx_9B"
   },
   "outputs": [],
   "source": [
    "# remember, we can always get help\n",
    "lol_np?"
   ]
  },
  {
   "cell_type": "markdown",
   "metadata": {
    "colab_type": "text",
    "id": "zBdE_-b90nxN"
   },
   "source": [
    "\n",
    "\n",
    "---\n",
    "\n"
   ]
  },
  {
   "cell_type": "markdown",
   "metadata": {
    "colab_type": "text",
    "id": "QhBquSRz0C5S"
   },
   "source": [
    "\n",
    "\n",
    "## Slicing"
   ]
  },
  {
   "cell_type": "code",
   "execution_count": 0,
   "metadata": {
    "colab": {},
    "colab_type": "code",
    "id": "dJgmb8Ku0xFb"
   },
   "outputs": [],
   "source": [
    "# lets slice the array - include everything\n",
    "lol_np[:]"
   ]
  },
  {
   "cell_type": "code",
   "execution_count": 0,
   "metadata": {
    "colab": {},
    "colab_type": "code",
    "id": "w58Nkbbt2D_Q"
   },
   "outputs": [],
   "source": [
    "# get just the first array\n",
    "lol_np[0]"
   ]
  },
  {
   "cell_type": "markdown",
   "metadata": {
    "colab_type": "text",
    "id": "yeZth8wI1kKv"
   },
   "source": [
    "Multidimenstional arrays can be sliced using a comma separated set of tuples"
   ]
  },
  {
   "cell_type": "code",
   "execution_count": 0,
   "metadata": {
    "colab": {},
    "colab_type": "code",
    "id": "kwU_tqyi01q0"
   },
   "outputs": [],
   "source": [
    "# return just 2 \n",
    "lol_np[:1, 1]"
   ]
  },
  {
   "cell_type": "markdown",
   "metadata": {
    "colab_type": "text",
    "id": "msfs09Rr3si_"
   },
   "source": [
    "lets look at a larger nd array"
   ]
  },
  {
   "cell_type": "code",
   "execution_count": 0,
   "metadata": {
    "colab": {},
    "colab_type": "code",
    "id": "AMGI7fuJ0_K3"
   },
   "outputs": [],
   "source": [
    "# generate a larger array\n",
    "np.random.seed(0) # for reproducing exmaple\n",
    "x2 = np.random.randint(10, 20, size=(3, 4))\n",
    "x2"
   ]
  },
  {
   "cell_type": "code",
   "execution_count": 0,
   "metadata": {
    "colab": {},
    "colab_type": "code",
    "id": "dh6UKaRE0x3n"
   },
   "outputs": [],
   "source": [
    "# rows/columns\n",
    "x2.shape"
   ]
  },
  {
   "cell_type": "code",
   "execution_count": 0,
   "metadata": {
    "colab": {},
    "colab_type": "code",
    "id": "pFjKfkCy3VWF"
   },
   "outputs": [],
   "source": [
    "# all \"rows\" and first \"column\"\n",
    "x2[:, 0]"
   ]
  },
  {
   "cell_type": "code",
   "execution_count": 0,
   "metadata": {
    "colab": {},
    "colab_type": "code",
    "id": "tZ4LvXn13gwg"
   },
   "outputs": [],
   "source": [
    "# 2 rows, 3 cols\n",
    "x2[:2, :3]"
   ]
  },
  {
   "cell_type": "code",
   "execution_count": 0,
   "metadata": {
    "colab": {},
    "colab_type": "code",
    "id": "2HlD1XIq4Bvm"
   },
   "outputs": [],
   "source": [
    "# just get one array\n",
    "x2[0]"
   ]
  },
  {
   "cell_type": "code",
   "execution_count": 0,
   "metadata": {
    "colab": {},
    "colab_type": "code",
    "id": "WDz-3zFJ4WRU"
   },
   "outputs": [],
   "source": [
    "# want to reverse?\n",
    "x2[::-1, ::-1]"
   ]
  },
  {
   "cell_type": "markdown",
   "metadata": {
    "colab_type": "text",
    "id": "FwuiY8OQ0wJ4"
   },
   "source": [
    "\n",
    "\n",
    "---\n"
   ]
  },
  {
   "cell_type": "markdown",
   "metadata": {
    "colab_type": "text",
    "id": "11EG0KPi4s1o"
   },
   "source": [
    "# Useful methods"
   ]
  },
  {
   "cell_type": "code",
   "execution_count": 0,
   "metadata": {
    "colab": {},
    "colab_type": "code",
    "id": "SbPyHBnUAAbt"
   },
   "outputs": [],
   "source": [
    "# generate an array of numbers with bounds and spacing\n",
    "x = np.arange(2, 10, 2)\n",
    "x"
   ]
  },
  {
   "cell_type": "code",
   "execution_count": 0,
   "metadata": {
    "colab": {},
    "colab_type": "code",
    "id": "R8bHq99FAEMo"
   },
   "outputs": [],
   "source": [
    "# do some math and finding locations\n",
    "print(\"the mean of the array is {}\".format(str( x.mean() )))   # x.mean()\n",
    "print(\"the largest value in the array is {}\".format(str( x.max() )))   # x.max()\n",
    "print(\"the index for the largest value int he array is {}\".format(str( x.argmax() )))   # x.argmax()\n"
   ]
  },
  {
   "cell_type": "code",
   "execution_count": 0,
   "metadata": {
    "colab": {},
    "colab_type": "code",
    "id": "b25qWL2n74Fm"
   },
   "outputs": [],
   "source": [
    "# we can generate an array of booleans for subetting (helpful with pandas, which we start tonight!)\n",
    "x > 5"
   ]
  },
  {
   "cell_type": "code",
   "execution_count": 0,
   "metadata": {
    "colab": {},
    "colab_type": "code",
    "id": "rs6MUNHE8hXP"
   },
   "outputs": [],
   "source": [
    "# we can also do complex logic - logical and\n",
    "np.logical_and(x > 0, x <5)"
   ]
  },
  {
   "cell_type": "code",
   "execution_count": 0,
   "metadata": {
    "colab": {},
    "colab_type": "code",
    "id": "EUu4QI9n8vMA"
   },
   "outputs": [],
   "source": [
    "# logical or\n",
    "np.logical_or(x > 5, x <7)"
   ]
  },
  {
   "cell_type": "markdown",
   "metadata": {
    "colab_type": "text",
    "id": "XZRaQ4aCB26V"
   },
   "source": [
    "We saw from above that we can generate random numbers, but there are so many options and distributions that we can pull from.\n",
    "\n",
    "> Why?  Often times when we are starting out, it's helpful to generate fake datasets to show an example, make a case, or just play around with other features, like plotting."
   ]
  },
  {
   "cell_type": "code",
   "execution_count": 0,
   "metadata": {
    "colab": {},
    "colab_type": "code",
    "id": "mG3gpUTB6OSh"
   },
   "outputs": [],
   "source": [
    "# what random data can we generate?\n",
    "np.random?"
   ]
  },
  {
   "cell_type": "code",
   "execution_count": 0,
   "metadata": {
    "colab": {},
    "colab_type": "code",
    "id": "jJXTiHhlB6cR"
   },
   "outputs": [],
   "source": [
    "# for example, let's generate a historgram\n",
    "\n",
    "# import matplotlib\n",
    "import matplotlib.pyplot as plt\n",
    "\n",
    "# generate a normally distributed array (dataset or \"column\" in Excel) that has 10K rows \n",
    "norm = np.random.normal(size=10000)"
   ]
  },
  {
   "cell_type": "code",
   "execution_count": 0,
   "metadata": {
    "colab": {},
    "colab_type": "code",
    "id": "_zuXTT9a601K"
   },
   "outputs": [],
   "source": [
    "# plot the distribution -- future lesson, but for a taste of \"why\"\n",
    "\n",
    "# generate the plot object\n",
    "plt.hist(norm)\n",
    "\n",
    "# some options\n",
    "plt.title(\"This is a normal distribution histogram\")\n",
    "\n",
    "# plot inline within the notebook\n",
    "plt.show()"
   ]
  },
  {
   "cell_type": "markdown",
   "metadata": {
    "colab_type": "text",
    "id": "nmdnq6SC6irC"
   },
   "source": [
    "# Summary"
   ]
  },
  {
   "cell_type": "markdown",
   "metadata": {
    "colab_type": "text",
    "id": "9FLjbbWS7TaI"
   },
   "source": [
    "In this notebook, we learned \n",
    "\n",
    "- numpy generates arrays that are very powerful for analysis, and can be thought of enhanced lists\n",
    "\n",
    "- numpy arrays must be of one type, else they will be converted to a singular type\n",
    "\n",
    "- numpy arrays can be multidimensional\n",
    "\n",
    "- numpy arrays can be sliced just like lists, with dimensional slicing occuring `[:, :]`\n",
    "\n",
    "- we can "
   ]
  }
 ],
 "metadata": {
  "colab": {
   "collapsed_sections": [],
   "name": "09-Numpy.ipynb",
   "provenance": [],
   "toc_visible": true,
   "version": "0.3.2"
  },
  "kernelspec": {
   "display_name": "Python 3",
   "language": "python",
   "name": "python3"
  },
  "language_info": {
   "codemirror_mode": {
    "name": "ipython",
    "version": 3
   },
   "file_extension": ".py",
   "mimetype": "text/x-python",
   "name": "python",
   "nbconvert_exporter": "python",
   "pygments_lexer": "ipython3",
   "version": "3.7.2"
  }
 },
 "nbformat": 4,
 "nbformat_minor": 1
}
