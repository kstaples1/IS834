{
 "cells": [
  {
   "cell_type": "markdown",
   "metadata": {
    "colab_type": "text",
    "id": "haH-CBrVpD74"
   },
   "source": [
    "# About\n",
    "\n",
    "This exercise will have you reinforce plotting"
   ]
  },
  {
   "cell_type": "markdown",
   "metadata": {
    "colab_type": "text",
    "id": "x7ZvRAN6pOee"
   },
   "source": [
    "#1.  Setup python for analysis"
   ]
  },
  {
   "cell_type": "code",
   "execution_count": 1,
   "metadata": {
    "colab": {},
    "colab_type": "code",
    "id": "VXfx-3ZepSQV"
   },
   "outputs": [],
   "source": [
    "import matplotlib as plt\n",
    "import pandas as pd\n",
    "import numpy as np"
   ]
  },
  {
   "cell_type": "markdown",
   "metadata": {
    "colab_type": "text",
    "id": "I8_jfFAypUk5"
   },
   "source": [
    "# 2.  Load the dataset\n"
   ]
  },
  {
   "cell_type": "code",
   "execution_count": 2,
   "metadata": {
    "colab": {},
    "colab_type": "code",
    "id": "Mz_VTh4upXFj"
   },
   "outputs": [],
   "source": [
    "# bring in the dataset as inc\n",
    "inc_url = \"https://public.tableau.com/s/sites/default/files/media/Data%20Set-%20Inc5000%20Company%20List_2014.csv\"\n",
    "inc = pd.read_csv(inc_url)"
   ]
  },
  {
   "cell_type": "code",
   "execution_count": 3,
   "metadata": {
    "colab": {},
    "colab_type": "code",
    "id": "O39KmVSwpf3I"
   },
   "outputs": [
    {
     "data": {
      "text/html": [
       "<div>\n",
       "<style scoped>\n",
       "    .dataframe tbody tr th:only-of-type {\n",
       "        vertical-align: middle;\n",
       "    }\n",
       "\n",
       "    .dataframe tbody tr th {\n",
       "        vertical-align: top;\n",
       "    }\n",
       "\n",
       "    .dataframe thead th {\n",
       "        text-align: right;\n",
       "    }\n",
       "</style>\n",
       "<table border=\"1\" class=\"dataframe\">\n",
       "  <thead>\n",
       "    <tr style=\"text-align: right;\">\n",
       "      <th></th>\n",
       "      <th>_input</th>\n",
       "      <th>_num</th>\n",
       "      <th>_widgetName</th>\n",
       "      <th>_source</th>\n",
       "      <th>_resultNumber</th>\n",
       "      <th>_pageUrl</th>\n",
       "      <th>id</th>\n",
       "      <th>rank</th>\n",
       "      <th>workers</th>\n",
       "      <th>company</th>\n",
       "      <th>url</th>\n",
       "      <th>state_l</th>\n",
       "      <th>state_s</th>\n",
       "      <th>city</th>\n",
       "      <th>metro</th>\n",
       "      <th>growth</th>\n",
       "      <th>revenue</th>\n",
       "      <th>industry</th>\n",
       "      <th>yrs_on_list</th>\n",
       "    </tr>\n",
       "  </thead>\n",
       "  <tbody>\n",
       "    <tr>\n",
       "      <th>0</th>\n",
       "      <td>NaN</td>\n",
       "      <td>1</td>\n",
       "      <td>Inc5000 Company List</td>\n",
       "      <td>Inc5000 Company List</td>\n",
       "      <td>1</td>\n",
       "      <td>http://www.inc.com/inc5000list/json/inc5000_20...</td>\n",
       "      <td>22890</td>\n",
       "      <td>1</td>\n",
       "      <td>227</td>\n",
       "      <td>Fuhu</td>\n",
       "      <td>fuhu</td>\n",
       "      <td>California</td>\n",
       "      <td>CA</td>\n",
       "      <td>El Segundo</td>\n",
       "      <td>Los Angeles</td>\n",
       "      <td>158956.9106</td>\n",
       "      <td>195640000</td>\n",
       "      <td>Consumer Products &amp; Services</td>\n",
       "      <td>2</td>\n",
       "    </tr>\n",
       "    <tr>\n",
       "      <th>1</th>\n",
       "      <td>NaN</td>\n",
       "      <td>2</td>\n",
       "      <td>Inc5000 Company List</td>\n",
       "      <td>Inc5000 Company List</td>\n",
       "      <td>2</td>\n",
       "      <td>http://www.inc.com/inc5000list/json/inc5000_20...</td>\n",
       "      <td>25747</td>\n",
       "      <td>2</td>\n",
       "      <td>191</td>\n",
       "      <td>Quest Nutrition</td>\n",
       "      <td>quest-nutrition</td>\n",
       "      <td>California</td>\n",
       "      <td>CA</td>\n",
       "      <td>El Segundo</td>\n",
       "      <td>Los Angeles</td>\n",
       "      <td>57347.9246</td>\n",
       "      <td>82640563</td>\n",
       "      <td>Food &amp; Beverage</td>\n",
       "      <td>1</td>\n",
       "    </tr>\n",
       "    <tr>\n",
       "      <th>2</th>\n",
       "      <td>NaN</td>\n",
       "      <td>3</td>\n",
       "      <td>Inc5000 Company List</td>\n",
       "      <td>Inc5000 Company List</td>\n",
       "      <td>3</td>\n",
       "      <td>http://www.inc.com/inc5000list/json/inc5000_20...</td>\n",
       "      <td>25643</td>\n",
       "      <td>3</td>\n",
       "      <td>145</td>\n",
       "      <td>Reliant Asset Management</td>\n",
       "      <td>reliant-asset-management</td>\n",
       "      <td>Virginia</td>\n",
       "      <td>VA</td>\n",
       "      <td>Arlington</td>\n",
       "      <td>Washington DC</td>\n",
       "      <td>55460.1646</td>\n",
       "      <td>85076502</td>\n",
       "      <td>Business Products &amp; Services</td>\n",
       "      <td>1</td>\n",
       "    </tr>\n",
       "    <tr>\n",
       "      <th>3</th>\n",
       "      <td>NaN</td>\n",
       "      <td>4</td>\n",
       "      <td>Inc5000 Company List</td>\n",
       "      <td>Inc5000 Company List</td>\n",
       "      <td>4</td>\n",
       "      <td>http://www.inc.com/inc5000list/json/inc5000_20...</td>\n",
       "      <td>26098</td>\n",
       "      <td>4</td>\n",
       "      <td>62</td>\n",
       "      <td>Superfish</td>\n",
       "      <td>superfish</td>\n",
       "      <td>California</td>\n",
       "      <td>CA</td>\n",
       "      <td>Palo Alto</td>\n",
       "      <td>San Jose</td>\n",
       "      <td>26042.9630</td>\n",
       "      <td>35293000</td>\n",
       "      <td>Software</td>\n",
       "      <td>1</td>\n",
       "    </tr>\n",
       "    <tr>\n",
       "      <th>4</th>\n",
       "      <td>NaN</td>\n",
       "      <td>5</td>\n",
       "      <td>Inc5000 Company List</td>\n",
       "      <td>Inc5000 Company List</td>\n",
       "      <td>5</td>\n",
       "      <td>http://www.inc.com/inc5000list/json/inc5000_20...</td>\n",
       "      <td>26182</td>\n",
       "      <td>5</td>\n",
       "      <td>92</td>\n",
       "      <td>Acacia Communications</td>\n",
       "      <td>acacia-communications</td>\n",
       "      <td>Massachusetts</td>\n",
       "      <td>MA</td>\n",
       "      <td>Maynard</td>\n",
       "      <td>Boston</td>\n",
       "      <td>20690.4578</td>\n",
       "      <td>77652360</td>\n",
       "      <td>Telecommunications</td>\n",
       "      <td>1</td>\n",
       "    </tr>\n",
       "  </tbody>\n",
       "</table>\n",
       "</div>"
      ],
      "text/plain": [
       "   _input  _num           _widgetName               _source  _resultNumber  \\\n",
       "0     NaN     1  Inc5000 Company List  Inc5000 Company List              1   \n",
       "1     NaN     2  Inc5000 Company List  Inc5000 Company List              2   \n",
       "2     NaN     3  Inc5000 Company List  Inc5000 Company List              3   \n",
       "3     NaN     4  Inc5000 Company List  Inc5000 Company List              4   \n",
       "4     NaN     5  Inc5000 Company List  Inc5000 Company List              5   \n",
       "\n",
       "                                            _pageUrl     id  rank  workers  \\\n",
       "0  http://www.inc.com/inc5000list/json/inc5000_20...  22890     1      227   \n",
       "1  http://www.inc.com/inc5000list/json/inc5000_20...  25747     2      191   \n",
       "2  http://www.inc.com/inc5000list/json/inc5000_20...  25643     3      145   \n",
       "3  http://www.inc.com/inc5000list/json/inc5000_20...  26098     4       62   \n",
       "4  http://www.inc.com/inc5000list/json/inc5000_20...  26182     5       92   \n",
       "\n",
       "                    company                       url        state_l state_s  \\\n",
       "0                      Fuhu                      fuhu     California      CA   \n",
       "1           Quest Nutrition           quest-nutrition     California      CA   \n",
       "2  Reliant Asset Management  reliant-asset-management       Virginia      VA   \n",
       "3                 Superfish                 superfish     California      CA   \n",
       "4     Acacia Communications     acacia-communications  Massachusetts      MA   \n",
       "\n",
       "         city          metro       growth    revenue  \\\n",
       "0  El Segundo    Los Angeles  158956.9106  195640000   \n",
       "1  El Segundo    Los Angeles   57347.9246   82640563   \n",
       "2   Arlington  Washington DC   55460.1646   85076502   \n",
       "3   Palo Alto       San Jose   26042.9630   35293000   \n",
       "4     Maynard         Boston   20690.4578   77652360   \n",
       "\n",
       "                       industry  yrs_on_list  \n",
       "0  Consumer Products & Services            2  \n",
       "1               Food & Beverage            1  \n",
       "2  Business Products & Services            1  \n",
       "3                      Software            1  \n",
       "4            Telecommunications            1  "
      ]
     },
     "execution_count": 3,
     "metadata": {},
     "output_type": "execute_result"
    }
   ],
   "source": [
    "# explore\n",
    "inc.head()"
   ]
  },
  {
   "cell_type": "code",
   "execution_count": 0,
   "metadata": {
    "colab": {},
    "colab_type": "code",
    "id": "HlwIbzSGpi16"
   },
   "outputs": [],
   "source": []
  },
  {
   "cell_type": "markdown",
   "metadata": {
    "colab_type": "text",
    "id": "k-DER03wpoGs"
   },
   "source": [
    "# 3.  Keep a few core columns"
   ]
  },
  {
   "cell_type": "code",
   "execution_count": 6,
   "metadata": {
    "colab": {},
    "colab_type": "code",
    "id": "OoFLGI8-p7e2"
   },
   "outputs": [
    {
     "ename": "KeyError",
     "evalue": "('id', 'rank', 'workers', 'company', 'growth', 'revenue', 'yrs_on_list', 'industry columns')",
     "output_type": "error",
     "traceback": [
      "\u001b[0;31m---------------------------------------------------------------------------\u001b[0m",
      "\u001b[0;31mKeyError\u001b[0m                                  Traceback (most recent call last)",
      "\u001b[0;32m/anaconda3/envs/Python_37/lib/python3.7/site-packages/pandas/core/indexes/base.py\u001b[0m in \u001b[0;36mget_loc\u001b[0;34m(self, key, method, tolerance)\u001b[0m\n\u001b[1;32m   2655\u001b[0m             \u001b[0;32mtry\u001b[0m\u001b[0;34m:\u001b[0m\u001b[0;34m\u001b[0m\u001b[0;34m\u001b[0m\u001b[0m\n\u001b[0;32m-> 2656\u001b[0;31m                 \u001b[0;32mreturn\u001b[0m \u001b[0mself\u001b[0m\u001b[0;34m.\u001b[0m\u001b[0m_engine\u001b[0m\u001b[0;34m.\u001b[0m\u001b[0mget_loc\u001b[0m\u001b[0;34m(\u001b[0m\u001b[0mkey\u001b[0m\u001b[0;34m)\u001b[0m\u001b[0;34m\u001b[0m\u001b[0;34m\u001b[0m\u001b[0m\n\u001b[0m\u001b[1;32m   2657\u001b[0m             \u001b[0;32mexcept\u001b[0m \u001b[0mKeyError\u001b[0m\u001b[0;34m:\u001b[0m\u001b[0;34m\u001b[0m\u001b[0;34m\u001b[0m\u001b[0m\n",
      "\u001b[0;32mpandas/_libs/index.pyx\u001b[0m in \u001b[0;36mpandas._libs.index.IndexEngine.get_loc\u001b[0;34m()\u001b[0m\n",
      "\u001b[0;32mpandas/_libs/index.pyx\u001b[0m in \u001b[0;36mpandas._libs.index.IndexEngine.get_loc\u001b[0;34m()\u001b[0m\n",
      "\u001b[0;32mpandas/_libs/hashtable_class_helper.pxi\u001b[0m in \u001b[0;36mpandas._libs.hashtable.PyObjectHashTable.get_item\u001b[0;34m()\u001b[0m\n",
      "\u001b[0;32mpandas/_libs/hashtable_class_helper.pxi\u001b[0m in \u001b[0;36mpandas._libs.hashtable.PyObjectHashTable.get_item\u001b[0;34m()\u001b[0m\n",
      "\u001b[0;31mKeyError\u001b[0m: ('id', 'rank', 'workers', 'company', 'growth', 'revenue', 'yrs_on_list', 'industry columns')",
      "\nDuring handling of the above exception, another exception occurred:\n",
      "\u001b[0;31mKeyError\u001b[0m                                  Traceback (most recent call last)",
      "\u001b[0;32m<ipython-input-6-37f56f09334d>\u001b[0m in \u001b[0;36m<module>\u001b[0;34m\u001b[0m\n\u001b[1;32m      1\u001b[0m \u001b[0;31m# keep only the id, rank, workers, company, growth, revenue, yrs_on_list, industry columns\u001b[0m\u001b[0;34m\u001b[0m\u001b[0;34m\u001b[0m\u001b[0;34m\u001b[0m\u001b[0m\n\u001b[1;32m      2\u001b[0m \u001b[0;31m# keep the dataset as inc\u001b[0m\u001b[0;34m\u001b[0m\u001b[0;34m\u001b[0m\u001b[0;34m\u001b[0m\u001b[0m\n\u001b[0;32m----> 3\u001b[0;31m \u001b[0minc2\u001b[0m \u001b[0;34m=\u001b[0m \u001b[0minc\u001b[0m\u001b[0;34m[\u001b[0m\u001b[0;34m\"id\"\u001b[0m\u001b[0;34m,\u001b[0m \u001b[0;34m\"rank\"\u001b[0m\u001b[0;34m,\u001b[0m \u001b[0;34m\"workers\"\u001b[0m\u001b[0;34m,\u001b[0m \u001b[0;34m\"company\"\u001b[0m\u001b[0;34m,\u001b[0m \u001b[0;34m\"growth\"\u001b[0m\u001b[0;34m,\u001b[0m \u001b[0;34m\"revenue\"\u001b[0m\u001b[0;34m,\u001b[0m \u001b[0;34m\"yrs_on_list\"\u001b[0m\u001b[0;34m,\u001b[0m \u001b[0;34m\"industry columns\"\u001b[0m\u001b[0;34m]\u001b[0m\u001b[0;34m\u001b[0m\u001b[0;34m\u001b[0m\u001b[0m\n\u001b[0m\u001b[1;32m      4\u001b[0m \u001b[0;34m\u001b[0m\u001b[0m\n",
      "\u001b[0;32m/anaconda3/envs/Python_37/lib/python3.7/site-packages/pandas/core/frame.py\u001b[0m in \u001b[0;36m__getitem__\u001b[0;34m(self, key)\u001b[0m\n\u001b[1;32m   2925\u001b[0m             \u001b[0;32mif\u001b[0m \u001b[0mself\u001b[0m\u001b[0;34m.\u001b[0m\u001b[0mcolumns\u001b[0m\u001b[0;34m.\u001b[0m\u001b[0mnlevels\u001b[0m \u001b[0;34m>\u001b[0m \u001b[0;36m1\u001b[0m\u001b[0;34m:\u001b[0m\u001b[0;34m\u001b[0m\u001b[0;34m\u001b[0m\u001b[0m\n\u001b[1;32m   2926\u001b[0m                 \u001b[0;32mreturn\u001b[0m \u001b[0mself\u001b[0m\u001b[0;34m.\u001b[0m\u001b[0m_getitem_multilevel\u001b[0m\u001b[0;34m(\u001b[0m\u001b[0mkey\u001b[0m\u001b[0;34m)\u001b[0m\u001b[0;34m\u001b[0m\u001b[0;34m\u001b[0m\u001b[0m\n\u001b[0;32m-> 2927\u001b[0;31m             \u001b[0mindexer\u001b[0m \u001b[0;34m=\u001b[0m \u001b[0mself\u001b[0m\u001b[0;34m.\u001b[0m\u001b[0mcolumns\u001b[0m\u001b[0;34m.\u001b[0m\u001b[0mget_loc\u001b[0m\u001b[0;34m(\u001b[0m\u001b[0mkey\u001b[0m\u001b[0;34m)\u001b[0m\u001b[0;34m\u001b[0m\u001b[0;34m\u001b[0m\u001b[0m\n\u001b[0m\u001b[1;32m   2928\u001b[0m             \u001b[0;32mif\u001b[0m \u001b[0mis_integer\u001b[0m\u001b[0;34m(\u001b[0m\u001b[0mindexer\u001b[0m\u001b[0;34m)\u001b[0m\u001b[0;34m:\u001b[0m\u001b[0;34m\u001b[0m\u001b[0;34m\u001b[0m\u001b[0m\n\u001b[1;32m   2929\u001b[0m                 \u001b[0mindexer\u001b[0m \u001b[0;34m=\u001b[0m \u001b[0;34m[\u001b[0m\u001b[0mindexer\u001b[0m\u001b[0;34m]\u001b[0m\u001b[0;34m\u001b[0m\u001b[0;34m\u001b[0m\u001b[0m\n",
      "\u001b[0;32m/anaconda3/envs/Python_37/lib/python3.7/site-packages/pandas/core/indexes/base.py\u001b[0m in \u001b[0;36mget_loc\u001b[0;34m(self, key, method, tolerance)\u001b[0m\n\u001b[1;32m   2656\u001b[0m                 \u001b[0;32mreturn\u001b[0m \u001b[0mself\u001b[0m\u001b[0;34m.\u001b[0m\u001b[0m_engine\u001b[0m\u001b[0;34m.\u001b[0m\u001b[0mget_loc\u001b[0m\u001b[0;34m(\u001b[0m\u001b[0mkey\u001b[0m\u001b[0;34m)\u001b[0m\u001b[0;34m\u001b[0m\u001b[0;34m\u001b[0m\u001b[0m\n\u001b[1;32m   2657\u001b[0m             \u001b[0;32mexcept\u001b[0m \u001b[0mKeyError\u001b[0m\u001b[0;34m:\u001b[0m\u001b[0;34m\u001b[0m\u001b[0;34m\u001b[0m\u001b[0m\n\u001b[0;32m-> 2658\u001b[0;31m                 \u001b[0;32mreturn\u001b[0m \u001b[0mself\u001b[0m\u001b[0;34m.\u001b[0m\u001b[0m_engine\u001b[0m\u001b[0;34m.\u001b[0m\u001b[0mget_loc\u001b[0m\u001b[0;34m(\u001b[0m\u001b[0mself\u001b[0m\u001b[0;34m.\u001b[0m\u001b[0m_maybe_cast_indexer\u001b[0m\u001b[0;34m(\u001b[0m\u001b[0mkey\u001b[0m\u001b[0;34m)\u001b[0m\u001b[0;34m)\u001b[0m\u001b[0;34m\u001b[0m\u001b[0;34m\u001b[0m\u001b[0m\n\u001b[0m\u001b[1;32m   2659\u001b[0m         \u001b[0mindexer\u001b[0m \u001b[0;34m=\u001b[0m \u001b[0mself\u001b[0m\u001b[0;34m.\u001b[0m\u001b[0mget_indexer\u001b[0m\u001b[0;34m(\u001b[0m\u001b[0;34m[\u001b[0m\u001b[0mkey\u001b[0m\u001b[0;34m]\u001b[0m\u001b[0;34m,\u001b[0m \u001b[0mmethod\u001b[0m\u001b[0;34m=\u001b[0m\u001b[0mmethod\u001b[0m\u001b[0;34m,\u001b[0m \u001b[0mtolerance\u001b[0m\u001b[0;34m=\u001b[0m\u001b[0mtolerance\u001b[0m\u001b[0;34m)\u001b[0m\u001b[0;34m\u001b[0m\u001b[0;34m\u001b[0m\u001b[0m\n\u001b[1;32m   2660\u001b[0m         \u001b[0;32mif\u001b[0m \u001b[0mindexer\u001b[0m\u001b[0;34m.\u001b[0m\u001b[0mndim\u001b[0m \u001b[0;34m>\u001b[0m \u001b[0;36m1\u001b[0m \u001b[0;32mor\u001b[0m \u001b[0mindexer\u001b[0m\u001b[0;34m.\u001b[0m\u001b[0msize\u001b[0m \u001b[0;34m>\u001b[0m \u001b[0;36m1\u001b[0m\u001b[0;34m:\u001b[0m\u001b[0;34m\u001b[0m\u001b[0;34m\u001b[0m\u001b[0m\n",
      "\u001b[0;32mpandas/_libs/index.pyx\u001b[0m in \u001b[0;36mpandas._libs.index.IndexEngine.get_loc\u001b[0;34m()\u001b[0m\n",
      "\u001b[0;32mpandas/_libs/index.pyx\u001b[0m in \u001b[0;36mpandas._libs.index.IndexEngine.get_loc\u001b[0;34m()\u001b[0m\n",
      "\u001b[0;32mpandas/_libs/hashtable_class_helper.pxi\u001b[0m in \u001b[0;36mpandas._libs.hashtable.PyObjectHashTable.get_item\u001b[0;34m()\u001b[0m\n",
      "\u001b[0;32mpandas/_libs/hashtable_class_helper.pxi\u001b[0m in \u001b[0;36mpandas._libs.hashtable.PyObjectHashTable.get_item\u001b[0;34m()\u001b[0m\n",
      "\u001b[0;31mKeyError\u001b[0m: ('id', 'rank', 'workers', 'company', 'growth', 'revenue', 'yrs_on_list', 'industry columns')"
     ]
    }
   ],
   "source": [
    "# keep only the id, rank, workers, company, growth, revenue, yrs_on_list, industry columns\n",
    "# keep the dataset as inc\n",
    "inc = inc[\"id\", \"rank\", \"workers\", \"company\", \"growth\", \"revenue\", \"yrs_on_list\", \"industry columns\"]\n",
    "\n"
   ]
  },
  {
   "cell_type": "code",
   "execution_count": 0,
   "metadata": {
    "colab": {},
    "colab_type": "code",
    "id": "XGuX7jP-qP9p"
   },
   "outputs": [],
   "source": []
  },
  {
   "cell_type": "markdown",
   "metadata": {
    "colab_type": "text",
    "id": "qv_0hwEAqReg"
   },
   "source": [
    "#4.  Scatterplot of revenue and works"
   ]
  },
  {
   "cell_type": "code",
   "execution_count": 0,
   "metadata": {
    "colab": {},
    "colab_type": "code",
    "id": "BzB-BUzPqVSq"
   },
   "outputs": [],
   "source": [
    "# create a scatterplot of workers (x) and revenue (y)\n",
    "# give the plot a title Revenue by Workers\n"
   ]
  },
  {
   "cell_type": "markdown",
   "metadata": {
    "colab_type": "text",
    "id": "PDAKLhdjqyrX"
   },
   "source": [
    "# 5.  Create a bartplot "
   ]
  },
  {
   "cell_type": "code",
   "execution_count": 0,
   "metadata": {
    "colab": {},
    "colab_type": "code",
    "id": "yVCjp2StrAZC"
   },
   "outputs": [],
   "source": [
    "## create a horizontal barplot showing the counts by industry\n",
    "## sort the largest industry on the top of the plot\n"
   ]
  },
  {
   "cell_type": "markdown",
   "metadata": {
    "colab_type": "text",
    "id": "KCWa-OTGrn_p"
   },
   "source": [
    "# 6 - Boxplots\n"
   ]
  },
  {
   "cell_type": "code",
   "execution_count": 0,
   "metadata": {
    "colab": {},
    "colab_type": "code",
    "id": "GX7XabUjsacn"
   },
   "outputs": [],
   "source": [
    "# generate a boxplot of revenue for the 1000 companies with the lowest revenue\n"
   ]
  },
  {
   "cell_type": "code",
   "execution_count": 0,
   "metadata": {
    "colab": {},
    "colab_type": "code",
    "id": "pLJuEl-fsoB1"
   },
   "outputs": [],
   "source": []
  },
  {
   "cell_type": "code",
   "execution_count": 0,
   "metadata": {
    "colab": {},
    "colab_type": "code",
    "id": "DCYxGJRptd0i"
   },
   "outputs": [],
   "source": []
  },
  {
   "cell_type": "code",
   "execution_count": 0,
   "metadata": {
    "colab": {},
    "colab_type": "code",
    "id": "Y7vYSbKctk_f"
   },
   "outputs": [],
   "source": []
  }
 ],
 "metadata": {
  "colab": {
   "collapsed_sections": [],
   "name": "17- Plotting Exercise.ipynb",
   "private_outputs": true,
   "provenance": [],
   "version": "0.3.2"
  },
  "kernelspec": {
   "display_name": "Python 3",
   "language": "python",
   "name": "python3"
  },
  "language_info": {
   "codemirror_mode": {
    "name": "ipython",
    "version": 3
   },
   "file_extension": ".py",
   "mimetype": "text/x-python",
   "name": "python",
   "nbconvert_exporter": "python",
   "pygments_lexer": "ipython3",
   "version": "3.7.2"
  }
 },
 "nbformat": 4,
 "nbformat_minor": 1
}
