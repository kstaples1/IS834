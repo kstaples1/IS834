{
 "cells": [
  {
   "cell_type": "markdown",
   "metadata": {
    "colab_type": "text",
    "id": "PRGwT2mT_Ru0"
   },
   "source": [
    "# Refresher Exercise\n",
    "\n",
    "In this notebook, we are going to go through a warmup exercise to reinforce the fundamentals"
   ]
  },
  {
   "cell_type": "markdown",
   "metadata": {
    "colab_type": "text",
    "id": "s5CONLwT_qwO"
   },
   "source": [
    "# Section 1:  Setup our python environment"
   ]
  },
  {
   "cell_type": "code",
   "execution_count": 1,
   "metadata": {
    "colab": {},
    "colab_type": "code",
    "id": "YDUTisT4_usi"
   },
   "outputs": [
    {
     "ename": "NameError",
     "evalue": "name 'helllo' is not defined",
     "output_type": "error",
     "traceback": [
      "\u001b[0;31m\u001b[0m",
      "\u001b[0;31mNameError\u001b[0mTraceback (most recent call last)",
      "\u001b[0;32m<ipython-input-1-35224662c30d>\u001b[0m in \u001b[0;36m<module>\u001b[0;34m()\u001b[0m\n\u001b[0;32m----> 1\u001b[0;31m \u001b[0;32mprint\u001b[0m \u001b[0mhelllo\u001b[0m\u001b[0;34m\u001b[0m\u001b[0m\n\u001b[0m",
      "\u001b[0;31mNameError\u001b[0m: name 'helllo' is not defined"
     ]
    }
   ],
   "source": []
  },
  {
   "cell_type": "markdown",
   "metadata": {
    "colab_type": "text",
    "id": "uFVIoGi0_vbP"
   },
   "source": [
    "# Section 2: Import the dataset\n",
    "\n",
    "Import the dataset as `wine`"
   ]
  },
  {
   "cell_type": "code",
   "execution_count": 0,
   "metadata": {
    "colab": {},
    "colab_type": "code",
    "id": "cKDQijaO_0i3"
   },
   "outputs": [],
   "source": [
    "# bring in the dataset\n",
    "url = \"https://raw.githubusercontent.com/shri1407/Wine-Quality-Dataset/master/winequality-white.csv\"\n"
   ]
  },
  {
   "cell_type": "markdown",
   "metadata": {
    "colab_type": "text",
    "id": "T_8eWTAYAXys"
   },
   "source": [
    "# Section 3: Quick Summary of the dataset\n",
    "\n",
    "What methods do we have available to us to look at and do a quick first pass of the dataset?\n",
    "\n"
   ]
  },
  {
   "cell_type": "code",
   "execution_count": 0,
   "metadata": {
    "colab": {},
    "colab_type": "code",
    "id": "B-ASmfZCAePo"
   },
   "outputs": [],
   "source": []
  },
  {
   "cell_type": "code",
   "execution_count": 0,
   "metadata": {
    "colab": {},
    "colab_type": "code",
    "id": "mdgvP__5Apu4"
   },
   "outputs": [],
   "source": []
  },
  {
   "cell_type": "code",
   "execution_count": 0,
   "metadata": {
    "colab": {},
    "colab_type": "code",
    "id": "_UEi-vDQAtw-"
   },
   "outputs": [],
   "source": []
  },
  {
   "cell_type": "markdown",
   "metadata": {
    "colab_type": "text",
    "id": "35w0W_6fAx9C"
   },
   "source": [
    "# Section 4: Filter Rows and Columns"
   ]
  },
  {
   "cell_type": "code",
   "execution_count": 0,
   "metadata": {
    "colab": {},
    "colab_type": "code",
    "id": "EeczMuoYA4hs"
   },
   "outputs": [],
   "source": [
    "# filter rows where pH greater than or equal to 3.18 or alchohol greater than 10.4\n",
    "# save as wine2\n"
   ]
  },
  {
   "cell_type": "code",
   "execution_count": 0,
   "metadata": {
    "colab": {},
    "colab_type": "code",
    "id": "CUV5YSuyBzP8"
   },
   "outputs": [],
   "source": [
    "## keep only the ph, alcohol, chlorides, and quality columns from our dataset\n",
    "## use the dataset that we filtered above (wine2) as the base dataset\n"
   ]
  },
  {
   "cell_type": "markdown",
   "metadata": {
    "colab_type": "text",
    "id": "5FIh9nshCEBG"
   },
   "source": [
    "# Section 5 - Statistical Correlation of `wine3` dataset\n",
    "\n",
    "Create a correlation matrix from the dataframe.  Hint:  you saw this in the assignment, and can always look around (help, web) for how to generate correlation statistics using pandas dataframes."
   ]
  },
  {
   "cell_type": "code",
   "execution_count": 0,
   "metadata": {
    "colab": {},
    "colab_type": "code",
    "id": "rAdwjubdCqbx"
   },
   "outputs": [],
   "source": [
    "\n"
   ]
  },
  {
   "cell_type": "markdown",
   "metadata": {
    "colab_type": "text",
    "id": "KfX39PYrC7pa"
   },
   "source": [
    "# Section 6 - Scatterplot of quality against alchohol\n",
    "\n",
    "We will go into more plotting tonight, but we saw quick scatter plots last week.  \n",
    "\n",
    "Create a scatter plot of alcohol on the x axis, quality on the y axis.\n",
    "\n"
   ]
  },
  {
   "cell_type": "code",
   "execution_count": 0,
   "metadata": {
    "colab": {},
    "colab_type": "code",
    "id": "FzV6IIVbDGYM"
   },
   "outputs": [],
   "source": [
    "# plot\n",
    ")"
   ]
  },
  {
   "cell_type": "code",
   "execution_count": 0,
   "metadata": {
    "colab": {},
    "colab_type": "code",
    "id": "JYTWhYeuDZ_H"
   },
   "outputs": [],
   "source": [
    "## bonus - add a title to the chart = Alcohol by Quality\n"
   ]
  },
  {
   "cell_type": "code",
   "execution_count": 0,
   "metadata": {
    "colab": {},
    "colab_type": "code",
    "id": "iKUQluKKDvuR"
   },
   "outputs": [],
   "source": []
  }
 ],
 "metadata": {
  "colab": {
   "collapsed_sections": [],
   "name": "Session 6 Refresher Exercise.ipynb",
   "private_outputs": true,
   "provenance": [],
   "toc_visible": true,
   "version": "0.3.2"
  },
  "kernelspec": {
   "display_name": "Python 2",
   "language": "python",
   "name": "python2"
  },
  "language_info": {
   "codemirror_mode": {
    "name": "ipython",
    "version": 2
   },
   "file_extension": ".py",
   "mimetype": "text/x-python",
   "name": "python",
   "nbconvert_exporter": "python",
   "pygments_lexer": "ipython2",
   "version": "2.7.15"
  }
 },
 "nbformat": 4,
 "nbformat_minor": 1
}
