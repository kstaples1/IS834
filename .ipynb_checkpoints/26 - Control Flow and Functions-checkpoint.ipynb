{
 "cells": [
  {
   "cell_type": "code",
   "execution_count": 2,
   "metadata": {
    "colab": {},
    "colab_type": "code",
    "id": "EdKLyxbdJneC"
   },
   "outputs": [
    {
     "ename": "ModuleNotFoundError",
     "evalue": "No module named 'pandas_datareader'",
     "output_type": "error",
     "traceback": [
      "\u001b[0;31m---------------------------------------------------------------------------\u001b[0m",
      "\u001b[0;31mModuleNotFoundError\u001b[0m                       Traceback (most recent call last)",
      "\u001b[0;32m<ipython-input-2-d4c2ec555bdd>\u001b[0m in \u001b[0;36m<module>\u001b[0;34m()\u001b[0m\n\u001b[1;32m      3\u001b[0m \u001b[0;32mimport\u001b[0m \u001b[0mpandas\u001b[0m \u001b[0;32mas\u001b[0m \u001b[0mpd\u001b[0m\u001b[0;34m\u001b[0m\u001b[0;34m\u001b[0m\u001b[0m\n\u001b[1;32m      4\u001b[0m \u001b[0;32mimport\u001b[0m \u001b[0mdatetime\u001b[0m\u001b[0;34m\u001b[0m\u001b[0;34m\u001b[0m\u001b[0m\n\u001b[0;32m----> 5\u001b[0;31m \u001b[0;32mimport\u001b[0m \u001b[0mpandas_datareader\u001b[0m\u001b[0;34m.\u001b[0m\u001b[0mdata\u001b[0m \u001b[0;32mas\u001b[0m \u001b[0mweb\u001b[0m   \u001b[0;31m##  <--- first time we have imported this\u001b[0m\u001b[0;34m\u001b[0m\u001b[0;34m\u001b[0m\u001b[0m\n\u001b[0m",
      "\u001b[0;31mModuleNotFoundError\u001b[0m: No module named 'pandas_datareader'"
     ]
    }
   ],
   "source": [
    "# setup\n",
    "import numpy as np\n",
    "import pandas as pd\n",
    "import datetime\n",
    "import pandas_datareader.data as web   ##  <--- first time we have imported this"
   ]
  },
  {
   "cell_type": "markdown",
   "metadata": {
    "colab_type": "text",
    "id": "HvtWbg2XHwbl"
   },
   "source": [
    "# Control Flow and Functions"
   ]
  },
  {
   "cell_type": "markdown",
   "metadata": {
    "colab_type": "text",
    "id": "JcxyYrTJ6AVl"
   },
   "source": [
    "![](https://encrypted-tbn0.gstatic.com/images?q=tbn:ANd9GcTS-MO16PIRjAPHAjpgW3jFscP6HQNHL0ulJlMSmoqV43UL92bxHw)"
   ]
  },
  {
   "cell_type": "markdown",
   "metadata": {
    "colab_type": "text",
    "id": "hPeDuIn_6GBS"
   },
   "source": [
    "\n",
    "\n",
    "---\n",
    "\n"
   ]
  },
  {
   "cell_type": "markdown",
   "metadata": {
    "colab_type": "text",
    "id": "R0gPpcJ_Hx2S"
   },
   "source": [
    "## For Loops\n",
    "\n",
    "```\n",
    "for i in thing:\n",
    "  do something\n",
    "  ```\n",
    "  \n",
    " We need to initialize a value (`thing`) above, and for each element within `thing`, do something.  \n",
    " \n",
    " For loops are very powerful and let us do one piece of code many times and operate on each element."
   ]
  },
  {
   "cell_type": "code",
   "execution_count": 0,
   "metadata": {
    "colab": {},
    "colab_type": "code",
    "id": "eYh4tb8wIHm-"
   },
   "outputs": [],
   "source": [
    "# basics\n",
    "x = \"economics\"\n",
    "\n",
    "# for loop\n",
    "for i in x:\n",
    "  print(i)"
   ]
  },
  {
   "cell_type": "markdown",
   "metadata": {
    "colab_type": "text",
    "id": "Joyr1J-3JTQV"
   },
   "source": [
    "> Above, each letter of the string is passsed to i, in order, and we simply print it out.  Remember for the first couple of classes, we can slice up strings just like other values within lists."
   ]
  },
  {
   "cell_type": "code",
   "execution_count": 0,
   "metadata": {
    "colab": {},
    "colab_type": "code",
    "id": "U8JiWUZ3JgaO"
   },
   "outputs": [],
   "source": [
    "# a little harder (remember, upper bound is exclusive, so 1-9)\n",
    "my_values = range(1,10)\n",
    "my_values\n",
    "  "
   ]
  },
  {
   "cell_type": "code",
   "execution_count": 0,
   "metadata": {
    "colab": {},
    "colab_type": "code",
    "id": "4Td9racV6Uc9"
   },
   "outputs": [],
   "source": [
    "# what are the values?\n",
    "for i in my_values:\n",
    "  print(i)"
   ]
  },
  {
   "cell_type": "code",
   "execution_count": 0,
   "metadata": {
    "colab": {},
    "colab_type": "code",
    "id": "CjdTksay6ZnS"
   },
   "outputs": [],
   "source": [
    "# but we can also perform operations\n",
    "for i in my_values:\n",
    "  print(i**2)"
   ]
  },
  {
   "cell_type": "code",
   "execution_count": 0,
   "metadata": {
    "colab": {},
    "colab_type": "code",
    "id": "MJUXbc7GJxL5"
   },
   "outputs": [],
   "source": [
    "# create a simple dataframe\n",
    "my_df = pd.DataFrame({'a': np.random.randint(0, 45, size=10), \n",
    "                      'b': np.random.randint(60, 100, size=10)})\n",
    "my_df.head()"
   ]
  },
  {
   "cell_type": "code",
   "execution_count": 0,
   "metadata": {
    "colab": {},
    "colab_type": "code",
    "id": "qWDcyCB-KgQZ"
   },
   "outputs": [],
   "source": [
    "# for each row, print out the product of a and b\n",
    "# not pratical, but introduces the concept of going through elements of our objects for some need\n",
    "for i in my_df.index:\n",
    "  # a slice of the dataframe\n",
    "  tmp = my_df.iloc[i, ]\n",
    "  print(tmp['a'] * tmp['b'])"
   ]
  },
  {
   "cell_type": "markdown",
   "metadata": {
    "colab_type": "text",
    "id": "H_5RZpwO9CIS"
   },
   "source": [
    "### A more complex example\n",
    "\n",
    "While it is more complex, it builds upon all of the pieces that we have learned in class:\n",
    "\n",
    "- leverage lists to store our elements, and as a place to store our data with a simple append\n",
    "- format strings to build a proper url dynamically\n",
    "- read data from the web\n",
    "- add a column to flag which dataset it is\n",
    "- append the data with concat"
   ]
  },
  {
   "cell_type": "code",
   "execution_count": 0,
   "metadata": {
    "colab": {},
    "colab_type": "code",
    "id": "HELgWvafLGwL"
   },
   "outputs": [],
   "source": [
    "# a more complicated approach\n",
    "teams = ['BOS', 'TOR']\n",
    "\n",
    "# create an empty dictionary\n",
    "my_data = []\n",
    "\n",
    "# for each team, get the data and append to my_data\n",
    "for team in teams:\n",
    "  print(team)\n",
    "  \n",
    "  # build the url\n",
    "  url = \"https://www.hockey-reference.com/teams/{}/2019_games.html\".format(team)\n",
    "  print(url)\n",
    "  \n",
    "  ## get the data\n",
    "  tmp_page = pd.read_html(url)\n",
    "  tmp_df = tmp_page[0]\n",
    "  tmp_df['team'] = team\n",
    "  \n",
    "  ## append the html table to the page\n",
    "  my_data.append(tmp_df)\n",
    "  "
   ]
  },
  {
   "cell_type": "code",
   "execution_count": 0,
   "metadata": {
    "colab": {},
    "colab_type": "code",
    "id": "wPTPZlxZ9BWT"
   },
   "outputs": [],
   "source": [
    "# how many elements in my_data\n",
    "len(my_data)"
   ]
  },
  {
   "cell_type": "code",
   "execution_count": 0,
   "metadata": {
    "colab": {},
    "colab_type": "code",
    "id": "NLGnrDC6OfBu"
   },
   "outputs": [],
   "source": [
    "# assign each to a dataframe and confirm\n",
    "df1 = my_data[0]\n",
    "df2 = my_data[1]\n",
    "print(type(df1))\n",
    "print(type(df2))"
   ]
  },
  {
   "cell_type": "code",
   "execution_count": 0,
   "metadata": {
    "colab": {},
    "colab_type": "code",
    "id": "MTwtGY_qOgm9"
   },
   "outputs": [],
   "source": [
    "# last but not least, lets stack them\n",
    "team_data = pd.concat([df1, df2])"
   ]
  },
  {
   "cell_type": "code",
   "execution_count": 0,
   "metadata": {
    "colab": {},
    "colab_type": "code",
    "id": "4NDC4pJxPT62"
   },
   "outputs": [],
   "source": [
    "team_data.head()"
   ]
  },
  {
   "cell_type": "code",
   "execution_count": 0,
   "metadata": {
    "colab": {},
    "colab_type": "code",
    "id": "Mm5hHhMBPYt5"
   },
   "outputs": [],
   "source": [
    "team_data.tail()"
   ]
  },
  {
   "cell_type": "markdown",
   "metadata": {
    "colab_type": "text",
    "id": "C31OE8dbQRcM"
   },
   "source": [
    "### Exercise:\n",
    "\n",
    "- Create a list called colors that has 5 values (as strings): blue, red,  green, orange, yellow\n",
    "- Create an empty list called `characters`\n",
    "- For each element of `colors`, calculate the number of characters in the word and append the result to `characters`\n",
    "- what is the average string length?"
   ]
  },
  {
   "cell_type": "code",
   "execution_count": 0,
   "metadata": {
    "colab": {},
    "colab_type": "code",
    "id": "yHOnAC0E_LV7"
   },
   "outputs": [],
   "source": []
  },
  {
   "cell_type": "markdown",
   "metadata": {
    "colab_type": "text",
    "id": "PiE5mtwMLfPV"
   },
   "source": [
    "\n",
    "\n",
    "---\n",
    "\n"
   ]
  },
  {
   "cell_type": "markdown",
   "metadata": {
    "colab_type": "text",
    "id": "Ywh7oly7_kL3"
   },
   "source": [
    "## If / ELIF / ELSE"
   ]
  },
  {
   "cell_type": "markdown",
   "metadata": {
    "colab_type": "text",
    "id": "amQ2eFPXA-Kx"
   },
   "source": [
    "![](http://i.imgur.com/fqJOBUS.png)"
   ]
  },
  {
   "cell_type": "code",
   "execution_count": 0,
   "metadata": {
    "colab": {},
    "colab_type": "code",
    "id": "xafVUhGV_1HX"
   },
   "outputs": [],
   "source": [
    "# a simple example\n",
    "a = 100\n",
    "b = 50\n",
    "if a > b:\n",
    "  print(\"a is greater than b\")"
   ]
  },
  {
   "cell_type": "code",
   "execution_count": 0,
   "metadata": {
    "colab": {},
    "colab_type": "code",
    "id": "iF9_vP-A__tW"
   },
   "outputs": [],
   "source": [
    "# what happens when the values change?\n",
    "a = 5\n",
    "b = 175\n",
    "if a > b:\n",
    "  print(\"a is greater than b\")"
   ]
  },
  {
   "cell_type": "markdown",
   "metadata": {
    "colab_type": "text",
    "id": "zKOpi3OQAJAu"
   },
   "source": [
    "No output is returned, why?"
   ]
  },
  {
   "cell_type": "code",
   "execution_count": 0,
   "metadata": {
    "colab": {},
    "colab_type": "code",
    "id": "f3J1xNuuAL63"
   },
   "outputs": [],
   "source": [
    "# we can control for this case by:\n",
    "a = 5\n",
    "b = 175\n",
    "if a > b:\n",
    "  print(\"a is greater than b\")\n",
    "else:\n",
    "  print(\"a is smaller than b\")"
   ]
  },
  {
   "cell_type": "markdown",
   "metadata": {
    "colab_type": "text",
    "id": "VZhCeUL3ATh-"
   },
   "source": [
    "Lets change the values one more time:"
   ]
  },
  {
   "cell_type": "code",
   "execution_count": 0,
   "metadata": {
    "colab": {},
    "colab_type": "code",
    "id": "aLiiQpSxAZVv"
   },
   "outputs": [],
   "source": [
    "a = 500\n",
    "b = 500\n",
    "if a > b:\n",
    "  print(\"a is greater than b\")\n",
    "else:\n",
    "  print(\"a is smaller than b\")"
   ]
  },
  {
   "cell_type": "code",
   "execution_count": 0,
   "metadata": {
    "colab": {},
    "colab_type": "code",
    "id": "99zFBqsxAcaF"
   },
   "outputs": [],
   "source": [
    "# we need one more test to ensure we are covering all of the conditions\n",
    "a = 500\n",
    "b = 500\n",
    "if a > b:\n",
    "  print(\"a is greater than b\")\n",
    "elif a == b:\n",
    "  print(\"a and b are equal\")\n",
    "else:\n",
    "  print(\"a is smaller than b\")"
   ]
  },
  {
   "cell_type": "markdown",
   "metadata": {
    "colab_type": "text",
    "id": "GwfZvVMOAot7"
   },
   "source": [
    "### IF/ELIF/Else Exercise\n",
    "\n",
    "For the numbers 1 to 102 (inclusive), store all of the numbers that are divisible evenly by 3 into a list called `by3`.  How many numbers are in `by3`?\n",
    "\n",
    "> Hint:  you can use the module operator `%` to calculate a remainder.  If zero is returned, the numbers are evenly divisible"
   ]
  },
  {
   "cell_type": "code",
   "execution_count": 0,
   "metadata": {
    "colab": {},
    "colab_type": "code",
    "id": "W5WlUWuZBJJ5"
   },
   "outputs": [],
   "source": [
    "\n"
   ]
  },
  {
   "cell_type": "markdown",
   "metadata": {
    "colab_type": "text",
    "id": "UDObokWjLgz3"
   },
   "source": [
    "\n",
    "\n",
    "---\n",
    "\n"
   ]
  },
  {
   "cell_type": "markdown",
   "metadata": {
    "colab_type": "text",
    "id": "HoDQNFkYBhUP"
   },
   "source": [
    "## Functions\n",
    "\n",
    "![](https://bjc.edc.org/bjc-r/img/python/simple_python_function_colored.png)\n",
    "\n",
    "- The image above defines a function using `def`\n",
    "- The function is called `count_up`\n",
    "- The function has one input, which is given a label/name called `num`\n",
    "- A for loop is used to define a range of 1 to `num` + 1\n",
    "- and iterate over that range and simply print the value\n",
    "\n",
    "\n",
    "\n",
    "---\n",
    "\n",
    "Functions are a very powerful way to write code once, include advanced logic with loops and if/else, for example, and return a result.\n",
    "\n",
    "The methods we apply to a dataframe or series are functions tied to the `DataFrame` or `Series` class.\n",
    "\n",
    "We can use functions for repeatable code or to apply advanced logic calculations to our data in pandas."
   ]
  },
  {
   "cell_type": "code",
   "execution_count": 0,
   "metadata": {
    "colab": {},
    "colab_type": "code",
    "id": "z-CAO1ICDpgT"
   },
   "outputs": [],
   "source": [
    "# create a range of values from 1 to 4 (inclusive)\n",
    "x = range(1, 5)\n",
    "x"
   ]
  },
  {
   "cell_type": "code",
   "execution_count": 0,
   "metadata": {
    "colab": {},
    "colab_type": "code",
    "id": "_raGhg4REphN"
   },
   "outputs": [],
   "source": [
    "# square each value\n",
    "np.array(x) ** 2"
   ]
  },
  {
   "cell_type": "code",
   "execution_count": 0,
   "metadata": {
    "colab": {},
    "colab_type": "code",
    "id": "fO5pNp5PFI2s"
   },
   "outputs": [],
   "source": [
    "# we can mirror this easily with a function\n",
    "def squared(x):\n",
    "  return(x ** 2)"
   ]
  },
  {
   "cell_type": "markdown",
   "metadata": {
    "colab_type": "text",
    "id": "GNuQDylGFgBD"
   },
   "source": [
    "> Note the explicit use of the `return`, which tells python the output of our function.  In the image above, print is the \"output\""
   ]
  },
  {
   "cell_type": "code",
   "execution_count": 0,
   "metadata": {
    "colab": {},
    "colab_type": "code",
    "id": "lVaxXX3CFaec"
   },
   "outputs": [],
   "source": [
    "# run the function\n",
    "squared(2)"
   ]
  },
  {
   "cell_type": "code",
   "execution_count": 0,
   "metadata": {
    "colab": {},
    "colab_type": "code",
    "id": "HE0bTfemFcgO"
   },
   "outputs": [],
   "source": [
    "# how about another example\n",
    "squared(-9)"
   ]
  },
  {
   "cell_type": "code",
   "execution_count": 0,
   "metadata": {
    "colab": {},
    "colab_type": "code",
    "id": "VyaoFHu-FrsS"
   },
   "outputs": [],
   "source": [
    "# apply it to the numpy array\n",
    "xnp = np.array(x)\n",
    "squared(xnp)"
   ]
  },
  {
   "cell_type": "code",
   "execution_count": 0,
   "metadata": {
    "colab": {},
    "colab_type": "code",
    "id": "4Fg-Nhd-F8AM"
   },
   "outputs": [],
   "source": [
    "## a more complex example\n",
    "def vodoo_math(a, b):\n",
    "  if a == b:\n",
    "    print(\"the numbers are equal - squaring the numbers\")\n",
    "    return(a*b)\n",
    "  elif a < b:\n",
    "    print(\"a is less than b, subtracting the numbers\")\n",
    "    return(a - b)\n",
    "  else:\n",
    "    print(\"a is greater than b, diving the numbers\")\n",
    "    return(a/b)\n",
    "  "
   ]
  },
  {
   "cell_type": "code",
   "execution_count": 0,
   "metadata": {
    "colab": {},
    "colab_type": "code",
    "id": "OrwkPP83G-qu"
   },
   "outputs": [],
   "source": [
    "# test it out\n",
    "vodoo_math(5, 5)"
   ]
  },
  {
   "cell_type": "code",
   "execution_count": 0,
   "metadata": {
    "colab": {},
    "colab_type": "code",
    "id": "LBKx2xSZHBlD"
   },
   "outputs": [],
   "source": [
    "vodoo_math(1, 4)"
   ]
  },
  {
   "cell_type": "code",
   "execution_count": 0,
   "metadata": {
    "colab": {},
    "colab_type": "code",
    "id": "lhbx_Z-0HDdH"
   },
   "outputs": [],
   "source": [
    "vodoo_math(7, 2)"
   ]
  },
  {
   "cell_type": "markdown",
   "metadata": {
    "colab_type": "text",
    "id": "lhnyXEgFHFXd"
   },
   "source": [
    "### Function Exercise\n",
    "\n",
    "This exercise combines some of the fundamentals from earlier in the semester with the content in this module.\n",
    "\n",
    "Create a function that does the following:\n",
    "- simulates the roll of a dice\n",
    "- if the value is 6, return the value of 2\n",
    "- if the value is 3, 4 or 5, return a value of -1\n",
    "- if the value is 1 return a value of 0\n",
    "- if the value is 2, return a value of 1\n",
    "\n",
    "Create a variable called `points` which has a value of 50\n",
    "\n",
    "Roll the dice 100 times, and for each roll, update the value of points based on the roll\n",
    "\n",
    "Save the current value of `points` as an entry in a list called results (there should be 100 values at the end)\n",
    "\n",
    "Create a line plot that shows the value of `points` change with each roll\n",
    "\n",
    "Hints:\n",
    "\n",
    "- numpy random has a method called `choice`\n",
    "\n",
    "\n",
    "\n"
   ]
  },
  {
   "cell_type": "code",
   "execution_count": 0,
   "metadata": {
    "colab": {},
    "colab_type": "code",
    "id": "wFUDdRm1JMlV"
   },
   "outputs": [],
   "source": [
    "\n",
    "  "
   ]
  },
  {
   "cell_type": "code",
   "execution_count": 0,
   "metadata": {
    "colab": {},
    "colab_type": "code",
    "id": "JF-kNCvIJzMe"
   },
   "outputs": [],
   "source": []
  },
  {
   "cell_type": "code",
   "execution_count": 0,
   "metadata": {
    "colab": {},
    "colab_type": "code",
    "id": "6yg19AKJKXWG"
   },
   "outputs": [],
   "source": []
  },
  {
   "cell_type": "code",
   "execution_count": 0,
   "metadata": {
    "colab": {},
    "colab_type": "code",
    "id": "qJhBnDUrKzVT"
   },
   "outputs": [],
   "source": []
  }
 ],
 "metadata": {
  "colab": {
   "collapsed_sections": [],
   "name": "26 - Control Flow and Functions.ipynb",
   "private_outputs": true,
   "provenance": [],
   "toc_visible": true,
   "version": "0.3.2"
  },
  "kernelspec": {
   "display_name": "Python 3",
   "language": "python",
   "name": "python3"
  },
  "language_info": {
   "codemirror_mode": {
    "name": "ipython",
    "version": 3
   },
   "file_extension": ".py",
   "mimetype": "text/x-python",
   "name": "python",
   "nbconvert_exporter": "python",
   "pygments_lexer": "ipython3",
   "version": "3.6.8"
  }
 },
 "nbformat": 4,
 "nbformat_minor": 1
}
