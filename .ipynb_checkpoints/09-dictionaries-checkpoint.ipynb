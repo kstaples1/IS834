{
 "cells": [
  {
   "cell_type": "markdown",
   "metadata": {
    "colab_type": "text",
    "id": "6dxGibem9Pi9"
   },
   "source": [
    "# Dictionaries"
   ]
  },
  {
   "cell_type": "markdown",
   "metadata": {
    "colab_type": "text",
    "id": "u2ektTHr9Vwe"
   },
   "source": [
    "A dictionary is a collection of key value pairs.\n",
    "\n",
    "Dictionaries can be as simple as a column name and a single value (a 1-row dataset), or many values.  The terminology of key let's us looking the values from the collection.  \n",
    "\n",
    "We will see later that python dictionaries are a very powerful data structure, and if/when we get to playing around with web APIs, fit's naturally with the `JSON` response that the modern web usees.\n",
    "\n",
    "At the end of this notebook, we will get a sense of what this looks like."
   ]
  },
  {
   "cell_type": "markdown",
   "metadata": {
    "colab_type": "text",
    "id": "rH-LDVYTDbKF"
   },
   "source": [
    "\n",
    "\n",
    "---\n",
    "\n"
   ]
  },
  {
   "cell_type": "markdown",
   "metadata": {
    "colab_type": "text",
    "id": "S0QoLmNjE1cG"
   },
   "source": [
    "# Getting Started"
   ]
  },
  {
   "cell_type": "code",
   "execution_count": 1,
   "metadata": {
    "colab": {},
    "colab_type": "code",
    "id": "9ZuxDp3zE45j"
   },
   "outputs": [],
   "source": [
    "# let's get our environment setup\n",
    "import numpy as np"
   ]
  },
  {
   "cell_type": "code",
   "execution_count": 2,
   "metadata": {
    "colab": {},
    "colab_type": "code",
    "id": "vjZvrlYRE_r7"
   },
   "outputs": [
    {
     "name": "stdout",
     "output_type": "stream",
     "text": [
      "{'first_name': 'Brock', 'last_name': 'Tibert'}\n",
      "<class 'dict'>\n"
     ]
    }
   ],
   "source": [
    "# build our first dictionary\n",
    "first_name = \"Brock\"\n",
    "last_name = \"Tibert\"\n",
    "d = {'first_name': first_name, 'last_name': last_name}\n",
    "\n",
    "# what do we have\n",
    "print(d)\n",
    "print(type(d))"
   ]
  },
  {
   "cell_type": "markdown",
   "metadata": {
    "colab_type": "text",
    "id": "fCdOjsQ9FWCQ"
   },
   "source": [
    "### What did we just do?"
   ]
  },
  {
   "cell_type": "markdown",
   "metadata": {
    "colab_type": "text",
    "id": "6dM4QlygGKM5"
   },
   "source": [
    "- We saw that we created the dictionary using `{}` and defining the `key`:`value` pairs.\n",
    "\n",
    "- python confirmed that we created a dictionary via `<class 'dict'>`\n",
    "\n",
    "- We saw that it's possible to define objects (strings of length 1 above) and pass those in as the `values`\n",
    "\n"
   ]
  },
  {
   "cell_type": "markdown",
   "metadata": {
    "colab_type": "text",
    "id": "b33C14n9Gs_M"
   },
   "source": [
    "### Things to know about dictionaries"
   ]
  },
  {
   "cell_type": "markdown",
   "metadata": {
    "colab_type": "text",
    "id": "M8haQUBvGxKN"
   },
   "source": [
    "- the `key` within a dictionary must be unique . \n",
    "\n",
    "-  the `key` must be `immutable`,  that is, numbers, strings, or tuples\n",
    "\n",
    "- the `value` can be any python object\n",
    "\n",
    "Let's confirm this"
   ]
  },
  {
   "cell_type": "code",
   "execution_count": 0,
   "metadata": {
    "colab": {},
    "colab_type": "code",
    "id": "nxP_AALXHQo2"
   },
   "outputs": [],
   "source": [
    "# create a tuple\n",
    "tup = (1,2)\n",
    "\n",
    "# create the dictionary with tuples for the key and for the values\n",
    "{ tup: (first_name, last_name) }"
   ]
  },
  {
   "cell_type": "code",
   "execution_count": 0,
   "metadata": {
    "colab": {},
    "colab_type": "code",
    "id": "-FyHklmaHibP"
   },
   "outputs": [],
   "source": [
    "# try to do the same with the key as a list\n",
    "{ [1,2]: (first_name, last_name) }"
   ]
  },
  {
   "cell_type": "code",
   "execution_count": 0,
   "metadata": {
    "colab": {},
    "colab_type": "code",
    "id": "OQ11yV8yHy5T"
   },
   "outputs": [],
   "source": [
    "# try to create a dictionary with duplicate keys\n",
    "{1: 1, 2:2, 1:3}"
   ]
  },
  {
   "cell_type": "markdown",
   "metadata": {
    "colab_type": "text",
    "id": "ByYfV-uXH68z"
   },
   "source": [
    "#### What just happened - Duplicate Keys\n",
    "\n",
    "We see that instead of yelling at us, python updated the key with the latest value but retained the complete set of unique keys"
   ]
  },
  {
   "cell_type": "code",
   "execution_count": 0,
   "metadata": {
    "colab": {},
    "colab_type": "code",
    "id": "uP5mztRsIFki"
   },
   "outputs": [],
   "source": [
    "# create a dictionary with mixed mode keys\n",
    "test_keys = {'a': 'a', 1:1, 'name': first_name, tup: last_name}\n",
    "test_keys"
   ]
  },
  {
   "cell_type": "markdown",
   "metadata": {
    "colab_type": "text",
    "id": "0j74ULQ5Id7m"
   },
   "source": [
    "#### What just happened - Key order\n",
    "\n",
    "We see that the dictionary was created as expected, but the keys are not in the same order.\n",
    "\n",
    "In python 3.7, it appears that the key order will be retained [per this post](https://mail.python.org/pipermail/python-dev/2017-December/151283.html)\n",
    "\n"
   ]
  },
  {
   "cell_type": "code",
   "execution_count": 0,
   "metadata": {
    "colab": {},
    "colab_type": "code",
    "id": "9KguSlORI9t5"
   },
   "outputs": [],
   "source": [
    "# use the key method to get keys\n",
    "test_keys.keys()\n"
   ]
  },
  {
   "cell_type": "markdown",
   "metadata": {
    "colab_type": "text",
    "id": "bEHG8x8wKyX0"
   },
   "source": [
    "# Examples and Usage"
   ]
  },
  {
   "cell_type": "code",
   "execution_count": 0,
   "metadata": {
    "colab": {},
    "colab_type": "code",
    "id": "5n6fNDvGK9KC"
   },
   "outputs": [],
   "source": [
    "# create some fake data\n",
    "letters = ['A', 'B', 'C', 'D', 'E']\n",
    "numbers = np.random.randint(100, size=15)\n",
    "d = {'a': letters, 'b': numbers}\n",
    "d"
   ]
  },
  {
   "cell_type": "code",
   "execution_count": 0,
   "metadata": {
    "colab": {},
    "colab_type": "code",
    "id": "I2OVVUYfK15w"
   },
   "outputs": [],
   "source": [
    "# get the values for a key - remember slicing?\n",
    "d['a']"
   ]
  },
  {
   "cell_type": "code",
   "execution_count": 0,
   "metadata": {
    "colab": {},
    "colab_type": "code",
    "id": "T_Eyz2qALw5D"
   },
   "outputs": [],
   "source": [
    "# get the entry c by indexing twice, once for key, then for the value\n",
    "d['a'][2]"
   ]
  },
  {
   "cell_type": "code",
   "execution_count": 0,
   "metadata": {
    "colab": {},
    "colab_type": "code",
    "id": "v4N02XpcL4K6"
   },
   "outputs": [],
   "source": [
    "# we gave it a list, we get a list back\n",
    "type(d['a'])\n"
   ]
  },
  {
   "cell_type": "markdown",
   "metadata": {
    "colab_type": "text",
    "id": "7sKdcBjiMHQp"
   },
   "source": [
    "## Add a new key/value pair"
   ]
  },
  {
   "cell_type": "code",
   "execution_count": 0,
   "metadata": {
    "colab": {},
    "colab_type": "code",
    "id": "u7wbL21iMUPk"
   },
   "outputs": [],
   "source": [
    "# define the key and pass the value (below, a tuple)\n",
    "d['c'] = (first_name, last_name)\n",
    "d"
   ]
  },
  {
   "cell_type": "code",
   "execution_count": 0,
   "metadata": {
    "colab": {},
    "colab_type": "code",
    "id": "h5zOfQlkMXyi"
   },
   "outputs": [],
   "source": [
    "# remember that keys are unique, so what happens if we pass in c again\n",
    "d['c'] = first_name\n",
    "d"
   ]
  },
  {
   "cell_type": "markdown",
   "metadata": {
    "colab_type": "text",
    "id": "-bRG1L62MmXC"
   },
   "source": [
    "## Check to see if a key exists\n",
    "\n",
    "We can use `in` to check if a value exists, as keys are just a list overall."
   ]
  },
  {
   "cell_type": "code",
   "execution_count": 0,
   "metadata": {
    "colab": {},
    "colab_type": "code",
    "id": "DdUay7ZvNEX1"
   },
   "outputs": [],
   "source": [
    "# we can use in to check\n",
    "'c' in d.keys()"
   ]
  },
  {
   "cell_type": "code",
   "execution_count": 0,
   "metadata": {
    "colab": {},
    "colab_type": "code",
    "id": "Ud1P8oUvNPM6"
   },
   "outputs": [],
   "source": [
    "# another test\n",
    "'A' in d.keys()"
   ]
  },
  {
   "cell_type": "markdown",
   "metadata": {
    "colab_type": "text",
    "id": "Y8D3PHepNTnO"
   },
   "source": [
    "> ***Remember, case sensitive!***\n",
    "\n",
    "\n",
    "> Yet another example of how python is readable.  We just say `in` to see if a value is `in` something other object's values"
   ]
  },
  {
   "cell_type": "markdown",
   "metadata": {
    "colab_type": "text",
    "id": "A1HIQruiNYow"
   },
   "source": [
    "## Delete a key\n",
    "\n",
    "If we think of keys as columns, and the values as the rows within the spreadsheet, we can also delete the \"column\" of data too.\n",
    "\n",
    "Remember `del` from week 1?"
   ]
  },
  {
   "cell_type": "code",
   "execution_count": 0,
   "metadata": {
    "colab": {},
    "colab_type": "code",
    "id": "fe-lNzDRNxQb"
   },
   "outputs": [],
   "source": [
    "del d['c']\n",
    "d"
   ]
  },
  {
   "cell_type": "markdown",
   "metadata": {
    "colab_type": "text",
    "id": "X1aIDKsxN94N"
   },
   "source": [
    "## Nested data\n",
    "\n",
    "We have seen that lists can have lists ....."
   ]
  },
  {
   "cell_type": "code",
   "execution_count": 0,
   "metadata": {
    "colab": {},
    "colab_type": "code",
    "id": "CrOpBOSTOChR"
   },
   "outputs": [],
   "source": [
    "d2 = {'name': [first_name, last_name] }\n",
    "print(d2)\n",
    "print(type(d2))"
   ]
  },
  {
   "cell_type": "code",
   "execution_count": 0,
   "metadata": {
    "colab": {},
    "colab_type": "code",
    "id": "ZC-VITa2OO8h"
   },
   "outputs": [],
   "source": [
    "# rebuild the key c to be the dictionary we just created, which includes a list\n",
    "d['c'] = d2\n",
    "d"
   ]
  },
  {
   "cell_type": "code",
   "execution_count": 0,
   "metadata": {
    "colab": {},
    "colab_type": "code",
    "id": "KCM8ILIlOZ3m"
   },
   "outputs": [],
   "source": [
    "# we can slice into data we might expect, but we need to account for the nested data structure\n",
    "\n",
    "print(d['c'])\n",
    "\n",
    "print(d['c'].keys())\n",
    "\n",
    "print( d['c']['name'][1])"
   ]
  },
  {
   "cell_type": "markdown",
   "metadata": {
    "colab_type": "text",
    "id": "jgUcUCYgO41j"
   },
   "source": [
    "# Expanding Dictionaries\n",
    "\n",
    "Remember, that just like any other object in python, when we use tools like Google Collab , Jupyter notebooks, or the `ipython` terminal, we use:\n",
    "\n",
    "> object.`<tab>`\n",
    "\n",
    "We can access all of the `methods` \n",
    "\n",
    "or\n",
    "\n",
    "we can simply get help\n"
   ]
  },
  {
   "cell_type": "code",
   "execution_count": 0,
   "metadata": {
    "colab": {},
    "colab_type": "code",
    "id": "-Vb_L78zQqvc"
   },
   "outputs": [],
   "source": [
    "d?"
   ]
  },
  {
   "cell_type": "markdown",
   "metadata": {
    "colab_type": "text",
    "id": "v6hSfci5RZep"
   },
   "source": [
    "## Uncommon dictionary creation syntax"
   ]
  },
  {
   "cell_type": "code",
   "execution_count": 65,
   "metadata": {
    "colab": {
     "base_uri": "https://localhost:8080/",
     "height": 52
    },
    "colab_type": "code",
    "executionInfo": {
     "elapsed": 584,
     "status": "ok",
     "timestamp": 1549481106755,
     "user": {
      "displayName": "Brock Tibert",
      "photoUrl": "",
      "userId": "13148801170360632626"
     },
     "user_tz": 300
    },
    "id": "_xLikWOjQ9Ar",
    "outputId": "7c627539-1ab4-4367-f634-200fa22404ea"
   },
   "outputs": [
    {
     "data": {
      "text/plain": [
       "{'a': ['A', 'B', 'C', 'D', 'E'],\n",
       " 'b': array([77, 66, 97,  2, 36, 72, 30, 84, 44, 53, 64, 98, 93, 61, 11])}"
      ]
     },
     "execution_count": 65,
     "metadata": {
      "tags": []
     },
     "output_type": "execute_result"
    }
   ],
   "source": [
    "# uncommon, but this is also possible\n",
    "dict(a=letters, b=numbers)\n"
   ]
  },
  {
   "cell_type": "code",
   "execution_count": 66,
   "metadata": {
    "colab": {
     "base_uri": "https://localhost:8080/",
     "height": 131
    },
    "colab_type": "code",
    "executionInfo": {
     "elapsed": 319,
     "status": "error",
     "timestamp": 1549481108348,
     "user": {
      "displayName": "Brock Tibert",
      "photoUrl": "",
      "userId": "13148801170360632626"
     },
     "user_tz": 300
    },
    "id": "fB3FaUu1RORh",
    "outputId": "b725a5ff-9743-45a8-a95d-ea83087ed13c"
   },
   "outputs": [
    {
     "ename": "SyntaxError",
     "evalue": "ignored",
     "output_type": "error",
     "traceback": [
      "\u001b[0;36m  File \u001b[0;32m\"<ipython-input-66-9ae02f58e10c>\"\u001b[0;36m, line \u001b[0;32m1\u001b[0m\n\u001b[0;31m    dict(a=letters, 2=numbers)\u001b[0m\n\u001b[0m                   ^\u001b[0m\n\u001b[0;31mSyntaxError\u001b[0m\u001b[0;31m:\u001b[0m keyword can't be an expression\n"
     ]
    }
   ],
   "source": [
    "# but this has limits\n",
    "dict(a=letters, 2=numbers)"
   ]
  },
  {
   "cell_type": "markdown",
   "metadata": {
    "colab_type": "text",
    "id": "lg51EP6ZE2F5"
   },
   "source": [
    "\n",
    "\n",
    "---\n",
    "\n"
   ]
  },
  {
   "cell_type": "markdown",
   "metadata": {
    "colab_type": "text",
    "id": "IqMklaAkDb7H"
   },
   "source": [
    "# A preview of what lies ahead\n"
   ]
  },
  {
   "cell_type": "markdown",
   "metadata": {
    "colab_type": "text",
    "id": "YVWgu-LePoGo"
   },
   "source": [
    "I mentioned above that dictionaries give us a powerful data stucture that plays nicely with the web.  Below we are going to use a web API and read the data into python using pandas in only a few lines of code."
   ]
  },
  {
   "cell_type": "markdown",
   "metadata": {
    "colab_type": "text",
    "id": "nQpba6odDZXi"
   },
   "source": [
    "## weather api - boston location\n",
    "\n",
    "Click on the link below to see what the response from the API looks like\n",
    "\n",
    "https://www.metaweather.com/api/location/search/?query=boston"
   ]
  },
  {
   "cell_type": "markdown",
   "metadata": {
    "colab_type": "text",
    "id": "8ZTm0sMLR3qv"
   },
   "source": [
    "> This format is `JSON` and is a very common format for data being passed around the web, especially through APIs.  However, we have tools that can parse this format into our more Excel-like data structure."
   ]
  },
  {
   "cell_type": "code",
   "execution_count": 67,
   "metadata": {
    "colab": {
     "base_uri": "https://localhost:8080/",
     "height": 78
    },
    "colab_type": "code",
    "executionInfo": {
     "elapsed": 583,
     "status": "ok",
     "timestamp": 1549481346562,
     "user": {
      "displayName": "Brock Tibert",
      "photoUrl": "",
      "userId": "13148801170360632626"
     },
     "user_tz": 300
    },
    "id": "cnr8MMsKDiTe",
    "outputId": "03938880-0940-4cb0-d8ff-9cc9ed53bb60"
   },
   "outputs": [
    {
     "data": {
      "text/html": [
       "<div>\n",
       "<style scoped>\n",
       "    .dataframe tbody tr th:only-of-type {\n",
       "        vertical-align: middle;\n",
       "    }\n",
       "\n",
       "    .dataframe tbody tr th {\n",
       "        vertical-align: top;\n",
       "    }\n",
       "\n",
       "    .dataframe thead th {\n",
       "        text-align: right;\n",
       "    }\n",
       "</style>\n",
       "<table border=\"1\" class=\"dataframe\">\n",
       "  <thead>\n",
       "    <tr style=\"text-align: right;\">\n",
       "      <th></th>\n",
       "      <th>latt_long</th>\n",
       "      <th>location_type</th>\n",
       "      <th>title</th>\n",
       "      <th>woeid</th>\n",
       "    </tr>\n",
       "  </thead>\n",
       "  <tbody>\n",
       "    <tr>\n",
       "      <th>0</th>\n",
       "      <td>42.358631,-71.056702</td>\n",
       "      <td>City</td>\n",
       "      <td>Boston</td>\n",
       "      <td>2367105</td>\n",
       "    </tr>\n",
       "  </tbody>\n",
       "</table>\n",
       "</div>"
      ],
      "text/plain": [
       "              latt_long location_type   title    woeid\n",
       "0  42.358631,-71.056702          City  Boston  2367105"
      ]
     },
     "execution_count": 67,
     "metadata": {
      "tags": []
     },
     "output_type": "execute_result"
    }
   ],
   "source": [
    "# import the pandas library\n",
    "import pandas as pd\n",
    "\n",
    "# bring in the data -- note that below we are using read_json, which tells\n",
    "# python that this is the format\n",
    "xloc = pd.read_json(\"https://www.metaweather.com/api/location/search/?query=boston\")\n",
    "xloc"
   ]
  },
  {
   "cell_type": "code",
   "execution_count": 69,
   "metadata": {
    "colab": {
     "base_uri": "https://localhost:8080/",
     "height": 86
    },
    "colab_type": "code",
    "executionInfo": {
     "elapsed": 320,
     "status": "ok",
     "timestamp": 1549481426057,
     "user": {
      "displayName": "Brock Tibert",
      "photoUrl": "",
      "userId": "13148801170360632626"
     },
     "user_tz": 300
    },
    "id": "nFbb51APDlnT",
    "outputId": "8796d01d-fcd8-4b92-b93f-3c1ba85a0b72"
   },
   "outputs": [
    {
     "data": {
      "text/plain": [
       "{'latt_long': {0: '42.358631,-71.056702'},\n",
       " 'location_type': {0: 'City'},\n",
       " 'title': {0: 'Boston'},\n",
       " 'woeid': {0: 2367105}}"
      ]
     },
     "execution_count": 69,
     "metadata": {
      "tags": []
     },
     "output_type": "execute_result"
    }
   ],
   "source": [
    "# how about showing what this looks like as a dictionary\n",
    "weather = xloc.to_dict()\n",
    "weather"
   ]
  },
  {
   "cell_type": "markdown",
   "metadata": {
    "colab_type": "text",
    "id": "E8PkCba6EAIn"
   },
   "source": [
    "## Quick exercise\n",
    "\n",
    "Write a command to extract the longitude.  \n",
    "\n",
    "> Hint:  remember our exercises from week 1 and how we can look for methods to operate on our data"
   ]
  },
  {
   "cell_type": "code",
   "execution_count": 0,
   "metadata": {
    "colab": {},
    "colab_type": "code",
    "id": "ARlotI13TM5c"
   },
   "outputs": [],
   "source": []
  }
 ],
 "metadata": {
  "colab": {
   "collapsed_sections": [],
   "name": "09-dictionaries.ipynb",
   "provenance": [],
   "toc_visible": true,
   "version": "0.3.2"
  },
  "kernelspec": {
   "display_name": "Python 3",
   "language": "python",
   "name": "python3"
  },
  "language_info": {
   "codemirror_mode": {
    "name": "ipython",
    "version": 3
   },
   "file_extension": ".py",
   "mimetype": "text/x-python",
   "name": "python",
   "nbconvert_exporter": "python",
   "pygments_lexer": "ipython3",
   "version": "3.7.2"
  }
 },
 "nbformat": 4,
 "nbformat_minor": 1
}
