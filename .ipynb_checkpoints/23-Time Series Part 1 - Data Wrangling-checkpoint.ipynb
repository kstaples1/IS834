{
 "cells": [
  {
   "cell_type": "markdown",
   "metadata": {
    "colab_type": "text",
    "id": "Td3hkQ3hjxzY"
   },
   "source": [
    "# Time Series Part 1 - Data Wrangling and Plotting"
   ]
  },
  {
   "cell_type": "markdown",
   "metadata": {
    "colab_type": "text",
    "id": "uTXqtQ8wvFUX"
   },
   "source": [
    "# Setup"
   ]
  },
  {
   "cell_type": "code",
   "execution_count": 0,
   "metadata": {
    "colab": {},
    "colab_type": "code",
    "id": "avYz9tu3JluG"
   },
   "outputs": [],
   "source": [
    "## update the latest seaborn (0.9.0)\n",
    "!pip install seaborn==0.9.0\n"
   ]
  },
  {
   "cell_type": "code",
   "execution_count": 1,
   "metadata": {
    "colab": {},
    "colab_type": "code",
    "id": "u2NphvDnZRrV"
   },
   "outputs": [],
   "source": [
    "## setup our environment\n",
    "import pandas as pd\n",
    "import numpy as np\n",
    "import matplotlib.pyplot as plt\n",
    "import seaborn as sns\n",
    "\n",
    "## pandas print columns/rows option (100)\n",
    "pd.set_option('display.max_columns', 100)\n",
    "pd.set_option('display.max_rows', 100)\n",
    "\n",
    "## set the styling for seaborn (white)\n",
    "sns.set_style(\"dark\")"
   ]
  },
  {
   "cell_type": "markdown",
   "metadata": {
    "colab_type": "text",
    "id": "h90ODolFvIE9"
   },
   "source": [
    "# Date and Time Wrangling\n",
    "\n",
    "We saw last week that we can build datasets use `date_range` from pandas.  The argument `freq` takes a character string to represent the time of date/time we want to build.  The image below shows these values and is taken from the documentation at the link below.\n",
    "\n",
    "http://pandas.pydata.org/pandas-docs/stable/user_guide/timeseries.html#dateoffset-objects"
   ]
  },
  {
   "cell_type": "markdown",
   "metadata": {
    "colab_type": "text",
    "id": "xIk9h-YAjs3l"
   },
   "source": [
    "<img src=\"http://drive.google.com/uc?export=view&id=1U1oVmpmlnkyLba0jc-tGQSZRckmYej_G\">\n",
    "\n"
   ]
  },
  {
   "cell_type": "code",
   "execution_count": 2,
   "metadata": {
    "colab": {},
    "colab_type": "code",
    "id": "DEqm5yl4tvAB"
   },
   "outputs": [
    {
     "data": {
      "text/plain": [
       "DatetimeIndex(['2019-01-01', '2019-01-02', '2019-01-03', '2019-01-04',\n",
       "               '2019-01-05', '2019-01-06', '2019-01-07', '2019-01-08',\n",
       "               '2019-01-09', '2019-01-10', '2019-01-11', '2019-01-12',\n",
       "               '2019-01-13', '2019-01-14', '2019-01-15', '2019-01-16',\n",
       "               '2019-01-17', '2019-01-18', '2019-01-19', '2019-01-20',\n",
       "               '2019-01-21', '2019-01-22', '2019-01-23', '2019-01-24',\n",
       "               '2019-01-25', '2019-01-26', '2019-01-27', '2019-01-28',\n",
       "               '2019-01-29', '2019-01-30', '2019-01-31', '2019-02-01',\n",
       "               '2019-02-02', '2019-02-03', '2019-02-04', '2019-02-05',\n",
       "               '2019-02-06', '2019-02-07', '2019-02-08', '2019-02-09',\n",
       "               '2019-02-10', '2019-02-11', '2019-02-12', '2019-02-13',\n",
       "               '2019-02-14', '2019-02-15', '2019-02-16', '2019-02-17',\n",
       "               '2019-02-18', '2019-02-19', '2019-02-20', '2019-02-21',\n",
       "               '2019-02-22', '2019-02-23', '2019-02-24', '2019-02-25',\n",
       "               '2019-02-26', '2019-02-27', '2019-02-28', '2019-03-01',\n",
       "               '2019-03-02', '2019-03-03', '2019-03-04', '2019-03-05',\n",
       "               '2019-03-06', '2019-03-07', '2019-03-08', '2019-03-09',\n",
       "               '2019-03-10', '2019-03-11', '2019-03-12', '2019-03-13',\n",
       "               '2019-03-14', '2019-03-15', '2019-03-16', '2019-03-17',\n",
       "               '2019-03-18', '2019-03-19', '2019-03-20', '2019-03-21',\n",
       "               '2019-03-22', '2019-03-23', '2019-03-24', '2019-03-25',\n",
       "               '2019-03-26', '2019-03-27'],\n",
       "              dtype='datetime64[ns]', freq='D')"
      ]
     },
     "execution_count": 2,
     "metadata": {},
     "output_type": "execute_result"
    }
   ],
   "source": [
    "## start basic: generate the days of the year for 2019 up through March 27\n",
    "days19 = pd.date_range(\"2019-01-01\", \"2019-03-27\", freq=\"D\")\n",
    "days19"
   ]
  },
  {
   "cell_type": "code",
   "execution_count": 3,
   "metadata": {
    "colab": {},
    "colab_type": "code",
    "id": "bGMtQqQAyUoi"
   },
   "outputs": [
    {
     "data": {
      "text/html": [
       "<div>\n",
       "<style scoped>\n",
       "    .dataframe tbody tr th:only-of-type {\n",
       "        vertical-align: middle;\n",
       "    }\n",
       "\n",
       "    .dataframe tbody tr th {\n",
       "        vertical-align: top;\n",
       "    }\n",
       "\n",
       "    .dataframe thead th {\n",
       "        text-align: right;\n",
       "    }\n",
       "</style>\n",
       "<table border=\"1\" class=\"dataframe\">\n",
       "  <thead>\n",
       "    <tr style=\"text-align: right;\">\n",
       "      <th></th>\n",
       "      <th>returns</th>\n",
       "    </tr>\n",
       "  </thead>\n",
       "  <tbody>\n",
       "    <tr>\n",
       "      <th>2019-01-01</th>\n",
       "      <td>0.844868</td>\n",
       "    </tr>\n",
       "    <tr>\n",
       "      <th>2019-01-02</th>\n",
       "      <td>2.785651</td>\n",
       "    </tr>\n",
       "    <tr>\n",
       "      <th>2019-01-03</th>\n",
       "      <td>0.654903</td>\n",
       "    </tr>\n",
       "    <tr>\n",
       "      <th>2019-01-04</th>\n",
       "      <td>0.151442</td>\n",
       "    </tr>\n",
       "    <tr>\n",
       "      <th>2019-01-05</th>\n",
       "      <td>-0.198513</td>\n",
       "    </tr>\n",
       "  </tbody>\n",
       "</table>\n",
       "</div>"
      ],
      "text/plain": [
       "             returns\n",
       "2019-01-01  0.844868\n",
       "2019-01-02  2.785651\n",
       "2019-01-03  0.654903\n",
       "2019-01-04  0.151442\n",
       "2019-01-05 -0.198513"
      ]
     },
     "execution_count": 3,
     "metadata": {},
     "output_type": "execute_result"
    }
   ],
   "source": [
    "## lets make this a dataframe, with the date as the index and a random values\n",
    "returns = {'returns':np.random.normal(0, 2.5, size=len(days19))}\n",
    "year19 = pd.DataFrame(returns, index=days19)\n",
    "year19.head()"
   ]
  },
  {
   "cell_type": "code",
   "execution_count": 0,
   "metadata": {
    "colab": {},
    "colab_type": "code",
    "id": "EYHhXcD7zY_f"
   },
   "outputs": [],
   "source": [
    "# quick plot\n",
    "year19.plot(figsize=(12,5))"
   ]
  },
  {
   "cell_type": "code",
   "execution_count": 0,
   "metadata": {
    "colab": {},
    "colab_type": "code",
    "id": "6bxfUCDp3Z72"
   },
   "outputs": [],
   "source": [
    "## what about generating data by minute?\n",
    "min19 = pd.date_range(\"2019-01-01\", \"2019-03-27\", freq=\"T\")\n",
    "min19"
   ]
  },
  {
   "cell_type": "code",
   "execution_count": 0,
   "metadata": {
    "colab": {},
    "colab_type": "code",
    "id": "J3ynHeGa32Uu"
   },
   "outputs": [],
   "source": [
    "min19df = pd.DataFrame({'a':np.random.normal(0,2,len(min19))}, index=min19)\n",
    "min19df.head()"
   ]
  },
  {
   "cell_type": "code",
   "execution_count": 0,
   "metadata": {
    "colab": {},
    "colab_type": "code",
    "id": "1re2OcEw4GR1"
   },
   "outputs": [],
   "source": [
    "# another quick plot\n",
    "min19df.plot(figsize=(15, 5))"
   ]
  },
  {
   "cell_type": "markdown",
   "metadata": {
    "colab_type": "text",
    "id": "_0a1UJ964KI9"
   },
   "source": [
    "## Quick Exercise: \n",
    "\n",
    "Generate a random weekly dataframe (or Series) and plot it"
   ]
  },
  {
   "cell_type": "code",
   "execution_count": 0,
   "metadata": {
    "colab": {},
    "colab_type": "code",
    "id": "nl8iCweb47qr"
   },
   "outputs": [],
   "source": [
    "## create the dataset"
   ]
  },
  {
   "cell_type": "code",
   "execution_count": 0,
   "metadata": {
    "colab": {},
    "colab_type": "code",
    "id": "KS2d1dfj5ADM"
   },
   "outputs": [],
   "source": [
    "## plot it"
   ]
  },
  {
   "cell_type": "markdown",
   "metadata": {
    "colab_type": "text",
    "id": "ENx8hoqN5BFf"
   },
   "source": [
    "# Additional Date Parts\n",
    "\n",
    "We saw last week that we could extract dateparts.  Let's look at a few more, quickly."
   ]
  },
  {
   "cell_type": "code",
   "execution_count": 0,
   "metadata": {
    "colab": {},
    "colab_type": "code",
    "id": "ECqcPSFG5GzR"
   },
   "outputs": [],
   "source": [
    "year19['date'] = year19.index\n",
    "year19.head()"
   ]
  },
  {
   "cell_type": "code",
   "execution_count": 0,
   "metadata": {
    "colab": {},
    "colab_type": "code",
    "id": "DgYYgeJn5lsc"
   },
   "outputs": [],
   "source": [
    "year19['weekday'] = year19.date.dt.weekday\n",
    "year19['quarter'] = year19.date.dt.quarter\n",
    "year19['weekyear'] = year19.date.dt.weekofyear\n",
    "year19['dayyear'] = year19.date.dt.dayofyear"
   ]
  },
  {
   "cell_type": "code",
   "execution_count": 0,
   "metadata": {
    "colab": {},
    "colab_type": "code",
    "id": "Bcig0fwI5vsq"
   },
   "outputs": [],
   "source": [
    "year19.tail()"
   ]
  },
  {
   "cell_type": "markdown",
   "metadata": {
    "colab_type": "text",
    "id": "vqH2PY7d6fuN"
   },
   "source": [
    "# Filtering with Dates\n",
    "\n",
    "Lets use the first dataset, year19"
   ]
  },
  {
   "cell_type": "markdown",
   "metadata": {
    "colab_type": "text",
    "id": "6cYIFMU2ASRF"
   },
   "source": [
    "### When the column is a datetime"
   ]
  },
  {
   "cell_type": "code",
   "execution_count": 0,
   "metadata": {
    "colab": {},
    "colab_type": "code",
    "id": "s-NaQcUy65F3"
   },
   "outputs": [],
   "source": [
    "## Keep just February\n",
    "feb19 = year19.loc[(year19['date'] >= '2019-02-01') & (year19['date'] <= '2019-02-28'), ]"
   ]
  },
  {
   "cell_type": "code",
   "execution_count": 0,
   "metadata": {
    "colab": {},
    "colab_type": "code",
    "id": "nFz55THs-Lzk"
   },
   "outputs": [],
   "source": [
    "# print out the first and last date\n",
    "print(feb19['date'].min())\n",
    "print(feb19['date'].max())"
   ]
  },
  {
   "cell_type": "markdown",
   "metadata": {
    "colab_type": "text",
    "id": "pSzv0_uRAWcZ"
   },
   "source": [
    "## When the index is datetime"
   ]
  },
  {
   "cell_type": "code",
   "execution_count": 0,
   "metadata": {
    "colab": {},
    "colab_type": "code",
    "id": "5DOkRJVw-L2X"
   },
   "outputs": [],
   "source": [
    "## same filter\n",
    "feb19_index = year19.loc[\"2019-02-01\":\"2019-02-28\", ]"
   ]
  },
  {
   "cell_type": "code",
   "execution_count": 0,
   "metadata": {
    "colab": {},
    "colab_type": "code",
    "id": "_J3BlPDn-L4p"
   },
   "outputs": [],
   "source": [
    "# print out the first and last date\n",
    "print(feb19_index['date'].min())\n",
    "print(feb19_index['date'].max())"
   ]
  },
  {
   "cell_type": "markdown",
   "metadata": {
    "colab_type": "text",
    "id": "L-llF6w6-L6n"
   },
   "source": [
    "## We can also use time in the filter too\n",
    "\n",
    "Use the `min19df` dataframe and select a date and time range"
   ]
  },
  {
   "cell_type": "code",
   "execution_count": 0,
   "metadata": {
    "colab": {},
    "colab_type": "code",
    "id": "YIqSt8PgBI5d"
   },
   "outputs": [],
   "source": [
    "# quick refresher\n",
    "min19df.info()"
   ]
  },
  {
   "cell_type": "code",
   "execution_count": 0,
   "metadata": {
    "colab": {},
    "colab_type": "code",
    "id": "qG3uxzoNBDPd"
   },
   "outputs": [],
   "source": [
    "# filter st paddys day\n",
    "paddy = min19df.loc['2019-03-17 00:00:00':'2019-03-17 23:59:59', ]"
   ]
  },
  {
   "cell_type": "code",
   "execution_count": 0,
   "metadata": {
    "colab": {},
    "colab_type": "code",
    "id": "8vxVtIFYBWp3"
   },
   "outputs": [],
   "source": [
    "# check what we have\n",
    "print(paddy.index.min())\n",
    "print(paddy.index.max())"
   ]
  },
  {
   "cell_type": "code",
   "execution_count": 0,
   "metadata": {
    "colab": {},
    "colab_type": "code",
    "id": "-TyWKTiuBg7U"
   },
   "outputs": [],
   "source": [
    "# and because its by minute, how many rows?\n",
    "len(paddy)"
   ]
  },
  {
   "cell_type": "code",
   "execution_count": 0,
   "metadata": {
    "colab": {},
    "colab_type": "code",
    "id": "DtTRPkoTBlvS"
   },
   "outputs": [],
   "source": [
    "# does this make sense (minutes * hours in a day)?\n",
    "60*24"
   ]
  },
  {
   "cell_type": "markdown",
   "metadata": {
    "colab_type": "text",
    "id": "Q1ocAokf-L-o"
   },
   "source": [
    "# Reshaping Data to fit a Timeseries Format - Melt\n",
    "\n",
    "Generally speaking, we have seen that our data work well for time series when each observation is a row, and just one column representing the date/time.  \n",
    "\n",
    "Sometimes we get reports from our team/clients where the date/time is across the columns, where each column is a date and the cell is the value.  While this makes it easy to see in a spreadsheet form, often we need to change the shape of the data to go to the \"long\" format we have been using.\n",
    "\n",
    "In pandas, we can `melt` the data.\n",
    "\n",
    "> Download the stocks.csv file on Questrom Tools and import it as stocks"
   ]
  },
  {
   "cell_type": "code",
   "execution_count": 0,
   "metadata": {
    "colab": {},
    "colab_type": "code",
    "id": "s-fGZVSn-OZK"
   },
   "outputs": [],
   "source": [
    "## read in the file\n",
    "stocks = pd.read_csv(\"stocks.csv\")"
   ]
  },
  {
   "cell_type": "code",
   "execution_count": 0,
   "metadata": {
    "colab": {},
    "colab_type": "code",
    "id": "6yfzx9QuI6ci"
   },
   "outputs": [],
   "source": [
    "## first few rows\n",
    "stocks.head()"
   ]
  },
  {
   "cell_type": "code",
   "execution_count": 0,
   "metadata": {
    "colab": {},
    "colab_type": "code",
    "id": "BhZ23rleI8kN"
   },
   "outputs": [],
   "source": [
    "## melt the dataset from wide (all of the dates as each column, to rows\n",
    "stocks_long = stocks.melt(id_vars = \"ticker\")"
   ]
  },
  {
   "cell_type": "code",
   "execution_count": 0,
   "metadata": {
    "colab": {},
    "colab_type": "code",
    "id": "bQ-A9tx1JPBf"
   },
   "outputs": [],
   "source": [
    "# take a look\n",
    "stocks_long.head()"
   ]
  },
  {
   "cell_type": "code",
   "execution_count": 0,
   "metadata": {
    "colab": {},
    "colab_type": "code",
    "id": "R012qeg7JQhU"
   },
   "outputs": [],
   "source": [
    "# we can use other arguments to clean this up\n",
    "stocks_long = stocks.melt(id_vars=\"ticker\", var_name=\"date\", value_name=\"close\")\n",
    "stocks_long.head()"
   ]
  },
  {
   "cell_type": "code",
   "execution_count": 0,
   "metadata": {
    "colab": {},
    "colab_type": "code",
    "id": "UOiX4MAOJdNl"
   },
   "outputs": [],
   "source": [
    "# check the types\n",
    "stocks_long.dtypes"
   ]
  },
  {
   "cell_type": "code",
   "execution_count": 0,
   "metadata": {
    "colab": {},
    "colab_type": "code",
    "id": "5EghAll_JnJ8"
   },
   "outputs": [],
   "source": [
    "# as expected, we need to change the column types\n",
    "# http://strftime.org/\n",
    "stocks_long['date'] = pd.to_datetime(stocks_long['date'], format=\"%m/%d/%y\")"
   ]
  },
  {
   "cell_type": "code",
   "execution_count": 0,
   "metadata": {
    "colab": {},
    "colab_type": "code",
    "id": "3SNy-Bq9KFOj"
   },
   "outputs": [],
   "source": [
    "# confirm\n",
    "stocks_long.dtypes"
   ]
  },
  {
   "cell_type": "markdown",
   "metadata": {
    "colab_type": "text",
    "id": "LhSG6B_7KHx4"
   },
   "source": [
    "## Quick Exercise\n",
    "\n",
    "For each ticker, calcualte the min/max/and average close"
   ]
  },
  {
   "cell_type": "code",
   "execution_count": 0,
   "metadata": {
    "colab": {},
    "colab_type": "code",
    "id": "fL6DZ17kKkMD"
   },
   "outputs": [],
   "source": []
  },
  {
   "cell_type": "code",
   "execution_count": 0,
   "metadata": {
    "colab": {},
    "colab_type": "code",
    "id": "HhwsKiwLKlFW"
   },
   "outputs": [],
   "source": []
  },
  {
   "cell_type": "code",
   "execution_count": 0,
   "metadata": {
    "colab": {},
    "colab_type": "code",
    "id": "PDSPL4q6KlMK"
   },
   "outputs": [],
   "source": []
  },
  {
   "cell_type": "markdown",
   "metadata": {
    "colab_type": "text",
    "id": "ihfi-6UZKliA"
   },
   "source": [
    "# Plotting multiple series\n",
    "\n",
    "There is nothing stopping us from plotting the tickers together"
   ]
  },
  {
   "cell_type": "code",
   "execution_count": 0,
   "metadata": {
    "colab": {},
    "colab_type": "code",
    "id": "91kmpYy7KuMN"
   },
   "outputs": [],
   "source": [
    "sns.lineplot(x=\"date\", y=\"close\", hue=\"ticker\", data=stocks_long)"
   ]
  },
  {
   "cell_type": "code",
   "execution_count": 0,
   "metadata": {
    "colab": {},
    "colab_type": "code",
    "id": "7TExzR-dK4KI"
   },
   "outputs": [],
   "source": []
  }
 ],
 "metadata": {
  "colab": {
   "collapsed_sections": [],
   "name": "23-Time Series Part 1 - Data Wrangling.ipynb",
   "private_outputs": true,
   "provenance": [],
   "toc_visible": true,
   "version": "0.3.2"
  },
  "kernelspec": {
   "display_name": "Python 3",
   "language": "python",
   "name": "python3"
  },
  "language_info": {
   "codemirror_mode": {
    "name": "ipython",
    "version": 3
   },
   "file_extension": ".py",
   "mimetype": "text/x-python",
   "name": "python",
   "nbconvert_exporter": "python",
   "pygments_lexer": "ipython3",
   "version": "3.7.2"
  }
 },
 "nbformat": 4,
 "nbformat_minor": 1
}
