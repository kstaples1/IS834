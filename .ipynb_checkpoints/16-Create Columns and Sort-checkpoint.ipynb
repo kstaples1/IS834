{
 "cells": [
  {
   "cell_type": "markdown",
   "metadata": {
    "colab_type": "text",
    "id": "o_ecwOHZQ8wB"
   },
   "source": [
    "# About\n",
    "\n",
    "This module will run throught he basics of creating columns and sorting data."
   ]
  },
  {
   "cell_type": "code",
   "execution_count": 1,
   "metadata": {
    "colab": {},
    "colab_type": "code",
    "id": "Td5TPvlsRFV8"
   },
   "outputs": [],
   "source": [
    "# import our tools\n",
    "import pandas as pd\n",
    "import numpy as np"
   ]
  },
  {
   "cell_type": "code",
   "execution_count": 2,
   "metadata": {
    "colab": {},
    "colab_type": "code",
    "id": "QLGxGUvxRIXJ"
   },
   "outputs": [
    {
     "name": "stdout",
     "output_type": "stream",
     "text": [
      "<class 'pandas.core.frame.DataFrame'>\n",
      "RangeIndex: 1534 entries, 0 to 1533\n",
      "Columns: 145 entries, ID number to Endowment assets (year end) per FTE enrollment (FASB)\n",
      "dtypes: float64(116), int64(2), object(27)\n",
      "memory usage: 1.7+ MB\n"
     ]
    }
   ],
   "source": [
    "# bring in the college dataset\n",
    "ipeds_url = \"https://public.tableau.com/s/sites/default/files/media/Resources/IPEDS_data.xlsx\"\n",
    "ipeds = pd.read_excel(ipeds_url)\n",
    "ipeds.info()"
   ]
  },
  {
   "cell_type": "markdown",
   "metadata": {
    "colab_type": "text",
    "id": "BpTjuxRNRRVm"
   },
   "source": [
    "# Creating Columns\n",
    "\n"
   ]
  },
  {
   "cell_type": "code",
   "execution_count": 3,
   "metadata": {
    "colab": {},
    "colab_type": "code",
    "id": "WO1bvrIGRdlO"
   },
   "outputs": [
    {
     "data": {
      "text/plain": [
       "['ID number',\n",
       " 'Name',\n",
       " 'year',\n",
       " 'ZIP code',\n",
       " 'Highest degree offered',\n",
       " 'County name',\n",
       " 'Longitude location of institution',\n",
       " 'Latitude location of institution',\n",
       " 'Religious affiliation',\n",
       " 'Offers Less than one year certificate',\n",
       " 'Offers One but less than two years certificate',\n",
       " \"Offers Associate's degree\",\n",
       " 'Offers Two but less than 4 years certificate',\n",
       " \"Offers Bachelor's degree\",\n",
       " 'Offers Postbaccalaureate certificate',\n",
       " \"Offers Master's degree\",\n",
       " \"Offers Post-master's certificate\",\n",
       " \"Offers Doctor's degree - research/scholarship\",\n",
       " \"Offers Doctor's degree - professional practice\",\n",
       " \"Offers Doctor's degree - other\",\n",
       " 'Offers Other degree',\n",
       " 'Applicants total',\n",
       " 'Admissions total',\n",
       " 'Enrolled total',\n",
       " 'Percent of freshmen submitting SAT scores',\n",
       " 'Percent of freshmen submitting ACT scores',\n",
       " 'SAT Critical Reading 25th percentile score',\n",
       " 'SAT Critical Reading 75th percentile score',\n",
       " 'SAT Math 25th percentile score',\n",
       " 'SAT Math 75th percentile score',\n",
       " 'SAT Writing 25th percentile score',\n",
       " 'SAT Writing 75th percentile score',\n",
       " 'ACT Composite 25th percentile score',\n",
       " 'ACT Composite 75th percentile score',\n",
       " 'Estimated enrollment, total',\n",
       " 'Estimated enrollment, full time',\n",
       " 'Estimated enrollment, part time',\n",
       " 'Estimated undergraduate enrollment, total',\n",
       " 'Estimated undergraduate enrollment, full time',\n",
       " 'Estimated undergraduate enrollment, part time',\n",
       " 'Estimated freshman undergraduate enrollment, total',\n",
       " 'Estimated freshman enrollment, full time',\n",
       " 'Estimated freshman enrollment, part time',\n",
       " 'Estimated graduate enrollment, total',\n",
       " 'Estimated graduate enrollment, full time',\n",
       " 'Estimated graduate enrollment, part time',\n",
       " \"Associate's degrees awarded\",\n",
       " \"Bachelor's degrees awarded\",\n",
       " \"Master's degrees awarded\",\n",
       " \"Doctor's degrese - research/scholarship awarded\",\n",
       " \"Doctor's degrees - professional practice awarded\",\n",
       " \"Doctor's degrees - other awarded\",\n",
       " 'Certificates of less than 1-year awarded',\n",
       " 'Certificates of 1 but less than 2-years awarded',\n",
       " 'Certificates of 2 but less than 4-years awarded',\n",
       " 'Postbaccalaureate certificates awarded',\n",
       " \"Post-master's certificates awarded\",\n",
       " \"Number of students receiving an Associate's degree\",\n",
       " \"Number of students receiving a Bachelor's degree\",\n",
       " \"Number of students receiving a Master's degree\",\n",
       " \"Number of students receiving a Doctor's degree\",\n",
       " 'Number of students receiving a certificate of less than 1-year',\n",
       " 'Number of students receiving a certificate of 1 but less than 4-years',\n",
       " \"Number of students receiving a Postbaccalaureate or Post-master's certificate\",\n",
       " 'Percent admitted - total',\n",
       " 'Admissions yield - total',\n",
       " 'Tuition and fees, 2010-11',\n",
       " 'Tuition and fees, 2011-12',\n",
       " 'Tuition and fees, 2012-13',\n",
       " 'Tuition and fees, 2013-14',\n",
       " 'Total price for in-state students living on campus 2013-14',\n",
       " 'Total price for out-of-state students living on campus 2013-14',\n",
       " 'State abbreviation',\n",
       " 'FIPS state code',\n",
       " 'Geographic region',\n",
       " 'Sector of institution',\n",
       " 'Level of institution',\n",
       " 'Control of institution',\n",
       " 'Historically Black College or University',\n",
       " 'Tribal college',\n",
       " 'Degree of urbanization (Urban-centric locale)',\n",
       " 'Carnegie Classification 2010: Basic',\n",
       " 'Total  enrollment',\n",
       " 'Full-time enrollment',\n",
       " 'Part-time enrollment',\n",
       " 'Undergraduate enrollment',\n",
       " 'Graduate enrollment',\n",
       " 'Full-time undergraduate enrollment',\n",
       " 'Part-time undergraduate enrollment',\n",
       " 'Percent of total enrollment that are American Indian or Alaska Native',\n",
       " 'Percent of total enrollment that are Asian',\n",
       " 'Percent of total enrollment that are Black or African American',\n",
       " 'Percent of total enrollment that are Hispanic/Latino',\n",
       " 'Percent of total enrollment that are Native Hawaiian or Other Pacific Islander',\n",
       " 'Percent of total enrollment that are White',\n",
       " 'Percent of total enrollment that are two or more races',\n",
       " 'Percent of total enrollment that are Race/ethnicity unknown',\n",
       " 'Percent of total enrollment that are Nonresident Alien',\n",
       " 'Percent of total enrollment that are Asian/Native Hawaiian/Pacific Islander',\n",
       " 'Percent of total enrollment that are women',\n",
       " 'Percent of undergraduate enrollment that are American Indian or Alaska Native',\n",
       " 'Percent of undergraduate enrollment that are Asian',\n",
       " 'Percent of undergraduate enrollment that are Black or African American',\n",
       " 'Percent of undergraduate enrollment that are Hispanic/Latino',\n",
       " 'Percent of undergraduate enrollment that are Native Hawaiian or Other Pacific Islander',\n",
       " 'Percent of undergraduate enrollment that are White',\n",
       " 'Percent of undergraduate enrollment that are two or more races',\n",
       " 'Percent of undergraduate enrollment that are Race/ethnicity unknown',\n",
       " 'Percent of undergraduate enrollment that are Nonresident Alien',\n",
       " 'Percent of undergraduate enrollment that are Asian/Native Hawaiian/Pacific Islander',\n",
       " 'Percent of undergraduate enrollment that are women',\n",
       " 'Percent of graduate enrollment that are American Indian or Alaska Native',\n",
       " 'Percent of graduate enrollment that are Asian',\n",
       " 'Percent of graduate enrollment that are Black or African American',\n",
       " 'Percent of graduate enrollment that are Hispanic/Latino',\n",
       " 'Percent of graduate enrollment that are Native Hawaiian or Other Pacific Islander',\n",
       " 'Percent of graduate enrollment that are White',\n",
       " 'Percent of graduate enrollment that are two or more races',\n",
       " 'Percent of graduate enrollment that are Race/ethnicity unknown',\n",
       " 'Percent of graduate enrollment that are Nonresident Alien',\n",
       " 'Percent of graduate enrollment that are Asian/Native Hawaiian/Pacific Islander',\n",
       " 'Percent of graduate enrollment that are women',\n",
       " 'Number of first-time undergraduates - in-state',\n",
       " 'Percent of first-time undergraduates - in-state',\n",
       " 'Number of first-time undergraduates - out-of-state',\n",
       " 'Percent of first-time undergraduates - out-of-state',\n",
       " 'Number of first-time undergraduates - foreign countries',\n",
       " 'Percent of first-time undergraduates - foreign countries',\n",
       " 'Number of first-time undergraduates - residence unknown',\n",
       " 'Percent of first-time undergraduates - residence unknown',\n",
       " 'Graduation rate - Bachelor degree within 4 years, total',\n",
       " 'Graduation rate - Bachelor degree within 5 years, total',\n",
       " 'Graduation rate - Bachelor degree within 6 years, total',\n",
       " 'Percent of freshmen receiving any financial aid',\n",
       " 'Percent of freshmen receiving federal, state, local or institutional grant aid',\n",
       " 'Percent of freshmen  receiving federal grant aid',\n",
       " 'Percent of freshmen receiving Pell grants',\n",
       " 'Percent of freshmen receiving other federal grant aid',\n",
       " 'Percent of freshmen receiving state/local grant aid',\n",
       " 'Percent of freshmen receiving institutional grant aid',\n",
       " 'Percent of freshmen receiving student loan aid',\n",
       " 'Percent of freshmen receiving federal student loans',\n",
       " 'Percent of freshmen receiving other loan aid',\n",
       " 'Endowment assets (year end) per FTE enrollment (GASB)',\n",
       " 'Endowment assets (year end) per FTE enrollment (FASB)']"
      ]
     },
     "execution_count": 3,
     "metadata": {},
     "output_type": "execute_result"
    }
   ],
   "source": [
    "# first, what do we really have for columns\n",
    "list(ipeds.columns)"
   ]
  },
  {
   "cell_type": "code",
   "execution_count": 0,
   "metadata": {
    "colab": {},
    "colab_type": "code",
    "id": "kdNIJ_SHRj1d"
   },
   "outputs": [],
   "source": [
    "# lets make this a much smaller dataset\n",
    "COLS_2_KEEP = ['ID number', 'Name', 'Applicants total', 'Admissions total', 'Enrolled total']\n",
    "ipeds2 = ipeds.loc[:, COLS_2_KEEP]\n",
    "ipeds2.head()"
   ]
  },
  {
   "cell_type": "code",
   "execution_count": 0,
   "metadata": {
    "colab": {},
    "colab_type": "code",
    "id": "c-WUirscSZMb"
   },
   "outputs": [],
   "source": [
    "# thats much easier - what do we have for missing dat\n",
    "ipeds2.isna().sum()"
   ]
  },
  {
   "cell_type": "code",
   "execution_count": 0,
   "metadata": {
    "colab": {},
    "colab_type": "code",
    "id": "gcF4mLZCSexQ"
   },
   "outputs": [],
   "source": [
    "# remove every row that has at least 1 missing value \n",
    "ipeds2.dropna(inplace=True)"
   ]
  },
  {
   "cell_type": "code",
   "execution_count": 0,
   "metadata": {
    "colab": {},
    "colab_type": "code",
    "id": "plXGnTJTSqiJ"
   },
   "outputs": [],
   "source": [
    "# confirm\n",
    "ipeds2.isna().sum()"
   ]
  },
  {
   "cell_type": "code",
   "execution_count": 0,
   "metadata": {
    "colab": {},
    "colab_type": "code",
    "id": "ghaLYHkPStfF"
   },
   "outputs": [],
   "source": [
    "# create a simple column, every value is one\n",
    "ipeds2['just1'] = 1\n",
    "ipeds2.head()"
   ]
  },
  {
   "cell_type": "code",
   "execution_count": 0,
   "metadata": {
    "colab": {},
    "colab_type": "code",
    "id": "mvBNs5bfS9aH"
   },
   "outputs": [],
   "source": [
    "# summary\n",
    "ipeds2.describe()"
   ]
  },
  {
   "cell_type": "markdown",
   "metadata": {
    "colab_type": "text",
    "id": "idaF-NvmTMo1"
   },
   "source": [
    "\n",
    "\n",
    "---\n",
    "\n"
   ]
  },
  {
   "cell_type": "markdown",
   "metadata": {
    "colab_type": "text",
    "id": "giuxT_35TALd"
   },
   "source": [
    "***What just happened***\n",
    "\n",
    "Pandas casts the calculation to every row in our dataset, no need to do each row by 1x1.  This is the equivalent of dragging and dropping the formula in excel down every row.\n"
   ]
  },
  {
   "cell_type": "markdown",
   "metadata": {
    "colab_type": "text",
    "id": "qXGYyJqHTNkO"
   },
   "source": [
    "\n",
    "\n",
    "---\n",
    "\n"
   ]
  },
  {
   "cell_type": "code",
   "execution_count": 0,
   "metadata": {
    "colab": {},
    "colab_type": "code",
    "id": "roxEAvZRTL-_"
   },
   "outputs": [],
   "source": [
    "# we can create more than constants\n",
    "ipeds2['double_apps'] = ipeds2['Applicants total'] * 2\n",
    "ipeds2.head()"
   ]
  },
  {
   "cell_type": "code",
   "execution_count": 0,
   "metadata": {
    "colab": {},
    "colab_type": "code",
    "id": "WiZYCQRJT9p1"
   },
   "outputs": [],
   "source": [
    "# we can even compare columns\n",
    "ipeds2['yield_rate'] = ipeds2['Enrolled total'] / ipeds2['Admissions total']\n",
    "ipeds2.head()"
   ]
  },
  {
   "cell_type": "markdown",
   "metadata": {
    "colab_type": "text",
    "id": "FOCoSnsFUOqH"
   },
   "source": [
    "# Sorting\n",
    "\n",
    "Remeber `value_counts()`, well there is `sort_values()`\n",
    "\n",
    "https://pandas.pydata.org/pandas-docs/stable/reference/api/pandas.DataFrame.sort_values.html\n",
    "\n",
    "^^ Documentation is our friend"
   ]
  },
  {
   "cell_type": "code",
   "execution_count": 0,
   "metadata": {
    "colab": {},
    "colab_type": "code",
    "id": "6OsQvX7AZUgG"
   },
   "outputs": [],
   "source": [
    "# get help on the DataFrame method sort_values\n",
    "pd.DataFrame.sort_values?"
   ]
  },
  {
   "cell_type": "code",
   "execution_count": 0,
   "metadata": {
    "colab": {},
    "colab_type": "code",
    "id": "EVo-JKUiUXZG"
   },
   "outputs": [],
   "source": [
    "## sort the data by yield_rate ascending\n",
    "ipeds2.sort_values('double_apps').head()"
   ]
  },
  {
   "cell_type": "markdown",
   "metadata": {
    "colab_type": "text",
    "id": "cHq5EjgaV-wl"
   },
   "source": [
    "> Note that even though we removed all missing values, we still get a NaN because we cant do division by 0. It's pretty great that pandas didn't yell at us, right?"
   ]
  },
  {
   "cell_type": "code",
   "execution_count": 0,
   "metadata": {
    "colab": {},
    "colab_type": "code",
    "id": "IxjI9C06WJRi"
   },
   "outputs": [],
   "source": [
    "## sort the data by yield_rate ascending\n",
    "ipeds2.sort_values('double_apps').tail()"
   ]
  },
  {
   "cell_type": "code",
   "execution_count": 0,
   "metadata": {
    "colab": {},
    "colab_type": "code",
    "id": "IxpXv9KyWl3C"
   },
   "outputs": [],
   "source": [
    "## we can also do nested sorting\n",
    "ipeds2.sort_values(['yield_rate', 'double_apps']).tail()"
   ]
  },
  {
   "cell_type": "code",
   "execution_count": 0,
   "metadata": {
    "colab": {},
    "colab_type": "code",
    "id": "mtwbiN37W2m6"
   },
   "outputs": [],
   "source": [
    "## these were just temporary sorts, we can use inplace to save\n",
    "ipeds2.head()"
   ]
  },
  {
   "cell_type": "code",
   "execution_count": 0,
   "metadata": {
    "colab": {},
    "colab_type": "code",
    "id": "-pFmmPaaXZTQ"
   },
   "outputs": [],
   "source": [
    "ipeds2.sort_values(['yield_rate', 'double_apps'], inplace=True)"
   ]
  },
  {
   "cell_type": "code",
   "execution_count": 0,
   "metadata": {
    "colab": {},
    "colab_type": "code",
    "id": "wT3G3Lx6XfHN"
   },
   "outputs": [],
   "source": [
    "ipeds2.tail()"
   ]
  },
  {
   "cell_type": "markdown",
   "metadata": {
    "colab_type": "text",
    "id": "de1xxLEhXgC1"
   },
   "source": [
    "> `inplace=True` is like assigning the output of the sort to a dataframe, it just does it for us, in place."
   ]
  },
  {
   "cell_type": "markdown",
   "metadata": {
    "colab_type": "text",
    "id": "zqFMvD51ZBkk"
   },
   "source": [
    "# Combine this lesson together"
   ]
  },
  {
   "cell_type": "code",
   "execution_count": 0,
   "metadata": {
    "colab": {},
    "colab_type": "code",
    "id": "KoOhHg4HZSeP"
   },
   "outputs": [],
   "source": [
    "# create a column that is the length of the school's name\n",
    "ipeds2['name_length'] = ipeds2['Name'].str.len()"
   ]
  },
  {
   "cell_type": "code",
   "execution_count": 0,
   "metadata": {
    "colab": {},
    "colab_type": "code",
    "id": "o4BQK19qZ0WG"
   },
   "outputs": [],
   "source": [
    "ipeds2.head()"
   ]
  },
  {
   "cell_type": "markdown",
   "metadata": {
    "colab_type": "text",
    "id": "yKe8u7QvZ6IH"
   },
   "source": [
    "> Note:  I corrected this in a previous notebook, but see that we have to access the string methods by .str (the type) against the Series which is a string, to access the methods  like length, lower, etc."
   ]
  },
  {
   "cell_type": "code",
   "execution_count": 0,
   "metadata": {
    "colab": {},
    "colab_type": "code",
    "id": "b5LNO73xaK_v"
   },
   "outputs": [],
   "source": [
    "## sort the dataset descending (its just an argument) in place and view the top 5 longest names\n",
    "ipeds2.sort_values(\"name_length\", ascending=False, inplace=True)\n",
    "ipeds2.head()"
   ]
  },
  {
   "cell_type": "code",
   "execution_count": 0,
   "metadata": {
    "colab": {},
    "colab_type": "code",
    "id": "yFqYvHeLaYtp"
   },
   "outputs": [],
   "source": []
  }
 ],
 "metadata": {
  "colab": {
   "collapsed_sections": [],
   "name": "16-Create Columns and Sort.ipynb",
   "private_outputs": true,
   "provenance": [],
   "version": "0.3.2"
  },
  "kernelspec": {
   "display_name": "Python 3",
   "language": "python",
   "name": "python3"
  },
  "language_info": {
   "codemirror_mode": {
    "name": "ipython",
    "version": 3
   },
   "file_extension": ".py",
   "mimetype": "text/x-python",
   "name": "python",
   "nbconvert_exporter": "python",
   "pygments_lexer": "ipython3",
   "version": "3.7.2"
  }
 },
 "nbformat": 4,
 "nbformat_minor": 1
}
