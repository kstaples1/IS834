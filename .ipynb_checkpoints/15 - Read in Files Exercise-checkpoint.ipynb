{
 "cells": [
  {
   "cell_type": "markdown",
   "metadata": {
    "colab_type": "text",
    "id": "tPYjOvfCLhEi"
   },
   "source": [
    "# Read in Files Exercise\n"
   ]
  },
  {
   "cell_type": "markdown",
   "metadata": {
    "colab_type": "text",
    "id": "4ooz95mNLmsA"
   },
   "source": [
    "# Step 1: Setup your python session\n",
    "\n",
    "Import the tools that we need to analyze data in python"
   ]
  },
  {
   "cell_type": "code",
   "execution_count": 1,
   "metadata": {
    "colab": {},
    "colab_type": "code",
    "id": "GuXqWJQULo3F"
   },
   "outputs": [],
   "source": [
    "import numpy as np \n",
    "import pandas as pd"
   ]
  },
  {
   "cell_type": "markdown",
   "metadata": {
    "colab_type": "text",
    "id": "Qwtq1t8lLqYb"
   },
   "source": [
    "## Step 2: Read in a Text file and parse it\n",
    "\n",
    "Tips:  What is the delimiter?"
   ]
  },
  {
   "cell_type": "code",
   "execution_count": 7,
   "metadata": {
    "colab": {},
    "colab_type": "code",
    "id": "CIjWjIjpMnw0"
   },
   "outputs": [
    {
     "ename": "SyntaxError",
     "evalue": "unexpected character after line continuation character (<ipython-input-7-cd35cff6edf7>, line 3)",
     "output_type": "error",
     "traceback": [
      "\u001b[0;36m  File \u001b[0;32m\"<ipython-input-7-cd35cff6edf7>\"\u001b[0;36m, line \u001b[0;32m3\u001b[0m\n\u001b[0;31m    data = pd.read_csv(data_file, delimiter = \\)\u001b[0m\n\u001b[0m                                                ^\u001b[0m\n\u001b[0;31mSyntaxError\u001b[0m\u001b[0;31m:\u001b[0m unexpected character after line continuation character\n"
     ]
    }
   ],
   "source": [
    "# path to the file\n",
    "data_file = \"https://raw.githubusercontent.com/Btibert3/is834/master/datasets/pandas-import-file.txt\"\n",
    "data = pd.read_csv(data_file, delimiter = \"\\\")"
   ]
  },
  {
   "cell_type": "code",
   "execution_count": 5,
   "metadata": {
    "colab": {},
    "colab_type": "code",
    "id": "UgWyyLzKMt67"
   },
   "outputs": [
    {
     "data": {
      "text/html": [
       "<div>\n",
       "<style scoped>\n",
       "    .dataframe tbody tr th:only-of-type {\n",
       "        vertical-align: middle;\n",
       "    }\n",
       "\n",
       "    .dataframe tbody tr th {\n",
       "        vertical-align: top;\n",
       "    }\n",
       "\n",
       "    .dataframe thead th {\n",
       "        text-align: right;\n",
       "    }\n",
       "</style>\n",
       "<table border=\"1\" class=\"dataframe\">\n",
       "  <thead>\n",
       "    <tr style=\"text-align: right;\">\n",
       "      <th></th>\n",
       "      <th>crim\t\"zn\"\t\"indus\"\t\"chas\"\t\"nox\"\t\"rm\"\t\"age\"\t\"dis\"\t\"rad\"\t\"tax\"\t\"ptratio\"\t\"b\"\t\"lstat\"\t\"medv\"</th>\n",
       "    </tr>\n",
       "  </thead>\n",
       "  <tbody>\n",
       "    <tr>\n",
       "      <th>0</th>\n",
       "      <td>0.00632\\t18\\t2.31\\t0\\t0.538\\t6.575\\t65.2\\t4.09...</td>\n",
       "    </tr>\n",
       "    <tr>\n",
       "      <th>1</th>\n",
       "      <td>0.02731\\t0\\t7.07\\t0\\t0.469\\t6.421\\t78.9\\t4.967...</td>\n",
       "    </tr>\n",
       "    <tr>\n",
       "      <th>2</th>\n",
       "      <td>0.02729\\t0\\t7.07\\t0\\t0.469\\t7.185\\t61.1\\t4.967...</td>\n",
       "    </tr>\n",
       "    <tr>\n",
       "      <th>3</th>\n",
       "      <td>0.03237\\t0\\t2.18\\t0\\t0.458\\t6.998\\t45.8\\t6.062...</td>\n",
       "    </tr>\n",
       "    <tr>\n",
       "      <th>4</th>\n",
       "      <td>0.06905\\t0\\t2.18\\t0\\t0.458\\t7.147\\t54.2\\t6.062...</td>\n",
       "    </tr>\n",
       "  </tbody>\n",
       "</table>\n",
       "</div>"
      ],
      "text/plain": [
       "  crim\\t\"zn\"\\t\"indus\"\\t\"chas\"\\t\"nox\"\\t\"rm\"\\t\"age\"\\t\"dis\"\\t\"rad\"\\t\"tax\"\\t\"ptratio\"\\t\"b\"\\t\"lstat\"\\t\"medv\"\n",
       "0  0.00632\\t18\\t2.31\\t0\\t0.538\\t6.575\\t65.2\\t4.09...                                                   \n",
       "1  0.02731\\t0\\t7.07\\t0\\t0.469\\t6.421\\t78.9\\t4.967...                                                   \n",
       "2  0.02729\\t0\\t7.07\\t0\\t0.469\\t7.185\\t61.1\\t4.967...                                                   \n",
       "3  0.03237\\t0\\t2.18\\t0\\t0.458\\t6.998\\t45.8\\t6.062...                                                   \n",
       "4  0.06905\\t0\\t2.18\\t0\\t0.458\\t7.147\\t54.2\\t6.062...                                                   "
      ]
     },
     "execution_count": 5,
     "metadata": {},
     "output_type": "execute_result"
    }
   ],
   "source": [
    "data.head()"
   ]
  },
  {
   "cell_type": "code",
   "execution_count": 0,
   "metadata": {
    "colab": {},
    "colab_type": "code",
    "id": "5Y4RQRFIM0GQ"
   },
   "outputs": [],
   "source": []
  },
  {
   "cell_type": "markdown",
   "metadata": {
    "colab_type": "text",
    "id": "IAEF2psFM7Gf"
   },
   "source": [
    "# Step 3:  Read in an Excel file\n",
    "\n",
    "This does not have multiple worksheets.  Bring in the Excel file and set the row labels from the column ID Number.\n",
    "\n",
    "Call the file ipeds."
   ]
  },
  {
   "cell_type": "code",
   "execution_count": 0,
   "metadata": {
    "colab": {},
    "colab_type": "code",
    "id": "velAgcp_NPeo"
   },
   "outputs": [],
   "source": [
    "# data file url\n",
    "ipeds_url = \"https://public.tableau.com/s/sites/default/files/media/Resources/IPEDS_data.xlsx\"\n"
   ]
  },
  {
   "cell_type": "code",
   "execution_count": 0,
   "metadata": {
    "colab": {},
    "colab_type": "code",
    "id": "B5zcJFkVNb10"
   },
   "outputs": [],
   "source": [
    "\n"
   ]
  },
  {
   "cell_type": "code",
   "execution_count": 0,
   "metadata": {
    "colab": {},
    "colab_type": "code",
    "id": "ZKAEU7rzNonv"
   },
   "outputs": [],
   "source": []
  },
  {
   "cell_type": "markdown",
   "metadata": {
    "colab_type": "text",
    "id": "d20cYKwaNqfc"
   },
   "source": [
    "# Exercise 3: Multiple Workbook Excel\n",
    "\n",
    "Let's revisit the multiple workbook example.  Bring in the congress dataset again.  \n",
    "\n",
    "1.  Save the workbook as `congress`\n",
    "2. load the Sunlight Info worksheet - save this as a dataframe called `sunlight_info` "
   ]
  },
  {
   "cell_type": "code",
   "execution_count": 0,
   "metadata": {
    "colab": {},
    "colab_type": "code",
    "id": "cg2AbNkKN-KZ"
   },
   "outputs": [],
   "source": [
    "# the url\n",
    "govt_url = \"https://public.tableau.com/s/sites/default/files/media/Resources/113thCongress.xlsx\""
   ]
  },
  {
   "cell_type": "code",
   "execution_count": 0,
   "metadata": {
    "colab": {},
    "colab_type": "code",
    "id": "RPR6uFsOOBah"
   },
   "outputs": [],
   "source": []
  },
  {
   "cell_type": "code",
   "execution_count": 0,
   "metadata": {
    "colab": {},
    "colab_type": "code",
    "id": "kv-0pNX3OFWF"
   },
   "outputs": [],
   "source": []
  },
  {
   "cell_type": "code",
   "execution_count": 0,
   "metadata": {
    "colab": {},
    "colab_type": "code",
    "id": "Xmbnw_PnOLjt"
   },
   "outputs": [],
   "source": []
  },
  {
   "cell_type": "code",
   "execution_count": 0,
   "metadata": {
    "colab": {},
    "colab_type": "code",
    "id": "V-C5JbzJOXvz"
   },
   "outputs": [],
   "source": []
  },
  {
   "cell_type": "code",
   "execution_count": 0,
   "metadata": {
    "colab": {},
    "colab_type": "code",
    "id": "AmMLECiIOY7w"
   },
   "outputs": [],
   "source": []
  }
 ],
 "metadata": {
  "colab": {
   "collapsed_sections": [],
   "name": "15 - Read in Files Exercise.ipynb",
   "private_outputs": true,
   "provenance": [],
   "version": "0.3.2"
  },
  "kernelspec": {
   "display_name": "Python 3",
   "language": "python",
   "name": "python3"
  },
  "language_info": {
   "codemirror_mode": {
    "name": "ipython",
    "version": 3
   },
   "file_extension": ".py",
   "mimetype": "text/x-python",
   "name": "python",
   "nbconvert_exporter": "python",
   "pygments_lexer": "ipython3",
   "version": "3.7.2"
  }
 },
 "nbformat": 4,
 "nbformat_minor": 1
}
