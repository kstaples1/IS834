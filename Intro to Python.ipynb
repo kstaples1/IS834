{
 "cells": [
  {
   "cell_type": "markdown",
   "metadata": {},
   "source": [
    "# Introduction to Python\n",
    "##### By Kyle Staples"
   ]
  },
  {
   "cell_type": "markdown",
   "metadata": {},
   "source": [
    "## About\n",
    "Python is a great beginner coding language that is very simple to learn with various extensions making it very flexiable. We will be working in python 3.7 which has a few changes compared to older versions of python."
   ]
  },
  {
   "cell_type": "markdown",
   "metadata": {},
   "source": [
    "## Shortcuts"
   ]
  },
  {
   "cell_type": "markdown",
   "metadata": {},
   "source": [
    "![shortcuts](https://github.com/Btibert3/public-figs/blob/master/is834/keyboard-shortcuts.png?raw=true)\n",
    "\n",
    "I use Control + M and C/V/X which are 3 adjacent keys on the keyboard for:\n",
    "\n",
    "- `C` for a code cell\n",
    "- `X` for a text cell\n",
    "- `V` to add a section header\n",
    "\n",
    "> **NOTE**:  A section header is the same as a new text cell with `# Section Name here`, or an `H1` tag in Markdown, which is signaled by just a single `#` character.\n",
    "\n",
    "\n",
    "### Other shortcuts\n",
    "\n",
    "- `Control/Command + shift + enter`  will run the selection within a cell by itself, **which is great for testing commands**\n",
    "- `Control/Command + enter` will run the current cell in-place\n",
    "- `Shift/Return` runs the current cell and selects (or creates) a new code cell below it if a cell does not exist.\n",
    "-  `Control/Command + M + D` will delete the currently selected cell\n",
    "- `Control/Command  + S` will save your notebook.  \n",
    "\n"
   ]
  },
  {
   "cell_type": "markdown",
   "metadata": {},
   "source": [
    "## Getting Started\n",
    "Since we are using a notebook it is important to know that you don't need to type \"print()\" when wanting to print what a variable holds.\n",
    "\n",
    "Lets get started with a basic hello world function and find out how to print to the console. \n",
    "\n",
    "Start by typing print(\"Hello World\") and then press Shift+Enter to run your code\n",
    "\n",
    "Notice when in the notebooks you do not need to type print() part."
   ]
  },
  {
   "cell_type": "code",
   "execution_count": null,
   "metadata": {},
   "outputs": [],
   "source": []
  },
  {
   "cell_type": "markdown",
   "metadata": {},
   "source": [
    "## Variables\n",
    "Since we got down our basic function lets start getting into some basics. We will start by assigning values to variables. They can be integers (1,2,3,4) double(0.0,0.1,0.2) strings, and various data types.\n",
    "\n",
    "Next create a variable called str and set it equal to \"Hello World\"\n",
    "\n",
    "Once you create a variable print it out to the console."
   ]
  },
  {
   "cell_type": "code",
   "execution_count": null,
   "metadata": {},
   "outputs": [],
   "source": [
    "# Please print the variable by only typing the variable\n"
   ]
  },
  {
   "cell_type": "code",
   "execution_count": null,
   "metadata": {},
   "outputs": [],
   "source": [
    "# This time try to print it using the print command\n"
   ]
  },
  {
   "cell_type": "markdown",
   "metadata": {},
   "source": [
    "Now that we have basic variables lets try some addition.\n",
    "\n",
    "Make 2 variables lets call them num1 and num2.\n",
    "\n",
    "Set each one to some number \n",
    "\n",
    "Then do num1+num2 and set that to a new variable called ans.\n",
    "\n",
    "Print out ans to the console\n",
    "\n",
    "Following that take ans and divide it by num1 and multiply it by num2.\n",
    "\n",
    "You can also use a mod which is % and gives the remainder of a/b in a format such that a%b give the remainder of a/b"
   ]
  },
  {
   "cell_type": "code",
   "execution_count": null,
   "metadata": {},
   "outputs": [],
   "source": [
    "# Print ans\n",
    "\n"
   ]
  },
  {
   "cell_type": "code",
   "execution_count": 10,
   "metadata": {},
   "outputs": [],
   "source": [
    "# Do second calculations here\n"
   ]
  },
  {
   "cell_type": "markdown",
   "metadata": {},
   "source": [
    "Lets do some practice, try these through coding and not by hand:"
   ]
  },
  {
   "cell_type": "code",
   "execution_count": 15,
   "metadata": {},
   "outputs": [
    {
     "data": {
      "text/plain": [
       "2"
      ]
     },
     "execution_count": 15,
     "metadata": {},
     "output_type": "execute_result"
    }
   ],
   "source": [
    "# What is 36*5/4 *you do not need to assign anything to a variable. The answer should be 45\n"
   ]
  },
  {
   "cell_type": "code",
   "execution_count": 16,
   "metadata": {},
   "outputs": [
    {
     "data": {
      "text/plain": [
       "5.0"
      ]
     },
     "execution_count": 16,
     "metadata": {},
     "output_type": "execute_result"
    }
   ],
   "source": [
    "# What is the remainder of 365 divided by the answer to the previous question? The answer should be 5\n"
   ]
  },
  {
   "cell_type": "markdown",
   "metadata": {},
   "source": [
    "## Booleans\n",
    "As you can see you can do basic arithmetic in python.\n",
    "\n",
    "There are also other types of variables such as booleans which are True and False. \n",
    "\n",
    "You can also compare variables by using ==, <, > operators\n",
    "\n",
    "Set a variable called T and set it to True.\n",
    "\n",
    "Set another variable called F to False.\n",
    "\n",
    "Which one is greater than the other? Take a guess and find out in the cells below.\n"
   ]
  },
  {
   "cell_type": "code",
   "execution_count": null,
   "metadata": {},
   "outputs": [],
   "source": []
  },
  {
   "cell_type": "markdown",
   "metadata": {},
   "source": [
    "## Lists\n",
    "\n",
    "Now that we know objects and their types, lets get on to lists. \n",
    "\n",
    "What if you want to store various values inside of a variable? Now we will look at lists. \n",
    "\n",
    "Unlike other coding languges, a list can contain various types such as booleans, strings, ints, doubles, ect.\n",
    "\n",
    "You can make one by doing:\n",
    "myvar = [\"A\",'b',True,3]"
   ]
  },
  {
   "cell_type": "code",
   "execution_count": 17,
   "metadata": {},
   "outputs": [],
   "source": []
  },
  {
   "cell_type": "markdown",
   "metadata": {},
   "source": [
    "You can directly access a part in the list by calling it from its position. The list has an index that starts at 0. so myvar[0] would output A.\n",
    "\n",
    "To access a list you type your variable and put brackets after the variable and inside the brackets you put the index location. Try this out and print out True."
   ]
  },
  {
   "cell_type": "code",
   "execution_count": null,
   "metadata": {},
   "outputs": [],
   "source": []
  },
  {
   "cell_type": "markdown",
   "metadata": {},
   "source": [
    "## Functions\n",
    "\n",
    "To make a function you first put def for definining a function and then followed by your function name with parenthesis and a colon after.\n",
    "\n",
    "def myFunction(a,b):\n",
    "    c = a/b\n",
    "    return c\n",
    "\n",
    "Above is an example of a function.\n",
    "\n",
    "Make a function called mean that takes a list of numbers and gives out the mean. Then run it on this array and check your output. Below is a template and needs your to fill out the blanks.\n",
    "\n",
    "** You can use len(a) to find the length of a list or length of a in our situation."
   ]
  },
  {
   "cell_type": "code",
   "execution_count": 20,
   "metadata": {},
   "outputs": [
    {
     "data": {
      "text/plain": [
       "4.8"
      ]
     },
     "execution_count": 20,
     "metadata": {},
     "output_type": "execute_result"
    }
   ],
   "source": [
    "# The array is [1,5,3,7,8]\n",
    "def numMean(list):\n",
    "    s = 0\n",
    "    for i in list:\n",
    "        s = i + s\n",
    "    ans = s/____(list)\n",
    "    return ___\n",
    "\n",
    "#This is where you check your answer to make sure it is correct. The answer is 4.8.\n",
    "lis = [1,5,3,7,8]\n",
    "numMean(lis)"
   ]
  },
  {
   "cell_type": "markdown",
   "metadata": {},
   "source": [
    "If you are feeling adventurous try to find the sum of the list. The answer is 24."
   ]
  },
  {
   "cell_type": "code",
   "execution_count": null,
   "metadata": {},
   "outputs": [],
   "source": []
  },
  {
   "cell_type": "markdown",
   "metadata": {},
   "source": [
    "## Loops\n",
    "\n",
    "Since we have some basics lets go over loops. There are 2 main kind of loops. For loops and while loops. Loops are used for doing repetitive tasks over and over again. Python also works through line breaks and indentation. To make python know something belongs in the for loop you have to keep it indented one more than the main function.\n",
    "\n",
    "ex. \n",
    "\n",
    "For item in list:\n",
    "    print(\"item\")\n",
    "\n",
    "a = \n",
    "While (a < 3)"
   ]
  },
  {
   "cell_type": "code",
   "execution_count": 25,
   "metadata": {},
   "outputs": [
    {
     "name": "stdout",
     "output_type": "stream",
     "text": [
      "1\n",
      "2\n",
      "3\n"
     ]
    }
   ],
   "source": [
    "a = 0\n",
    "while (a < 3):\n",
    "    a= a+1\n",
    "    print(a)"
   ]
  },
  {
   "cell_type": "code",
   "execution_count": null,
   "metadata": {},
   "outputs": [],
   "source": []
  }
 ],
 "metadata": {
  "kernelspec": {
   "display_name": "Python 3",
   "language": "python",
   "name": "python3"
  },
  "language_info": {
   "codemirror_mode": {
    "name": "ipython",
    "version": 3
   },
   "file_extension": ".py",
   "mimetype": "text/x-python",
   "name": "python",
   "nbconvert_exporter": "python",
   "pygments_lexer": "ipython3",
   "version": "3.7.2"
  }
 },
 "nbformat": 4,
 "nbformat_minor": 2
}
