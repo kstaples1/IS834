{
 "cells": [
  {
   "cell_type": "code",
   "execution_count": 66,
   "metadata": {},
   "outputs": [],
   "source": [
    "import numpy as np\n",
    "import pandas as pd\n",
    "import requests\n",
    "import matplotlib.pyplot as plt\n",
    "import csv\n",
    "import datetime\n",
    "from bs4 import BeautifulSoup\n",
    "now = datetime.datetime.now()\n",
    "%matplotlib inline"
   ]
  },
  {
   "cell_type": "code",
   "execution_count": 67,
   "metadata": {},
   "outputs": [
    {
     "name": "stdout",
     "output_type": "stream",
     "text": [
      "2\n",
      "3\n",
      "finished\n"
     ]
    }
   ],
   "source": [
    "#scrape elements\n",
    "COLUMNS = ['Rank', 'Player', 'MMR', 'Games']\n",
    "dataframes = []\n",
    "i = 1\n",
    "url = \"https://r6.tracker.network/leaderboards/pvp-season/pc/Mmr?page={}&region=-1&season=12\"\n",
    "#1725\n",
    "while(i<3):\n",
    "    try:\n",
    "        response = requests.get(url.format(i))\n",
    "        soup = BeautifulSoup(response.content, \"html.parser\")\n",
    "        table = soup.find(\"table\") # Find the \"table\" tag in the page\n",
    "        rows = table.find_all(\"tr\") # Find all the \"tr\" tags in the table\n",
    "        cy_data = []\n",
    "        for row in rows:\n",
    "            cells = row.find_all(\"td\") #  Find all the \"td\" tags in each row\n",
    "            cells = cells[0:4] # Select the correct columns\n",
    "            cy_data.append([cell.text for cell in cells]) # For each \"td\" tag, get the text inside it\n",
    "\n",
    "        dataframes.append(pd.DataFrame(cy_data, columns=COLUMNS).drop(0, axis=0))\n",
    "        i= i+1\n",
    "        print(i)\n",
    "    except:\n",
    "        break\n",
    "final = pd.concat(dataframes)\n",
    "print(\"finished\")"
   ]
  },
  {
   "cell_type": "markdown",
   "metadata": {},
   "source": [
    "## This is where we clean the dataset and make the x the numerical values for the graph"
   ]
  },
  {
   "cell_type": "code",
   "execution_count": 68,
   "metadata": {},
   "outputs": [],
   "source": [
    "final2 = final.copy()\n",
    "final2[\"MMR\"] = final2[\"MMR\"].str.replace(',','')\n",
    "final2[\"Player\"] = final2[\"Player\"].str.replace('\\n','')\n",
    "datetime = now.strftime(\"%Y-%m-%d %H:%M\")\n",
    "final2[\"Date\"] = datetime\n",
    "x = final2[\"MMR\"]\n",
    "x = x.values\n",
    "x = x.astype(np.double)"
   ]
  },
  {
   "cell_type": "markdown",
   "metadata": {},
   "source": [
    "## This is if you want to use matplotlib for a histogram"
   ]
  },
  {
   "cell_type": "code",
   "execution_count": null,
   "metadata": {},
   "outputs": [],
   "source": [
    "bins = [0,1400,1500,1600,1700,1800,1900,2000,2100,2200,2300,2400,2500,2700,2900,3100,3300,3700,4100,4500]\n",
    "plt.hist(np.clip(x, 0, 4500), bins = bins, rwidth = 0.8)"
   ]
  },
  {
   "cell_type": "markdown",
   "metadata": {},
   "source": [
    "## Saves to a CSV"
   ]
  },
  {
   "cell_type": "code",
   "execution_count": null,
   "metadata": {},
   "outputs": [],
   "source": [
    "final2.to_csv('/Users/Kyle_Staples/Desktop/out2.csv', sep=',', encoding='utf-8')"
   ]
  },
  {
   "cell_type": "code",
   "execution_count": 79,
   "metadata": {},
   "outputs": [],
   "source": []
  },
  {
   "cell_type": "code",
   "execution_count": null,
   "metadata": {},
   "outputs": [],
   "source": []
  },
  {
   "cell_type": "code",
   "execution_count": null,
   "metadata": {},
   "outputs": [],
   "source": []
  },
  {
   "cell_type": "code",
   "execution_count": null,
   "metadata": {},
   "outputs": [],
   "source": []
  },
  {
   "cell_type": "code",
   "execution_count": null,
   "metadata": {},
   "outputs": [],
   "source": [
    "   "
   ]
  }
 ],
 "metadata": {
  "kernelspec": {
   "display_name": "Python 3",
   "language": "python",
   "name": "python3"
  },
  "language_info": {
   "codemirror_mode": {
    "name": "ipython",
    "version": 3
   },
   "file_extension": ".py",
   "mimetype": "text/x-python",
   "name": "python",
   "nbconvert_exporter": "python",
   "pygments_lexer": "ipython3",
   "version": "3.7.2"
  }
 },
 "nbformat": 4,
 "nbformat_minor": 2
}
