{
 "cells": [
  {
   "cell_type": "code",
   "execution_count": 1,
   "metadata": {},
   "outputs": [],
   "source": [
    "import pandas as pd\n",
    "import numpy as np\n",
    "import matplotlib.pyplot as plt\n",
    "import seaborn as sns\n",
    "import datetime  \n",
    "from sklearn.model_selection import train_test_split"
   ]
  },
  {
   "cell_type": "code",
   "execution_count": 54,
   "metadata": {},
   "outputs": [
    {
     "name": "stderr",
     "output_type": "stream",
     "text": [
      "/anaconda3/lib/python3.6/site-packages/IPython/core/interactiveshell.py:2785: DtypeWarning: Columns (18,19,20,21,22,23,24,33,34,35,37,43,45) have mixed types. Specify dtype option on import or set low_memory=False.\n",
      "  interactivity=interactivity, compiler=compiler, result=result)\n"
     ]
    }
   ],
   "source": [
    "dd = pd.read_csv('/Users/Kyle_Staples/Class/1_Spring_2019/MK476/project/DC_Properties.csv')\n",
    "dd2=dd.copy()\n",
    "dd.dropna(subset=['PRICE'],inplace = True)\n",
    "dd3 = dd[['PRICE','BATHRM','BEDRM','AYB','YR_RMDL','']].copy()\n",
    "dd3.dropna(inplace=True)"
   ]
  },
  {
   "cell_type": "code",
   "execution_count": null,
   "metadata": {},
   "outputs": [],
   "source": [
    "#dd.isna().sum()"
   ]
  },
  {
   "cell_type": "code",
   "execution_count": 52,
   "metadata": {},
   "outputs": [
    {
     "data": {
      "text/html": [
       "<div>\n",
       "<style scoped>\n",
       "    .dataframe tbody tr th:only-of-type {\n",
       "        vertical-align: middle;\n",
       "    }\n",
       "\n",
       "    .dataframe tbody tr th {\n",
       "        vertical-align: top;\n",
       "    }\n",
       "\n",
       "    .dataframe thead th {\n",
       "        text-align: right;\n",
       "    }\n",
       "</style>\n",
       "<table border=\"1\" class=\"dataframe\">\n",
       "  <thead>\n",
       "    <tr style=\"text-align: right;\">\n",
       "      <th></th>\n",
       "      <th>BATHRM</th>\n",
       "      <th>BEDRM</th>\n",
       "      <th>AYB</th>\n",
       "      <th>YR_RMDL</th>\n",
       "      <th>PRICE</th>\n",
       "    </tr>\n",
       "  </thead>\n",
       "  <tbody>\n",
       "    <tr>\n",
       "      <th>BATHRM</th>\n",
       "      <td>1.000000</td>\n",
       "      <td>0.758705</td>\n",
       "      <td>-0.164538</td>\n",
       "      <td>0.246778</td>\n",
       "      <td>-0.025511</td>\n",
       "    </tr>\n",
       "    <tr>\n",
       "      <th>BEDRM</th>\n",
       "      <td>0.758705</td>\n",
       "      <td>1.000000</td>\n",
       "      <td>-0.253362</td>\n",
       "      <td>0.252995</td>\n",
       "      <td>-0.057548</td>\n",
       "    </tr>\n",
       "    <tr>\n",
       "      <th>AYB</th>\n",
       "      <td>-0.164538</td>\n",
       "      <td>-0.253362</td>\n",
       "      <td>1.000000</td>\n",
       "      <td>0.003346</td>\n",
       "      <td>0.122437</td>\n",
       "    </tr>\n",
       "    <tr>\n",
       "      <th>YR_RMDL</th>\n",
       "      <td>0.246778</td>\n",
       "      <td>0.252995</td>\n",
       "      <td>0.003346</td>\n",
       "      <td>1.000000</td>\n",
       "      <td>0.030089</td>\n",
       "    </tr>\n",
       "    <tr>\n",
       "      <th>PRICE</th>\n",
       "      <td>-0.025511</td>\n",
       "      <td>-0.057548</td>\n",
       "      <td>0.122437</td>\n",
       "      <td>0.030089</td>\n",
       "      <td>1.000000</td>\n",
       "    </tr>\n",
       "  </tbody>\n",
       "</table>\n",
       "</div>"
      ],
      "text/plain": [
       "           BATHRM     BEDRM       AYB   YR_RMDL     PRICE\n",
       "BATHRM   1.000000  0.758705 -0.164538  0.246778 -0.025511\n",
       "BEDRM    0.758705  1.000000 -0.253362  0.252995 -0.057548\n",
       "AYB     -0.164538 -0.253362  1.000000  0.003346  0.122437\n",
       "YR_RMDL  0.246778  0.252995  0.003346  1.000000  0.030089\n",
       "PRICE   -0.025511 -0.057548  0.122437  0.030089  1.000000"
      ]
     },
     "execution_count": 52,
     "metadata": {},
     "output_type": "execute_result"
    }
   ],
   "source": [
    "dd3.corr()"
   ]
  },
  {
   "cell_type": "code",
   "execution_count": 55,
   "metadata": {},
   "outputs": [],
   "source": [
    "dd3.to_csv('/Users/Kyle_Staples/Class/1_Spring_2019/MK476/project/subset.csv', index=False)"
   ]
  },
  {
   "cell_type": "code",
   "execution_count": 46,
   "metadata": {},
   "outputs": [],
   "source": []
  },
  {
   "cell_type": "code",
   "execution_count": 48,
   "metadata": {},
   "outputs": [],
   "source": [
    "['']"
   ]
  },
  {
   "cell_type": "code",
   "execution_count": null,
   "metadata": {},
   "outputs": [],
   "source": []
  },
  {
   "cell_type": "code",
   "execution_count": null,
   "metadata": {},
   "outputs": [],
   "source": []
  }
 ],
 "metadata": {
  "kernelspec": {
   "display_name": "Python 3",
   "language": "python",
   "name": "python3"
  },
  "language_info": {
   "codemirror_mode": {
    "name": "ipython",
    "version": 3
   },
   "file_extension": ".py",
   "mimetype": "text/x-python",
   "name": "python",
   "nbconvert_exporter": "python",
   "pygments_lexer": "ipython3",
   "version": "3.6.8"
  }
 },
 "nbformat": 4,
 "nbformat_minor": 2
}
