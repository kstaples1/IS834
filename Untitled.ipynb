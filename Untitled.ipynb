{
 "cells": [
  {
   "cell_type": "code",
   "execution_count": 2,
   "metadata": {},
   "outputs": [],
   "source": [
    "import numpy as np"
   ]
  },
  {
   "cell_type": "code",
   "execution_count": 3,
   "metadata": {},
   "outputs": [],
   "source": [
    "x = 1,2,3,4"
   ]
  },
  {
   "cell_type": "code",
   "execution_count": 4,
   "metadata": {},
   "outputs": [
    {
     "data": {
      "text/plain": [
       "[1, 2, 3, 4]"
      ]
     },
     "execution_count": 4,
     "metadata": {},
     "output_type": "execute_result"
    }
   ],
   "source": [
    "list(x)"
   ]
  },
  {
   "cell_type": "code",
   "execution_count": 5,
   "metadata": {},
   "outputs": [],
   "source": [
    "y = list(x)"
   ]
  },
  {
   "cell_type": "code",
   "execution_count": 6,
   "metadata": {},
   "outputs": [
    {
     "data": {
      "text/plain": [
       "list"
      ]
     },
     "execution_count": 6,
     "metadata": {},
     "output_type": "execute_result"
    }
   ],
   "source": [
    "type(y)"
   ]
  },
  {
   "cell_type": "code",
   "execution_count": 8,
   "metadata": {},
   "outputs": [
    {
     "data": {
      "text/plain": [
       "array([ 4,  8, 12, 16])"
      ]
     },
     "execution_count": 8,
     "metadata": {},
     "output_type": "execute_result"
    }
   ],
   "source": [
    "z = np.array(y)\n",
    "z*4"
   ]
  },
  {
   "cell_type": "code",
   "execution_count": 9,
   "metadata": {},
   "outputs": [
    {
     "data": {
      "text/plain": [
       "array([3, 1])"
      ]
     },
     "execution_count": 9,
     "metadata": {},
     "output_type": "execute_result"
    }
   ],
   "source": [
    "x = [1,2,3]\n",
    "y = x * 2\n",
    "z = np.array(y)\n",
    "z[2:4]"
   ]
  },
  {
   "cell_type": "code",
   "execution_count": 18,
   "metadata": {},
   "outputs": [
    {
     "data": {
      "text/plain": [
       "{'first': 'Brock', 'last': 'Tibert', 'values': [1, 2, 3, 4, 5]}"
      ]
     },
     "execution_count": 18,
     "metadata": {},
     "output_type": "execute_result"
    }
   ],
   "source": [
    "x = {'first':'Brock', 'last':'Tibert', 'values': [1,2,3,4]}\n",
    "x['values'].append(5)\n",
    "x"
   ]
  },
  {
   "cell_type": "code",
   "execution_count": 24,
   "metadata": {},
   "outputs": [
    {
     "ename": "NameError",
     "evalue": "name 'head' is not defined",
     "output_type": "error",
     "traceback": [
      "\u001b[0;31m---------------------------------------------------------------------------\u001b[0m",
      "\u001b[0;31mNameError\u001b[0m                                 Traceback (most recent call last)",
      "\u001b[0;32m<ipython-input-24-44971170cabd>\u001b[0m in \u001b[0;36m<module>\u001b[0;34m\u001b[0m\n\u001b[1;32m      2\u001b[0m \u001b[0;32mimport\u001b[0m \u001b[0mpandas\u001b[0m \u001b[0;32mas\u001b[0m \u001b[0mpd\u001b[0m\u001b[0;34m\u001b[0m\u001b[0;34m\u001b[0m\u001b[0m\n\u001b[1;32m      3\u001b[0m \u001b[0mdf\u001b[0m \u001b[0;34m=\u001b[0m \u001b[0mpd\u001b[0m\u001b[0;34m.\u001b[0m\u001b[0mread_csv\u001b[0m\u001b[0;34m(\u001b[0m\u001b[0murl\u001b[0m\u001b[0;34m)\u001b[0m\u001b[0;34m\u001b[0m\u001b[0;34m\u001b[0m\u001b[0m\n\u001b[0;32m----> 4\u001b[0;31m \u001b[0mhead\u001b[0m\u001b[0;34m(\u001b[0m\u001b[0mdf\u001b[0m\u001b[0;34m)\u001b[0m\u001b[0;34m\u001b[0m\u001b[0;34m\u001b[0m\u001b[0m\n\u001b[0m",
      "\u001b[0;31mNameError\u001b[0m: name 'head' is not defined"
     ]
    }
   ],
   "source": [
    "url = \"https://data.lacity.org/api/views/nxs9-385f/rows.csv?accessType=DOWNLOAD\"\n",
    "import pandas as pd\n",
    "df = pd.read_csv(url)"
   ]
  },
  {
   "cell_type": "code",
   "execution_count": 41,
   "metadata": {},
   "outputs": [
    {
     "name": "stdout",
     "output_type": "stream",
     "text": [
      "     Zip Code  Total Population  Median Age  Total Males  Total Females  \\\n",
      "0       91371                 1        73.5            0              1   \n",
      "1       90001             57110        26.6        28468          28642   \n",
      "2       90002             51223        25.5        24876          26347   \n",
      "3       90003             66266        26.3        32631          33635   \n",
      "4       90004             62180        34.8        31302          30878   \n",
      "5       90005             37681        33.9        19299          18382   \n",
      "6       90006             59185        32.4        30254          28931   \n",
      "7       90007             40920        24.0        20915          20005   \n",
      "8       90008             32327        39.7        14477          17850   \n",
      "9       90010              3800        37.8         1874           1926   \n",
      "10      90011            103892        26.2        52794          51098   \n",
      "11      90012             31103        36.3        19493          11610   \n",
      "12      90013             11772        44.6         7629           4143   \n",
      "13      90014              7005        44.8         4471           2534   \n",
      "14      90015             18986        31.3         9833           9153   \n",
      "15      90016             47596        33.9        22778          24818   \n",
      "16      90017             23768        29.4        12818          10950   \n",
      "17      90018             49310        33.2        23770          25540   \n",
      "18      90019             64458        35.8        31442          33016   \n",
      "19      90020             38967        34.6        19381          19586   \n",
      "20      90021              3951        44.3         2790           1161   \n",
      "21      90022             67179        29.8        33216          33963   \n",
      "22      90023             45903        28.4        23037          22866   \n",
      "23      90024             47452        23.6        22248          25204   \n",
      "24      90025             42147        34.7        20859          21288   \n",
      "25      90026             67869        34.0        34515          33354   \n",
      "26      90027             45151        38.3        22362          22789   \n",
      "27      90028             28714        34.0        16056          12658   \n",
      "28      90029             38617        34.6        19575          19042   \n",
      "29      90031             39316        33.5        19546          19770   \n",
      "..        ...               ...         ...          ...            ...   \n",
      "289     91792             30854        35.3        14950          15904   \n",
      "290     91801             52735        39.1        24833          27902   \n",
      "291     91803             30322        39.6        14486          15836   \n",
      "292     92301             32725        25.6        16857          15868   \n",
      "293     92371             16763        37.9         8565           8198   \n",
      "294     92372              6220        41.8         3136           3084   \n",
      "295     92397              4894        44.1         2522           2372   \n",
      "296     92821             35533        38.7        17338          18195   \n",
      "297     92823              3613        38.6         1757           1856   \n",
      "298     92833             51767        36.0        25643          26124   \n",
      "299     93040              2031        29.3         1052            979   \n",
      "300     93063             54366        39.0        26592          27774   \n",
      "301     93225              5077        44.0         2585           2492   \n",
      "302     93243              1699        40.9          884            815   \n",
      "303     93252              4176        38.4         3301            875   \n",
      "304     93510              7993        45.2         4086           3907   \n",
      "305     93523              3074        27.0         1531           1543   \n",
      "306     93532              2932        41.7         1642           1290   \n",
      "307     93534             39341        31.1        18601          20740   \n",
      "308     93535             72046        28.3        34879          37167   \n",
      "309     93536             70918        34.4        37804          33114   \n",
      "310     93543             13033        32.9         6695           6338   \n",
      "311     93544              1259        52.4          689            570   \n",
      "312     93550             74929        27.5        36414          38515   \n",
      "313     93551             50798        37.0        25056          25742   \n",
      "314     93552             38158        28.4        18711          19447   \n",
      "315     93553              2138        43.3         1121           1017   \n",
      "316     93560             18910        32.4         9491           9419   \n",
      "317     93563               388        44.5          263            125   \n",
      "318     93591              7285        30.9         3653           3632   \n",
      "\n",
      "     Total Households  Average Household Size  \n",
      "0                   1                    1.00  \n",
      "1               12971                    4.40  \n",
      "2               11731                    4.36  \n",
      "3               15642                    4.22  \n",
      "4               22547                    2.73  \n",
      "5               15044                    2.50  \n",
      "6               18617                    3.13  \n",
      "7               11944                    3.00  \n",
      "8               13841                    2.33  \n",
      "9                2014                    1.87  \n",
      "10              22168                    4.67  \n",
      "11              10327                    2.12  \n",
      "12               6416                    1.26  \n",
      "13               4109                    1.34  \n",
      "14               7420                    2.45  \n",
      "15              16145                    2.93  \n",
      "16               9338                    2.53  \n",
      "17              15493                    3.12  \n",
      "18              23344                    2.70  \n",
      "19              16514                    2.35  \n",
      "20               1561                    1.57  \n",
      "21              17023                    3.94  \n",
      "22              10727                    4.26  \n",
      "23              17903                    2.03  \n",
      "24              21228                    1.97  \n",
      "25              24956                    2.68  \n",
      "26              21929                    1.99  \n",
      "27              14964                    1.78  \n",
      "28              13883                    2.70  \n",
      "29              11156                    3.49  \n",
      "..                ...                     ...  \n",
      "289              9154                    3.35  \n",
      "290             19315                    2.71  \n",
      "291              9894                    3.04  \n",
      "292              8132                    3.81  \n",
      "293              5370                    3.11  \n",
      "294              2198                    2.83  \n",
      "295              1998                    2.45  \n",
      "296             13062                    2.72  \n",
      "297              1154                    3.13  \n",
      "298             15849                    3.23  \n",
      "299               522                    3.89  \n",
      "300             18650                    2.90  \n",
      "301              2080                    2.44  \n",
      "302               623                    2.73  \n",
      "303               647                    2.81  \n",
      "304              2729                    2.86  \n",
      "305              1056                    2.91  \n",
      "306              1079                    2.45  \n",
      "307             14038                    2.74  \n",
      "308             20672                    3.44  \n",
      "309             20964                    3.07  \n",
      "310              3560                    3.66  \n",
      "311               569                    2.20  \n",
      "312             20864                    3.58  \n",
      "313             15963                    3.18  \n",
      "314              9690                    3.93  \n",
      "315               816                    2.62  \n",
      "316              6469                    2.92  \n",
      "317               103                    2.53  \n",
      "318              1982                    3.67  \n",
      "\n",
      "[319 rows x 7 columns]\n"
     ]
    }
   ],
   "source": [
    "print(df)"
   ]
  },
  {
   "cell_type": "code",
   "execution_count": 35,
   "metadata": {},
   "outputs": [],
   "source": [
    "url = \"https://data.lacity.org/api/views/nxs9-385f/rows.csv?accessType=DOWNLOAD\"\n",
    "import pandas as pd\n",
    "df = pd.read_csv(url)\n"
   ]
  },
  {
   "cell_type": "code",
   "execution_count": 45,
   "metadata": {},
   "outputs": [
    {
     "data": {
      "text/plain": [
       "0      False\n",
       "1      False\n",
       "2      False\n",
       "3      False\n",
       "4      False\n",
       "5      False\n",
       "6      False\n",
       "7      False\n",
       "8      False\n",
       "9      False\n",
       "10     False\n",
       "11     False\n",
       "12     False\n",
       "13     False\n",
       "14     False\n",
       "15     False\n",
       "16     False\n",
       "17     False\n",
       "18     False\n",
       "19     False\n",
       "20     False\n",
       "21     False\n",
       "22     False\n",
       "23     False\n",
       "24     False\n",
       "25     False\n",
       "26     False\n",
       "27     False\n",
       "28     False\n",
       "29     False\n",
       "       ...  \n",
       "289    False\n",
       "290    False\n",
       "291    False\n",
       "292    False\n",
       "293    False\n",
       "294    False\n",
       "295    False\n",
       "296    False\n",
       "297    False\n",
       "298    False\n",
       "299    False\n",
       "300    False\n",
       "301    False\n",
       "302    False\n",
       "303    False\n",
       "304    False\n",
       "305    False\n",
       "306    False\n",
       "307    False\n",
       "308    False\n",
       "309    False\n",
       "310    False\n",
       "311    False\n",
       "312    False\n",
       "313    False\n",
       "314    False\n",
       "315    False\n",
       "316    False\n",
       "317    False\n",
       "318    False\n",
       "Name: Zip Code, Length: 319, dtype: bool"
      ]
     },
     "execution_count": 45,
     "metadata": {},
     "output_type": "execute_result"
    }
   ],
   "source": [
    "#df.loc[df['Zip Code'] == 90210]\n",
    "df['Zip Code'] == 90210"
   ]
  },
  {
   "cell_type": "code",
   "execution_count": null,
   "metadata": {},
   "outputs": [],
   "source": []
  }
 ],
 "metadata": {
  "kernelspec": {
   "display_name": "Python 3",
   "language": "python",
   "name": "python3"
  },
  "language_info": {
   "codemirror_mode": {
    "name": "ipython",
    "version": 3
   },
   "file_extension": ".py",
   "mimetype": "text/x-python",
   "name": "python",
   "nbconvert_exporter": "python",
   "pygments_lexer": "ipython3",
   "version": "3.7.2"
  }
 },
 "nbformat": 4,
 "nbformat_minor": 2
}
